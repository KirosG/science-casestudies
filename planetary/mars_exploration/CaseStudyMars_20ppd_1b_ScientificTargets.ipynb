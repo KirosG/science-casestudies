{
 "cells": [
  {
   "cell_type": "markdown",
   "metadata": {},
   "source": [
    "<div style=\"font-size:37px; font-weight:bold; line-height:1.1\">\n",
    "    Computer-aided exploration of the Martian geology\n",
    "</div>"
   ]
  },
  {
   "cell_type": "markdown",
   "metadata": {},
   "source": [
    "<p style=\"color:rgb(90,90,90);\">\n",
    "The MIT License (MIT)\n",
    "<br>\n",
    "Copyright (c) 2018 Massachusetts Institute of Technology\n",
    "</p>\n",
    "<p style=\"color:rgb(90,90,90);\">\n",
    "Author: Guillaume Rongier\n",
    "<br>\n",
    "We acknowledge support from NSF ACI1442997 (PI: V. Pankratius) and NASA AISTNNX15AG84G (PI: V. Pankratius).\n",
    "</p>\n",
    "<p style=\"color:rgb(90,90,90);\">\n",
    "Permission is hereby granted, free of charge, to any person obtaining a copy of this software and associated documentation files (the \"Software\"), to deal in the Software without restriction, including without limitation the rights to use, copy, modify, merge, publish, distribute, sublicense, and/or sell copies of the Software, and to permit persons to whom the Software is furnished to do so, subject to the following conditions:\n",
    "</p>\n",
    "<ul style=\"color:rgb(90,90,90);\">\n",
    "<li>The above copyright notice and this permission notice shall be included in all copies or substantial portions of the Software.</li>\n",
    "<li>THE SOFTWARE IS PROVIDED \"AS IS\", WITHOUT WARRANTY OF ANY KIND, EXPRESS OR IMPLIED, INCLUDING BUT NOT LIMITED TO THE WARRANTIES OF MERCHANTABILITY, FITNESS FOR A PARTICULAR PURPOSE AND NONINFRINGEMENT. IN NO EVENT SHALL THE AUTHORS OR COPYRIGHT HOLDERS BE LIABLE FOR ANY CLAIM, DAMAGES OR OTHER LIABILITY, WHETHER IN AN ACTION OF CONTRACT, TORT OR OTHERWISE, ARISING FROM, OUT OF OR IN CONNECTION WITH THE SOFTWARE OR THE USE OR OTHER DEALINGS IN THE SOFTWARE.</li>\n",
    "</ul>"
   ]
  },
  {
   "cell_type": "markdown",
   "metadata": {},
   "source": [
    "This notebook is part of a set of notebooks to compute a favorability map for the selection of landing sites on Mars. A favorable site depends on two main constraints:\n",
    "* Landing constraints which ensure that the system can land on a given area.\n",
    "* Scientific targets which must be visited by a rover after landing, if the rover can drive to them.\n",
    "\n",
    "The notebooks determine this favorability for a rover similar to NASA's Mars 2020 rover at 20 pixels per degree (3 km per pixel at the equator), and investigate our ability to explore Mars with enhanced landing and roving capabilities."
   ]
  },
  {
   "cell_type": "markdown",
   "metadata": {},
   "source": [
    "# Gathering the scientific targets"
   ]
  },
  {
   "cell_type": "markdown",
   "metadata": {
    "collapsed": true
   },
   "source": [
    "Our goal here is to gather all the data locating potential scientific targets. These data are in a vector format, which we need to convert into a raster format to compute the site selection favorability. This is the opportunity to take into account the influence of the terrains on the rover's ability to reach a target.\n",
    "\n",
    "To do so, we use a front propagation method called fast marching [[Sethian, 1996](http://doi.org/10.1073/pnas.93.4.1591)]. It uses a speed map to compute the time required to go from one or several initial cells to any cell inside the map. We already have a speed map which take into account the terrain variability from the previous notebook. Now, we can end up with the time required to drive from the scientific targets to any cell, and inversely."
   ]
  },
  {
   "cell_type": "markdown",
   "metadata": {
    "collapsed": true
   },
   "source": [
    "## Package imports"
   ]
  },
  {
   "cell_type": "markdown",
   "metadata": {},
   "source": [
    "Load some functions for data import, data visualization, and favorability computation."
   ]
  },
  {
   "cell_type": "code",
   "execution_count": 1,
   "metadata": {},
   "outputs": [],
   "source": [
    "%matplotlib notebook\n",
    "\n",
    "from skdiscovery.utilities.planetary.raster_management import *\n",
    "from skdiscovery.utilities.planetary.vector_management import *\n",
    "from skdiscovery.utilities.planetary.geographical_computation import compute_longitude_and_latitude_maps\n",
    "from skdiscovery.utilities.planetary.fast_marching import *\n",
    "\n",
    "import matplotlib.pyplot as plt\n",
    "\n",
    "from shapely.geometry import Point\n",
    "\n",
    "from skimage.transform import resize\n",
    "import struct\n",
    "import pandas as pd"
   ]
  },
  {
   "cell_type": "markdown",
   "metadata": {},
   "source": [
    "## Setting"
   ]
  },
  {
   "cell_type": "markdown",
   "metadata": {},
   "source": [
    "Geographical setting for the rasters."
   ]
  },
  {
   "cell_type": "code",
   "execution_count": 2,
   "metadata": {},
   "outputs": [],
   "source": [
    "mars_radius = 3389500. # meters\n",
    "\n",
    "master_lon_min = -180.\n",
    "master_lon_max = 180.\n",
    "master_lat_min = -90.\n",
    "master_lat_max = 90.\n",
    "master_extent = (master_lon_min, master_lon_max, master_lat_min, master_lat_max)\n",
    "\n",
    "master_width = 7200\n",
    "master_height = 3600\n",
    "master_geotransform = define_geotransform(master_lon_min, master_lon_max, \n",
    "                                          master_lat_min, master_lat_max, \n",
    "                                          master_width, master_height)\n",
    "master_projection = '''PROJCS[\"SimpleCylindrical Mars\",GEOGCS[\"GCS_Mars\",DATUM[\"D_Mars\",SPHEROID[\"Mars\",3396000,0]],PRIMEM[\"Reference_Meridian\",0],UNIT[\"degree\",0.0174532925199433]],PROJECTION[\"Equirectangular\"],PARAMETER[\"latitude_of_origin\",0],PARAMETER[\"central_meridian\",0],PARAMETER[\"standard_parallel_1\",0],PARAMETER[\"false_easting\",0],PARAMETER[\"false_northing\",0]]'''\n",
    "\n",
    "master_spatial_reference_system = osr.SpatialReference(wkt = master_projection)\n",
    "master_central_meridian = 0."
   ]
  },
  {
   "cell_type": "markdown",
   "metadata": {},
   "source": [
    "Folder structure from the base folder *CaseStudyMars_Data*:\n",
    "<pre>\n",
    "Base folder:   CaseStudyMars_Data/\n",
    "               ├── Original_Data/\n",
    "               │   ├── Interpreted_Data/\n",
    "               │   ├── MEX/\n",
    "               │   │   ├── HRSC/\n",
    "               │   │   └── OMEGA/\n",
    "               │   ├── MGS/\n",
    "               │   │   ├── MOLA/\n",
    "               │   │   └── TES/\n",
    "               │   ├── MRO/\n",
    "               │   │   ├── CRISM/\n",
    "               │   │   └── HiRISE/\n",
    "Output folder: └── Raster_Data_20ppd/\n",
    "</pre>"
   ]
  },
  {
   "cell_type": "code",
   "execution_count": 3,
   "metadata": {},
   "outputs": [],
   "source": [
    "base_folder = '/data/Mars/CaseStudyMars_Data/'\n",
    "output_folder = 'Raster_Data_20ppd/'"
   ]
  },
  {
   "cell_type": "markdown",
   "metadata": {},
   "source": [
    "We first choose the speed map for the fast marching. The first one is for a rover similar to NASA's Mars 2020 rover, the other ones for rovers with improving capabilities. The notebook must be run independently for each speed map."
   ]
  },
  {
   "cell_type": "code",
   "execution_count": 4,
   "metadata": {},
   "outputs": [],
   "source": [
    "speed_affix = ''\n",
    "# speed_affix = '_DustTraversable'\n",
    "# speed_affix = '_Speed100'\n",
    "# speed_affix = '_Speed1000'\n",
    "# speed_affix = '_Speed10000'"
   ]
  },
  {
   "cell_type": "markdown",
   "metadata": {},
   "source": [
    "## Data to download before running the notebook"
   ]
  },
  {
   "cell_type": "markdown",
   "metadata": {},
   "source": [
    "You can find below all the links to the scientific targets. The notebook does all the processing on these data to get the travel time maps, and can be run directly after downloading the data.\n",
    "\n",
    "**Integrated Database of Planetary Features [from NASA Ames Center/ICA Commission on Planetary Cartography]**  \n",
    "* **Point data (csv files)**  \n",
    "*Save in CaseStudyMars_Data/Original_Data/Interpreted_Data/*   \n",
    "https://planetarydatabase.files.wordpress.com/2016/09/idpf-9-23-2016-excel97.xls  \n",
    "* **Vector data (shapefiles)**  \n",
    "*Save in CaseStudyMars_Data/Original_Data/Interpreted_Data/*  \n",
    "    - Glacial features  \n",
    "    https://www.dropbox.com/s/59ncn9el0c0p4j7/glacial%20features.zip?dl=0  \n",
    "    - Dune fields  \n",
    "    https://www.dropbox.com/s/vcxayzsehooz1ns/dune-polygon.zip?dl=0  \n",
    "    - Volcanoes  \n",
    "    https://www.dropbox.com/s/vcs45d6lmrlb3q9/volcano.zip?dl=0  \n",
    "    - Calderas  \n",
    "    https://www.dropbox.com/s/vqrupcviapl7stg/caldera3.zip?dl=0  \n",
    "    - Polygonal-ridge networks  \n",
    "    https://www.dropbox.com/s/xremqowcqa35xco/polygonal_ridge.zip?dl=0  \n",
    "\n",
    "**Mars Crater Database [from [Robbins and Hynek (2012)](http://doi.org/10.1029/2011JE003966)]**  \n",
    "*Save in CaseStudyMars_Data/Original_Data/Interpreted_Data/*   \n",
    "http://craters.sjrdesign.net/  (use the default search options) \n",
    "\n",
    "**Geologic map of Mars (3292) and of the northern plains of Mars (2888) [from USGS]**  \n",
    "*Save in CaseStudyMars_Data/Original_Data/Interpreted_Data/*  \n",
    "ftp://pdsimage2.wr.usgs.gov/pub/pigpen/mars/geology/NPlains_geology_SIM2888_2005.zip  \n",
    "ftp://pdsimage2.wr.usgs.gov/pub/pigpen/mars/geology/SIM3292_newGlobalGeology2014/SIM3292_MarsGlobalGeologicGIS_20M.zip  \n",
    "\n",
    "**JMARS [from ASU's Mars Space Flight Facility]**  \n",
    "*In* Human Exploration, Science Survey Maps  \n",
    "*Once loaded, right-click on the data,* Open *,* Adjustments *,* Feature *,* Save all Features As  \n",
    "*Save in CaseStudyMars_Data/Original_Data/Interpreted_Data/*  \n",
    "* Chloride exposures  \n",
    "Called *2010 Chloride Survey* in JMARS  \n",
    "*Save as Chloride-bearing-materials_Osterloo-2010.shp*  \n",
    "* Carbonate exposures  \n",
    "Called *2014 Aqueous Mineral Distribution* in JMARS (save only the points)  \n",
    "*Save as Aqueous-Mineral-Distribution_Ehlmann-Edwards-2014.csv*  \n",
    "\n",
    "**Hydrous mineral exposures [from Mars Express OMEGA]**  \n",
    "*Save in CaseStudyMars_Data/MEX/OMEGA/*  \n",
    "ftp://psa.esac.esa.int/pub/mirror/MARS-EXPRESS/OMEGA/MEX-M-OMEGA-5-DDR-GLOBAL-MAPS-V1.0/DATA/HYDROUS/HYDROUS_SITES_GEO_MAP.CSV \n",
    "\n",
    "**Sedimentary rock exposures [from Edwin Kite, based on [Malin et al. (2010)](http://doi.org/10.1555/mars.2010.0001)]**  \n",
    "*Save in CaseStudyMars_Data/Original_Data/Interpreted_Data/*  \n",
    "http://geosci.uchicago.edu/~kite/stereo/sedrocks_latlong.csv  \n",
    "\n",
    "**Valley networks [from [Hynek et al. (2010)](http://doi.org/10.1029/2009JE003548)]**  \n",
    "*Save in CaseStudyMars_Data/Original_Data/Interpreted_Data/*  \n",
    "ftp://pdsimage2.wr.usgs.gov/pub/pigpen/mars/channels/Hynek/Hynek_Valley_Networks.zip  \n",
    "\n",
    "**Small vents in the Tharsis province**  \n",
    "*Save in CaseStudyMars_Data/Original_Data/Interpreted_Data/*  \n",
    "http://astropedia.astrogeology.usgs.gov/download/Mars/Research/Volcanic/TharsisVents.zip  \n",
    "\n",
    "**Alluvial fans (part 2)**  \n",
    "*Provided with the notebooks as Alluvial-Fans_Metz-et-al-2009.csv in CaseStudyMars_Data/Original_Data/Interpreted_Data/*  \n",
    "Metz et al. (2009)  \n",
    "http://doi.org/doi:10.1029/2009JE003365   \n",
    "\n",
    "**Young deltas**  \n",
    "*Provided with the notebooks as Alluvial-Fans_Metz-et-al-2009.csv in CaseStudyMars_Data/Original_Data/Interpreted_Data/*  \n",
    "Hauber et al. (2013)  \n",
    "http://doi.org/doi:10.1002/jgre.20107  \n",
    "\n",
    "**Subaqueous fans**  \n",
    "*Provided with the notebooks as Alluvial-Fans_Metz-et-al-2009.csv in CaseStudyMars_Data/Original_Data/Interpreted_Data/*  \n",
    "Metz et al. (2009)  \n",
    "http://doi.org/doi:10.1029/2009JE003365  \n",
    "\n",
    "**Outflow channels and large valleys**  \n",
    "*Provided with the notebooks as Alluvial-Fans_Metz-et-al-2009.csv in CaseStudyMars_Data/Original_Data/Interpreted_Data/*  \n",
    "Irwin and Grant (2009)  \n",
    "ISBN: 978-0-511-63563-2  \n",
    "\n",
    "**Potential hydrothermal systems**  \n",
    "*Provided with the notebooks as Alluvial-Fans_Metz-et-al-2009.csv in CaseStudyMars_Data/Original_Data/Interpreted_Data/*  \n",
    "* Farmer (1996)  \n",
    "http://doi.org/10.1002/9780470514986.ch15  \n",
    "* Dohm et al. (2000)  \n",
    "http://adsabs.harvard.edu/abs/2000LPI....31.1613D  \n",
    "* Marzo et al. (2010)  \n",
    "http://doi.org/10.1016/j.icarus.2010.03.013  "
   ]
  },
  {
   "cell_type": "markdown",
   "metadata": {},
   "source": [
    "## Inputs for the fast marching method"
   ]
  },
  {
   "cell_type": "markdown",
   "metadata": {},
   "source": [
    "Import the longitude, latitude and rover speed maps."
   ]
  },
  {
   "cell_type": "code",
   "execution_count": 5,
   "metadata": {},
   "outputs": [],
   "source": [
    "longitude_array, latitude_array = compute_longitude_and_latitude_maps(master_lon_min, master_lon_max, \n",
    "                                                                      master_lat_min, master_lat_max, \n",
    "                                                                      master_width, master_height)"
   ]
  },
  {
   "cell_type": "code",
   "execution_count": 6,
   "metadata": {},
   "outputs": [
    {
     "name": "stdout",
     "output_type": "stream",
     "text": [
      "Driver:  GTiff / GeoTIFF\n",
      "Size of the cube is  7200 x 3600 x 1\n",
      "Projection is  PROJCS[\"SimpleCylindrical Mars\",GEOGCS[\"GCS_Mars\",DATUM[\"D_Mars\",SPHEROID[\"Mars\",3396000,0]],PRIMEM[\"Reference_Meridian\",0],UNIT[\"degree\",0.0174532925199433]],PROJECTION[\"Equirectangular\"],PARAMETER[\"latitude_of_origin\",0],PARAMETER[\"central_meridian\",0],PARAMETER[\"standard_parallel_1\",0],PARAMETER[\"false_easting\",0],PARAMETER[\"false_northing\",0],UNIT[\"metre\",1,AUTHORITY[\"EPSG\",\"9001\"]]]\n",
      "Origin = ( -180.0 , 90.0 )\n",
      "Pixel Size = ( 0.05 , -0.05 )\n"
     ]
    }
   ],
   "source": [
    "raster_rover_speed = open_raster(base_folder + output_folder + 'Interpreted_Data_Rover_Speed' + speed_affix + '.tif')\n",
    "print_raster_info(raster_rover_speed)\n",
    "raster_rover_speed_array = get_raster_array(raster_rover_speed)"
   ]
  },
  {
   "cell_type": "code",
   "execution_count": 7,
   "metadata": {
    "scrolled": false
   },
   "outputs": [
    {
     "data": {
      "application/javascript": [
       "/* Put everything inside the global mpl namespace */\n",
       "window.mpl = {};\n",
       "\n",
       "\n",
       "mpl.get_websocket_type = function() {\n",
       "    if (typeof(WebSocket) !== 'undefined') {\n",
       "        return WebSocket;\n",
       "    } else if (typeof(MozWebSocket) !== 'undefined') {\n",
       "        return MozWebSocket;\n",
       "    } else {\n",
       "        alert('Your browser does not have WebSocket support.' +\n",
       "              'Please try Chrome, Safari or Firefox ≥ 6. ' +\n",
       "              'Firefox 4 and 5 are also supported but you ' +\n",
       "              'have to enable WebSockets in about:config.');\n",
       "    };\n",
       "}\n",
       "\n",
       "mpl.figure = function(figure_id, websocket, ondownload, parent_element) {\n",
       "    this.id = figure_id;\n",
       "\n",
       "    this.ws = websocket;\n",
       "\n",
       "    this.supports_binary = (this.ws.binaryType != undefined);\n",
       "\n",
       "    if (!this.supports_binary) {\n",
       "        var warnings = document.getElementById(\"mpl-warnings\");\n",
       "        if (warnings) {\n",
       "            warnings.style.display = 'block';\n",
       "            warnings.textContent = (\n",
       "                \"This browser does not support binary websocket messages. \" +\n",
       "                    \"Performance may be slow.\");\n",
       "        }\n",
       "    }\n",
       "\n",
       "    this.imageObj = new Image();\n",
       "\n",
       "    this.context = undefined;\n",
       "    this.message = undefined;\n",
       "    this.canvas = undefined;\n",
       "    this.rubberband_canvas = undefined;\n",
       "    this.rubberband_context = undefined;\n",
       "    this.format_dropdown = undefined;\n",
       "\n",
       "    this.image_mode = 'full';\n",
       "\n",
       "    this.root = $('<div/>');\n",
       "    this._root_extra_style(this.root)\n",
       "    this.root.attr('style', 'display: inline-block');\n",
       "\n",
       "    $(parent_element).append(this.root);\n",
       "\n",
       "    this._init_header(this);\n",
       "    this._init_canvas(this);\n",
       "    this._init_toolbar(this);\n",
       "\n",
       "    var fig = this;\n",
       "\n",
       "    this.waiting = false;\n",
       "\n",
       "    this.ws.onopen =  function () {\n",
       "            fig.send_message(\"supports_binary\", {value: fig.supports_binary});\n",
       "            fig.send_message(\"send_image_mode\", {});\n",
       "            if (mpl.ratio != 1) {\n",
       "                fig.send_message(\"set_dpi_ratio\", {'dpi_ratio': mpl.ratio});\n",
       "            }\n",
       "            fig.send_message(\"refresh\", {});\n",
       "        }\n",
       "\n",
       "    this.imageObj.onload = function() {\n",
       "            if (fig.image_mode == 'full') {\n",
       "                // Full images could contain transparency (where diff images\n",
       "                // almost always do), so we need to clear the canvas so that\n",
       "                // there is no ghosting.\n",
       "                fig.context.clearRect(0, 0, fig.canvas.width, fig.canvas.height);\n",
       "            }\n",
       "            fig.context.drawImage(fig.imageObj, 0, 0);\n",
       "        };\n",
       "\n",
       "    this.imageObj.onunload = function() {\n",
       "        fig.ws.close();\n",
       "    }\n",
       "\n",
       "    this.ws.onmessage = this._make_on_message_function(this);\n",
       "\n",
       "    this.ondownload = ondownload;\n",
       "}\n",
       "\n",
       "mpl.figure.prototype._init_header = function() {\n",
       "    var titlebar = $(\n",
       "        '<div class=\"ui-dialog-titlebar ui-widget-header ui-corner-all ' +\n",
       "        'ui-helper-clearfix\"/>');\n",
       "    var titletext = $(\n",
       "        '<div class=\"ui-dialog-title\" style=\"width: 100%; ' +\n",
       "        'text-align: center; padding: 3px;\"/>');\n",
       "    titlebar.append(titletext)\n",
       "    this.root.append(titlebar);\n",
       "    this.header = titletext[0];\n",
       "}\n",
       "\n",
       "\n",
       "\n",
       "mpl.figure.prototype._canvas_extra_style = function(canvas_div) {\n",
       "\n",
       "}\n",
       "\n",
       "\n",
       "mpl.figure.prototype._root_extra_style = function(canvas_div) {\n",
       "\n",
       "}\n",
       "\n",
       "mpl.figure.prototype._init_canvas = function() {\n",
       "    var fig = this;\n",
       "\n",
       "    var canvas_div = $('<div/>');\n",
       "\n",
       "    canvas_div.attr('style', 'position: relative; clear: both; outline: 0');\n",
       "\n",
       "    function canvas_keyboard_event(event) {\n",
       "        return fig.key_event(event, event['data']);\n",
       "    }\n",
       "\n",
       "    canvas_div.keydown('key_press', canvas_keyboard_event);\n",
       "    canvas_div.keyup('key_release', canvas_keyboard_event);\n",
       "    this.canvas_div = canvas_div\n",
       "    this._canvas_extra_style(canvas_div)\n",
       "    this.root.append(canvas_div);\n",
       "\n",
       "    var canvas = $('<canvas/>');\n",
       "    canvas.addClass('mpl-canvas');\n",
       "    canvas.attr('style', \"left: 0; top: 0; z-index: 0; outline: 0\")\n",
       "\n",
       "    this.canvas = canvas[0];\n",
       "    this.context = canvas[0].getContext(\"2d\");\n",
       "\n",
       "    var backingStore = this.context.backingStorePixelRatio ||\n",
       "\tthis.context.webkitBackingStorePixelRatio ||\n",
       "\tthis.context.mozBackingStorePixelRatio ||\n",
       "\tthis.context.msBackingStorePixelRatio ||\n",
       "\tthis.context.oBackingStorePixelRatio ||\n",
       "\tthis.context.backingStorePixelRatio || 1;\n",
       "\n",
       "    mpl.ratio = (window.devicePixelRatio || 1) / backingStore;\n",
       "\n",
       "    var rubberband = $('<canvas/>');\n",
       "    rubberband.attr('style', \"position: absolute; left: 0; top: 0; z-index: 1;\")\n",
       "\n",
       "    var pass_mouse_events = true;\n",
       "\n",
       "    canvas_div.resizable({\n",
       "        start: function(event, ui) {\n",
       "            pass_mouse_events = false;\n",
       "        },\n",
       "        resize: function(event, ui) {\n",
       "            fig.request_resize(ui.size.width, ui.size.height);\n",
       "        },\n",
       "        stop: function(event, ui) {\n",
       "            pass_mouse_events = true;\n",
       "            fig.request_resize(ui.size.width, ui.size.height);\n",
       "        },\n",
       "    });\n",
       "\n",
       "    function mouse_event_fn(event) {\n",
       "        if (pass_mouse_events)\n",
       "            return fig.mouse_event(event, event['data']);\n",
       "    }\n",
       "\n",
       "    rubberband.mousedown('button_press', mouse_event_fn);\n",
       "    rubberband.mouseup('button_release', mouse_event_fn);\n",
       "    // Throttle sequential mouse events to 1 every 20ms.\n",
       "    rubberband.mousemove('motion_notify', mouse_event_fn);\n",
       "\n",
       "    rubberband.mouseenter('figure_enter', mouse_event_fn);\n",
       "    rubberband.mouseleave('figure_leave', mouse_event_fn);\n",
       "\n",
       "    canvas_div.on(\"wheel\", function (event) {\n",
       "        event = event.originalEvent;\n",
       "        event['data'] = 'scroll'\n",
       "        if (event.deltaY < 0) {\n",
       "            event.step = 1;\n",
       "        } else {\n",
       "            event.step = -1;\n",
       "        }\n",
       "        mouse_event_fn(event);\n",
       "    });\n",
       "\n",
       "    canvas_div.append(canvas);\n",
       "    canvas_div.append(rubberband);\n",
       "\n",
       "    this.rubberband = rubberband;\n",
       "    this.rubberband_canvas = rubberband[0];\n",
       "    this.rubberband_context = rubberband[0].getContext(\"2d\");\n",
       "    this.rubberband_context.strokeStyle = \"#000000\";\n",
       "\n",
       "    this._resize_canvas = function(width, height) {\n",
       "        // Keep the size of the canvas, canvas container, and rubber band\n",
       "        // canvas in synch.\n",
       "        canvas_div.css('width', width)\n",
       "        canvas_div.css('height', height)\n",
       "\n",
       "        canvas.attr('width', width * mpl.ratio);\n",
       "        canvas.attr('height', height * mpl.ratio);\n",
       "        canvas.attr('style', 'width: ' + width + 'px; height: ' + height + 'px;');\n",
       "\n",
       "        rubberband.attr('width', width);\n",
       "        rubberband.attr('height', height);\n",
       "    }\n",
       "\n",
       "    // Set the figure to an initial 600x600px, this will subsequently be updated\n",
       "    // upon first draw.\n",
       "    this._resize_canvas(600, 600);\n",
       "\n",
       "    // Disable right mouse context menu.\n",
       "    $(this.rubberband_canvas).bind(\"contextmenu\",function(e){\n",
       "        return false;\n",
       "    });\n",
       "\n",
       "    function set_focus () {\n",
       "        canvas.focus();\n",
       "        canvas_div.focus();\n",
       "    }\n",
       "\n",
       "    window.setTimeout(set_focus, 100);\n",
       "}\n",
       "\n",
       "mpl.figure.prototype._init_toolbar = function() {\n",
       "    var fig = this;\n",
       "\n",
       "    var nav_element = $('<div/>')\n",
       "    nav_element.attr('style', 'width: 100%');\n",
       "    this.root.append(nav_element);\n",
       "\n",
       "    // Define a callback function for later on.\n",
       "    function toolbar_event(event) {\n",
       "        return fig.toolbar_button_onclick(event['data']);\n",
       "    }\n",
       "    function toolbar_mouse_event(event) {\n",
       "        return fig.toolbar_button_onmouseover(event['data']);\n",
       "    }\n",
       "\n",
       "    for(var toolbar_ind in mpl.toolbar_items) {\n",
       "        var name = mpl.toolbar_items[toolbar_ind][0];\n",
       "        var tooltip = mpl.toolbar_items[toolbar_ind][1];\n",
       "        var image = mpl.toolbar_items[toolbar_ind][2];\n",
       "        var method_name = mpl.toolbar_items[toolbar_ind][3];\n",
       "\n",
       "        if (!name) {\n",
       "            // put a spacer in here.\n",
       "            continue;\n",
       "        }\n",
       "        var button = $('<button/>');\n",
       "        button.addClass('ui-button ui-widget ui-state-default ui-corner-all ' +\n",
       "                        'ui-button-icon-only');\n",
       "        button.attr('role', 'button');\n",
       "        button.attr('aria-disabled', 'false');\n",
       "        button.click(method_name, toolbar_event);\n",
       "        button.mouseover(tooltip, toolbar_mouse_event);\n",
       "\n",
       "        var icon_img = $('<span/>');\n",
       "        icon_img.addClass('ui-button-icon-primary ui-icon');\n",
       "        icon_img.addClass(image);\n",
       "        icon_img.addClass('ui-corner-all');\n",
       "\n",
       "        var tooltip_span = $('<span/>');\n",
       "        tooltip_span.addClass('ui-button-text');\n",
       "        tooltip_span.html(tooltip);\n",
       "\n",
       "        button.append(icon_img);\n",
       "        button.append(tooltip_span);\n",
       "\n",
       "        nav_element.append(button);\n",
       "    }\n",
       "\n",
       "    var fmt_picker_span = $('<span/>');\n",
       "\n",
       "    var fmt_picker = $('<select/>');\n",
       "    fmt_picker.addClass('mpl-toolbar-option ui-widget ui-widget-content');\n",
       "    fmt_picker_span.append(fmt_picker);\n",
       "    nav_element.append(fmt_picker_span);\n",
       "    this.format_dropdown = fmt_picker[0];\n",
       "\n",
       "    for (var ind in mpl.extensions) {\n",
       "        var fmt = mpl.extensions[ind];\n",
       "        var option = $(\n",
       "            '<option/>', {selected: fmt === mpl.default_extension}).html(fmt);\n",
       "        fmt_picker.append(option)\n",
       "    }\n",
       "\n",
       "    // Add hover states to the ui-buttons\n",
       "    $( \".ui-button\" ).hover(\n",
       "        function() { $(this).addClass(\"ui-state-hover\");},\n",
       "        function() { $(this).removeClass(\"ui-state-hover\");}\n",
       "    );\n",
       "\n",
       "    var status_bar = $('<span class=\"mpl-message\"/>');\n",
       "    nav_element.append(status_bar);\n",
       "    this.message = status_bar[0];\n",
       "}\n",
       "\n",
       "mpl.figure.prototype.request_resize = function(x_pixels, y_pixels) {\n",
       "    // Request matplotlib to resize the figure. Matplotlib will then trigger a resize in the client,\n",
       "    // which will in turn request a refresh of the image.\n",
       "    this.send_message('resize', {'width': x_pixels, 'height': y_pixels});\n",
       "}\n",
       "\n",
       "mpl.figure.prototype.send_message = function(type, properties) {\n",
       "    properties['type'] = type;\n",
       "    properties['figure_id'] = this.id;\n",
       "    this.ws.send(JSON.stringify(properties));\n",
       "}\n",
       "\n",
       "mpl.figure.prototype.send_draw_message = function() {\n",
       "    if (!this.waiting) {\n",
       "        this.waiting = true;\n",
       "        this.ws.send(JSON.stringify({type: \"draw\", figure_id: this.id}));\n",
       "    }\n",
       "}\n",
       "\n",
       "\n",
       "mpl.figure.prototype.handle_save = function(fig, msg) {\n",
       "    var format_dropdown = fig.format_dropdown;\n",
       "    var format = format_dropdown.options[format_dropdown.selectedIndex].value;\n",
       "    fig.ondownload(fig, format);\n",
       "}\n",
       "\n",
       "\n",
       "mpl.figure.prototype.handle_resize = function(fig, msg) {\n",
       "    var size = msg['size'];\n",
       "    if (size[0] != fig.canvas.width || size[1] != fig.canvas.height) {\n",
       "        fig._resize_canvas(size[0], size[1]);\n",
       "        fig.send_message(\"refresh\", {});\n",
       "    };\n",
       "}\n",
       "\n",
       "mpl.figure.prototype.handle_rubberband = function(fig, msg) {\n",
       "    var x0 = msg['x0'] / mpl.ratio;\n",
       "    var y0 = (fig.canvas.height - msg['y0']) / mpl.ratio;\n",
       "    var x1 = msg['x1'] / mpl.ratio;\n",
       "    var y1 = (fig.canvas.height - msg['y1']) / mpl.ratio;\n",
       "    x0 = Math.floor(x0) + 0.5;\n",
       "    y0 = Math.floor(y0) + 0.5;\n",
       "    x1 = Math.floor(x1) + 0.5;\n",
       "    y1 = Math.floor(y1) + 0.5;\n",
       "    var min_x = Math.min(x0, x1);\n",
       "    var min_y = Math.min(y0, y1);\n",
       "    var width = Math.abs(x1 - x0);\n",
       "    var height = Math.abs(y1 - y0);\n",
       "\n",
       "    fig.rubberband_context.clearRect(\n",
       "        0, 0, fig.canvas.width, fig.canvas.height);\n",
       "\n",
       "    fig.rubberband_context.strokeRect(min_x, min_y, width, height);\n",
       "}\n",
       "\n",
       "mpl.figure.prototype.handle_figure_label = function(fig, msg) {\n",
       "    // Updates the figure title.\n",
       "    fig.header.textContent = msg['label'];\n",
       "}\n",
       "\n",
       "mpl.figure.prototype.handle_cursor = function(fig, msg) {\n",
       "    var cursor = msg['cursor'];\n",
       "    switch(cursor)\n",
       "    {\n",
       "    case 0:\n",
       "        cursor = 'pointer';\n",
       "        break;\n",
       "    case 1:\n",
       "        cursor = 'default';\n",
       "        break;\n",
       "    case 2:\n",
       "        cursor = 'crosshair';\n",
       "        break;\n",
       "    case 3:\n",
       "        cursor = 'move';\n",
       "        break;\n",
       "    }\n",
       "    fig.rubberband_canvas.style.cursor = cursor;\n",
       "}\n",
       "\n",
       "mpl.figure.prototype.handle_message = function(fig, msg) {\n",
       "    fig.message.textContent = msg['message'];\n",
       "}\n",
       "\n",
       "mpl.figure.prototype.handle_draw = function(fig, msg) {\n",
       "    // Request the server to send over a new figure.\n",
       "    fig.send_draw_message();\n",
       "}\n",
       "\n",
       "mpl.figure.prototype.handle_image_mode = function(fig, msg) {\n",
       "    fig.image_mode = msg['mode'];\n",
       "}\n",
       "\n",
       "mpl.figure.prototype.updated_canvas_event = function() {\n",
       "    // Called whenever the canvas gets updated.\n",
       "    this.send_message(\"ack\", {});\n",
       "}\n",
       "\n",
       "// A function to construct a web socket function for onmessage handling.\n",
       "// Called in the figure constructor.\n",
       "mpl.figure.prototype._make_on_message_function = function(fig) {\n",
       "    return function socket_on_message(evt) {\n",
       "        if (evt.data instanceof Blob) {\n",
       "            /* FIXME: We get \"Resource interpreted as Image but\n",
       "             * transferred with MIME type text/plain:\" errors on\n",
       "             * Chrome.  But how to set the MIME type?  It doesn't seem\n",
       "             * to be part of the websocket stream */\n",
       "            evt.data.type = \"image/png\";\n",
       "\n",
       "            /* Free the memory for the previous frames */\n",
       "            if (fig.imageObj.src) {\n",
       "                (window.URL || window.webkitURL).revokeObjectURL(\n",
       "                    fig.imageObj.src);\n",
       "            }\n",
       "\n",
       "            fig.imageObj.src = (window.URL || window.webkitURL).createObjectURL(\n",
       "                evt.data);\n",
       "            fig.updated_canvas_event();\n",
       "            fig.waiting = false;\n",
       "            return;\n",
       "        }\n",
       "        else if (typeof evt.data === 'string' && evt.data.slice(0, 21) == \"data:image/png;base64\") {\n",
       "            fig.imageObj.src = evt.data;\n",
       "            fig.updated_canvas_event();\n",
       "            fig.waiting = false;\n",
       "            return;\n",
       "        }\n",
       "\n",
       "        var msg = JSON.parse(evt.data);\n",
       "        var msg_type = msg['type'];\n",
       "\n",
       "        // Call the  \"handle_{type}\" callback, which takes\n",
       "        // the figure and JSON message as its only arguments.\n",
       "        try {\n",
       "            var callback = fig[\"handle_\" + msg_type];\n",
       "        } catch (e) {\n",
       "            console.log(\"No handler for the '\" + msg_type + \"' message type: \", msg);\n",
       "            return;\n",
       "        }\n",
       "\n",
       "        if (callback) {\n",
       "            try {\n",
       "                // console.log(\"Handling '\" + msg_type + \"' message: \", msg);\n",
       "                callback(fig, msg);\n",
       "            } catch (e) {\n",
       "                console.log(\"Exception inside the 'handler_\" + msg_type + \"' callback:\", e, e.stack, msg);\n",
       "            }\n",
       "        }\n",
       "    };\n",
       "}\n",
       "\n",
       "// from http://stackoverflow.com/questions/1114465/getting-mouse-location-in-canvas\n",
       "mpl.findpos = function(e) {\n",
       "    //this section is from http://www.quirksmode.org/js/events_properties.html\n",
       "    var targ;\n",
       "    if (!e)\n",
       "        e = window.event;\n",
       "    if (e.target)\n",
       "        targ = e.target;\n",
       "    else if (e.srcElement)\n",
       "        targ = e.srcElement;\n",
       "    if (targ.nodeType == 3) // defeat Safari bug\n",
       "        targ = targ.parentNode;\n",
       "\n",
       "    // jQuery normalizes the pageX and pageY\n",
       "    // pageX,Y are the mouse positions relative to the document\n",
       "    // offset() returns the position of the element relative to the document\n",
       "    var x = e.pageX - $(targ).offset().left;\n",
       "    var y = e.pageY - $(targ).offset().top;\n",
       "\n",
       "    return {\"x\": x, \"y\": y};\n",
       "};\n",
       "\n",
       "/*\n",
       " * return a copy of an object with only non-object keys\n",
       " * we need this to avoid circular references\n",
       " * http://stackoverflow.com/a/24161582/3208463\n",
       " */\n",
       "function simpleKeys (original) {\n",
       "  return Object.keys(original).reduce(function (obj, key) {\n",
       "    if (typeof original[key] !== 'object')\n",
       "        obj[key] = original[key]\n",
       "    return obj;\n",
       "  }, {});\n",
       "}\n",
       "\n",
       "mpl.figure.prototype.mouse_event = function(event, name) {\n",
       "    var canvas_pos = mpl.findpos(event)\n",
       "\n",
       "    if (name === 'button_press')\n",
       "    {\n",
       "        this.canvas.focus();\n",
       "        this.canvas_div.focus();\n",
       "    }\n",
       "\n",
       "    var x = canvas_pos.x * mpl.ratio;\n",
       "    var y = canvas_pos.y * mpl.ratio;\n",
       "\n",
       "    this.send_message(name, {x: x, y: y, button: event.button,\n",
       "                             step: event.step,\n",
       "                             guiEvent: simpleKeys(event)});\n",
       "\n",
       "    /* This prevents the web browser from automatically changing to\n",
       "     * the text insertion cursor when the button is pressed.  We want\n",
       "     * to control all of the cursor setting manually through the\n",
       "     * 'cursor' event from matplotlib */\n",
       "    event.preventDefault();\n",
       "    return false;\n",
       "}\n",
       "\n",
       "mpl.figure.prototype._key_event_extra = function(event, name) {\n",
       "    // Handle any extra behaviour associated with a key event\n",
       "}\n",
       "\n",
       "mpl.figure.prototype.key_event = function(event, name) {\n",
       "\n",
       "    // Prevent repeat events\n",
       "    if (name == 'key_press')\n",
       "    {\n",
       "        if (event.which === this._key)\n",
       "            return;\n",
       "        else\n",
       "            this._key = event.which;\n",
       "    }\n",
       "    if (name == 'key_release')\n",
       "        this._key = null;\n",
       "\n",
       "    var value = '';\n",
       "    if (event.ctrlKey && event.which != 17)\n",
       "        value += \"ctrl+\";\n",
       "    if (event.altKey && event.which != 18)\n",
       "        value += \"alt+\";\n",
       "    if (event.shiftKey && event.which != 16)\n",
       "        value += \"shift+\";\n",
       "\n",
       "    value += 'k';\n",
       "    value += event.which.toString();\n",
       "\n",
       "    this._key_event_extra(event, name);\n",
       "\n",
       "    this.send_message(name, {key: value,\n",
       "                             guiEvent: simpleKeys(event)});\n",
       "    return false;\n",
       "}\n",
       "\n",
       "mpl.figure.prototype.toolbar_button_onclick = function(name) {\n",
       "    if (name == 'download') {\n",
       "        this.handle_save(this, null);\n",
       "    } else {\n",
       "        this.send_message(\"toolbar_button\", {name: name});\n",
       "    }\n",
       "};\n",
       "\n",
       "mpl.figure.prototype.toolbar_button_onmouseover = function(tooltip) {\n",
       "    this.message.textContent = tooltip;\n",
       "};\n",
       "mpl.toolbar_items = [[\"Home\", \"Reset original view\", \"fa fa-home icon-home\", \"home\"], [\"Back\", \"Back to  previous view\", \"fa fa-arrow-left icon-arrow-left\", \"back\"], [\"Forward\", \"Forward to next view\", \"fa fa-arrow-right icon-arrow-right\", \"forward\"], [\"\", \"\", \"\", \"\"], [\"Pan\", \"Pan axes with left mouse, zoom with right\", \"fa fa-arrows icon-move\", \"pan\"], [\"Zoom\", \"Zoom to rectangle\", \"fa fa-square-o icon-check-empty\", \"zoom\"], [\"\", \"\", \"\", \"\"], [\"Download\", \"Download plot\", \"fa fa-floppy-o icon-save\", \"download\"]];\n",
       "\n",
       "mpl.extensions = [\"eps\", \"jpeg\", \"pdf\", \"png\", \"ps\", \"raw\", \"svg\", \"tif\"];\n",
       "\n",
       "mpl.default_extension = \"png\";var comm_websocket_adapter = function(comm) {\n",
       "    // Create a \"websocket\"-like object which calls the given IPython comm\n",
       "    // object with the appropriate methods. Currently this is a non binary\n",
       "    // socket, so there is still some room for performance tuning.\n",
       "    var ws = {};\n",
       "\n",
       "    ws.close = function() {\n",
       "        comm.close()\n",
       "    };\n",
       "    ws.send = function(m) {\n",
       "        //console.log('sending', m);\n",
       "        comm.send(m);\n",
       "    };\n",
       "    // Register the callback with on_msg.\n",
       "    comm.on_msg(function(msg) {\n",
       "        //console.log('receiving', msg['content']['data'], msg);\n",
       "        // Pass the mpl event to the overridden (by mpl) onmessage function.\n",
       "        ws.onmessage(msg['content']['data'])\n",
       "    });\n",
       "    return ws;\n",
       "}\n",
       "\n",
       "mpl.mpl_figure_comm = function(comm, msg) {\n",
       "    // This is the function which gets called when the mpl process\n",
       "    // starts-up an IPython Comm through the \"matplotlib\" channel.\n",
       "\n",
       "    var id = msg.content.data.id;\n",
       "    // Get hold of the div created by the display call when the Comm\n",
       "    // socket was opened in Python.\n",
       "    var element = $(\"#\" + id);\n",
       "    var ws_proxy = comm_websocket_adapter(comm)\n",
       "\n",
       "    function ondownload(figure, format) {\n",
       "        window.open(figure.imageObj.src);\n",
       "    }\n",
       "\n",
       "    var fig = new mpl.figure(id, ws_proxy,\n",
       "                           ondownload,\n",
       "                           element.get(0));\n",
       "\n",
       "    // Call onopen now - mpl needs it, as it is assuming we've passed it a real\n",
       "    // web socket which is closed, not our websocket->open comm proxy.\n",
       "    ws_proxy.onopen();\n",
       "\n",
       "    fig.parent_element = element.get(0);\n",
       "    fig.cell_info = mpl.find_output_cell(\"<div id='\" + id + \"'></div>\");\n",
       "    if (!fig.cell_info) {\n",
       "        console.error(\"Failed to find cell for figure\", id, fig);\n",
       "        return;\n",
       "    }\n",
       "\n",
       "    var output_index = fig.cell_info[2]\n",
       "    var cell = fig.cell_info[0];\n",
       "\n",
       "};\n",
       "\n",
       "mpl.figure.prototype.handle_close = function(fig, msg) {\n",
       "    var width = fig.canvas.width/mpl.ratio\n",
       "    fig.root.unbind('remove')\n",
       "\n",
       "    // Update the output cell to use the data from the current canvas.\n",
       "    fig.push_to_output();\n",
       "    var dataURL = fig.canvas.toDataURL();\n",
       "    // Re-enable the keyboard manager in IPython - without this line, in FF,\n",
       "    // the notebook keyboard shortcuts fail.\n",
       "    IPython.keyboard_manager.enable()\n",
       "    $(fig.parent_element).html('<img src=\"' + dataURL + '\" width=\"' + width + '\">');\n",
       "    fig.close_ws(fig, msg);\n",
       "}\n",
       "\n",
       "mpl.figure.prototype.close_ws = function(fig, msg){\n",
       "    fig.send_message('closing', msg);\n",
       "    // fig.ws.close()\n",
       "}\n",
       "\n",
       "mpl.figure.prototype.push_to_output = function(remove_interactive) {\n",
       "    // Turn the data on the canvas into data in the output cell.\n",
       "    var width = this.canvas.width/mpl.ratio\n",
       "    var dataURL = this.canvas.toDataURL();\n",
       "    this.cell_info[1]['text/html'] = '<img src=\"' + dataURL + '\" width=\"' + width + '\">';\n",
       "}\n",
       "\n",
       "mpl.figure.prototype.updated_canvas_event = function() {\n",
       "    // Tell IPython that the notebook contents must change.\n",
       "    IPython.notebook.set_dirty(true);\n",
       "    this.send_message(\"ack\", {});\n",
       "    var fig = this;\n",
       "    // Wait a second, then push the new image to the DOM so\n",
       "    // that it is saved nicely (might be nice to debounce this).\n",
       "    setTimeout(function () { fig.push_to_output() }, 1000);\n",
       "}\n",
       "\n",
       "mpl.figure.prototype._init_toolbar = function() {\n",
       "    var fig = this;\n",
       "\n",
       "    var nav_element = $('<div/>')\n",
       "    nav_element.attr('style', 'width: 100%');\n",
       "    this.root.append(nav_element);\n",
       "\n",
       "    // Define a callback function for later on.\n",
       "    function toolbar_event(event) {\n",
       "        return fig.toolbar_button_onclick(event['data']);\n",
       "    }\n",
       "    function toolbar_mouse_event(event) {\n",
       "        return fig.toolbar_button_onmouseover(event['data']);\n",
       "    }\n",
       "\n",
       "    for(var toolbar_ind in mpl.toolbar_items){\n",
       "        var name = mpl.toolbar_items[toolbar_ind][0];\n",
       "        var tooltip = mpl.toolbar_items[toolbar_ind][1];\n",
       "        var image = mpl.toolbar_items[toolbar_ind][2];\n",
       "        var method_name = mpl.toolbar_items[toolbar_ind][3];\n",
       "\n",
       "        if (!name) { continue; };\n",
       "\n",
       "        var button = $('<button class=\"btn btn-default\" href=\"#\" title=\"' + name + '\"><i class=\"fa ' + image + ' fa-lg\"></i></button>');\n",
       "        button.click(method_name, toolbar_event);\n",
       "        button.mouseover(tooltip, toolbar_mouse_event);\n",
       "        nav_element.append(button);\n",
       "    }\n",
       "\n",
       "    // Add the status bar.\n",
       "    var status_bar = $('<span class=\"mpl-message\" style=\"text-align:right; float: right;\"/>');\n",
       "    nav_element.append(status_bar);\n",
       "    this.message = status_bar[0];\n",
       "\n",
       "    // Add the close button to the window.\n",
       "    var buttongrp = $('<div class=\"btn-group inline pull-right\"></div>');\n",
       "    var button = $('<button class=\"btn btn-mini btn-primary\" href=\"#\" title=\"Stop Interaction\"><i class=\"fa fa-power-off icon-remove icon-large\"></i></button>');\n",
       "    button.click(function (evt) { fig.handle_close(fig, {}); } );\n",
       "    button.mouseover('Stop Interaction', toolbar_mouse_event);\n",
       "    buttongrp.append(button);\n",
       "    var titlebar = this.root.find($('.ui-dialog-titlebar'));\n",
       "    titlebar.prepend(buttongrp);\n",
       "}\n",
       "\n",
       "mpl.figure.prototype._root_extra_style = function(el){\n",
       "    var fig = this\n",
       "    el.on(\"remove\", function(){\n",
       "\tfig.close_ws(fig, {});\n",
       "    });\n",
       "}\n",
       "\n",
       "mpl.figure.prototype._canvas_extra_style = function(el){\n",
       "    // this is important to make the div 'focusable\n",
       "    el.attr('tabindex', 0)\n",
       "    // reach out to IPython and tell the keyboard manager to turn it's self\n",
       "    // off when our div gets focus\n",
       "\n",
       "    // location in version 3\n",
       "    if (IPython.notebook.keyboard_manager) {\n",
       "        IPython.notebook.keyboard_manager.register_events(el);\n",
       "    }\n",
       "    else {\n",
       "        // location in version 2\n",
       "        IPython.keyboard_manager.register_events(el);\n",
       "    }\n",
       "\n",
       "}\n",
       "\n",
       "mpl.figure.prototype._key_event_extra = function(event, name) {\n",
       "    var manager = IPython.notebook.keyboard_manager;\n",
       "    if (!manager)\n",
       "        manager = IPython.keyboard_manager;\n",
       "\n",
       "    // Check for shift+enter\n",
       "    if (event.shiftKey && event.which == 13) {\n",
       "        this.canvas_div.blur();\n",
       "        event.shiftKey = false;\n",
       "        // Send a \"J\" for go to next cell\n",
       "        event.which = 74;\n",
       "        event.keyCode = 74;\n",
       "        manager.command_mode();\n",
       "        manager.handle_keydown(event);\n",
       "    }\n",
       "}\n",
       "\n",
       "mpl.figure.prototype.handle_save = function(fig, msg) {\n",
       "    fig.ondownload(fig, null);\n",
       "}\n",
       "\n",
       "\n",
       "mpl.find_output_cell = function(html_output) {\n",
       "    // Return the cell and output element which can be found *uniquely* in the notebook.\n",
       "    // Note - this is a bit hacky, but it is done because the \"notebook_saving.Notebook\"\n",
       "    // IPython event is triggered only after the cells have been serialised, which for\n",
       "    // our purposes (turning an active figure into a static one), is too late.\n",
       "    var cells = IPython.notebook.get_cells();\n",
       "    var ncells = cells.length;\n",
       "    for (var i=0; i<ncells; i++) {\n",
       "        var cell = cells[i];\n",
       "        if (cell.cell_type === 'code'){\n",
       "            for (var j=0; j<cell.output_area.outputs.length; j++) {\n",
       "                var data = cell.output_area.outputs[j];\n",
       "                if (data.data) {\n",
       "                    // IPython >= 3 moved mimebundle to data attribute of output\n",
       "                    data = data.data;\n",
       "                }\n",
       "                if (data['text/html'] == html_output) {\n",
       "                    return [cell, data, j];\n",
       "                }\n",
       "            }\n",
       "        }\n",
       "    }\n",
       "}\n",
       "\n",
       "// Register the function which deals with the matplotlib target/channel.\n",
       "// The kernel may be null if the page has been refreshed.\n",
       "if (IPython.notebook.kernel != null) {\n",
       "    IPython.notebook.kernel.comm_manager.register_target('matplotlib', mpl.mpl_figure_comm);\n",
       "}\n"
      ],
      "text/plain": [
       "<IPython.core.display.Javascript object>"
      ]
     },
     "metadata": {},
     "output_type": "display_data"
    },
    {
     "data": {
      "text/html": [
       "<img src=\"data:image/png;base64,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\" width=\"1000\">"
      ],
      "text/plain": [
       "<IPython.core.display.HTML object>"
      ]
     },
     "metadata": {},
     "output_type": "display_data"
    }
   ],
   "source": [
    "figure1 = plt.figure(figsize = (10, 5))\n",
    "subfigure1 = figure1.add_subplot(111)\n",
    "basemap1 = Basemap(projection='cyl', resolution = None, lon_0 = 0, lat_0 = 0)\n",
    "add_raster_to_map(basemap1, raster_rover_speed_array, 'Rover speed ($m.sol^{-1}$)')\n",
    "basemap1.drawmeridians(np.arange(0, 360, 30),labels=[False,False,False,True])\n",
    "basemap1.drawparallels(np.arange(-90, 91, 30),labels=[True,False,False,False])\n",
    "plt.show()"
   ]
  },
  {
   "cell_type": "markdown",
   "metadata": {
    "collapsed": true
   },
   "source": [
    "## Scientific targets"
   ]
  },
  {
   "cell_type": "markdown",
   "metadata": {},
   "source": [
    "We initialize an array in which we will rasterize all the targets. It will be used to determine the locations of the time constraints at the end of the notebook."
   ]
  },
  {
   "cell_type": "code",
   "execution_count": 8,
   "metadata": {},
   "outputs": [],
   "source": [
    "scientific_targets_array = np.ones((master_height, master_width), dtype = np.int)"
   ]
  },
  {
   "cell_type": "markdown",
   "metadata": {},
   "source": [
    "We load the geological structures from the geological map of Mars only once."
   ]
  },
  {
   "cell_type": "code",
   "execution_count": 9,
   "metadata": {},
   "outputs": [
    {
     "name": "stdout",
     "output_type": "stream",
     "text": [
      " _______________________________________________________________________________\n",
      "/ Shapefile field names:\n",
      "| \n",
      "| OBJECTID | Morphology | Origin | Interpreta | Preservati | Dimension | Shape_Leng | SphLen_km \n",
      "\\_______________________________________________________________________________\n"
     ]
    }
   ],
   "source": [
    "shapefile_structures = open_shapefile(base_folder + 'Original_Data/Interpreted_Data/SIM3292_MarsGlobalGeologicGIS_20M/SIM3292_Shapefiles/SIM3292_Global_Structure.shp')\n",
    "print_shapefile_field_names(shapefile_structures)"
   ]
  },
  {
   "cell_type": "code",
   "execution_count": 10,
   "metadata": {},
   "outputs": [
    {
     "name": "stdout",
     "output_type": "stream",
     "text": [
      " _______________________________________________________________________________\n",
      "/ Interpreta:\n",
      "| \n",
      "| Caldera rim | Channel axis | Crater rim | Graben axis | Lobate flow | Outflow Channel | Pit crater chain | Ridge | Rille | Scarp | Spiral trough | Wrinkle ridge | Yardangs \n",
      "\\_______________________________________________________________________________\n"
     ]
    }
   ],
   "source": [
    "print_shapefile_unique_field_values(shapefile_structures, 'Interpreta')"
   ]
  },
  {
   "cell_type": "markdown",
   "metadata": {},
   "source": [
    "We do the same with the crater database."
   ]
  },
  {
   "cell_type": "code",
   "execution_count": 11,
   "metadata": {},
   "outputs": [],
   "source": [
    "mars_craters = get_latitude_longitude_from_csv_file(base_folder + 'Original_Data/Interpreted_Data/marscraters.csv',\n",
    "                                                    longitude_column_index = 2,\n",
    "                                                    latitude_column_index = 1,\n",
    "                                                    other_data_column_indexes = [5, 22, 36, 37, 42])"
   ]
  },
  {
   "cell_type": "markdown",
   "metadata": {},
   "source": [
    "### Hydrous minerals"
   ]
  },
  {
   "cell_type": "markdown",
   "metadata": {},
   "source": [
    "**Hydrous-mineral exposures**\n",
    "\n",
    "www.cosmos.esa.int/web/psa/mars-maps"
   ]
  },
  {
   "cell_type": "markdown",
   "metadata": {},
   "source": [
    "For each target type, we need two steps: Rasterize the initial vector data at 20 ppd and perform the fast marching.\n",
    "\n",
    "&#9888; Each fast marching takes about ten minutes."
   ]
  },
  {
   "cell_type": "code",
   "execution_count": 12,
   "metadata": {},
   "outputs": [],
   "source": [
    "hydrous_mineral_exposures = get_latitude_longitude_from_csv_file(base_folder + 'Original_Data/MEX/OMEGA/HYDROUS_SITES_GEO_MAP.CSV')"
   ]
  },
  {
   "cell_type": "code",
   "execution_count": 13,
   "metadata": {},
   "outputs": [],
   "source": [
    "data_type = gdal.GDT_Int32\n",
    "\n",
    "shapes = []\n",
    "for i in range(len(hydrous_mineral_exposures[0])):\n",
    "    feature_geometry = Point(hydrous_mineral_exposures[0][i], hydrous_mineral_exposures[1][i])\n",
    "    shapes.append(feature_geometry)\n",
    "\n",
    "raster_rasterization = rasterize_geometries(shapes, \n",
    "                                            data_type,\n",
    "                                            master_width, \n",
    "                                            master_height,\n",
    "                                            master_geotransform,\n",
    "                                            master_spatial_reference_system)\n",
    "raster_rasterization_array = get_raster_array(raster_rasterization)\n",
    "\n",
    "scientific_targets_array[raster_rasterization_array == 0] = 0"
   ]
  },
  {
   "cell_type": "code",
   "execution_count": 14,
   "metadata": {},
   "outputs": [
    {
     "name": "stdout",
     "output_type": "stream",
     "text": [
      "CPU times: user 11min 1s, sys: 11.8 s, total: 11min 13s\n",
      "Wall time: 10min 58s\n"
     ]
    }
   ],
   "source": [
    "%%time\n",
    "\n",
    "traverse_array = run_fast_marching(raster_rasterization_array,\n",
    "                                   raster_rover_speed_array,\n",
    "                                   longitude_array,\n",
    "                                   latitude_array,\n",
    "                                   mars_radius)"
   ]
  },
  {
   "cell_type": "markdown",
   "metadata": {},
   "source": [
    "Then, export the map to a .tif file."
   ]
  },
  {
   "cell_type": "code",
   "execution_count": 15,
   "metadata": {},
   "outputs": [],
   "source": [
    "data_name = 'Hydrous_Mineral_Exposures'\n",
    "\n",
    "file_path = base_folder + output_folder + 'Interpreted_Data_Traverse_to_' + data_name + speed_affix + '.tif'\n",
    "raster_traverse = create_raster_from_array(traverse_array,           \n",
    "                                           master_geotransform, \n",
    "                                           master_projection,\n",
    "                                           file_type = 'GTiff',\n",
    "                                           file_path = file_path,\n",
    "                                           options = ['COMPRESS=DEFLATE', 'PREDICTOR=3', 'TILED=YES'])\n",
    "raster_traverse = None"
   ]
  },
  {
   "cell_type": "markdown",
   "metadata": {},
   "source": [
    "**Chloride exposures**\n",
    "\n",
    "JMARS"
   ]
  },
  {
   "cell_type": "markdown",
   "metadata": {},
   "source": [
    "The shapefile is defined between 0 and 360 degree E in longitude, we need to convert it to -180 to 180 degree first."
   ]
  },
  {
   "cell_type": "code",
   "execution_count": 16,
   "metadata": {},
   "outputs": [
    {
     "name": "stdout",
     "output_type": "stream",
     "text": [
      " _______________________________________________________________________________\n",
      "/ Shapefile field names:\n",
      "| \n",
      "| Label | DCS_spectr | Lat2 | Lon2 | showlbl | jC_fillclr \n",
      "\\_______________________________________________________________________________\n"
     ]
    }
   ],
   "source": [
    "shapefile_chloride_materials = open_shapefile(base_folder + 'Original_Data/Interpreted_Data/Chloride-bearing-materials_Osterloo-2010.shp')\n",
    "\n",
    "print_shapefile_field_names(shapefile_chloride_materials)"
   ]
  },
  {
   "cell_type": "code",
   "execution_count": 17,
   "metadata": {},
   "outputs": [
    {
     "data": {
      "text/plain": [
       "(0.4769999744270308, 359.7988281305187, -56.08007755780634, 22.97070311277097)"
      ]
     },
     "execution_count": 17,
     "metadata": {},
     "output_type": "execute_result"
    }
   ],
   "source": [
    "shapefile_chloride_materials.GetLayer().GetExtent()"
   ]
  },
  {
   "cell_type": "code",
   "execution_count": 18,
   "metadata": {},
   "outputs": [],
   "source": [
    "clip_polygon_0 = Polygon([(0., -90.), (0., 90.), (180., 90.), (180., -90.)])\n",
    "clip_polygon_180 = Polygon([(180., -90.), (180., 90.), (360., 90.), (360., -90.)])\n",
    "\n",
    "shapefile_chloride_materials_cliped_0 = clip_shapefile(shapefile_chloride_materials, clip_polygon_0)\n",
    "shapefile_chloride_materials_cliped_180 = clip_shapefile(shapefile_chloride_materials, clip_polygon_180)\n",
    "\n",
    "shapefile_chloride_materials_cliped_180 = modify_shapefile_extent(shapefile_chloride_materials_cliped_180, \n",
    "                                                                  180., 360., -90., 90., \n",
    "                                                                  -180., 0., -90., 90.)\n",
    "shapefile_chloride_materials = union_shapefiles(shapefile_chloride_materials_cliped_0,\n",
    "                                                shapefile_chloride_materials_cliped_180)"
   ]
  },
  {
   "cell_type": "markdown",
   "metadata": {},
   "source": [
    "Rasterize the initial vector data at 20 ppd and perform the fast marching."
   ]
  },
  {
   "cell_type": "code",
   "execution_count": 19,
   "metadata": {},
   "outputs": [],
   "source": [
    "projection = shapefile_chloride_materials.GetLayer().GetSpatialRef().ExportToWkt()\n",
    "data_type = gdal.GDT_Int32\n",
    "\n",
    "raster_rasterization = rasterize_shapefile(shapefile_chloride_materials, \n",
    "                                           None,\n",
    "                                           data_type,\n",
    "                                           master_width, \n",
    "                                           master_height,                    \n",
    "                                           master_geotransform, \n",
    "                                           projection)\n",
    "raster_rasterization_array = get_raster_array(raster_rasterization)\n",
    "\n",
    "scientific_targets_array[raster_rasterization_array == 0] = 0"
   ]
  },
  {
   "cell_type": "code",
   "execution_count": 20,
   "metadata": {},
   "outputs": [
    {
     "name": "stdout",
     "output_type": "stream",
     "text": [
      "CPU times: user 10min 4s, sys: 10.3 s, total: 10min 15s\n",
      "Wall time: 10min 1s\n"
     ]
    }
   ],
   "source": [
    "%%time\n",
    "\n",
    "traverse_array = run_fast_marching(raster_rasterization_array,\n",
    "                                   raster_rover_speed_array,\n",
    "                                   longitude_array,\n",
    "                                   latitude_array,\n",
    "                                   mars_radius)"
   ]
  },
  {
   "cell_type": "markdown",
   "metadata": {},
   "source": [
    "Export the map to a .tif file."
   ]
  },
  {
   "cell_type": "code",
   "execution_count": 21,
   "metadata": {},
   "outputs": [],
   "source": [
    "data_name = 'Chloride_Materials'\n",
    "\n",
    "file_path = base_folder + output_folder + 'Interpreted_Data_Traverse_to_' + data_name + speed_affix + '.tif'\n",
    "raster_traverse = create_raster_from_array(traverse_array,           \n",
    "                                           master_geotransform, \n",
    "                                           master_projection,\n",
    "                                           file_type = 'GTiff',\n",
    "                                           file_path = file_path,\n",
    "                                           options = ['COMPRESS=DEFLATE', 'PREDICTOR=3', 'TILED=YES'])\n",
    "raster_traverse = None"
   ]
  },
  {
   "cell_type": "markdown",
   "metadata": {},
   "source": [
    "**Carbonate exposures**\n",
    "\n",
    "JMARS"
   ]
  },
  {
   "cell_type": "markdown",
   "metadata": {},
   "source": [
    "We need to extract the carbonate exposure locations from the shapefile, and convert it from 0 to 360 degree E in longitude, to -180 to 180 degree."
   ]
  },
  {
   "cell_type": "code",
   "execution_count": 22,
   "metadata": {},
   "outputs": [
    {
     "name": "stdout",
     "output_type": "stream",
     "text": [
      " _______________________________________________________________________________\n",
      "/ Shapefile field names:\n",
      "| \n",
      "| Feature | jC_lineclr | filled | Name | jC_fillclr | ShowPoints | Show Outli | Point size | lwidth | Class \n",
      "\\_______________________________________________________________________________\n"
     ]
    }
   ],
   "source": [
    "shapefile_carbonate_rocks = open_shapefile(base_folder + 'Original_Data/Interpreted_Data/Aqueous-Mineral-Distribution_Ehlmann-Edwards-2014.csv.point.shp')\n",
    "print_shapefile_field_names(shapefile_carbonate_rocks)"
   ]
  },
  {
   "cell_type": "code",
   "execution_count": 23,
   "metadata": {},
   "outputs": [
    {
     "name": "stdout",
     "output_type": "stream",
     "text": [
      " _______________________________________________________________________________\n",
      "/ Class:\n",
      "| \n",
      "| carbonate | chloride | phyllosilicate | silica | sulfate \n",
      "\\_______________________________________________________________________________\n"
     ]
    }
   ],
   "source": [
    "print_shapefile_unique_field_values(shapefile_carbonate_rocks, 'Class')"
   ]
  },
  {
   "cell_type": "code",
   "execution_count": 24,
   "metadata": {},
   "outputs": [],
   "source": [
    "shapefile_carbonate_rocks = filter_shapefile(shapefile_carbonate_rocks,\n",
    "                                             'Class', \n",
    "                                             ['carbonate'])"
   ]
  },
  {
   "cell_type": "code",
   "execution_count": 25,
   "metadata": {},
   "outputs": [
    {
     "data": {
      "text/plain": [
       "(45.38999938964844, 336.45001220703125, -20.40999984741211, 64.83999633789062)"
      ]
     },
     "execution_count": 25,
     "metadata": {},
     "output_type": "execute_result"
    }
   ],
   "source": [
    "shapefile_carbonate_rocks.GetLayer().GetExtent()"
   ]
  },
  {
   "cell_type": "code",
   "execution_count": 26,
   "metadata": {},
   "outputs": [],
   "source": [
    "clip_polygon_0 = Polygon([(0., -90.), (0., 90.), (180., 90.), (180., -90.)])\n",
    "clip_polygon_180 = Polygon([(180., -90.), (180., 90.), (360., 90.), (360., -90.)])\n",
    "\n",
    "shapefile_carbonate_rocks_cliped_0 = clip_shapefile(shapefile_carbonate_rocks, clip_polygon_0)\n",
    "shapefile_carbonate_rocks_cliped_180 = clip_shapefile(shapefile_carbonate_rocks, clip_polygon_180)\n",
    "\n",
    "shapefile_carbonate_rocks_cliped_180 = modify_shapefile_extent(shapefile_carbonate_rocks_cliped_180, \n",
    "                                                                180., 360., -90., 90., \n",
    "                                                                -180., 0., -90., 90.)\n",
    "shapefile_carbonate_rocks = union_shapefiles(shapefile_carbonate_rocks_cliped_0,\n",
    "                                             shapefile_carbonate_rocks_cliped_180)"
   ]
  },
  {
   "cell_type": "markdown",
   "metadata": {},
   "source": [
    "Rasterize the initial vector data at 20 ppd and perform the fast marching."
   ]
  },
  {
   "cell_type": "code",
   "execution_count": 27,
   "metadata": {},
   "outputs": [],
   "source": [
    "projection = shapefile_carbonate_rocks.GetLayer().GetSpatialRef().ExportToWkt()\n",
    "data_type = gdal.GDT_Int32\n",
    "\n",
    "raster_rasterization = rasterize_shapefile(shapefile_carbonate_rocks, \n",
    "                                           None,\n",
    "                                           data_type,\n",
    "                                           master_width, \n",
    "                                           master_height,                    \n",
    "                                           master_geotransform, \n",
    "                                           projection)\n",
    "raster_rasterization_array = get_raster_array(raster_rasterization)\n",
    "\n",
    "scientific_targets_array[raster_rasterization_array == 0] = 0"
   ]
  },
  {
   "cell_type": "code",
   "execution_count": 28,
   "metadata": {},
   "outputs": [
    {
     "name": "stdout",
     "output_type": "stream",
     "text": [
      "CPU times: user 9min 2s, sys: 13.5 s, total: 9min 15s\n",
      "Wall time: 8min 58s\n"
     ]
    }
   ],
   "source": [
    "%%time\n",
    "\n",
    "traverse_array = run_fast_marching(raster_rasterization_array,\n",
    "                                   raster_rover_speed_array,\n",
    "                                   longitude_array,\n",
    "                                   latitude_array,\n",
    "                                   mars_radius)"
   ]
  },
  {
   "cell_type": "markdown",
   "metadata": {},
   "source": [
    "Export the map to a .tif file."
   ]
  },
  {
   "cell_type": "code",
   "execution_count": 29,
   "metadata": {},
   "outputs": [],
   "source": [
    "data_name = 'Carbonate_Rocks'\n",
    "\n",
    "file_path = base_folder + output_folder + 'Interpreted_Data_Traverse_to_' + data_name + speed_affix + '.tif'\n",
    "raster_traverse = create_raster_from_array(traverse_array,           \n",
    "                                           master_geotransform, \n",
    "                                           master_projection,\n",
    "                                           file_type = 'GTiff',\n",
    "                                           file_path = file_path,\n",
    "                                           options = ['COMPRESS=DEFLATE', 'PREDICTOR=3', 'TILED=YES'])\n",
    "raster_traverse = None"
   ]
  },
  {
   "cell_type": "markdown",
   "metadata": {},
   "source": [
    "### Sedimentary structures"
   ]
  },
  {
   "cell_type": "markdown",
   "metadata": {
    "collapsed": true
   },
   "source": [
    "**Sedimentary-rock exposures**\n",
    "\n",
    "https://isis.astrogeology.usgs.gov/IsisSupport/index.php?topic=2570.0"
   ]
  },
  {
   "cell_type": "markdown",
   "metadata": {},
   "source": [
    "First, we convert the longitudes to -180 - 180 degree East."
   ]
  },
  {
   "cell_type": "code",
   "execution_count": 30,
   "metadata": {},
   "outputs": [],
   "source": [
    "sedimentary_rock_exposures = get_latitude_longitude_from_csv_file(base_folder + 'Original_Data/Interpreted_Data/sedrocks_latlong.csv')"
   ]
  },
  {
   "cell_type": "code",
   "execution_count": 31,
   "metadata": {},
   "outputs": [],
   "source": [
    "for i in range(len(sedimentary_rock_exposures[0])):\n",
    "    if sedimentary_rock_exposures[0][i] > 180.:\n",
    "        sedimentary_rock_exposures[0][i] = 360. - sedimentary_rock_exposures[0][i]\n",
    "    else:\n",
    "        sedimentary_rock_exposures[0][i] *= -1."
   ]
  },
  {
   "cell_type": "markdown",
   "metadata": {},
   "source": [
    "Rasterize the initial vector data at 20 ppd and perform the fast marching."
   ]
  },
  {
   "cell_type": "code",
   "execution_count": 32,
   "metadata": {},
   "outputs": [],
   "source": [
    "data_type = gdal.GDT_Int32\n",
    "\n",
    "shapes = []\n",
    "for i in range(len(sedimentary_rock_exposures[0])):\n",
    "    feature_geometry = Point(sedimentary_rock_exposures[0][i], sedimentary_rock_exposures[1][i])\n",
    "    shapes.append(feature_geometry)\n",
    "\n",
    "raster_rasterization = rasterize_geometries(shapes, \n",
    "                                            data_type,\n",
    "                                            master_width, \n",
    "                                            master_height,\n",
    "                                            master_geotransform,\n",
    "                                            master_spatial_reference_system)\n",
    "raster_rasterization_array = get_raster_array(raster_rasterization)\n",
    "\n",
    "scientific_targets_array[raster_rasterization_array == 0] = 0"
   ]
  },
  {
   "cell_type": "code",
   "execution_count": 33,
   "metadata": {},
   "outputs": [
    {
     "name": "stdout",
     "output_type": "stream",
     "text": [
      "CPU times: user 10min 13s, sys: 11.6 s, total: 10min 25s\n",
      "Wall time: 10min 9s\n"
     ]
    }
   ],
   "source": [
    "%%time\n",
    "\n",
    "traverse_array = run_fast_marching(raster_rasterization_array,\n",
    "                                   raster_rover_speed_array,\n",
    "                                   longitude_array,\n",
    "                                   latitude_array,\n",
    "                                   mars_radius)"
   ]
  },
  {
   "cell_type": "markdown",
   "metadata": {},
   "source": [
    "Export the map to a .tif file."
   ]
  },
  {
   "cell_type": "code",
   "execution_count": 34,
   "metadata": {},
   "outputs": [],
   "source": [
    "data_name = 'Sedimentary_Rock_Exposures'\n",
    "\n",
    "file_path = base_folder + output_folder + 'Interpreted_Data_Traverse_to_' + data_name + speed_affix + '.tif'\n",
    "raster_traverse = create_raster_from_array(traverse_array,           \n",
    "                                           master_geotransform, \n",
    "                                           master_projection,\n",
    "                                           file_type = 'GTiff',\n",
    "                                           file_path = file_path,\n",
    "                                           options = ['COMPRESS=DEFLATE', 'PREDICTOR=3', 'TILED=YES'])\n",
    "raster_traverse = None"
   ]
  },
  {
   "cell_type": "markdown",
   "metadata": {},
   "source": [
    "**Valley networks**\n",
    "\n",
    "ftp://pdsimage2.wr.usgs.gov/pub/pigpen/mars/channels/Hynek"
   ]
  },
  {
   "cell_type": "markdown",
   "metadata": {},
   "source": [
    "Rasterize the initial vector data at 20 ppd and perform the fast marching."
   ]
  },
  {
   "cell_type": "code",
   "execution_count": 35,
   "metadata": {},
   "outputs": [
    {
     "name": "stdout",
     "output_type": "stream",
     "text": [
      " _______________________________________________________________________________\n",
      "/ Shapefile field names:\n",
      "| \n",
      "| tot_length \n",
      "\\_______________________________________________________________________________\n"
     ]
    }
   ],
   "source": [
    "shapefile_valley_networks = open_shapefile(base_folder + 'Original_Data/Interpreted_Data/Hynek_VNs/Hynek_Valley_Networks.shp')\n",
    "\n",
    "print_shapefile_field_names(shapefile_valley_networks)"
   ]
  },
  {
   "cell_type": "code",
   "execution_count": 36,
   "metadata": {},
   "outputs": [
    {
     "name": "stdout",
     "output_type": "stream",
     "text": [
      "(-10669444.875, 10667322.4531, -4248817.0123, 3187641.742799999)\n",
      "(-10669675.197320545, 10669675.197320545, -5334837.598660273, 5334837.598660273)\n"
     ]
    }
   ],
   "source": [
    "print(shapefile_valley_networks.GetLayer().GetExtent())\n",
    "\n",
    "raster_topo = open_raster(base_folder + 'Original_Data/MGS/MOLA/Mars_MGS_MOLA_DEM_mosaic_global_463m.tif')\n",
    "print(get_raster_extent(raster_topo))"
   ]
  },
  {
   "cell_type": "code",
   "execution_count": 37,
   "metadata": {},
   "outputs": [],
   "source": [
    "x_min, x_max, y_min, y_max = get_raster_extent(raster_topo)\n",
    "\n",
    "shapefile_valley_networks = modify_shapefile_extent(shapefile_valley_networks, \n",
    "                                                    x_min, x_max, y_min, y_max, \n",
    "                                                    master_lon_min, master_lon_max, master_lat_min, master_lat_max,\n",
    "                                                    geom_type = ogr.wkbLineString)\n",
    "\n",
    "projection = shapefile_valley_networks.GetLayer().GetSpatialRef().ExportToWkt()\n",
    "data_type = gdal.GDT_Int32\n",
    "\n",
    "raster_rasterization = rasterize_shapefile(shapefile_valley_networks, \n",
    "                                           None,\n",
    "                                           data_type,\n",
    "                                           master_width, \n",
    "                                           master_height,                    \n",
    "                                           master_geotransform, \n",
    "                                           projection)\n",
    "raster_rasterization_array = get_raster_array(raster_rasterization)\n",
    "\n",
    "scientific_targets_array[raster_rasterization_array == 0] = 0"
   ]
  },
  {
   "cell_type": "code",
   "execution_count": 38,
   "metadata": {},
   "outputs": [
    {
     "name": "stdout",
     "output_type": "stream",
     "text": [
      "CPU times: user 10min 41s, sys: 9.44 s, total: 10min 51s\n",
      "Wall time: 10min 38s\n"
     ]
    }
   ],
   "source": [
    "%%time\n",
    "\n",
    "traverse_array = run_fast_marching(raster_rasterization_array,\n",
    "                                   raster_rover_speed_array,\n",
    "                                   longitude_array,\n",
    "                                   latitude_array,\n",
    "                                   mars_radius)"
   ]
  },
  {
   "cell_type": "markdown",
   "metadata": {},
   "source": [
    "Export the map to a .tif file."
   ]
  },
  {
   "cell_type": "code",
   "execution_count": 39,
   "metadata": {},
   "outputs": [],
   "source": [
    "data_name = 'Valley_Networks'\n",
    "\n",
    "file_path = base_folder + output_folder + 'Interpreted_Data_Traverse_to_' + data_name + speed_affix + '.tif'\n",
    "raster_traverse = create_raster_from_array(traverse_array,           \n",
    "                                           master_geotransform, \n",
    "                                           master_projection,\n",
    "                                           file_type = 'GTiff',\n",
    "                                           file_path = file_path,\n",
    "                                           options = ['COMPRESS=DEFLATE', 'PREDICTOR=3', 'TILED=YES'])\n",
    "raster_traverse = None"
   ]
  },
  {
   "cell_type": "markdown",
   "metadata": {},
   "source": [
    "**Glaciofluvial valleys**\n",
    "\n",
    "https://planetarydatabase.wordpress.com/2016/04/21/potential-glaciofluvial-valleys-on-mars"
   ]
  },
  {
   "cell_type": "markdown",
   "metadata": {},
   "source": [
    "Rasterize the initial vector data at 20 ppd and perform the fast marching."
   ]
  },
  {
   "cell_type": "code",
   "execution_count": 40,
   "metadata": {
    "scrolled": true
   },
   "outputs": [],
   "source": [
    "glaciofluvial_valleys = pd.read_excel(base_folder + 'Original_Data/Interpreted_Data/idpf-9-23-2016-excel97.xls',\n",
    "                                      sheet_name = 'Glaciofl... (Fassett et al. 201')"
   ]
  },
  {
   "cell_type": "code",
   "execution_count": 41,
   "metadata": {},
   "outputs": [],
   "source": [
    "data_type = gdal.GDT_Int32\n",
    "\n",
    "shapes = []\n",
    "for index, row in glaciofluvial_valleys.iterrows():\n",
    "    feature_geometry = Point(row['Lon 180'], row['Lat'])\n",
    "    shapes.append(feature_geometry)\n",
    "\n",
    "raster_rasterization = rasterize_geometries(shapes, \n",
    "                                            data_type,\n",
    "                                            master_width, \n",
    "                                            master_height,\n",
    "                                            master_geotransform,\n",
    "                                            master_spatial_reference_system)\n",
    "raster_rasterization_array = get_raster_array(raster_rasterization)\n",
    "\n",
    "scientific_targets_array[raster_rasterization_array == 0] = 0"
   ]
  },
  {
   "cell_type": "code",
   "execution_count": 42,
   "metadata": {},
   "outputs": [
    {
     "name": "stdout",
     "output_type": "stream",
     "text": [
      "CPU times: user 8min 28s, sys: 14.8 s, total: 8min 43s\n",
      "Wall time: 8min 23s\n"
     ]
    }
   ],
   "source": [
    "%%time\n",
    "\n",
    "traverse_array = run_fast_marching(raster_rasterization_array,\n",
    "                                   raster_rover_speed_array,\n",
    "                                   longitude_array,\n",
    "                                   latitude_array,\n",
    "                                   mars_radius)"
   ]
  },
  {
   "cell_type": "markdown",
   "metadata": {},
   "source": [
    "Export the map to a .tif file."
   ]
  },
  {
   "cell_type": "code",
   "execution_count": 43,
   "metadata": {},
   "outputs": [],
   "source": [
    "data_name = 'Glaciofluvial_Valleys'\n",
    "\n",
    "file_path = base_folder + output_folder + 'Interpreted_Data_Traverse_to_' + data_name + speed_affix + '.tif'\n",
    "raster_traverse = create_raster_from_array(traverse_array,           \n",
    "                                           master_geotransform, \n",
    "                                           master_projection,\n",
    "                                           file_type = 'GTiff',\n",
    "                                           file_path = file_path,\n",
    "                                           options = ['COMPRESS=DEFLATE', 'PREDICTOR=3', 'TILED=YES'])\n",
    "raster_traverse = None"
   ]
  },
  {
   "cell_type": "markdown",
   "metadata": {},
   "source": [
    "**Crater-wall channels**\n",
    "\n",
    "http://craters.sjrdesign.net/"
   ]
  },
  {
   "cell_type": "markdown",
   "metadata": {},
   "source": [
    "Rasterize the initial vector data at 20 ppd and perform the fast marching."
   ]
  },
  {
   "cell_type": "code",
   "execution_count": 44,
   "metadata": {},
   "outputs": [],
   "source": [
    "data_type = gdal.GDT_Int32\n",
    "\n",
    "shapes = []\n",
    "for crater in zip(*mars_craters):\n",
    "    if 'Channels' in crater[4] or 'Channel' in crater[4] or 'Channsl' in crater[4]:\n",
    "        feature_geometry = Point(crater[0], crater[1])\n",
    "        shapes.append(feature_geometry)\n",
    "\n",
    "raster_rasterization = rasterize_geometries(shapes, \n",
    "                                            data_type,\n",
    "                                            master_width, \n",
    "                                            master_height,\n",
    "                                            master_geotransform,\n",
    "                                            master_spatial_reference_system)\n",
    "raster_rasterization_array = get_raster_array(raster_rasterization)\n",
    "\n",
    "scientific_targets_array[raster_rasterization_array == 0] = 0"
   ]
  },
  {
   "cell_type": "code",
   "execution_count": 45,
   "metadata": {},
   "outputs": [
    {
     "name": "stdout",
     "output_type": "stream",
     "text": [
      "CPU times: user 8min 49s, sys: 9.6 s, total: 8min 59s\n",
      "Wall time: 8min 45s\n"
     ]
    }
   ],
   "source": [
    "%%time\n",
    "\n",
    "traverse_array = run_fast_marching(raster_rasterization_array,\n",
    "                                   raster_rover_speed_array,\n",
    "                                   longitude_array,\n",
    "                                   latitude_array,\n",
    "                                   mars_radius)"
   ]
  },
  {
   "cell_type": "markdown",
   "metadata": {},
   "source": [
    "Export the map to a .tif file."
   ]
  },
  {
   "cell_type": "code",
   "execution_count": 46,
   "metadata": {},
   "outputs": [],
   "source": [
    "data_name = 'Crater_Wall_Channels'\n",
    "\n",
    "file_path = base_folder + output_folder + 'Interpreted_Data_Traverse_to_' + data_name + speed_affix + '.tif'\n",
    "raster_traverse = create_raster_from_array(traverse_array,           \n",
    "                                           master_geotransform, \n",
    "                                           master_projection,\n",
    "                                           file_type = 'GTiff',\n",
    "                                           file_path = file_path,\n",
    "                                           options = ['COMPRESS=DEFLATE', 'PREDICTOR=3', 'TILED=YES'])\n",
    "raster_traverse = None"
   ]
  },
  {
   "cell_type": "markdown",
   "metadata": {},
   "source": [
    "**Crater-floor channels**\n",
    "\n",
    "http://craters.sjrdesign.net/"
   ]
  },
  {
   "cell_type": "markdown",
   "metadata": {},
   "source": [
    "Rasterize the initial vector data at 20 ppd and perform the fast marching."
   ]
  },
  {
   "cell_type": "code",
   "execution_count": 47,
   "metadata": {},
   "outputs": [],
   "source": [
    "data_type = gdal.GDT_Int32\n",
    "\n",
    "shapes = []\n",
    "for crater in zip(*mars_craters):\n",
    "    if 'Channels' in crater[5] or 'Channel' in crater[5]:\n",
    "        feature_geometry = Point(crater[0], crater[1])\n",
    "        shapes.append(feature_geometry)\n",
    "\n",
    "raster_rasterization = rasterize_geometries(shapes, \n",
    "                                            data_type,\n",
    "                                            master_width, \n",
    "                                            master_height,\n",
    "                                            master_geotransform,\n",
    "                                            master_spatial_reference_system)\n",
    "raster_rasterization_array = get_raster_array(raster_rasterization)\n",
    "\n",
    "scientific_targets_array[raster_rasterization_array == 0] = 0"
   ]
  },
  {
   "cell_type": "code",
   "execution_count": 48,
   "metadata": {},
   "outputs": [
    {
     "name": "stdout",
     "output_type": "stream",
     "text": [
      "CPU times: user 10min 7s, sys: 9.27 s, total: 10min 16s\n",
      "Wall time: 10min 3s\n"
     ]
    }
   ],
   "source": [
    "%%time\n",
    "\n",
    "traverse_array = run_fast_marching(raster_rasterization_array,\n",
    "                                   raster_rover_speed_array,\n",
    "                                   longitude_array,\n",
    "                                   latitude_array,\n",
    "                                   mars_radius)"
   ]
  },
  {
   "cell_type": "markdown",
   "metadata": {},
   "source": [
    "Export the map to a .tif file."
   ]
  },
  {
   "cell_type": "code",
   "execution_count": 49,
   "metadata": {},
   "outputs": [],
   "source": [
    "data_name = 'Crater_Floor_Channels'\n",
    "\n",
    "file_path = base_folder + output_folder + 'Interpreted_Data_Traverse_to_' + data_name + speed_affix + '.tif'\n",
    "raster_traverse = create_raster_from_array(traverse_array,           \n",
    "                                           master_geotransform, \n",
    "                                           master_projection,\n",
    "                                           file_type = 'GTiff',\n",
    "                                           file_path = file_path,\n",
    "                                           options = ['COMPRESS=DEFLATE', 'PREDICTOR=3', 'TILED=YES'])\n",
    "raster_traverse = None"
   ]
  },
  {
   "cell_type": "markdown",
   "metadata": {},
   "source": [
    "**Alluvial fans**\n",
    "\n",
    "https://planetarydatabase.wordpress.com/2016/04/21/alluvial-fans-on-mars and Metz et al. (2009)"
   ]
  },
  {
   "cell_type": "markdown",
   "metadata": {},
   "source": [
    "Rasterize the initial vector data at 20 ppd and perform the fast marching."
   ]
  },
  {
   "cell_type": "code",
   "execution_count": 50,
   "metadata": {},
   "outputs": [],
   "source": [
    "alluvial_fans = pd.read_excel(base_folder + 'Original_Data/Interpreted_Data/idpf-9-23-2016-excel97.xls',\n",
    "                              sheet_name = 'Fan (Moore + Kraal)')\n",
    "alluvial_fans_part2 = get_latitude_longitude_from_csv_file(base_folder + 'Original_Data/Interpreted_Data/Alluvial-Fans_Metz-et-al-2009.csv',\n",
    "                                                           longitude_column_index = 0, latitude_column_index = 1)"
   ]
  },
  {
   "cell_type": "code",
   "execution_count": 51,
   "metadata": {},
   "outputs": [],
   "source": [
    "data_type = gdal.GDT_Int32\n",
    "\n",
    "shapes = []\n",
    "for index, row in alluvial_fans.iterrows():\n",
    "    feature_geometry = Point(row['Apex longitude, E 180'], row['Apex latitude'])\n",
    "    shapes.append(feature_geometry)\n",
    "for i in range(len(alluvial_fans_part2[0])):\n",
    "    feature_geometry = Point(alluvial_fans_part2[0][i], alluvial_fans_part2[1][i])\n",
    "    shapes.append(feature_geometry)\n",
    "\n",
    "raster_rasterization = rasterize_geometries(shapes, \n",
    "                                            data_type,\n",
    "                                            master_width, \n",
    "                                            master_height,\n",
    "                                            master_geotransform,\n",
    "                                            master_spatial_reference_system)\n",
    "raster_rasterization_array = get_raster_array(raster_rasterization)\n",
    "\n",
    "scientific_targets_array[raster_rasterization_array == 0] = 0"
   ]
  },
  {
   "cell_type": "code",
   "execution_count": 52,
   "metadata": {},
   "outputs": [
    {
     "name": "stdout",
     "output_type": "stream",
     "text": [
      "CPU times: user 8min 16s, sys: 13.3 s, total: 8min 29s\n",
      "Wall time: 8min 11s\n"
     ]
    }
   ],
   "source": [
    "%%time\n",
    "\n",
    "traverse_array = run_fast_marching(raster_rasterization_array,\n",
    "                                   raster_rover_speed_array,\n",
    "                                   longitude_array,\n",
    "                                   latitude_array,\n",
    "                                   mars_radius)"
   ]
  },
  {
   "cell_type": "markdown",
   "metadata": {},
   "source": [
    "Export the map to a .tif file."
   ]
  },
  {
   "cell_type": "code",
   "execution_count": 53,
   "metadata": {},
   "outputs": [],
   "source": [
    "data_name = 'Alluvial_Fans'\n",
    "\n",
    "file_path = base_folder + output_folder + 'Interpreted_Data_Traverse_to_' + data_name + speed_affix + '.tif'\n",
    "raster_traverse = create_raster_from_array(traverse_array,           \n",
    "                                           master_geotransform, \n",
    "                                           master_projection,\n",
    "                                           file_type = 'GTiff',\n",
    "                                           file_path = file_path,\n",
    "                                           options = ['COMPRESS=DEFLATE', 'PREDICTOR=3', 'TILED=YES'])\n",
    "raster_traverse = None"
   ]
  },
  {
   "cell_type": "markdown",
   "metadata": {},
   "source": [
    "**Deltaic deposits**\n",
    "\n",
    "https://planetarydatabase.wordpress.com/2016/04/21/deltaic-deposits-on-mars"
   ]
  },
  {
   "cell_type": "markdown",
   "metadata": {},
   "source": [
    "Rasterize the initial vector data at 20 ppd and perform the fast marching."
   ]
  },
  {
   "cell_type": "code",
   "execution_count": 54,
   "metadata": {},
   "outputs": [],
   "source": [
    "deltaic_deposits = pd.read_excel(base_folder + 'Original_Data/Interpreted_Data/idpf-9-23-2016-excel97.xls',\n",
    "                                 sheet_name = 'Delta (di Achille.. 2010)')"
   ]
  },
  {
   "cell_type": "code",
   "execution_count": 55,
   "metadata": {},
   "outputs": [],
   "source": [
    "data_type = gdal.GDT_Int32\n",
    "\n",
    "shapes = []\n",
    "for index, row in deltaic_deposits.iterrows():\n",
    "    feature_geometry = Point(row['Lon E 180'], row['Lat'])\n",
    "    shapes.append(feature_geometry)\n",
    "\n",
    "raster_rasterization = rasterize_geometries(shapes, \n",
    "                                            data_type,\n",
    "                                            master_width, \n",
    "                                            master_height,\n",
    "                                            master_geotransform,\n",
    "                                            master_spatial_reference_system)\n",
    "raster_rasterization_array = get_raster_array(raster_rasterization)\n",
    "\n",
    "scientific_targets_array[raster_rasterization_array == 0] = 0"
   ]
  },
  {
   "cell_type": "code",
   "execution_count": 56,
   "metadata": {},
   "outputs": [
    {
     "name": "stdout",
     "output_type": "stream",
     "text": [
      "CPU times: user 8min 55s, sys: 11.3 s, total: 9min 7s\n",
      "Wall time: 8min 51s\n"
     ]
    }
   ],
   "source": [
    "%%time\n",
    "\n",
    "traverse_array = run_fast_marching(raster_rasterization_array,\n",
    "                                   raster_rover_speed_array,\n",
    "                                   longitude_array,\n",
    "                                   latitude_array,\n",
    "                                   mars_radius)"
   ]
  },
  {
   "cell_type": "markdown",
   "metadata": {},
   "source": [
    "Export the map to a .tif file."
   ]
  },
  {
   "cell_type": "code",
   "execution_count": 57,
   "metadata": {},
   "outputs": [],
   "source": [
    "data_name = 'Deltaic_Deposits'\n",
    "\n",
    "file_path = base_folder + output_folder + 'Interpreted_Data_Traverse_to_' + data_name + speed_affix + '.tif'\n",
    "raster_traverse = create_raster_from_array(traverse_array,           \n",
    "                                           master_geotransform, \n",
    "                                           master_projection,\n",
    "                                           file_type = 'GTiff',\n",
    "                                           file_path = file_path,\n",
    "                                           options = ['COMPRESS=DEFLATE', 'PREDICTOR=3', 'TILED=YES'])\n",
    "raster_traverse = None"
   ]
  },
  {
   "cell_type": "markdown",
   "metadata": {},
   "source": [
    "**Young deltas**\n",
    "\n",
    "Hauber et al. (2013)"
   ]
  },
  {
   "cell_type": "markdown",
   "metadata": {},
   "source": [
    "Rasterize the initial vector data at 20 ppd and perform the fast marching."
   ]
  },
  {
   "cell_type": "code",
   "execution_count": 58,
   "metadata": {},
   "outputs": [],
   "source": [
    "young_deltas = get_latitude_longitude_from_csv_file(base_folder + 'Original_Data/Interpreted_Data/Young-Deltas_Hauber-et-al-2013.csv',\n",
    "                                                    longitude_column_index = 4, latitude_column_index = 2)"
   ]
  },
  {
   "cell_type": "code",
   "execution_count": 59,
   "metadata": {},
   "outputs": [],
   "source": [
    "data_type = gdal.GDT_Int32\n",
    "\n",
    "shapes = []\n",
    "for i in range(len(young_deltas[0])):\n",
    "    feature_geometry = Point(young_deltas[0][i], young_deltas[1][i])\n",
    "    shapes.append(feature_geometry)\n",
    "\n",
    "raster_rasterization = rasterize_geometries(shapes, \n",
    "                                            data_type,\n",
    "                                            master_width, \n",
    "                                            master_height,\n",
    "                                            master_geotransform,\n",
    "                                            master_spatial_reference_system)\n",
    "raster_rasterization_array = get_raster_array(raster_rasterization)\n",
    "\n",
    "scientific_targets_array[raster_rasterization_array == 0] = 0"
   ]
  },
  {
   "cell_type": "code",
   "execution_count": 60,
   "metadata": {},
   "outputs": [
    {
     "name": "stdout",
     "output_type": "stream",
     "text": [
      "CPU times: user 9min 48s, sys: 14.5 s, total: 10min 3s\n",
      "Wall time: 9min 43s\n"
     ]
    }
   ],
   "source": [
    "%%time\n",
    "\n",
    "traverse_array = run_fast_marching(raster_rasterization_array,\n",
    "                                   raster_rover_speed_array,\n",
    "                                   longitude_array,\n",
    "                                   latitude_array,\n",
    "                                   mars_radius)"
   ]
  },
  {
   "cell_type": "markdown",
   "metadata": {},
   "source": [
    "Export the map to a .tif file."
   ]
  },
  {
   "cell_type": "code",
   "execution_count": 61,
   "metadata": {},
   "outputs": [],
   "source": [
    "data_name = 'Young_Deltas'\n",
    "\n",
    "file_path = base_folder + output_folder + 'Interpreted_Data_Traverse_to_' + data_name + speed_affix + '.tif'\n",
    "raster_traverse = create_raster_from_array(traverse_array,           \n",
    "                                           master_geotransform, \n",
    "                                           master_projection,\n",
    "                                           file_type = 'GTiff',\n",
    "                                           file_path = file_path,\n",
    "                                           options = ['COMPRESS=DEFLATE', 'PREDICTOR=3', 'TILED=YES'])\n",
    "raster_traverse = None"
   ]
  },
  {
   "cell_type": "markdown",
   "metadata": {},
   "source": [
    "**Subaqueous fans**\n",
    "\n",
    "Metz et al. (2009)"
   ]
  },
  {
   "cell_type": "markdown",
   "metadata": {},
   "source": [
    "Rasterize the initial vector data at 20 ppd and perform the fast marching."
   ]
  },
  {
   "cell_type": "code",
   "execution_count": 62,
   "metadata": {},
   "outputs": [],
   "source": [
    "subaqueous_fans = get_latitude_longitude_from_csv_file(base_folder + 'Original_Data/Interpreted_Data/Sublacustrine-Fans_Metz-et-al-2009.csv',\n",
    "                                                       longitude_column_index = 0, latitude_column_index = 1)"
   ]
  },
  {
   "cell_type": "code",
   "execution_count": 63,
   "metadata": {},
   "outputs": [],
   "source": [
    "data_type = gdal.GDT_Int32\n",
    "\n",
    "shapes = []\n",
    "for i in range(len(subaqueous_fans[0])):\n",
    "    feature_geometry = Point(subaqueous_fans[0][i], subaqueous_fans[1][i])\n",
    "    shapes.append(feature_geometry)\n",
    "\n",
    "raster_rasterization = rasterize_geometries(shapes, \n",
    "                                            data_type,\n",
    "                                            master_width, \n",
    "                                            master_height,\n",
    "                                            master_geotransform,\n",
    "                                            master_spatial_reference_system)\n",
    "raster_rasterization_array = get_raster_array(raster_rasterization)\n",
    "\n",
    "scientific_targets_array[raster_rasterization_array == 0] = 0"
   ]
  },
  {
   "cell_type": "code",
   "execution_count": 64,
   "metadata": {},
   "outputs": [
    {
     "name": "stdout",
     "output_type": "stream",
     "text": [
      "CPU times: user 9min 40s, sys: 13.4 s, total: 9min 54s\n",
      "Wall time: 9min 35s\n"
     ]
    }
   ],
   "source": [
    "%%time\n",
    "\n",
    "traverse_array = run_fast_marching(raster_rasterization_array,\n",
    "                                   raster_rover_speed_array,\n",
    "                                   longitude_array,\n",
    "                                   latitude_array,\n",
    "                                   mars_radius)"
   ]
  },
  {
   "cell_type": "markdown",
   "metadata": {},
   "source": [
    "Export the map to a .tif file."
   ]
  },
  {
   "cell_type": "code",
   "execution_count": 65,
   "metadata": {},
   "outputs": [],
   "source": [
    "data_name = 'Subaqueous_Fans'\n",
    "\n",
    "file_path = base_folder + output_folder + 'Interpreted_Data_Traverse_to_' + data_name + speed_affix + '.tif'\n",
    "raster_traverse = create_raster_from_array(traverse_array,           \n",
    "                                           master_geotransform, \n",
    "                                           master_projection,\n",
    "                                           file_type = 'GTiff',\n",
    "                                           file_path = file_path,\n",
    "                                           options = ['COMPRESS=DEFLATE', 'PREDICTOR=3', 'TILED=YES'])\n",
    "raster_traverse = None"
   ]
  },
  {
   "cell_type": "markdown",
   "metadata": {},
   "source": [
    "**Crater-floor valley deposits**\n",
    "\n",
    "http://craters.sjrdesign.net/"
   ]
  },
  {
   "cell_type": "markdown",
   "metadata": {},
   "source": [
    "Rasterize the initial vector data at 20 ppd and perform the fast marching."
   ]
  },
  {
   "cell_type": "code",
   "execution_count": 66,
   "metadata": {},
   "outputs": [],
   "source": [
    "data_type = gdal.GDT_Int32\n",
    "\n",
    "shapes = []\n",
    "for crater in zip(*mars_craters):\n",
    "    if 'Valley Deposits' in crater[5]:\n",
    "        feature_geometry = Point(crater[0], crater[1])\n",
    "        shapes.append(feature_geometry)\n",
    "\n",
    "raster_rasterization = rasterize_geometries(shapes, \n",
    "                                            data_type,\n",
    "                                            master_width, \n",
    "                                            master_height,\n",
    "                                            master_geotransform,\n",
    "                                            master_spatial_reference_system)\n",
    "raster_rasterization_array = get_raster_array(raster_rasterization)\n",
    "\n",
    "scientific_targets_array[raster_rasterization_array == 0] = 0"
   ]
  },
  {
   "cell_type": "code",
   "execution_count": 67,
   "metadata": {},
   "outputs": [
    {
     "name": "stdout",
     "output_type": "stream",
     "text": [
      "CPU times: user 9min 51s, sys: 11.7 s, total: 10min 2s\n",
      "Wall time: 9min 46s\n"
     ]
    }
   ],
   "source": [
    "%%time\n",
    "\n",
    "traverse_array = run_fast_marching(raster_rasterization_array,\n",
    "                                   raster_rover_speed_array,\n",
    "                                   longitude_array,\n",
    "                                   latitude_array,\n",
    "                                   mars_radius)"
   ]
  },
  {
   "cell_type": "markdown",
   "metadata": {},
   "source": [
    "Export the map to a .tif file."
   ]
  },
  {
   "cell_type": "code",
   "execution_count": 68,
   "metadata": {},
   "outputs": [],
   "source": [
    "data_name = 'Crater_Floor_Valley_Deposits'\n",
    "\n",
    "file_path = base_folder + output_folder + 'Interpreted_Data_Traverse_to_' + data_name + speed_affix + '.tif'\n",
    "raster_traverse = create_raster_from_array(traverse_array,           \n",
    "                                           master_geotransform, \n",
    "                                           master_projection,\n",
    "                                           file_type = 'GTiff',\n",
    "                                           file_path = file_path,\n",
    "                                           options = ['COMPRESS=DEFLATE', 'PREDICTOR=3', 'TILED=YES'])\n",
    "raster_traverse = None"
   ]
  },
  {
   "cell_type": "markdown",
   "metadata": {},
   "source": [
    "**Open-basin lakes**\n",
    "\n",
    "https://planetarydatabase.wordpress.com/2016/04/21/open-basin-lakes-on-mars"
   ]
  },
  {
   "cell_type": "markdown",
   "metadata": {},
   "source": [
    "Rasterize the initial vector data at 20 ppd and perform the fast marching."
   ]
  },
  {
   "cell_type": "code",
   "execution_count": 69,
   "metadata": {},
   "outputs": [],
   "source": [
    "open_basin_lakes = pd.read_excel(base_folder + 'Original_Data/Interpreted_Data/idpf-9-23-2016-excel97.xls',\n",
    "                                 sheet_name = 'Open basin (Goudge et al. 2012)')"
   ]
  },
  {
   "cell_type": "code",
   "execution_count": 70,
   "metadata": {},
   "outputs": [],
   "source": [
    "data_type = gdal.GDT_Int32\n",
    "\n",
    "shapes = []\n",
    "for index, row in open_basin_lakes.iterrows():\n",
    "    feature_geometry = Point(row['Lon_E 180'], row['Lat_N'])\n",
    "    shapes.append(feature_geometry)\n",
    "\n",
    "raster_rasterization = rasterize_geometries(shapes, \n",
    "                                            data_type,\n",
    "                                            master_width, \n",
    "                                            master_height,\n",
    "                                            master_geotransform,\n",
    "                                            master_spatial_reference_system)\n",
    "raster_rasterization_array = get_raster_array(raster_rasterization)\n",
    "\n",
    "scientific_targets_array[raster_rasterization_array == 0] = 0"
   ]
  },
  {
   "cell_type": "code",
   "execution_count": 71,
   "metadata": {},
   "outputs": [
    {
     "name": "stdout",
     "output_type": "stream",
     "text": [
      "CPU times: user 9min 50s, sys: 11 s, total: 10min 1s\n",
      "Wall time: 9min 46s\n"
     ]
    }
   ],
   "source": [
    "%%time\n",
    "\n",
    "traverse_array = run_fast_marching(raster_rasterization_array,\n",
    "                                   raster_rover_speed_array,\n",
    "                                   longitude_array,\n",
    "                                   latitude_array,\n",
    "                                   mars_radius)"
   ]
  },
  {
   "cell_type": "markdown",
   "metadata": {},
   "source": [
    "Export the map to a .tif file."
   ]
  },
  {
   "cell_type": "code",
   "execution_count": 72,
   "metadata": {},
   "outputs": [],
   "source": [
    "data_name = 'Open_Basin_Lakes'\n",
    "\n",
    "file_path = base_folder + output_folder + 'Interpreted_Data_Traverse_to_' + data_name + speed_affix + '.tif'\n",
    "raster_traverse = create_raster_from_array(traverse_array,           \n",
    "                                           master_geotransform, \n",
    "                                           master_projection,\n",
    "                                           file_type = 'GTiff',\n",
    "                                           file_path = file_path,\n",
    "                                           options = ['COMPRESS=DEFLATE', 'PREDICTOR=3', 'TILED=YES'])\n",
    "raster_traverse = None"
   ]
  },
  {
   "cell_type": "markdown",
   "metadata": {},
   "source": [
    "**Impact crater-hosted closed-basin lakes**\n",
    "\n",
    "https://planetarydatabase.wordpress.com/2016/04/21/candidate-impact-crater-hosted-closed-basin-lakes-on-mars"
   ]
  },
  {
   "cell_type": "markdown",
   "metadata": {},
   "source": [
    "Rasterize the initial vector data at 20 ppd and perform the fast marching."
   ]
  },
  {
   "cell_type": "code",
   "execution_count": 73,
   "metadata": {},
   "outputs": [],
   "source": [
    "closed_basin_lakes = pd.read_excel(base_folder + 'Original_Data/Interpreted_Data/idpf-9-23-2016-excel97.xls',\n",
    "                                   sheet_name = 'Closed basin (Goudge et al2015)')"
   ]
  },
  {
   "cell_type": "code",
   "execution_count": 74,
   "metadata": {},
   "outputs": [],
   "source": [
    "data_type = gdal.GDT_Int32\n",
    "\n",
    "shapes = []\n",
    "for index, row in closed_basin_lakes.iterrows():\n",
    "    feature_geometry = Point(row['Lon E 180'], row['Lat (N)'])\n",
    "    shapes.append(feature_geometry)\n",
    "\n",
    "raster_rasterization = rasterize_geometries(shapes, \n",
    "                                            data_type,\n",
    "                                            master_width, \n",
    "                                            master_height,\n",
    "                                            master_geotransform,\n",
    "                                            master_spatial_reference_system)\n",
    "raster_rasterization_array = get_raster_array(raster_rasterization)\n",
    "\n",
    "scientific_targets_array[raster_rasterization_array == 0] = 0"
   ]
  },
  {
   "cell_type": "code",
   "execution_count": 75,
   "metadata": {},
   "outputs": [
    {
     "name": "stdout",
     "output_type": "stream",
     "text": [
      "CPU times: user 10min 5s, sys: 9.92 s, total: 10min 15s\n",
      "Wall time: 10min 2s\n"
     ]
    }
   ],
   "source": [
    "%%time\n",
    "\n",
    "traverse_array = run_fast_marching(raster_rasterization_array,\n",
    "                                   raster_rover_speed_array,\n",
    "                                   longitude_array,\n",
    "                                   latitude_array,\n",
    "                                   mars_radius)"
   ]
  },
  {
   "cell_type": "markdown",
   "metadata": {},
   "source": [
    "Export the map to a .tif file."
   ]
  },
  {
   "cell_type": "code",
   "execution_count": 76,
   "metadata": {},
   "outputs": [],
   "source": [
    "data_name = 'Closed_Basin_Lakes'\n",
    "\n",
    "file_path = base_folder + output_folder + 'Interpreted_Data_Traverse_to_' + data_name + speed_affix + '.tif'\n",
    "raster_traverse = create_raster_from_array(traverse_array,           \n",
    "                                           master_geotransform, \n",
    "                                           master_projection,\n",
    "                                           file_type = 'GTiff',\n",
    "                                           file_path = file_path,\n",
    "                                           options = ['COMPRESS=DEFLATE', 'PREDICTOR=3', 'TILED=YES'])\n",
    "raster_traverse = None"
   ]
  },
  {
   "cell_type": "markdown",
   "metadata": {},
   "source": [
    "**Channels not interpreted as valley networks**\n",
    "\n",
    "ftp://pdsimage2.wr.usgs.gov/pub/pigpen/mars/geology"
   ]
  },
  {
   "cell_type": "markdown",
   "metadata": {},
   "source": [
    "We first intersect the channels from the geological maps of Mars with the valley networks, to avoid redundancy, and because the valley networks were interpreted from higher-resolution data."
   ]
  },
  {
   "cell_type": "code",
   "execution_count": 77,
   "metadata": {},
   "outputs": [
    {
     "name": "stdout",
     "output_type": "stream",
     "text": [
      " _______________________________________________________________________________\n",
      "/ Shapefile field names:\n",
      "| \n",
      "| tot_length \n",
      "\\_______________________________________________________________________________\n"
     ]
    }
   ],
   "source": [
    "shapefile_valley_networks = open_shapefile(base_folder + 'Original_Data/Interpreted_Data/Hynek_VNs/Hynek_Valley_Networks.shp')\n",
    "\n",
    "print_shapefile_field_names(shapefile_valley_networks)"
   ]
  },
  {
   "cell_type": "code",
   "execution_count": 78,
   "metadata": {},
   "outputs": [],
   "source": [
    "raster_topo = open_raster(base_folder + 'Original_Data/MGS/MOLA/Mars_MGS_MOLA_DEM_mosaic_global_463m.tif')\n",
    "x_min, x_max, y_min, y_max = get_raster_extent(raster_topo)\n",
    "\n",
    "shapefile_valley_networks = modify_shapefile_extent(shapefile_valley_networks, \n",
    "                                                    x_min, x_max, y_min, y_max, \n",
    "                                                    master_lon_min, master_lon_max, master_lat_min, master_lat_max,\n",
    "                                                    geom_type = ogr.wkbLineString)"
   ]
  },
  {
   "cell_type": "code",
   "execution_count": 79,
   "metadata": {},
   "outputs": [],
   "source": [
    "shapefile_valley_networks = buffer_shapefile(shapefile_valley_networks, 0.001)"
   ]
  },
  {
   "cell_type": "code",
   "execution_count": 80,
   "metadata": {},
   "outputs": [
    {
     "name": "stdout",
     "output_type": "stream",
     "text": [
      " _______________________________________________________________________________\n",
      "/ Shapefile field names:\n",
      "| \n",
      "\n",
      "\\_______________________________________________________________________________\n",
      " _______________________________________________________________________________\n",
      "/ Shapefile field names:\n",
      "| \n",
      "| Shape_Leng \n",
      "\\_______________________________________________________________________________\n"
     ]
    }
   ],
   "source": [
    "shapefile_channels = filter_shapefile(shapefile_structures,\n",
    "                                      'Interpreta', \n",
    "                                      ['Channel axis'])\n",
    "print_shapefile_field_names(shapefile_channels)\n",
    "\n",
    "shapefile_channels_part2 = open_shapefile(base_folder + 'Original_Data/Interpreted_Data/NPlains_geology_SIM2888_2005/SIM2888_mar06_preliminary/shapefiles/SIM2888_Mars2000_Sphere/SIM2888_channels_ocentric.shp')\n",
    "print_shapefile_field_names(shapefile_channels_part2)"
   ]
  },
  {
   "cell_type": "code",
   "execution_count": 81,
   "metadata": {},
   "outputs": [
    {
     "name": "stdout",
     "output_type": "stream",
     "text": [
      "CPU times: user 2min 43s, sys: 94.9 ms, total: 2min 43s\n",
      "Wall time: 2min 43s\n"
     ]
    }
   ],
   "source": [
    "%%time\n",
    "\n",
    "shapefile_channels = get_intersected_features_from_shapefile(shapefile_channels,\n",
    "                                                             shapefile_valley_networks,\n",
    "                                                             look_for_intersection = False)\n",
    "\n",
    "shapefile_channels_part2 = get_intersected_features_from_shapefile(shapefile_channels_part2,\n",
    "                                                                   shapefile_valley_networks,\n",
    "                                                                   look_for_intersection = False)"
   ]
  },
  {
   "cell_type": "markdown",
   "metadata": {},
   "source": [
    "Rasterize the initial vector data at 20 ppd and perform the fast marching."
   ]
  },
  {
   "cell_type": "code",
   "execution_count": 82,
   "metadata": {},
   "outputs": [],
   "source": [
    "projection = shapefile_channels.GetLayer().GetSpatialRef().ExportToWkt()\n",
    "data_type = gdal.GDT_Int32\n",
    "\n",
    "raster_rasterization = rasterize_shapefile(shapefile_channels, \n",
    "                                           None,\n",
    "                                           data_type,\n",
    "                                           master_width, \n",
    "                                           master_height,                    \n",
    "                                           master_geotransform, \n",
    "                                           projection)\n",
    "raster_rasterization_array = get_raster_array(raster_rasterization)\n",
    "\n",
    "projection = shapefile_channels_part2.GetLayer().GetSpatialRef().ExportToWkt()\n",
    "\n",
    "raster_rasterization_part2 = rasterize_shapefile(shapefile_channels_part2, \n",
    "                                                 None,\n",
    "                                                 data_type,\n",
    "                                                 master_width, \n",
    "                                                 master_height,                    \n",
    "                                                 master_geotransform, \n",
    "                                                 projection)\n",
    "raster_rasterization_part2_array = get_raster_array(raster_rasterization_part2)\n",
    "\n",
    "raster_rasterization_array[raster_rasterization_part2_array == 0] = 0\n",
    "\n",
    "scientific_targets_array[raster_rasterization_array == 0] = 0"
   ]
  },
  {
   "cell_type": "code",
   "execution_count": 83,
   "metadata": {},
   "outputs": [
    {
     "name": "stdout",
     "output_type": "stream",
     "text": [
      "CPU times: user 8min 42s, sys: 9.13 s, total: 8min 51s\n",
      "Wall time: 8min 38s\n"
     ]
    }
   ],
   "source": [
    "%%time\n",
    "\n",
    "traverse_array = run_fast_marching(raster_rasterization_array,\n",
    "                                   raster_rover_speed_array,\n",
    "                                   longitude_array,\n",
    "                                   latitude_array,\n",
    "                                   mars_radius)"
   ]
  },
  {
   "cell_type": "markdown",
   "metadata": {},
   "source": [
    "Export the map to a .tif file."
   ]
  },
  {
   "cell_type": "code",
   "execution_count": 84,
   "metadata": {},
   "outputs": [],
   "source": [
    "data_name = 'Channels_Not_Valleys'\n",
    "\n",
    "file_path = base_folder + output_folder + 'Interpreted_Data_Traverse_to_' + data_name + speed_affix + '.tif'\n",
    "raster_traverse = create_raster_from_array(traverse_array,           \n",
    "                                           master_geotransform, \n",
    "                                           master_projection,\n",
    "                                           file_type = 'GTiff',\n",
    "                                           file_path = file_path,\n",
    "                                           options = ['COMPRESS=DEFLATE', 'PREDICTOR=3', 'TILED=YES'])\n",
    "raster_traverse = None"
   ]
  },
  {
   "cell_type": "markdown",
   "metadata": {},
   "source": [
    "**Outflow channels**\n",
    "\n",
    "ftp://pdsimage2.wr.usgs.gov/pub/pigpen/mars/geology"
   ]
  },
  {
   "cell_type": "markdown",
   "metadata": {},
   "source": [
    "Rasterize the initial vector data at 20 ppd and perform the fast marching."
   ]
  },
  {
   "cell_type": "code",
   "execution_count": 85,
   "metadata": {},
   "outputs": [
    {
     "name": "stdout",
     "output_type": "stream",
     "text": [
      " _______________________________________________________________________________\n",
      "/ Shapefile field names:\n",
      "| \n",
      "\n",
      "\\_______________________________________________________________________________\n"
     ]
    }
   ],
   "source": [
    "shapefile_outflow_channels = filter_shapefile(shapefile_structures,\n",
    "                                              'Interpreta', \n",
    "                                              ['Outflow Channel'])\n",
    "print_shapefile_field_names(shapefile_outflow_channels)"
   ]
  },
  {
   "cell_type": "code",
   "execution_count": 86,
   "metadata": {},
   "outputs": [],
   "source": [
    "projection = shapefile_outflow_channels.GetLayer().GetSpatialRef().ExportToWkt()\n",
    "data_type = gdal.GDT_Int32\n",
    "\n",
    "raster_rasterization = rasterize_shapefile(shapefile_outflow_channels, \n",
    "                                           None,\n",
    "                                           data_type,\n",
    "                                           master_width, \n",
    "                                           master_height,                    \n",
    "                                           master_geotransform, \n",
    "                                           projection)\n",
    "raster_rasterization_array = get_raster_array(raster_rasterization)\n",
    "\n",
    "scientific_targets_array[raster_rasterization_array == 0] = 0"
   ]
  },
  {
   "cell_type": "code",
   "execution_count": 87,
   "metadata": {},
   "outputs": [
    {
     "name": "stdout",
     "output_type": "stream",
     "text": [
      "CPU times: user 8min 11s, sys: 14 s, total: 8min 25s\n",
      "Wall time: 8min 6s\n"
     ]
    }
   ],
   "source": [
    "%%time\n",
    "\n",
    "traverse_array = run_fast_marching(raster_rasterization_array,\n",
    "                                   raster_rover_speed_array,\n",
    "                                   longitude_array,\n",
    "                                   latitude_array,\n",
    "                                   mars_radius)"
   ]
  },
  {
   "cell_type": "markdown",
   "metadata": {},
   "source": [
    "Export the map to a .tif file."
   ]
  },
  {
   "cell_type": "code",
   "execution_count": 88,
   "metadata": {},
   "outputs": [],
   "source": [
    "data_name = 'Outflow_Channels'\n",
    "\n",
    "file_path = base_folder + output_folder + 'Interpreted_Data_Traverse_to_' + data_name + speed_affix + '.tif'\n",
    "raster_traverse = create_raster_from_array(traverse_array,           \n",
    "                                           master_geotransform, \n",
    "                                           master_projection,\n",
    "                                           file_type = 'GTiff',\n",
    "                                           file_path = file_path,\n",
    "                                           options = ['COMPRESS=DEFLATE', 'PREDICTOR=3', 'TILED=YES'])\n",
    "raster_traverse = None"
   ]
  },
  {
   "cell_type": "markdown",
   "metadata": {},
   "source": [
    "**Outflow channels and large valleys**\n",
    "\n",
    "Irwin and Grant (2009)"
   ]
  },
  {
   "cell_type": "markdown",
   "metadata": {},
   "source": [
    "Rasterize the initial vector data at 20 ppd and perform the fast marching."
   ]
  },
  {
   "cell_type": "code",
   "execution_count": 89,
   "metadata": {},
   "outputs": [],
   "source": [
    "outflow_channels_large_valleys = get_latitude_longitude_from_csv_file(base_folder + 'Original_Data/Interpreted_Data/Outflow-Channels-Large-Valleys_Irwin-Grant-2009.csv',\n",
    "                                                                      longitude_column_index = 0, latitude_column_index = 1)"
   ]
  },
  {
   "cell_type": "code",
   "execution_count": 90,
   "metadata": {},
   "outputs": [],
   "source": [
    "data_type = gdal.GDT_Int32\n",
    "\n",
    "shapes = []\n",
    "for i in range(len(outflow_channels_large_valleys[0])):\n",
    "    feature_geometry = Point(outflow_channels_large_valleys[0][i], outflow_channels_large_valleys[1][i])\n",
    "    shapes.append(feature_geometry)\n",
    "\n",
    "raster_rasterization = rasterize_geometries(shapes, \n",
    "                                            data_type,\n",
    "                                            master_width, \n",
    "                                            master_height,\n",
    "                                            master_geotransform,\n",
    "                                            master_spatial_reference_system)\n",
    "raster_rasterization_array = get_raster_array(raster_rasterization)\n",
    "\n",
    "scientific_targets_array[raster_rasterization_array == 0] = 0"
   ]
  },
  {
   "cell_type": "code",
   "execution_count": 91,
   "metadata": {},
   "outputs": [
    {
     "name": "stdout",
     "output_type": "stream",
     "text": [
      "CPU times: user 9min 47s, sys: 12.3 s, total: 10min\n",
      "Wall time: 9min 43s\n"
     ]
    }
   ],
   "source": [
    "%%time\n",
    "\n",
    "traverse_array = run_fast_marching(raster_rasterization_array,\n",
    "                                   raster_rover_speed_array,\n",
    "                                   longitude_array,\n",
    "                                   latitude_array,\n",
    "                                   mars_radius)"
   ]
  },
  {
   "cell_type": "markdown",
   "metadata": {},
   "source": [
    "Export the map to a .tif file."
   ]
  },
  {
   "cell_type": "code",
   "execution_count": 92,
   "metadata": {},
   "outputs": [],
   "source": [
    "data_name = 'Outflow_Channels_Large_Valleys'\n",
    "\n",
    "file_path = base_folder + output_folder + 'Interpreted_Data_Traverse_to_' + data_name + speed_affix + '.tif'\n",
    "raster_traverse = create_raster_from_array(traverse_array,           \n",
    "                                           master_geotransform, \n",
    "                                           master_projection,\n",
    "                                           file_type = 'GTiff',\n",
    "                                           file_path = file_path,\n",
    "                                           options = ['COMPRESS=DEFLATE', 'PREDICTOR=3', 'TILED=YES'])\n",
    "raster_traverse = None"
   ]
  },
  {
   "cell_type": "markdown",
   "metadata": {},
   "source": [
    "**Groundwater-controlled valley networks**\n",
    "\n",
    "https://planetarydatabase.wordpress.com/2016/04/21/groundwater-controlled-valley-networks-large-sparsely-dissecting-valley-networks-on-mars"
   ]
  },
  {
   "cell_type": "markdown",
   "metadata": {},
   "source": [
    "Rasterize the initial vector data at 20 ppd and perform the fast marching."
   ]
  },
  {
   "cell_type": "code",
   "execution_count": 93,
   "metadata": {},
   "outputs": [],
   "source": [
    "groundwater_valley_networks = pd.read_excel(base_folder + 'Original_Data/Interpreted_Data/idpf-9-23-2016-excel97.xls',\n",
    "                                            sheet_name = 'Sparse valley Harrison Grimm 20')"
   ]
  },
  {
   "cell_type": "code",
   "execution_count": 94,
   "metadata": {},
   "outputs": [],
   "source": [
    "data_type = gdal.GDT_Int32\n",
    "\n",
    "shapes = []\n",
    "for index, row in groundwater_valley_networks.iterrows():\n",
    "    feature_geometry = Point(row['Lon E 180'], row['Lat'])\n",
    "    shapes.append(feature_geometry)\n",
    "\n",
    "raster_rasterization = rasterize_geometries(shapes, \n",
    "                                            data_type,\n",
    "                                            master_width, \n",
    "                                            master_height,\n",
    "                                            master_geotransform,\n",
    "                                            master_spatial_reference_system)\n",
    "raster_rasterization_array = get_raster_array(raster_rasterization)\n",
    "\n",
    "scientific_targets_array[raster_rasterization_array == 0] = 0"
   ]
  },
  {
   "cell_type": "code",
   "execution_count": 95,
   "metadata": {},
   "outputs": [
    {
     "name": "stdout",
     "output_type": "stream",
     "text": [
      "CPU times: user 9min 46s, sys: 12.1 s, total: 9min 58s\n",
      "Wall time: 9min 41s\n"
     ]
    }
   ],
   "source": [
    "%%time\n",
    "\n",
    "traverse_array = run_fast_marching(raster_rasterization_array,\n",
    "                                   raster_rover_speed_array,\n",
    "                                   longitude_array,\n",
    "                                   latitude_array,\n",
    "                                   mars_radius)"
   ]
  },
  {
   "cell_type": "markdown",
   "metadata": {},
   "source": [
    "Export the map to a .tif file."
   ]
  },
  {
   "cell_type": "code",
   "execution_count": 96,
   "metadata": {},
   "outputs": [],
   "source": [
    "data_name = 'Groundwater_Valley_Networks'\n",
    "\n",
    "file_path = base_folder + output_folder + 'Interpreted_Data_Traverse_to_' + data_name + speed_affix + '.tif'\n",
    "raster_traverse = create_raster_from_array(traverse_array,           \n",
    "                                           master_geotransform, \n",
    "                                           master_projection,\n",
    "                                           file_type = 'GTiff',\n",
    "                                           file_path = file_path,\n",
    "                                           options = ['COMPRESS=DEFLATE', 'PREDICTOR=3', 'TILED=YES'])\n",
    "raster_traverse = None"
   ]
  },
  {
   "cell_type": "markdown",
   "metadata": {},
   "source": [
    "**Craters with sandbars**\n",
    "\n",
    "https://planetarydatabase.wordpress.com/2016/04/21/craters-with-sandbars/"
   ]
  },
  {
   "cell_type": "markdown",
   "metadata": {},
   "source": [
    "Rasterize the initial vector data at 20 ppd and perform the fast marching."
   ]
  },
  {
   "cell_type": "code",
   "execution_count": 97,
   "metadata": {},
   "outputs": [],
   "source": [
    "craters_sandbars = pd.read_excel(base_folder + 'Original_Data/Interpreted_Data/idpf-9-23-2016-excel97.xls',\n",
    "                                 sheet_name = 'CratersSandbars (Robbins..2012)')"
   ]
  },
  {
   "cell_type": "code",
   "execution_count": 98,
   "metadata": {},
   "outputs": [],
   "source": [
    "data_type = gdal.GDT_Int32\n",
    "\n",
    "shapes = []\n",
    "for index, row in craters_sandbars.iterrows():\n",
    "    feature_geometry = Point(row['LONGITUDE_ 180'], row['LATITUDE_C'])\n",
    "    shapes.append(feature_geometry)\n",
    "\n",
    "raster_rasterization = rasterize_geometries(shapes, \n",
    "                                            data_type,\n",
    "                                            master_width, \n",
    "                                            master_height,\n",
    "                                            master_geotransform,\n",
    "                                            master_spatial_reference_system)\n",
    "raster_rasterization_array = get_raster_array(raster_rasterization)\n",
    "\n",
    "scientific_targets_array[raster_rasterization_array == 0] = 0"
   ]
  },
  {
   "cell_type": "code",
   "execution_count": 99,
   "metadata": {},
   "outputs": [
    {
     "name": "stdout",
     "output_type": "stream",
     "text": [
      "CPU times: user 8min 17s, sys: 13.2 s, total: 8min 30s\n",
      "Wall time: 8min 12s\n"
     ]
    }
   ],
   "source": [
    "%%time\n",
    "\n",
    "traverse_array = run_fast_marching(raster_rasterization_array,\n",
    "                                   raster_rover_speed_array,\n",
    "                                   longitude_array,\n",
    "                                   latitude_array,\n",
    "                                   mars_radius)"
   ]
  },
  {
   "cell_type": "markdown",
   "metadata": {},
   "source": [
    "Export the map to a .tif file."
   ]
  },
  {
   "cell_type": "code",
   "execution_count": 100,
   "metadata": {},
   "outputs": [],
   "source": [
    "data_name = 'Craters_Sandbars'\n",
    "\n",
    "file_path = base_folder + output_folder + 'Interpreted_Data_Traverse_to_' + data_name + speed_affix + '.tif'\n",
    "raster_traverse = create_raster_from_array(traverse_array,           \n",
    "                                           master_geotransform, \n",
    "                                           master_projection,\n",
    "                                           file_type = 'GTiff',\n",
    "                                           file_path = file_path,\n",
    "                                           options = ['COMPRESS=DEFLATE', 'PREDICTOR=3', 'TILED=YES'])\n",
    "raster_traverse = None"
   ]
  },
  {
   "cell_type": "markdown",
   "metadata": {},
   "source": [
    "**Crater-floor landslide deposits**\n",
    "\n",
    "http://craters.sjrdesign.net/"
   ]
  },
  {
   "cell_type": "markdown",
   "metadata": {},
   "source": [
    "Rasterize the initial vector data at 20 ppd and perform the fast marching."
   ]
  },
  {
   "cell_type": "code",
   "execution_count": 101,
   "metadata": {},
   "outputs": [],
   "source": [
    "data_type = gdal.GDT_Int32\n",
    "\n",
    "shapes = []\n",
    "for crater in zip(*mars_craters):\n",
    "    if 'Landslide Deposits' in crater[5]:\n",
    "        feature_geometry = Point(crater[0], crater[1])\n",
    "        shapes.append(feature_geometry)\n",
    "\n",
    "raster_rasterization = rasterize_geometries(shapes, \n",
    "                                            data_type,\n",
    "                                            master_width, \n",
    "                                            master_height,\n",
    "                                            master_geotransform,\n",
    "                                            master_spatial_reference_system)\n",
    "raster_rasterization_array = get_raster_array(raster_rasterization)\n",
    "\n",
    "scientific_targets_array[raster_rasterization_array == 0] = 0"
   ]
  },
  {
   "cell_type": "code",
   "execution_count": 102,
   "metadata": {},
   "outputs": [
    {
     "name": "stdout",
     "output_type": "stream",
     "text": [
      "CPU times: user 10min 2s, sys: 10 s, total: 10min 12s\n",
      "Wall time: 9min 58s\n"
     ]
    }
   ],
   "source": [
    "%%time\n",
    "\n",
    "traverse_array = run_fast_marching(raster_rasterization_array,\n",
    "                                   raster_rover_speed_array,\n",
    "                                   longitude_array,\n",
    "                                   latitude_array,\n",
    "                                   mars_radius)"
   ]
  },
  {
   "cell_type": "markdown",
   "metadata": {},
   "source": [
    "Export the map to a .tif file."
   ]
  },
  {
   "cell_type": "code",
   "execution_count": 103,
   "metadata": {},
   "outputs": [],
   "source": [
    "data_name = 'Crater_Floor_Landslide_Deposits'\n",
    "\n",
    "file_path = base_folder + output_folder + 'Interpreted_Data_Traverse_to_' + data_name + speed_affix + '.tif'\n",
    "raster_traverse = create_raster_from_array(traverse_array,           \n",
    "                                           master_geotransform, \n",
    "                                           master_projection,\n",
    "                                           file_type = 'GTiff',\n",
    "                                           file_path = file_path,\n",
    "                                           options = ['COMPRESS=DEFLATE', 'PREDICTOR=3', 'TILED=YES'])\n",
    "raster_traverse = None"
   ]
  },
  {
   "cell_type": "markdown",
   "metadata": {},
   "source": [
    "**Gullies**\n",
    "\n",
    "https://planetarydatabase.wordpress.com/2016/04/21/gullied-landforms-on-mars"
   ]
  },
  {
   "cell_type": "markdown",
   "metadata": {},
   "source": [
    "Rasterize the initial vector data at 20 ppd and perform the fast marching."
   ]
  },
  {
   "cell_type": "code",
   "execution_count": 104,
   "metadata": {},
   "outputs": [],
   "source": [
    "gullies = pd.read_excel(base_folder + 'Original_Data/Interpreted_Data/idpf-9-23-2016-excel97.xls',\n",
    "                        sheet_name = 'Gully (Harrison et al. 2015)')"
   ]
  },
  {
   "cell_type": "code",
   "execution_count": 105,
   "metadata": {},
   "outputs": [],
   "source": [
    "data_type = gdal.GDT_Int32\n",
    "\n",
    "shapes = []\n",
    "for index, row in gullies.iterrows():\n",
    "    feature_geometry = Point(row['longitude 180'], row['latitude'])\n",
    "    shapes.append(feature_geometry)\n",
    "\n",
    "raster_rasterization = rasterize_geometries(shapes, \n",
    "                                            data_type,\n",
    "                                            master_width, \n",
    "                                            master_height,\n",
    "                                            master_geotransform,\n",
    "                                            master_spatial_reference_system)\n",
    "raster_rasterization_array = get_raster_array(raster_rasterization)\n",
    "\n",
    "scientific_targets_array[raster_rasterization_array == 0] = 0"
   ]
  },
  {
   "cell_type": "code",
   "execution_count": 106,
   "metadata": {},
   "outputs": [
    {
     "name": "stdout",
     "output_type": "stream",
     "text": [
      "CPU times: user 9min 16s, sys: 9.87 s, total: 9min 26s\n",
      "Wall time: 9min 11s\n"
     ]
    }
   ],
   "source": [
    "%%time\n",
    "\n",
    "traverse_array = run_fast_marching(raster_rasterization_array,\n",
    "                                   raster_rover_speed_array,\n",
    "                                   longitude_array,\n",
    "                                   latitude_array,\n",
    "                                   mars_radius)"
   ]
  },
  {
   "cell_type": "markdown",
   "metadata": {},
   "source": [
    "Export the map to a .tif file."
   ]
  },
  {
   "cell_type": "code",
   "execution_count": 107,
   "metadata": {},
   "outputs": [],
   "source": [
    "data_name = 'Gullies'\n",
    "\n",
    "file_path = base_folder + output_folder + 'Interpreted_Data_Traverse_to_' + data_name + speed_affix + '.tif'\n",
    "raster_traverse = create_raster_from_array(traverse_array,           \n",
    "                                           master_geotransform, \n",
    "                                           master_projection,\n",
    "                                           file_type = 'GTiff',\n",
    "                                           file_path = file_path,\n",
    "                                           options = ['COMPRESS=DEFLATE', 'PREDICTOR=3', 'TILED=YES'])\n",
    "raster_traverse = None"
   ]
  },
  {
   "cell_type": "markdown",
   "metadata": {},
   "source": [
    "**Recurring Slope Lineae**\n",
    "\n",
    "https://planetarydatabase.wordpress.com/2016/04/21/recurring-slope-lineae-on-mars"
   ]
  },
  {
   "cell_type": "markdown",
   "metadata": {},
   "source": [
    "Rasterize the initial vector data at 20 ppd and perform the fast marching."
   ]
  },
  {
   "cell_type": "code",
   "execution_count": 108,
   "metadata": {},
   "outputs": [],
   "source": [
    "rsl = pd.read_excel(base_folder + 'Original_Data/Interpreted_Data/idpf-9-23-2016-excel97.xls',\n",
    "                    sheet_name = 'RSL (OjhaMcEwenStillman)')"
   ]
  },
  {
   "cell_type": "code",
   "execution_count": 109,
   "metadata": {},
   "outputs": [],
   "source": [
    "data_type = gdal.GDT_Int32\n",
    "\n",
    "shapes = []\n",
    "for index, row in rsl.iterrows():\n",
    "    feature_geometry = Point(row['Lon E 180'], row['Lat'])\n",
    "    shapes.append(feature_geometry)\n",
    "\n",
    "raster_rasterization = rasterize_geometries(shapes, \n",
    "                                            data_type,\n",
    "                                            master_width, \n",
    "                                            master_height,\n",
    "                                            master_geotransform,\n",
    "                                            master_spatial_reference_system)\n",
    "raster_rasterization_array = get_raster_array(raster_rasterization)\n",
    "\n",
    "scientific_targets_array[raster_rasterization_array == 0] = 0"
   ]
  },
  {
   "cell_type": "code",
   "execution_count": 110,
   "metadata": {},
   "outputs": [
    {
     "name": "stdout",
     "output_type": "stream",
     "text": [
      "CPU times: user 8min 45s, sys: 10.7 s, total: 8min 55s\n",
      "Wall time: 8min 40s\n"
     ]
    }
   ],
   "source": [
    "%%time\n",
    "\n",
    "traverse_array = run_fast_marching(raster_rasterization_array,\n",
    "                                   raster_rover_speed_array,\n",
    "                                   longitude_array,\n",
    "                                   latitude_array,\n",
    "                                   mars_radius)"
   ]
  },
  {
   "cell_type": "markdown",
   "metadata": {},
   "source": [
    "Export the map to a .tif file."
   ]
  },
  {
   "cell_type": "code",
   "execution_count": 111,
   "metadata": {},
   "outputs": [],
   "source": [
    "data_name = 'RSL'\n",
    "\n",
    "file_path = base_folder + output_folder + 'Interpreted_Data_Traverse_to_' + data_name + speed_affix + '.tif'\n",
    "raster_traverse = create_raster_from_array(traverse_array,           \n",
    "                                           master_geotransform, \n",
    "                                           master_projection,\n",
    "                                           file_type = 'GTiff',\n",
    "                                           file_path = file_path,\n",
    "                                           options = ['COMPRESS=DEFLATE', 'PREDICTOR=3', 'TILED=YES'])\n",
    "raster_traverse = None"
   ]
  },
  {
   "cell_type": "markdown",
   "metadata": {},
   "source": [
    "**Slope streaks**\n",
    "\n",
    "https://planetarydatabase.wordpress.com/2016/04/21/slope-streaks-bright-and-dark-on-mars"
   ]
  },
  {
   "cell_type": "markdown",
   "metadata": {},
   "source": [
    "Rasterize the initial vector data at 20 ppd and perform the fast marching."
   ]
  },
  {
   "cell_type": "code",
   "execution_count": 112,
   "metadata": {},
   "outputs": [],
   "source": [
    "slope_streaks = pd.read_excel(base_folder + 'Original_Data/Interpreted_Data/idpf-9-23-2016-excel97.xls',\n",
    "                              sheet_name = 'SlopeStreak (Schorghofer..2007)')"
   ]
  },
  {
   "cell_type": "code",
   "execution_count": 113,
   "metadata": {},
   "outputs": [],
   "source": [
    "data_type = gdal.GDT_Int32\n",
    "\n",
    "shapes = []\n",
    "for index, row in slope_streaks.iterrows():\n",
    "    if pd.isnull(row['MOC NA image ID']) == False:\n",
    "        feature_geometry = Point(row['Lon E 180'], row['Lat planetographic !'])\n",
    "        shapes.append(feature_geometry)\n",
    "\n",
    "raster_rasterization = rasterize_geometries(shapes, \n",
    "                                            data_type,\n",
    "                                            master_width, \n",
    "                                            master_height,\n",
    "                                            master_geotransform,\n",
    "                                            master_spatial_reference_system)\n",
    "raster_rasterization_array = get_raster_array(raster_rasterization)\n",
    "\n",
    "scientific_targets_array[raster_rasterization_array == 0] = 0"
   ]
  },
  {
   "cell_type": "code",
   "execution_count": 114,
   "metadata": {},
   "outputs": [
    {
     "name": "stdout",
     "output_type": "stream",
     "text": [
      "CPU times: user 8min 57s, sys: 9.5 s, total: 9min 6s\n",
      "Wall time: 8min 53s\n"
     ]
    }
   ],
   "source": [
    "%%time\n",
    "\n",
    "traverse_array = run_fast_marching(raster_rasterization_array,\n",
    "                                   raster_rover_speed_array,\n",
    "                                   longitude_array,\n",
    "                                   latitude_array,\n",
    "                                   mars_radius)"
   ]
  },
  {
   "cell_type": "markdown",
   "metadata": {},
   "source": [
    "Export the map to a .tif file."
   ]
  },
  {
   "cell_type": "code",
   "execution_count": 115,
   "metadata": {},
   "outputs": [],
   "source": [
    "data_name = 'Slope_Streaks'\n",
    "\n",
    "file_path = base_folder + output_folder + 'Interpreted_Data_Traverse_to_' + data_name + speed_affix + '.tif'\n",
    "raster_traverse = create_raster_from_array(traverse_array,           \n",
    "                                           master_geotransform, \n",
    "                                           master_projection,\n",
    "                                           file_type = 'GTiff',\n",
    "                                           file_path = file_path,\n",
    "                                           options = ['COMPRESS=DEFLATE', 'PREDICTOR=3', 'TILED=YES'])\n",
    "raster_traverse = None"
   ]
  },
  {
   "cell_type": "markdown",
   "metadata": {},
   "source": [
    "**Glacial features**\n",
    "\n",
    "https://planetarydatabase.wordpress.com/2016/04/21/first-blog-post"
   ]
  },
  {
   "cell_type": "markdown",
   "metadata": {},
   "source": [
    "Rasterize the initial vector data at 20 ppd and perform the fast marching."
   ]
  },
  {
   "cell_type": "code",
   "execution_count": 116,
   "metadata": {},
   "outputs": [
    {
     "name": "stdout",
     "output_type": "stream",
     "text": [
      " _______________________________________________________________________________\n",
      "/ Shapefile field names:\n",
      "| \n",
      "| code \n",
      "\\_______________________________________________________________________________\n"
     ]
    }
   ],
   "source": [
    "shapefile_glacial_features = open_shapefile(base_folder + 'Original_Data/Interpreted_Data/glacial features/AreaIceUnits.shp')\n",
    "\n",
    "print_shapefile_field_names(shapefile_glacial_features)"
   ]
  },
  {
   "cell_type": "code",
   "execution_count": 117,
   "metadata": {},
   "outputs": [
    {
     "name": "stdout",
     "output_type": "stream",
     "text": [
      "(-10668777.765116848, 10666342.399609, -3390990.841498883, 3889734.7697941484)\n",
      "(-10669675.197320545, 10669675.197320545, -5334837.598660273, 5334837.598660273)\n"
     ]
    }
   ],
   "source": [
    "print(shapefile_glacial_features.GetLayer().GetExtent())\n",
    "\n",
    "raster_topo = open_raster(base_folder + 'Original_Data/MGS/MOLA/Mars_MGS_MOLA_DEM_mosaic_global_463m.tif')\n",
    "print(get_raster_extent(raster_topo))"
   ]
  },
  {
   "cell_type": "code",
   "execution_count": 118,
   "metadata": {},
   "outputs": [
    {
     "name": "stdout",
     "output_type": "stream",
     "text": [
      "(-10337000.766550215, 10320277.366507426, -2614890.368206277, 2918187.2967245)\n"
     ]
    }
   ],
   "source": [
    "x_min, x_max, y_min, y_max = get_raster_extent(raster_topo)\n",
    "\n",
    "shapefile_glacial_features = modify_shapefile_extent(shapefile_glacial_features, \n",
    "                                                     x_min, x_max, y_min, y_max, \n",
    "                                                     master_lon_min, master_lon_max, master_lat_min, master_lat_max)\n",
    "print(shapefile_glacial_features.GetLayer().GetExtent())\n",
    "\n",
    "projection = shapefile_glacial_features.GetLayer().GetSpatialRef().ExportToWkt()\n",
    "data_type = gdal.GDT_Int32\n",
    "\n",
    "raster_rasterization = rasterize_shapefile(shapefile_glacial_features, \n",
    "                                           None,\n",
    "                                           data_type,\n",
    "                                           master_width, \n",
    "                                           master_height,                    \n",
    "                                           master_geotransform, \n",
    "                                           projection)\n",
    "raster_rasterization_array = get_raster_array(raster_rasterization)\n",
    "\n",
    "scientific_targets_array[raster_rasterization_array == 0] = 0"
   ]
  },
  {
   "cell_type": "code",
   "execution_count": 119,
   "metadata": {},
   "outputs": [
    {
     "name": "stdout",
     "output_type": "stream",
     "text": [
      "CPU times: user 9min 2s, sys: 9.33 s, total: 9min 11s\n",
      "Wall time: 8min 57s\n"
     ]
    }
   ],
   "source": [
    "%%time\n",
    "\n",
    "traverse_array = run_fast_marching(raster_rasterization_array,\n",
    "                                   raster_rover_speed_array,\n",
    "                                   longitude_array,\n",
    "                                   latitude_array,\n",
    "                                   mars_radius)"
   ]
  },
  {
   "cell_type": "markdown",
   "metadata": {},
   "source": [
    "Export the map to a .tif file."
   ]
  },
  {
   "cell_type": "code",
   "execution_count": 120,
   "metadata": {},
   "outputs": [],
   "source": [
    "data_name = 'Glacial_Features'\n",
    "\n",
    "file_path = base_folder + output_folder + 'Interpreted_Data_Traverse_to_' + data_name + speed_affix + '.tif'\n",
    "raster_traverse = create_raster_from_array(traverse_array,           \n",
    "                                           master_geotransform, \n",
    "                                           master_projection,\n",
    "                                           file_type = 'GTiff',\n",
    "                                           file_path = file_path,\n",
    "                                           options = ['COMPRESS=DEFLATE', 'PREDICTOR=3', 'TILED=YES'])\n",
    "raster_traverse = None"
   ]
  },
  {
   "cell_type": "markdown",
   "metadata": {},
   "source": [
    "**Glacier-like forms**\n",
    "\n",
    "https://planetarydatabase.wordpress.com/2016/04/21/glacier-like-forms"
   ]
  },
  {
   "cell_type": "markdown",
   "metadata": {},
   "source": [
    "Rasterize the initial vector data at 20 ppd and perform the fast marching."
   ]
  },
  {
   "cell_type": "code",
   "execution_count": 121,
   "metadata": {},
   "outputs": [],
   "source": [
    "glacier_like_forms = pd.read_excel(base_folder + 'Original_Data/Interpreted_Data/idpf-9-23-2016-excel97.xls',\n",
    "                                   sheet_name = 'GLF Souness et al. 2012')"
   ]
  },
  {
   "cell_type": "code",
   "execution_count": 122,
   "metadata": {},
   "outputs": [],
   "source": [
    "data_type = gdal.GDT_Int32\n",
    "\n",
    "shapes = []\n",
    "for index, row in glacier_like_forms.iterrows():\n",
    "    if pd.isnull(row['Centre lon. (deg. East)']) == False:\n",
    "        longitude = float(row['Centre lon. (deg. East)'])\n",
    "        if longitude > 180.:\n",
    "            longitude -= 360.\n",
    "        feature_geometry = Point(longitude, float(row['Centre .Lat']))\n",
    "        shapes.append(feature_geometry)\n",
    "\n",
    "raster_rasterization = rasterize_geometries(shapes, \n",
    "                                            data_type,\n",
    "                                            master_width, \n",
    "                                            master_height,\n",
    "                                            master_geotransform,\n",
    "                                            master_spatial_reference_system)\n",
    "raster_rasterization_array = get_raster_array(raster_rasterization)\n",
    "\n",
    "scientific_targets_array[raster_rasterization_array == 0] = 0"
   ]
  },
  {
   "cell_type": "code",
   "execution_count": 123,
   "metadata": {},
   "outputs": [
    {
     "name": "stdout",
     "output_type": "stream",
     "text": [
      "CPU times: user 10min 14s, sys: 9.29 s, total: 10min 24s\n",
      "Wall time: 10min 10s\n"
     ]
    }
   ],
   "source": [
    "%%time\n",
    "\n",
    "traverse_array = run_fast_marching(raster_rasterization_array,\n",
    "                                   raster_rover_speed_array,\n",
    "                                   longitude_array,\n",
    "                                   latitude_array,\n",
    "                                   mars_radius)"
   ]
  },
  {
   "cell_type": "markdown",
   "metadata": {},
   "source": [
    "Export the map to a .tif file."
   ]
  },
  {
   "cell_type": "code",
   "execution_count": 124,
   "metadata": {},
   "outputs": [],
   "source": [
    "data_name = 'Glacier_like_Forms'\n",
    "\n",
    "file_path = base_folder + output_folder + 'Interpreted_Data_Traverse_to_' + data_name + speed_affix + '.tif'\n",
    "raster_traverse = create_raster_from_array(traverse_array,           \n",
    "                                           master_geotransform, \n",
    "                                           master_projection,\n",
    "                                           file_type = 'GTiff',\n",
    "                                           file_path = file_path,\n",
    "                                           options = ['COMPRESS=DEFLATE', 'PREDICTOR=3', 'TILED=YES'])\n",
    "raster_traverse = None"
   ]
  },
  {
   "cell_type": "markdown",
   "metadata": {},
   "source": [
    "**Crevassed glacier-like forms**\n",
    "\n",
    "https://planetarydatabase.wordpress.com/2016/04/21/crevassed-glacier-like-forms-on-mars"
   ]
  },
  {
   "cell_type": "markdown",
   "metadata": {},
   "source": [
    "Rasterize the initial vector data at 20 ppd and perform the fast marching."
   ]
  },
  {
   "cell_type": "code",
   "execution_count": 125,
   "metadata": {},
   "outputs": [],
   "source": [
    "crevassed_glacier_like_forms = pd.read_excel(base_folder + 'Original_Data/Interpreted_Data/idpf-9-23-2016-excel97.xls',\n",
    "                                             sheet_name = 'CrevassedGLF (Hubbard et al. 20')"
   ]
  },
  {
   "cell_type": "code",
   "execution_count": 126,
   "metadata": {},
   "outputs": [],
   "source": [
    "data_type = gdal.GDT_Int32\n",
    "\n",
    "shapes = []\n",
    "for index, row in crevassed_glacier_like_forms.iterrows():\n",
    "    feature_geometry = Point(float(row['Lon 180 E centre']), float(row['Centre .Lat']))\n",
    "    shapes.append(feature_geometry)\n",
    "\n",
    "raster_rasterization = rasterize_geometries(shapes, \n",
    "                                            data_type,\n",
    "                                            master_width, \n",
    "                                            master_height,\n",
    "                                            master_geotransform,\n",
    "                                            master_spatial_reference_system)\n",
    "raster_rasterization_array = get_raster_array(raster_rasterization)\n",
    "\n",
    "scientific_targets_array[raster_rasterization_array == 0] = 0"
   ]
  },
  {
   "cell_type": "code",
   "execution_count": 127,
   "metadata": {},
   "outputs": [
    {
     "name": "stdout",
     "output_type": "stream",
     "text": [
      "CPU times: user 8min 32s, sys: 11 s, total: 8min 43s\n",
      "Wall time: 8min 27s\n"
     ]
    }
   ],
   "source": [
    "%%time\n",
    "\n",
    "traverse_array = run_fast_marching(raster_rasterization_array,\n",
    "                                   raster_rover_speed_array,\n",
    "                                   longitude_array,\n",
    "                                   latitude_array,\n",
    "                                   mars_radius)"
   ]
  },
  {
   "cell_type": "markdown",
   "metadata": {},
   "source": [
    "Export the map to a .tif file."
   ]
  },
  {
   "cell_type": "code",
   "execution_count": 128,
   "metadata": {},
   "outputs": [],
   "source": [
    "data_name = 'Crevassed_Glacier_like_Forms'\n",
    "\n",
    "file_path = base_folder + output_folder + 'Interpreted_Data_Traverse_to_' + data_name + speed_affix + '.tif'\n",
    "raster_traverse = create_raster_from_array(traverse_array,           \n",
    "                                           master_geotransform, \n",
    "                                           master_projection,\n",
    "                                           file_type = 'GTiff',\n",
    "                                           file_path = file_path,\n",
    "                                           options = ['COMPRESS=DEFLATE', 'PREDICTOR=3', 'TILED=YES'])\n",
    "raster_traverse = None"
   ]
  },
  {
   "cell_type": "markdown",
   "metadata": {},
   "source": [
    "**Recessional glacier-like forms**\n",
    "\n",
    "https://planetarydatabase.wordpress.com/2016/04/26/recessional-glacier-like-forms"
   ]
  },
  {
   "cell_type": "markdown",
   "metadata": {},
   "source": [
    "Rasterize the initial vector data at 20 ppd and perform the fast marching."
   ]
  },
  {
   "cell_type": "code",
   "execution_count": 129,
   "metadata": {},
   "outputs": [],
   "source": [
    "recessional_glacier_like_forms = pd.read_excel(base_folder + 'Original_Data/Interpreted_Data/idpf-9-23-2016-excel97.xls',\n",
    "                                               sheet_name = 'Recessional GLF')"
   ]
  },
  {
   "cell_type": "code",
   "execution_count": 130,
   "metadata": {},
   "outputs": [],
   "source": [
    "data_type = gdal.GDT_Int32\n",
    "\n",
    "shapes = []\n",
    "for index, row in recessional_glacier_like_forms.iterrows():\n",
    "    feature_geometry = Point(float(row['Centre lon. (deg. east) 180']), float(row['Centre lat.']))\n",
    "    shapes.append(feature_geometry)\n",
    "\n",
    "raster_rasterization = rasterize_geometries(shapes, \n",
    "                                            data_type,\n",
    "                                            master_width, \n",
    "                                            master_height,\n",
    "                                            master_geotransform,\n",
    "                                            master_spatial_reference_system)\n",
    "raster_rasterization_array = get_raster_array(raster_rasterization)\n",
    "\n",
    "scientific_targets_array[raster_rasterization_array == 0] = 0"
   ]
  },
  {
   "cell_type": "code",
   "execution_count": 131,
   "metadata": {},
   "outputs": [
    {
     "name": "stdout",
     "output_type": "stream",
     "text": [
      "CPU times: user 8min 33s, sys: 10 s, total: 8min 43s\n",
      "Wall time: 8min 28s\n"
     ]
    }
   ],
   "source": [
    "%%time\n",
    "\n",
    "traverse_array = run_fast_marching(raster_rasterization_array,\n",
    "                                   raster_rover_speed_array,\n",
    "                                   longitude_array,\n",
    "                                   latitude_array,\n",
    "                                   mars_radius)"
   ]
  },
  {
   "cell_type": "markdown",
   "metadata": {},
   "source": [
    "Export the map to a .tif file."
   ]
  },
  {
   "cell_type": "code",
   "execution_count": 132,
   "metadata": {},
   "outputs": [],
   "source": [
    "data_name = 'Recessional_Glacier_like_Forms'\n",
    "\n",
    "file_path = base_folder + output_folder + 'Interpreted_Data_Traverse_to_' + data_name + speed_affix + '.tif'\n",
    "raster_traverse = create_raster_from_array(traverse_array,           \n",
    "                                           master_geotransform, \n",
    "                                           master_projection,\n",
    "                                           file_type = 'GTiff',\n",
    "                                           file_path = file_path,\n",
    "                                           options = ['COMPRESS=DEFLATE', 'PREDICTOR=3', 'TILED=YES'])\n",
    "raster_traverse = None"
   ]
  },
  {
   "cell_type": "markdown",
   "metadata": {},
   "source": [
    "**Tropical mountain glaciers**\n",
    "\n",
    "https://planetarydatabase.wordpress.com/2016/04/21/fan-shaped-deposits-interpeted-as-tropical-mountain-glaciers-on-mars"
   ]
  },
  {
   "cell_type": "markdown",
   "metadata": {},
   "source": [
    "Rasterize the initial vector data at 20 ppd and perform the fast marching."
   ]
  },
  {
   "cell_type": "code",
   "execution_count": 133,
   "metadata": {},
   "outputs": [],
   "source": [
    "tropical_mountain_glaciers = pd.read_excel(base_folder + 'Original_Data/Interpreted_Data/idpf-9-23-2016-excel97.xls',\n",
    "                                           sheet_name = 'TropGlac (Kadish et al. 2014)')"
   ]
  },
  {
   "cell_type": "code",
   "execution_count": 134,
   "metadata": {},
   "outputs": [],
   "source": [
    "data_type = gdal.GDT_Int32\n",
    "\n",
    "shapes = []\n",
    "for index, row in tropical_mountain_glaciers.iterrows():\n",
    "    feature_geometry = Point(row['Lon E 180'], row['Lat'])\n",
    "    shapes.append(feature_geometry)\n",
    "\n",
    "raster_rasterization = rasterize_geometries(shapes, \n",
    "                                            data_type,\n",
    "                                            master_width, \n",
    "                                            master_height,\n",
    "                                            master_geotransform,\n",
    "                                            master_spatial_reference_system)\n",
    "raster_rasterization_array = get_raster_array(raster_rasterization)\n",
    "\n",
    "scientific_targets_array[raster_rasterization_array == 0] = 0"
   ]
  },
  {
   "cell_type": "code",
   "execution_count": 135,
   "metadata": {},
   "outputs": [
    {
     "name": "stdout",
     "output_type": "stream",
     "text": [
      "CPU times: user 3.04 s, sys: 213 ms, total: 3.25 s\n",
      "Wall time: 1.11 s\n"
     ]
    }
   ],
   "source": [
    "%%time\n",
    "\n",
    "traverse_array = run_fast_marching(raster_rasterization_array,\n",
    "                                   raster_rover_speed_array,\n",
    "                                   longitude_array,\n",
    "                                   latitude_array,\n",
    "                                   mars_radius)"
   ]
  },
  {
   "cell_type": "markdown",
   "metadata": {},
   "source": [
    "Export the map to a .tif file."
   ]
  },
  {
   "cell_type": "code",
   "execution_count": 136,
   "metadata": {},
   "outputs": [],
   "source": [
    "data_name = 'Tropical_Mountain_Glaciers'\n",
    "\n",
    "file_path = base_folder + output_folder + 'Interpreted_Data_Traverse_to_' + data_name + speed_affix + '.tif'\n",
    "raster_traverse = create_raster_from_array(traverse_array,           \n",
    "                                           master_geotransform, \n",
    "                                           master_projection,\n",
    "                                           file_type = 'GTiff',\n",
    "                                           file_path = file_path,\n",
    "                                           options = ['COMPRESS=DEFLATE', 'PREDICTOR=3', 'TILED=YES'])\n",
    "raster_traverse = None"
   ]
  },
  {
   "cell_type": "markdown",
   "metadata": {},
   "source": [
    "**Dissected mantle**\n",
    "\n",
    "https://planetarydatabase.wordpress.com/2016/07/05/dissected-mantle-ldm"
   ]
  },
  {
   "cell_type": "markdown",
   "metadata": {},
   "source": [
    "Rasterize the initial vector data at 20 ppd and perform the fast marching."
   ]
  },
  {
   "cell_type": "code",
   "execution_count": 137,
   "metadata": {},
   "outputs": [],
   "source": [
    "dissected_mantle = pd.read_excel(base_folder + 'Original_Data/Interpreted_Data/idpf-9-23-2016-excel97.xls',\n",
    "                                 sheet_name = 'Dissected mantle Milliken')"
   ]
  },
  {
   "cell_type": "code",
   "execution_count": 138,
   "metadata": {},
   "outputs": [],
   "source": [
    "data_type = gdal.GDT_Int32\n",
    "\n",
    "shapes = []\n",
    "for index, row in dissected_mantle.iterrows():\n",
    "    feature_geometry = Point(row['center lon (east)'], row['center lat.'])\n",
    "    shapes.append(feature_geometry)\n",
    "\n",
    "raster_rasterization = rasterize_geometries(shapes, \n",
    "                                            data_type,\n",
    "                                            master_width, \n",
    "                                            master_height,\n",
    "                                            master_geotransform,\n",
    "                                            master_spatial_reference_system)\n",
    "raster_rasterization_array = get_raster_array(raster_rasterization)\n",
    "\n",
    "scientific_targets_array[raster_rasterization_array == 0] = 0"
   ]
  },
  {
   "cell_type": "code",
   "execution_count": 139,
   "metadata": {},
   "outputs": [
    {
     "name": "stdout",
     "output_type": "stream",
     "text": [
      "CPU times: user 10min 34s, sys: 9.69 s, total: 10min 43s\n",
      "Wall time: 10min 30s\n"
     ]
    }
   ],
   "source": [
    "%%time\n",
    "\n",
    "traverse_array = run_fast_marching(raster_rasterization_array,\n",
    "                                   raster_rover_speed_array,\n",
    "                                   longitude_array,\n",
    "                                   latitude_array,\n",
    "                                   mars_radius)"
   ]
  },
  {
   "cell_type": "markdown",
   "metadata": {},
   "source": [
    "Export the map to a .tif file."
   ]
  },
  {
   "cell_type": "code",
   "execution_count": 140,
   "metadata": {},
   "outputs": [],
   "source": [
    "data_name = 'Dissected_Mantle'\n",
    "\n",
    "file_path = base_folder + output_folder + 'Interpreted_Data_Traverse_to_' + data_name + speed_affix + '.tif'\n",
    "raster_traverse = create_raster_from_array(traverse_array,           \n",
    "                                           master_geotransform, \n",
    "                                           master_projection,\n",
    "                                           file_type = 'GTiff',\n",
    "                                           file_path = file_path,\n",
    "                                           options = ['COMPRESS=DEFLATE', 'PREDICTOR=3', 'TILED=YES'])\n",
    "raster_traverse = None"
   ]
  },
  {
   "cell_type": "markdown",
   "metadata": {},
   "source": [
    "**Dune fields**\n",
    "\n",
    "https://planetarydatabase.wordpress.com/2016/04/21/mars-global-digital-dune-database"
   ]
  },
  {
   "cell_type": "markdown",
   "metadata": {},
   "source": [
    "Rasterize the initial vector data at 20 ppd and perform the fast marching."
   ]
  },
  {
   "cell_type": "code",
   "execution_count": 141,
   "metadata": {
    "scrolled": true
   },
   "outputs": [
    {
     "name": "stdout",
     "output_type": "stream",
     "text": [
      " _______________________________________________________________________________\n",
      "/ Shapefile field names:\n",
      "| \n",
      "| OBJECTID | Dune_Lon | Dune_Lat | Dune_ID | In_origina | Dune_Type | B_1 | Bd_1 | D_1 | L_1 | S_1 | SS_1 | T_1 | U_1 | BullsEye | Confidence | Type_Image | Area_sinu_ | SF | MDH1 | Volume_1 | MDH2 | Volume_2 | Avg_El | CcDcAz_Geo | CcDcAz_Mer | CcDcAz_Ste | SF_1_Az | SF_1_Count | SF_2_Az | SF_2_Count | SF_3_Az | SF_3_Count | SF_4_Az | SF_4_Count | Environ | Cr_Lon | Cr_Lat | Crater_BID | Cr_Area_si | Cr_Diam | MC | THEMIS_IR | THEMIS_VIS | MOC_NA | CTX | HiRISE | HRSC | WEB_LINK_1 | WEB_LINK_2 | Comments | SF1_Merc | SF2_Merc | SF3_Merc | SF4_Merc | Shape_Leng | MDHeight | CcDcAzimut | SF_2_Azimu | SF_3_Azimu | SF_4_Azimu | Cr_Lon_Eas | Cr_Diam_1 | Mars_5M_Ch | VIS | MOC | Comments_1 | Density | IR | Shape_Le_1 | Shape_Area \n",
      "\\_______________________________________________________________________________\n"
     ]
    }
   ],
   "source": [
    "shapefile_dune_fields = open_shapefile(base_folder + 'Original_Data/Interpreted_Data/dune-polygon/dune-polygon.shp')\n",
    "\n",
    "print_shapefile_field_names(shapefile_dune_fields)"
   ]
  },
  {
   "cell_type": "code",
   "execution_count": 142,
   "metadata": {},
   "outputs": [],
   "source": [
    "projection = shapefile_dune_fields.GetLayer().GetSpatialRef().ExportToWkt()\n",
    "data_type = gdal.GDT_Int32\n",
    "\n",
    "raster_rasterization = rasterize_shapefile(shapefile_dune_fields, \n",
    "                                           None,\n",
    "                                           data_type,\n",
    "                                           master_width, \n",
    "                                           master_height,                    \n",
    "                                           master_geotransform, \n",
    "                                           projection)\n",
    "raster_rasterization_array = get_raster_array(raster_rasterization)\n",
    "\n",
    "scientific_targets_array[raster_rasterization_array == 0] = 0"
   ]
  },
  {
   "cell_type": "code",
   "execution_count": 143,
   "metadata": {},
   "outputs": [
    {
     "name": "stdout",
     "output_type": "stream",
     "text": [
      "CPU times: user 9min 53s, sys: 9.22 s, total: 10min 2s\n",
      "Wall time: 9min 49s\n"
     ]
    }
   ],
   "source": [
    "%%time\n",
    "\n",
    "traverse_array = run_fast_marching(raster_rasterization_array,\n",
    "                                   raster_rover_speed_array,\n",
    "                                   longitude_array,\n",
    "                                   latitude_array,\n",
    "                                   mars_radius)"
   ]
  },
  {
   "cell_type": "markdown",
   "metadata": {},
   "source": [
    "Export the map to a .tif file."
   ]
  },
  {
   "cell_type": "code",
   "execution_count": 144,
   "metadata": {},
   "outputs": [],
   "source": [
    "data_name = 'Dune_Fields'\n",
    "\n",
    "file_path = base_folder + output_folder + 'Interpreted_Data_Traverse_to_' + data_name + speed_affix + '.tif'\n",
    "raster_traverse = create_raster_from_array(traverse_array,           \n",
    "                                           master_geotransform, \n",
    "                                           master_projection,\n",
    "                                           file_type = 'GTiff',\n",
    "                                           file_path = file_path,\n",
    "                                           options = ['COMPRESS=DEFLATE', 'PREDICTOR=3', 'TILED=YES'])\n",
    "raster_traverse = None"
   ]
  },
  {
   "cell_type": "markdown",
   "metadata": {},
   "source": [
    "**Crater-floor dunes**\n",
    "\n",
    "http://craters.sjrdesign.net/"
   ]
  },
  {
   "cell_type": "markdown",
   "metadata": {},
   "source": [
    "Rasterize the initial vector data at 20 ppd and perform the fast marching."
   ]
  },
  {
   "cell_type": "code",
   "execution_count": 145,
   "metadata": {},
   "outputs": [],
   "source": [
    "data_type = gdal.GDT_Int32\n",
    "\n",
    "shapes = []\n",
    "for crater in zip(*mars_craters):\n",
    "    if 'Dunes' in crater[5]:\n",
    "        feature_geometry = Point(crater[0], crater[1])\n",
    "        shapes.append(feature_geometry)\n",
    "\n",
    "raster_rasterization = rasterize_geometries(shapes, \n",
    "                                            data_type,\n",
    "                                            master_width, \n",
    "                                            master_height,\n",
    "                                            master_geotransform,\n",
    "                                            master_spatial_reference_system)\n",
    "raster_rasterization_array = get_raster_array(raster_rasterization)\n",
    "\n",
    "scientific_targets_array[raster_rasterization_array == 0] = 0"
   ]
  },
  {
   "cell_type": "code",
   "execution_count": 146,
   "metadata": {},
   "outputs": [
    {
     "name": "stdout",
     "output_type": "stream",
     "text": [
      "CPU times: user 10min 50s, sys: 8.96 s, total: 10min 59s\n",
      "Wall time: 10min 47s\n"
     ]
    }
   ],
   "source": [
    "%%time\n",
    "\n",
    "traverse_array = run_fast_marching(raster_rasterization_array,\n",
    "                                   raster_rover_speed_array,\n",
    "                                   longitude_array,\n",
    "                                   latitude_array,\n",
    "                                   mars_radius)"
   ]
  },
  {
   "cell_type": "markdown",
   "metadata": {},
   "source": [
    "Export the map to a .tif file."
   ]
  },
  {
   "cell_type": "code",
   "execution_count": 147,
   "metadata": {},
   "outputs": [],
   "source": [
    "data_name = 'Crater_Floor_Dunes'\n",
    "\n",
    "file_path = base_folder + output_folder + 'Interpreted_Data_Traverse_to_' + data_name + speed_affix + '.tif'\n",
    "raster_traverse = create_raster_from_array(traverse_array,           \n",
    "                                           master_geotransform, \n",
    "                                           master_projection,\n",
    "                                           file_type = 'GTiff',\n",
    "                                           file_path = file_path,\n",
    "                                           options = ['COMPRESS=DEFLATE', 'PREDICTOR=3', 'TILED=YES'])\n",
    "raster_traverse = None"
   ]
  },
  {
   "cell_type": "markdown",
   "metadata": {},
   "source": [
    "**Yardangs**\n",
    "\n",
    "ftp://pdsimage2.wr.usgs.gov/pub/pigpen/mars/geology"
   ]
  },
  {
   "cell_type": "markdown",
   "metadata": {},
   "source": [
    "Rasterize the initial vector data at 20 ppd and perform the fast marching."
   ]
  },
  {
   "cell_type": "code",
   "execution_count": 148,
   "metadata": {},
   "outputs": [
    {
     "name": "stdout",
     "output_type": "stream",
     "text": [
      " _______________________________________________________________________________\n",
      "/ Shapefile field names:\n",
      "| \n",
      "\n",
      "\\_______________________________________________________________________________\n"
     ]
    }
   ],
   "source": [
    "shapefile_yardangs = filter_shapefile(shapefile_structures,\n",
    "                                      'Interpreta', \n",
    "                                      ['Yardangs'])\n",
    "print_shapefile_field_names(shapefile_yardangs)"
   ]
  },
  {
   "cell_type": "code",
   "execution_count": 149,
   "metadata": {},
   "outputs": [],
   "source": [
    "projection = shapefile_yardangs.GetLayer().GetSpatialRef().ExportToWkt()\n",
    "data_type = gdal.GDT_Int32\n",
    "\n",
    "raster_rasterization = rasterize_shapefile(shapefile_yardangs, \n",
    "                                           None,\n",
    "                                           data_type,\n",
    "                                           master_width, \n",
    "                                           master_height,                    \n",
    "                                           master_geotransform, \n",
    "                                           projection)\n",
    "raster_rasterization_array = get_raster_array(raster_rasterization)\n",
    "\n",
    "scientific_targets_array[raster_rasterization_array == 0] = 0"
   ]
  },
  {
   "cell_type": "code",
   "execution_count": 150,
   "metadata": {},
   "outputs": [
    {
     "name": "stdout",
     "output_type": "stream",
     "text": [
      "CPU times: user 8min 22s, sys: 14.7 s, total: 8min 36s\n",
      "Wall time: 8min 15s\n"
     ]
    }
   ],
   "source": [
    "%%time\n",
    "\n",
    "traverse_array = run_fast_marching(raster_rasterization_array,\n",
    "                                   raster_rover_speed_array,\n",
    "                                   longitude_array,\n",
    "                                   latitude_array,\n",
    "                                   mars_radius)"
   ]
  },
  {
   "cell_type": "markdown",
   "metadata": {},
   "source": [
    "Export the map to a .tif file."
   ]
  },
  {
   "cell_type": "code",
   "execution_count": 151,
   "metadata": {},
   "outputs": [],
   "source": [
    "data_name = 'Yardangs'\n",
    "\n",
    "file_path = base_folder + output_folder + 'Interpreted_Data_Traverse_to_' + data_name + speed_affix + '.tif'\n",
    "raster_traverse = create_raster_from_array(traverse_array,           \n",
    "                                           master_geotransform, \n",
    "                                           master_projection,\n",
    "                                           file_type = 'GTiff',\n",
    "                                           file_path = file_path,\n",
    "                                           options = ['COMPRESS=DEFLATE', 'PREDICTOR=3', 'TILED=YES'])\n",
    "raster_traverse = None"
   ]
  },
  {
   "cell_type": "markdown",
   "metadata": {},
   "source": [
    "### Volcanic, tectonic, and impact structures"
   ]
  },
  {
   "cell_type": "markdown",
   "metadata": {},
   "source": [
    "**Volcanoes**\n",
    "\n",
    "https://planetarydatabase.wordpress.com/category/mars/volcanoes"
   ]
  },
  {
   "cell_type": "markdown",
   "metadata": {},
   "source": [
    "Rasterize the initial vector data at 20 ppd and perform the fast marching."
   ]
  },
  {
   "cell_type": "code",
   "execution_count": 152,
   "metadata": {},
   "outputs": [
    {
     "name": "stdout",
     "output_type": "stream",
     "text": [
      " _______________________________________________________________________________\n",
      "/ Shapefile field names:\n",
      "| \n",
      "| Name | Peri | Dia | Area | Reference | Name2 | Type | Group | EdificeA | EdificeB | Source | TypeHodges | Lat | Lon180E | Img | MAX_1 | RANGE_1 | MEAN \n",
      "\\_______________________________________________________________________________\n"
     ]
    }
   ],
   "source": [
    "shapefile_volcanoes = open_shapefile(base_folder + 'Original_Data/Interpreted_Data/volcano/volcano0610.shp')\n",
    "\n",
    "print_shapefile_field_names(shapefile_volcanoes)"
   ]
  },
  {
   "cell_type": "code",
   "execution_count": 153,
   "metadata": {},
   "outputs": [
    {
     "name": "stdout",
     "output_type": "stream",
     "text": [
      "(-10384158.801737586, 10665646.435884062, -4497441.616826917, 4820504.397432575)\n",
      "(-10669675.197320545, 10669675.197320545, -5334837.598660273, 5334837.598660273)\n"
     ]
    }
   ],
   "source": [
    "print(shapefile_volcanoes.GetLayer().GetExtent())\n",
    "\n",
    "raster_topo = open_raster(base_folder + 'Original_Data/MGS/MOLA/Mars_MGS_MOLA_DEM_mosaic_global_463m.tif')\n",
    "print(get_raster_extent(raster_topo))"
   ]
  },
  {
   "cell_type": "code",
   "execution_count": 154,
   "metadata": {},
   "outputs": [],
   "source": [
    "x_min, x_max, y_min, y_max = get_raster_extent(raster_topo)\n",
    "\n",
    "shapefile_volcanoes = modify_shapefile_extent(shapefile_volcanoes, \n",
    "                                              x_min, x_max, y_min, y_max, \n",
    "                                              master_lon_min, master_lon_max, master_lat_min, master_lat_max)\n",
    "\n",
    "projection = shapefile_volcanoes.GetLayer().GetSpatialRef().ExportToWkt()\n",
    "data_type = gdal.GDT_Int32\n",
    "\n",
    "raster_rasterization = rasterize_shapefile(shapefile_volcanoes, \n",
    "                                           None,\n",
    "                                           data_type,\n",
    "                                           master_width, \n",
    "                                           master_height,                    \n",
    "                                           master_geotransform, \n",
    "                                           projection)\n",
    "raster_rasterization_array = get_raster_array(raster_rasterization)\n",
    "\n",
    "scientific_targets_array[raster_rasterization_array == 0] = 0"
   ]
  },
  {
   "cell_type": "code",
   "execution_count": 155,
   "metadata": {},
   "outputs": [
    {
     "name": "stdout",
     "output_type": "stream",
     "text": [
      "CPU times: user 8min 42s, sys: 8 s, total: 8min 50s\n",
      "Wall time: 8min 38s\n"
     ]
    }
   ],
   "source": [
    "%%time\n",
    "\n",
    "traverse_array = run_fast_marching(raster_rasterization_array,\n",
    "                                   raster_rover_speed_array,\n",
    "                                   longitude_array,\n",
    "                                   latitude_array,\n",
    "                                   mars_radius)"
   ]
  },
  {
   "cell_type": "markdown",
   "metadata": {},
   "source": [
    "Export the map to a .tif file."
   ]
  },
  {
   "cell_type": "code",
   "execution_count": 156,
   "metadata": {},
   "outputs": [],
   "source": [
    "data_name = 'Volcanoes'\n",
    "\n",
    "file_path = base_folder + output_folder + 'Interpreted_Data_Traverse_to_' + data_name + speed_affix + '.tif'\n",
    "raster_traverse = create_raster_from_array(traverse_array,           \n",
    "                                           master_geotransform, \n",
    "                                           master_projection,\n",
    "                                           file_type = 'GTiff',\n",
    "                                           file_path = file_path,\n",
    "                                           options = ['COMPRESS=DEFLATE', 'PREDICTOR=3', 'TILED=YES'])\n",
    "raster_traverse = None"
   ]
  },
  {
   "cell_type": "markdown",
   "metadata": {},
   "source": [
    "**Calderas**\n",
    "\n",
    "https://planetarydatabase.wordpress.com/2016/04/21/calderas/"
   ]
  },
  {
   "cell_type": "markdown",
   "metadata": {},
   "source": [
    "Rasterize the initial vector data at 20 ppd and perform the fast marching."
   ]
  },
  {
   "cell_type": "code",
   "execution_count": 157,
   "metadata": {},
   "outputs": [
    {
     "name": "stdout",
     "output_type": "stream",
     "text": [
      " _______________________________________________________________________________\n",
      "/ Shapefile field names:\n",
      "| \n",
      "| OBJECTID | LON | LAT_1 | Area | Name | Source | Caledra_No \n",
      "\\_______________________________________________________________________________\n"
     ]
    }
   ],
   "source": [
    "shapefile_calderas = open_shapefile(base_folder + 'Original_Data/Interpreted_Data/caldera3/calderas_3.shp')\n",
    "\n",
    "print_shapefile_field_names(shapefile_calderas)"
   ]
  },
  {
   "cell_type": "code",
   "execution_count": 158,
   "metadata": {},
   "outputs": [],
   "source": [
    "projection = shapefile_calderas.GetLayer().GetSpatialRef().ExportToWkt()\n",
    "data_type = gdal.GDT_Int32\n",
    "\n",
    "raster_rasterization = rasterize_shapefile(shapefile_calderas, \n",
    "                                           None,\n",
    "                                           data_type,\n",
    "                                           master_width, \n",
    "                                           master_height,                    \n",
    "                                           master_geotransform, \n",
    "                                           projection)\n",
    "raster_rasterization_array = get_raster_array(raster_rasterization)\n",
    "\n",
    "scientific_targets_array[raster_rasterization_array == 0] = 0"
   ]
  },
  {
   "cell_type": "code",
   "execution_count": 159,
   "metadata": {},
   "outputs": [
    {
     "name": "stdout",
     "output_type": "stream",
     "text": [
      "CPU times: user 8min 17s, sys: 13.3 s, total: 8min 31s\n",
      "Wall time: 8min 12s\n"
     ]
    }
   ],
   "source": [
    "%%time\n",
    "\n",
    "traverse_array = run_fast_marching(raster_rasterization_array,\n",
    "                                   raster_rover_speed_array,\n",
    "                                   longitude_array,\n",
    "                                   latitude_array,\n",
    "                                   mars_radius)"
   ]
  },
  {
   "cell_type": "markdown",
   "metadata": {},
   "source": [
    "Export the map to a .tif file."
   ]
  },
  {
   "cell_type": "code",
   "execution_count": 160,
   "metadata": {},
   "outputs": [],
   "source": [
    "data_name = 'Calderas'\n",
    "\n",
    "file_path = base_folder + output_folder + 'Interpreted_Data_Traverse_to_' + data_name + speed_affix + '.tif'\n",
    "raster_traverse = create_raster_from_array(traverse_array,           \n",
    "                                           master_geotransform, \n",
    "                                           master_projection,\n",
    "                                           file_type = 'GTiff',\n",
    "                                           file_path = file_path,\n",
    "                                           options = ['COMPRESS=DEFLATE', 'PREDICTOR=3', 'TILED=YES'])\n",
    "raster_traverse = None"
   ]
  },
  {
   "cell_type": "markdown",
   "metadata": {},
   "source": [
    "**Tharsis vents**\n",
    "\n",
    "astrogeology.usgs.gov/search/map/Mars/Research/Volcanic/TharsisVents"
   ]
  },
  {
   "cell_type": "markdown",
   "metadata": {},
   "source": [
    "Rasterize the initial vector data at 20 ppd and perform the fast marching."
   ]
  },
  {
   "cell_type": "code",
   "execution_count": 161,
   "metadata": {},
   "outputs": [
    {
     "name": "stdout",
     "output_type": "stream",
     "text": [
      " _______________________________________________________________________________\n",
      "/ Shapefile field names:\n",
      "| \n",
      "| Longitude | Latitude \n",
      "\\_______________________________________________________________________________\n"
     ]
    }
   ],
   "source": [
    "shapefile_tharsis_vents = open_shapefile(base_folder + 'Original_Data/Interpreted_Data/TharsisVents140408/TharsisVents140408_dd0.shp')\n",
    "\n",
    "print_shapefile_field_names(shapefile_tharsis_vents)"
   ]
  },
  {
   "cell_type": "code",
   "execution_count": 162,
   "metadata": {},
   "outputs": [],
   "source": [
    "projection = shapefile_tharsis_vents.GetLayer().GetSpatialRef().ExportToWkt()\n",
    "data_type = gdal.GDT_Int32\n",
    "\n",
    "raster_rasterization = rasterize_shapefile(shapefile_tharsis_vents, \n",
    "                                           None,\n",
    "                                           data_type,\n",
    "                                           master_width, \n",
    "                                           master_height,                    \n",
    "                                           master_geotransform, \n",
    "                                           projection)\n",
    "raster_rasterization_array = get_raster_array(raster_rasterization)\n",
    "\n",
    "scientific_targets_array[raster_rasterization_array == 0] = 0"
   ]
  },
  {
   "cell_type": "code",
   "execution_count": 163,
   "metadata": {},
   "outputs": [
    {
     "name": "stdout",
     "output_type": "stream",
     "text": [
      "CPU times: user 9min 44s, sys: 13.2 s, total: 9min 57s\n",
      "Wall time: 9min 40s\n"
     ]
    }
   ],
   "source": [
    "%%time\n",
    "\n",
    "traverse_array = run_fast_marching(raster_rasterization_array,\n",
    "                                   raster_rover_speed_array,\n",
    "                                   longitude_array,\n",
    "                                   latitude_array,\n",
    "                                   mars_radius)"
   ]
  },
  {
   "cell_type": "markdown",
   "metadata": {},
   "source": [
    "Export the map to a .tif file."
   ]
  },
  {
   "cell_type": "code",
   "execution_count": 164,
   "metadata": {},
   "outputs": [],
   "source": [
    "data_name = 'Tharsis_Vents'\n",
    "\n",
    "file_path = base_folder + output_folder + 'Interpreted_Data_Traverse_to_' + data_name + speed_affix + '.tif'\n",
    "raster_traverse = create_raster_from_array(traverse_array,           \n",
    "                                           master_geotransform, \n",
    "                                           master_projection,\n",
    "                                           file_type = 'GTiff',\n",
    "                                           file_path = file_path,\n",
    "                                           options = ['COMPRESS=DEFLATE', 'PREDICTOR=3', 'TILED=YES'])\n",
    "raster_traverse = None"
   ]
  },
  {
   "cell_type": "markdown",
   "metadata": {},
   "source": [
    "**Rilles**\n",
    "\n",
    "ftp://pdsimage2.wr.usgs.gov/pub/pigpen/mars/geology"
   ]
  },
  {
   "cell_type": "markdown",
   "metadata": {},
   "source": [
    "Rasterize the initial vector data at 20 ppd and perform the fast marching."
   ]
  },
  {
   "cell_type": "code",
   "execution_count": 165,
   "metadata": {},
   "outputs": [
    {
     "name": "stdout",
     "output_type": "stream",
     "text": [
      " _______________________________________________________________________________\n",
      "/ Shapefile field names:\n",
      "| \n",
      "\n",
      "\\_______________________________________________________________________________\n"
     ]
    }
   ],
   "source": [
    "shapefile_rilles = filter_shapefile(shapefile_structures,\n",
    "                                    'Interpreta', \n",
    "                                    ['Rille'])\n",
    "print_shapefile_field_names(shapefile_rilles)"
   ]
  },
  {
   "cell_type": "code",
   "execution_count": 166,
   "metadata": {},
   "outputs": [],
   "source": [
    "projection = shapefile_rilles.GetLayer().GetSpatialRef().ExportToWkt()\n",
    "data_type = gdal.GDT_Int32\n",
    "\n",
    "raster_rasterization = rasterize_shapefile(shapefile_rilles, \n",
    "                                           None,\n",
    "                                           data_type,\n",
    "                                           master_width, \n",
    "                                           master_height,                    \n",
    "                                           master_geotransform, \n",
    "                                           projection)\n",
    "raster_rasterization_array = get_raster_array(raster_rasterization)\n",
    "\n",
    "scientific_targets_array[raster_rasterization_array == 0] = 0"
   ]
  },
  {
   "cell_type": "code",
   "execution_count": 167,
   "metadata": {},
   "outputs": [
    {
     "name": "stdout",
     "output_type": "stream",
     "text": [
      "CPU times: user 8min 17s, sys: 12.9 s, total: 8min 29s\n",
      "Wall time: 8min 12s\n"
     ]
    }
   ],
   "source": [
    "%%time\n",
    "\n",
    "traverse_array = run_fast_marching(raster_rasterization_array,\n",
    "                                   raster_rover_speed_array,\n",
    "                                   longitude_array,\n",
    "                                   latitude_array,\n",
    "                                   mars_radius)"
   ]
  },
  {
   "cell_type": "markdown",
   "metadata": {},
   "source": [
    "Export the map to a .tif file."
   ]
  },
  {
   "cell_type": "code",
   "execution_count": 168,
   "metadata": {},
   "outputs": [],
   "source": [
    "data_name = 'Rilles'\n",
    "\n",
    "file_path = base_folder + output_folder + 'Interpreted_Data_Traverse_to_' + data_name + speed_affix + '.tif'\n",
    "raster_traverse = create_raster_from_array(traverse_array,           \n",
    "                                           master_geotransform, \n",
    "                                           master_projection,\n",
    "                                           file_type = 'GTiff',\n",
    "                                           file_path = file_path,\n",
    "                                           options = ['COMPRESS=DEFLATE', 'PREDICTOR=3', 'TILED=YES'])\n",
    "raster_traverse = None"
   ]
  },
  {
   "cell_type": "markdown",
   "metadata": {},
   "source": [
    "**Lobate flows**\n",
    "\n",
    "ftp://pdsimage2.wr.usgs.gov/pub/pigpen/mars/geology"
   ]
  },
  {
   "cell_type": "markdown",
   "metadata": {},
   "source": [
    "Rasterize the initial vector data at 20 ppd and perform the fast marching."
   ]
  },
  {
   "cell_type": "code",
   "execution_count": 169,
   "metadata": {},
   "outputs": [
    {
     "name": "stdout",
     "output_type": "stream",
     "text": [
      " _______________________________________________________________________________\n",
      "/ Shapefile field names:\n",
      "| \n",
      "\n",
      "\\_______________________________________________________________________________\n"
     ]
    }
   ],
   "source": [
    "shapefile_lobate_flows = filter_shapefile(shapefile_structures,\n",
    "                                          'Interpreta', \n",
    "                                          ['Lobate flow'])\n",
    "print_shapefile_field_names(shapefile_lobate_flows)"
   ]
  },
  {
   "cell_type": "code",
   "execution_count": 170,
   "metadata": {},
   "outputs": [],
   "source": [
    "projection = shapefile_lobate_flows.GetLayer().GetSpatialRef().ExportToWkt()\n",
    "data_type = gdal.GDT_Int32\n",
    "\n",
    "raster_rasterization = rasterize_shapefile(shapefile_lobate_flows, \n",
    "                                           None,\n",
    "                                           data_type,\n",
    "                                           master_width, \n",
    "                                           master_height,                    \n",
    "                                           master_geotransform, \n",
    "                                           projection)\n",
    "raster_rasterization_array = get_raster_array(raster_rasterization)\n",
    "\n",
    "scientific_targets_array[raster_rasterization_array == 0] = 0"
   ]
  },
  {
   "cell_type": "code",
   "execution_count": 171,
   "metadata": {},
   "outputs": [
    {
     "name": "stdout",
     "output_type": "stream",
     "text": [
      "CPU times: user 8min 20s, sys: 11.7 s, total: 8min 32s\n",
      "Wall time: 8min 16s\n"
     ]
    }
   ],
   "source": [
    "%%time\n",
    "\n",
    "traverse_array = run_fast_marching(raster_rasterization_array,\n",
    "                                   raster_rover_speed_array,\n",
    "                                   longitude_array,\n",
    "                                   latitude_array,\n",
    "                                   mars_radius)"
   ]
  },
  {
   "cell_type": "markdown",
   "metadata": {},
   "source": [
    "Export the map to a .tif file."
   ]
  },
  {
   "cell_type": "code",
   "execution_count": 172,
   "metadata": {},
   "outputs": [],
   "source": [
    "data_name = 'Lobate_Flows'\n",
    "\n",
    "file_path = base_folder + output_folder + 'Interpreted_Data_Traverse_to_' + data_name + speed_affix + '.tif'\n",
    "raster_traverse = create_raster_from_array(traverse_array,           \n",
    "                                           master_geotransform, \n",
    "                                           master_projection,\n",
    "                                           file_type = 'GTiff',\n",
    "                                           file_path = file_path,\n",
    "                                           options = ['COMPRESS=DEFLATE', 'PREDICTOR=3', 'TILED=YES'])\n",
    "raster_traverse = None"
   ]
  },
  {
   "cell_type": "markdown",
   "metadata": {},
   "source": [
    "**Graben axes**\n",
    "\n",
    "ftp://pdsimage2.wr.usgs.gov/pub/pigpen/mars/geology"
   ]
  },
  {
   "cell_type": "markdown",
   "metadata": {},
   "source": [
    "Rasterize the initial vector data at 20 ppd and perform the fast marching."
   ]
  },
  {
   "cell_type": "code",
   "execution_count": 173,
   "metadata": {},
   "outputs": [
    {
     "name": "stdout",
     "output_type": "stream",
     "text": [
      " _______________________________________________________________________________\n",
      "/ Shapefile field names:\n",
      "| \n",
      "\n",
      "\\_______________________________________________________________________________\n",
      " _______________________________________________________________________________\n",
      "/ Shapefile field names:\n",
      "| \n",
      "| TYPE | Shape_Leng \n",
      "\\_______________________________________________________________________________\n"
     ]
    }
   ],
   "source": [
    "shapefile_graben_axes = filter_shapefile(shapefile_structures,\n",
    "                                         'Interpreta', \n",
    "                                         ['Graben axis'])\n",
    "print_shapefile_field_names(shapefile_graben_axes)\n",
    "\n",
    "shapefile_graben_axes_part2 = open_shapefile(base_folder + 'Original_Data/Interpreted_Data/NPlains_geology_SIM2888_2005/SIM2888_mar06_preliminary/shapefiles/SIM2888_Mars2000_Sphere/SIM2888_grabens_ocentric.shp')\n",
    "print_shapefile_field_names(shapefile_graben_axes_part2)"
   ]
  },
  {
   "cell_type": "code",
   "execution_count": 174,
   "metadata": {},
   "outputs": [],
   "source": [
    "projection = shapefile_graben_axes.GetLayer().GetSpatialRef().ExportToWkt()\n",
    "data_type = gdal.GDT_Int32\n",
    "\n",
    "raster_rasterization = rasterize_shapefile(shapefile_graben_axes, \n",
    "                                           None,\n",
    "                                           data_type,\n",
    "                                           master_width, \n",
    "                                           master_height,                    \n",
    "                                           master_geotransform, \n",
    "                                           projection)\n",
    "raster_rasterization_array = get_raster_array(raster_rasterization)\n",
    "\n",
    "projection = shapefile_graben_axes_part2.GetLayer().GetSpatialRef().ExportToWkt()\n",
    "\n",
    "raster_rasterization_part2 = rasterize_shapefile(shapefile_graben_axes_part2, \n",
    "                                                 None,\n",
    "                                                 data_type,\n",
    "                                                 master_width, \n",
    "                                                 master_height,                    \n",
    "                                                 master_geotransform, \n",
    "                                                 projection)\n",
    "raster_rasterization_part2_array = get_raster_array(raster_rasterization_part2)\n",
    "\n",
    "raster_rasterization_array[raster_rasterization_part2_array == 0] = 0\n",
    "\n",
    "scientific_targets_array[raster_rasterization_array == 0] = 0"
   ]
  },
  {
   "cell_type": "code",
   "execution_count": 175,
   "metadata": {},
   "outputs": [
    {
     "name": "stdout",
     "output_type": "stream",
     "text": [
      "CPU times: user 10min 35s, sys: 9.62 s, total: 10min 45s\n",
      "Wall time: 10min 33s\n"
     ]
    }
   ],
   "source": [
    "%%time\n",
    "\n",
    "traverse_array = run_fast_marching(raster_rasterization_array,\n",
    "                                   raster_rover_speed_array,\n",
    "                                   longitude_array,\n",
    "                                   latitude_array,\n",
    "                                   mars_radius)"
   ]
  },
  {
   "cell_type": "markdown",
   "metadata": {},
   "source": [
    "Export the map to a .tif file."
   ]
  },
  {
   "cell_type": "code",
   "execution_count": 176,
   "metadata": {},
   "outputs": [],
   "source": [
    "data_name = 'Graben_Axes'\n",
    "\n",
    "file_path = base_folder + output_folder + 'Interpreted_Data_Traverse_to_' + data_name + speed_affix + '.tif'\n",
    "raster_traverse = create_raster_from_array(traverse_array,           \n",
    "                                           master_geotransform, \n",
    "                                           master_projection,\n",
    "                                           file_type = 'GTiff',\n",
    "                                           file_path = file_path,\n",
    "                                           options = ['COMPRESS=DEFLATE', 'PREDICTOR=3', 'TILED=YES'])\n",
    "raster_traverse = None"
   ]
  },
  {
   "cell_type": "markdown",
   "metadata": {},
   "source": [
    "**Pit-crater chain**\n",
    "\n",
    "ftp://pdsimage2.wr.usgs.gov/pub/pigpen/mars/geology"
   ]
  },
  {
   "cell_type": "markdown",
   "metadata": {},
   "source": [
    "Rasterize the initial vector data at 20 ppd and perform the fast marching."
   ]
  },
  {
   "cell_type": "code",
   "execution_count": 177,
   "metadata": {},
   "outputs": [
    {
     "name": "stdout",
     "output_type": "stream",
     "text": [
      " _______________________________________________________________________________\n",
      "/ Shapefile field names:\n",
      "| \n",
      "\n",
      "\\_______________________________________________________________________________\n"
     ]
    }
   ],
   "source": [
    "shapefile_pit_crater_chains = filter_shapefile(shapefile_structures,\n",
    "                                               'Interpreta', \n",
    "                                               ['Pit crater chain'])\n",
    "print_shapefile_field_names(shapefile_pit_crater_chains)"
   ]
  },
  {
   "cell_type": "code",
   "execution_count": 178,
   "metadata": {},
   "outputs": [],
   "source": [
    "projection = shapefile_pit_crater_chains.GetLayer().GetSpatialRef().ExportToWkt()\n",
    "data_type = gdal.GDT_Int32\n",
    "\n",
    "raster_rasterization = rasterize_shapefile(shapefile_pit_crater_chains, \n",
    "                                           None,\n",
    "                                           data_type,\n",
    "                                           master_width, \n",
    "                                           master_height,                    \n",
    "                                           master_geotransform, \n",
    "                                           projection)\n",
    "raster_rasterization_array = get_raster_array(raster_rasterization)\n",
    "\n",
    "scientific_targets_array[raster_rasterization_array == 0] = 0"
   ]
  },
  {
   "cell_type": "code",
   "execution_count": 179,
   "metadata": {},
   "outputs": [
    {
     "name": "stdout",
     "output_type": "stream",
     "text": [
      "CPU times: user 9min 48s, sys: 12 s, total: 10min\n",
      "Wall time: 9min 44s\n"
     ]
    }
   ],
   "source": [
    "%%time\n",
    "\n",
    "traverse_array = run_fast_marching(raster_rasterization_array,\n",
    "                                   raster_rover_speed_array,\n",
    "                                   longitude_array,\n",
    "                                   latitude_array,\n",
    "                                   mars_radius)"
   ]
  },
  {
   "cell_type": "markdown",
   "metadata": {},
   "source": [
    "Export the map to a .tif file."
   ]
  },
  {
   "cell_type": "code",
   "execution_count": 180,
   "metadata": {},
   "outputs": [],
   "source": [
    "data_name = 'Pit_crater_Chains'\n",
    "\n",
    "file_path = base_folder + output_folder + 'Interpreted_Data_Traverse_to_' + data_name + speed_affix + '.tif'\n",
    "raster_traverse = create_raster_from_array(traverse_array,           \n",
    "                                           master_geotransform, \n",
    "                                           master_projection,\n",
    "                                           file_type = 'GTiff',\n",
    "                                           file_path = file_path,\n",
    "                                           options = ['COMPRESS=DEFLATE', 'PREDICTOR=3', 'TILED=YES'])\n",
    "raster_traverse = None"
   ]
  },
  {
   "cell_type": "markdown",
   "metadata": {},
   "source": [
    "**Wrinkle ridges**\n",
    "\n",
    "ftp://pdsimage2.wr.usgs.gov/pub/pigpen/mars/geology"
   ]
  },
  {
   "cell_type": "markdown",
   "metadata": {},
   "source": [
    "Rasterize the initial vector data at 20 ppd and perform the fast marching."
   ]
  },
  {
   "cell_type": "code",
   "execution_count": 181,
   "metadata": {},
   "outputs": [
    {
     "name": "stdout",
     "output_type": "stream",
     "text": [
      " _______________________________________________________________________________\n",
      "/ Shapefile field names:\n",
      "| \n",
      "\n",
      "\\_______________________________________________________________________________\n"
     ]
    }
   ],
   "source": [
    "shapefile_wrinkle_ridges = filter_shapefile(shapefile_structures,\n",
    "                                            'Interpreta', \n",
    "                                            ['Wrinkle ridge'])\n",
    "print_shapefile_field_names(shapefile_wrinkle_ridges)"
   ]
  },
  {
   "cell_type": "code",
   "execution_count": 182,
   "metadata": {},
   "outputs": [],
   "source": [
    "projection = shapefile_wrinkle_ridges.GetLayer().GetSpatialRef().ExportToWkt()\n",
    "data_type = gdal.GDT_Int32\n",
    "\n",
    "raster_rasterization = rasterize_shapefile(shapefile_wrinkle_ridges, \n",
    "                                           None,\n",
    "                                           data_type,\n",
    "                                           master_width, \n",
    "                                           master_height,                    \n",
    "                                           master_geotransform, \n",
    "                                           projection)\n",
    "raster_rasterization_array = get_raster_array(raster_rasterization)\n",
    "\n",
    "scientific_targets_array[raster_rasterization_array == 0] = 0"
   ]
  },
  {
   "cell_type": "code",
   "execution_count": 183,
   "metadata": {},
   "outputs": [
    {
     "name": "stdout",
     "output_type": "stream",
     "text": [
      "CPU times: user 9min 45s, sys: 8.61 s, total: 9min 54s\n",
      "Wall time: 9min 42s\n"
     ]
    }
   ],
   "source": [
    "%%time\n",
    "\n",
    "traverse_array = run_fast_marching(raster_rasterization_array,\n",
    "                                   raster_rover_speed_array,\n",
    "                                   longitude_array,\n",
    "                                   latitude_array,\n",
    "                                   mars_radius)"
   ]
  },
  {
   "cell_type": "markdown",
   "metadata": {},
   "source": [
    "Export the map to a .tif file."
   ]
  },
  {
   "cell_type": "code",
   "execution_count": 184,
   "metadata": {},
   "outputs": [],
   "source": [
    "data_name = 'Wrinkle_Ridges'\n",
    "\n",
    "file_path = base_folder + output_folder + 'Interpreted_Data_Traverse_to_' + data_name + speed_affix + '.tif'\n",
    "raster_traverse = create_raster_from_array(traverse_array,           \n",
    "                                           master_geotransform, \n",
    "                                           master_projection,\n",
    "                                           file_type = 'GTiff',\n",
    "                                           file_path = file_path,\n",
    "                                           options = ['COMPRESS=DEFLATE', 'PREDICTOR=3', 'TILED=YES'])\n",
    "raster_traverse = None"
   ]
  },
  {
   "cell_type": "markdown",
   "metadata": {},
   "source": [
    "**Crater-floor tectonics**\n",
    "\n",
    "http://craters.sjrdesign.net/"
   ]
  },
  {
   "cell_type": "markdown",
   "metadata": {},
   "source": [
    "Rasterize the initial vector data at 20 ppd and perform the fast marching."
   ]
  },
  {
   "cell_type": "code",
   "execution_count": 185,
   "metadata": {},
   "outputs": [],
   "source": [
    "data_type = gdal.GDT_Int32\n",
    "\n",
    "shapes = []\n",
    "for crater in zip(*mars_craters):\n",
    "    if 'Tectonics' in crater[5] or 'tectonics' in crater[5]:\n",
    "        feature_geometry = Point(crater[0], crater[1])\n",
    "        shapes.append(feature_geometry)\n",
    "\n",
    "raster_rasterization = rasterize_geometries(shapes, \n",
    "                                            data_type,\n",
    "                                            master_width, \n",
    "                                            master_height,\n",
    "                                            master_geotransform,\n",
    "                                            master_spatial_reference_system)\n",
    "raster_rasterization_array = get_raster_array(raster_rasterization)\n",
    "\n",
    "scientific_targets_array[raster_rasterization_array == 0] = 0"
   ]
  },
  {
   "cell_type": "code",
   "execution_count": 186,
   "metadata": {},
   "outputs": [
    {
     "name": "stdout",
     "output_type": "stream",
     "text": [
      "CPU times: user 10min 37s, sys: 10.1 s, total: 10min 47s\n",
      "Wall time: 10min 34s\n"
     ]
    }
   ],
   "source": [
    "%%time\n",
    "\n",
    "traverse_array = run_fast_marching(raster_rasterization_array,\n",
    "                                   raster_rover_speed_array,\n",
    "                                   longitude_array,\n",
    "                                   latitude_array,\n",
    "                                   mars_radius)"
   ]
  },
  {
   "cell_type": "markdown",
   "metadata": {},
   "source": [
    "Export the map to a .tif file."
   ]
  },
  {
   "cell_type": "code",
   "execution_count": 187,
   "metadata": {},
   "outputs": [],
   "source": [
    "data_name = 'Crater_Floor_Tectonics'\n",
    "\n",
    "file_path = base_folder + output_folder + 'Interpreted_Data_Traverse_to_' + data_name + speed_affix + '.tif'\n",
    "raster_traverse = create_raster_from_array(traverse_array,           \n",
    "                                           master_geotransform, \n",
    "                                           master_projection,\n",
    "                                           file_type = 'GTiff',\n",
    "                                           file_path = file_path,\n",
    "                                           options = ['COMPRESS=DEFLATE', 'PREDICTOR=3', 'TILED=YES'])\n",
    "raster_traverse = None"
   ]
  },
  {
   "cell_type": "markdown",
   "metadata": {},
   "source": [
    "**Fractured crater floors**\n",
    "\n",
    "http://craters.sjrdesign.net/"
   ]
  },
  {
   "cell_type": "markdown",
   "metadata": {},
   "source": [
    "Rasterize the initial vector data at 20 ppd and perform the fast marching."
   ]
  },
  {
   "cell_type": "code",
   "execution_count": 188,
   "metadata": {},
   "outputs": [],
   "source": [
    "data_type = gdal.GDT_Int32\n",
    "\n",
    "shapes = []\n",
    "for crater in zip(*mars_craters):\n",
    "    if 'Fractured' in crater[5]:\n",
    "        feature_geometry = Point(crater[0], crater[1])\n",
    "        shapes.append(feature_geometry)\n",
    "\n",
    "raster_rasterization = rasterize_geometries(shapes, \n",
    "                                            data_type,\n",
    "                                            master_width, \n",
    "                                            master_height,\n",
    "                                            master_geotransform,\n",
    "                                            master_spatial_reference_system)\n",
    "raster_rasterization_array = get_raster_array(raster_rasterization)\n",
    "\n",
    "scientific_targets_array[raster_rasterization_array == 0] = 0"
   ]
  },
  {
   "cell_type": "code",
   "execution_count": 189,
   "metadata": {},
   "outputs": [
    {
     "name": "stdout",
     "output_type": "stream",
     "text": [
      "CPU times: user 8min 53s, sys: 9.09 s, total: 9min 2s\n",
      "Wall time: 8min 49s\n"
     ]
    }
   ],
   "source": [
    "%%time\n",
    "\n",
    "traverse_array = run_fast_marching(raster_rasterization_array,\n",
    "                                   raster_rover_speed_array,\n",
    "                                   longitude_array,\n",
    "                                   latitude_array,\n",
    "                                   mars_radius)"
   ]
  },
  {
   "cell_type": "markdown",
   "metadata": {},
   "source": [
    "Export the map to a .tif file."
   ]
  },
  {
   "cell_type": "code",
   "execution_count": 190,
   "metadata": {},
   "outputs": [],
   "source": [
    "data_name = 'Crater_Floor_Fractured'\n",
    "\n",
    "file_path = base_folder + output_folder + 'Interpreted_Data_Traverse_to_' + data_name + speed_affix + '.tif'\n",
    "raster_traverse = create_raster_from_array(traverse_array,           \n",
    "                                           master_geotransform, \n",
    "                                           master_projection,\n",
    "                                           file_type = 'GTiff',\n",
    "                                           file_path = file_path,\n",
    "                                           options = ['COMPRESS=DEFLATE', 'PREDICTOR=3', 'TILED=YES'])\n",
    "raster_traverse = None"
   ]
  },
  {
   "cell_type": "markdown",
   "metadata": {},
   "source": [
    "**Recent craters**\n",
    "\n",
    "https://planetarydatabase.wordpress.com/2016/04/21/fresh-craters-on-mars"
   ]
  },
  {
   "cell_type": "markdown",
   "metadata": {},
   "source": [
    "Rasterize the initial vector data at 20 ppd and perform the fast marching."
   ]
  },
  {
   "cell_type": "code",
   "execution_count": 191,
   "metadata": {},
   "outputs": [],
   "source": [
    "recent_craters = pd.read_excel(base_folder + 'Original_Data/Interpreted_Data/idpf-9-23-2016-excel97.xls',\n",
    "                               sheet_name = 'Fresh craters (Daubar 2014-16)')"
   ]
  },
  {
   "cell_type": "code",
   "execution_count": 192,
   "metadata": {},
   "outputs": [],
   "source": [
    "data_type = gdal.GDT_Int32\n",
    "\n",
    "shapes = []\n",
    "for index, row in recent_craters.iterrows():\n",
    "    feature_geometry = Point(row['Longtude E 180'], row['Latitude (planetocentric)'])\n",
    "    shapes.append(feature_geometry)\n",
    "\n",
    "raster_rasterization = rasterize_geometries(shapes, \n",
    "                                            data_type,\n",
    "                                            master_width, \n",
    "                                            master_height,\n",
    "                                            master_geotransform,\n",
    "                                            master_spatial_reference_system)\n",
    "raster_rasterization_array = get_raster_array(raster_rasterization)\n",
    "\n",
    "scientific_targets_array[raster_rasterization_array == 0] = 0"
   ]
  },
  {
   "cell_type": "code",
   "execution_count": 193,
   "metadata": {},
   "outputs": [
    {
     "name": "stdout",
     "output_type": "stream",
     "text": [
      "CPU times: user 9min 47s, sys: 10.6 s, total: 9min 57s\n",
      "Wall time: 9min 43s\n"
     ]
    }
   ],
   "source": [
    "%%time\n",
    "\n",
    "traverse_array = run_fast_marching(raster_rasterization_array,\n",
    "                                   raster_rover_speed_array,\n",
    "                                   longitude_array,\n",
    "                                   latitude_array,\n",
    "                                   mars_radius)"
   ]
  },
  {
   "cell_type": "markdown",
   "metadata": {},
   "source": [
    "Export the map to a .tif file."
   ]
  },
  {
   "cell_type": "code",
   "execution_count": 194,
   "metadata": {},
   "outputs": [],
   "source": [
    "data_name = 'Recent_Craters'\n",
    "\n",
    "file_path = base_folder + output_folder + 'Interpreted_Data_Traverse_to_' + data_name + speed_affix + '.tif'\n",
    "raster_traverse = create_raster_from_array(traverse_array,           \n",
    "                                           master_geotransform, \n",
    "                                           master_projection,\n",
    "                                           file_type = 'GTiff',\n",
    "                                           file_path = file_path,\n",
    "                                           options = ['COMPRESS=DEFLATE', 'PREDICTOR=3', 'TILED=YES'])\n",
    "raster_traverse = None"
   ]
  },
  {
   "cell_type": "markdown",
   "metadata": {},
   "source": [
    "**Fresh craters**\n",
    "\n",
    "http://craters.sjrdesign.net/\n",
    "\n",
    "Degradation state = 4"
   ]
  },
  {
   "cell_type": "markdown",
   "metadata": {},
   "source": [
    "Rasterize the initial vector data at 20 ppd and perform the fast marching."
   ]
  },
  {
   "cell_type": "code",
   "execution_count": 195,
   "metadata": {},
   "outputs": [],
   "source": [
    "data_type = gdal.GDT_Int32\n",
    "\n",
    "shapes = []\n",
    "for crater in zip(*mars_craters):\n",
    "    if float(crater[6]) == 4:\n",
    "        feature_geometry = Point(crater[0], crater[1])\n",
    "        shapes.append(feature_geometry)\n",
    "\n",
    "raster_rasterization = rasterize_geometries(shapes, \n",
    "                                            data_type,\n",
    "                                            master_width, \n",
    "                                            master_height,\n",
    "                                            master_geotransform,\n",
    "                                            master_spatial_reference_system)\n",
    "raster_rasterization_array = get_raster_array(raster_rasterization)\n",
    "\n",
    "scientific_targets_array[raster_rasterization_array == 0] = 0"
   ]
  },
  {
   "cell_type": "code",
   "execution_count": 196,
   "metadata": {},
   "outputs": [
    {
     "name": "stdout",
     "output_type": "stream",
     "text": [
      "CPU times: user 11min 41s, sys: 8.78 s, total: 11min 49s\n",
      "Wall time: 11min 37s\n"
     ]
    }
   ],
   "source": [
    "%%time\n",
    "\n",
    "traverse_array = run_fast_marching(raster_rasterization_array,\n",
    "                                   raster_rover_speed_array,\n",
    "                                   longitude_array,\n",
    "                                   latitude_array,\n",
    "                                   mars_radius)"
   ]
  },
  {
   "cell_type": "markdown",
   "metadata": {},
   "source": [
    "Export the map to a .tif file."
   ]
  },
  {
   "cell_type": "code",
   "execution_count": 197,
   "metadata": {},
   "outputs": [],
   "source": [
    "data_name = 'Fresh_Craters'\n",
    "\n",
    "file_path = base_folder + output_folder + 'Interpreted_Data_Traverse_to_' + data_name + speed_affix + '.tif'\n",
    "raster_traverse = create_raster_from_array(traverse_array,           \n",
    "                                           master_geotransform, \n",
    "                                           master_projection,\n",
    "                                           file_type = 'GTiff',\n",
    "                                           file_path = file_path,\n",
    "                                           options = ['COMPRESS=DEFLATE', 'PREDICTOR=3', 'TILED=YES'])\n",
    "raster_traverse = None"
   ]
  },
  {
   "cell_type": "markdown",
   "metadata": {},
   "source": [
    "**Deep craters**\n",
    "\n",
    "http://craters.sjrdesign.net/\n",
    "\n",
    "Depth > 2 km"
   ]
  },
  {
   "cell_type": "markdown",
   "metadata": {},
   "source": [
    "Rasterize the initial vector data at 20 ppd and perform the fast marching."
   ]
  },
  {
   "cell_type": "code",
   "execution_count": 198,
   "metadata": {},
   "outputs": [],
   "source": [
    "data_type = gdal.GDT_Int32\n",
    "\n",
    "shapes = []\n",
    "for crater in zip(*mars_craters):\n",
    "    if float(crater[3]) > 2.: # kilometers\n",
    "        feature_geometry = Point(crater[0], crater[1])\n",
    "        shapes.append(feature_geometry)\n",
    "\n",
    "raster_rasterization = rasterize_geometries(shapes, \n",
    "                                            data_type,\n",
    "                                            master_width, \n",
    "                                            master_height,\n",
    "                                            master_geotransform,\n",
    "                                            master_spatial_reference_system)\n",
    "raster_rasterization_array = get_raster_array(raster_rasterization)\n",
    "\n",
    "scientific_targets_array[raster_rasterization_array == 0] = 0"
   ]
  },
  {
   "cell_type": "code",
   "execution_count": 199,
   "metadata": {},
   "outputs": [
    {
     "name": "stdout",
     "output_type": "stream",
     "text": [
      "CPU times: user 9min 47s, sys: 9.03 s, total: 9min 57s\n",
      "Wall time: 9min 43s\n"
     ]
    }
   ],
   "source": [
    "%%time\n",
    "\n",
    "traverse_array = run_fast_marching(raster_rasterization_array,\n",
    "                                   raster_rover_speed_array,\n",
    "                                   longitude_array,\n",
    "                                   latitude_array,\n",
    "                                   mars_radius)"
   ]
  },
  {
   "cell_type": "markdown",
   "metadata": {},
   "source": [
    "Export the map to a .tif file."
   ]
  },
  {
   "cell_type": "code",
   "execution_count": 200,
   "metadata": {},
   "outputs": [],
   "source": [
    "data_name = 'Deep_Craters'\n",
    "\n",
    "file_path = base_folder + output_folder + 'Interpreted_Data_Traverse_to_' + data_name + speed_affix + '.tif'\n",
    "raster_traverse = create_raster_from_array(traverse_array,           \n",
    "                                           master_geotransform, \n",
    "                                           master_projection,\n",
    "                                           file_type = 'GTiff',\n",
    "                                           file_path = file_path,\n",
    "                                           options = ['COMPRESS=DEFLATE', 'PREDICTOR=3', 'TILED=YES'])\n",
    "raster_traverse = None"
   ]
  },
  {
   "cell_type": "markdown",
   "metadata": {},
   "source": [
    "**Large degraded craters**\n",
    "\n",
    "http://craters.sjrdesign.net/\n",
    "\n",
    "Diameter &ge; 10 km & degradation state = 1 or 2"
   ]
  },
  {
   "cell_type": "markdown",
   "metadata": {},
   "source": [
    "Rasterize the initial vector data at 20 ppd and perform the fast marching."
   ]
  },
  {
   "cell_type": "code",
   "execution_count": 201,
   "metadata": {},
   "outputs": [],
   "source": [
    "data_type = gdal.GDT_Int32\n",
    "\n",
    "shapes = []\n",
    "for crater in zip(*mars_craters):\n",
    "    if float(crater[2]) >= 10. and (float(crater[6]) == 1 or float(crater[6]) == 2): # kilometers\n",
    "        feature_geometry = Point(crater[0], crater[1])\n",
    "        shapes.append(feature_geometry)\n",
    "\n",
    "raster_rasterization = rasterize_geometries(shapes, \n",
    "                                            data_type,\n",
    "                                            master_width, \n",
    "                                            master_height,\n",
    "                                            master_geotransform,\n",
    "                                            master_spatial_reference_system)\n",
    "raster_rasterization_array = get_raster_array(raster_rasterization)\n",
    "\n",
    "scientific_targets_array[raster_rasterization_array == 0] = 0"
   ]
  },
  {
   "cell_type": "code",
   "execution_count": 202,
   "metadata": {},
   "outputs": [
    {
     "name": "stdout",
     "output_type": "stream",
     "text": [
      "CPU times: user 10min 43s, sys: 10.3 s, total: 10min 54s\n",
      "Wall time: 10min 40s\n"
     ]
    }
   ],
   "source": [
    "%%time\n",
    "\n",
    "traverse_array = run_fast_marching(raster_rasterization_array,\n",
    "                                   raster_rover_speed_array,\n",
    "                                   longitude_array,\n",
    "                                   latitude_array,\n",
    "                                   mars_radius)"
   ]
  },
  {
   "cell_type": "markdown",
   "metadata": {},
   "source": [
    "Export the map to a .tif file."
   ]
  },
  {
   "cell_type": "code",
   "execution_count": 203,
   "metadata": {},
   "outputs": [],
   "source": [
    "data_name = 'Large_Degraded_Craters'\n",
    "\n",
    "file_path = base_folder + output_folder + 'Interpreted_Data_Traverse_to_' + data_name + speed_affix + '.tif'\n",
    "raster_traverse = create_raster_from_array(traverse_array,           \n",
    "                                           master_geotransform, \n",
    "                                           master_projection,\n",
    "                                           file_type = 'GTiff',\n",
    "                                           file_path = file_path,\n",
    "                                           options = ['COMPRESS=DEFLATE', 'PREDICTOR=3', 'TILED=YES'])\n",
    "raster_traverse = None"
   ]
  },
  {
   "cell_type": "markdown",
   "metadata": {},
   "source": [
    "**Potential hydrothermal systems**\n",
    "\n",
    "Farmer (1996); Dohm et al., (2000); Marzo et al. (2010)"
   ]
  },
  {
   "cell_type": "markdown",
   "metadata": {},
   "source": [
    "Rasterize the initial vector data at 20 ppd and perform the fast marching."
   ]
  },
  {
   "cell_type": "code",
   "execution_count": 204,
   "metadata": {},
   "outputs": [],
   "source": [
    "potential_hydrothermal_systems = get_latitude_longitude_from_csv_file(base_folder + 'Original_Data/Interpreted_Data/Potential-Hydrothermal-Systems_Farmer-1996-And-Others.csv')"
   ]
  },
  {
   "cell_type": "code",
   "execution_count": 205,
   "metadata": {},
   "outputs": [],
   "source": [
    "data_type = gdal.GDT_Int32\n",
    "\n",
    "shapes = []\n",
    "for i in range(len(potential_hydrothermal_systems[0])):\n",
    "    feature_geometry = Point(potential_hydrothermal_systems[0][i], potential_hydrothermal_systems[1][i])\n",
    "    shapes.append(feature_geometry)\n",
    "\n",
    "raster_rasterization = rasterize_geometries(shapes, \n",
    "                                            data_type,\n",
    "                                            master_width, \n",
    "                                            master_height,\n",
    "                                            master_geotransform,\n",
    "                                            master_spatial_reference_system)\n",
    "raster_rasterization_array = get_raster_array(raster_rasterization)\n",
    "\n",
    "scientific_targets_array[raster_rasterization_array == 0] = 0"
   ]
  },
  {
   "cell_type": "code",
   "execution_count": 206,
   "metadata": {},
   "outputs": [
    {
     "name": "stdout",
     "output_type": "stream",
     "text": [
      "CPU times: user 9min 18s, sys: 11.1 s, total: 9min 29s\n",
      "Wall time: 9min 14s\n"
     ]
    }
   ],
   "source": [
    "%%time\n",
    "\n",
    "traverse_array = run_fast_marching(raster_rasterization_array,\n",
    "                                   raster_rover_speed_array,\n",
    "                                   longitude_array,\n",
    "                                   latitude_array,\n",
    "                                   mars_radius)"
   ]
  },
  {
   "cell_type": "markdown",
   "metadata": {},
   "source": [
    "Export the map to a .tif file."
   ]
  },
  {
   "cell_type": "code",
   "execution_count": 207,
   "metadata": {},
   "outputs": [],
   "source": [
    "data_name = 'Potential_Hydrothermal_Systems'\n",
    "\n",
    "file_path = base_folder + output_folder + 'Interpreted_Data_Traverse_to_' + data_name + speed_affix + '.tif'\n",
    "raster_traverse = create_raster_from_array(traverse_array,           \n",
    "                                           master_geotransform, \n",
    "                                           master_projection,\n",
    "                                           file_type = 'GTiff',\n",
    "                                           file_path = file_path,\n",
    "                                           options = ['COMPRESS=DEFLATE', 'PREDICTOR=3', 'TILED=YES'])\n",
    "raster_traverse = None"
   ]
  },
  {
   "cell_type": "markdown",
   "metadata": {},
   "source": [
    "### Structures with multiple potential origins"
   ]
  },
  {
   "cell_type": "markdown",
   "metadata": {},
   "source": [
    "**Scarps**\n",
    "\n",
    "ftp://pdsimage2.wr.usgs.gov/pub/pigpen/mars/geology"
   ]
  },
  {
   "cell_type": "markdown",
   "metadata": {},
   "source": [
    "Rasterize the initial vector data at 20 ppd and perform the fast marching."
   ]
  },
  {
   "cell_type": "code",
   "execution_count": 208,
   "metadata": {},
   "outputs": [
    {
     "name": "stdout",
     "output_type": "stream",
     "text": [
      " _______________________________________________________________________________\n",
      "/ Shapefile field names:\n",
      "| \n",
      "\n",
      "\\_______________________________________________________________________________\n",
      " _______________________________________________________________________________\n",
      "/ Shapefile field names:\n",
      "| \n",
      "| TYPE | Shape_Leng \n",
      "\\_______________________________________________________________________________\n"
     ]
    }
   ],
   "source": [
    "shapefile_scarps = filter_shapefile(shapefile_structures,\n",
    "                                               'Interpreta', \n",
    "                                               ['Scarp'])\n",
    "print_shapefile_field_names(shapefile_scarps)\n",
    "\n",
    "shapefile_scarps_part2 = open_shapefile(base_folder + 'Original_Data/Interpreted_Data/NPlains_geology_SIM2888_2005/SIM2888_mar06_preliminary/shapefiles/SIM2888_Mars2000_Sphere/SIM2888_scarps_ocentric.shp')\n",
    "print_shapefile_field_names(shapefile_scarps_part2)"
   ]
  },
  {
   "cell_type": "code",
   "execution_count": 209,
   "metadata": {},
   "outputs": [],
   "source": [
    "projection = shapefile_scarps.GetLayer().GetSpatialRef().ExportToWkt()\n",
    "data_type = gdal.GDT_Int32\n",
    "\n",
    "raster_rasterization = rasterize_shapefile(shapefile_scarps, \n",
    "                                           None,\n",
    "                                           data_type,\n",
    "                                           master_width, \n",
    "                                           master_height,                    \n",
    "                                           master_geotransform, \n",
    "                                           projection)\n",
    "raster_rasterization_array = get_raster_array(raster_rasterization)\n",
    "\n",
    "projection = shapefile_scarps_part2.GetLayer().GetSpatialRef().ExportToWkt()\n",
    "\n",
    "raster_rasterization_part2 = rasterize_shapefile(shapefile_scarps_part2, \n",
    "                                                 None,\n",
    "                                                 data_type,\n",
    "                                                 master_width, \n",
    "                                                 master_height,                    \n",
    "                                                 master_geotransform, \n",
    "                                                 projection)\n",
    "raster_rasterization_part2_array = get_raster_array(raster_rasterization_part2)\n",
    "\n",
    "raster_rasterization_array[raster_rasterization_part2_array == 0] = 0\n",
    "\n",
    "scientific_targets_array[raster_rasterization_array == 0] = 0"
   ]
  },
  {
   "cell_type": "code",
   "execution_count": 210,
   "metadata": {},
   "outputs": [
    {
     "name": "stdout",
     "output_type": "stream",
     "text": [
      "CPU times: user 10min 18s, sys: 9.7 s, total: 10min 27s\n",
      "Wall time: 10min 14s\n"
     ]
    }
   ],
   "source": [
    "%%time\n",
    "\n",
    "traverse_array = run_fast_marching(raster_rasterization_array,\n",
    "                                   raster_rover_speed_array,\n",
    "                                   longitude_array,\n",
    "                                   latitude_array,\n",
    "                                   mars_radius)"
   ]
  },
  {
   "cell_type": "markdown",
   "metadata": {},
   "source": [
    "Export the map to a .tif file."
   ]
  },
  {
   "cell_type": "code",
   "execution_count": 211,
   "metadata": {},
   "outputs": [],
   "source": [
    "data_name = 'Scarps'\n",
    "\n",
    "file_path = base_folder + output_folder + 'Interpreted_Data_Traverse_to_' + data_name + speed_affix + '.tif'\n",
    "raster_traverse = create_raster_from_array(traverse_array,           \n",
    "                                           master_geotransform, \n",
    "                                           master_projection,\n",
    "                                           file_type = 'GTiff',\n",
    "                                           file_path = file_path,\n",
    "                                           options = ['COMPRESS=DEFLATE', 'PREDICTOR=3', 'TILED=YES'])\n",
    "raster_traverse = None"
   ]
  },
  {
   "cell_type": "markdown",
   "metadata": {},
   "source": [
    "**Ridges**\n",
    "\n",
    "ftp://pdsimage2.wr.usgs.gov/pub/pigpen/mars/geology"
   ]
  },
  {
   "cell_type": "markdown",
   "metadata": {},
   "source": [
    "Rasterize the initial vector data at 20 ppd and perform the fast marching."
   ]
  },
  {
   "cell_type": "code",
   "execution_count": 212,
   "metadata": {},
   "outputs": [
    {
     "name": "stdout",
     "output_type": "stream",
     "text": [
      " _______________________________________________________________________________\n",
      "/ Shapefile field names:\n",
      "| \n",
      "\n",
      "\\_______________________________________________________________________________\n",
      " _______________________________________________________________________________\n",
      "/ Shapefile field names:\n",
      "| \n",
      "| TYPE | Shape_Leng \n",
      "\\_______________________________________________________________________________\n"
     ]
    }
   ],
   "source": [
    "shapefile_ridges = filter_shapefile(shapefile_structures,\n",
    "                                               'Interpreta', \n",
    "                                               ['Ridge'])\n",
    "print_shapefile_field_names(shapefile_ridges)\n",
    "\n",
    "shapefile_ridges_part2 = open_shapefile(base_folder + 'Original_Data/Interpreted_Data/NPlains_geology_SIM2888_2005/SIM2888_mar06_preliminary/shapefiles/SIM2888_Mars2000_Sphere/SIM2888_ridges_ocentric.shp')\n",
    "print_shapefile_field_names(shapefile_ridges_part2)"
   ]
  },
  {
   "cell_type": "code",
   "execution_count": 213,
   "metadata": {},
   "outputs": [],
   "source": [
    "projection = shapefile_ridges.GetLayer().GetSpatialRef().ExportToWkt()\n",
    "data_type = gdal.GDT_Int32\n",
    "\n",
    "raster_rasterization = rasterize_shapefile(shapefile_ridges, \n",
    "                                           None,\n",
    "                                           data_type,\n",
    "                                           master_width, \n",
    "                                           master_height,                    \n",
    "                                           master_geotransform, \n",
    "                                           projection)\n",
    "raster_rasterization_array = get_raster_array(raster_rasterization)\n",
    "\n",
    "projection = shapefile_ridges_part2.GetLayer().GetSpatialRef().ExportToWkt()\n",
    "\n",
    "raster_rasterization_part2 = rasterize_shapefile(shapefile_ridges_part2, \n",
    "                                                 None,\n",
    "                                                 data_type,\n",
    "                                                 master_width, \n",
    "                                                 master_height,                    \n",
    "                                                 master_geotransform, \n",
    "                                                 projection)\n",
    "raster_rasterization_part2_array = get_raster_array(raster_rasterization_part2)\n",
    "\n",
    "raster_rasterization_array[raster_rasterization_part2_array == 0] = 0\n",
    "\n",
    "scientific_targets_array[raster_rasterization_array == 0] = 0"
   ]
  },
  {
   "cell_type": "code",
   "execution_count": 214,
   "metadata": {},
   "outputs": [
    {
     "name": "stdout",
     "output_type": "stream",
     "text": [
      "CPU times: user 10min 49s, sys: 9.34 s, total: 10min 58s\n",
      "Wall time: 10min 47s\n"
     ]
    }
   ],
   "source": [
    "%%time\n",
    "\n",
    "traverse_array = run_fast_marching(raster_rasterization_array,\n",
    "                                   raster_rover_speed_array,\n",
    "                                   longitude_array,\n",
    "                                   latitude_array,\n",
    "                                   mars_radius)"
   ]
  },
  {
   "cell_type": "markdown",
   "metadata": {},
   "source": [
    "Export the map to a .tif file."
   ]
  },
  {
   "cell_type": "code",
   "execution_count": 215,
   "metadata": {},
   "outputs": [],
   "source": [
    "data_name = 'Ridges'\n",
    "\n",
    "file_path = base_folder + output_folder + 'Interpreted_Data_Traverse_to_' + data_name + speed_affix + '.tif'\n",
    "raster_traverse = create_raster_from_array(traverse_array,           \n",
    "                                           master_geotransform, \n",
    "                                           master_projection,\n",
    "                                           file_type = 'GTiff',\n",
    "                                           file_path = file_path,\n",
    "                                           options = ['COMPRESS=DEFLATE', 'PREDICTOR=3', 'TILED=YES'])\n",
    "raster_traverse = None"
   ]
  },
  {
   "cell_type": "markdown",
   "metadata": {},
   "source": [
    "**Polygonal ridge networks**\n",
    "\n",
    "https://planetarydatabase.wordpress.com/2016/09/23/polygonal-ridges-boxwork-or-reticulate-ridges"
   ]
  },
  {
   "cell_type": "markdown",
   "metadata": {},
   "source": [
    "Rasterize the initial vector data at 20 ppd and perform the fast marching."
   ]
  },
  {
   "cell_type": "code",
   "execution_count": 216,
   "metadata": {},
   "outputs": [
    {
     "name": "stdout",
     "output_type": "stream",
     "text": [
      " _______________________________________________________________________________\n",
      "/ Shapefile field names:\n",
      "| \n",
      "| Longitude | Latitude | Type | Area \n",
      "\\_______________________________________________________________________________\n"
     ]
    }
   ],
   "source": [
    "shapefile_poly_ridge_networks = open_shapefile(base_folder + 'Original_Data/Interpreted_Data/polygonal_ridge/kerber_ridges.shp')\n",
    "\n",
    "print_shapefile_field_names(shapefile_poly_ridge_networks)"
   ]
  },
  {
   "cell_type": "code",
   "execution_count": 217,
   "metadata": {},
   "outputs": [],
   "source": [
    "projection = shapefile_poly_ridge_networks.GetLayer().GetSpatialRef().ExportToWkt()\n",
    "data_type = gdal.GDT_Int32\n",
    "\n",
    "raster_rasterization = rasterize_shapefile(shapefile_poly_ridge_networks, \n",
    "                                           None,\n",
    "                                           data_type,\n",
    "                                           master_width, \n",
    "                                           master_height,                    \n",
    "                                           master_geotransform, \n",
    "                                           projection)\n",
    "raster_rasterization_array = get_raster_array(raster_rasterization)\n",
    "\n",
    "scientific_targets_array[raster_rasterization_array == 0] = 0"
   ]
  },
  {
   "cell_type": "code",
   "execution_count": 218,
   "metadata": {},
   "outputs": [
    {
     "name": "stdout",
     "output_type": "stream",
     "text": [
      "CPU times: user 8min 23s, sys: 9.85 s, total: 8min 33s\n",
      "Wall time: 8min 19s\n"
     ]
    }
   ],
   "source": [
    "%%time\n",
    "\n",
    "traverse_array = run_fast_marching(raster_rasterization_array,\n",
    "                                   raster_rover_speed_array,\n",
    "                                   longitude_array,\n",
    "                                   latitude_array,\n",
    "                                   mars_radius)"
   ]
  },
  {
   "cell_type": "markdown",
   "metadata": {},
   "source": [
    "Export the map to a .tif file."
   ]
  },
  {
   "cell_type": "code",
   "execution_count": 219,
   "metadata": {},
   "outputs": [],
   "source": [
    "data_name = 'Polygonal_Ridge_Networks'\n",
    "\n",
    "file_path = base_folder + output_folder + 'Interpreted_Data_Traverse_to_' + data_name + speed_affix + '.tif'\n",
    "raster_traverse = create_raster_from_array(traverse_array,           \n",
    "                                           master_geotransform, \n",
    "                                           master_projection,\n",
    "                                           file_type = 'GTiff',\n",
    "                                           file_path = file_path,\n",
    "                                           options = ['COMPRESS=DEFLATE', 'PREDICTOR=3', 'TILED=YES'])\n",
    "raster_traverse = None"
   ]
  },
  {
   "cell_type": "markdown",
   "metadata": {},
   "source": [
    "### Time constraints"
   ]
  },
  {
   "cell_type": "markdown",
   "metadata": {},
   "source": [
    "We use crater-dated geological units of Mars as time constraints. Due to their extent, they contain many cells, and rasterizing them directly increases a lot the computation time of the next steps. So, we only use as time constraints the cells where other targets are present."
   ]
  },
  {
   "cell_type": "code",
   "execution_count": 220,
   "metadata": {},
   "outputs": [
    {
     "data": {
      "application/javascript": [
       "/* Put everything inside the global mpl namespace */\n",
       "window.mpl = {};\n",
       "\n",
       "\n",
       "mpl.get_websocket_type = function() {\n",
       "    if (typeof(WebSocket) !== 'undefined') {\n",
       "        return WebSocket;\n",
       "    } else if (typeof(MozWebSocket) !== 'undefined') {\n",
       "        return MozWebSocket;\n",
       "    } else {\n",
       "        alert('Your browser does not have WebSocket support.' +\n",
       "              'Please try Chrome, Safari or Firefox ≥ 6. ' +\n",
       "              'Firefox 4 and 5 are also supported but you ' +\n",
       "              'have to enable WebSockets in about:config.');\n",
       "    };\n",
       "}\n",
       "\n",
       "mpl.figure = function(figure_id, websocket, ondownload, parent_element) {\n",
       "    this.id = figure_id;\n",
       "\n",
       "    this.ws = websocket;\n",
       "\n",
       "    this.supports_binary = (this.ws.binaryType != undefined);\n",
       "\n",
       "    if (!this.supports_binary) {\n",
       "        var warnings = document.getElementById(\"mpl-warnings\");\n",
       "        if (warnings) {\n",
       "            warnings.style.display = 'block';\n",
       "            warnings.textContent = (\n",
       "                \"This browser does not support binary websocket messages. \" +\n",
       "                    \"Performance may be slow.\");\n",
       "        }\n",
       "    }\n",
       "\n",
       "    this.imageObj = new Image();\n",
       "\n",
       "    this.context = undefined;\n",
       "    this.message = undefined;\n",
       "    this.canvas = undefined;\n",
       "    this.rubberband_canvas = undefined;\n",
       "    this.rubberband_context = undefined;\n",
       "    this.format_dropdown = undefined;\n",
       "\n",
       "    this.image_mode = 'full';\n",
       "\n",
       "    this.root = $('<div/>');\n",
       "    this._root_extra_style(this.root)\n",
       "    this.root.attr('style', 'display: inline-block');\n",
       "\n",
       "    $(parent_element).append(this.root);\n",
       "\n",
       "    this._init_header(this);\n",
       "    this._init_canvas(this);\n",
       "    this._init_toolbar(this);\n",
       "\n",
       "    var fig = this;\n",
       "\n",
       "    this.waiting = false;\n",
       "\n",
       "    this.ws.onopen =  function () {\n",
       "            fig.send_message(\"supports_binary\", {value: fig.supports_binary});\n",
       "            fig.send_message(\"send_image_mode\", {});\n",
       "            if (mpl.ratio != 1) {\n",
       "                fig.send_message(\"set_dpi_ratio\", {'dpi_ratio': mpl.ratio});\n",
       "            }\n",
       "            fig.send_message(\"refresh\", {});\n",
       "        }\n",
       "\n",
       "    this.imageObj.onload = function() {\n",
       "            if (fig.image_mode == 'full') {\n",
       "                // Full images could contain transparency (where diff images\n",
       "                // almost always do), so we need to clear the canvas so that\n",
       "                // there is no ghosting.\n",
       "                fig.context.clearRect(0, 0, fig.canvas.width, fig.canvas.height);\n",
       "            }\n",
       "            fig.context.drawImage(fig.imageObj, 0, 0);\n",
       "        };\n",
       "\n",
       "    this.imageObj.onunload = function() {\n",
       "        fig.ws.close();\n",
       "    }\n",
       "\n",
       "    this.ws.onmessage = this._make_on_message_function(this);\n",
       "\n",
       "    this.ondownload = ondownload;\n",
       "}\n",
       "\n",
       "mpl.figure.prototype._init_header = function() {\n",
       "    var titlebar = $(\n",
       "        '<div class=\"ui-dialog-titlebar ui-widget-header ui-corner-all ' +\n",
       "        'ui-helper-clearfix\"/>');\n",
       "    var titletext = $(\n",
       "        '<div class=\"ui-dialog-title\" style=\"width: 100%; ' +\n",
       "        'text-align: center; padding: 3px;\"/>');\n",
       "    titlebar.append(titletext)\n",
       "    this.root.append(titlebar);\n",
       "    this.header = titletext[0];\n",
       "}\n",
       "\n",
       "\n",
       "\n",
       "mpl.figure.prototype._canvas_extra_style = function(canvas_div) {\n",
       "\n",
       "}\n",
       "\n",
       "\n",
       "mpl.figure.prototype._root_extra_style = function(canvas_div) {\n",
       "\n",
       "}\n",
       "\n",
       "mpl.figure.prototype._init_canvas = function() {\n",
       "    var fig = this;\n",
       "\n",
       "    var canvas_div = $('<div/>');\n",
       "\n",
       "    canvas_div.attr('style', 'position: relative; clear: both; outline: 0');\n",
       "\n",
       "    function canvas_keyboard_event(event) {\n",
       "        return fig.key_event(event, event['data']);\n",
       "    }\n",
       "\n",
       "    canvas_div.keydown('key_press', canvas_keyboard_event);\n",
       "    canvas_div.keyup('key_release', canvas_keyboard_event);\n",
       "    this.canvas_div = canvas_div\n",
       "    this._canvas_extra_style(canvas_div)\n",
       "    this.root.append(canvas_div);\n",
       "\n",
       "    var canvas = $('<canvas/>');\n",
       "    canvas.addClass('mpl-canvas');\n",
       "    canvas.attr('style', \"left: 0; top: 0; z-index: 0; outline: 0\")\n",
       "\n",
       "    this.canvas = canvas[0];\n",
       "    this.context = canvas[0].getContext(\"2d\");\n",
       "\n",
       "    var backingStore = this.context.backingStorePixelRatio ||\n",
       "\tthis.context.webkitBackingStorePixelRatio ||\n",
       "\tthis.context.mozBackingStorePixelRatio ||\n",
       "\tthis.context.msBackingStorePixelRatio ||\n",
       "\tthis.context.oBackingStorePixelRatio ||\n",
       "\tthis.context.backingStorePixelRatio || 1;\n",
       "\n",
       "    mpl.ratio = (window.devicePixelRatio || 1) / backingStore;\n",
       "\n",
       "    var rubberband = $('<canvas/>');\n",
       "    rubberband.attr('style', \"position: absolute; left: 0; top: 0; z-index: 1;\")\n",
       "\n",
       "    var pass_mouse_events = true;\n",
       "\n",
       "    canvas_div.resizable({\n",
       "        start: function(event, ui) {\n",
       "            pass_mouse_events = false;\n",
       "        },\n",
       "        resize: function(event, ui) {\n",
       "            fig.request_resize(ui.size.width, ui.size.height);\n",
       "        },\n",
       "        stop: function(event, ui) {\n",
       "            pass_mouse_events = true;\n",
       "            fig.request_resize(ui.size.width, ui.size.height);\n",
       "        },\n",
       "    });\n",
       "\n",
       "    function mouse_event_fn(event) {\n",
       "        if (pass_mouse_events)\n",
       "            return fig.mouse_event(event, event['data']);\n",
       "    }\n",
       "\n",
       "    rubberband.mousedown('button_press', mouse_event_fn);\n",
       "    rubberband.mouseup('button_release', mouse_event_fn);\n",
       "    // Throttle sequential mouse events to 1 every 20ms.\n",
       "    rubberband.mousemove('motion_notify', mouse_event_fn);\n",
       "\n",
       "    rubberband.mouseenter('figure_enter', mouse_event_fn);\n",
       "    rubberband.mouseleave('figure_leave', mouse_event_fn);\n",
       "\n",
       "    canvas_div.on(\"wheel\", function (event) {\n",
       "        event = event.originalEvent;\n",
       "        event['data'] = 'scroll'\n",
       "        if (event.deltaY < 0) {\n",
       "            event.step = 1;\n",
       "        } else {\n",
       "            event.step = -1;\n",
       "        }\n",
       "        mouse_event_fn(event);\n",
       "    });\n",
       "\n",
       "    canvas_div.append(canvas);\n",
       "    canvas_div.append(rubberband);\n",
       "\n",
       "    this.rubberband = rubberband;\n",
       "    this.rubberband_canvas = rubberband[0];\n",
       "    this.rubberband_context = rubberband[0].getContext(\"2d\");\n",
       "    this.rubberband_context.strokeStyle = \"#000000\";\n",
       "\n",
       "    this._resize_canvas = function(width, height) {\n",
       "        // Keep the size of the canvas, canvas container, and rubber band\n",
       "        // canvas in synch.\n",
       "        canvas_div.css('width', width)\n",
       "        canvas_div.css('height', height)\n",
       "\n",
       "        canvas.attr('width', width * mpl.ratio);\n",
       "        canvas.attr('height', height * mpl.ratio);\n",
       "        canvas.attr('style', 'width: ' + width + 'px; height: ' + height + 'px;');\n",
       "\n",
       "        rubberband.attr('width', width);\n",
       "        rubberband.attr('height', height);\n",
       "    }\n",
       "\n",
       "    // Set the figure to an initial 600x600px, this will subsequently be updated\n",
       "    // upon first draw.\n",
       "    this._resize_canvas(600, 600);\n",
       "\n",
       "    // Disable right mouse context menu.\n",
       "    $(this.rubberband_canvas).bind(\"contextmenu\",function(e){\n",
       "        return false;\n",
       "    });\n",
       "\n",
       "    function set_focus () {\n",
       "        canvas.focus();\n",
       "        canvas_div.focus();\n",
       "    }\n",
       "\n",
       "    window.setTimeout(set_focus, 100);\n",
       "}\n",
       "\n",
       "mpl.figure.prototype._init_toolbar = function() {\n",
       "    var fig = this;\n",
       "\n",
       "    var nav_element = $('<div/>')\n",
       "    nav_element.attr('style', 'width: 100%');\n",
       "    this.root.append(nav_element);\n",
       "\n",
       "    // Define a callback function for later on.\n",
       "    function toolbar_event(event) {\n",
       "        return fig.toolbar_button_onclick(event['data']);\n",
       "    }\n",
       "    function toolbar_mouse_event(event) {\n",
       "        return fig.toolbar_button_onmouseover(event['data']);\n",
       "    }\n",
       "\n",
       "    for(var toolbar_ind in mpl.toolbar_items) {\n",
       "        var name = mpl.toolbar_items[toolbar_ind][0];\n",
       "        var tooltip = mpl.toolbar_items[toolbar_ind][1];\n",
       "        var image = mpl.toolbar_items[toolbar_ind][2];\n",
       "        var method_name = mpl.toolbar_items[toolbar_ind][3];\n",
       "\n",
       "        if (!name) {\n",
       "            // put a spacer in here.\n",
       "            continue;\n",
       "        }\n",
       "        var button = $('<button/>');\n",
       "        button.addClass('ui-button ui-widget ui-state-default ui-corner-all ' +\n",
       "                        'ui-button-icon-only');\n",
       "        button.attr('role', 'button');\n",
       "        button.attr('aria-disabled', 'false');\n",
       "        button.click(method_name, toolbar_event);\n",
       "        button.mouseover(tooltip, toolbar_mouse_event);\n",
       "\n",
       "        var icon_img = $('<span/>');\n",
       "        icon_img.addClass('ui-button-icon-primary ui-icon');\n",
       "        icon_img.addClass(image);\n",
       "        icon_img.addClass('ui-corner-all');\n",
       "\n",
       "        var tooltip_span = $('<span/>');\n",
       "        tooltip_span.addClass('ui-button-text');\n",
       "        tooltip_span.html(tooltip);\n",
       "\n",
       "        button.append(icon_img);\n",
       "        button.append(tooltip_span);\n",
       "\n",
       "        nav_element.append(button);\n",
       "    }\n",
       "\n",
       "    var fmt_picker_span = $('<span/>');\n",
       "\n",
       "    var fmt_picker = $('<select/>');\n",
       "    fmt_picker.addClass('mpl-toolbar-option ui-widget ui-widget-content');\n",
       "    fmt_picker_span.append(fmt_picker);\n",
       "    nav_element.append(fmt_picker_span);\n",
       "    this.format_dropdown = fmt_picker[0];\n",
       "\n",
       "    for (var ind in mpl.extensions) {\n",
       "        var fmt = mpl.extensions[ind];\n",
       "        var option = $(\n",
       "            '<option/>', {selected: fmt === mpl.default_extension}).html(fmt);\n",
       "        fmt_picker.append(option)\n",
       "    }\n",
       "\n",
       "    // Add hover states to the ui-buttons\n",
       "    $( \".ui-button\" ).hover(\n",
       "        function() { $(this).addClass(\"ui-state-hover\");},\n",
       "        function() { $(this).removeClass(\"ui-state-hover\");}\n",
       "    );\n",
       "\n",
       "    var status_bar = $('<span class=\"mpl-message\"/>');\n",
       "    nav_element.append(status_bar);\n",
       "    this.message = status_bar[0];\n",
       "}\n",
       "\n",
       "mpl.figure.prototype.request_resize = function(x_pixels, y_pixels) {\n",
       "    // Request matplotlib to resize the figure. Matplotlib will then trigger a resize in the client,\n",
       "    // which will in turn request a refresh of the image.\n",
       "    this.send_message('resize', {'width': x_pixels, 'height': y_pixels});\n",
       "}\n",
       "\n",
       "mpl.figure.prototype.send_message = function(type, properties) {\n",
       "    properties['type'] = type;\n",
       "    properties['figure_id'] = this.id;\n",
       "    this.ws.send(JSON.stringify(properties));\n",
       "}\n",
       "\n",
       "mpl.figure.prototype.send_draw_message = function() {\n",
       "    if (!this.waiting) {\n",
       "        this.waiting = true;\n",
       "        this.ws.send(JSON.stringify({type: \"draw\", figure_id: this.id}));\n",
       "    }\n",
       "}\n",
       "\n",
       "\n",
       "mpl.figure.prototype.handle_save = function(fig, msg) {\n",
       "    var format_dropdown = fig.format_dropdown;\n",
       "    var format = format_dropdown.options[format_dropdown.selectedIndex].value;\n",
       "    fig.ondownload(fig, format);\n",
       "}\n",
       "\n",
       "\n",
       "mpl.figure.prototype.handle_resize = function(fig, msg) {\n",
       "    var size = msg['size'];\n",
       "    if (size[0] != fig.canvas.width || size[1] != fig.canvas.height) {\n",
       "        fig._resize_canvas(size[0], size[1]);\n",
       "        fig.send_message(\"refresh\", {});\n",
       "    };\n",
       "}\n",
       "\n",
       "mpl.figure.prototype.handle_rubberband = function(fig, msg) {\n",
       "    var x0 = msg['x0'] / mpl.ratio;\n",
       "    var y0 = (fig.canvas.height - msg['y0']) / mpl.ratio;\n",
       "    var x1 = msg['x1'] / mpl.ratio;\n",
       "    var y1 = (fig.canvas.height - msg['y1']) / mpl.ratio;\n",
       "    x0 = Math.floor(x0) + 0.5;\n",
       "    y0 = Math.floor(y0) + 0.5;\n",
       "    x1 = Math.floor(x1) + 0.5;\n",
       "    y1 = Math.floor(y1) + 0.5;\n",
       "    var min_x = Math.min(x0, x1);\n",
       "    var min_y = Math.min(y0, y1);\n",
       "    var width = Math.abs(x1 - x0);\n",
       "    var height = Math.abs(y1 - y0);\n",
       "\n",
       "    fig.rubberband_context.clearRect(\n",
       "        0, 0, fig.canvas.width, fig.canvas.height);\n",
       "\n",
       "    fig.rubberband_context.strokeRect(min_x, min_y, width, height);\n",
       "}\n",
       "\n",
       "mpl.figure.prototype.handle_figure_label = function(fig, msg) {\n",
       "    // Updates the figure title.\n",
       "    fig.header.textContent = msg['label'];\n",
       "}\n",
       "\n",
       "mpl.figure.prototype.handle_cursor = function(fig, msg) {\n",
       "    var cursor = msg['cursor'];\n",
       "    switch(cursor)\n",
       "    {\n",
       "    case 0:\n",
       "        cursor = 'pointer';\n",
       "        break;\n",
       "    case 1:\n",
       "        cursor = 'default';\n",
       "        break;\n",
       "    case 2:\n",
       "        cursor = 'crosshair';\n",
       "        break;\n",
       "    case 3:\n",
       "        cursor = 'move';\n",
       "        break;\n",
       "    }\n",
       "    fig.rubberband_canvas.style.cursor = cursor;\n",
       "}\n",
       "\n",
       "mpl.figure.prototype.handle_message = function(fig, msg) {\n",
       "    fig.message.textContent = msg['message'];\n",
       "}\n",
       "\n",
       "mpl.figure.prototype.handle_draw = function(fig, msg) {\n",
       "    // Request the server to send over a new figure.\n",
       "    fig.send_draw_message();\n",
       "}\n",
       "\n",
       "mpl.figure.prototype.handle_image_mode = function(fig, msg) {\n",
       "    fig.image_mode = msg['mode'];\n",
       "}\n",
       "\n",
       "mpl.figure.prototype.updated_canvas_event = function() {\n",
       "    // Called whenever the canvas gets updated.\n",
       "    this.send_message(\"ack\", {});\n",
       "}\n",
       "\n",
       "// A function to construct a web socket function for onmessage handling.\n",
       "// Called in the figure constructor.\n",
       "mpl.figure.prototype._make_on_message_function = function(fig) {\n",
       "    return function socket_on_message(evt) {\n",
       "        if (evt.data instanceof Blob) {\n",
       "            /* FIXME: We get \"Resource interpreted as Image but\n",
       "             * transferred with MIME type text/plain:\" errors on\n",
       "             * Chrome.  But how to set the MIME type?  It doesn't seem\n",
       "             * to be part of the websocket stream */\n",
       "            evt.data.type = \"image/png\";\n",
       "\n",
       "            /* Free the memory for the previous frames */\n",
       "            if (fig.imageObj.src) {\n",
       "                (window.URL || window.webkitURL).revokeObjectURL(\n",
       "                    fig.imageObj.src);\n",
       "            }\n",
       "\n",
       "            fig.imageObj.src = (window.URL || window.webkitURL).createObjectURL(\n",
       "                evt.data);\n",
       "            fig.updated_canvas_event();\n",
       "            fig.waiting = false;\n",
       "            return;\n",
       "        }\n",
       "        else if (typeof evt.data === 'string' && evt.data.slice(0, 21) == \"data:image/png;base64\") {\n",
       "            fig.imageObj.src = evt.data;\n",
       "            fig.updated_canvas_event();\n",
       "            fig.waiting = false;\n",
       "            return;\n",
       "        }\n",
       "\n",
       "        var msg = JSON.parse(evt.data);\n",
       "        var msg_type = msg['type'];\n",
       "\n",
       "        // Call the  \"handle_{type}\" callback, which takes\n",
       "        // the figure and JSON message as its only arguments.\n",
       "        try {\n",
       "            var callback = fig[\"handle_\" + msg_type];\n",
       "        } catch (e) {\n",
       "            console.log(\"No handler for the '\" + msg_type + \"' message type: \", msg);\n",
       "            return;\n",
       "        }\n",
       "\n",
       "        if (callback) {\n",
       "            try {\n",
       "                // console.log(\"Handling '\" + msg_type + \"' message: \", msg);\n",
       "                callback(fig, msg);\n",
       "            } catch (e) {\n",
       "                console.log(\"Exception inside the 'handler_\" + msg_type + \"' callback:\", e, e.stack, msg);\n",
       "            }\n",
       "        }\n",
       "    };\n",
       "}\n",
       "\n",
       "// from http://stackoverflow.com/questions/1114465/getting-mouse-location-in-canvas\n",
       "mpl.findpos = function(e) {\n",
       "    //this section is from http://www.quirksmode.org/js/events_properties.html\n",
       "    var targ;\n",
       "    if (!e)\n",
       "        e = window.event;\n",
       "    if (e.target)\n",
       "        targ = e.target;\n",
       "    else if (e.srcElement)\n",
       "        targ = e.srcElement;\n",
       "    if (targ.nodeType == 3) // defeat Safari bug\n",
       "        targ = targ.parentNode;\n",
       "\n",
       "    // jQuery normalizes the pageX and pageY\n",
       "    // pageX,Y are the mouse positions relative to the document\n",
       "    // offset() returns the position of the element relative to the document\n",
       "    var x = e.pageX - $(targ).offset().left;\n",
       "    var y = e.pageY - $(targ).offset().top;\n",
       "\n",
       "    return {\"x\": x, \"y\": y};\n",
       "};\n",
       "\n",
       "/*\n",
       " * return a copy of an object with only non-object keys\n",
       " * we need this to avoid circular references\n",
       " * http://stackoverflow.com/a/24161582/3208463\n",
       " */\n",
       "function simpleKeys (original) {\n",
       "  return Object.keys(original).reduce(function (obj, key) {\n",
       "    if (typeof original[key] !== 'object')\n",
       "        obj[key] = original[key]\n",
       "    return obj;\n",
       "  }, {});\n",
       "}\n",
       "\n",
       "mpl.figure.prototype.mouse_event = function(event, name) {\n",
       "    var canvas_pos = mpl.findpos(event)\n",
       "\n",
       "    if (name === 'button_press')\n",
       "    {\n",
       "        this.canvas.focus();\n",
       "        this.canvas_div.focus();\n",
       "    }\n",
       "\n",
       "    var x = canvas_pos.x * mpl.ratio;\n",
       "    var y = canvas_pos.y * mpl.ratio;\n",
       "\n",
       "    this.send_message(name, {x: x, y: y, button: event.button,\n",
       "                             step: event.step,\n",
       "                             guiEvent: simpleKeys(event)});\n",
       "\n",
       "    /* This prevents the web browser from automatically changing to\n",
       "     * the text insertion cursor when the button is pressed.  We want\n",
       "     * to control all of the cursor setting manually through the\n",
       "     * 'cursor' event from matplotlib */\n",
       "    event.preventDefault();\n",
       "    return false;\n",
       "}\n",
       "\n",
       "mpl.figure.prototype._key_event_extra = function(event, name) {\n",
       "    // Handle any extra behaviour associated with a key event\n",
       "}\n",
       "\n",
       "mpl.figure.prototype.key_event = function(event, name) {\n",
       "\n",
       "    // Prevent repeat events\n",
       "    if (name == 'key_press')\n",
       "    {\n",
       "        if (event.which === this._key)\n",
       "            return;\n",
       "        else\n",
       "            this._key = event.which;\n",
       "    }\n",
       "    if (name == 'key_release')\n",
       "        this._key = null;\n",
       "\n",
       "    var value = '';\n",
       "    if (event.ctrlKey && event.which != 17)\n",
       "        value += \"ctrl+\";\n",
       "    if (event.altKey && event.which != 18)\n",
       "        value += \"alt+\";\n",
       "    if (event.shiftKey && event.which != 16)\n",
       "        value += \"shift+\";\n",
       "\n",
       "    value += 'k';\n",
       "    value += event.which.toString();\n",
       "\n",
       "    this._key_event_extra(event, name);\n",
       "\n",
       "    this.send_message(name, {key: value,\n",
       "                             guiEvent: simpleKeys(event)});\n",
       "    return false;\n",
       "}\n",
       "\n",
       "mpl.figure.prototype.toolbar_button_onclick = function(name) {\n",
       "    if (name == 'download') {\n",
       "        this.handle_save(this, null);\n",
       "    } else {\n",
       "        this.send_message(\"toolbar_button\", {name: name});\n",
       "    }\n",
       "};\n",
       "\n",
       "mpl.figure.prototype.toolbar_button_onmouseover = function(tooltip) {\n",
       "    this.message.textContent = tooltip;\n",
       "};\n",
       "mpl.toolbar_items = [[\"Home\", \"Reset original view\", \"fa fa-home icon-home\", \"home\"], [\"Back\", \"Back to  previous view\", \"fa fa-arrow-left icon-arrow-left\", \"back\"], [\"Forward\", \"Forward to next view\", \"fa fa-arrow-right icon-arrow-right\", \"forward\"], [\"\", \"\", \"\", \"\"], [\"Pan\", \"Pan axes with left mouse, zoom with right\", \"fa fa-arrows icon-move\", \"pan\"], [\"Zoom\", \"Zoom to rectangle\", \"fa fa-square-o icon-check-empty\", \"zoom\"], [\"\", \"\", \"\", \"\"], [\"Download\", \"Download plot\", \"fa fa-floppy-o icon-save\", \"download\"]];\n",
       "\n",
       "mpl.extensions = [\"eps\", \"jpeg\", \"pdf\", \"png\", \"ps\", \"raw\", \"svg\", \"tif\"];\n",
       "\n",
       "mpl.default_extension = \"png\";var comm_websocket_adapter = function(comm) {\n",
       "    // Create a \"websocket\"-like object which calls the given IPython comm\n",
       "    // object with the appropriate methods. Currently this is a non binary\n",
       "    // socket, so there is still some room for performance tuning.\n",
       "    var ws = {};\n",
       "\n",
       "    ws.close = function() {\n",
       "        comm.close()\n",
       "    };\n",
       "    ws.send = function(m) {\n",
       "        //console.log('sending', m);\n",
       "        comm.send(m);\n",
       "    };\n",
       "    // Register the callback with on_msg.\n",
       "    comm.on_msg(function(msg) {\n",
       "        //console.log('receiving', msg['content']['data'], msg);\n",
       "        // Pass the mpl event to the overridden (by mpl) onmessage function.\n",
       "        ws.onmessage(msg['content']['data'])\n",
       "    });\n",
       "    return ws;\n",
       "}\n",
       "\n",
       "mpl.mpl_figure_comm = function(comm, msg) {\n",
       "    // This is the function which gets called when the mpl process\n",
       "    // starts-up an IPython Comm through the \"matplotlib\" channel.\n",
       "\n",
       "    var id = msg.content.data.id;\n",
       "    // Get hold of the div created by the display call when the Comm\n",
       "    // socket was opened in Python.\n",
       "    var element = $(\"#\" + id);\n",
       "    var ws_proxy = comm_websocket_adapter(comm)\n",
       "\n",
       "    function ondownload(figure, format) {\n",
       "        window.open(figure.imageObj.src);\n",
       "    }\n",
       "\n",
       "    var fig = new mpl.figure(id, ws_proxy,\n",
       "                           ondownload,\n",
       "                           element.get(0));\n",
       "\n",
       "    // Call onopen now - mpl needs it, as it is assuming we've passed it a real\n",
       "    // web socket which is closed, not our websocket->open comm proxy.\n",
       "    ws_proxy.onopen();\n",
       "\n",
       "    fig.parent_element = element.get(0);\n",
       "    fig.cell_info = mpl.find_output_cell(\"<div id='\" + id + \"'></div>\");\n",
       "    if (!fig.cell_info) {\n",
       "        console.error(\"Failed to find cell for figure\", id, fig);\n",
       "        return;\n",
       "    }\n",
       "\n",
       "    var output_index = fig.cell_info[2]\n",
       "    var cell = fig.cell_info[0];\n",
       "\n",
       "};\n",
       "\n",
       "mpl.figure.prototype.handle_close = function(fig, msg) {\n",
       "    var width = fig.canvas.width/mpl.ratio\n",
       "    fig.root.unbind('remove')\n",
       "\n",
       "    // Update the output cell to use the data from the current canvas.\n",
       "    fig.push_to_output();\n",
       "    var dataURL = fig.canvas.toDataURL();\n",
       "    // Re-enable the keyboard manager in IPython - without this line, in FF,\n",
       "    // the notebook keyboard shortcuts fail.\n",
       "    IPython.keyboard_manager.enable()\n",
       "    $(fig.parent_element).html('<img src=\"' + dataURL + '\" width=\"' + width + '\">');\n",
       "    fig.close_ws(fig, msg);\n",
       "}\n",
       "\n",
       "mpl.figure.prototype.close_ws = function(fig, msg){\n",
       "    fig.send_message('closing', msg);\n",
       "    // fig.ws.close()\n",
       "}\n",
       "\n",
       "mpl.figure.prototype.push_to_output = function(remove_interactive) {\n",
       "    // Turn the data on the canvas into data in the output cell.\n",
       "    var width = this.canvas.width/mpl.ratio\n",
       "    var dataURL = this.canvas.toDataURL();\n",
       "    this.cell_info[1]['text/html'] = '<img src=\"' + dataURL + '\" width=\"' + width + '\">';\n",
       "}\n",
       "\n",
       "mpl.figure.prototype.updated_canvas_event = function() {\n",
       "    // Tell IPython that the notebook contents must change.\n",
       "    IPython.notebook.set_dirty(true);\n",
       "    this.send_message(\"ack\", {});\n",
       "    var fig = this;\n",
       "    // Wait a second, then push the new image to the DOM so\n",
       "    // that it is saved nicely (might be nice to debounce this).\n",
       "    setTimeout(function () { fig.push_to_output() }, 1000);\n",
       "}\n",
       "\n",
       "mpl.figure.prototype._init_toolbar = function() {\n",
       "    var fig = this;\n",
       "\n",
       "    var nav_element = $('<div/>')\n",
       "    nav_element.attr('style', 'width: 100%');\n",
       "    this.root.append(nav_element);\n",
       "\n",
       "    // Define a callback function for later on.\n",
       "    function toolbar_event(event) {\n",
       "        return fig.toolbar_button_onclick(event['data']);\n",
       "    }\n",
       "    function toolbar_mouse_event(event) {\n",
       "        return fig.toolbar_button_onmouseover(event['data']);\n",
       "    }\n",
       "\n",
       "    for(var toolbar_ind in mpl.toolbar_items){\n",
       "        var name = mpl.toolbar_items[toolbar_ind][0];\n",
       "        var tooltip = mpl.toolbar_items[toolbar_ind][1];\n",
       "        var image = mpl.toolbar_items[toolbar_ind][2];\n",
       "        var method_name = mpl.toolbar_items[toolbar_ind][3];\n",
       "\n",
       "        if (!name) { continue; };\n",
       "\n",
       "        var button = $('<button class=\"btn btn-default\" href=\"#\" title=\"' + name + '\"><i class=\"fa ' + image + ' fa-lg\"></i></button>');\n",
       "        button.click(method_name, toolbar_event);\n",
       "        button.mouseover(tooltip, toolbar_mouse_event);\n",
       "        nav_element.append(button);\n",
       "    }\n",
       "\n",
       "    // Add the status bar.\n",
       "    var status_bar = $('<span class=\"mpl-message\" style=\"text-align:right; float: right;\"/>');\n",
       "    nav_element.append(status_bar);\n",
       "    this.message = status_bar[0];\n",
       "\n",
       "    // Add the close button to the window.\n",
       "    var buttongrp = $('<div class=\"btn-group inline pull-right\"></div>');\n",
       "    var button = $('<button class=\"btn btn-mini btn-primary\" href=\"#\" title=\"Stop Interaction\"><i class=\"fa fa-power-off icon-remove icon-large\"></i></button>');\n",
       "    button.click(function (evt) { fig.handle_close(fig, {}); } );\n",
       "    button.mouseover('Stop Interaction', toolbar_mouse_event);\n",
       "    buttongrp.append(button);\n",
       "    var titlebar = this.root.find($('.ui-dialog-titlebar'));\n",
       "    titlebar.prepend(buttongrp);\n",
       "}\n",
       "\n",
       "mpl.figure.prototype._root_extra_style = function(el){\n",
       "    var fig = this\n",
       "    el.on(\"remove\", function(){\n",
       "\tfig.close_ws(fig, {});\n",
       "    });\n",
       "}\n",
       "\n",
       "mpl.figure.prototype._canvas_extra_style = function(el){\n",
       "    // this is important to make the div 'focusable\n",
       "    el.attr('tabindex', 0)\n",
       "    // reach out to IPython and tell the keyboard manager to turn it's self\n",
       "    // off when our div gets focus\n",
       "\n",
       "    // location in version 3\n",
       "    if (IPython.notebook.keyboard_manager) {\n",
       "        IPython.notebook.keyboard_manager.register_events(el);\n",
       "    }\n",
       "    else {\n",
       "        // location in version 2\n",
       "        IPython.keyboard_manager.register_events(el);\n",
       "    }\n",
       "\n",
       "}\n",
       "\n",
       "mpl.figure.prototype._key_event_extra = function(event, name) {\n",
       "    var manager = IPython.notebook.keyboard_manager;\n",
       "    if (!manager)\n",
       "        manager = IPython.keyboard_manager;\n",
       "\n",
       "    // Check for shift+enter\n",
       "    if (event.shiftKey && event.which == 13) {\n",
       "        this.canvas_div.blur();\n",
       "        event.shiftKey = false;\n",
       "        // Send a \"J\" for go to next cell\n",
       "        event.which = 74;\n",
       "        event.keyCode = 74;\n",
       "        manager.command_mode();\n",
       "        manager.handle_keydown(event);\n",
       "    }\n",
       "}\n",
       "\n",
       "mpl.figure.prototype.handle_save = function(fig, msg) {\n",
       "    fig.ondownload(fig, null);\n",
       "}\n",
       "\n",
       "\n",
       "mpl.find_output_cell = function(html_output) {\n",
       "    // Return the cell and output element which can be found *uniquely* in the notebook.\n",
       "    // Note - this is a bit hacky, but it is done because the \"notebook_saving.Notebook\"\n",
       "    // IPython event is triggered only after the cells have been serialised, which for\n",
       "    // our purposes (turning an active figure into a static one), is too late.\n",
       "    var cells = IPython.notebook.get_cells();\n",
       "    var ncells = cells.length;\n",
       "    for (var i=0; i<ncells; i++) {\n",
       "        var cell = cells[i];\n",
       "        if (cell.cell_type === 'code'){\n",
       "            for (var j=0; j<cell.output_area.outputs.length; j++) {\n",
       "                var data = cell.output_area.outputs[j];\n",
       "                if (data.data) {\n",
       "                    // IPython >= 3 moved mimebundle to data attribute of output\n",
       "                    data = data.data;\n",
       "                }\n",
       "                if (data['text/html'] == html_output) {\n",
       "                    return [cell, data, j];\n",
       "                }\n",
       "            }\n",
       "        }\n",
       "    }\n",
       "}\n",
       "\n",
       "// Register the function which deals with the matplotlib target/channel.\n",
       "// The kernel may be null if the page has been refreshed.\n",
       "if (IPython.notebook.kernel != null) {\n",
       "    IPython.notebook.kernel.comm_manager.register_target('matplotlib', mpl.mpl_figure_comm);\n",
       "}\n"
      ],
      "text/plain": [
       "<IPython.core.display.Javascript object>"
      ]
     },
     "metadata": {},
     "output_type": "display_data"
    },
    {
     "data": {
      "text/html": [
       "<img src=\"data:image/png;base64,iVBORw0KGgoAAAANSUhEUgAAB9AAAAPoCAYAAACGXmWqAAAgAElEQVR4nOzdeZwVxf3v/5pBDgIzAwPCDMw+A0YQUNxy3YMkbCr4NcEkfuWbGBPujXFNcIlBvWoScbn5YhSXILhFIIBiwD2gyCYMDiKyuQAOKLjGKCpi8Pv5/cFv6jQ4Z6/u6q7zej4e74fJcJbqquqerv7MOa0EAAAAAAAAAAAAAACIst0AAAAAAAAAAAAAAADCgAI6AAAAAAAAAAAAAABCAR0AAAAAAAAAAAAAABGhgA4AAAAAAAAAAAAAgIhQQAcAAAAAAAAAAAAAQEQooAMAAAAAAAAAAAAAICIU0AEAAAAAAAAAAAAAEBEK6AAAAAAAAAAAAAAAiAgFdAAAAAAAAAAAAAAARIQCOgAAAAAAAAAAAAAAIkIBHQAAAAAAAAAAAAAAEaGADgAAAAAAAAAAAACAiFBABwAAAAAAAAAAAABARCigAwAAAAAAAAAAAAAgIhTQAQAAAAAAAAAAAAAQEQroAAAAAAAAAAAAAACICAV0AAAAAAAAAAAAAABEhAI6AAAAAAAAAAAAAAAiQgEdAAAAAAAAAAAAAAARoYAOAAAAAAAAAAAAAICIUEAHAAAAAAAAAAAAAEBEKKADAAAAAAAAAAAAACAiFNABAAAAAAAAAAAAABARCugAAAAAAAAAAAAAAIgIBXQAAAAAAAAAAAAAAESEAjoAAAAAAAAAAAAAACJCAR0AAAAAAAAAAAAAABGhgA4AAAAAAAAAAAAAgIhQQAcAAAAAAAAAAAAAQEQooAMAAAAAAAAAAAAAICIU0AEAAAAAAAAAAAAAEBEK6AAAAAAAAAAAAAAAiAgFdAAAAAAAAAAAAAAARIQCOgAAAAAAAAAAAAAAIkIBHQAAAAAAAAAAAAAAEaGADgAAAAAAAAAAAACAiFBABwAAAAAAAAAAAABARCigAwAAAAAAAAAAAAAgIhTQAQAAAAAAAAAAAAAQEQroAAAAAAAAAAAAAACICAV0AAAAAAAAAAAAAABEhAI6AAAAAAAAAAAAAAAiQgEdAAAAAAAAAAAAAAARoYAOAAAAAAAAAAAAAICIUEAHAAAAAAAAAAAAAEBEKKADAAAAAAAAAAAAACAiFNABAAAAAAAAAAAAABARCugAAAAAAAAAAAAAAIgIBXQAAAAAAAAAAAAAAESEAjoAAAAAAAAAAAAAACJCAR0AAAAAAAAAAAAAABGhgA4AAAAAAAAAAAAAgIhQQAcAAAAAAAAAAAAAQEQooAMAAAAAAAAAAAAAICIU0AEAAAAAAAAAAAAAEBEK6AAAAAAAAAAAAAAAiAgFdAAAAAAAAAAAAAAARIQCOgAAAAAAAAAAAAAAIkIBHQAAAAAAAAAAAAAAEaGADgAAAAAAAAAAAACAiFBABwAAAAAAAAAAAABARCigAwAAAAAAAAAAAAAgIhTQAQAAAAAAAAAAAAAQEQroAAAAAAAAAAAAAACICAV0AAAAAAAAAAAAAABEhAI6AAAAAAAAAAAAAAAiQgEdAAAAAAAAAAAAAAARoYAOAAAAAAAAAAAAAICIUEAHAAAAAAAAAAAAAEBEKKADAAAAAAAAAAAAACAiFNABAAAAAAAAAAAAABARCugAAAAAAAAAAAAAAIgIBXQAAAAAAAAAAAAAAESEAjoAAAAAAAAAAAAAACJCAR0AAAAAAAAAAAAAABGhgA4AAAAAAAAAAAAAgIhQQAcAAAAAAAAAAAAAQEQooAMAAAAAAAAAAAAAICIU0AEAAAAAAAAAAAAAEBEK6AAAAAAAAAAAAAAAiAgFdAAAAAAAAAAAAAAARIQCOgAAAAAAAAAAAAAAIkIBHQAAAAAAAAAAAAAAEaGADgAAAAAAAAAAAACAiFBABwAAAAAAAAAAAABARCigAwAAAAAAAAAAAAAgIhTQAQAAAAAAAAAAAAAQEQroAAAAAAAAAAAAAACICAV0AAAAAAAAAAAAAABEhAI6AAAAAAAAAAAAAAAiQgEdAAAAAAAAAAAAAAARoYAOAAAAAAAAAAAAAICIUEAHAAAAAAAAAAAAAEBEKKADAAAAAAAAAAAAACAiFNABAAAAAAAAAAAAABARCugAAAAAAAAAAAAAAIgIBXQAAAAAAAAAAAAAAESEAjoAAAAAAAAAAAAAACJCAR0AAAAAAAAAAAAAABGhgA4AAAAAAAAAAAAAgIhQQAcAAAAAAAAAAAAAQEQooAMAAAAAAAAAAAAAICIU0AEAAAAAAAAAAAAAEBEK6AAAAAAAAAAAAAAAiAgFdAAAAAAAAAAAAAAARIQCOgAAAAAAAAAAAAAAIkIBHQAAAAAAAAAAAAAAEaGADgAAAAAAAAAAAACAiFBABwAAAAAAAAAAAABARCigAwAAAAAAAAAAAAAgIhTQAQAAAAAAAAAAAAAQEQroAAAAAAAAAAAAAACICAV0AAAAAAAAAAAAAABEhAI6AAAAAAAAAAAAAAAiQgEdAAAAAAAAAAAAAAARoYAOAAAAAAAAAAAAAICIUEAHAAAAAAAAAAAAAEBEKKADAAAAAAAAAAAAACAiFNABAAAAAAAAAAAAABARCugAAAAAAAAAAAAAAIgIBXQAAAAAAAAAAAAAAESEAjoAAAAAAAAAAAAAACJCAR0AAAAAAAAAAAAAABGhgA4AAAAAAAAAAAAAgIhQQAcAAAAAAAAAAAAAQEQooAMAAAAAAAAAAAAAICIU0AEAAAAAAAAAAAAAEBEK6AAAAAAAAAAAAAAAiAgFdAAAAAAAAAAAAAAARIQCOgAAAAAAAAAAAAAAIkIBHRGxa9cumTRpkpxyyily0EEHSdu2baVnz54yYsQImTFjRtqvs2zZMjnnnHOkpqZG2rVrJ+Xl5TJ06FCZPn16Ws//8ssv5eqrr5ba2lpp166dHHrooTJp0iT5n//5n4TPqampEaWUKKWkqKhI3n///aTv8fzzz+vH33fffWlvGwAAAAAAAAAAAIDcUEBH6G3cuFG+9a1v6aJyaxk2bJh89tlnSV/nuuuuk8LCwoSvcfrpp8uuXbsSPn/Pnj0yZMiQVp/7i1/8IuHzvAV0pZSMGzcuaTspoAMAAAAAAAAAAAB2UEBHqL3//vtSVVWlC8qjR4+Wxx9/XFatWiWPP/64jB49ep8CeCKTJ0/Wj2toaJApU6ZIY2OjPPbYYzJo0CD9b//5n/+Z8DXuvPNOUUpJRUWF3HfffbJ8+XKZOHGidOrUSZRS8tRTT7X6vP0L6O3bt5cdO3YkfB8K6AAAAAAAAAAAIIree+89mTdvnlx99dUybNgw6dq1q655/OQnP/HlPadPny5DhgyR8vJyadeundTU1Mg555wjL774oi/vB/dRQEeo/epXv9IH1muvvbbVx1xzzTX6MY888sg3/v3jjz+Wzp07i1JKqqur5YMPPtjn3/fs2SOnn366fo0XXnih1ff5zne+I0opeeWVV/b5+Zw5c0QpJeeee26rz2spoB900EH6PS666KKE20wBHQAAAAAAAAAARFGybxM2XUDftWuXnHbaaQnfr7CwUK6//nqj74n8QAEdobVnzx5d+K6pqZE9e/YkfFx1dbUopeSoo476xr/ffPPN+mCZ6F7n27ZtkzZt2ohSSk477bRWH9O7d2/p2rXrN37+6aefilJKhgwZ0urzWgroJ598sowYMUKUUtKuXTt5++23W308BXQAAAAAAAAAABBF3gJ2VVXVPrfGNV1AP/vss/VrDxo0SB577DFpbGyUKVOmSENDg/63yZMnG31fuI8COkJrw4YN+uD285//POljzzvvPP3YLVu27PNvxx13nCilpKSkRHbv3p3wNYYOHaqL2zt37vzGvx9//PGilJK1a9fu8/O5c+eKUkr+67/+q9XX9RbQX3rpJd3OX/7yl60+ngI6AAAAAAAAAACIomuuuUbmzZsn7777roiIbNmyxZcC+sKFC/e5xe/+H8L84IMP9IcvS0tL5eOPPzb23nAfBXSE1tKlS/XB73e/+13Sx1511VX6sQ888ID++e7du+WAAw4QpZQMHTo06Wv88Y9/1K/x3HPPfePfb7nlFv0XU/fff7+sWLFCbr/9diktLRWllMybN6/V1/UW0EVERo0aJUopicVi8tZbb33j8RTQAQAAAAAAAACAC/wqoLd842+bNm1k27ZtrT5m+vTp+r1vvfVWY+8N91FAR2itXr1aH9guuOCCpI/13iv9iiuu0D9fu3at/vnFF1+c9DUeffRR/dhJkyZ949937dol3/72t1u9j0aiT5+LfLOA/sorr0hBQYEopeS88877xuMpoAMAAAAAAAAAABf4UUDfuXOntGvXTpRSMmzYsISP2717t5SUlIhSSo477jgj7438QAEdofXZZ59J27ZtRSklAwYMSPrY/v376wPwj3/8Y/3zp556Sv/8lltuSfoaK1eu1I+98sorW33Mzp075Te/+Y1UVFRI27Zt5eCDD5Y//elP8vXXXyd83f0L6CIio0ePFqWUHHDAAfLmm2/u83gK6AAAAAAAAAAAwAV+FNAXLFigX/PGG29M+tiWe7AfcMAB8tVXXxl5f7iPAjpCbdiwYfogOG3atFYfM23atH0+DX7aaafpf5s5c6b++V133ZX0vdavX5/2J94z0VoBfd26dVJYWNjqp9cpoAMAAAAAAAAAABf4UUC/44479GvOmTMn6WMvuugi/dh169YZeX+4jwI6Qm3FihX6HuZt27aVG264QZqbm+Wrr76S5uZmueGGG6Rt27YSi8X0AXDw4MH6+Q8++KD++ZQpU5K+16ZNm/RjW/tq9Wy1VkAXETn77LP1/Tk2btyof26ygL5r1y5pbGyUxsZG2bJli2zbto0QQgghhBBCCCGEEEIICSRbtmzR16h37dqV0/XudP373/+2vt1RSLp1g1z5UUC/4oor9GuuXLky6WNvueUW/dinn37ayPvDfRTQEXoPPPDAPgXy/dOmTRu5/fbb9f8/44wz9HPD+gl0EZHXXntN2rRpI0op+dGPfqR/brKA3tjYmLDfCCGEEEIIIYQQQgghhJCg0tjYmNP17nRt27bN+ra6lFz5UUA///zz9Wtu2LAh6WPvvPNO/djZs2cbeX+4jwI6ImH16tUyevRoKS4u1ge6wsJCGTx4sCxfvlxeffVV/fNzzz1XP8/0PdCzkaiALiLy05/+VG/L2rVrRYQCOiGEEEIIIYQQQgghhBD3QgE9msmVHwX0n/3sZ/o1N23alPSxU6ZM0Y996KGHjLw/3EcBHZGyZ88e2bZtm7zxxhvy+eef658//PDD+gDoLZR7C+sXX3xx0td+9NFH9WMnTZpkrM3JCuibN2+Wtm3bilJKvv/974uI2QL6Pr+YflgsT07rKc1NtdLcVCvLn6yUmZPLZebkcln1jyr988ce6CEzJ5fLYw/00D9b9Y8q/djlT1bqnz85raf+ecvP1i6q1j9bNDf+2PmzKvTPX3+xRpqbauX1F2v0z+bPqtCPXTQ33ra1i6r1z1t+xnbEt2P44PbSuVOBdO5UIH+dVBbZ7XBlPPzYji6dC6W4SMnRh7eL9Ha4Mh6mt+PR+8qlqKOSjh2U/PCMoshuhyvj4cd2/Pr/dJbOnQqkuEjJdZd3iex2uDIefmxH/z4x6dypQLp1LYz0drgyHqa3Y9rdZdKxw97j9H8M7xjZ7XBlPPzYjtv+0E2Ki/aO8S9/WhLZ7XBlPPzYjh+eUSSdOxVISbGSu27qFtntcGU8/NiOg7oUSqcSJQP7t4v0drgyHqa3Y+rE7vp38c9+XBzZ7XBlPPzYjst/1Vk6lewd42vHlUZ2O1wZDz+2Y2C/+LfLbtmyJafr3enyFtCXPxXvG/L/z52nqvb5o4YofoU7n0CH3yigwwm//OUv9QFw0aJF+ue7d+/WX5M+dOjQpK/xxz/+Ub/Gc889Z6xtyQroIiK/+MUvRCklBQUF8vLLLxstoHtPFJqbauXrHb0JIYQQQgghhBBCCCGEkEDS3FSrr1GbKMZyXTx6Y8I90BFFFNARebt375Zu3bqJUkoqKipkz549+/z7scceK0opKSkpkd27dyd8naFDh4pSStq1ayeffvqpsfalKqA3Nzfre7yPHDmSAjohhBBCCCGEEEIIIYQQJ2K7gL6lqUb+vaOBeLKlqSbyBfTbb79dv+acOXOSPvaiiy7Sj123bp2R94f7KKAj8m6++WZ98Lvhhhu+8e833XST/vfp06e3+hrbtm3Tn1QfMWKE0falKqCLiPzqV7/SbfRuj8kC+rLHK62fLBHzaXy6SuY+1FPmPtRTPt/SYL09xHyeeHjv+D7/KPuwi/lgfb3eh9e+UGO9PcR81i2q0WP83tp66+0h5rNwTqXMfainPP7XntbbQszni7ca9D684qkq6+0h5vPWS7V6jDc38kfHLmblM/E1085NrJlczJPT9o7vc49UWG8LMZ8PN8TXTK8urLbeHmI+6xfH10zvvlpnvT3EfGbdW04BPWRxoYC+YMEC/Zo33nhj0scOGTJElFJywAEHJP2QJeBFAR2h19zcnPDf5s6dq+8h3rt3b9m1a9c3HvPRRx9Jp06dRCklNTU18uGHH+7z73v27JHTTz/dl69vF0mvgP7OO+/IgQceKEopOeigg3wpoE8Y39X6yRIxnzNPLdJjvHUViwwX06F9gSilpH+fmPW2EPNZOKdS78Pjzi+13h5iPldeWKrHeP5sLuq6mIH92olSSmKxAuttIeazfU2d3odHDu1ovT3EfKZMLNNjPGlCN+vtIeZz1qj4mok/knAzJcWFopSSPr1ZM7mYJfPia6ZLxna23h5iPuMv7RL/auUZ/FGqizmsb/we6BTQwxEXCuiffvqp/mbfYcOGJXzc7t27paSkRJRScuyxxxp5b+QHCugIveLiYhkyZIhMnjxZli1bJi+99JLMnj1bfvjDH+qDbmlpqaxatSrha9x99936sQ0NDTJ16lRZuXKl/P3vf5dBgwbpf/vxj39svP3pFNBFRC655BLdDgroJN1QQHc/FNDdDgV090MB3f1QQHc7FNDdDwV090MB3f1QQHc7FNDdDwV092O7gP7mS1Xy5fY64smbL1VFvoAuIjJ8+HD9yfJE2zF9+vR9vv0XSBcFdIRex44dv1FY9qZv375Ji+ctrrnmGikoKEj4OiNGjGj1E+y5SreA/u6770qHDh18K6A/8XAP6ydLxHz+Nrlcrr+8q1x/eVf5+HW+GtjF3Pi7veN7183drbeFmM+WlbV6H352JsVVFzN/doUe401ctHcy99zaXa6/vKv84bf8saKL+eTNBr0PT7+n3Hp7iPmsml+tx7jxab6m38XMureHHuOPNrJmcjE3XX2QXH95V/4IxtE0N8XXTBRX3cxzj8TXTG8sZ83kYm66pisF9JAlCgX0++67Tz/n2muvbfUx3q9xHzlypOzZs2eff//ggw+kurpalFLSuXNn+ec//5njliCfUEBH6E2fPl3OPfdcOfTQQ6VLly4Si8WkoqJChg8fLlOmTJGvvvoq7ddaunSpnH322VJVVSWxWEy6d+8u3/ve92TatGm+tT/dArqIyOWXX+5bAb25iRNQQgghhBBCCCGEEEIIIcGluamWAnrI4ncBffHixXLffffp3HLLLfr9jj/++H3+LVENJJ0CuojIj370I/24QYMGyd///ndZuXKlTJ06VRoaGvS/3X333ca3E26jgA44jAI6IYQQQgghhBBCCCGEEFuxXUB//aVK+WJ7LfHk9ZcqfR2Tn/zkJ0m/VXj/tCbdAvoXX3whI0aMSPjahYWFSZ8PJEIBHXCY90ThvtvKrJ8sEfO5dlwXOeWE9nLKCe3lvbV8HaGLGT64g5xyQnv52dkl1ttCzOflBdV6H+Zr+t3MX/5fdz3GTf+ott4eYj6/OKdETjmhvQz5TgfrbSHm8+GGer0Pj7+0i/X2EPN5clpPPcaPPcBtr1zMdZfF10zb19RZbw8xn9OGdJRTTmgvP/0RayYXs2ZhfM10B1/T72SmTCzTY8ztVNzMOT8opoAesrhUQG/x8MMPy/e+9z3p3r27xGIxqaqqkrPPPluWLVtmeOuQLyigAw7znihMGM99OV3MmacW6THeuoqLQS6mQ/sCUUpJ/z4x620h5rNwTnzBMu78UuvtIeZz5YWleoznz+Y+9y5mYL92opSSWKzAeluI+WxfUxe/p97QjtbbQ8xnysQyPcbcP9nNnDUqvmba3Mg3s7mYkuJCUUpJn96smVzMknnxNdMlYztbbw8xn/GXdtFjzH3u3cxhfWMU0EMWvwvogAsooAMOo4Dufiigux8K6G6HArr7oYDufiigux0K6O6HArr7oYDufiigux0K6O6HArr7sV1Af+2lnvLZ9mriyWsv9aSADqRAAR1wmPdEYRMXCpzMF281yM5Ne/Pvd3pZbw8xn5bx/Wxzg/W2EPP56u1eeox3NbMPu5hdzfEx/uptxtjFfLY5/rvYdluI+ezZHt+Hv3iLMXYxu7fFx/jLrRynXQxrJvfDmsntsGZyP6yZ3M/ry2oooIcsFNCB1CigAw7znig0N1FAJ4QQQgghhBBCCCGEEBJcmptqrRbQ16/sIZ+8U0U8Wb+yBwV0IAUK6IDDvCcKqxdUWz9ZIuazqbFWVs2vllXzq/nEjKNZ/dze8V2/uMZ6W4j5fPJmg96Ht73MbRhczNur6/QYf/Imn4pyMRuW1Miq+dXyMudaTubLrb30PvzmCv4g1cV8sL5ej/F7a+utt4eYz2bPmolPr7qZljXTukWsmVzMp5viayZuXedm3nklvmb61xusmVzM849WUEAPWSigA6lRQAccxj3Q3Q/3QHc/3APd7XAPdPfDPdDdD/dAdzvcA939cA9098M90N0P90B3O9wD3f1wD3T3Y/se6BTQKaAD2aCADjjMe6LQS/WX7xb8YJ/YPnkiuYcCuvuhgO52KKC7Hwro7ocCutuhgO5+KKC7Hwro7ocCutuhgO5+KKC7Ge816CLVyWoBfe3Kcvn4nUriydqV5RTQgRQooAMO854ozLq3POmJTKqYPnHy6z3yLXfe1F3GjimRsWNK5MMNfOWki7ngvE4ydkyJXHdZF+ttIeazcWmN3odn3dvDenuI+TwytYceY27F4GZuuKKrjB1TIuef28l6W4j5fPx6vd6H76C46mSWzKvUY/z8o5XW20PM555b42um99exZnIxF/28s4wdUyLX/IY1k4t5Y3mt3odn/OWb17ZI9DPn/viaae0Lwa6ZMrk2yvXL7HPFBZ0poIcsFNCB1CigAw7znig0N0XnL+0zPUHl5JbYTjYLLuYoIYTkR2z8UWKYfif53dZMtykMfUIIIYQQkq/hnCs6MTkezU21FNBDFgroQGoU0AGHRbWA7tdJn0sXSaPUVkIIISRssV3MDWNsj0lUx812nxBCCCGEEBL22C6gr1lZLh++U0E8WUMBHUiJAjrgMO+Jwt/4misnc9vvu8mY0cUyZnQxX+HuaM47u0TGjC6W317E/bFdzPrFNXofnnY3x2kXM+Mv5XqMg/46QpJeci2g1qk+0kPVSE9Va72YS4HYfP75Wr30UDXSQ9XIweow+sfBLJxTqY/T/5hVYb09xHzuuDG+ZnpvLWsmFzN2zN410xUXsGZyMa8ti6+ZHppUZr09xHxm3dtDj/Erz1dbbw8xn0vG2v0KdwroFNCBbFBABxzmPVGYML6r9ZMlYj5nnlqkx3jrqjrr7SHm06F9gSilpH+fmPW2EPNZOKdS78PjzueCn4u58sJSPcbzZ1OYsRU/C8zFau/FoAJVGNkCNsXgxNm+pk7vwyOHdrTeHmI+UyaW6TGexH3uncxZo+Jrps2N+f3NbK6mpLhQlFLSpzdrJhezZF58zXTJ2M7W20PMZ/ylXfQYPz2jp/X2EPM5rG+MAnrIQgEdSI0COuAwCujuhwJ6MLH5aTMK6G6HArr7oYCeWWx/2tpEAd12HxKzoYDufiigux8K6O6HArrboYDufiigux/bBfTVK8vk/Xd6Ek9WryyjgA6kQAEdcJj3ROHVF/gKJBez7eU62bCkRjYsqZEvt/ay3h7bsV1ESVRgz6XwvnHp3vHdxMU+J7NzU4Peh999lT+CcTHvra3XY7xzU4P19tiK7eOyn38EtbmxVjYsqZGNS/mKfheze1svvQ/zx4pu5p+vxY/TH23k671dzNurWTO5nteWsWZyOZ9tjq+Zduy3ZrL1h+7EbLxrpk/zeM3kcpY9XkkBPWShgA6kRgEdcJj3RKG5iYUkcSu2CzBhKNoQQkhYw3GVEEIIIYRkG84LCXErzU21FNBDFgroQGoU0AGHeU8UXl/Gp6JczL/eaJD319XL++vq5au38/PTFK4XaVrGl09EuZkvt/bSY8xf2ruZnZvix+l8+dRbVI6vpvLRxno9xrbbQszn3+/Ej9Mfv84Yu5jPt8SP059v4Xexi2HN5H4+WM+aKWrJ5NyQNZP78a6ZdjVznHYxr75QbbWA3tTYXXa83YN40tTYnQI6kAIFdMBh3APd/UThHui2P/Ud9WIN90B3O9wD3f24fg90V461uWRgv3ailJJYrMB6W4j5cA9098M90N0P90B3P9wD3U6CWpNzD/RoJpP5UKf66DEeqE60fs2ImE+R6kQBPWShgA6kRgEdcJj3RKGX6h/YSZHtk/R8SlAFdNsn2vk83yigux0K6O7H9QJ6quTDsZoCutuhgO5+KKC7Hwro7ocCur+xvVangO7fGIUlFNDdDwX08IUCOpAaBXTAYd4ThUPV0dZPlsIc24udbPP7K7vK8MEdZPjgDvLe2vrILZxs918UcsbwjjJ8cAf55U87WW8LMZ9Xnq/W+/DkP3W33h4TMbF/u3R8mHpbmR7jlxdUW29PEGOfb8f4C87rJMMHd5DTKa46mQ831Ot9+LrLulhvDzGfZ/5Wocd43l97Wm8PMZ8bfxdfM+14NZzf2kVyy/dPK5LhgzvI2DEl1tviamyu7de+UKP34Yp3V5sAACAASURBVLtvcWPNlG6/5ksOVUdLV1UuXVW5HKMGW28PMZ8eyu490Fc2dpd33u5BPFlJAR1IiQI64DDvicIJaoT1kyVCsontBS0h+Z5s9kc/92GOC+EKx2pCCCGEkOiF9bk//UMIaT0nqBEU0EMWCuhAahTQAYdRQCeuJ9OFr+1FOCFhTSb7h4n9kkQ3jDEhhBBCSHTi51o7jLF9jYIQ0npsF9BXNHaTrW+XE09WNHajgA6kQAEdcJj3ROFwdZzVEyUWQP6knzpGatUhUqsOke+oUdbbE/ZkMrdsL/xbcu24LnLVxaVy2++5J6eL2dRYK1ddXCpXXVwqTzzs/9fGpju3c9mXbPdp2PLU9J56jN9YHq37rjKu6eX2P3aTqy4ulat/zdd7u5hP3mzQ+/CDd5RZbw8xn5XPVOkxfvHJKuvtIeYz7e5yPcYfbay33h5iPtddtnfN9N/XH2S9LbZicp0ctmxZGV8zzftrT+vXFYj5DFQn6mtbx6lh1ttDzKdBHUoBPWShgA6kRgEdcJj3RKGX6m/1RCmdBZ7fi0IX011VeL5l4FTr7cm3BHGxoEP7AlFKSf8+MaMXV2xfBIli/Bj7hXMq9T487vxSq9sU9n0hqrnywlI9xvNnV1hvTybzwnY7opKB/dqJUkpisQLrbSHms31Nnd6HR3KfeyczZWKZHuNJE/iDRRdz1qgiPcabG6P1x2wkvZQUF4pSSvr0NrdmCktcW99ms+1HqUF6H65WXBdyMXWqjx7jgepE6+0h5lOkOlFAD1kooAOpUUAHHBb2AnoYF4xRCwX08CfXiwZ+FNDT2edsXiSxcVHGzzFMlnQL6KbaYmMO53uiVkBnzDMPBXS3QwHd/VBAdz8U0N2PSwX0qKxTg9x2CujuhwK6+7FdQF/W2E22bCsnniyjgA6kRAEdcJj3ROFodYq1k6SwLBBdzLfVd+UIdaIcoU6UQeo/rLeHmM/82RXy7MwKWfaEna8UbWlHpv+Wzr/b2Bbbbdg/H22sl2dn7h3jjUtrjI2XydjuIz/ng6ntTPb815bVyLMzK+QIdaJ8sD6cXxubD+PtZ158skqenVkh/5gV/j+QIJnni7ca9HF61fxq6+0h5rPt5To9xs1NFFddzCvPV+sx/mxzg/X2EPNZ8Mje8V0yr9J6W5IlyHWk7W012S/fUaP0dY9j1VDra3RiPsepYXqMT1KnW28PMZ/D1HEU0EMWCuhAahTQAYd5TxROUCN8PxkK46KREFdj+yKHHxdMTF98cWWbwnD8tD1HwhSX+iOTMXZpuwkhhBBC/Arn48H0ByEkWjlBjaCAHrJQQAdSo4AOOCzoAjohJFyxfbGEuHPhyfb2uxzb/csYE0IIIYQkT2vnS/l8jr3/NtheqxASZNLdN8i+sV1AX9LYTTZtKyeeLKGADqREAR1wmPdEobcaYP1kiZhPmaqSQtVGClUbOZF7oDuZtiomhaqNlKjSQN7P9sWYKCfdvvX+7Cj1Hb0P16pDrM83230YxuTaN1f/uou0P7BA2h9YIM89Yv8rvhl/8zn2qAOl/YEF0qmk0HpbiPlsX1On9+EfnF5kvT3EfO7/c5ke43tu7W69PcR8zvlBsR7jLSv5mn4XU9atjbQ/sEAG9muX8XNdPqfOZn1iew3S2r8frQbpNVONOth6e/MhQc+NetVXj/ERKe6BHsQ+TMynRHWmgB6yUEAHUqOADjjMe6LQS/W3frJEzKe7qvB8ywAFdBdTqNqIUkqKVKfA39v2BZ8wxa8+PlKdrPfhMF4Mst3vLuTKC0v1GM+f3XoBPYx9HcY2hTUD+7UTpZTEYgXW20LMZ/uaOr0Pjxza0Xp7iPlMmVimx3jShG7W20PM56xRRXqMNzdSQHcxJcWFopSSPr1jGZ/DRPEc2fYawY/1RrLHHKUG6X24Wrm1/X71Z7bzxdZ8q1N99BgPTFFAz2TukPCkSHWigB6yUEAHUqOADjjMe6JwiDrC+skSMZ9q1VuKVCcpUp3kRHWa9fYQ8ylRpVKkOkl3VRHo+9q+KBSW+N3Px6jBeh8O6zeF2B6DqGfiDd1kQN+YDOgbkxefrEo4z8I+z233Y5gzemSRDOgbkyMHZP6pNxL+vL+uXu/DF/28s/X2EPN59L4eeoxn/KXcenuI+Yw7v1SP8baX66y3h5jPcUcfKAP6xmTUsL1/6BSF8xrb5/h+rQkyfa1kP2vJt9V3PWsmPhyS6xiFcU5+Sx2ux/goNSin7bU9DqT1dFM9rBbQFzV2l9e39SCeLGrsTgEdSIECOuCwVPdA5+SSmEyUFy4mL4BEtQ/86hcXYnscwhLb45Cv8bP/939d5gAhhBBCopqgzmttn5Nz3p+fY2Jq/Gy3LSxz1Xa7W2u/369ne/tt3wOdAjoFdCAbFNABh6VbQI/CSaUrCaLPGU/zY5JNH6b7WNv7Yar3sX0xJGwJci6mOw5R2n+I3TlpYt7Y3l5CCCGE5F/CeO5q8xyc83v745Xv8yQMMTUvghgzG3PE9j6yfyighy8U0IHUKKADDvOeKByhTjJ+QmX75CubE8dU7bfdzkwzUJ0gh6iBcogaKIPUGdbbky/JddGeyWP7qCNl0oRuMv2e1F8pGpbtdDHp9I/358n6z/saJ6pT9T6c7KvqTLbdz3lke5wy7Zcg3uNoNUgmTegmkyZ0k62r7HxtLMcFf/O3yeUyaUI3uevm7tbbQsxn56YGvQ8/8XBP6+0h5rN+cY0e4zULq623x3SCOL6H/ffH0zN66jH+1xsN1sfEhaRzThxk+qgj5RA1UPqpb1uZdza22UZszbd3XqnT+/DiuZW6z23vB5nOCxfmm1/tOlqdotfFrX0AKFkbTMxXm30Xhn01iHE/RA20WkBfuKK7bNzag3iycAUFdCAVCuiAw7wnChPGdzV2Yhn1BH1C6ufrnXlqkR5jvwozubQ50+0LYtGS7Tjvvw1B7Tsd2heIUkr694kFPveD2B/Dmpbt96t/Wp6/cE6l3odr1MGBjoWf+wuJ58oLS/UYz59d4fv7BX1sdCW5bOPAfu1EKSWxWIH17SDms31Nnd6HRw7taL09xHymTCzTYzxpQjfr7ck1No7pYf/dctao+Jppc2Ot9TFKtz/T/bmt8QpT2qgDRCklHVWx9bb4EdtjGeS8by1HqUF6H65WmV9nyMfYnrOZpk710WM8UJ1oZJ8IW98E2Z4g5lAmbf96R285rG+MAnrIQgEdSI0COuCw1groyU4sTZyIpnvClc2JW1gXFKZeP5u+DqKAvn+b/HwPP8bH7/jdD9kU0E0scILe3qDnl8m5l+q1kv27t4A+7vxSK/0Rpf0hismkgG5yX43a8dD0XApym1oroLNPuBMK6O4nXwvofryvqbabblvUCuhhmSNRimsF9LCMXRBzLp3HeQvol4ztbH0fikJsz+FMY7KAnssc9D422c8zmcfpvr5f45hJP6X7mGzGhgJ6+EIBHUiNAjrgMO+JwvOP5vapN9MLKL8XCbk+N91Fo58LiHROZBc8UiFTbyuTqbeVyaebzH4doenx9msOBd33id7Xrzn94B17x3fO/T186/cg+ivoMTU1Rn73yfY1dXofXvFUldX+CXofypesfKZKj/Hbq5P/oZOfYxJkwnAMCLLtjz3QQ6beVib3/7nM+nwj5vPZ5ga9D/9jlv/fIkGCz2vLavQYr19cY7096SRsx8Gw5znPmumTN+18hXu6/Wx6HG2fEwSVfuoY6auOkgHqWOttCUtMHENyfY1c5rf3eSep0/Q+vDzNNVM+x/bcyybHqMHSVx0lfdVRcqI6Nas56d3+bPrG9riZHMtsXyfTdmSyLVNvK7NaQF+wokzWbe1JPFmwIvgxAaKGAjrgMO+JQnNT6r+0T3aSlc6JqKmTwEyen+x1M21vNu+fywlsJq+d6nGm+jWfk8kY+rFPBLV9ufZBuv0T9iTafpPbkOz1s52XYe9j2/M8rMm0f2yPYz7H9lwhhJDWsv/xyfaxMtPjZqLHR/24nG4bbY+RCzE1Vt7Xsr1NQfWTn32fzuOCHusoJt1ttz2/Uo1VkO+Xzs/9mPM250eidga5PS2vl0lbWv6tuamWAnrIQgEdSI0COuAw74nCCWpEKE8Mg26Dn+/n50lrqgWK7XEM69iYWIgmamNU+z7ZXErVFyS3xbfttpjenqD3Z5PzP9H2pLOd2fZHps9JdxtIMHPa7/loYy4RQuzEz/03asfSMB+vk72v7d9d+RBb+2bYtjHM4+DX+6TTNzbnia35FER709kGP7Y/m34Nel+xPZ/S3d5cXyPT5yT6t9aee4IaYbWA/uyKclmztYJ48uyKcgroQAoU0AGHeU8UDlGHGzkJTPeEKt3HmnxfWyermZ68JtuWTE/iK1WDdFBF0kEVyYnqNOv9EvS4hm1e+JEBfWPSu76tnPq9+H1XM92HE81NvxeZJha3QbbTRo5Rp+h9uJfqb7092Y5pGBOW9vZWA/QYH60G+dqf+bDPhHHujhzaUXrXt5W+B8esz3tiPu+trZfe9W2ld31b+T8/6WS9PcR8Zt3bQ4/xX+8sz+m1bP4OtX18DfOx/KKfd9ZjvHVV3T59lo/9F9bkMv8H9msnvevbytBBHUK/f0VpfzbVpmSvkU5/vPRsld6H//DbrlmPmwvHVL9+h2TTDyb77GB1mB7jRX+vTNqeIMYw6H7Otu1+v77J/uiigi/WUkCngA7kigI64DDvicKE8V1DeVLoUvxcICX6t+6qQo+x92JQvsXludyhfYEopaR/n/QLM7YW7a3N16DG33aybceR6mS9D9eog61vRybjnWoMMnl8EHMg6H235X1r1bf0GB+hTkqrbbm0N9Fzbc8jW3PX+1+/5sPAfu1EKSWxWEFg88rm3M63bF9Tp/fhkUM7Wm8PMZ8pE+NfXzlpQrekj0123Db5ezXd97d9nPXr2J1s29PtQ+/jzxpVpMd4c2Ot0/0X1WQ7zi0pKS4UpZT06Z3dH7PZ3v5kfRJ0+0y+Zzp9nc7YHKUG6X24WmX+oYR03iOs8yDbfg5rErV7/KVd9Bg/PaOnsd8FriXK231Y3xgF9JCFAjqQGgV0wGHeE4U/XXeQ1RMyGyd5YTix9Huh819nFUuX0kLpUloob6/OjwJ6Lv2WyYLe9na2pLLnAdKltFBOOObAjLcv1ZxLdoEk0eva7o9sxjtVH6XTnyba0VqOUoOkrYpJWxWTOtXH+sWXbI5RiZ6Tas5l2oeZtMOvscxmzOtVXz3GR6qT0+pnP9tpe07Zmq/Zzu908p3j2kuX0kIp794mkPlFgs2OV+v0udZ/fr/YentI5km1z//1znI9xvf+d/fQHMNsHTdtH8tzPd63tg0/O7tEupQWSlsVS3hrs3Tez/Z2Rzmp+i/T/Xb/1FTuXTP9ryPNrJls9VEU2pnrdu2/jd7/Jsryp6r0cfqqi0uN91G2v1eC7CsXkmw7//DbrnqMj1AnWW8rMZ/jjznQagH9meXlsrq5knjyzHIK6EAqFNABh3lPFJqbalOezETxhD1sC418XAiFZRvzqe9NXmCxNUbJtsv18TM1dkFf7DL1XFN9ZHvcTI9jlNoatuy/bbbnAiHEXhIdA9I53to+ltk+ftrsi1Rjms7j8nUMgxqPXJ5v8rmZzgHmiv1k0v+2xsvk76BMtyfXOR+VuLQtJLvYvgc6BXQK6EA2KKADDmutgJ7LSaupE95sFgJhXzy4uMDJdLtb236/+yPThfb+7YrCmPmx4A/i4kGubbHd72EZ62zmQxgSxPwPw/jY7rNs939bcynovrW9T2c6p2y3x685R0gYYvv3YpQS1n5LNK65tpP5k10/+L0/+rnv2xhX7/v5Nb/2f48wzCPb8zrIuUYI+Wa8+1hzUy0F9JCFAjqQGgV0wGHeE4Vlj1cGemKUyb+R7NP4dJXMfainzH2op3y+pSGrMYv6IjJVm01dsLC1fU88vHd8n3+00mhbwrBtpLd8sL5eDlfHy+HqeDlWDUlrXGxfZLK1vwS5X5rsi2PVED3GJ6nTjfSZH8eBqCabbTM9XxbOqZS5D/WUx/+a+H6NJLr54q0Gfa614qkq6+3J95g8FrTkBDVCH6ePV8OtH9dIZsfvdJ53jBqsx3iQOsPoayd7fjavY7p/whrT2z5QnSCHq+PlSHVyaNsY5DgHsY8F2b8nq5F6H/5f+62Z8m3fyaR/bbchk6xfXKPPt959NT9uT5hvmXVv8MVa73XxJ5f3kKbmKuLJk8t7UEAHUqCADjjMe6IwYXxX6ydLxHzOPLVIj/HWVSwyorZITCcd2heIUkr694lZb0trFxj87nMXx9SbhXMq9T5cow5utb8T9XuY4/cc9Ov9/OiLWvUtPcZHqJPS6rcg+tP2HPF7vvk9L72vObBfO1FKSSxWYP2YQhLPg2xfY/uaOr0Pjxza0ff3czXZ7pNBHEP6qqP0GB+iBlo/ppHEyXaelKn4+VZrfySRyWuZmPumttuVmOijNuoAUUpJn965rZnCMJ/9bnsur21rPhylBul9uFq5v0bMx4y/tIse46dn8EepUU9r++hhfWMU0EMWCuhAahTQAYdRQHc/mRTQWWRGMzYL6K3NGeaR2XgL6OPOL005HlGMyflo+j2C2P5MCuhBXFx1YU4l6xu/52lrz3GxgB6Gfd70dmT7GpkU0KMQE2OWzvNymTMtPwvqWGK6gJ7LeOTad36PVS59kul2mOxbbwF9c2Nt2v2ayftmMx7Z7H8uxsQcKykuzKmAbmI/M3VcsNm3+z/X9txoyZJ58X34krGdrbeHmA8FdDfjPY5QQA9fKKADqVFABxzmPVF44uEe1k+cTJxwhfH1bOZvk8vl+su7yvWXd5WPX6+33h5iPjf+bu/43nVzd+ttCSK2LzIFnS0ra/U+/OzMCt/602ZyaXs22+B9bhj65gh1ktSrQ6VeHZr2VwObHP8wzgk/55XJuZnu8++5tbtcf3lX+cNvw/nHiqbnQaav4fe2ZPMambTvkzcb9HF6+j3lgY9duv2e67im6hPb+3y27U+0Td7Hr5pfrce48emqpM8Naq6bnveZjmm2cyDd52Xbrmz7Yta9PfQYf7SRNZOLuenqg+T6y7vKpAndUj7Wj/04qONBvqa5Kb5morjqZp57pEKP8RvLa623h5jPTdd0tVpAn7e8Qhqba4gn85ZXUEAHUqCADjjMe6LQ3MQJKPEnXCQg2YZ5Yz9BFTDC0qYoJUpj7dc2B/F+6fZ3qscENY6ZtMF0P5qeX6a2Ndf9IMj9y9Z+m+lru3D8yHZ/yeS5Qe7fYQx9QNJNmPaZbI93tttNCCFRT3NTLQX0kIUCOpAaBXTAYRTQSTYxfUHZ9vYQe+GCU/Rio4hhqg2tPdf0toW9IOTHeGZycTnX1/Kr/bn2ebpjEsSYZvq++z8m077NtA/87pNcnm+yn0zMz6DmuJ/zzK991Y/9hBCTYZ4Skn9hvyckt1BAD18ooAOpUUAHHOY9UbjvtjLrJ0vEfK4d10VOOaG9nHJCe3lvLV9H6E0YL8Jm06bhgzvIKSe0l5+dXZLW69veRpJZXl5QrffhMH1Nv83Ch9/vHUTByps+6kgpVd2kVHWTb6vv+rJ9QWyH6fe2NR7Jtivb51SoOilV3aSrKjPWr4naFdS4p/M+Qe7bJvox23aerEbq4/T4S7tkPFdsbK8ffZXua9kev2zy5LSeeowfeyC6t73K16Qzh667LL5m2r6mznqbifmcNqSjnHJCe/npj1KvmUj0smZhfM10Rxpf00+ilykTy/QYe2+nQtzJOT8otlpAn/tipSx/q5Z4MvfFSgroQAoU0AGHeU8UJowP5305SW4589QiPcZbV3ExKJ34eaHWjwvBHdoXiFJK+veJ+bYdYbh4na9ZOCe+YBl3fqn19rQWkwUek0WXdNpsepuySa36lh7jI9RJxgtoQW5La30axPsFtS2JtilVG4pVZ1FKSYEqDHw8bCaoY4kfbclk7LevqdP78MihHVNuj4ntt33cz7TtttuXa6ZMLNNjnM79k3PtS9vbm485a1R8zbS5kW9mczElxYWilJI+vWPW20LMZ8m8+JrpkrGdrbeHmM/4S7voMU73Pvf8To1WDusbo4AeslBAB1KjgA44jAK6+6GAnn1yuegb5EItUQE9yO0l/iUKBfSvd9j/lLBfBZsg2ulXAd1mv7fW/6bHL93HBDmvEj3HRgE9TPtnWPY108eDlp8nKqCbfh9iL0EW0ImdUEB3PxTQ3U6YCuj87vYn2RTQSbRCAT18oYAOpEYBHXCY90RhUwguFAS10MinBc0XbzXIzk178+93ellvT5QT1nnTMr6fbW7Ierv8ukgf1j6LUr56u5ce413N0duHbRfu/Cqcmcwp6kwZpM6QQeoMGay+b72vwpQozMV0XnuQ+g89xjb6yfY4ptPuMM6tdF9jz/b4cfqLt7L7XUzCnd3b4mP85dbcfhebPrYRM2HN5H5yXTORcCdsayaXjvVh2ZZdzfEx/upt+2NMzOf1ZTVWC+hzXqySpW/VEU/mvFhFAR1IgQI64DDviUJzk/0CetAJy0IgKu0i0RyndIsryX6W6DXSKUZEpZ9ca3sYY7tYl0nhLCrbQjL/RLiLY5nNsSzsbQ5DG3NtPyEkf8JxgRBCCMktzU21FNBDFgroQGoU0AGHeU8UVi+otn6yFMbYuhhi6n03NdbKqvnVsmp+dc6fmHEt6V4Yz2Usgpg/q5/bO77rF9dk3JZM2pesaJBOcSbb1873fPJmg96Ht73szm0Y8rXo1VqbTlSnyrfVd+Xb6rvyHZ8+oRyWfrbdrkTty+b5mTz+WDVUj7GNfg/jGLTW7mTbEYZ5kihfbu2lj9Nvrsi/P0jNh3ywvl6P8Xtr6623h5jPZs+aKdWnVzM5PpDwpGXNtG5R8jVTGLL/70bb7YlCPt0UXzOF8dZ1jGPueeeVOj3G/3qDb5JwMc8/WmG1gD57WY0s2tJAPJlt4VsBgKihgA44LGz3QM/mArDtNvvRByZfj3ugRy+ZzgET90DPZt65uP+FMSbvgZ5NYcjPhLUYFvT2u3YP9CDHz8Tr5dqOdJ4T9D3Qw7wfZtLesPVVopi+BzoJX7gHuvtJdg90U8cKYjd+3wM9098vpn8X5XvCdA904k+4B7r7sX0PdAroFNCBbFBABxwWtgK6S0m2GA5ykUwBPRzJdszTeV42BfRERSTb/US+GZMF9DAnKoUyP7Y3HwroJuaAzbmTqh2pnhN0AT2TbTA1PrmOf9Dja3J/poAe3aQ7Fyigu59kBfR8ih/HyLBsS2sF9Ey21ftYV/rIpVBADyY25z4FdPdDAT18oYAOpEYBHXCY90Rh1r3l1k+WiPnceVN3GTumRMaOKZEPN/CVk1/vsHdhyK/3vOC8TjJ2TIlcd1kX39rJRSJ72bi0Ru/Ds+7tYb09NhOGQpnp7fl6R295ZGoPqVD1UqHq5Vg11HpxNcjibTZjne7jc5kz2WxHssc2qEOlQtVLpWqw3v/pjkEu+6dfrxWG7WwtH79er4/Td1BcdTJL5lXqMX7+0Urr7SHmc8+te9dMFape3l/HmikqyeRYf9HPO8vYMSVyzW8Sr5mC/N0Rpriw3W8sr9XH6Rl/4dpWVJNsLs65v4ce47UvhP9WDCTzXHFBZ6sF9JnLamXhlt7Ek5nLgr8vPRA1FNABh3lPFJqb8vcv7QkxnUTFFdvtyrbthBB7sV1sDbIAbaqfguxHF8bK1Ly0Pfdt76uEEEL8Dcd6QghxN81NwRdrKaBTQAdyRQEdcBgF9OiEiwXhTL6MS75sJyFhju0ia1DF22THm1yORUEWnlM9xo8+82ssbBSubb0vIYTkW8J8LA1z24i/477/7/ogfvd738t2H4SpHYT4He9cp4AevlBAB1KjgA44zHui8De+5srJ3Pb7bjJmdLGMGV0sH26o/8ZCjIVZsPH2t6ki0Xlnl8iY0cXy24v8uz92OhcsmEv+ZP3iGr0PT7ub47SLmfGXcj3G6X4dYZAF7iCSaBuD6H/T7W7t9etUHxkzuljO/XFJzu8d1PxI97X9Hhvb+2c6+edr9Xof/u/rD7LeHmI+C+dU6jH+x6wK6+0h5nPHjfE103tr+Qp3FzN2zN410xUX+LdmIonj9/nDa8via6Z+6hhjbbbdb2Fqh+3MureHHuNXnq+23h5iJt75fclYu1/hPmNZnSzYcjDxZMayOgroQAoU0AGHeU8UJozvav3EiZjPmacW6THeuqrOenuCSFgWmEEUF77e0Vs6tC8QpZT07xMLTR/sv+2m/lggH7NwTqXeh8edzwU/F3PlhaV6jOfPzqwwY7vw7WcBPdk2mx6DXNue6ng3sF87UUpJLFaQ8/v7uR2JXqe1n9veb8KU7WviF5ZGDu1ofT4T85kysUyP8STuc+9cvlvwAzlrVHzNtLkxP76ZLd+OPyXFhaKUkj69Y9bbEtVkck4U9PnCknnxNdMlYzsb327bfU96y/hLu+gxfnpGT+vtIWbi3b8O6xujgB6yUEAHUqOADjiMArr7cbWAnu+LWO8FidYK6FFLvo9nslBAdz/eAvoR6qS0n2e76G2jqB70scJEm7/esW8B3Xa/ptv2dLeNUEDPh1BAdz+ZFNDZb80niN81YS6g5/I7u7V/y8ff3X4W0Ek4QgHd/VBAD18ooAOpUUAHHOY9UXj1Bb4CycVse7lONiypkQ1LauTLrb2styfdcNF+375I9u8bl+4d300OfVqGcY9n56YGvQ+/+6o7fwRD4nlvbb0e452bGnx9r1yKwJm8Rmuvt///NlVUDzKZtrXlv5sba2XDkhrZuDS9r+g30e9R69soZ/e2XnofdumPFfMl6cz/f74WP05/tJGv945qko3126ujuWaKSsLwe+a1ZXbWTGH5XZtpG6J2nvDZ5viaaQdrJifjXTN96vOaidjJsscrrRbQH17aIM9uPoR48vDSBgroQAoU8NhAQAAAIABJREFU0AGHeU8UmpvsFd+isCAjzAESTJgLhPifdAu/ub5WqouuJgq+6Rb9g+5PP97DxFhE5UJ4voSxoM8JY+VyXB9DV36/5tJu77ljNq/jQv8RQsykuamWAnrIQgEdSI0COuAw74nC68uy/1RUtmGB5H/+9UaDvL+uXt5fVy9fvW3m0xSmxs32+Nt+f1NpGV8+EeVmvtzaS48xf2nvZnZuih+ng/zUm18FVhOvl00BONV7BH1h1vt+H22sl5PU6fL+Oo7TLubf78SP0x+/Hv4xduX8J8jt/XxL/Dj9+RZ+F4dtfEzEjzVTPiQs45dOPlif+ZqJom644x0f1kzux7tm2tUc7HGa40AwefWFagroIQsFdCA1CuiAw7gHuvtx9R7o3mT6SclsnxvWBHkPdNP9xUWp1OEe6O7Hew/0+bMrAn1vPz+hnOqT5973z7RtuX4iPeh474Fuuy3EfHK5BzoxHz+OAdwDPXWfR/1TpJncA51EM/vfAz2qc5W0Hu6B7n64B7r7sX0P9IeW9pKnN/chnjy0tBcFdCAFCuiAwyigm00YF+AmCuhh3C4X25xtgiygk+BDAd39+F1AT6e4bLr4ke7z033f1v4tnefYHtuW7F9Ad/GPufI5USiguzrHgtouCujuhwJ6PMn+UC0Kx5JEbdy/gE7cCgV092O7gB6F41/UQwE9fKGADqRGAR1wmPdE4cHbyzjhdDC/v7KrDB/cQYYP7iDvrQ3/14r6kVyKQckuHoVlPp8xvKMMH9xBfvnTTtbbQsznleer9T48+U/drbeHZJ9Ex4ypt5XpMX55QbWVNtjsk2w/aR6lbb7gvE4yfHAHOT2kxVVXYmusP9xQr/fh6y7rYr0fwtIvLuWZv1XoMZ73Vz715mJu/F18zbTjVTe/tSuduHy8+P5pRTJ8cAcZO6aEfnIwa1+o0fvw3bewZnIxD9weXzO99GyV9fbka/w8/v3sxyUU0EMWCuhAahTQAYd5TxSam/L7L+3DcsIYhri+ffm+vYQQ8vWOcBz7giigE5KvYX8hhHy9g2NBtn1l47yDsSLMgXCGcQmmX5ubaq0W0B9YerA8sflQ4skDSw+mgA6kQAEdcBgF9OxO6ki0w3gSQsi+sXFcTPUVsX4Uzzn+ExKdsL8Skl3YdzLvJ/qMEELSj1/HTAro4QsFdCA1CuiAw7wnCnMf7GH9JMzGCVpY3s+v/PXOcrnq4lK56uJS+fj11r/C3ZVtzbdta8m147rIVReXym2/556cLmZTY63eh594mK+NdTFPTe+px/iN5fb/mM3WcTOT943aJ9Rv/2M3ueriUrn61+H7em+Sez55s0Hvww/e4f8tkVpLWOe+K21f+UyVHuMXn+RrY13MtLvja6aPNubnba9cz3WX7V0zHawOs96WVInCcTFs27tlZXzNlO2tNvKt36OWZ/5Wocf4tWU11ttDzOeG33axWkCfuuQQmbupP/Fk6pJDKKADKVBABxzmPVGYML6r9ZMlYj5nnlqkx3jrqvj9/Fgcppco9FOH9gWilJL+fWLW20LMZ+GcSr0Pjzu/1Hp7iPlceWGpHuMj1Em+vlfYC80tbTS5nWHY3oH92olSSmKxgsD6gASX7Wvq9D48kvvcJ0yU5/WUiWV6jCdN4A8WXcxZo+JrpuPVcOvtIebSch5QUlwoSinp0zs6ayYT5zBhOA8Kou1L5sXXTJeM7Wy97cR8xl8aL64+PSPxH0lEdb6T3nJY3xgF9JCFAjqQGgV0wGFBFdA5gbWXRAV0kjz7z9kwz2EK6G4nUQE9yhfDyL7xFtDnz66w3p7WYusr3m1vt6lkWkAn0QoFdPdDAd39eAvomxvtfxtMorjyuzGI7dj/PaJYQLc17sm+6Scsa5D92+FXAT0M2xrGtthIugV0Eo20Np8poIcvFNCB1CigAw7zniiseIqvI3QxLy+olmdnVsizMyvk8y0N1ttjIn4uHKO4KJ0/e+/4LnuCfdjFfLSxXu/DG5em/1V1UZzL+ZrXltXoMf5gfbi/NtbFQnoQ2/Tik1Xy7MwK+cescP6BBMktX7zVoPfhVfOrrbeHmM+2l+v0GDc3hbe4SrLPK8/H10yfbXZjzUT2zYJH9o7vknmV1tuSS6J0jh9kW//52t410xHqRNmwxJ+v9w5j34exTX7l9Rfja6b314V7zUSyy9wHe1gtoN+7pI88tukw4sm9S/pQQAdSoIAOOMx7osDFIJJvyafFJsmfpJrXYfnUCIl2mEOEOUAIcTUc33Lvv6D6MN/HKirb7+L6w7XtISQMaW6qpYAeslBAB1KjgA44jAJ6dMOCjf4jJFUyvVi1/+NdvNhFzIb5QV8RQojf4fgZzrSMS1Bfx855aXb9Fea+C2u7CGktzFX/QwE9fKGADqRGAR1wmPdE4eZrv3kPdBdPEF3cpmT50X8USfsDC6T9gQWy7eXU90B3uX9cXaB3LS2U9gcWyNGHt7PeFmJ+H1r090q9D//2olJjr5vpJ9W9/9/F/chmrv51Fz3Gzz0Sza/4Zk4kz7FHHSjtDyyQTiWF9LGD2b6mTu/DPzi9yPf3Yy4En/v/XKbH+J5bu1tvT74liDlfrqr1GG9ZyR+W2x4PP96rrFsbaX9ggQzsx5opzMl2zJc9UaX34ct+ZW7NRMKT6y6Lr5menRnNNRNJnqMPb2e1gP6XxX3lkTcPJ578ZXFfCuhAChTQAYd5TxQmjP9mAZ1EP2eeWqTHeOuq1gvoXIg1Fxt92aF9gSilpH+fmPXtJ+azcE6l3ofHnR++i0Fh/lRLVHLlhaV6jOfPjvbFIOZB6xnYb+/FoFiswHpbiPlsX1On9+GRQztabw8xnykTy/QYT5rQzXp78il+/l7xvvZZo+Jrps2NFND97nsb711SXChKKenTmzVTFJLpHFgyL75mumRsZ+vtJ9mNY7KMv7SLHuOnZ/S0vm3EfA7rG6OAHrJQQAdSo4AOOMx7onD3zd/8NAUXwsOTbMfi0v/dWQb0jcmAvjHZvib1J9CJuTEIav8pUaVSpDpJd1XBPutgVj5Tpffh//d/D7LenkxCYT29TLyhmx7jF5+sst4esjcm5+7okUUyoG9MjhzAp95czPvr6vU+fNHPuWjvYh69r4ce4xl/KbfeHmI+484v1WOczrd2EfPx+5zxuKMPlAF9YzJqGH/oFJVkMidWza/W+/DN19hfM7EGMt8ft/8xvmZaMq/S+jYR8xk1rCMF9JCFAjqQGgV0wGFhvQc6iw3zfUGfknTDXCGZJJv5QmGdkNzC/kMIIYnDMTKafce4RafPo/o1/mF8PxKNMC+Cie17oN+1uJ/MfPMI4sldi/tRQAdSoIAOOCysBXSSe6KwGLadfNpWV8KYRSfer3ZPd9yyec7+z7O93cROGHsS1TB3CSFhiO1jke33J+G/fmBjjvjxnsz1aIZxCyYU0MMXCuhAahTQAYd5TxTmzwrPfVc5Oc2931r+91PTe8qkCd1k0oRu8ummhtD2ud/vb3v7/Mw9t3aXSRO6yfR7En+lKMXF6Obt1XV6H3blq+pszMf9i/PJEnR/LHuiSo/x1lV8bayL+dvkcpk0oZvc1crtckj0s3NTg96Hn3iYe3K6mPWLa/QYr1lYbb09xHyenhFfM/3rjcRrJmIuQZ9zTf7T3jXTtLu5DYNL49qSd16Jr5kWzzW/ZjK9XVz/yDzLn4qvmd56iQ8AuZi7bupGAT1koYAOpEYBHXCY90RhwviuCU9ionzyHeW2m9jGM08t0mPcWmHGdv/49f62tyvIdGhfIEopKVKdrLeFmM/COZV6Hx53fqn19hDzufLC0vgfs80Ozx+z+ZF8OjZ7M7BfO1FKSSxWYL0txHy2r6nT+/DIodxb18VMmVimx3jShG7W20PM56xR8TXT5kY3CzP5+ju4JSXFhaKUkj69Y9bbEqaEoZBrog1L5sXXTJeM7ezb9kVpP4pSW9PJ+Eu76DF+egZ/sOhiDusbs1pAn7RogMx44yjiyaRFAyigAylQQAcclm4BnUQ3iQrori2mXN2mdLa3pYDev0/+XQzKhzEPsoCeD/0ZxuRTAf3rHfk5z/wsoOdjf4YtFNDdDwV0Owmy8JUPBfR8j8kCumu/e4P8GvZU3/iUza2cvt6RuIAehbg2n/zqD9sF9HwfpyC2nwJ6+EIBHUiNAjrgMO+JwvOPun/RPh+z4JEKmXpbmUy9rSzpV7hHNWFexAT11dAP3rF3fA9Tx1nf5nybA0G89/Y1dXofXvFUVaS3hbSelc9U6TF+e3V+fIV7vs23xx7oIVNvK5P7/1xmvS3EfD7b3KD34X+E6JZIxFxeW1ajx3j94hrr7cmXBPm74jnPmumTN91bM5He8tCkveP7yNQe1tuSTly553dQ7TlJnab34eU+rpnCsK35mpeeja+Ztr2cH2umsMXveTr1tjIK6CELBXQgNQrogMO8JwrNTfylPSHZhPuLk6iH+UtIfoV9nhBCCEmdfP19GfR2p3q/TNsT1NfG+9Vf+TrvCGluqrVaQP/zosPl4TeOIZ78edHhFNCBFCigAw6jgG4uYV7khLltUUsUiuVhb58rcaWfXdkOQgghhLgRzk2IzbTMP+ZhfsR0Id3vb58j+Zd8mksU0MMXCuhAahTQAYd5TxTu4H5+WSXsJ7O/+lkn6V3fVnrXt5Xta/iaq0zHNezj+/WO3jKg7//H3nmHSVFl/f92DzTMMIGZAYYwTARfQRARs7iCoIgoKA6sCdeIawZFBV9WhV2VsK+LAcMqYhYFRUEkSFQccWAAyUqQAQXFLCpB8fz+mF/fLnqquyvcXOc8z+dReiqccG/VvfWtEIG2ZfWhz5mx765a/dchBha1MpWPZ7emfXjMyHzMnYGMv7cJrfGH7xRK98cEVGvbfXs1grZl9aH9Ef6/u4qox9frymgf/vvfcqT7g7Bn6jMtaI1fery5dH+Q5Hg5B9xyTWNa4x0rcc5kIp07NIC2ZfWhV/eMOn8LwpxJF7zWYcW82Jzp/hHu50ws6o9tiC//GR2bM73/trw5E9aZH2d3T5cqoE94/xh44bMTEQsTUEBHQ0tpKKCjoRls1oECa2HG9MGnLn7375NJayzqYpAuuTHB956hCgiTNCCEQMd2kTp/k+2fqYjM7eLphbQPD7shV8sYkOQMvzmX1nj+NLHfT8Z2IIbOHRoAIQQikRDWghEqPeW1a00p7cN9ezXytA3ZMSDJmTQh9k3OiXjTsZEM7BebM22rwjezmUh2VhgIIdCube2cSYXzB2KPl7osnRmbMw0Z3Fjovk1C5dfRjxyaR2s8Z0pL6blC2NOpfQQFdMVAAR0NLbWhgI6GZrBZBwoPjWoifbCEsOfygVmQlxuGvNwwfLEan6aIx4QLJ4Ut60Febhi6ntBQui8Ie5bOLKR9+J7b85hsU/c2bxqj7sijNV48HZ9AN5Fup6RDXm4YmjdL474v7N/i2b22lPbhSy/Mku4Pwp6XHm9Oa/zMf5pJ98dEZB+7rrokm9Z4+woU0E2kuLB2znRSl4bS25sO6JajZbNb0z58963sbjoOGioL6PePyKc1XvCG2JuOEb61jXLqCQ1RQFcMFNDR0FIbCuhoaAYbfgMdCRomCOaicqRDnmT4qENeEARBED3AcwpiMti+EQRBEARxiuxvoD/0/rHw3GcnIxYeev9YFNDR0FIYCuhoaAYbawEdL5IgiHjiX2OL/TB5rmT7gCCqg/0EQRAEQRCTUHls48U3leNRNWe6+6hSzCJ9USluE/xUHRTQ1QMFdDS01IYCOhqawWYdKFS+E4zXxgZtYFs1pzXMeLElzHixJfz6ebl0f0TX2pR6J4tj1su19V30ZjD6sGmkaqPfbCijfXjdkmLp/iLsWf9+Ma3x1+vKpPuD+MOuTy+eXggzXmwJ77wk5nuNppz7dOG37eW0D388uzXWyUC2ryihNTbp+9gqtEEVfDi0uy0snxubM+3dGqw5k0518uP3u6/U1nehAa9+5l0PHet9OukLx5BTYcaLLWHt4iLp/mBd2Pu84YPYnOmrtXw/T6hjrk1g6jPNUUBXDBTQ0dBSGwroaGgGm3WgMGZkvvTBUhAQPRDv3yeT1njHSvwGuqyaO6m7V8E/Iz0EhBDo2C4iPVbEfdtItczi6YW0Dw+7Idfxeog+DL85l9Z4/jS1LupiW2ND5w4NgBACkUhIui8Ie3atKaV9uG+vRtL9QdgzaUIBrfHEMU2l+8MSPM7XMrBfbM5k0k0SLNCxjdj5nJ0VBkIItGur3pzJbY5RQK/L0pmxOdOQwY2l++Ml51jX5H6PHJpHazxnipibUlVA5bqx9q1T+4hUAX38kuNg0qenIhbGLzkOBXQ0tBSGAjoamsEWNAFd9sBTxv5RQFezzizbghsBXXYfEJ1nE7AT0FnkKSj50wGVBXSEDSigmw0K6OZjsoCO1GInoONYySxUFtBVRLf2r7uArmPORfmLArpe7cIPKKCrBwroaGipDQV0NG3sm2++gbFjx8Ipp5wCBQUFEIlEoEWLFnDCCSfAsGHDoLKyMuU2Kisr4bLLLoPi4mJo0KABNG/eHHr16gWvvvqqIx/2798P//jHP6CkpAQaNGgARx11FEycOBH+/PPPhOsUFxfTk1FmZibs2bMn6T4WLVpEl588ebIjvxKZdaAw6+UW0gdLJiNr0Pva081h9J35MPrOfPjhMzNfDSxzQqHCa+If/N/a+j4xrpn0WqiM3zrJqvPny0toH573ujtxNZXPstsuUsv8aa1ojbcq/tQbthlvOXvq381g9J35cP8I7zcres091ow/P20pp3341aeaS/cHYc/K+UW0xlVznL+mXydYHit0PO5MfaYFrfF3m8ycM5lOqnY39h9NYPSd+XgTjKHUVMfmTMnEVR2PT6rGIVpAX/hGbM60eZnacyYkdT3tGHtPPgroioECOhpaakMBHU0Le/311yE/P3aitaNfv35JtzFq1CgIh8MJ1z/vvPNg3759Cdf/448/4KyzzrJd99prr024nlVAJ4TAsGHDkvrJS0CvqTZ7AMp6cO90eypMbExFVm6xpsHDtJpb4zEtNgRRERX6mQo+IAiCIP7geSzH8wQSJFRt76r6hbFhfCLirKkukSqgj11yPDz9aVfEwtglx6OAjoaWwlBAR1Penn/+eSp8N2vWDO6991547733oLq6GmbNmgWPPPIInHnmmVBRUZFwG08//TQ9IZSXl8OkSZOgqqoK3nrrLejevTv926WXXppwG48//jgQQqBVq1YwefJkWLZsGUyYMAFycnKAEAKzZ8+2XS9eQE9PT4fdu3cn3I9oAT0og0BEfWQ/aS47fsQMVGhLKviA6A+2I33B2iEIgugJHr/r5gJzwj/HpqJqfKY+rKGbvyrFoEruePuBArp6oICOhpbaUEBHU9o2bNgADRrUflfytNNOgx9//DHhsgcOHLD9/YcffoDGjRsDIQSKiorgm2++Oezvf/zxB5x33nn0hLFkyRLb7XTr1g0IIfDJJ58c9vv06dOBEAJXXnml7XpRAb1JkyZ0H7fcckvCOHgJ6JMfLpA+GDMVmYPde4flwRld0+GMrunw9Tp8HaGJ7aB3jww4o2s6XHVJtvQYEfZ1XrWgiPbhRK/pd7NPVSbfSIz//l8zWuPq94qk+4Ow59rLsuGMrulwVrcMLtuX3a9l71+2H99uLKN9eOTQPOl5QJzhpr28+0pLWuO3nsfPXpnIqDtic6Zda0ql+4Ow59yzGsEZXdPhiotwzuQGVc7xqVizODZneszFa/p1n0fJ8ElWHiZNKKA1NvVzKiojou6XVWShgK4YKKCjoaU2FNDRlLYePXpQ8Tle+HZq48aNoyeDRN8637lzJ6SlpQEhBM4991zbZdq2bQv5+fl1fv/555+BEAJnnXWW7XpRAf3000+Hc845Bwgh0KBBA/jiiy9sl+cloI8ZmS98cGTKIE9l+vfJpDXesdL8i0Em1jvV67Yz0kNACIGO7SLSfUXYs3h6YewTHzfkJm0Lfojfnq59SUe/h9+cS2s8f5q779wjetC5Q+3NnpFIiPu+gv5kjAx2rSmlfbhvr0bS/UHYM2lCAa0xfj/ZTAb2i82ZtlWZ/WmzoJKdVfvWwnZtcc5kIktnxuZMQwY3drWuymMYlXyT7cvIoXm0xsm+cx+EXOhOovx1ah+RKqA/uPhEeHLTXxALDy4+EQV0NLQUhgI6mrK2ceNGehC/7777PG/nlFNOAUIIZGdnJ3xKHQCgV69eVNzeu3dvnb+feuqpQAiBdevWHfb7jBkzgBACl19+ue12rQL6ihUraEzXX3+97fKiBHTEDIImoAcRrwI6Tvr0IJGA7hbT663zDQAooJuPSAHdik79QOccoICuB9bXPbttFyigmw8K6Hripi+jgG42fgR0Wch8+p3l9kSNN1US0BE+oICuHiigo6GlNhTQ0ZS10aNH04P4+vXr6e/ff/89fPbZZ/Dtt9+m3MaBAwegXr16QAiBXr16JV32gQceoPtbuHBhnb+PHz8eCCHQunVreO655+Djjz+GRx99FHJzay+Mz5w503a7VgEdAKBfv37//yJrBLZv315neV4C+la8UMAcFS5c/7a9HPZureX3L9tI98ek3KpCtL6/bCuX7otqmNBODn7RhtZ4X423PswiD1HBIV54kJ1jnYXzKPtqYjU++IU5x2kkxi/bYudiu7/r2G6ToWI8PH36Y1esD/+2Hc/FJnJgZ6zG+3fgcdpEftteDt3J+cbNmRKh4nGadww4ZzIbFnMmt5jQj3TCOmfqQS6U7o8MZLY5Efv+rLIYBXTFQAEdDS21oYCOpqxFX3eek5MDf/75J7z00ktw9NFH0wM7IQRKS0vhvvvus31iHABg3bp1dNlbb7016f7efPPN2JMHEyfW+fu+ffvgxBNPPGz/URI9fQ5QV0D/5JNPIBSqfaL06quvrrM8LwG9ptoMAV2VSYwqfiDBIF7c9PJ0lYmomgM/flmfoHPaLmTHiyAqErS+EbR4MQ/BBc99CIIgCCIWPO8iLKipLpEqoP9r8UkwcVM3xMK/Fp+EAjoaWgpDAR1NWSspqT2xdurUCW688UZb4TpKhw4d4Msvv6yzjdmzZ9Nlxo8fn3R/y5cvp8sOHz7cdpm9e/fC7bffDq1atYL69evDEUccAQ899BAcOnQo4XbjBXQAgAEDBgAhBOrVqwdbtmw5bHleAvrqBUWHDVxwAGwGW6tKYOX8Ilg5v0jbJ2aC3hZTxb96YW19N3xQLN1XFWD1dLQq7e6nLeW0D59G+mgZA88am8AXq0tpjX/awuepKNNyphqp8rtxaTGsnF8Eq+LGWqr5iXhj/442tA9v+diMG1KRw/lmQxmt8dfryqT7g7Bnm2XOxPLpVTzuqpOT6Jxp/fvFSvijax5V5eetsTmTjp+uc1pPVW8SE+HTl5/E5kw/bi4Xtl9EHIvebIUCumKggI6GltpQQEdT1rKzs+k3yQkh0LhxY3jyySdhz549sH//fli+fDn07t2bHuhPOeWUOkL266+/Tv/+xBNPJN3fhg0b6LI33XQTszjsBPT169dDOBy2fXodv4EuFt0H5PgNdDHIbCdev4EeBETVhed+vH4DXfdjV1BiOrQbv4FuCsnap6xvoLvxV9ULsrJr5wT8Brr54DfQzYfnN9CDemxVDa/fQFe1fqr6JQtVvoGuU1108vXQ7sTfQNctDiQxsr+BPnrRyfDoxu6IhdGLTkYBHQ0thaGAjqaspaWl0YN4WloafPTRR3WWOXTo0GEi+tSpUw/7+wsvvED/NmnSpKT727p1K13W7tXqXs1OQAcAuOSSS2hsmzZtor8HSUDHgbB/UEDnC+s26mV7KKCLq48MvAroJmFXRxNqGwUFdPPxIqCb1MZNjunQbhTQgwAK6ObDU0BXCVOPw07wKqC7zasJN/Dq6E+8gC7bH93xkj/eOU8koIvYNyIGFNDVAwV0NLTUhgI6mrLWqFEjehC/6KKLEi5n/c55//79D/ubqk+gAwB8+umn9CYBa3y8BPSpzzSXPlhC2PP42GYweFA2DB6UDd9uxFdOmshNV+fA4EHZMOqOPN/bwoknW1jkc9OHxbQPT32mRSBqlywWk+KM8sazLWiN8VMMZvLPu/Jh8KBsuOHKHOm+mNiHWMbsJT8/fFZG+/BjKK4aydKZhbTGi94slO4Pwp6n/h2bM+1Zz3bOFMTjrop5uuWaxjB4UDbcc7v/ORPWm0/e/ORu87IS2oc7kpOk1iz+hgod3/Ij2l8nOZr+XGzOtG5J3TmTjnlGDueumxqjgK4YKKCjoaU2FNDRlLXmzZvTg/jzzz+fdNlWrWq/o9K6devDfmf9DXQvlkhABwC44oorgBAC4XAY1q1bBwD8BPQj29SHS/pn0YHL5IcLoGO7CHRsF4HZr8bu7uxxWjp0bBeBHqel099mv9qSLjv54QL6+yX9s+jv0d9Wzi+iv439RxP6+9DrGtPfd62pfVJ615pS+tvQ62Kv4Rr7jyb095XzY98Tjf7mJ45MkmNEHKrVIzqR0T2OVPXII82MiEP1emSSHO3aVSbJcV2PaHzxcfQMVRwWR3tyvBLtikU9otvA/oFxYBz848gkOdLi6BmqCEQ9MkkOtCEdtY/DlHpgHBgHxoFx+I0jKtI5iSM6ruURR89QBdZD8Tii9dc9Dh3roWL/yCQ5ruMwpR5O45j9akupAvp9i06FCRt7IBbuW3QqCuhoaCkMBXQ0Ze3444+nB/EFCxYkXfakk06i30u32tq1a+k2br311qTbePPNN2Ov7ps40bf/UUsmoG/btg3q168PhBC48MILAYCfgE4IgZO6NKSDmH/f24T+PuW/safTW7WoB4QQaNWiHv1tyn9jNzP8+97YoOmkLg3p79HfEn2b6sJzY6/Nq6mufW1eTXUJ/e3CczPpskMGx+5KXDoz9hQIxoFxsIwjOuFNFYceumZMAAAgAElEQVT1DnfWcUR9cBNHEWl7WBym1MNtHD1DFYfFEc2lqnH0DFUIa1e69fNo7XSPg0U9ornQPQ5T6mEXx3Gku3ZxyGpXOSSPaRyy2pWbOJqRVsrGgf0c48A42MfRlZxjRBym1MPt+TwqlvuNoyM5iXkcPUMVgaqHjnFE24/ucTitRw7JMyIOU+qhYxxvTo7tGwV0NUABHQ0ttaGAjqasRZ/OJoTAvHnzki4bFdsbNWp02O8HDhygr0nv1atX0m088MADdH8LFy707X/UkgnoAADXXnstEEIgFArBqlWruAnoDSIEup0Su+twwj+bQkZ6CDLSQ4e9NrhNaX3ISA9Bm9L69Lepz7Sgy074Z+zVld1OSae/R3+rnNWa/nbnTbHv+V7SP4v+Hv1W946VpfQ3692Td96US3+vnNWa/h79DeOIxdG/TyMYNCALBg3IglNPaCgsjp6hCm71yCVNhcWRrB5hkqZEu6qXRqC0qB6MuCU3MP0jTNJSxtEzVOEojqhwxDOOaFtxWo8wSaNxbPigGLIyQ5CWRqCgadphcUS3K7seftuVKXF47R9T/tscBg3IgtKiepDeUN84dKtHtO+LiKO4sB4MGpAFV16crWQ9ornwcrxSKQ4e7SqdxC6AH01Otj1edT2hIaSlEUhLI/Cf0U2gZ6jCVRxdSR8IkzQIkzRoToqSxsFzfKVDPWTFsXh6IRz1PxFISyPQsIG+cehUj66kj9A4HnuwKQwakAWnn9wQ0rEeRsZRL43Ahec2grtuyrU9D/YMVWgRR7QePUMVytUjTNJcx8GqXf3vkFx6Lr7l2hxfcQSxf7CII5c05RrH1GdawNlnZNSeixvq1z+wXaWO46/nZ6KArhgooKOhpTYU0NGUtWeffZYexFN9vzw/Px8IIXDEEUfU+dvJJ9d+zyM7OxsOHDiQcBu9evWqFZobNICff/7Zt/9RSyWg19TUQCQSAUII9O3bl5uAPmZkPh3AmAB++6iW/n1iA9DowBVzb5bfGekhIITQV2mxiMPtNmTsU1dSxRn/9y7kdNqHh92Qy80v1QhKezi0uy0MvzmX1nj+tFbS/UHY07lDAyCEQCQSku4Lwp5da0ppH+7bq5F0fxD2TJpQQGs8Eb9z7wtVz+8D+8XmTNuqSqT7g7AnOysMhBBo1zYirR2q2v5NINGTsIg4eLfvkUNjb/yZM6Ult/34jQP7uXc6tY9IFdDvWXgaPLThTMTCPQtPQwEdDS2FoYCOpqx9++239PXmZ555ZsLlFi9eTA/2V199dZ2/jx07lv791Vdftd3Gzp076ZPq55xzDrMYAFIL6AAAN954I/Vx3Lhx2groOJAUjwwBHRELDwE9Eby27WS7IiayTvchKg89QxWweHrsYlBUQMdjqVmggG4+XgV0r33dbj08bvAjXkDHXJsHCujmgwK6+aSRelRAl+UDnh/4gQK6N1i2SRUFdBl9Dvu5d1BAVw8U0NHQUhsK6GhK2/XXX59U/P7555/hmGOOoctUVVXVWea7776DnJwcIIRAcXExfPvtt4f9/Y8//oDzzjuPy+vbAZwJ6F9++SU0bFj7vZkmTWLfrmEpoK9dUiR9sISwZ+eqUti4tBg2Li2G/TvaeN4OTgLUZdOHtfXdarnYh/Wqi+qTZ+uy1v/fu7UcTia9YOPSYvhqbeKbYHjEh+1IDF+vK6PH6b1by6X7E0R4t/VtVSWwcWkxbPqwmImf0VfNiowBScyBnW1oH8abFc3k+09jx+nvNpVJ9wdhzxer2cyZEDXpGaqATyvrzpkQc/hlWzntw7uTzJl4ImosFtQxn3XO9LOLORPLG1IRvlS+U4gCumKggI6GltpQQEdT2vbs2QNFRUVACIF69erBTTfdBAsXLoQVK1bA5MmT4cgjj6QH+uuvvz7hdp588km6XHl5OTz77LOwfPlyePvtt6F79+70bxdffDHzGJwI6AAAQ4YMoX7wENBrqvlNJFUfeKrun2yCnB+WTySbJHbIvFNddt5UFKp1alv4ZCwSZERfwFP9xiFEDnY3YCAIglgRcZxgtX08nqmH6Jqo1gYS+aOan0HC1NzLjIvHeaKmukSqgP6/C/8C4zechVj434V/QQEdDS2FoYCOprxt2LAB2rRpU0dctnLVVVfBwYMHk27nnnvugVAolHAb55xzDuzbt4+5/04F9K+++goyMjK4CeifVfp7KsrUQaPuA+0fN5fDnvVlsGd9GRz8Qr+nKXTPvwj2rC+Dv5DzUj4RpaLwq5Jfsl5Pn+rv+3e0oX3Y7k573fuI7v6zYO/W2HEan3ozg/h2/d2mMlrjVMv63S/2KfH8/mXsOP3DZ/h0son8+nnsOP3r5/imEBPRac6Ex3lvfLOhtr74FgkzSTVnCiIqzYlZYJ0z7atxf5wWGZvKeVSZtUuKUEBXDBTQ0dBSGwroaFrYL7/8AuPHj4cTTzwR8vLyIBKJQGFhIfz1r3919cr1Dz/8EC655BJo3bo1RCIRaNasGZx55pnwyiuvcPPdqYAOAHDnnXdyE9BFfAMdEQ9+A9184r+BbkXHiZuqojzL7brZjt030Hn5KlJ807Ft8gK/gW4m1jYe/QZ6iISVuWmI5fpBJ/4b6LL9wbqzB7+Bbj5B+wa6zv3f69O92Vlh6d9AN6kOqhDNoUrfQBcpXAepDXn5BrpJBKHWsr+BjgI6CuhoaF4MBXQ0NINNlIAehIGe09hF5wIFdH3w2jaSCeh+tisjFln7l+1vMrqQ0z0J6CrUzes34IMGCujmt4eogB6JhDB3BpJKQMea6A8K6OYTNAHdNJwcZ1UU0BF2tVdJQEf4EHQBPQjIFtBHLOgGY9efjVgYsaAbCuhoaCkMBXQ0NIPNOlB44dECYYMi3S4ksrobWEbc/xqeD717ZEDvHhnw9Tr5r6vTqfbJfFUpjvN7N4LePTLg+itypPvCO++itsXiO93R5a3reRGUP1lURPvw0w818xyzSm0WOZxnHy6gNV61oEi6Pwh7bro6B3r3yIDzGD+dHH98EdHP8VhSl283ltE+POqOPOn+IOyZ+1orWuOZL+FFexN58H9jc6bda/Gm40SoeA5w6tOF52ZC7x4ZMHhQtnSfEfasW1JM+/CT41PPmVRFxT6mCs8/GpszrZjXWro/WGP2XHVxNgroioECOhpaakMBHQ3NYLMOFGqq8U57hC9BmigkEzGT3VhhJ7qqVA8/fplSfxY3Vqhwc43o/LC4KQEJFtg+9ATrhqiCk7bo5eY4bOMIgvDAlGOLKXGYDNYIkUWqtldTXSJVQL9rQTd4YH1vxMJdKKCjoaU0FNDR0Aw2FNDVGiyajOqxs/5+rKrf8WYVJ+/tiLyRAEEQJOjgsRZBEAQJAqqf70z6DBUiti2otn1Z+0L0rg8K6OqBAjoaWmpDAR0NzWCzDhRmvNBC+mAJqYvfwexLjzeHu2/NhbtvzYUfPpPzCneVBuRu/ZT5TWin69w7LA9KyJHw8L/0/SanzKeTWe2H1xP9W6tKaB+e9TK718bqll+Tmf1qS1rjzcvwZjYTefSBpnD3rbnwj9v8v94b+5R6/LSlnPbhFx4T90kkRBzL57amNf7oXX1fG4sk5pUnY3Om7zbJ/+yVFROP+14+a+R3f6PuyIO7b82F/4xuIj3+oNVbBJ8vj82ZgvqpDV43YKjycMDc11rRGn9aWSw936qg0zEjla//HJGHArpioICOhpbaUEBHQzPYrAOFMSPztRnE6TRAlE3/Ppm0xjtWiv+en461cntBh4dwGv8EdrLlM9JDQAiBju0i3PzlUVOeF854bFtWW148vZD24WE35ErxQbWcmMbwm3NpjedPayXdH8QZbtp/5w4NgBACkUhIut8s4uG5DR3ZtaaU9uG+jL9zj3iDdVucNKGA1njiGH1vWEQSM7BfbM60rUq9m9lM/nyA03mRX7KzwkAIgXZtU8+ZZGNqrXmydGZszjRkcGPp/iSrp0r1VX0ubGXk0Ji4OmdKMG+SMJ1O7SNSBfQ75p8B/1rXB7Fwx/wzUEBHQ0thKKCjoRlsPAV0nqgweNcF2QK6Kaj8tK6dgC7iIpvKk23R++T5PXmVBXSEDSigm48OAjriHRTQ9cDP2AAFdPNRRUCX+VYm2fCOXScB3UnsQWkXTlFZQPdaN5WvQcjwCwV0NWHZflBAVw8U0NHQUhsK6GhoBpt1oPDxbH1eR6jqAF9Ff1ctKIJ5r7eCea+3gl8/L5eeCxNxUl+ebWD+tNr6Vs5qLWR/rGLTrR+zzJGb2L/bVEb78KYPi31fTEt0cwWLizlBqilLPq0spjX+ZoNar41F2PDRu61h3uut4L2ptTdIYF9RC7/1+G17Oe3DK+cXSY8HYc/OVaW0xjXV6j2drAsq3+D4yaLYnOmXbWLnTHhOEJOPBW/U1nfpzELpMcrOhYl8/2kZHEtOg3mvt4KNS5293lvlY5Kp+MnBZx/F5kx71sufM2E93eck1d9nvNACBXTFECmg19TUwO233w5HHnkkZGRkQG5uLhx//PEwfvx4+PXXX5nsY/v27XDXXXfBscceCzk5OVCvXj3Izc2Fk08+GUaPHg179uxhsh+0YBkK6GhoBpt1oMDyYpAqT76qun3W+8SBu1p58SIuqngnuir1UT1eka89xidR9K0xgiBqg/0cQRBZpHpzlPVvOBZ0nlPZPiBqg+I5gognVT+oqS6RKqDf9l5PGLX2PMTCbe/1FFKTd955B3Jycui+4vmf//kf2Lp1q699vPzyy5CRkZFwH4QQyM/PhwULFjCKCi0ohgI6GprBxktAVx2R35CT/XRyEBDxxC3vNuB2Xb8X2VRsc6J9VeUGC6dx4/eJEQTRBV2PNbr6jSCIvrCYJ8j4ProOb7sKApgbPXKhsm9WH1n5qUO8umNqjlFAVw8RAvrq1aupsJ2ZmQn3338/VFZWwoIFC+Daa6+l+z/yyCNh7969nvZRWVkJaWlpQAiBcDgMV155Jbz11ltQVVUF06ZNg/POO4/up1GjRvD555+zDRLNaEMBHQ3NYLMOFMbdy+4b6DwHc7oNFGX7e9EFmZDeMATpDUOwcxV+A91JvUTUjOU+8nPDkN4wBMcf04DrfhD3eWXxevv33y6EMEmD9IYhGHFL6m+gi7z4YXr7EhXfP27Lo8fphW/gN9B1JVl7Ofm4hpDeMAQ52WHlfPTSzlm9UUVFvPi/a00p7cMV52VKjyGo8Gx7zz1SQGv81L+bSY9Vdj5089PJPi6ryKI1/ny53BvLdamdbhQ0rR1Pd+5Qd86kM9heajmedKd9+I4bk8+ZTL7hxI+PKviZzIdRd8TmTPNeD/acSYVa8eD4YxqggK4YIgT0bt26ASEE6tWrB5WVlXX+Pm7cOOrDqFGjPO3j3HPPpduYOHGi7TK33XYbXebmm2/2tB+0YBoK6GhoBpt1oDBmJDsBHalFhUFt/z6ZtMY7VgZPQLc+mSGipm6FVSdPjqSazGakh4AQAh3bRZjEYDq6fQKiCzmd9uFhN9S9GOSkjbP2yc2rRHVEdEzDb86lNZ4/LdgXg0ylc4fai0GRSEi6L6qi0qds3G5v15pS2of79mokPZdI6tq6rfGkCQWxi25jmkqPQ1eiY1oVP5c1sF9szrStSr03s7Ge0wSR7KwwEEKgXVtncybVMPnmNRYsnVlI+/CQwY0951Jk3RB3jByaR2s8Z0pL6f4g7OnUPiJVQB/63plw79q+iIWh753JtSZVVVV0+9ddd53tMocOHYJ27doBIQRyc3Ph4MGDrveTm5tLX9GeyH788UfqS5cuXVzvAy24hgI6GprBZh0oPDlOj6cpDu3GSYgbhl7XGI5uH4Gj20dg15rgCeis8CoYivi2+QmdG8DR7SPQv4+ZT72p1t/9PFXu9qJxz1AFLJ/bmvbhtuRobeNHEjPhn01pjT96t7V0fxD2DOibCUe3j0CXo8166o0lKgnobre5Z30Z7cO3XJP8or1qmHJM5x3Hm5Nb0BpP+W9z6fHKzLObsYxO7WvYDbm0xrq8tUun/KrAKcc3hKPbR6Df2ebe6GRqm0h180DPUAWsnF9E+/C4e5pI9xlhX+9HH4jNmZbOLJTuJ5K8Xl6W63d2IxTQFYO3gH733XfT7S9btizhcg8++CBdbt68ea7306hRbds67rjjki7XpEkTIIRAhw4dXO8DLbiGAjoamsEW1G+gI/ph6sUAHrEGKVeqxc/y6SCVn/JWzR+MB9ER1dqdbH9k7x9BEERnVHkVvmx08BHBuiJIEHHSj2V/Ax0FdPEC+mmnnUa/O/77778nXK6yspL6cc8997jeT+fOnVM+gf7TTz/RffTv39/1PtCCayigo6EZbCigI0Eh0avS/X6jWpVvhSHu6qaiD/G/y34lsWp5Q/SoV9DbioqvJea9vaDXXAd0rpHOviOIaFS++ZJHjAjmT0VEfTqOtc9Bu65hQqwmxBCPbAH9lnm9YOSa8xELt8zrxbUm0Se+O3XqlHS577//nvoxYMAA1/t58skn6fpPPPGE7TLDhg2jy8ydO9f1PtCCayigo6EZbNaBwvyp/L+7quNkQkXcxD/71ZYwcUxTmDimKfy8tVy677LzYbeeDsJisv089e9mMHFMU3j1qeC+UlSFejkVxt3yxepS2oejr6pj/erUoB1TVYu3clZrWuMdK72/Nla1uJAYrz3dHCaOaQpPaPS5HF2wa/eiLwLv3VpO+/Csl834JqeuxxNefm/4oJjWeM3iIu3zhNRlzpTYnOnHzXrNmRIdB2X7pRpPP1Q7Z3rlSZwzmciXn8TmTB/MkPd6b137Hm+/WWx/2ezYnGn7CnwASLX6sOCJsU1RQFcMq4BeVVUFO3fuTIob27dvH912nz59Ui4ffQ37SSed5LrOf/zxB1x66aVACIFwOAzXXHMNzJgxA5YvXw5vvPEGXHDBBdSXu+66y/X20YJtKKCjoRls1oHCmJH5QgdlKOz4y59T+vfJpDX2I8zoRpDaTUZ6CAgh0LFdRLovspFddx77Xzy9kPbhYTfkGvGEK3I4w2/Ojd3MNo3/zWyIeDp3aACEEIhEQtJ9seL1zRc6HRNE+LprTSntw317mfVtXdVrLcq/SRMKaI0njmnqyC9VngZWvYaqMLBfbM60rUpfYYbl54RUxWts2VlhIIRAu7Y4ZzIFa1s4jnSnfXjI4MbSfUPYM3JoHq3xnClm3LDoB1438MukU/sICuiKYRXQneDG9uzZQ9f761//mnL5Zs2a+f4++WuvvUZf5x5P9+7d8clzNE+GAjoamsEmWkCXMXgUvQ3VMFVAV61Wbi+S2l3c8hoTCujyas1y2UTEC+ii9m29+K9af9Od+HyaIqBjO0mMqgI61pINJgvousD7rQNuBXSVUOW1vKrfAFhAYuOtqICu8yctVKm7rPra/Q0FdHPpGaqApTNjfVi0gM6yr+neb3l+WggFdLPaih2yBfSb5p0Nd39yAWLhpnlncxPQd+zYQdcbNGhQyuVbt24NhBAoLy/3VOuNGzdCv379oF69era+N2zYEC699FLYtWuXp+2jBddQQEdDM9isA4VFb+p70R5JzII3WsGzDxfAsw8XGPsKd5Xg/R1rO154rLa+059rIT1+HnnUZWLIy89da0ppH/54dmutYzGlJqx9Wz63Na3xF6vNudEJifHW8y3g2YcL4LlHCqT7ogs8+i+vY8Iv28ppH35PwCeRVIk7SHxaWUxrvOGDYun+IOxZaJkz/bTF+5wJ+5tY3OT7xYm19X3jWXPmTEiM3Wtjc6ZlguZMrOF1/BB9XOLxZHTPUAWsmBebM+1cJX/O5ORGJVnnBF3PRc8+XIACumJYBXTWr3AX+QT6+++/D40bNwZCCBQXF8OLL74IX331FRw8eBB27twJEydOhNzc2gcbCgsLYcOGDa73gRZcQwEdDc1gsw4UaqrVeVWdroM9BGEF9gG2uWCVTy/bUa2WXp6gVy0Gnjl38wYJBEEQBPECnkfUg+dTk7oTFYkSIdu/IIB5Vi83rOcMvOcviDpgvRJTU10iVUC/fl5vuOuTCxEL18/rza0mor6Bvn//fmjVqhUQQqB58+awe/du2+XWrVsHDRs2BEIIHHfcca72gRZsQwEdDc1gU1VARxC3qDgJUdEnHfCaN54iuddXeGIbEIup+TY1Low7eexBjp93bmX7gCBBJyj9ULU4eT8tqUq8qviBqFVn1V+zju02ODlKdK3A7sYkU2J2Cgro6sFTQAcAaNKkCRBCoFOnTkmX+/7776kfAwYMcLWPt956i657//33J132mmuuocuuXr3a1X7QgmsooKOhGWzWgcJjmn3Pz3RYDZRvvCoH2pbVh7Zl9WHXGvmvuULYc3T7CLQtqw99ztTvu6uqvvKMRQysfP94dmvah8eMzFeiLqrtm7e/vLc//t4mtMYfvlMoLfcIP/r2agRty+pD+yPM+O4qCvyH8/W6MtqH//63HOn+IOyZ+kwLWuOXHm8u3R8/eOm/Qejvt1zTmNZ4x0p2cyY/T6kmElJUfgpcFV/s/OjcoQG0LasPvbpnSPdPhXzoTnxMK+bF5kz3jxAzZ8L6iI33P6Njc6b33zZnzuT2TQVOl9exXZ3dPR0FdMXgLaCfdtppQAiBRo0awe+//55wucrKSurHPffc42ofDz74IF139uzZSZd94okn6LJTpkxxtR+04BoK6GhoBpt1oMBbmNFx8CYD1nnq3yeT1pjlxSDZYHuKkZEeAkIIdGynvzCj4t38ydYX0Q4XTy+kfXjYDblMY7e7693J8qr0PxF+iNjH8JtzaY3nT1Pv+8mIfzp3aACEEIhEQo6WV/FYmGgbqhwPZOQ0yq41pbQP9+2l381sSGomTYh9k3Mig5uOebwuXJe+qCoD+8XmTNuqzHozm8i2oUpbtPMjOysMhBBo11b/OVNQcDOXWTozNmcaMrixdN9VRIW+6YdS0o7WeM6UltL9CTo8jved2kekCuh/n3sO3LG6ArHw97nncK3JiBEj6PaXLVuWcDmrCD537lxX+xg/fjxdd+bMmUmXfeSRR+iy06ZNc7UftOAaCuhoaAabdaDw0Kgm0gdgdgMy2T7ozuUDsyAvNwx5uWH4YnVyAV1GvnWusSoXiApb1oO83DB0PaGhdF9Y51e2D7LpGaqApTMLaR++5/Y8Ybll9XYAVYXAVNsVKc6PuiMP6pMI5OWGYfH0woQ+IfrS7ZR0yMsNQ/NmaQnbgWhUOYeJiJP3PnavLaXH6UsvzNI+HqQuLz3enNb4mf80k+4Pwp6rLsmmNd6+ooRrX9P9zTlu/FDpXFNcWDtnOqmLtzmTKnEg9jVZNrs17cN33+rupmOefrFYTrRfqnL/iHxa4wVv8LnpWPcc6c6pJzREAV0xeAvoH3/8Md3+ddddZ7vMoUOHoF272htoGjduDAcPHnS1j2nTptF93HnnnUmXvfDCC+my1dXVrvaDFlxDAR0NzWBT/RvoOHhFEMQJOl/klA2vV6bbvWZU5ZgSrcf7BgCvT/XLfjOCSvs1Cd1zqIL/KviAIE7B9qomLG40RMwH24B8dK2Brn6rAubPHOJrKfsb6CigixfQAWKvca9Xrx5UVlbW+fu4ceOoD/fee2+dvy9atIj+/W9/+1udv//www+QkZEBhBDIysqCNWvW2Prx7rvvQjhc+7aaVq1awaFDh/yGhhYQQwEdDc1gU11AtxtQIQiCOEXH4wf6LMcXld7A4UYcF/3UPCK+PeiCzD6k0hOOCOIEk9urybE5jd/pJ3J0vgE0CHXmdZNpUPB7bub16RkRccvOPWIOOs1tWSBbQB8891y4ffVAxMLguedyr8nKlSshPT0dCCGQmZkJDzzwAHz00UewcOFCGDx4MN3/EUccAT///HOd9VMJ6AAAo0ePpstkZmbCiBEjYOHChbBq1SqYM2cOXH/99VCvXj26zIsvvsglVjQzDQV0NDSDzTpQqHynUPpgSRVUHmy69a1qTmuY8WJLmPFiS/j183Lp/ovIj+z6id7/rJdr67voTezDMmvO6pXn8XyzoYz24XVLij35Jjs/XnMq0n+ZeVr/fjGt8dfrymz9SSaUq1RjlXxRicXTC2HGiy3hnZf0+F4j1tEdv20vp33449mtpfuDsGf7ihJaYz/fxza5b+kqdkVZPjc2Z9q71d2cSYX5B5Kad1+pre9CTq9+1gVT2+q3G2NzprWLiwIjnptaTzs2fBCbM321NvnnCU3B5PraxTb1meYooCuGCAEdAGDGjBmQnZ1N9xXPEUccAZs3b7Zd14mA/ueff8KQIUMgFAol3AchBOrXrw/jx4/nFieamYYCOhqawWYdKIwZmS99AIWwp3+fTFrjHSuDMckIGhnptQPAju0i0n1xis6iqGjxcvH0QtqHh93g/3t+LIRpNxeKdbuQJPrV6D1DFTD85lxa4/nTWtnuT/YTPEGE5RODnTs0AEIIRCIhrJGB7FpTSvtw316NpPuDsGfShAJa44ljmkr3RxSsjk0st8Pr9eoD+8XmTNuq7L+BrtuxWuR4Ox7ZsduRnVX7WtZ2bfWZMyGJiW9nS2fG5kxFRL5/CHtGDs2jNZ4zRY+bUhF3dGofQQFdMUQJ6AAA27dvh6FDh8IRRxwBGRkZ0LhxYzjuuONg7Nix8OuvvyZcz4mAHrUVK1bA3//+d+jQoQNkZWVBWloa5OTkQJcuXeC2226DTz/9lHFUaEEwFNDR0Aw2FNDNx6mAzvL7u4hYdBTQU+GmfYkQyWWSTED30m9Vik02vHLhdrtOBHS321etzqr5I9r3VAI67xzpnH8dMFVAx3YTIwgCup8xgmihlocv8QK6CnnXtQ+q2o5QQDcbq4A+ZHBj6f7Eo2t/Vgm3AjrmXL/8yBbQr55zHgxZ9VfEwtVzzhNeEzQ03QwFdDQ0g806UJj1cgvpg6WgwlMMee3p5jD6znwYfWc+/PBZmfRYEfY8+L+19X1iXDPpvnlKnQcAACAASURBVCDs+Xx5Ce3D816vFVdVnOx6eVJLxThE5cbK/GmtaI23JnjqjcV+ROXfhKf2WPv+1L+bweg78+H+EXizoon8tKWc9uFXn2ou3R/V0Ln/R1k5v4jWuGqOfq/pN6EGvJn6TAta4+82mTNnkl17lW72HPuPJjD6znxjb4IJConaR011bM7k9elk2f0FSc7CN2Jzps3LvM+ZTMDU2Mfek48CumKggI6GltpQQEdDM9isA4WaanF32qs+OFRxMKqiTwhiIl5eTe6lf4paR3ReEi2v6tNVqjz16zU/bl7Jr1P7MRkW4gDmE+GF3/bJYn3ZOVA9xwjiFrfjkUSvY/dzg58qN/mpgunx8cyNarlTzR/T0X3ezWK7PMcRIt8oY/d7TXUJCuiKgQI6GlpqQwEdDc1gkymgexGpZAzsVMiBibCMPch55J0TXXMr0m+VJuQ61E/06/llHGsSXdRwchE6lSCezAc3Yrro9qFiW1TJf9n5kb1/BFERlfuFyr6ZhEk3cTsZP6iIyr4h4uto2luOkOCh+nlFdn+SLaBfObsv3LLyIsTClbP7ooCOhpbCUEBHQzPYrAOFyQ8XSB9M8h68qfSEnqinT+4dlgdndE2HM7qmw9fryqQPiHnmPqhP9PTukQFndE2Hqy7Jlu6LrNqL8EPWBZsTSU/ah015Tb+TJ0t0v6vejQ///b9mkEuaQi5pCieSntxyqlIuVKgDC5+d/nbtZdlwRtd0OKtbhrCc6JhjXWP9dmMZPU6PHJpnZIxBJZr3d19pSWv81vPuPntlUu1MiiWeUXfE5ky71pRK9wdhz7lnNYIzuqbDFRfpM2cyoc+JujFkzeIi2ocfE/CafhNqozrxOZ40oYDWWMfPqeiGjOtrl1VkoYCuGCigo6GlNhTQ0dAMNutAYcxI9b7LKWtSYtJkqH+fTFrjHSv5Xwwy+Y0BIvLkhYz0EBBCoGO7iPS4ROZD9lPcova/eHoh7cPDbshVpk52r/Vk/XSJKm+qiF830StNve5j+M25tMbzpyX+zr3TJ9hNu5nIhFg6d2gAhBCIREJGxIMczq41pbQP9+3VSLo/yWBxs6LsGGQwaUIBrTF+P9nMNjGwX2zOtK1K3U+bqVgrJ+MTUb4kIzsrDIQQaNdW3zlTUHHSXpbOjM2ZhgxuLN1np34jzvM3cmgerbHdd+6t8yBd37qhCvF5FJWzTu0jKKArBgroaGipDQV0NDSDTXUB3VREDthFC+i6ovMkioWAjk+i8vXZz2vLVRPQeQjndgK1k7+xrBGPNuB0GTsB3em2TBPLRdVPNFYBXbYvSC0s2xgrAV1Uf051jFXhRhzVjgEooJtf4yAI6CrXVkR7MElAV63/JBPZWIzdZQjoquU4iMSPR1IJ6EGDRRtVoZ1bfZAtoF/x7vlwU/UliIUr3j0fBXQ0tBSGAjoamsFmHShsxQsFUgaIvPltezns3VrL71+28e2PqKdxVd+ebKwXKaL1/WVbuXS/dIHl08i8/Tr4RRta43019n2Yt1+i8+JVNLcuz/MY4uZJKydC1L6aNtCdnA97t5bDwS8S15hFbH4ubOrUhnjuy8u6v2yLnYtl5xlhzx+7Ysfp37arU2NV+rauPlp9O7AzVuP9O5IfpxE96+9kzmT1m+UNfTxvzFQx16xwMgaz/jta3+7kAum+64Aqb4JyitM5EyIHFjfo7auJ1TjVnAnRk88qi1FAVwwU0NHQUhsK6GhoBpt1oFBTbbaArtJFA5V80QHMl7OcYJ7k10BlWPnLqu3ZXTxJdVFFVs4TPVXj5kkZpzFh32ZfN9W2pQtBjDmIqHLMUeXtIkGE9VtlVCCI7cnv07tBBPPCJn9u+xvLG0awr8vH7Q1FPOekovOoWi10Idn8t6a6RKqAPujdC+D66ksRC4PevQAFdDS0FIYCOhqawWYdKKxeUCR9IKUKJg2Et1aVwMr5RbByfhE+MWNQba1xrF5YW9+TSS9H66iYA9nCqMr+/rSlnPbhnasSf4ZBlE9uL2JZ250dTrbl9Okt3hf+WT5FZl3ui9WltMY/bSkXUksn+RXxRByLdXVg49JiWDm/CFYpNNay9hcUXvyxf0cb2oe3fCz+hlS/xyZZoqkq4r0TvtlQRmv89boy6f6IrlMQju/bLHMmmU+v4o11/IjOmda/XyzdF8Q5Ttv7z1tjc6Zkn64T9QYHXfqpm/mZbL78JDZn+nGzOm/8Qdix6M1WKKArBgroaGipDQV0NDSDzes30FUeVCfzOYh3KOv8DXQedfAzKVS1XUS/gZ5JcpSNQydxJpWgJPpudyffQBcpnrsVtp3kmfUTACxqlGh7PNqFk2+gm45qxwHW/qrwDXTdcqwSqXLH6hvoTvYVf+MD6zGNKje0qeYffgPdfLx8A91P//PSf732+SAf/605Y/UNdB3y6eRcYvdvmeKy37y6+Qa6DjUU2VacnoNlg99ANx/Z30BHAR0FdDQ0L4YCOhqaweZVQDcd2U8wssSvgC7iCUSROVFhMsjah6iA3rFd4otBql2IlpEv1W4ccIoTAV1ULG7icSMCudm/3UVnXrVlefxL9jc7AV3FvqmiT7rgRUDHfIvLj99tsRTQecYq8q0SfratYttHAZ0/LNqnn7ZTQApdC+h+YxPVJ1XoUyr4kExAV33+r+qTwSr5lEhA9ztnUCnGoNY2SiIBXUVfg1ojv8gW0C+ddQFct+IyxMKls1BAR0NLZSigo6EZbNaBwtRnmnMd2Ok0uNPJ11Q8PrYZDB6UDYMHZcO3G8175aRubcvqN6tt3XR1DgwelA2j7shjui/eeWV1p7vs+vPe/6YPi2kfnvpMCynx8XobRKJ9Od1n/AWxZE+N2/3NaVyJ/PHztI6VN55tAa1IGQwelA0bPpDzWlGWT57I7pMq+vvPu/Jh8KBsuOFKZ28KQfTih8/K6HH6MYniqko3Fbjdh+rHjaUzC2mNF71ZKN0fkbVRARHj/XakC63xnvXmzZlE18rNTTKibvS95ZrGMHhQNtxzu/2cSZX8qIIIX1k+/bx5WQntwx3JScz8k10HWbWX7YMd059rQWu8bonan2Lg8ZYFU7Hm5a6bGqOArhgooKOhpTYU0NHQDDbrQKGmWvw3G3kNTFVFlAhlUny6YOLd7G7Exfh/J0PXfAQJv7Vw8vQ5j3Wjf/dyIdbJRY5UIrqbCyU6tncVfFbBB4zJTHSrgyh/vY4FVItDNm7iDEpOeObQpH2r5ANv31SOUdUcqnZ9wYsYzvqGiiC3I1Y1E51DrFlwia99TXUJCuiKgQK6WNu/fz989dVXcOjQIdmuoLkwFNDR0Aw2vwK6jgNdv+KMLsie9JiSR9NgIYzyhmfM2C6d11fHfbtd1yp+u/HRid9OnqjhfaOC7O3JxKRYEMQNOjzxxOJYKHLcqVr+dI7Lz/nWZGTP22RvR3Y+glR7Eb54FcC9iO0886hSbUTVP2gxm1Bn3f2PR7aAfvE7F8K1yy9HLFz8zoUooDOwvXv3wqxZs2DWrFmwd+/eOn//5ptvoH///hCJRCAcDkN2djbcfvvtcODAAQneork1FNDR0Aw260Dhtf96f4W7aYM2Hsia1D38r6YwaEAWDBqQpdwr3FlcMBWdcxW5+pJsGDQgC0bcwvb72CLEclmiumzcxLThg2Lah195ks+nNuJvMlA15zwumrm5mG/3G4tcTflvc1pjHV9HGCS8xj9yaB4MGpAFV16cLT0GhD3ff1pG+/B/Rjdhsk2e451ky7s994o4Z6ggji+eXkhr/N7UVp62b82VbsdSkf7KEncfezA2Z/p6Hf85k25twITYBw+qnTPddRObOZPONTTFd+v/f1oZmzO9OLFAup8Ie6Y+04LW+JNFRdL98YKsvqfidRi77Q8ZLPcV7iigo4DOy5577jkIhUJQXFxc5+nyQ4cOwXHHHQfhcBhCoRAlHA7DgAEDJHmM5sZQQEdDM9isA4UxI/OlDyZ1GqzGDyhVnYT275NJa7xjZSmXHLG4m5xX/VStC0sy0kNACIGO7SK+Y5YtlHudyPGoMy9R1u12F08vpH142A1sb5Kw80llAT1Re+VRw0S58bpMMobfnEtrPH+aN2GGR1swAVXi6dyhARBCIBIJMfNdldiChl3ed60ppX24b69GSvpo4n7jxwVOzgfxyzj1edKEAlrjiXHfufdys4OT84kq8LyZQyUG9ovNmbZV6flpMz91VbF2XsakyZbPzgoDIQTatY242o6KuQkKbsZCS2fG5kxDBjeW7jvCnpFD82iN50xpKXz/Oh4LeF+HYU2n9hEU0BUDBXQ2dvHFF0MoFILbbrutzt9eeeUVKph36dIFbrvtNujSpQv9bfbs2RI8RnNjKKCjoRlsQRPQRQ5Srf+ViVsBXUaeWC2nIqwvOtotEy+ge/FRd1i3G15tzst2eQvoIvuXSuK8V+GdRQzx68cL6G4v2vI856hSL95+eW0PTrebSkBndRxjlRdV664qqgnoKuBlTMOz3bntY/G/JxPQ3frg90K0jP7p9xhpjVfk+MzN8m4EdNVqoML2VIo70TrxArqXuaguedMdL7XRSUDHduQN2QI6j3bg5XqRm/4h8vqL29jtfpctoF/0TgVcvfxviIWL3qlAAZ2BdezYEcLhMEydOrXO33r37g2hUAiOP/54+P333wEA4ODBg3DiiSdCOByGiy++WLS7aC4NBXQ0NIPNOlBYu6Qo5WAmaJiQh52rSmHj0mLYuLQY9u9oI90fk3KrSm42fVhb361xF/uSXZiWLXjznsT5ucCqWtvcu7Wc9uGv1rK9CUa1WJP56LXGidbzOvn3ut9kfL2ujNZ479ZyLeukIqzEKRYXirZVlcDGpcWw6UO1X9GPeOPAzja0D6t2syJreAqYvI91fgTc7z+NHae/26TWJ5F419XP+dd6/GR54Z1VzFZfvlgtds6kSh50gFWuPq20nzOJ9A/rzo9ftsXmTLsZz5kQNbDOmX62mTP5QVTftLsmw8tv0ddgWFD5TiEK6IqBAjoba968OYTDYaiqqjrs94MHD0JGRgaEw2GYPHnyYX+bPHkyhEIhKCsrE+gpmhdDAR0NzWCzDhRqqtV8VR1OMsXlSkSu7faBFx3Yxip7EiUbPzkKUvtilQeWOWMpXPoVA9ysL7I2onzwKpiwjFEEKvgQRN+DFJPKiMy3brVVSexleW70U5tE54VUYwmrv158d3I+ZF0nE8aJLHzVKV5VwJzpnW+Vjv0I4hfVrsHY+Rf/W011CQroioECOhuLRCIQDodh1apVh/1eWVlJX9X+1VdfHfa3Dz/8EEKhEGRkZIh0Fc2DoYCOhmawWQcKn1XiU1FOB3Ui1mW1rR83l8Oe9WWwZ30ZHPwi8dMUbgUkEbHi5NUZ0fqeTvomrIlsUVsWXtqdauzf0YbWmPWd9iJgVQce9fGyTR5+7N0aO07bPfXm5JiYSshA5PLdpjJaY7/b4lFrbDf++P3L2uP0X8h58MNn5j2d7AQRbSh+XCMyvl8/jx2nf/1c/rnYzblSxng61dhMxWOOmzmT33kT4r49sdjONxtq6yv6LRKq9EvTcTpnwrzri3XOtK9GnbcrqogO12Hsllu7pEiqgD5g5gC4ouoKxMKAmQNQQGdgOTk5EA6HYe7cuYf9/uCDD0IoFIK2bdvWWWflypUooGtiKKCjoRls+A10MQPXZANE3vtV+RvoqXxnkS9VtuF3W8nWS/YNdNkTJxXwkl+VLqzw/ga6SBLlNVmfF1ELHv3SDfHfQHe732R+qNSWdYNl7qLfQA+RsJL+If7Q+RvobtuRrDFR/HhatPiU6hvoMo/DqbYvOld2+5VRM7e4+QZ6orx7bdOyUMEHp36y8DX+G+iIWbD8BroufcM0UvV1076BziJfqXKp0zWYQ7vlfwMdBXQU0HnZscceC+FwGEaMGHHY7yeccAKEw2G45ppr6qwzd+5cCIVCUFJSIspNNI+GAjoamsGGAjqbwamI9b0iS0B3M2gO4gTVS8yJ1okK6Jkkxza3SPI2Fv83Fu2RZZvmKaDziF2FffH2PdUybo9rTgX0+O3KzGFQ9+3Vh6iAHomEpPuOsEemgK5Cf2Dtu9NztsjYUwnoKvnKszai1pexH7cCugr+e10/up5u7dIvKgvoQasFD1gK6IiaBFlAd3uMkH3txe38OQoK6OqBAjobu+uuuyAUCkFOTg68++67sHfvXnjkkUfo69vffvvtOuuMHz8eQqEQnHLKKRI8RnNjKKCjoRls1oHCC48WSB8UImywDkT/NTwfevfIgN49MuDrdWUJl1MB1fzRhfN7N4LePTLg+itypE+SVEd2rbxwEjmT9uGnH2rGbLt2+eCVJ6cXap3uW2QtWewr1TaefbiA1njVgiLH+Yuvlypt3K8fqsTB0qebrs6B3j0y4DwG4mqyY5qKudO99k74dmMZ7cOj7sjjkotU57NkudP5HMgbp3mZ+1orWuOZL9W9aM/ruGfi8VRVHvzf2Jxp99rYTcesxi4q1YjXPkXE4mcfF56bCb17ZMDgQdnCc47wZ92SYtqHnxzPbs7kFDze8s/d84/G5kwr5rVmvh+Va2g3Lky1vAq4jfOqi7OlCugXzvgrXP7xVYiFC2f8FQV0BrZr1y76GncroVAIjjrqKPjzzz/rrNOtWzcIh8Nw++23S/AYzY2hgI6GZrBZBwo11WzutFd50ImYXS8VxTfR8SNsJ3KmthXEX+3dtgs/FxF4bMdv/LrCIv8y8uWlvQWprirkXPX9iN6vqOMU4r32qtaHh18s26OT7Vj3x3LMif2KbZ1MJKhx+8mJl5ypfs1Bx3bg9bgZpNz5mX/Kxo3fNdUlKKArBgro7Oz999+Hli1bQigUopSXl8PGjRvrLLtlyxZIS0uDcDgMc+bMkeAtmhtDAR0NzWDjIaAjaiHyQrrKEw4Tic+37ImRbsiun4pgjtjkL/r/if7GY38mYnJsCOIVHv2CV19zej4JSl+XEWeysaLsfKiSIxPiUT1vOL6UV1fMt7iaWP8WpLzH92u7846ffIrMpchrZyz9tPNN9rUWr8f9ruQcqQL6BTMugsuWXY1YuGDGRSigM7QDBw7AwoUL4ZVXXoFFixbB77//brvcBx98APfddx/cd999sG/fPsFeork1FNDR0Aw260BhxgstpA5Ig4TIPLz0eHO4+9ZcuPvWXPjhszJmPoi8IORkX0FqW/Gx3jssD0rIkXAEOUb6xEg3ZNfSCVurSmgfnvUym2+9yYxdlbzzbgNutj371Za0xpuXpb6ZjbXfqtTEZB59oCncfWsu/OO2xK/3xjroy09bymkffuGxwz+JxKKuOrWNeF+T+a5TXMvntqY1/uhd96+NZZXbaM785E7lvMscn73yZGzO9N2mMtfru/Fd5RqYzKg78uDuW3PhP6ObSPcFYc/ny2NzJrtPbdjB4pjqZPuJ/m0K8cc/u3+7yZPd7z1DFTD3tVa0xp9WFgupmahteM1RsnqohhPf/zkiDwV0xUABHQ0ttaGAjoZmsFkHCmNG5ksfeCPs6d8nk9Z4x8pSX9sydcLnF9l5CZM0IIRAJsFvoPOayMlk8fRC2oeH3ZCrbTtVGR4XOdysN/zmXFrj+dNaBbKuyeJQLUYv/nTu0AAIIRCJhKT7r3p+VSRVjnatKaV9uK+L79ybmnu7uFSL1a0/kyYU0BpPHNNUaF2j21Mth7JqwYuB/WJzpm1ViW9mS3W+iv+7tX6qxKojLHKXnRUGQgi0axuRHg/CnqUzY3OmIYMbS/fHDms7Vul4wMMXp+cuN/seOTQmrs6ZwubGclXyl+jc4WUfsq+v+Ln+0ql9BAV0xUABnY09//zz8Pzzz8NPP/3keJ29e/fS9dDUNhTQ0dAMNjsBXaWBPOKfeAFdxODe7fq81gkCPUMVKKBznsSJqmOiv3UhpzMT0K3xxsfOOg+pticr7zxj9hqfVwHdrh0n2q/IfKvQp1Tw0boPlQV0xD9eBfREOGmfdsuock4zETcCOkuSnbd571dkjKL3aUe8gM7DHz/b9Hpc0AFRY0ZRAjqvOuhaX1HoIKCbXlvecagooLO6psDyGpnsayt+rr3IFtDPn3ExXLLsGsTC+TMuRgGdgYVCIQiHw7B+/XrH62zZsgVCoRCkpaVx9AyNhaGAjoZmsFkHCh/PZvs6QpYDQBVQ2bdEfvYMVcCqBUUw7/VWMO/1VvDr5+We41Mhfh0uDIu+4NgzVAHHkr/AseQ0OJ50lz4Z0hm/deZV++82ldE+vOlD56+qiz8WiGijqvdPEXVNtnz0b/HLfFpZTGv8zQb3r421q7HMWujQDkT7+NG7rWHe663gvanu3jBgaj5Ux00+eoYq4Lft5bQPr5xfpIRfoutqehvauaqU1rimOvnTyamOwaLH3KrWJj5XifwU5f9J5Exa41+2JZ4zefFJpRqo5ItoFrxRW9+lMwsPy0eQc2IS338amzNtXMru9d682keqY58qfqrEZx/F5kx71nubM5lIfO1lX1fxc+1lxgstUEBXDBTQ2ZgfAT0cDnP0DI2FoYCOhmawWQcKyS4GqTIQRDCnpsXhJ35E3ETOBOzis/7GMwem59ZLDljmJAjt12leea+HBBNd2wtPvxNtO4jHI7tzqdc8RNfxk8cg1oBFDVXNGc/xgy6IjDmI+VWZoMzTELbo1l78+mt3nlCdRLHUVJeggK4YKKCzMS8C+qZNmyAUCkEkEuHoGRoLQwEdDc1gU1lA12nQq5OvJhF/wVK2PyLjRsRP5li0Mzfrs2zTTmLj0Y+c7pd3fxG9jpM2ZpcbN/lKtpx1H8mW5VkbHm1J5e0hZqLCMcyv/8n+zXLbdjnTOXduc2EXK6tzvp92qHsbDgpOzuk8tq0C8eMnmblOtZzquTQVk49jurUzlX0LMm7moaqQKBbZAnrfty+Giz66FrHQ920U0FmYFwH97bffhlAoBM2bN+foGRoLQwEdDc1gsw4Uxt2bj4NjA7nogkxIbxiC9IYhOI308b09JwJjUNsOi7idXECNpz6JQJikQTbJlT4RMgFZ9U203PtvF9I+POIW799A160vmOZ3fPuy/v8/bsujNV74RitbP3Q6turip0hOPq4hpDcMQU52GPPICN75cbP9XWtKaR+uOC9Tem5k5s7pOVW32J97pIDW+Kl/N1PCJy91kZ1/VnHYnU8TnTudbvuyiixa48+X87ux3IQ66EpB0zRIbxiCzh0aSPdFFqoeC1j4VTmrNe3Dd9zIZs7kZ26oYp51Z9QdtXOmMEmDea+L/yySqv3HzkfVSeT/8cc0QAFdMVBA92ZLliw5jKiA/txzz9X5Wzzz5s2DJ554AsrLyyEcDsPZZ58tOxy0FIYCOhqawWYdKIwZmS9sUJdssCfbB9Po3yeT1njHylKuNVKhfrInsiy3n0xEsxImaUAIgUySI30iZAoqtd/F0wtpHx52g/3FoPj1ZMQiO3eqEM2BNR+J8hL9ffjNubTG86ep+Y1s2ejetjp3qL0YFImEpPvCOrcq1MatD6x93rWmNHbhrVcjpXIjOseJzke652TShAJa44ljmvrKW3w+eOXEa810gqXvA/vF5kzbqvi+mY1ln7Abd5iK3/iys8JACIF2bSNK+CMrhzr67YSlM2NzpiGDG0v3B2HPyKF5tMadyWnC9y+z/7g5p+uCnf+d2kdQQFcMFNC9WVQwjxIKher8loro8tOnT5cdDloKQwEdDc1gsw4UnhzH9mkKXgNC0/bNm6HXNYZMkgNHt4/ArjX+BXSVSFU3E+tqN/HIJrmQSXKgGWklfRJkCrLbstWP5XNbw9HtI3B0+wj8331N6O92vvqJwes6snImsh5+c2L9d/zvh3a3hQn/bEpr/NG7raX5jvBjQN9MOLp9BLocHdyn3kxmz/oy2odvuca8i/bxxy834y8v5wjWxzEW23tzcgta447kJGa+mHgOTRR3onOhKnUedkMurfHOVXXnTKrXyal/qsfB0/dTjm8IR7ePQL+zGzHxx+qXznk1hZXzi2gfHndPE6m+8DzWefFFFT/8buPRB2JzpqUzC5XyTYX8yb6GwuJ6S7+zG0kV0M9961IYWHkdYuHcty5FAd2DRQVzP7Ru3RqeeOIJ2aGgOTAU0NHQDDaVv4GuKjoMrp34q1scQaydnf+I/Ekd7/bmd9/R9Xm2d+u2ee0nWR1S7V/Fvq6iT7rAI3dYDwSpS6p+YT2/xC9r/Y3VedStf6zW4eF3opyp4iOvuJO1Bz/tJNGYjXcu/Y4XTW0HOvuOIKaB/VEPWJw/Ei2jC3YxyP4GOgroKKCzssWLF1MWLVpEnyafPHnyYX+LZ8mSJfDxxx/Djh07ZIeA5sJQQEdDM9hSCeg4+HY+0FUxVyJ90vWipk7InuAEDdn1ttbca9/iFUey4yCLffrZBuuYWebSuo1k27P7mypt0hR0y6du/nqN0e8xL9W2Zcfot/apjhtuYvRybEt2nrT+5sYXt3VJtl+RtfCyrsyxBs99OY0nUbth1S5E5NRJjKJqqoMfQUbn8w4iF2w3wcJvvePHiTphFw8K6OqBAjobiwro69evl+0KGgdDAR0NzWCzDhTmT8XvrppGz1AFzH61JUwc0xQmjmkKP28t57ovlbYjGx5xJJp4tCNd4EjSGTqSE6VPgkxDdjs6tLstfLG6lPZhN6+qExmDm/0kW1aVnIvKU/TflbNa0xrvWFkqJBcq59rqm8p+uuG1p5vDxDFN4QnJn8tB+LB3azntw7NebgmHdjt/1abXfbpd18vy8edDu/OK9W88cqvKMWDDB8W0xmsWF7ny3S5n8blUJU5eteMx1krURr36OWdKbM704+a6c6b4fiBjrMhqf158V6GN+j2uPv1QM5g4pim88mRz6bEg7Pnyk9ic6YMZ+r3e20m/VKEfyszbstmxOdP2FWzeoKlTTp3EohN2MTwxtqlUAf2c6ZdBxYd/RyycWx5ePwAAIABJREFUM/0yFNAZ2Pbt22H79u3w+++/y3YFjYOhgI6GZrBZBwpjRuZLH/DpiGpiWzz9+2TSGosSZpLlSub6OpNs4hEmaUAIgUySI30SZBoq9IPF0wtpHx52Q66jbevUV6y5DsIxws7H4Tfnxm5mm+b/ZjZdj/Em+9u5QwMghEAkEpIet2q50q3d2LFrTSntw317sf22rqj6pjrv2R2n7c6Zif4tO0a/TJpQQGs8cUxTx/m0y0OynMg8j+tSJ7vcstjuwH6xOdO2qhKtcoI4q1V2VhgIIdCubURZHxHvLJ0ZmzMNGdxYuj8scXouVeWcy8qH+O2MHJpHazxnSkvpccom2ZhMB+xi6tQ+ggK6YqCAjoaW2lBAR0Mz2FBA1wsvExGVBHSZedCZVBMPFNDFTupEt0k3ArrsfmK3Tx36q9t6+8m/3e+sBXREPXQX0FmiwzHBLawE9GS5iT9Oecmj39z7PV8mW9bvcdhufZbnJKcCutUPr/li0Udk9jO7OBPVx2/NWcZqJ6DrjonHWz/IFtARvrAQ0HnMCViism8iYhUpoHu5FpBo3MGybonGOrKvm7C61oICunqggM7eDh06BAsWLIB//etfcNNNN8FVV10Fu3btOmyZAwcOwK+//gr79++X5CWaG0MBHQ3NYLMOFBa9qd5F+yBNEHjlYcEbreDZhwvg2YcL4Oet5VrlNP4iZKqcJFted5JNPI4iJ0B7chx0IqdInwSZhpN+6KWtuVln15pS2oc/nt1aelv00m79rM8i3yLj9bLe8rmtaY2/WF2qhE8IW956vgU8+3ABPPdIgdE1FO1r/DlfVq5+2VZO+/B7Ej+J5CZ+LzmLPz+mugjq1je/5wyefFpZTGu84YNi13WxxsUqXyzW4U2ydsZifMAy5oWWOdNPW/h99koFVGwrInhxYm1933i2BebfwBh2r43NmZYJmDOxOoaxOJ6pWA8erJgXmzPtXFXKfdzgddsifLK7VqEj8fE9+3CBVAH97OmDoP+H1yMWzp4+CAV0hvbOO+9AWVkZhMPhw4j/Nvrjjz8O4XAYsrOz4ZdffpHkLZpTQwEdDc1gsw4Uaqrd32kflIG6mzwku0DmNl+Y39T5YSlqqozsiU2Q4VFLEe01uk1RfSHZfvz4oFJfVskX3rHxav865FU1fxD3tRPZfr34x2s7IseZbnLsZj9uz79Oztksz4dethHvm9P4nNZZxbbupf0k+rfTcRnLPDgZq6mSd1PGWIg8VBrviZonsY7B67nB6d8T/T9iFm7HS/H/1pH4uGqqS1BAVwwU0NnZ008/DeFwGEKhEIRCIWjatCmEQiFbAf3AgQOQl5cH4XAYXnzxRUkeozk1FNDR0Aw21QV0XSYHfga6uvitAir6K/KCA6LGpE6H9iXbb6d+uD12qhKXSjkOEphzffLDwxenxwC7ZVTKjYwaJIs/fjmnuXJznvRzLrPbj9PfVat71J9UviX6m9OasqqBn/y56YeJ6iWjliq1GZV8QZB4nBynVPON9T5Y78fuGKhSPlSorSl4aT+pxg26Eh+LbAG915uXw/lLb0As9HrzchTQGdjmzZshEolAOByGHj16wMaNGwEAEgroAADXXnsthEIhGDRokGh30VwaCuhoaAabdaDwWJLv+ckeRKs+WOc9efLDjVflQNuy+tC2rD7sWsP21cC6oHr7ceJ/MjJJDmSQTGhCWkifAJmI7PqfQM6gfXjMyHxt+oOf/cSvG/23CvVgkZf4OMbf24TW+MN3CpWqBcKGvr0aQduy+tD+CPO/u8qyvSU6FvDer1u+XldG+/Df/5YjvQYsa5Yqr9Zjmt2ybs6lfrbF+7w99ZkWtMYvPd6cSa6d5j1RLtzuk1VuWObZTdtLVnsWvtxyTWNa4x0rgzlnMp3OHRpA27L60Kt7Bv0Nx0jyYVWDFfNaQ9uy+pBBMqGcdDAmLr/7MamN/2d0bM70/tvs50yycFIjJ+MjXbHGcnb3dBTQFQMFdDZ24403QigUgo4dO8KBAwfo78kE9BdeeIGug6a2oYCOhmawWQcKLIQZ3oNJVQQtLwNeWdvr3yeT1jjIF4NUazdu/Uk24QiTNCCEQCbJkT75MRHZ7WPx9ELah4fdkCu97fLsX3Y5j/6bRy1EbNPJPobfnEtrPH+avO8nm4gqx/7OHRoAIQQikZB0X3RElTomYteaUtqH+/ZqxC1mVfOQyi+nftudfxOdjxOdq3mcu3uGKmDShNg3OSeOaZrSL6cx8q6p2+2LPNf68Y2HnwP7xeZMp5LeXHPupk/wbB+647YPZWeFgRAC7dqafzNbEFk6MzZnGjK4se/t8T7miMKN717mMSIZOTSP1njOlJbS/eGVK7djQNnXS1heb+nUPoICumKggM7GjjzySAiHwzBp0qTDfk8moH/44YcQCoUgJydHlJtoHg0FdDQ0g806UHhoVBMtBpKqDeLd+CTD98sHZkFebhjycsPwxWq9BHTVas0iFq8xJZtwNCDpUJ9EoDHJlz75MRG/dXe7DevyPUMVsHRmIe3D99yeJ7TdieybibYp4rgv8lhjF8+oO/JojbuQ05n46edYI2o9FY7xydodS3+7nZIOeblhaN4sjbmvqhB/7GK5XdVj3722lPbhSy/MquMvC/+95kFE7lL55sT3VOddu/Zl/S/Lc7cdLz3enNb4mf8087Q/HdqyiPaV6Piaqt+kah9+c3vVJdm0xttXlHiOj3f+EO8UF9aDvNwwnNSloXRfggjv9r5sdmvah+++1d1Nxzofn3X23W3buH9EPq3xgjeCcdNxqvG17GslrK+3nHpCQ6kC+plv/A36fnAjYuHMN/6GAjoDa9SoEYTDYaiurj7s92QC+urVqyEUCkH9+vVFuYnm0VBAR0Mz2Px+A13kYJn1uiz9ZyGyyY4DURvZk5ogI7PmrNqNKv7Ybcduu0781v3c4cU3L367Xce6vJv2I9o3FVHBPxV8YOlL/LE4/r+65YRnDnn2VRbbsTueONmG23UStRneccXHl+jclujfvNupE3+crp/q3CAirkTb1bm/88oJgiDmIeocJzIWFVApn07HSCZgjUn2N9BRQEcBnZdlZmZCOByGFStWHPZ7MgH9vffeg1AoBPn5+aLcRPNoKKCjoRlssgR0lQbJLGLxcgEwCLlB2CF7UhNUvNbK73IsjgN223D6G+u2m+z/8Zjnrh7xf3fT3vy066CBeUJUItX5Ir5/8z5/pVrfiR88j0myj3WJxhLWvLA+z9ttU0YOTDl2suoLpuYHQRB7WMwDea2Pxx9zciT7GgmPay7R/6KArh4ooLOxI444AsLhMLzyyiuH/Z5MQB85ciSEQiHo0qWLKDfRPBoK6GhoBpt1oFD5TqH0gWBQSSQwsaBqTmuY8WJLmPFiS/j183LpsfrNid1AW5eJjpvYE8VpxzGkKxxDToUu5HTpkx/T8NNuWbT3Q7vbwjcbyuAYcirMeLElrFtS7Gv/fv+uCrr46dT/9e8X0+P01+vKHK+fLA92bdhJ3lgto0Ld/frpJX+JWDy9EGa82BLeeUmd7zWKqCOLfejQ33/bXk778MezWx/mu9fzCstzkOgc+jmPsvaBVb63ryihNd5WVeJ4vfjl4s/3fsYNTurt5piuQ19jEW8ils+NzZn2bq07Z5KRn1TneT/rB5F3X6mt78KAvPo5aHy7sYz24bWLi6T6okPfk32e9sKGD2Jzpq/WqvF5Ql45TDUPkX2dhNc1l6nPNJcqoPeYdgWc+/5NiIUe065AAZ2BXXPNNRAKheDcc8897PdEAvo333wDTZs2hXA4DHfccYdIV9E8GAroaGgGm3WgMGZkvlEDTt6+ib6Q75X+fTJpjXesVGOSEZ+PVINoNxefVW5PfvOViDBJA0IIZJIc6ZMf0/Daplkt2zNUAYunF9I+XEyOkN4W/cQnu3/K3n8iP4bfnEtrfCz5i+ttuT0u8sqDk+3GH/t5bp9VPCz227lDAyCEQCQS4pJ7mcjsV6oca3atKaV9uG+vRoe1Hb/nFhm5c9P2g8KkCQW0xhPHNHWUSzc5d5tvXm0pCDVPFOPAfrE5k/UmCd754Z1zu+37bbMy4mBBdlYYCCHQrm1Ei9oh7lg6MzZnGjK4MdbKAbqd70cOzaM1njOF3U2pyc6pfnLDKq92czlTiI+1U/sICuiKgQI6G6uqqqJi+bPPPkt/txPQd+7cCccffzz9/vnmzZtluIzmwlBAR0Mz2NwK6KIG1roM4HWIWVUBPVnsbi4yOxGOVL1w7UU8sgMFdHETOhlYBfRhN+T67l9u+o/Xti07Z7phFdDnT0v+VJSTYx7Wyzte8uFkHb8CetD7qt04QaWYdRHQZe/fbZ2c+so7pp6hCiYCeqoauBn3WpdltX8nvqjYfuJz4dVHJwK6jvjpR7ocM5zCWkBH3MG7LSUT0EX5oDuqnHcTwVJAFxED63mZ7GsjIq63oICuHiigs7Prr7+eCuYVFRXw2muv0X+/+uqrMGXKFLjqqqsgIyMDwuEwhMNhGD58uGy30RwYCuhoaAabdaAw6+UWUgbBQcDPhSq/vPZ0cxh9Zz6MvjMffvgs9auBVcTrRUIn29JpEp1o0tGGdIAychQcSY6VPgEyCVltPJ7Pl5fQPjzvdXtxNX59We2cx36SbTP6N536sR3zp7WiNd5qc9HeLj6WMbPaVqLteNk+75qKbjNP/bsZjL4zH8pJB6H7NRGetfPS13qGKuCnLeW0D7/6VPPD/sbq/KLKcU4VP3jFlii+lfOLaI2r5hz+mn6v+xB1bDTlXOk0L17jnPpMC1rj00lfoT7zXM/p8n7bhw7ta+w/msDoO/Pr3ARjarxBo6Y6Nmdi+XSyV1SaT5qwv0O728LCN2Jzps3LvN/opEP/TTS/l32NhPc1l7H35EsV0LtPvRLOWXIzYqH71CtRQGdkf/zxB1x++eVUNE9EKBSCUCgEV155Jfz555+y3UZzYCigo6EZbNaBQk21Xnfaixz0itiXDoN4FertJ0/JRMbov3mKjSwuTCHyJnMy2ry13Xv1KVW7FxWL7HyK9JtFX5cdu1/fVY5BZh9neQ5D1Hgjg5N1VDu/iKoH71jt8smq5rzqxWosqFIdeMTpd59u9m9yn3QTn+l5kJHToPmiE3bHScyls1wFDZXil319RMQ1l5rqEhTQFQMFdPY2bdo06NKlCxXK4znqqKPg1Vdfle0mmgtDAR0NzWBzIqCrNGA0FV1zzFpccnoRmtXfk4mTIi76ellW9gQnSKjUr1TxjVWbFrVvLz6x3JYK6Oq3F991jhXj05eg14Vl/F77vA7nSFa5SxWn9W8y86FTHTB2vf12G4vfOE3KE8IHVdsItn194k51jjcFuxi7knNQQFcMFND52Zdffglvv/02PP300/Dkk0/C1KlTYcuWLbLdQvNgKKCjoRls1oHC5IcLpA9OZQ5STY3j3mF5cEbXdDijazp8vY7tK9zdxMcjF34uDMavl+pipMw2ksjXKPmkOeSSptCSlEifBJkCzz7pdh+rFhRBLmkKuaQpPDGumeN1RR5/VDjW6eBTIv77f83ocbr6vSLp/rDMs586sKihKu3g2suy4Yyu6XBWtwzpvqiWG1XwM574dmMZ7cMjh+ZJ84PX8l7PO27Od17GQ/G/ezmXO13u3Vda0hq/9XyLw9b3UrNEPlt/99OO3Prid38y/fda03hG3RGbM+1aU8p1X6rUTbUa8M7FuWc1gjO6psMVF2VLz1EQ6iKaNYuLaB9+jMFr+rE+6vk5aUIBrbH1cyq6xMzyXGsCdvFdVpElVUDvNvVKOHvJLYiFbiigo6GlNBTQ0dAMNutAYczIfOmDcZXRZUITT/8+mbTGO1Y6uxikI6JFUB7+e401TNKAEAKZJEf6JMgERLZVJ21h8fRC2oeH3ZDLtW15XUdUf3O6H7f9SXZ8w2/OpTWeP83+O/e8/FLtWCnaH1H769yhARBCIBIJKZNXU2sfvx1Wx41kx+xda0ppH+7bq5GS+eVVC+uyTs9rLOseXd+JH358mDShgNbYzfeTE40zeLQPkW0u1ZjJqy8yz2sD+8XmTNuq9Pq0GeKM7KwwEEKgXduIdF9MRtb5b+nM2JxpyODGgYpdVqyi4x05NI/W2M137lmNNUTn1y7fJmEXZ6f2ERTQFQMFdDS01IYCOhqaweZXQJd5cQRxhhcBXeX6eJ2oqTLpceKLU0EvCgro7CdyottGMuIFdJ5+6tK3ZPnDa9teBXRV6+Jm306Pizx9FbHveAFddLyq9VPTYrUT0FXFyRjETb/wspzdOn7OP4nWdft7smWsAvqRpLOj9ZPFbPd3FcaqLJfXIR4rBaQwkAI6yzqpfq5BAV1fUp1DDu1WQ0BP5p9p+5SBVwFddn7djjsSjZNMwy4PKKCrBwroaGipDQV0NDSDzTpQ2Pr/LxS4uZgt84K3jP3qyG/by2Hv1lp+/7KN79zyyH2ii4rWtphoQuHnImyy5US0Ma99LD4v3cn5/58LpE+CdEdGH03FwS/a0D68r6ZuH3bjN6/+q2rueMAj1n01sRof/CL1cZpHHE76ActjppOxBs92JbrN/rItdi4Wud9U8ZrUd92MX1nzx65YH/5te3kdn1SpOYvxkWx/WdQ5WX9I9LcDO9vQ8db+HcnPxYl8dDuWZVEH1rU06ZgRj9s5kyhS5dzkmrAmWt9ftsk5FyPucNu2U82ZZPgkMk8q+MbbBxlzJtb1STTncvJvE4nP12eVxVIF9L+8fhWctfhWxMJfXr8KBXQGNmrUKNeMHj0axo0bB0899RQsXLgQfvrpJ9lhoCUwFNDR0Aw260ChplrMnfYqDOyDhEr5ZnnhFi8ImjuJUmXyxquNeNmO3TpufPfqj+h+kWh/OvZP0TmSuU9WbZpXrNHtxG9PVrtyu18WfgalDwUlTq/5SNQX3C4T1BqwOu/KyKVXv0W1Ax5jLBXbomyfZO/fjy8q+Y5gnVQGa+AtH7zmJtZxlfVcnOy8bHedQva1ElHXYWqqS1BAVwwU0NlYKBSCcDjsiwYNGsDAgQNh8+bNssNBizMU0NHQDDbrQGH1giKug2832xJ5ccpUovnbWlUCJ5KesHJ+ke0TM6zrLKp9sNiO6ji5UNszVAEnkTPhRNITTia9pE9+dIVl+4yvn5/t9QxVQDdyPqycXwQr5xfBzlXOPsOgG7xqoAtfrC6lNf5pC9unouLboV0e3RxT/dbBTdvnkevodt2MM1j4snFpMaycXwSrbMZaMmERm4p901pnEfvbv6MN7cNbPi6p44eomIN+LGXZp+OX+WZDGaycXwQnkp7w9boyx/mXnW+Z+xfd/v1uY1tVCe3Hbp9etdaf9fFHdhtyGreX9byu75XVC2vru/79Yum5Q/wT33Z+3lpO+7DTT9d52Y+T5VXutzrz5SexOdOPm/V4k0T8sc7ufOFmGyZzaHdbWPRmK6kC+v9j78vDrCiut6sbGJhhGJhhGWD2GUYBWUTRuACCTEREMOLgLzGSmEQxbiiKCAb000TFNRDFHVlcABdQUEFEAUFEEERZVBRkCyhxR0AweL4/Jrduz53ue3up5XTfc57nfcSe7qqzVFWfU2/f7h7P/gWqFl9DsKDHs38hAl2AGIbBYZpmrf+3g9M5pmlC48aNYdGiRbpNIrEIEegkJBEWp2+gu0n6ZRcF2IoObPq41df6DfQebECo7ApKPqZL7Okb6MELNdHx99J+KiR+A133eEtHyF4DrN9AP4718qWfnY6xYzL0F9FmYhs611rZfSd+Az2MNhCc/S7jG+i64ynj/pjsfCw5n1Pf1m+gTxrfEoV+ImOJpT8Vujr1cf458Zop2TfQwxBzr3qLzhfc7CN4zcfd9JmqnWTfQE+WRxHwwS423Vkfrd9A1zFe0m3cev0GukpfyFw/de+XqITub6ATgU4EukzZvn07nHzyyWAYBgwePBhefPFF2LVrFxw6dAgOHz4Mu3btghdffBHOPfdcMAwDTjrpJNi6dSt89913sHz5crj88suhfv36YBgGNGvWDL766ivdJpH8T4hAJyGJsDgR6FgQ5eRflG9S+chKoAd9ElvUBocsX4SlXdHIyjSIQPcJmWPSTx/Wa2L/TUWgi7QjSFtur3VzXljmnigEJdB1xDvsUG07ZgJd5ziIyhiUQaDr9nuqe5jd37ye7+Y8VeM61fnJCHSs+bFK+BkvQWPmdK01j/LSplsCPah+IuyVHT/VubIqXyQj0LHFJIwIem8J6v/l8wq1EuhB7BF57wvDOParo1cCPWxINjfSBdmsKRHoyEAEuhj54Ycf4Oijj4YGDRrA888/n/L8559/HurXrw/t2rWD7777jh9fsGAB1K9fH0zThFtuuUWmyiQehAh0EpIIizVR6MJO0p4wikqsCXE8eGcrGDY0B4YNzYGvPqr7ykkvsQgaD6fNGYp9MJ9e+ZemMGxoDpSzjtoLnjBBdBxEtGHXzsdvl/A5/NzjbQLpFvu3bvvDOr9F6Z0Y6xeeaMNjvGlZer1WNKxjwSv+fkNzGDY0By7/U1PtuqQTVI2vbzeX8zn8gIVclWVTMrtE3Y/ctJf4N7fXqfBDKp29Xrt8XiGP8eLZhb79KStmuuBGd9X2O+V6qcbyI/fEa6a9G8ul6Uewj5MKPw+/uBkMG5oDN12Xp91+gnh8urKUz+GZj7b2fL3bMWh3XrquE6rtnjM1XjNtWBqNmslpf8zu3+mAUna0VgL9lFkXw+lvjiBYcMqsi4lAFyC33norGIYBw4cPd33NVVddBYZhwLhx42od/+Mf/8h/oU6CQ4hAJyGJsFgThe1rxD5pTyCkglPB5XXTi2BfeBGcgSleIs5zc22ytoLo40VHv/ZgiJlsXWLtiogTQS8oTrgQhXjY3eOx+jHofSLxOtG2ullrVftQpi6qx4vo/vzkGE45nx+9dMTMqz5YclvZ8cXQLoGgCyLvrSJ10NlOVGGXp+jeO1GJHuwsItCRgQh0MdK5c2cwTRMWL17s+prFixeDYRhwzDHH1Do+e/ZsMAwDWrRoIVhLEr9CBDoJSYTFDYEuI8GlpJkQQ2KB4IX0I9j7MvZvgj1k+h1DO7L69apfEHv8xCqMa4VoncPoAwIBOzDOK2vOpPIelOocuzwkqE5Obdgd99Mfxvhih9dcXcTYkm0DBvjVSaUtTvVakPZEzWUCQTV0zD0Z13mpBWXZjH3Oy9YvMX+yO5YuIAIdH4hAFyPZ2dlgmiasWbPG9TVr1qwBwzAgOzvb9nhGRoZoNUl8ChHoJCQRFmuiMMvHa66wJqDpjMTCZuI/WsLQIU1g6JAmjq9wVxGPRAIz2eab7vEhenNINv5yQQ4MHdIExgy3/z42IVzFfmKbm5aV8Dncif1Ki36q1giMbanQZeajrXmMNywtUTKudNucbhg7Ig+GDmkCf/pdjnZdKG7iffPNJ+V8Dv/z1hbK9fEbO7vrkuVjusaIzPu4WyyZU8hj/PpzBVr94TWmQc6TGR+v18j299GsG4/xlxv8f/ZKdDyT2Y1hboi00e7fIu0bNrSmZrrhyro1E0F93EW3+cmKeM305KR87Tbqhmgfy9iv8drOc4+34TH+YHGxch84tSm7H937KCpRxNppJdBPmnkJ9H7jWoIFJ828hAh0AZKbmwumacLUqVNdXzN16lQwDANyc3NrHV+9ejUYhgGtWrUSrSaJTyECnYQkwmJNFMaPbe45+RO5YYcRYdAzlY6DB2TzGPdgA5K2k7hJocp+VUVIVJGVaQBjDDp3yEgZ23SFjDGlaowumVPI5/DIy503/BL1caOfqHOCXutHdx1xkdF2lVENo6/K5TFe9HyBNvt09KO6L13o1qkhMMYgI8NA6xcdcRC1PuseQ7s/LONzeFC/xlL9Zbde6rbfi76y4+z3nFS6Tp6Qz2M8KcB37kX4Q9Q9Uve4UamLm/bPPydeM21dVffNbGFfp1T60mt7iWPBKZcP2n9OExMYY9Ch0r5mIgSLuV28VGL5vHjNdM2wZsLtwwC/tRUGPyS797rte+yIPB7jBTPb2rbvdQyKOFf2upjoqygjmzUlAh0ZiEAXI7169QLDMKBTp05w8ODBlOcfOHAAjjnmGDBNE3r16lXrbzNnzrR9tTuJPiECnYQkwmJHoKtIqqNIAGCFlUDfsbZMix+TbZBTjIIjFYFu9XU6Qnd8gsItgR4WWGMiOj664+3Uf7K1r8qwJ9B12xIWn4dFRz8Eepjh1uep1gO/67jqmKsi0MMM1TER3Z8oAj2KUBlbGX3F2kxFoGPRV7VvVdhgl7fLyOmJQA8+HjDDL4GeDr6RCS85X1Df2RHofvNE7HG001HEnojuvZlUIAIdH4hAFyOxX5Obpgknn3wybNiwwfHc9evXw0knncTPnzZtWq2/X3zxxWCaJvzud7+TrTaJSyECnYQkwmJNFNYvTf0KJEL4sPP9MvhoeQl8tLwEftrRzlcbQYsLK1GEvVCxs1n1xpHVT8n6jp338ds18d2yqtSVrrqLIlUQOYZljS032Lelgs/hL9b7ewhGhp5BfCojHqpinGpOer2+yqiGLzeU8xjv21KhJZ4Eudi6qhQ+Wl4CH79dIq0PETHGMk6Srecydfbb1qGd7fgc9vuwohddguQoKnMakbaL1ttre998El+nv/5YzOu9RdmEZd7KgKh8zk07u9YFr5miEDsvOsnUP7F+FNHXKexMXjPp9nMYxwZmVBnV8OPWeM20R2HNlEwnNzW9l/j7qTVk2KXCd3bHrTXTDx5qpiD+9Np+0LzVzf5PkH2RoG3Jxgmsj14CfcYwOG3RdQQLTpoxjAh0QXL22WdzUtw0TTjuuOPgkksugb/97W/wt7/9DS655BLo1q0b/7thGDBo0KBabXz33XfQtGlTMAwDpk+frskSkkQhAp2EJMJiTRS2r/FXSFJxFzzJVt0fxQwXVG3+JxZQuosjGZDlV5n6sqsmAAAgAElEQVRtEvSQ8bqvUzmWvPQl61wCPsiKX9B23W78Efz/6kpnfNMBqset6DwyVXte7xNB5nKQe2eyPjGtL1Gt0WSMSze+UpXHuK1Hwogw2oBZZ9F1TuyY3zmA2VdhhVufirgXBtkfcaObbvRgZxGBjgxEoIuTw4cPw7Bhwzg5HiPKExH726WXXgqHDx+u1cZXX30FS5YsgSVLlsCPP/6oyRKSRCECnYQkwmJNFDavkPerKL8JJiG4L7/7tAL2biyHvRvL4fAuNb+moLirRSy+Tr+ISlU86S6SRCDZOAv7uPtpRzseYy9P2gdF0M0XN5ucMvXTBaeNrmSbXX3Yb3iMU/3qTbbdWPyKRQ8RulQZ1fD1x+U8xrrtweTjZPPF7yajDvz87/g6/e1mPDHWFffE2DnFWbcvvGD/5/F8ev/n6u7FWGInum8suZq131jN1IsNlFozWX3qZq4EGQcy/apyXrvN+VPhP5uS10y6fEkQM0ZU1kxuxwONG7HYtyV+Lz64vfY67eRrr8dlI9W+DCZdY32rxEnsDCLQkYEIdPGydu1a+Otf/wqVlZVgGEYttGvXDi699FJYs2aNbjVJPAgR6CQkERav30DHkMARvMXHzzfQZW5+6PYNVt2C9G/9BnrQjSXdRLgXhCE2IuD1G+i69Y1SLIL052VD3O4b6Fh9nGxjR5S/3J4TprGeTt9AF0Hu6Fjrg4C+gR5sHIQB9A10NfB7DxLRj4xvoCfrP1leG6b1L0ygb6Cnhp/aUbfOMT1UfQM9ivAbR9Xjxe4b6CLtxjKeRcVBtD0q9nh0fwP9xBmXQs9FIwkWnDjjUiLQJcpPP/0EX3zxBXzxxRfw008/6VaHxKcQgU6CWr7//nuYMWMGXHvttdCrVy+oqKiAnJwcaNCgAbRs2RJOO+00uPPOO+Grr75y1d6KFSvgwgsvhJKSEmjYsCG0bt0a+vXrBzNmzHB1/U8//QTjxo2D0tJSaNiwIRxzzDEwadIk+OWXXxyvKSkp4Tej7Oxs2Lt3b9I+Fi9ezM+fMmWKK72cxC+Bjh1BE8WwJs528EOgY4yJTmDXPUagZ7OmQm3RTZCLIMxlE3oq4JVAlwEsvggDYr7y4rMwEeiq2ogaZBLo2Da7g6zXXh48wYRUBHqYbME0JjBBB4Euw29RiIUoPyT6wolAF/VAjzU/8JrnJl6r239O48lONxkEjt9rEwl0UfWGTp8T4nBLoJMP9cHvGhGbn2WsA49xN9ZTyryVmVcnOzcs45II9PQDEehiZOnSpbB06VLYvHmzblVIJAgR6CSo5fXXX+cLeTK0aNECFixYkLStW265BUzTdGxj4MCBcPDgQcfr//vf/8IZZ5xhe+0ll1zieJ2VQGeMwciRI5PqKYtAn35/vvZkjCA+uf3H6ObQv28W9O+bBV9ucPe6urAk7zL9plsHL/hN/8bQv28WXHZRcgLdyS6spLpuv2LBB4uL+Rx+7L5W2vUJA9xs6IpqW0QfT0zMh+asNfTvmwXvv1GsdfzLelglyN+jsB5c+Zem0L9vFgyU8OtkbAS6Cntk2uCn7a8+Kufr9C3X56H3sR97sTxco8u3r80q4DGe91TwX73pjLHfOabK90H6CXJtO9aJx3jP+roPHdvlqE55a7Jc1mvem6xt7GsNNv3OOzsb+vfNgmFDc7TrQhCPDUtL+Bx++G73NRO2nCLq8HpPsq6Tx7AToDlrDc1ZaziR9XVcl3XbmMoOPzrKqtFE2CISbVgpEejIQAS6GIl91zwoj0OCU4hAJ0Etr7/+OhQVFcEf/vAHmDhxIsyePRveeecdePvtt2HWrFkwZMgQqFev3v9+9ZMBH3zwgW07jz32GL8hVFRUwOTJk2HVqlXw4osvQp8+ffjffv/73zvq8uCDDwJjDAoKCmDKlCmwcuVKmDBhAjRtWvME3fz5822vSyTQMzMzYc+ePY79yCLQt6+R+6o62UkcdmC1WecGWRhAvvDuLxUEucrN1XQeA6JsF7VJICN2sjYVEv8/LONIJoEeFh9ghIqHQDBAxgYoNnux6YMdYVw7MOor8sEyjPaptsPLw3ROOYGbvDjV8bAQ6RhAPiI4we98cjtvg7Yn2k4MunjRQ9X+Akb7sUImgd6DnaWVQO/+zF/h1NevJ1jQ/Zm/EoEuQJo0aQKmacJ7772nWxUSCUIEOglq+e9//5vynDlz5vDFfvDgwXX+/u2330KzZs2AMQbFxcXwn//8p04fAwcO5G0sXbrUtp/evXsDY6wOSR/r/09/+pPtdTECvUWLFryP4cOHO9oTBQKdQIgaqMjS51PyPZ64BNmg97p5rMM+Ve3q9oXbjUSae+GEDJJalD5ujmPRj+DNh2Hxo0w9dT+0KopE90v2hgV+808v1wUhfpKt4V5yNFl+8+o/TKQhIZzQGeMwrnthqbH9kK+qfRSWcSGjXyLQ0wdEoIuRY445BkzThLfeeku3KiQShAh0kkhI+/btOUmdKHfddRe/GTh963znzp38l+xnn3227TmVlZXQvHnzOsd/+OEHYIzBGWecYXtdjEA/7bTT4KyzapKFhg0bwq5du2zPl0Wgz53eRntiFyVg8eFTD7aGG6/OhRuvzoVvN7t7hTsB79iw2zS7eWQe3Hh1Lkz8h5pvcmL2j8g2sPSzZVUpn8OvPC3/tbGqNjR1+1V0X343zo/sqYT5M9ryGH+6Eu/DbLo25jE81BAU99/eEm68OhfGXZunVN9U12DJVVTHVbTd339Wwefw9Afok0iq/a9Ch9WvFfEYv/NqERo7sPnXjsTA4KdUDy9UGdXwzMPxmunrj+1rpmQkTTISJ7EvUaSPqPuy6lxIF265vqZm+uetLbTrgg1YYhdkXny+Ol4zifjUhmyiWbfPdffvRpfEtbIb6wmlrD2UsvZwCjtTGoGOESryW6/3DRkPNPx9TJ5WAv34py+DUxaOIlhw/NOXEYEuQEaNGgWmacJNN92kWxUSCUIEOkkk5PjjjwfGGGRnZ9f52ymnnAKMMcjJyYFDhw45ttGvXz9Obu/bt6/O30899VRgjMGGDRtqHZ87dy4wxuAPf/iDbbtWAv29997jN6bLLrvM9nxZBPr4sc21J4UE8Rg8IJvHeMfaut/zc0LUC5AoISvTAMYYdO6QoV0XnbB7uAAT/Oq0ZE4hn8MjL89FpSumJ/3DGNvYtaOvyuUxXvR8QWh0D3v8RBDSbh846dap4f8+J2Sgi4vu2OlYb0Rj94dlfA4PkvCde4zxCFtfQTF5Qj6P8aTx4X1g0Q25q1vHoPb4xfnnxGumravsH2ZzS/K4JdpTnSfbZlG+DwuBmNPEBMYYdKhM75oJO/w8GFJlVMPyefGa6ZphzbTboRtY1opEXYKQtGWsA49xN9bTN2EbpVpXdpxVj6OuHTOIQEcGItDFyJ49e6BFixaQk5MD69ev160OiWAhAp0k9LJp0yb+6/Hu3bvX+tuhQ4egfv36wBiDfv36JW3n9ttv5zeNN998s87f7777bmCMQVFREUydOhXeffdduP/++yE3t2ZjfN68ebbtWgl0AIBzzjmHf7N927Ztdc4nAp3gBX4J9Cgiqk8mE4FuH+so9HFkjx4CXZXPZP3qSpROqmKsk0B36xsZvhDdpqrNMD/j2CuB7lbvVH178UkU74+qECUC3S10bQTr+FXtkT1yCHRdtqQLvK7Vbgj0VP1ZH6rySrYnkkBheAAqbHqFhUBX7T+sD7J5XSNlEehe7aacStzYkUWgy9AVY1thHIdEoOMDEejiZOXKlVBQUAA5OTlw2223weeff65bJRJBQgQ6SShl//79sHnzZrj33nshPz++4fHkk0/WOm/Dhg38b1dffXXSNmfPnh3fOJk0qc7fDx48CL/61a/4OVY4/focoC6B/sEHH4Bh1BBif/nLX+qcL4tAf3d+EYrEkCAW779RDAufLYCFzxbA/s8rpPeHbSyEpYANouOi52viu+IV/3M4jHYH7c/NJicGfP1xOZ/DH79dol0fEbHD4G8MOsTwyYoSHuP/bFL7qQ07ggGTb4LGygsRIRPvvFoEC58tgNefq/2AhJ9NWZHny9h4TEcc2FYBC58tgONYT1i7qBgtGeEVUflVk4h+dr5fxtfp7WvwfmqD4B8fLC6G41hPWPhsAfy41V3N5OYe6nROKgJdNEQ/PKaqX7dtuXno740Xaubw8nmF2saZDr+FBUEJwm8+iddMHy1XVzPRw1BifOj0oKgVp7Az4TjWE45jPaEXGyh97RTRpsqYR2Eszp3eRiuB3u2py+Ck124gWNDtKSLQRUhZWRmUlZVBy5YtwTAMME0TTNOEnJwcKC4u5n+3Q3l5uW71SVIIEegkoZEpU6bYktf8l3sjR8Ivv/xS65r58+fzv999991J21+9ejU/d/To0bbn7Nu3D6677jooKCiABg0awFFHHQX33XcfHDlyxLHdRAIdAGDIkCHAGIP69evDZ599Vut8WQQ6bQYRvCLZLyuw6IJFP539YtNBhT4y7cTmwzDZFQbfhUFH0TaqIJl1r7uiH/jws1mHcWwRgS7Pr06+1q0bVpBvyMfYkGzOuiF63LTtl0D3eq4Of2F5gI2gf2yI1geL3nZjHItu2HQJaoeoB49kP7iqwy9YdBely/Y1pUSgIwMR6GLEMAzfME1Tt/okKYQIdJLQiBOBfuyxx8LKlSttr3n22Wf5eQ899FDS9jdt2sTPvfLKK4XpbUegb9y4EUzTtP31OhHohDDAqZDEXISkG9xs7unWQVdbmO1Md4j2pduNblW26fiFl6g1WucDMXa+S/X/smKF7Z6XTE8i0MX6NAr96X7YJaheokk72f7A6u+wIqhdQcahHyInKBnk1h5V49jpwQJZ8QobsNkbZn0wPTyC3QZscXarX2I+LXu9JASLn6g4EIGOD0Sgi5GLLrooEEhwCxHoJKGRb7/9FtavXw/r16+HVatWwYwZM+Dcc88FxhhUVFTYfoN8+vTp/EYwefLkpO1v2bKFn2v3anW/YkegAwBccMEFwBiDevXqwccff8yPyyLQ77qZvoEeRfz23GzIbGRAZiMDdr4f/BvoootCHcCql180zzUhs5EBJxzbMK195Kb4DqONb71UyOfwmOHh+gZ6WHys25Zx1+bxGL/5grtvoGN9wAVTzGVtqnnZsIudc3L3RpDZyICmOaZyPzoRGtg2IHX3HwS7Pyzjc7h6YLZ2faLgU2yY+q98HuNH7mmlXR9ZCNuYEUUuVRnVcGF1Ex7jz1fXfbA8yJqZivwRvSbLuvelOo59/OS3rAeZjQzo1qmhlgehsPtHN4L6Z8UrRXwOX3+F3prJ60Nfbv8e5THkxtZy1hFMVg9MVg+OYz1RxFDW9bL9ikW/RJxwbEOtBPqxT14Ov1owmmDBsU9eTgQ6CUkKIQKdJPQyffp0/sqLRMIZ6y/QAQA++eQTqFevHjDG4Le//S0/LotAH3N1M/hifZxg/e7TCtixtgx2rC2r9R24Xetqju1aFz/3x63xc7/7NH7uF+vL+PHYsQPb4ud+80n8W697N5bz44d3tYMjeyrh8K52/NjejfFzv/kkfu6BbfH+YsfIjvi5A/s15jF+/41i5Xb0YAOkxaMHGxC6eMgYV40a1cS3c4eMUNsRlXiItmPJnEI+h//6x6ahtcNtPGLFvFs7qoxqKXZUGdXKxtXoq3J5jGc+0hp2rC2Dvuw8qDKqXdlxOjvXsx1VRjW3o6dlLQ2y7sZilywePdgAIeOqj8Vmr/HowQa4mh+92EBbO3qwAa7sqDKq+bFO7TOAMQYZGQaK+2Bfdh63w/oNSVp3/dmxfkkxn8OD+jWWaod1XIU1HrG1Ikx2TJ6Qz2N825g83+Oq5//WH5V2iFp3McUjZkdsPRcRj/PPyeYxXvFyYR07erGBfN2MjeHT2bkp7Yjdz63rbsyOKqMaerNzXNvRm52DKh692MBQjavsxgYwxqBDZQaa+0dU7oNB7ejLzgtsx8JZbeP7dX9uqtyOWN4em89e7LDOJQzxwDKurLn4kT2VMHZEHo/xUw/mu4oHBjtExyN2DwqaX1nrQSx2dG7fgAh0ZCACnYQktRCBThIJOf/884ExBo0bN4ZvvvmGHxf9DXQ/4kSgA9S84oMxBqZpwoYNGwBAHoHOGIOTjm/EE557bm4R39B/tDU/XtCmPjDGoKBNfX5s5qOt+bn33NyCJ0InHd+IH4+du3xenAy6Zlgzfvy8s+ObFrHXyVtf33Pe2fFf9FwzrBk/vnxeIT8u2o7Y8TDb0evkRtClYwZ06ZgBx3dpGMiOHuwsKXZUGdXa41FlVId6XDVtYsDgAdmB4xGbu6LtiLWLbX6EYZ6vfq0IGtSPxdkMrR1e49GU5SW1o5hVhsION/GY8PeWkM2aQtMmBj/eg53l2o7urI9UO6qMak/jqhUr0BaP2FrTmZ0kZX443QeLWVxnu3jk5ZqQzZrC8V0aCll3U82PZHZUGdW17GjFCjiBrnN+xPwQxvXq+K7x/Gr4xc1Ca0dU7h8y7Jg9pQ20yDNDb0dU4iHCjsT6Y+TludClYwYUF9ZPue56Wa96sLMc113R8WjIMvl6riIerViBsHioGlftKxvAOWc2pvkRMTuqjGq49q/xc1uzYls7YvMOqx1e4hFknoe1jrr/9pZQURpfo73GQ8a6q2N+uLWjKcvzdP9QaYfT/aPnr+J9EIGOA0Sgk5CkFiLQSSIhTz/9NF/wn376aX58/fr1/PjVV1+dtI3Zs2fzcydNmiRMt2QE+tatW6FBg5on8M477zwACAeBHsYChOxQU9g62dGQZYbGjqjEI9GOzuwk5XZUGdUUj4jYkaxAF/VgRnfWJ1Tx8Eo8u5kfXonOxHXXaZ7H2rUSz5Wsi208ghKdsjfcZRIHbgj0mB1VRnWg+SHLDlVEDub1Kh3skPVAHMUDvx1eHsDCbEeYCSnrg2SiCHS7+znNc7IjCnaIqAed9hmsD8qkIgiD5u064iHrgVHddtAPcmrbkVh/+MnbK1kXV3aoegDLKR6zp8T71kGgd51+BZwwfwzBgq7Tr1AeExKSsAkR6CSRkIULF/IF//bbb+fHDx06xF+T3q9fv6Rt3H777byNN998U5huyQh0AIBLLrkEGGNgGAa8//770gj0M0/PgtFXxb8V9eK0NjB4QDYMHpANy+bGk7GLf58Dgwdkw8W/z+HHls0t5Oe+OK0NPz76qlx+PHZs07ISfmzyhHx+/O6bW/Djsdcr7d1Yzo/dbUncJk/I58c3LSvhx2PHyA55drRiBb7siCX5Vju6s94UDw12lLKj0dgRe/127JiVsHMbjyqjWrsd6TiuYoRrqnmO3Q7R86MVK6hlRyk7OqUdMb8lW3dbsYJa86Mj687X45NZP95GsnHVihVwO6qMaihgZdCKFUABi7+Grzvrzc/tyk5JGo+TWT+uQ2I8YsejND+qjGroxQbWikdsHkyekM+Px+JRZVTzY07jqjvrzWMnwg6neMRi6mRHGOMRlXEly47YGAy7HUHiYX1YJ8x2RCUeXuyIrVd2dsTWTKsdJ7N+nu1wMz9S3Qed7KhkXfgaG/tMht39Q8Q81z2uRNhB84PscLKjI+seaH74uQ/GcqnYOqFqv8RLPGK2yYpHLzYQ7bg6mfXzPK5asQLXdrRiBYHsiMVf1n6JiHVX1D6cn/mRaly9+UIBEejIQAS6HPnmm29g8eLF8Nxzz8H06dNh2rRpSUGCW4hAJ4mETJkyhS/4//rXv2r97eSTTwbGGOTk5MChQ4cc2+jXr1/Nk6sNG8IPP/wgTLdUBPr27dshI6Pm25mDBg2SRqAvei6+ySQKscSOoA/zZ7SFSeNbwqTxLeGHLRWer0+MYbKYeol37FxsYwSbPm7wyD2tYNL4ljDjkdZK+7X6yq/fnK7zMu5ExhRj/HetK+Nz2PpkuU5g9BMmePXPCawPtGfdYNL4lrBjbZnreZHqb6LW62Tti577KmIQRGe/mPVYa5g0viU8dFerwLEL6lc7/WTGIh2wb0sFX6dfebqt8LFH0I9Ny0p4jD9cUmx7Dob5JLJ/3bao9tWCmfGayfrNV6++8XJvkOVnDLGTcR8Oisfuq6mZnnlYbc3kxQ926wjNa3f49wc1NVN71q0W0enXH6rqTzdjItU1suKKZbzEbFw5v4iv09veK41sLptqn8XNmAgSYz/+9NJOspg9dGdLItCRgQh0sbJ48WLo1asXmKbpGvXq1dOtNkkKIQKdJBJy1lnxV94sXry41t/uvPNO/rcZM2bYXr9z507+S/WzzjpLqG6pCHQAgCuuiN+w7rrrLikE+vixzQMlTAScGDwg/uqkHWvLPF0bJJl2QwBhJV7ChqzMmu8md+6QIcRnQf0bZsIamz5H9lTCkjnx16KNvDxXqy6iN/Qw+tuvHUHWs9FX5cYfZnve28NsydZp0RtKXtbvoPcKbAhCnlcZ1dCtU803sjMyDFe+lOmXsJHnYdBx94dlfA4P6tdYuz4E8Zg8IZ/HeNL4ltr1IQRH4tpy/jnxmmnrqlLP18eOpSLMk11PkBvvnCYmMMagQ6VzzUQIB+zmj9OrpDHpSAiGsSPyeIwXzKz7wKLsh5N0QFXNhWUPqGvHDK0EepfpV0D3V8cQLOhCBLowefDBB6FevXpgmiYYhuEapmnqVp0khRCBToJapkyZAgcPHkx6zn333ccX+9LSUvj5559r/f3rr7+Gpk2bAmMMSkpK4Kuvvqr19//+978wcOBAKa9vB3BHoP/73/+GRo1qvjfTokX8GzyyCHRVyR5BPvwS6G4IcJXjQOVYCsO4teqYjEAXGUdM/o36U/ZWYCDQ6ZcvYu1M/FsQAj1VH2437N2SuMnIeVGxxThGgpDnR/ZUcgLdYKZtm0F84IUIF/lwhao4YRwPiZBNoIfBB1EHVgIdY54XVngl0J38ruLhJIqvPwQl0DH6HaNOuuCVQJfhOwxz38sDrzrhR7dUBLqoWAR5MFq3n8KQ3xOBHi4QgS5GNm3aBPXr1wfTNKFr167w0ksvwauvvsoJ8q1bt8KaNWvgkUcegeOPPx4Mw4CePXvCpk2bYNu2bbrVJ0khRKCToJaSkhLIy8uDSy65BKZNmwbLly+HdevWwbJly+DBBx+EU089lS/0GRkZ8Prrr9u28/DDD/PzKioq4IknnoDVq1fDSy+9BH369OF/+93vfifFhlQEOgDANddcw/WQQaAvnk2vcI8i3nihAJ6YmA9PTMz39Qp3kTGNAgmHcUxPf6AmvnOmttGuSxA/Yig4VdrvVrfdH5bxOfzu/KJQ2K36F7WYbPWzybH6tSIe413rvL0pJOw+DoPOQcjzmH0vTmsDT0zMh6n/yq/Trm77CMHx49YKPodfl/BJJIJ+fLKihMfY+p1RN8D84CC2PnXiTUvN9P1nFb4fGqa1XS+S+f7JSTXxfeEJXDUTPZAmxo496+M100qXNRNmpKox/NRbietT2MbEewvjNdPO9/3XTNgRJEZhi2kinpiYr5VA7zT9Sjju1RsJFnSafiUR6ALksssuA8MwoFWrVvyzwBs2bLD9hfkvv/wCo0aNAsMwoG/fvjrUJfEoRKCToJYY+ZwKhYWFsHDhwqRt3XTTTWAYhmMbZ511VspfuwexIRWB/sUXX0BWVpY0An37Gn9P2gdN3sKe4KUbKF7hA8aYef11pW59ReqTimjTab+MuGCLn59YubVN5IMDXvp183dZD6i4fYAA4zjwMob9EudBxheBQFCHdCawMOoUZojIpfzc55OdSzH27reo64XVF7L0xvYgk98HdGL/tcu/0y2mTvaLqNXDOD5Uti9zH2D7mlIi0JGBCHQx0rFjRzBNE/7xj3/wY04Eekz69u0LpmnC5MmTValJ4lOIQCdBLZ999hk8/PDD8H//93/QpUsXyM/Ph/r160N2djZUVFTAeeedB1OmTIH9+/e7au/tt9+GCy64AIqKiiAjIwNatWoFv/71r+GZZ56RZoNbAh0AYNSoUZEj0HUBs25Y/GJHBMh+ajnMxCo2PUVuvgVtI9kY0uFvUf37eSLcC+mGcUPfzeZEWOamCJ+5/aWHKlI7mW5BNuu8nK87/iLXNtGkud24CNOGmy4dMNgVJX8S9Pk3bPEMm75Rgoi8UMZ9xqkf1b4ReT72cY5dvyjAad8jSDx0xk10bomxJvWqm+p6DBvCYicR6PhABLoYycnJAdM04dVXX+XHNm7cyAn0w4cP17lm1qxZYBgG9OnTR6WqJD6ECHQSkgiLNVF4QML3/MKSpEUZV/y5KVSWN4DK8gaw+8Pgr7lSSU5GBbL90aVjBlSWN4ABvxb/3VWRPlBB3mFFEBLu3flFfA6PH9tcm/5O8Qi6uYQNbseqyM3bu29uwWP89suFUu3SSdi6fdhAhu1+zxdFmg/q1xgqyxtAx6My0MQDO1QRPyLw5YZyPof/+semwv2g276owotvn3u8DY/xUw+21q47Vj9hatsrhl/cjMd4x9raNZPsB97c9oWNQMcUPzf6dOvUECrLG0C/PlmRsTmskOHH9xbGa6bbxoipmexywsS/i36gw8t1iTVakLrMzXoh4qGCILH/563xmumtl7zVTBhqDBX9ufEx5odAzuyTqZVAP2baVdDtlb8RLDhm2lVEoAuQjIwMME0T1q1bx49t27aNE+hffvllnWvWrFkDhmFAfn6+SlVJfAgR6CQkERZrouCXmFGdiIroL50K38EDsnmMEzeDvPpKZLEnClhjqVKvrMyaT0907pCh3W7ssdH1AIhXAt2qw5I5hXwOj7w8V4ieIh5m8Pr/YRoniXo5bSgl20Synu+04RU7XsqO5jE+jvWSElc/8dBxv8U0HrzO1WTtdOvUEBhjkJFh2Lat21bZftStg2zs/rCMz+FB/dw/zJYOvgkKLD6aPCH+Tc5JEh46xupfLP5XgfPPiddMW1eJfzObKP/qjAmGe1YqQjMZciF3ZukAACAASURBVJqYwBiDDpV4aibd/gwTUvlq+bx4zXTNsGau2/Qyjpxy+6BzI+g48FqrOF2fqk27fyc7R3TMx47I4zFeMLNtSlvDXo+KjKXMPkWia8cMItCRgQh0MdK6dWswTRPefvttfmz//v1gmiaYpgnLli2rc81rr70GhmFAw4YNVapK4kOIQCchibBYE4WjWFchyafshDBsfenGH85vAnm5JuTlmrBrXfBfoBO8Q/Z4K2xbH/JyTehxYqNQ2Odls1a075w2N5IRnUH94Yc8t+q5fF4hNGAZkJdrwk3X5YUixlFDqjGTOH7cbDRZ/3vL9Xk8xkvmyP8Fuhtb3RLDXjdoMIylZA8+2PnLLXmezLbep2RCXq4JrVvVQ0GeU84lFnvWl/Fc6/fnNSHfRdC2px5szWP8+D9baddHdRxk5mZYxsOfL8jhMd72Hl4CXUQ7GPytw4clhTU100nH66mZsI+LsGPl/CI+h2+8OtdXG6KIx8TrVcRUFgkvsj+vuXUibhvTnMf4jRcKhNkuIx4q+3J6mMHpOi96q/btqSc2IgIdGYhAFyO9e/cG0zRh6tSptY4fffTRYJomXH/99XWuueKKK8AwDCgsLFSlJolPIQKdhCTC4vQN9HQrtgj2cCICnf5OiAaCxNUNeaaKYFP9IFAyUi4Iga4bUZ/zdgS431i78Zdqf3oZl3bHg/hCxPler/fbvtP9TtT8TEbOq4o5VsgYZ1FBlOwWTUoQ3Pk5LP3r1jtMvgraZ7J7UDrGIYqIYhyx2iST0E5swylX90OGisqnvZynug5WvRegG16Ic6+1r0rf6f4Geoepw6Hry2MJFnSYOpwIdAEyduxYMAwD/vznP9c6PmbMGP4r88mTJ8OPP/4Ie/fuhbvvvhsaNGgApmnCH/7wB01ak7gVItBJSCIsIgl0maQXQQ10xp2AJ+ayCtbYcdkEWrJrVBPoQchzTGtqFOe51w0DHeM2aD9ux1KQTTLRdmEZazLnpmwCnaBnvOjWIZVeWHXE4BsC+VOlzYlrf7KcWabudB/SC/J7eOGGNBdZe7pZI/zc71Pl9SKJbJ21sKzYq9YPw16dCpuJQMcHItDFyMqVK8EwDGjevDkcPHiQH//qq6+gefPm/FXuVhiGAVlZWbBp0yaNmpO4ESLQSUgiLNZEYcXLyV8bqzJBxJIsY9EjCFYtKIK5T7aFuU+2hf2fVwS2Mwo+iRpeebomvotny3n1s1eIHCNeCTsvRKFXPf0U8yII9NPYID6HNywtURoHmu/B/ZT4N7sNtY1vlfAYf7mhXJuusvtw0zeGMSdjU2/JnEI4lp0Kx7JTpW8OYvBhVOHk2wPbKvgcfnd+kXY9aUyIx7b3SnmMg3wfO6qxiIJdq1+L10z7ttjXTIk26yY0/OSyUYmXH7z6TE1837S8+lk1vJCbUY6TDNu++qicz+H1S4q12yCDvExWy2IcL0Fr4USbTmb9eIy/WF+G0maRY8jPeHOzzmPZ27X723OPtyYCHRmIQBcnU6dOhccffxx2795d6/h7770H5eXlYBhGLeTn58Nrr72mSVsSL0IEOglJhMWaKLRjnQMlVF6JLuwIs+5WDB6QzWO8Yy19A10FVI+drEwDGGPQuUOGdttV+jeon4MS4X6v87phsGROIZ/DIy9P/T0/TGsXJl2C6uP2HpdsfDgdH31VLo/xoueTb+p6bVvXvVlEvyr1TNyQFE2gd+vUEBhjYDBTKnlO0IPdH5bxOTyoX2Pf7WAfE9j1k4nJE/J5jCeNb0n+EwwMvjn/nHjN5PchiSBkiGpCIxkRF9YYpkJOE7OGIKl0VzPptCkM/sSG5fPiNdM1w5opj43onDtIviiC3A/ahgjyPNH+sSPyeIwXzGwrPaaiYpPqXNXzXXRNLLKtrh0ztBLo7acMhy7zxhIsaD+FCHQVcvjwYViwYAHce++9cOedd8Ls2bNh//79utUicSlEoJOQRFicCHQsoMIxOHQQ6LrIGUztqUKVUV2LQA/7Ro/Ip7BTnRs1Aj2sY1gknGKjY1Paix5eCPRk9ibb0HO72Wf3/6nIZT++SHaNjrg56Z1sbnrRL0agZ2QYqOeq7vkTVogi0KOKKIwhEQQ6ATdEEOjphDDO60QCXaYNQdsWpZssG1XF30s/qgj0oDrL3sewy9vdtiNy3InGkT3eCXQvsZAxpqO4Z0UEevqBCHQSktRCBDoJSYTFmigcy07VkqhhSAKjjFmPtYZbRzWHW0c1h283x18N7IcAiBqiYvsdf6uJ70N3tdKuC5ZYOW0kpCL7kv3NLxkYdKPg89WlfA4vfFbfKycxAPuctRsfiYSrHQm76PkCHuMtLjft3W4IidwM82K3iBir0DuZPW6Ic7c6PnJPK7h1VHO4bUxzITrK9IPTOJatR9hg9cn3n1XwOTzjkdbadcOIsI+htYuKeYxXLcD3mv4wAsMDU1Y893gbHuOvP5b7ORU3PokCsNlz57gWcOuo5mgegkmWh+jWIYzYviZeM4n8dbII38kiHb2OIbcPSvrdK3KqeUQR6G++EK+ZPl2p50EnFTmymzaD9Itl3tvpcedNzYlARwYi0MXI0qVLYenSpXDgwAHX1xw8eJBfR4JbiEAnIYmwWBOFHuwspUkhgeAEGm/hhgziTiY5p4pc9LtRoCN2BH0Ispmqi3COKpLNw6j4wu2DGAR98RARA79tiNbHLWFK446QzvA77/zMG1lzLQpzWKcNuvuOQvyiAtXzWsS1MshzEeNSdt4RdJ12q4Po87Bh+5pSvQT6E1dD57njCBa0f+JqItAFiGEYUK9ePdi4caPraz777DN+HQluIQKdhCTCYk0Utq8Jz6vqwpoMhh1OD1boLLR1PfEbFltk6KajuEvWvxe/hYVAVzFWsD3cILvNsCBxHIj2hWrfRvmBPJHzkMhEgl2sicjQ53u3fyMQZIPGn37YrcUUF0IMWOoyLGMUK4EexO+6H2rB3J5oPYhAxwci0MWIYRhgmqYvAt00TYmakYgQItBJSCIs1kRhysR8VAmVzoQPuw+84OaReXB6j0w4vUcmfLmh7usI/RQNUfKPKOj0Sf++WXB6j0z48wU56G21u1YlkZuMQJcZwyCbA++/UcznsMrX9OsmWkXrhGndSozzo/e24jFe83qxEHv8PlgSdt+KjpMo2y+5MAdyWUs4o3eWVh/7sUnlWAorvvqonM/hsSPyhLWbrv7EhiqjGl59pi2P8YvT2oQudtj0wajrLdfHa6bdH5alrR9E6KnqYVCvOPuMxnB6j0y46Lf+aiZZOosgPjHm7arx4ZJ4zfQAktf0Y/Cr6oezZRLokyfk8xi7/ZyKyrGKae1z6gfj3LXiwuomRKAjAxHoYsQPgb5582YwDAMaNGggUTMSEUIEOglJhMWaKIwf2xxlgqkDWPXyg8EDsnmMd6ytuxmExdaw6+GXvBWBrEwDGGPQuUOGVL+ILKxlxi5ZH8li4DaGQcaIn6fql8wp5HN45OW50vwXdWD45YCTDqOvyuUxPo718t2OV50Sx52ojRaZD8qEFU1YM2CMQUaGoV0XrzGWSaCLHhe6xtnuD8v4HB7Ur3GodFeFsNs3eUI+jzGW7ydHFbrGyvnnxGumrav0vplNxJqsk1DFOt9zmpjAGIMOlf5rJlH3S1WxU0X6Y8DyefGa6ZphzZT2jcEfyfJ4a84vqq536l8mgT52RB6PcZDv3IueY6lqNJl7TFFD144ZWgn0oydfA51euolgwdGTryECXYD4IdAXLlwIhmFAixYtJGpGIkKIQCchibDYEeiEaCEogZ6OSbtO+CEfVBDoMu3T9dCOWwLdD+mdSgcv7RCBLna86dDBC4G+6PmCpDbosEn2Lxhk26R7HFQZ1dCtU0NgjIHBTK26OPlDF4EeFRCBHn0704FAD2tsRAETgS4qNn7zVD9tyCLlRCKqBHoYfC/bB0f26CXQo4YgZLtqAh3j2E/mNzf7bxhtUgUi0PGBCHR/sn379lqIEeiLFi2q87dEbN68GebPnw/du3cH0zThtNNO020OSQohAp2EJMJiTRS2rCqNRKKWiqhINxzYVgH7ttTg53+38+VLgjdfqfZbLL4/bq1wpacb/UQ/la2qLxlxclPMy9T58K52PMYHt7dT7jOdUDkOdep/OhvMY3x4V/IY6yIzg7blZb7pjJmsMfDj1pr49mG/0a6T1/gkrnNRiItb293iv7vj6/SBbanvxViA5RdRYRhTh3bGY/zTjrr5dBhsCBtU+zRIzRQVuCHPne4HYZgDXmomL37CFLOowI9ddjUTdp2D9pFqDgapJ4LkCLJwcHu7OjWTF51l11Fu9iKtebWbNTfdsHlFiVYCvfLxEdDxxZsJFlQ+PoIIdB9immYtGIbBSXSvmDx5sm5zSFIIEegkJBEWa6KwfQ1+Al018UdIP0Rx/GC3CTOB7qWgj5qvooTEuMv2ox+y2Iv+qvRzq4Mb/UT7BBNEPOygIoZh6ItAIOgFzffoQWQOgX18YCH0g/StI19yyo2xx1uVf1T27yX+mGJmV2vJQGJ/sglxPz7wo5tInYOOPd1zZ/uaUiLQkYEIdH8SI8yDIDMzE2644QbdppC4ECLQSUgiLNZEYd0bxVoTJd3QnSjKwpZVpbB2UTGsXVRs+4uZqPpAF9Hp5ynioDqte7MmvpuWlYQmlrI2uEQ+dW69RjSB7kXP7z+r4HN45/t1P8OgG7o3LjARs17ne+zfu9aV8Rh//1mF5zZ1xlnmwwJYbPTTTuK68NHyEli7qBjeT/NcKypIHCs/7WjH5/Bn7+J69TNBDP6zqZzH+MsN5dr18QIs9xHs2GqpmXT8ehU7wjSOnHLzWM208a0S4f251UFVHHTn5zrww5Z4zbRjbVno7dKhv4i9C5kEek92No9xb3aOMDtl7RW52RtK1qfKMYBlviyeXUAEOjIQge5Ppk6dWguxX5/fdtttdf5mxbRp02DWrFnw1ltvwb59+3SbQeJSiEAnIYmwRO0b6MkSVNXEKRak+gZ6VCDiSeawAuM30FMVhyrnZiq9RIytoHokawP7N9BVPgCBrV1ReiT7BnpQ/f081COjfa8bvlhiJirOTVgzYIxBRoYROBaq18wwx0IVRHwDnYAb6fAN9KjA75qF+RvomPyEBW5JPOsx2d9At+s/nR4g1I10/QY6xlpaFoFu9w10GfaI8mmqOgnT3MOii+5voLd7bAR0mHMzwYJ2jxGBLkJiBPrGjRt1q0IiQYhAJyGJsESFQMeQ7GHdZA5KoGO0yc7vIqDbFr8ISqC7sV10EamLQJcx1mT3iZ1A9xp76rvu8VQEelBbsM83jDqJtqVbp4Z1CHRskL2JGGWIINDdkEG67UzUB5tOMpEuBHoUHmLyi3Qj0KMeZ1kEuhdf6qozvfYXlXHQnfVBRaBj8qsIXby0IYM8P7KnEspYBx7jbqynNv9Y75VBH5KROU68EPZYxisR6PhABLoYWbJkCSxZsgQOHDigWxUSCUIEOglJhMWaKDz3eGvtyVJUgCX5PLKnEh68sxUMG5oDw4bmwFcf+XvlJFbyRdaTzbrt8oor/9IUhg3NgVuuz0sZP11xwqaTbvu94OO3S/gcfu7xNtrtwe6vMOKFJ9rwGFs/xUCQBxnjLNnmeQU7BoYNzYHL/9Q0VDbJbDdK+HZzOZ/DD0SYXLWOiVREa9TGzfJ5hTzGi2cXateHIB6P3BOvmfZuFPuafow1hhdiJYyws2f4xc1g2NAcuOk6+5pJhg5hrzOxwm5/4hR2Jp/DMx/FsbclKu528zVZjS3qYSi/18vao5kzNV4znczO0B7fIH5MtzXBra03XNmMCHRkIAKdhCS1EIFOQhJhsSYK29eU+kpwMCdfhGhCFnGOeYNDpD6qbXNLoGPzOSZfR9E3UULimiFq08pNv27/LntdE912uox5THZi0iVd7cakCzYbdPgmCvFIJ2COF4baQnf/6QrsdSYmXdLd/iC6OD0Qo8K+ZA/S6dqX8XINBl+JHg+q7LHrK2i/29eUaiXQKx4dAe1n/z+CBRWPEoFOQpJKiEAnIYmwJCPQRSRgmAoSQjSgijyXsblB88GbL1QWmJjsTgeE1Q/YxqTXPjA8PINNV91kn5eHIHTCek8UuUlGCC9EjXECQSQwjzeduonIF1Q+lBcVqK41VYwNbAhLHqUqHrrzWrvrdO3H2D1UoKM2cXq4gWAPItDxgQh0EpLUQgQ6CUmExZoozNL0mitKIOVi4j9awtAhTWDokCa+X+GOBarJc11Fllf85YIcGDqkCYwZHp7vY8vwTVTXkk3LSvgcfuZhfa8j1L0hI3LzAdtYmfloaxg6pAm0YSWwYanzK9yxbqoFiaPuGInox83YHDsiD4YOaQJ/+l2OErtk+wkbAaAb33xSztfpf97aQpifVccVe7s6sWROIY/x688VaNdHF2THVifR8MAd8Zrpyw3hrpm8xC2Vz1OR6WHCsKE50IaVwA1Xiq+ZnPwku96UOTZ0t+31+k9WxGumJyflS7cPE1TE0e9YFbkP89zjbXiMP1hcHBp/Y67hsOGaYXpf4U4EOhHoJCR+hAh0EpIIizVRGD+2ufaEzZqcRzlRlGGfU1uDB2TzGO9YW6bd9iD26YRu+5MhK9MAxhh07pAhfTxhbh97nPzas2ROIZ/DIy8Pz0MSIuPlRN4Fibuu8WLX7+ircnmMFz0fTmImavNPNLp1agiMMcjIMMiXIYGXOOz+sIzP4UH9GmvXPV2gcq50ZN15jCelwXfuwwy/4+L8c+I109ZVyd/MFhVE4X7jxYacJiYwxqBDpbiaKZVuUao5sSHRX8vnxWuma4Y1s42FrL5V2KcbXnwo6oGSxHbGjsjjMV4wsy0KPyXqK0ofbO2o6r9rxwytBHr5o9fC0S/cQrCg/NFriUAnIUkhRKCTkERYnAj0IMQGAU9CW2VUeybQRegj2ibd5HmQQkjF/IgR6NmsaWB9aD7jgy4CPepjIYh9ojfgStnRtQj0qPs+iF+TnaPDb059Jh4PQqAn20jECq96hsUuJ4gi0MPiBwx6qs5XJ0/IT0sCHUOsVSGqBHrQGCa7J8nuWzRUEejWhzxV1p3pjlQEujUmunUNAt05log1xe+4tyPQvfaJKTYq4xYWEIGOD0Sgk5CkFiLQSUgiLNZEYf1S969AimoypzKhVuXDne+XwUfLS+Cj5SXw04526P0X9GllbCS6jDgntvnx2zXx3eJzsy+q8zksSDW29m2p4HP4i/XhfYtEKh/o1kFn3L/cUM5jvG9LBRo/694kx0SIB71+66pS+Gh5CXz8tvMr+nXarRtht/nQznZ8Dof5bT9hgsoxU2VUwzef1KzTJ7N+8PXH0Xq9N6EGu9apq5kwAEtdoxKfrAhWM3n1SVhrT6c23Lata5z8uLWCr9N7bGqmdCTPZbShk8C31kw/BKiZvNY4XuekinGGfSz71W/Fy4VEoCMDEegkJKmFCHQSkgiLNVHYvgb3k/aYklWZNtol5qqLHEzt6ybMRWxkYEGYdU9mQxTsirI9bmyMis0xOxLXirDap5tAx2KbrDawkRci21Y1HsI27gjRAI279ADFGTfCFp8w1J8YfCojF1FRP+r0nVPd4WVfye48J/+pGJd+2w6ikwi7wphLy9AliO7b15RqJdDLHr0WjnrhFoIFZUSgk5CkFCLQSUgiLNZEYfOK1L+KcpNwYknaMCaYOjbbv/u0AvZuLIe9G8vh8C7xv6ZQQc5jg07/2LUXi286/CIqHQj0RPy0ox2PcZAn7THFDQOBjmnc7NtSs073YgPR/+pN9L0+2YafjLwi2WaqzLHy9cflfB6r6E/3GNHhY534+d/xdfrbzdG/F+uGjvGy//MK6MUGwt6N5bD/c3H34rCP/ShBds2Uzkg2zlXOgf9sqonvaWyQVl+orkdFxCkMcKqZwm6X0xjyal+q87yOMbt8z2ut7qWfI3viNdPejeVwcDu+dTpqY01UDL1g/dJiItCRgQh0EpLUQgQ6CUmExekb6BgRhWRUhw1ev4Ee0xODv3UT5ao3Lfwi9g30zh3kfs9PVEx164ANTmMqdkzXN9CjPgZU6OHUR+Lx0Vfl1voGukxdg7TlZ/MkyMMTUdogDvIN9KggqnYd2VP3G+iqbY2yb7EgXb+Bnk6I2jfQseQOfq+Xsa6J/Aa6CP1k1qfJalas94ygeiX7Brrb/tyQzGHxp18/e7FH5TpTZVS7+ga6W2JftA1RGBsqkGpd0v0NdCLQiUAnIfEjRKCTkERY3BLofp5wxZhgymzfb9uybfZDoKvSzU3/WIHJf04Euo7NrlTtRIkQU6VzGAl03fFQMeZE+iQVgY4Ffh4gwuJ/EboF2VB0Q6Bj9pUKH4fZ/kQCXbc+6QDV44UI9OgjagQ6NogmsPy0FyPQG7Mm2v2RqK/OmjWov7HADYGugkjF5OfEcWD3oIWs/mX4M5FATxVP1XmoHXkfFajypW4CvfSR66Dy+VsJFpQ+ch0R6ALk4MGDMG3aNJg2bRrs3bs35fl79+7l5//8888KNCQJIkSgk5BEWKyJwvT787UnZbKTOt2JrI7+/zG6OfTvmwX9+2bBlxvsXyuq2y9OOmEHllj/pn9j6N83Cy67qKn2uKXyBcaxJso2WfhgcTGfw4/d10q7zTJsl7FZpKpfEZu+T0zM5zF+/41ibfGzbvokzlu/vnK6TvVaoHu8XvmXptC/bxYMTEKuit7sxuCrdMFXH5XzOXzL9Xna9SGIx2uzCniM5z1l/6s3VaA5Kgd3/C1eM+1Z7+2hY4I76CYvzzs7G/r3zYJhQ3N8961CT6+1qCiddMZHRPsblpZAc9Ya+vfNgofvxlMzifJNEB+lyjFFE79u2vFzzrT74zXTewuLfNuLJX4i95Sw2JtKx1R6/vl3OUSgIwMR6GLkhRdeAMMwoLCw0BUh/vPPP0NhYSGYpgnz5s1ToCFJECECnYQkwmJNFLavoSftVSePfv6mWgddxYducjwogU6wH0tux6MM/1LMogNMD7CIINAT/4bh/uDUZ2L/uh5+CAuidr+Iki1RB8UqehBNcBDSD17HDqZ8C4tPwq6T6AcideslQz+spKWXmjoM+WeQ9QWzfZh1CwO2rynVS6A/fB1UPncrwYLSh9UR6Nu3b4frrrsO2rdvD1lZWZCbmwsnnHAC3H333bB//36hfb377rtw2WWXQfv27aFJkybQuHFjKC8vh7POOgvuvfdeV78S9yK//e1vwTAMuO6661xfc/3114NhGDB06FChupCIFyLQSUgiLEEJ9LAlhpj0xaQLRugmx4OS6F4LQrvzMRXvQdp3ey3NCTwQFQs37VDc8fnASR+R5LnqNUv2Azo6bQtDH9jGOCF8CPsYErV+Yl53CemLsI4tVXqLfthShi7p8LCEFzuwPcyaTBcMD1epnEte9mRExd7Pw0eYxgmWGLtpgwh0fFBFoL/88svQtGlT3lcijj76aNiyZUvgfn766Se4+OKLwTAMx74YYzBnzhwBVsXlmGOOAdM04aWXXnJ9zdy5c8EwDOjSpYtQXUjECxHoJCQRFmuiMHd6G+UJFLaETqWeIomIZHjqwdZw49W5cOPVufDtZvtXuLvtX2VxppsYD0qgqxyTN4/MgxuvzoWJ/6BvckYRW1aV8jn8ytN6XxsbBqhaW4PolIj5M9ryGH+6UtzbYNxsACVbz/xusvr1gwp/2xHpsja5rG3ef3tLuPHqXBh3rfPrvTE9bIRh3lh1waSPHb7/rILP4ekPhO+TSNj9iwGrXyviMX7nVefXxrr1sdf5TjGSj2cejtdMX3/sXDOlC8I05tzWsbdcX1Mz/fPWFtp1FmUbhtwKCz5fHa+ZvH5qIwz2hTmmosjXbqwnlLL2UMrawynsTM8kelhsxQhVdv19TB4R6MiggkBft24dZGVlAWMMsrOz4bbbboMVK1bAG2+8AZdccgnvv3379rBv3z7f/Rw6dAj69+/P2+vZsyc89thjsHz5cli5ciXMmjULbrzxRqisrBROoDdt2hRM04S1a9e6vmbt2rVgGAY0b95cqC4k4oUIdBKSCIs1URg/trmnxEjlLyC8kLthg2y9Bw/I5jHesbbu9/xkxEKUX8IAkf7y69uszJonJzt3yNA+noPYGtY5LBtL5hTyOTzy8txAPk9nH6uYi36vG31VLo/xoucLAvfrZrPVbjxYj6UibUTkCrLHoxNZLrNPu/6rjGpowpoBYwwyMozA/gjzPA6D7n503P1hGZ/Dg2y+cx8Gu6MEGf6ePCGfx3jSeG8PLHq5/1J+5D/WQf10/jnxmmnrKvq0WTJfY4KXuq0eqw+MMehQ6b5mwmC37FwKu41usXxevGa6ZlizwDrI8Ivfe4HKnFlV+15rsyqjGspYBx7jbqyn570ZjL6Jmp5B9ejaMUMvgf7QSGj37N8JFpQ+NFJ6THr37g2MMahfvz6sWLGizt/vuusursMtt9ziu59x48bxdu65556k5x4+fNh3P3bSuHFjME0T3nnnHdfXrFy5EgzDgMzMTKG6kIgXItBJSCIsdgS66MRIRSKHJVmUqb/fDaJUBLoofUXHQDcxLopAVzE+dRPoYZ9/2P0gikDH5hNVJHUYxqcoAt2OAA8SFwy+87q55uYcHRui3To1TEmgY/Ythn4xjEcnpCLQ0zHOYYAX3wQh0GXoSnEVDyLQcSAxp0l23/Zat8UI9MasSZ3rU+lDUBP3IAhKoCfqobLmCLrGY7pHyMqzVRPoomoiu3ZStRfmdSeobdmsKRHoyCCbQF+1ahVv/9JLL7U958iRI9ChQ838z83N9UVub9myBRo0aACMMbjooouCqu1ZysvLwTRNeOyxx1xf89hjj4FhGFBcXCxRMxIRQgQ6CUmExZoovDvf2+sIvZK+OpM0r+1gTli96vb+G8Ww8NkCWPhsAez/vCI08dVNjPsl0HWMnUXP18R3xSveXymK497lTAAAIABJREFUGZjmoU5dvv64nM/hU1g/7b7ADlkbEsk2b4O29cmKEh7j/2zy99pYN2tUsnucl80d0T52e36qDW4nG7xsKoqY63ZtvPNqESx8tgBef877AxIyoWNtw7S2i8KBbRVwHOsJC58tgLWLirXrQxCPne+X8XV6+xoiV6OIDxbHa6Yft7qvmWRD1pqZipTWbbPbussLjmO9YOGzBbB8XmHgmg8LMOumWsdvPonXTB8tL1Guv+gaQ6TvVI4TGX3F5uEp7Ew4jvWE41hP6MUGapmnsvYM7eoY3X5X1a+1jbnT2xCBjgyyCfQbb7yRt79y5UrH8+644w5+3sKFCz33c8MNNwBjDAzDgK1btwZR2ZdceOGFYBgGnHjiia6v6d69O5imCeeff75EzUhECBHoJCQRFmuiIHozSHUCGwV4sQWT3TKLpDBAtO9kxhbrJpBqP6QDMPsPs25edPZCzGLwg92Gj3VNkLmu6fBBMnIgSJxV6pquIH8QCO6QbMOd5lG4QPGyz09k1W4q6710iW8qG8PiA5XkpWyfyCR5VcfEyzxNrHnc6C27Bkhce8IaiyB6uKnNtq8p1Uqglzw4Eipm/Z1gQcmDcgn0nj171rwdpnFj+Pnnnx3PW7FiBdfjpptu8txPeXk5MMbghBNO4MeOHDkCO3fuhK1bt8KBAwd86e9WXn31VTAMA0zThOHDh8Mvv/zieO4vv/wCw4cP5+e/+OKLUnUjCS5EoJOQRFj8EuhukyRMm85YEsyw66jSF2EBtvglK0xEFWwq9RZ1Pibdw6oPNjtF2SF7w0SVTV42LlP5IIj9MnwXtE0n20VukoZtzIQF5FeCbmDPnaJCWunwnYrYuM2/k/0dQwxl3dvDBL/+whA/0WPAjz90+iHoOomltlKxjojYMxDtL7fzMypzDRtU3C9j/yYCHR9kE+gtWrQAxhh07do16XnffPMN12PIkCGe+ti7dy+/dvjw4fD999/D1VdfDbm58U/p1a9fH3r16gUvv/xyEHOSSt++fTkp3r17d5g+fTps27YNDh06BIcOHYJt27bB9OnT4YQTTgDTNME0Tejdu7c0fUjECRHoJCQRFmuicNfN3r6BjiHRCpseTrqJ0M+JAPrtudmQ2ciAzEYG7HxfzDfQVcRB9waJrM0UGWjAMiCzkQEnHNvQkz+Tjb9Ux2XYjcGXGPV666VCPofHDA/XN9AxxUBkHFNt0njta9y1eTzGb77g/xXfqTaQEueu7rHtdy3x4ne3x/z062azLva3k7s3gsxGBjTNMYXpIyseKu9tWGwPip7sbD6Hqwdma9cHA6IS2xim/iufx/iRe1pp14cgHhdWN+Ex/ny1tzezqaglghBnWJCYg6hGBmsIJqsHTVgzpXVfGGKjMvaysOKVIj6Hr78i11X/ovXy0p6bHNXNuEtmm5trwzI+q4xqKGcdwWT1wGT14LiEb6DLiqkq23TroFM/a/snHNuQCHRksBLoq1atgp07dyaFFzl48CBve8CAASnPb9y4MTDG4KSTTvLUz5IlS3g/N9xwA1RUVPD/t8OIESM8te9Wvv76a+jcuTMn0ZPBMAzo0qULfP3111J0IRErRKCTkERYrInC+LFiCXQsm69Yk9EghY6XdgcPyOYx3rFWL4Hu1Y6wQPc4M1k9YIxB5w4Zrn1q9/9+4iI65rrHHRadrP0umVPI5/DIy9OTQMcMEWNk9FXxJ58XPR/sG9nJ9LHblBPdl9s27dbOoOup23VJxCaqVx27darZDMrIMKSMoUQfYFxPo4zdH5bxOTyoX2MpfVBM9aIj685jPGl8S+36yES6jrXzz4nXTFtXuSPQZdUVUYy97nqtyqiGeqx+zWtiWZNQxifsY0A2ls+L10zXDGuG2ode/Sz7fBU2B22zyqiGMtaBx7jb/wh0t7qIyP8J8tG1Y4ZWAr140vVQPvMfBAuKJ12flGxOhBex/jL8//7v/1Ke36pVK2CMQadOnTz1M3v2bN5Pw4Y1dfkpp5wCS5cuhQMHDsA333wDTz/9NLRp04af99BDD3nqw60cOHAArrnmGmjcuDEYhmGL7OxsuO6666S/Vp5EnBCBTkISYbEmCg/fJfbXFDIKh6jBj/1eN/hHXNoMunTMgC4dM2D3h/4IdB1x0r3BEmQTxWuMgvrqxG4NoUvHDBg8wNuv3vxuBKXLBpLKGCZrb/VrRXwO3/v/WijRgaAWE/7eErp0zIBs1hTeebWoVkztNo+8tp/sGqf5jOEe7mezMJktQfUNsnk5ZFA2dOmYAcd3cX5TiGyf0Tohz+d7N5bzdXr4xf437aMcIze5Azb7rfrMntIGsllT6NIxA2Y+2hqdrrLsDhuC6D7y8lw+j1O9tUtXjRHm+GCo15qy5pDNmkJL1lZKbMIwzqOMtYuK+Ry+6yb7mglDPGTn2MlqB5Vjx29fyebZ/bfHa6bl8wqV6ym77g96XRTWhnPObEwEOjLIJNB37NjBrxs6dGjK84uKioAxBhUVFZ76efLJJ2vpePzxx8PBgwfrnLd582b+K/eWLVtKJbC//fZbmD17NowbNw4uu+wyuOyyy2DcuHEwZ84c+O6776T1SyJHiEAnIYmw+P0GumyEJfFTvRmvu10d/sUOilf0gDEedjph1FOGf8NmJyZ9U23AY9LVjY6p5oFI0kHUxpRqHyfbNMWob9hB/k0vBJ1fYUFU7RLlmzDWGhjijqlW0xETFf4Vea1IfYO2Jdp3Yavh3faDYe0WPQ5V2onBfwT930AnAj05gS76Fe6qfoH+3HPP1SLQFyxY4HjuyJHxV9bPnTvXUz8k6StEoJOQRFiwEugiQYlweKFro0XXpla6j9Uw2q9yM0z1RmpYfJbYnoj2E/2u22cYodsvsjd7Rdmv208EAgZ4nQcY8ytdc5nWEDyIUs2RTv6TpU8QP4j0qZ+2ZY2nKIxTLEg1dtMlHqpsiIKvdNgoo03tBPoDo6B8xm0EC4ofGCUtJqq+gb5gwQLeT0ZGBhw6dMjx3Ndff52fO27cOE/9kKSvEIFOQhJhsSYKi54L9t1VAk7Mn9EWJo1vCZPGt4QftlQEakt1YaF7o0rHZpZdm6n6eeSeVjBpfEuY8UhrYf5WPU7ToWj1i13ryvgcFvWqOkJt6B5/K14p4jHesbbua2OTrQvJNk9l2uVnrXLblu54iNLJes2sx1rDpPEt4SGfn8tJ1b+fv2Pwc1Swb0sFn8OvPN1Wuz66EZWxZbVj07ISHuOT2K9tz43SRn9UYugFC2bGa6bvPq1dM+muN3Tl56LHlG48dl9NzfTMw63TOhYyYyzjfLfn/fuDeM20bG40a6ag+SB2pNJ/5fyamqk96wbb3nP+AZBTO2H3D8aYiMZDd7YkAh0ZZBLoAAAtWrQAxhh07do16XnffPMN12PIkCGe+ti4cSO/tqioKOm5H3/8MT/30ksv9dQPSfoKEegkJBEWa6IwfmzzSCRcuvvFAKvtgwdk8xjbETPY/ap7oyUMmydZmQYwxqBzhwwtMQrTeAobqoxqWDKnkM/hkZfnatcJK4KMJd3jcPRVufGH2Z739jCbVXeVduj2mWz9/doXuy4xLt06NfzfE++GdtsJ4rH7wzI+hwf1a6xdH2wI83oR033yhHwe40njW5IPI4jzz4nXTFtXxYkZ3bUG1vrDDXT5xOmceqw+MMagQ2VGYP10+zaZv1OdI7N/v+fb5U9e21o+L14zXTOsmTY/uLVbhA5Yx6IsjB2RF38F88zaDyy69UW6+x277l07ZhCBjgyyCfSePXsCYwwaN24MP//8s+N5K1as4HrcdNNNnvo4fPgwNGjQABhj0LZt26TnWsn2K664wlM/AABLly7lcDruByS4hQh0EpIIi0wCPejmc9ghI4H34xvRBLrKGOnenArLxkkigU7wP95062CnBxHoanyeLP5uxkaQ8eOGQLfbZBTRt2p7na7DMv+86G+ns5MdmAl0bPe0MIII9OghcU50ZN21EugE+bAj0HXXGmGoQ5yg0x9O58QI9MasiRA9dfvYaoPK64PkcsmuTebX2PFkf+/O+rgm0LHFS1QMVOutuo9kBLrX9kXEAYvvsertB7oJ9KL7R0HZM7cRLCi6Xy6BPmbMGN7+ypUrHc+74447+Hmvvfaa53569eoFjDGoV68e/Pjjj47nzZ07l/dz++23e+7HMAwwTRPq1atne9wPEtsiwSdEoJOQRFisicLi2d5f4Y6teAwTvJI1fo+98UIBPDExH56YmB/4Fe46fYURun0S+/f0B2riO2dqG+2xchqX2IFZ590flvE5/O78Iu36YIXIGMocD3Ztr36tiMd41zoxDzoFscPLdXab1n7a9qOr7M1GERvSsTa6slPgiYn5MPVf+Upi6TXHSNRXpB/SAT9ureBz+HVJn0RK9ziotN+OqDmFnQkdWXd4YmI+bFpWgkLPsPsZG9601Ezff1ahvc4IQz2Saiyp9IGb8zqxE6Ej6w5d2MlC9IzKvPKTMwSxUWQuaL12z/oyvk6fwE5HFQ+ZOTmW8WXVI2gsnf723sKamqkj6w4733eumUT7RJaPU7Wbaq7ImJ+qbUw854mJ+USgI4NsAv3dd99N+cr0I0eOQIcOHYAxBs2aNYPDhw977mfixIm8n6efftrxvIsuuoift2zZMs/9GIbByXK7436Q2BYJPiECnYQkwmJNFLavcf6GULJEJyzJaRQhoqAKg791b0wl2zAJg/8IhHSAjLkoos3ENmRtKKnyiZs+RGzE6rZBpL5OuVKQ+zOmew8mXQjhQNB1UOaYw7hGRRlY/ae7zvBbl8jwQRh86KdPUXrqHqsq5oKMc0VeK6Md3T4W4XcRYzToPTGZbrr9jiHOsv0Say9M/t6+plQvgf6vUVD29G0EC4r+JZdAB4i/xr1+/fqwYsWKOn+/6667uA4333xznb8vXryY//2Pf/yjbR/79u2DVq1aAWMMSkpK4IsvvrBtp169esAYg06dOsEvv/zi2ZYlS5ZwOB33AxLcQgQ6CUmExQ+BHiSZD1PiRsAF3RtTQTZLaNwTEhHGYlann8IMETYkbvSKaDfZ9ao323T3K6Ndu/zH7v6hY4zrnle6+ycQvMIPAUDjPHwQSapirk1UjE2ddnu9TmVNqMr/YYNTHGX7NayxCPu9R6aOdjWTiP7d5O8q6hC3fWCoN/z6lgh0fFBBoK9duxYyMzOBMQbZ2dlw++23wzvvvANvvvkmDBs2jPd/1FFHwQ8//FDnejcEOgDAzJkzwTBqPoFZVFQEkyZNgtWrV8OyZcvgxhtv5DrUr18fli9fLsVWkmgKEegkJBEWa6LwQIDv+YlMTjElb1gQRK8r/twUKssbQGV5A9j9ob9XA2Pxi+6NKb8bJbJ93aVjBlSWN4ABv6bvrmKAmxh6ifO784v4HB4/trl2+8IAXfckv+3ffXMLHuO3Xy5MqT+WNdmvH/xuiuqyW8QmbkvWFirLG0BjlqNcH4J8fLmhnM/hv/6xadrFUocdqjbgY3ju8TY8xk892NqVHlGJr4pYqsixU6GItYPK8gaQxbKhBxugvd7AVqP4jalqm63HEs9twppBFsuG5iw/cj5PFQ+VbSXGwE+bfnR+b2G8ZrptTPOk7YjOVUW240dnVWMxsR+/Onlpx4p/3hqvmd56qVBJDGWPj2S+iP3bbX9B9cKwpp3ZJ5MIdGRQQaAD1Hx7PCcnh/eViKOOOgo+/fRT22vdEugAAA888ABkZGQ49pOdnQ0vvviibzvOPfdcGDx4sLLxS4JDiEAnIYmwWBMFLMSM32RaRPKnI2GUmQxXGdUweEA2j/GOtWUokuIgvsIAFfH2cl1WZs0TlJ07ZGiPEbYxoVIPt3/3qteSOYV8Do+8PFe7z7FD9SahCIy+KpfHeNHzdb+f7HXzJKxItmEo23bR9+LE87p1agiMMTCYGWg9iBKiZPvuD8v4HB7Ujx5mUwEnwkVknmb99+QJ8W9yTnL50DHGMa6yPnK6d8mKXVCb8lk83zqV9ddeb+ioU0T6V6e9TufWY/WBMQaNWRPh+ur2udfxLvNar9c4rQle++3O+vA5XMzE6CdKN5n9uVljRegiol23bTidN3ZEHo/xgplthfYZxOcibE22niU7V/b8Vr2+de0YJzZ1EOiFE2+A0qduJ1hQOPEGZTHZtm0bjBgxAo466ijIysqCZs2aQffu3eHOO++E/fv3O17nhUAHANiwYQNcdtll0K5dO8jMzITs7Gzo0qULjBo1Cnbv3h3Ihtg3yzdu3FjneL169eocJ4mGEIFOQhJhsSYK993SQlrSpbO9sPQtS68/nN8E8nJNyMs1Ydc6f79AF6G/yEIujJtSMjdXCtvWh7xcE3qc2Ej7WFU5nsK4qeVHl+XzCvkcvum6PO02YETYY3zL9Xk8xkvm1P01hXUc+93QUekjvxtuQXVUZaOfzabep2RCXq4JrVvVC5WtBHfYs76Mz+Hfn9dEuz4EMbDOs6cebM1j/Pg/W2nXjSAef74gBxqwDGjAMqAHO0t7zaGjXjmyRxxJptNOp/MbsSxowDLgpOPr1kyy/O0nZxANtzmkKN28XiPK/pXzi/g6fePVzg8dY8oXU53vpQ2ZdokaB0HrlNvGNIe8XBMasAx444W6Dx2naiuIj/zWN7L8LWK9x4SYLaee2IgIdGRQSaBHQWIE+oYNG2yPE4EeTSECnYQkwuLnG+hRhqgENEiRqkvnsPk3bJtRomMVpriLHkO64ocpTukafwx+1LFZInL9wbzZgkEvkZtuIjbVw+5PQnohqmMuqnap8ptdXWR3L9J9f9JVX2CrW0TlHMn0km1jEL/40VvkfJE5F1XOJZX6qbTPbV+6czwZ/YuIq1//ifK77rVRdBy86OR2/VNpt13bur+BTgQ6EehBJScnB0zThDfeeKPWcSLQoy1EoJOQRFiIQJeTHIpOZP3qhiXJlxkvLJtQIn1NsZYXa5X6irBTt9/DBl0+kz1ng4wnv22oWPtSbX7riCWBEAQ0bqMFuheL9ydm/6qsK7DULyp9KcvXXmOZ7Hy3+juNaYL/8RLEr05jzG28RMUx1o7sukBlLGS1bzffROqpKtY64mf1oc61XlTfiW2gINCfvJ1gARHo3uTEE08E0zRh0KBBsG/fPn48RqBv2rRJo3YksoQIdBKSCIs1UVjxct3XxgZJWtMZQXzjpxhwOlZlVMOqBUUw98m2MPfJtrD/8wqltqhoN6obT17wytM18V0829scDgvSJaZO+v5nUzmfwxuWltQ6X7fO2ODFJ5j8t/GtEh7jXmygMv+I2FzyskHpV1cVsZKxoWb995I5hTD3ybZwLDsVlb4EMTiwrYLP4XfnF2nXByPCNGYTN/irjGrY9l4pj/HWVeF46FgVEeLmPFn3CpE4kfWFY9mpcCw7Ffqw30ivMVRBx9ix08H6X9k2Op3XjfWAuU+2hTcdXv3sduyKHMPY5oFI/dxcK9L+rz6K10zrlxQLi6GqGCXOFT+6YBhPbtceP3ZuWlbC8+kv1pelrGVUz1Ed/scQc5H6PPd4ayLQkYEIdG8yYcIETpY3aNAACgsLoaysjB+L/b8XlJeX6zaLJIUQgU5CEmGxJgrjxzbXnmyFOdET0ZaXjSi35w0ekM1jvGOtnm+gq4ofhg0nHcjKNIAxBp07ZGjXheIq3tbj2Wl8Do+83Pl7fgTv/sbS3uircnmMFz3vblNXhc5+54zXDTEM81K2Dt06NQTGGGRkGNptDTomdOuIEbs/LONzeFC/xtr1wYYwjBurjnb6dmTdeYwnjW+pXV/sSCRLE/+Gba2pMqohnxXyGJ/K+kvJQXVBR/zt+ldpn9159Vh9YIxBh8pgNZMXn7od/7LiFLTdMK3fy+fF5/A1w5o5+j9MtoUdItZ66zljR+TxGHdjPVHYIOtaWe2Lvv+KPr9rxwwi0JGBCHRvcuTIERgyZAgYhiEMpmnqNoskhRCBTkISYbEmCu1YZ1TJoOokE5s9ovRJJNCx2SnDb2HbZAqKoAQ6ZpujspEYxFaZBDpmf4QFIvwnikAXtUma+F+ReshoE2PME8+xEuiYbAkbsPqOCHT1cU22TskYJ5Mn5EeKQNe9qY8t/6gyok2g6/C1U9+q7bOe45VAt7aLbcymC+zGj1OM7Qh07HBjHwb93Orl9Z7s1V4rgb5gZlvt/gliO8Eeugn0ggmjoWT6HQQLCiaMJgLdh6xYsQJuvfVWuPTSS+Giiy7iRPhvfvMbuOiiizyDBLcQgU5CEmGxJgqvPN3GUzIYVkTJFif7rDbOeqw13DqqOdw6qjl8u7lcu34q44B5U0mkD+74W018H7qrVWhtCBo/7JuIQeztwc6CcnYMlLNjYOGz6n6dHEZgjW0qLHq+gK/TW3y8Glik3X7aCqvf/ejvd6PzkXtawa2jmkMF66RN96jHUSe+/6yCz+EZj7TWrk/Y4GeDPshmvh+sXVTMY7xqgbjX9GOcd7J1wpiLVRnV0IWdzPOt09ggqXmoLuj2szX+Km2LndOOdYZydkwkHoJJNyTG2S7m29eU8nUaG7kaxGY3c9fNHAjqc7fXePmb0/lOx998IV4zfbqy1HP+4NcW1eun6HhiWf/d6HXnTc2JQEcGItDFSIxA37hxo25VSCQIEegkJBEWa6KwfY3zpr3MxJSgLhml+Mnzrcx20zFu6bCB6MfudB4Tbv2X7P9l9uX3fC/tiLYncUypGldh3vTxO8ZkjE2n3AyTvwgEVeuwrFol3XIz2fcCp1zGi59lESXpAJFzAJuvvfTrdcyp8EsU4cfHOvNi3Ui2Jsq2VdVa61cvUWNGle+CthG0Td0+CYLta0qJQEcGItDFCBHo0RYi0ElIIixuCfSwJ2HYE0wvBYGf5DpxY0G1vbI348IK0Ru/UfIx1k1E3Xbr1Eu3b9zo4VVP2eeL9qGoODitNyLWIWx+F90HlrngpAsm/QiEI3vcESh+xq3Kse53rmGdj8lyClH3gVR9uCUzVfojXSBi/GP0d9BxSRA/r2RdTzH05jts/gp6/3drt06fezlP9rqMLf6poJ1A/+doKJl2B8GCgn8SgU5CkkqIQCchibBYE4UpE/Mjk3TJTCBl+CLIJlyqAuTmkXlweo9MOL1HJny5Ac8r3An+x0Ii+vfNgtN7ZMKfL8jx3QYmYN1A1GX/r1gV5LKWkMtawkN3tZKqO3bfuNFf5HmJ54vyTeK6/ei9rfg6veb1YnT+0h1TTHr63eS65MIcOL1HJpzROyt0MQgjVPv1q4/K+RweOyJPu/0YECS31TkenDa3u7EePMZd2SnKbRDtj2R1hQibUrVhd1/V5cuYzeWsI8+3erKzleWjOuBmbMiKhyqb7I6dfUZjOL1HJlz02xxhtog4R2R/6YREf3y4pJiv0w+E6DX9MuqLMCLV2nRkTyV0ZN15jGOfU5GxZsmqKa3XYcmBsNVaF1Y3IQIdGYhAJyFJLUSgk5BEWKyJwvixzV0lXjqTK0yJXRj0OrKnEgYPyOYx3rG2LKkNmO2IOhJ97yUeWZkGMMagc4cMx/a89K3bD7o3DzHAqufx7DQ+h0denqtdt6B2Yejfjx5ex42Xc0dflctjvOh55+/ci/ZfkPa8XquyL5l9+NWlW6eGwBiDjAxDui0E9dj9YRmfw4P6NVbat+51NR3sqTKqYfKEfB7jSeNb2hKNmPMLu/ufbH2dSM3EfhP9p9qPsf7yWSGP8amsv9KcVDX8jhk3MXbrbx025TQxgTEGHSozPOvtxn4nPWSOaZHtqpp3Ivqxa2P5vPgcvmZYMyW2qILTuunWP073AF1jwO/4GDsij8fY6Tv3XnyDwV4ZfvLSBjYfdO2YQQQ6MhCBTkKSWohAJyGJsKQi0L0m6mFIEmW0F7Qdv5sPidfateOGQNe1YRU2YN34sCPQMcCvXZg2D3X7r8qIBoGuY4NGZYyD9uWWQMcOVWukzs1iv30TgR5t6CTQMUL1+iuzv1jbVgK9PevmaCvm/CIxB1Khq0pCLmjemU4EuhtfyYiddezpyOsTCXS7a5O1pSOflRkj3euX6LVIJYGuKucVETPM9yWvOrsh0LHDa4x16KAT+gn0MVAybTzBgoJ/jiEC3YP06dMH+vTpA6effrrtcT9IbIsEnxCBTkISYbEmCltWOX8DHQvhhEGHVHrJ3Iz3U7Qf2FYB+7bU4Od/t0saX6z+TTd4HU+x+P64tUK77iLsxbJxiAWHd7XjMT643X4O64hVWCBzA1hUHwe3x2N8eFc7T2t9kPtPWPytow/R+HFr/F6s0q4w+iqM+O/u+Bw+sC2c9+Kwwe5+7vX+7oV4OLQzHuOfdrSr83fsuYVVv1Q+U2WHaJ/5bSumx+nsXOjDfgN92G+gLztPaU6qCzrHog6bwl4zyZ5DYYGTzZhqJmwxVT1OZPVnrZli67TumOmAjHGCxZebV5QQgY4MRKB7E8MwwDAMME2zznHTNPnf3SB2fmJbJPiECHQSkgiLNVHYvsaZQMeaXGGByo2mqMfCDUkUZftV24XNf1HfNCToHVt2/w7alix93PaReJ7ODXEZ16bbXE03ewkEP7C7j8uaO17adXOujjlu9ZddHhQFsiaIfjoJbN3wG8Og4wejbUFsCmPuhcUGkfrptkFV/7JybkwQce+VfZ8LK7DUjk7YvqZUL4F+3xgomTqeYEHBfUSge5HTTjsNevfuDb1793Y87gckuIUIdBKSCIs1UVj3RrH2ZClVgiciucOWIAbVPVXBcCrrD2sXFcPaRcW1fjGj0i9h9jmmWDth3ZvF8CtWBZuWlWjXO2i8sWwaYsL3n1XwObzzffvPMGCCW9+GKQay0ZMN4DH+/rO6v4pyszGkO56J11B8a+Oj5SWwdlExvI801xI9BtINP+1ox+fwZ++6fyAVo/+jQATJ6Pc/m8p5jL/cUC6kP9k2J/bllAfJ0CNM945Yv6ey/vArVgW/YlVwOhusNCf2LwY6AAAgAElEQVTVCR0x12XXujdr5vDGt7zVTIntYbkvJtMjlY6xv2OxRQR+2BKvmZw+XUfQC6/rROKxf39QxmP83f9n78vjrKiu/G8V8qCbppvuptm66RUQOggiYtzQoJ0Yg1tM42/iDDNxCZkYNwQjYouCG7gziBEV4zaKojKKUTSoGAEVZRFFVARtRIwx0XHBLeL5/cG8etWPWm5V3eXceud8Pt8PTb2qe892b517v/VebYr/SxJR74FY7pMm9RcXzzxUTQQ6MhCBTkISLkSgk5CkWMLega4aXkWdKYWeSJtFXs/zDnQT7S4E8PrI6x3oMjZGeTdakvRn2mahCixblHufn6nvQJcN02Kaj/x3oGOyR+cGu+44i9xcNvkd6JjyESvoHehioCrX4vTjfgf63JlVnu1hGytetaD7X1n6iljbRG0jbp/u2rDQ3oEuKgfixkuHbfnvQDcZXvMOtjkojj1JoPId6EnsMyFOMnQU4YM470BXsY7JP25CjLFC+zvQiUAnAp2EJIYQgU5CkmKJQ6DrLAbTWIgm2fDhud5NoB/MxkrdMEsLdPknbr9eBLqsPnnOT+I/UzYLVUIHgW6aj7z0TTq3yvad+zzMBHpW17ibXiKukxEnVfmQRVwCXfYGJkGMr6IQ6OR/M30RRKDHtUfkfSrq/Cq7HlIZW1F1Z6ES6DrGoS7bTCDQeesfkTVVWuAm0GuZfn1MjQ8Gffx0iEqgR71fxlnHYYaJ6wjtBPo150PdH2cSXKi+hgh0EpIwIQKdhCTF4i4UFt7aR2mhFKe9/GtE6aSzAJbd942zesGE8aUwYXwp/H1j/J+cTDPcGxGyckxGDmSvO/2UMpgwvhSmn1uBQkdRG5lp2ihMgjdW1DljeOGtfdHmIza47cBok1unB2/r68T49efqUOor0t5CxCXnVcKE8aVw2kllKH1X6PFJik/eanTG8A0+5GqhAltuxdVn+eIaJ8bPPFSj3Y4wW7xItqB6l9c3vDVz0rjz1Gsi+nPXhkPYSKhmjVDNGuEQdrRSkhcDVOeuDtvOPLUHTBhfCtMmVYTqonrMymwjaKxisUsENr1Q78zTC24O3tuSBZNrtihzblLd4tqw6Pbcmum1Z3d/FYOuuUxlnxhyRSbOO70HEejIQAS6GLEsCzp16gQbNmzgvubtt992riPBLUSgk5CkWNyFQvvqes8iC9MCy8QCUAbID+ZD5AJVx0Ixqe5B16Ztg1B3rqVN3zgbMxjtwqgTNuSP2ULzWZC9Xp9h3vAnFK4/MdobVycstiStaaLOLX7HZdSDXrWtKNLGzwaC2vpYp21YfSLStzLOJVA8RekvWk/Zdou6/6jSK+q9EyPaV9cTgY4MRKCLEcuywLbtWAS6bdsSNSMRIUSgk5CkWLwIdFkFl6kFXJqQhoI6jcjGIv/fsBjq1FVm+2nZIDQJpvslTH/T7dMN8h8+8GycifqMQEgKVflVSHksq6YJajesTxVkiYzY6yB0sUJ1/mKHjHwTkd8i+g9rw/15Ic2tsvypu18VORP1HFk+i5LbMuKLZeyontNFtaWdQL/6fKi7bRbBheqriUAXIXEI9E2bNtE30A0RItBJSFIs7kLhPtfPXGFZJMlYLGIrGmXbNPvSKhg/rjuMH9edfsLdAMRZcJ1yYimMH9cdzj+zHPUY4bU/DRuDUeIXhtefq3PG8D036fk5QmzQkecy+1xwcx/oy3bFGcPPEcruP2p7XuNXtk9Et982sQLGj+sOJ/2yNFKfInylwi+6c1Q3Pn6z0Zmnr5vRU7s+GGBCTkTJ52WLapwY/3lhtRF+ENl3WE2lY94RbduebAT0ZXXQl9UV5E+4i1zLhrWly75q1gh9WR3Usz2l+UN2PouqFXg/M2Euz+LNlbk1011ze2vXR1YO8PaBPXZx9Ft4a18nxq88U4tab+z+x4qzJ2j+CXci0IlAlyRxCPQXXngBLMuC0tJSiZqRiBAi0ElIUizuQmFmW6WQYk/XtQRvHD+2xInx1jUN2vUhhCPqxkVxkQWMMdhrSEapXrL6wLYxqNtXyxbVOGN48mnlifyqyn7skOELd5tR259yRrkT46UPVEvTUVS7Se/zUa73O9e0fB4xtAswxiCTsRL5N/sZDzmh2+ZCwvb1Dc4YPuaIbtr0oLjLw/zrezsxnhvxPfei4qIjvvlzTtgcZGK9kdW5N8vVWwexI7WRvLohO1d12taJ7QGMMejGukv1hah7tKx4uP9v2ngNwvLFuTF89oQeyvwbNyb5eZamWPD6IOo1bRMrnBgvWdBPuw2FFreotsaZT0tYGRHoyEAEuhjJEuivv/461/lffPEF/Ou//itYlgUjRoyQrB1JUiECnYQkxeJFoActsEwq1jBBp+5eBLrJvkwD4iw8gj5TRaCr9A/WDUEdSEKgm2x30hzSrUMUqCTQVcZA5ma8af6JQqCLsM/0ec80YCHQCfKQhECPC53j2GvOdevjpZepc07WLiLQ+fMtKA+i+Fw1VBHouvNZVtywIyqBrsLnqv2d1thmIZpA5xkvpsZHRF865ozhzRmtBHq/q86H2vmzCC70u4oI9DjS0NDQAVkCvaamZrfP8tGvXz/YY489wLZtsG0bpk2bptsckhAhAp2EJMXiLhT2Zz/RUtgFFXmYFiMmwMsf761tgI3L62Dj8jr4eusA7ToWKpLkati1b6zYFd/Nq+q12ynKV7o2BDHmwuebm5wx/NdXg39FQsciF5NvMekcZRP6w9canRh/vrlJu3+S2Jw/3kRu3mCJbRzdt6yqh43L6+CNFbv/RH/YtX426bZVd/+Y9PvmvQHOGC70X/vhuedizx0vfPxmbp7+xxvqXomEyVf5c3xU3TDZ4mXXaDYWDmBHwAHsCDiMHa+N5MUAmXms064D2U/hAHZEpAckVOWgqHN52lJpm0p8sSW3ZvogZM2EKaai+ovbpyxdZbTrXjONYcfF1iWJr3h8nT/nYcgR2fCyOU5erny0hgh0ZCACPZ5YliUEBxxwAHzxxRe6zSEJESLQSUhSLO5CoX11fWoXU4WGqDGkmOOJUdLFndf5psXXhI3AKDEl4PS96NzA2lZadArqX7duXvrw6iRbd9Ht82wIEtIBkYRO3HMJuPyVP7eFzcumrCt1ErpYISIng9Y6pkB3Xspsl6d9DH4wDfn+wuBD3f376ZJ0rAXNMUl8L8pfUdrBFKN8H8a9Jq7v21fXE4GODESgx5Nf/epXHZD9Bvpxxx2322dunHTSSfDb3/4WZsyYAUuXLoXvv/9etykkHEIEOglJisVdKLy1kv9bUQRz8L+bmuBvGxrhbxsa4dtt9A10zIi6yMien41v0DeisC3KeGxLw+aXCP9/vXWAE+Mx7Dg0NsmyV0d/SRb6IvD55tw8Tb8U4h2fsE0y7PjHG41OjFX6zTQ/mYp/vp+bpz95S12MsQDT/VYWdryTm6d3vLP7L4Wk3f78OHvZ6zXneNVj2HyV1e9H7Fg4hB0Nh7Cj4XD2C+3krU6o8LcOHMqOgUPY0XAoOwaVT6L4TrcOmOFeM32m4BedguKhKlaY8jOpz3jgXjN91Z6+NZNJsfTTP6kNrz5bq5dAv/J8qL11FsGFflcSgS5CsgT6hg0bdKtCIkGIQCchSbF4vQPdlCJPZL+mF6pBNnm9A52QLvi9A930vMa+AajK10negZ4W6MhlEX3ytuH1DnSMiLpRKHJjMf987PNbvn7dWY8O70AXNUfxthN0nvt4Ej9jIxpUgt6Bnn5EfQd6WsdB/nzhHvP54z/ovoDJP1m96R3oyedw3mvzc0YVor4DXfY9TeU4wDTmZOmq8h3oQToGzX0YY2lSjsd9B3qYHn73MV12h91LdYH3Hp+kbe3vQCcCnQh0SXLxxRfDxRdfDB999JFuVUgkCBHoJCQpFhEEuoxiLA3AYg8R6OYjbIHuR6DzXI8dqjf+MIIIdL48ifNZnPNkIIxAj6Obanvy+5M1FqO2iWU+yCfQRfqDdwMLiy/SCCLQ048gAl3V2MIwr7v/zp9//I7lf57/t25kdSECnb+WFhk7lTZhI9B1jGvsSFK/qCTQo+gneryIOEe0XqoQhUB332+i+FfkuDfFx5j0JAIdH4hAJyEJFyLQSUhSLO5C4c45vbUXS2mHjsL00imVcOThxXDk4cXw4WuF97OiaYU7l6pYPzjy8GL47a/KIl9rAkRu+JmIV56pdcbwLdf20q6Pyri7/1XVn2pbWqxWuG12bzjy8GKoZH1g7VO12n2PzX9pwOmnlMGRhxfD0THJVVGbs2neVNVpw983Njrz9PRzK7TbnkYf68YINtqZp/dmB3Wwv5D84I590voLk99arFYYwIZCJesDlawPHMKO0k5g60acXBCVS7LQi1VDJesD1awxsS8w5a9JY02mvq89W+fci2+6KvmaKeo4wOoX3cjXO4kdd8zp7cT45Sf7J/KZzLGNLXdkxVLG9Sf/slQvgT5rKtTeciXBhX6zphKBTkISIkSgk5CkWNyFQvvqenQFVtr0IBCSoNDzWMQmH0akwQYZPpFxrkw9dOtKKGzI3OTPXk/5S8AOnhyNk8dh1+gaG7rHpLt/9zzBW5/p1j9fF4KY2jrqtbrtlOUHLPmMcbylDeRbnPAbw0FjW1Qso4w9U/JHts+yaF9dTwQ6MhCBLl527twJr776Kjz88MNw9913wx133BEKEtxCBDoJSYolKYFuerFX6LoQ9CLppoYJmyJY9cKsH0ad0oYoGxkUD4JJ8Nso5DlGIBB2h+lEWlx7RfjLJJ/pJmmxQqa/TfG7qvzTkfNx4qV7rGLSw083zPrpjBMGvyS9v+nWP6qeonT2akeWL3UT6NWzpkLdzVcSXKgmAl2YfPnllzB16lSoqqoC27a50alTJ92qk4QIEegkJCkWd6HwyJ190RWHWPQwGXff2AemnlUOU88qh0/eop9wx4Q4ixuv8y6aXAFTzyqH2ZdWCdFLpp2E6H7bvKreGcN/+u/gd72lDUG5o2JjVxUev7cf1LPBMPWsctj0gvhfg1Flb5zNWN5zTJ9H5lxeBVPPKocLz5H/895hG5Z+m2Be/k5ybyokfPp2kzNP33kDvRIpCTDlkptE248dDlPPKod6NhhGscN2Gy+Y9BZhb9I2dNsSR++h7IdQzwZDPRsMh7JjtBO3GKAy51SgkTVDPRsMg9hw5faLaA/D2MJcm73zUm7NtPhuNWsmbD5Iu31P3FftxPjNlXXKbdJ1rch4RtEje27QNXHsCrqmif2ACHRkIAJdjHz55Zew//77g23bYFlWJNi2rVt9khAhAp2EJMXiLhRmtlWiKu5kFIu6dRCtC087x48tcWK8dU0DKj8Q4j3Rn39ucZEFjDHYa0hGuz26/Kf6WpVYtqjGGcOTTyvXrg+W2EaNX9x4q8iTKWeUOzFe+kC1VB1k2oNlsxnj2B4xtAswxiCTsZT5JGiTLP+z/PNEb4aZCl6btq9vcMbwMTHfc69aZ0I0n82/vrcT48FsRGA7mAmmMD+YpK9o9Ga5eusgdqR28hoDVOWcKnRiewBjDLqx7srtTst9FaNOWSxfnBvDZ0/oURA264y312dRz4+KtokVToyXLPB+SELV3BX0WZgOInVM0hem3M7qMrw5QwQ6MhCBLkYuu+wyhxDfa6+9YN68efDyyy/Dli1b4N133w0FCW4hAp2EJMWSdgI9LXYksTOfQE/io0Lxp2ngJdBNi59p+spCXAJd9SZo0jhH1THp+Zh8Ekagy/a9jrZkno8ptlmIItCxxZ2wC5gIdBPhzkkd+cnTp5tAnzuT7xd/TB1rOu8NOkEEOhHoqvLVqx+TxgpGtFit0gh005DmOZyHQDfNx6LbDlrz8rTNc35cHXmu006gz5wKdfOuJLhQPZMIdBEybNgwsCwLDjroIPjmm290q0MiWIhAJyFJsbgLhRcf76+tAC1EqFrYrH2qFp68vxqevL8adrzTpEU/glgf51+39IFd8V35JxrDpoEnB/7xRqMzht9YEe+n6tKErM/y/9UZoyjXeH325so6J8Yfvd6YuH+ZtvHERHTfYeeacL96/rH+8OT91fDnheoekMCQG2nRMYxg+fLdJmcMr1laq903aYNKIi+/z+zx0WysE+P21fXcOqkk5UzxNVbsz34M+7DRsA8bDWPYz7WT1xggM1902LMPOwT2YaNhXzYmts2ix5lpc0QcG1Xh4zdza6aNy+t200dWnYoZOnJaJt56Prdm+tsGfa8nFGVvfjuy/Rh3vvGqj2T57JE7+xKBjgxEoIuRbt26gW3b8PDDD+tWhUSCEIFOQpJicRcK7avjv3fVlAWGKXpig+wimSDfj5hi4bcAw6SjSbFV0Y9KPXn7yp5XiHmDDUk3YmTqQfmhLx6mAgsxZTqw2ujl/6RkYdC17rZF+yRt9aFu6CB0TYEuf8uKDYZco3FIEA3ZeRR2r9Ntv4m+NtVvsuqanR8MhPbV9USgIwMR6GKkvLwcbNuGtWvX6laFRIIQgU5CkmKRTaCbWhCagrT7N+32FQryN8B064MRMjcnRV2DLXZxF+4Y7MPmS4w2uTe5edt2ny8y902BSP2TtmWiL3UTVCb6zPRcCPM9T2zizFVhvsLss7RD9xyAETJ97eVz2bHRkVNBtvudU0jgtT/N90qRfpThI/K7fB9n2w2aM9KIfNu0E+hXXAB1N11FcKH6iguIQBcgBxxwANi2DY8//rhuVUgkCBHoJCQpFnehcOVFlcKKHszArGtU3XjO/5efl0BRVwuKulrw3trwd6Dr2GjAHBMTcqGy3IairhaM2ruLdr0J4vGXh2ucMXz+mXzvQJe94al7MzKqjXF0VGnXhedUODF++sFqmhMNA89m2gH7doWirhaUldq7XZek3aDrZNurUweRtojAaHYU2KwT2KwT9GI1RpBXhYwoYyt7zu3/1duZp+dd3StWWyJ01ukv0xBV739r7e6M44PZz4SOY5OBITaibOld1QmKulowYmi61kz5sRIRN3ebpswBK//U35mnz/0d35pJlP912y5Dl7D4x+krqX7Tz82tmZ68n/+1SJhixKtP0DmixzsmjNq7CxHoyEAEuhiZN28eWJYFJ598sm5VSCQIEegkJCkWd6Ewsy0+gS6qUExb8YcBx48tcWK8dc3uBDpBL0TkfHGRBYwx2GtIRrs9JvlNZ/tRsGxRjTOGJ58mbjMIg40iN2RMxpQzyp0YL30A/zuysY6/JHrJtmnE0F2bQZmMJcVHovTnqdNM3bSTSTCNZkc5Y7iK9TOOzFLhd916BOnH81kz29eJ8dyZVbuRS/kxkmGzLj9ijp9I3U84NrdmOogdKXUcm4SovhY95kXaUdrdBsYYDBmof81k8riSaU/cdlqsVli+OLdmOntCD99cKpSYYI91HLRNrHBivGRBP+2+kOXHQstFt73DmzNEoCMDEehi5Pvvv4fDDjsM9thjD7jnnnt0q0MiWIhAJyFJsbgLhZuu7KWtYCLIw8Tf9IBhzRkY1pyB7euJQE8j9hvRBYY1Z+D4sSXadZEFr0WkCQtLEQvjl57o74zhay7umbg9Ag6443X9JVVQwspgWHMGnn+sv3bdeHTGfB1Gf4w7pgSGNWdg5DB833qL4+ewazDFTgXBdAg7GkpYGZSwMujPBqAiueIQYYUEP7/k+2wYOxCGNWeghJXBgpv7BF4nawzojGEh5M/k08qdGI9mY7WMY4zQHReRNhw4qisMa87AsT/thsIuGeMNQ8xk+iYIa5bWOmumK6ftvmbS4RvePpPqloa482DO5VVOjJcvrjHWZzx9x9VPVc7JwrE/7aaXQL/8Aqj7w1UEF6ovJwJdhLS3t8OGDRvgoIMOAtu2Ydy4cbBo0SLYuHEjtLe3h4IEtxCBTkKSYhH1DnRVRSTB31/kv8JEocddpP2ifenVHu8x7H6TrXOU9k2dC03VW0c+pEnXsLhH1U+mPUnGIZZ46iaeTIDO8YARbp9k/5a9iU3ABd1jEht0xyNpTHTr7mdPks9FX2cCVNtGMZBrj+h2o7aHOU5JdPOqYbAjX0/t70AnAp0IdEliWRbYtg22bXf4mwedOnXSrT5JiBCBTkKSYklCoOsuegk4/EdxwwOKBfkuTeCNCeYN0rSB/BzujyAfheWq7s2/KBv6+bZgzQ3dxJNp0B0vFfkQJ3e8cl5UP1jhZa9suzD5TfdYxATdsUgSE2x5pdt/unXQoadXe0F9qJ73MPnKFGCw262DKn0w2K0CRKDjAxHoYsSyrNiwbVu3+iQhQgQ6CUmKxV0oLF2I/72rVFRGt/3xe/vB3JlVMHdmFXy2uUm7ngTxGMJGwtyZVXDvvD7adZEJUzbCROu3bV2DM4bdP1UXtx+M/kuiE0Z7omLln/o7Md66BserNqISTTpzgLcdv8/ibJZG3ZC975Y+MHdmFfzB43U5cXytO+9V6ZG0fVUE0xh2HAxmI2AwGwF7s4O1E166ybK4Y0h3Tgfp9Ppzdc48vX5ZbaR2/OYLbD5IM3h8PYKNdmL8I3as9rGICbrj5xXPOPrdcm0vmDuzCu65Kd1rJkyIEp+kufb+K7k103OPxPt5b4z5ngZdRWEUO8yJ8bsvi/0Fzaw/VdZCacgP0f38YVaVXgL9sgug7sarCC5UX0YEugi5/fbbE4EEtxCBTkKSYnEXCjPbKrUXediLORNx/NgSJ8ZYiBnKCbH6FxdZwBiDvYZkUOqHDTJ1jNo2z/nLFtU4Y3jyaeVSbJCht+z2RG9y6MSUM8pzD7M9gOdhNpW+ldFX3DaT5KMfRgztAowxyGQs7XFN6k9ewkI38aKSXBrNjnLGcBXrp53swkiW+bVryhw+//reToznzqxKlPeyx4YpPsWGE47NrZm2rKrXPg4xQXdsvHI8jm6l3W1gjMGQgfrXTAS+OLv/DcPyxbk1Uy3Tr38SW6K0WUhom1jhxHjJgn5SY5UGmGjL8OYMEejIQAQ6CUm4EIFOQpJiySfQqWBLH4hA7whdG0Ey+1RJoPNurNHY9/dHVN/kE+i08ZI+W7ES6Kr8GndTEXNM83WLS6Dnt5NkLhFtl25dePVVgbQR6CLHddgxU8BLoIfZmu9fzCRloYEIdHnzgSxE1Q0LgY7Zp9gQ5it3nu7Lxjhj+OwJPbT4X1VsCzGHWqxW6QR6Ifo1iU+Cap24PiUCHR+IQCchCRci0ElIUizuQuGZh/Ru2qsuVgulOH7qwWq4bXZvuG12b5Q/4Y59YwYLgjay7rxhV3wX3d5XSd86NthMbVuEbtvXNzhjeD92mHadsAJzHMOwHzvcifFoNla7PqbELs51Ikm9KNf9zx194bbZveH2/+otzR+6Y4VRb1Xk0hj2c2hm+0Iz2xf2YYdoJ7tMIsyi9iVLt7B231xZ58zTrz9XF6tNL99m/5/U7xjHn2l42rVm+vTtpg5xKXSI9DNvezJy+q65u+L74G1y1kyifZDW/mXp9cGruTXTC4/392zTPedG0QWrz5LoK+oclXj5yf5OjN9bG//LIdjs0pEjWH1x2+zeegn0Sy+AurlXEVyovpQIdBKSMCECnYQkxeIuFNpXi32HUNTCDFvhphLYbZetH3b7dUPn5jaGjba0QrWf0hQXTLZg0sVku3k3NGXoiCmGmHRRFSfZ+hLk3cNF5YGOPnlyRtXYEdGXKWPSNOgei1ggYywUSq4HjX2Cf2zj+KtQfMxjpwxfxG1T1xgI669Q8gULeO8n7avriUBHBiLQxcvOnTvhqaeegksvvRROP/10OPnkk2H79u0dzvnmm29gx44d8PXXX2vSkiSKEIFOQiJA2tvbYdKkSTB48GAoLi6G8vJyGDVqFFx11VWwY8eO0OvvuusuGD58OHTp0gVqampg8uTJ8NlnnyXWKwmBTgVpYUFWPJMulE2C36Zp2CaVis0s3j51bbYVItLuQx3Ei+i20h6jQgI2ggArRG+CmnAvKzTIzBss7YS1jd0POsZSIUP3mMQA2f7Vnc88/RXyGFNpe5S+wvLT77P84zrnZl15lfZ8jjJ/Zc9Ju0/yfZPkepnXaCfQL2mDuhuuJrhQfUkbEegC5dFHH4XGxkawbbsDNmzY0OG8G2+8EWzbhtLSUvjiiy80aUvCK0Sgk5AklEcffRTKysqcG04+9txzT9i8ebPv9dOnT/e8bsSIEYknUXehcAPH+/ySFk4E9fjdyWUwsLEzDGzsDNvX0zvQMYFno4rnnGHNGRjY2BnG/ribdL1UbriZvpktqt8XH+/vjOGZbZXa8rVQoSJHrrqopxPjFY/WaLdZt09UbNir8JHbhmOO6AYDGztD8yC9710NiiOvz7HGJ6pOIu91h7CjoZiVQDErgRrWGPv+qJoUE3nPFh0fv2t15F6L1QoLb+3rzNN339hHe76L9C9hF848tYcT461rcmsm3eMSA3THRhRGDO0CAxs7wxFjijscD7MxqR8w+TCqLirsFuWfl5/MrZkuOz/+mglTvAgdcd2M3JrpLw/n1kw8Y1i37hih2i88/f10TBER6MhABLo4ueWWW8C2bbAsCyzLgqqqKrAsy5NA/+abb6CiogJs24a77rpLk8YkvEIEOglJAlm3bh0UFxcDYwxKSkrgsssug5UrV8JTTz0Fv/71r52b0ODBg+Hzzz/f7foNGzaAbdvQtWtXuOSSS+D555+H++67D/bcc09gjMF5552XSD93oaCSmJFRqIloM42F9fFjS5wYuzeD4vghjf7RCd6NqrBziossYIzBXkP8iZkoscOy4ZamfEtiy7JFNc4YnnxauXZbTPUjJn3yyaApZ5Q7MV76QDV6f4js16ut/PkjDZtiI4Z2AcYYZDKWdl2wxB4r4tzrRrOjnDFcxfpFui8mqblU3qd1xB5Tvs2/PvdOzrkRHzoOipfqvDY9DjJxwrG5NdOWVR1/mU1kbWwiROei6LzjPbe0uw2MMRgyEM/DbFFtldFn1Lorqi1RYx439nHsvfIAACAASURBVMsX59ZMZ0/oId3ncfTFkEMY9I2LtokVToyXLOiH0r8Ef//x+HF4c4YIdGQgAl2MbNq0CTKZDNi2DYcffjhs3LgRAMCXQAcA+PWvfw2WZcH48eNVq0sSUYhAJyFJID/60Y+AMQZ77LEHrFy5crfPr7zySudGNH369N0+v/jii4ExBrNnz+5wfNu2bVBcXAwNDQ2J9HMXCtdO72l0kRhHX/di0TR7efHvJ3SHinIbKspt2LYunEAP84OMTY9CgjvfeDeqws6p6bcHVJTbcPB+XYXoh2nTLY15FNWm5YtrnDE8bVKFkj6D5kXdMUm6uYYR08+tcGK8bBH+b6CLjqWp7Ufp60cHFkFFuQ19enUywsd+1wW1F3QN9jEY5oswHMKOgs4sA51ZBvqwWukEVBTd4uiCbX4VRewkwd039nHm6Vuv65XIjvxYyB4jSds3efxGwcknljoxfvfl3V9tJqNGNgW6YyMqd+tqdq2Z9h/Jv2Yy2X6RvsPYd/6a4IXH+ztjeOpZhf3Qse7YyMJl51c6MX7qQf6Hjk2GKp/nz/ci+o3TxkH7ddVKoNfMaIP6OVcTXKiZQQS6CPnd734HlmXBXnvtBd98841zPIhAv/POO51rSHALEegkJDFl1apVzk3mN7/5jec5O3fuhCFDhgBjDMrLy+Hbb7/t8Hn2W+qvvvrqbtfus88+kMlkEukY9x3oURfTugttGTbp1lVF23E2ygn8fo6yUYV5Iz6tm24E7xyRcT3Wjf2wtjHkNwYdCBQPDD6ReW/kOSd/I1+WLu5+MNyTRW+2YsglmfryHiPgg24SWxd0+110DKMcj3ue6Gtl228qos6nKu3XuT4Reb0JOSOyDjHB3rRD9zvQiUAnAl2WDB48GGzbhvnz53c4HkSgr1ixAizLgrKyMlVqksQUItBJSGLK1KlTnZvMCy+84HveFVdc4Zz35JNPdvjsggsu2PV+8htu6HD8gw8+gG7dukFtbW0iHeMS6LIgg1xJI8gf6QC2zSpsm288i2EaC3ryBEMbun1AflDvc906mAYen4k6h6CHWJF1L44zx2XP5702CfFhak66fcRzXEbfhOR+LDTIzn8MOSu7Lx33B5OAycao9yaC+thEmUOSxFNU3Ashf0TaSAQ6PhCBLka6desGtm3D6tWrOxwPItDXrVsHlmVB586dValJElOIQCchiSmjR48Gxhh069YN/vnPf/qet3LlSudmNG3atA6fvfTSS8AYg6KiIrj88svh+eefh4ULF0JzczMwxmDSpEmJdHQXCisfNf9nY5MWbmksblct6Q+P3NUPHrmrH+x4pwmVvwsdojaq/vTfu+L7zEPBYzhsYxrb5hvl1y589HqjM4Zfe7ZOuz4ioSLGJuTRhr/UOTH+8LVG7fpgzAkT4hiEZYtq4JG7+sGjd6t7X6PK+PDEyPQYBuHLd5tgb3YQPHJXP3jx8f7KfI4ZsvQWTerx4t2X6515Ov/92Nh1FxFH0/SOg5eeyK2ZPt/svWbSTWabTKBjyOPH7tkV36d9fvo5LfZG9YtfnuvQI0m/f9+4a820NzsIXl1WG9hm0vWp6bmCWf+geL3+XG7N9NdXw19PWIi+Mr3/hbf20UugT2+D+v+6muBCzXQi0EVISUkJ2LYNL7/8cofjQQT6n//8Z7AsCyorK1WpSRJTiEAnIYkpPXv2BMYYDB8+PPC8jz/+2LkZjRs3brfPzzrrLOdzN4YOHQqffvppIh3dhcLMtkrtxVicPnUXjdhx/NgSJ8YHs7Ha9aHY7m5b0k2q4iILGGOw15BMbD/S5puYmEaxlffcZYtqnDE8+TR6nx+v70zKuylnlDsxXvpAYbzPr9AwYmgXYIxBJmNFJqGDNrhV2uC1wW3SOMvXVaTu29c3OGP4mCO6abcVC0SRIlFjKwPzr+/txHjuzCppdpg0ptKGE47NrZmCHpLQTWirhow8F3lelLZKu9vAGIMhAzO+fckag7rGtswaApuvli/OrZnOntBDaK2ic58qrfeFOHa1TaxwYrxkQbKHUtPqV6yx48Xw5gwR6MhABLoYGTRoENi2Dffcc0+H40EEeltbG1iWBSNHjlSlJklMIQKdhCSGfPXVV84NZuzYsaHnd+vWDRhjsP/++3t+fuONN0JzczN07twZ+vTpA2eccQZ88sknifXERqATxBetbgJ965oGz2sp1mYjjEDngWmbbzqQ1I6412Mj0HWSIFH7lp17Sdp3X4uVQI9C5mKHey5SbUOL1dqBQDfVl34Eg2l2yMBodlQHAj2pf9LsU1330qRQQaBjiH0hrxF4CfSsXwoFunNKpA5uAl1FbovuQxcRLNtHPDrxnJNPoPNeh80nJkClz9x9iSTQMdhmGkT6xq8tItDxgQh0MXLqqaeCZVlw1FFHdTjuR6B/9NFHUFVVBbZtw7nnnqtSVZIYQgQ6CUkM+dvf/ubcYP7f//t/oef36tXL+Va5SnEXCn/6775GF2BpgWif3HdLH5jx+0qY8ftK+OStRs++KA5m44oLdsX3D1f2it2Gis03UXlWaPn6zkv1zhh+8n485KopMRS5MScLSx+odmK8OeZPAxNwwI84nXd1L5jx+0q47PxKz89528QGzLqpxKdvNzlj+N55fbTrgxleOZMkj0SRfGFtrlla68R41RKxP9OPDTJrOMxYeGtfJ8b/eCP8dSq6iW1TCPQg/6nK5+zfsy7sCTN+Xyn1IRiVNsp8GCFO/HXPE+2rc2smWeQqppzwqzlNhZ8N7uNPP5hbM216IfqaKWm9YUJemNS3lx6zplUSgY4MRKCLkVWrVjlk+W233eYc9yLQ33vvPRg1apTz/vNNmzbpUJkkghCBTkISQ7Zu3ercYMaPHx96fv/+/YExBk1NTQq0y4m7UGhfvXsBiqGYwqADVojcfE/qZx2bIARxPjV1841yCr+feDZDZOrBu/kfRx/KHfygGKnxJ/mZEBWUM97fzE1SN5FP1ccv7dDtY1VxlNWm6T7Evj8gci8kSp+mxFWHf2TojEk/3bFKA8LWEu2r64lARwYi0MXJb3/7W4cwb21thfvuu8/5/7333gsLFiyAk08+GYqLi8G2bbBtG6ZMmaJbbRIOIQKdhCSGmPgNdC8CnYAPootrkxaBBHkohA04TLqYirjktYh+KHYEN/LHM/b88CLKwvTGZhOPPqJ0xmZ7oSJJHLAQJ1jhR56rtM90H2KAboK7EOp3UXHSlRsYbBFZjydpR1YcVNYnqto1CTL2p3TbJMqOtNiiEkSg4wMR6OLku+++g3//9393SHM/WJYFlmXBSSedBN9//71utUk4hAh0EpIYIvod6LLEXSj86l+6w6Lbcz/jvu7pWph3dS+Yd3WvDj+PdNfc3jDv6l5w19zezrFNL9Q75657utY5vuj2vs7x7LHt6xucYyserXGOP3l/tXP8s81NsPODgfDZ5ibnmPuni1c8WuMc376+wTmePUZ25Oz4z/8ohcMOLoLDDi6CO+b09rRjCBuZ2I5sGxQP9XYMHZyBvYdm4OQTS2PbMYSNhAPZT52F3lC2HwxhI2Eo2885diD7KQxhI2EIGwn7sx87x4ezA53j2WOj2VHOsUKLh2g71j5VC82DOsPgAZ3hpF+WCrOjxWrltqPFau1gx2h2lJR47M9+7Bwfzg4UFo992GhPO7LxaLFatebVzdf0gsMOLoK9h2agbWIFjY8U2lHBdsW4kvU22o7h7EDn2P7sx8baITqv7prbGwYP2DVPt02sMNYOU+KR3ZA+kP3UOdd9/5Bhx2P39IORw7rA4AGd4XcnlUWqr8Ls4IlH9lyM8UhLXk0/twIOO7gIDti3C1x1UU9uO7L17ig2xqmD92GjneNj2HHQYrXCGHacc2wfNto5dxQb4xwfzY5yjmePDWcHOsf2Zz92jsuq27N2iIhHUH2VXTt6xWMo2y9xXo1iY3bLq2HNGTj0gK7wq38ppfHBYUc2r0yxYxjb37kXX3xuhbR48IyPIWwk5ZWE9eD863vDwft1hcEDOsPUs8rR2pE/7+bfz1us1tB9uCFspHY7dOTVL47qppVA7z+9DRpmX01woT8R6MLlgQcegJEjRzpEeT5+8IMfwL333qtbTZIIQgQ6CUlM6dmzJzDGYPjw4YHnffzxx87NaNy4cYq02yXuQoExBvuP7OoUMVdf1NM5vuDm3Pscq/vuAYwxqO67h3Nswc19nHOvvqinc3z/kV2d49ljyxfXOMfOntDDOf6Lo0p2+za8++nDXxxV4px79oQezvHli3NFGtmxux17Dck4f++zVxdj7UhLPGTZkY11VDsGsmG569n+zoKuCysCxhh0YUXOsb3Y/s65A9kw53gZq3COZ4/ty8YUdDxE2rFsUU6Hkm6WFjtarFbl8XDnFaZ4uO3owoqExGPKGeUdxjKNj2h2ZOcrzHYUF1nAGINMxkp9PArRjpHDcvXVMUd0i2RHi9UKB7OfOcd6sdyGYi0bqNQOWfEQYYfXOHfXJbLs6MWqocVqhWa2b4c5Okp9FTUeWXIm/z7YYrV2sKOWDTRifJgyzk84Ntd3HDtqWe4bh71YtXP8YPYzz3GePdc9PvZ1kfDZY2Wswjmmom7P2iEiHm47VNdXfuODMQZDBmbQjA+eeldUPNx2lLEKoXZgGOenn1LmHP9ZS3HkebfFao1kh3uc07yrxo62ibnxgt0O97xLecVvx4D6PZy/iUDHASLQ5cn7778PDz/8MNxyyy1w0003wcKFC+Htt9/WrRZJDCECnYQkpowePRoYY9CtWzf45z//6XveypUrnZvRtGnTFGpIBHpYwYvdjharlQh0sqNDrJPYYTKBnmSjGnteFSqBrioe2U1JnXakmUA/mP1Mqh1e98EWq1V7XuXbIZJAj7oRVyj3QVMJdCx25OdVdm40zY6oecW7UT3/+t4d5uikdUm2vgqyQ/eDZC1WK4px7iaedRDoXgSI1/godAJdxQM/ItbnjO1OoGfjoXK+yvbHY4dXXpk878p6EKCGNTnHezKqr9JoRyEQ6NjsKDgC/eILoeH6awgu9L/4QuUxISExTYhAJyGJKeeff75zk3nhhRd8z7viiiuc85544gmFGnYsFC6fWmHkT/yk5aeKRNnRYrV2sGPVkhr4fHMTfL65CR76ozl2pCUeKuyYc3kVLL6zL3yxpSm2HbJ+CjLMjuxPWrrjkd1QwhgPUT9pGcWOb7cNgPnX7YrzH2fT+MjmaxrsyMbjq/YB8PnmJlh8Z1+46cqqDnZkx0f2J18x2+EVjzHsOGHxyP5kuN9PIov4yVdZeXXfzX2cezGm+4cJ48MIO/7YF+ZcXgVzLq+CL99tMteOvHhk7+cq7cj+RHVUO7J1iduOIWwkV15laxg/O1qsVvjmvQGwDzsE5lxeBTfOqupgR/Z63nhk66usj73ika2veMfHPmw0dzxGsTHGjPMWqxU+29zk5ITM8fHlu7vm6PXP1MJNV1XtFg/eOjENP+Gucr46kP10t3h43c+HsJGJ8moIGwlzLq+Cv77aAF9saUIx74bllbvezeaVjniovp/71bter5Byv1pm9Z/7O/fi15+rS3T/EGEHpvt5Wuz4qn0AbH6xDuZcXgU3XVllrB1piYcIO1qsjq9YW7G4mgh0ZCACnYQkXIhAJyGJKS+++KJzk/nNb37jec7OnTthyJAhwBiDHj16wLfffqtUR3ehkH0qkEAgFCaym2giEVcP1Xar1Eu1fQQCgUDAjex9AeP9IV8nETqKtNPtOz9deWqSJPULz3Ven/kdS1JDEaLnjujrZNTTqqE7NiLihcEODDrE1UfkXO9uy+/vuO3LuEeZFte0g/xtNnjrnyzc31InAh0HiEAnIQkXItBJSBJI9mfc99hjD1i5cuVun1955ZXOjeiiiy5Srp+7UFj3VK20oomgrhjNx+ZV9bBmaS2sWVoLX28doF1ngnise3pXfN1P2seBis03v89UbdqpJstFtPvp203OGH5vbYNwnXjiYwp4NrVVxDkqtq1rcGL86dtNHXTDoiMhGTYur4M1S2thbcRai+JvBr7eOsAZw2+/GO+B1Pwxz0vSBbUVt//8v0XfG2S0FUXHOP0fyo5xYvzha41C2vW6J4mMqWzfY+4zDra41kxftQ9IpLtuArzQyXM/ZNdMG/6SbM0kW3eveGCNjWzfBJ2Tf7/8bHNuzbR1TfiayW9dEGc8YB9DacH7r+TWTP+7qUm7PoRg+O37BF3zzEOav4F+0YXQcN01BBf6X0QEehS54447HPgdjwMS3EIEOglJAlmzZg0UFe16J1lJSQlcfvnl8Pzzz8PTTz8NEyZMcG5CgwYNgs8++0y5fu5CYWZbpfYCiyAex4/NvXuIZyFJMA/Zd+tm34Gej7iLf5mbb7o2F5KQCrKv8YP7HeiTTysX1n4aN3hMJZ3d70Bf+kB1qjbh0mCDCIwYuusd2ZmMRT6MCcx+2L6+wRnD2Xegq7A1f67APm+I1i0JuRT1fPc70AezEb4xEGkbBrJblg4Y89T9DvQtq3Z/ECbqww26iXAsBHocAkUWSrvbwNiud6DrzrewnFHdp+w+kvQbdl72c793MXudyzNuk9gZdb4g8PnW/Q70JQv6adeLNx8I/D4a3pwhAh0ZiECPJpZlgW3b0KlTJ8/jcZDfFgk+IQKdhCShPPLII1BaWurccPIxaNAg2LRpkxbddBPoVFSK9ZPXeUSgpx9hBHpUyNp4UzXeVemgyh4vAj1KHFXoiMFPJuudT6Cb7ru0QUQckhDoBLWxigMZBHqUB4JMvLdhyIcotvoR6HF95hdf2QS2SfHNJ6Nk6x5GoMfxn24yPGkNLzof416fpF+3bSYQ6HHsFjU2dMwP+XOhVy7y6sVDoPv1EdZflIcATJpnTYMqAp1iqA9EoOMDEejRxLIshyz3Oh4H+W2R4BMi0ElIBMi7774LEydOhEGDBkFxcTH06NED9t13X5g1axbs2LFDm17uQmHhrX20F0sEbyQp4G+c1QsmjC+FCeNL4e8bvX9yUmb/BPk4/ZQymDC+FKafWyGsTdHkORYk3YCLe16Sft9YUeeM4YW39tXuQ5k+1qWX7s2vB2/r68T49efq0PowrbmhApecVwkTxpfCaSeVadclDgGkW2fs+OStRmcM3zCzKtCHvOR4EhLB73qTYi5bhygPKOz8YCDsy8Y4MX7moRohehaCn0XrJ1PfeVfn1kx/2xBvzeRngwnQHWsVOPPUHjBhfClMm1QhPZ9E5U7cc02c/+PmYvaaTS/UO2N4wc3Be1v59+UkvopKyGPPO8xYdHtuzfTas/JexUAx0ofzTu+hl0CfdiE0XHsNwYX+04hAjyLvvvuuA7/jcUCCW4hAJyFJsbgLhfbV8d7ZSJAP1U+fE8ifWfvTsOkWdYPE63zTN8hV+Vc3iBjEDRX+ppimFybH1muTXbQ9Jvknae2g2lZeYiQJ2SXiXBMJM9l2Jc0zkWNWN0Euo46XnTsi1xppqhF5/IJZ/zCdk5DoSa6Ncl7+3KBrniIQZEBnTravricCHRmIQCchCRci0ElIUizYCHRaPJD/yHacMJE497ND1TmmwtTYpiE+puotw760+0K2/YXuP9PgtfEvanM+qg6mAIs/4tREGMe3afFXYZcsP2OE7jjJjiOvnSb4Iqq/RM5Nsn3Io7fMGIm0j0f//HPSkn9pAMVCnz+IQMcHItBJSMKFCHQSkhSLu1C4L+RnrkwovExvXwZmX1oF48d1h/Hjusf+CXcToHsxrVonN045sRTGj+sO55/J/35sHfbI2KhT5WOdY//15+qcMXzPTWLmaRPnsjRjwc19nBi/9qzan3DHngs69RPZd9vEChg/rjuc9MtSI3THnhfY8PGbjc4Yvm5GTy4/en2Wf4/MJ9ZNIbvCkJSAkKmD3/Fli2qcGP95YTUqf6UhJ0T7xH0e77k3XJFbM334mtw1k27CPG5Nblqu5es7YfyuNdN5p+++ZkrL/KrSn6rbD/v8zZW5NdNdc3t7xjQpMZ+U5M+/rxOiYeGtfZ0Yv/JMrbR+RD0IoqpPmVDti7Mn6P0J99oLL4TGa64huFB7IRHoJCRhQgQ6CUmKxV0ozGyrlF7MYS0K04zjx5Y4Md66pkG7PkmBJYew6LHzg4FQXGQBYwz2GpLRrotpccAURz8sW1TjjOHJp5XTBp+guGLy4ZQzyp0YL31ALTGjyieY/K0DI4Z2AcYYZDKW0XHUCcx2bV/f4IzhKtYvkr5BhLn7eJo23THaEKbT/Ot7OzGe6/Gee9l6YPQZFojyzQnH5tZMW1bJ/2U2k4hzFf5XgdLuNjDGYMjA9KyZdKwLguYpXn14yPKwfvLbWb44t2Y6e0IP3368rue9x+brlcRmGeMx7WibWOHEeMmCftL6oZjo8+vw5gwR6MhABLoY+eyzz2D69Okwffp0+OCDD0LP3759u3P+l19+qUBDkiRCBDoJSYqFl0CnItRcmEygY/pWBOb8tVmngiXQRcU2CjGhOhfyCXTdPsII0RvBqu3FQqCbEiMT9VVJoEex0T33mRYjnfHMh5tAP+aIbrHiIJIkxx5L7Pp5QTSBHucBi0KHbF+oJtDddukiz03MryQ6RyHQdfkmyfpX1YMR2OavbD9eBHqYPnGJ77AYRLHdxHGoC6oI9CRxo3hG95kbRKDjAxHoYuTOO+8Ey7Jg0KBBXOd///33MGjQILBtG+677z7J2pEkFSLQSUhSLO5C4dVn5f0EEkF8YcmL99Y2wMbldbBxeR18vXWAdttM8h1vf7oXSW+s2BXfzQo3+zAjKQmuO575eny+uckZw3991ayHYEyF6hz48LVGJ8afb27Sbr9JvjMFW1bVw8bldfDGijpp/ot7LcUsmb9brFb45r0BzhjeuqYh8qZqEIEetnFPcRQTxzB8/GZunv7HG2pfiRT2oAtvjpgMFTZtW6d3zaSSODcVce3IXvPmSrPWTDpjxrNWCtNP9norPx++2JJbM33AsWaK+yCA3zzsdx/naRvr+MQ2h7jXTJ8hXDNh8BFmvXn6WflojV4Cve1CaLz6GoILtW1EoIuQ4447Dmzbhra2Nu5rpk2bBpZlQWtrq0TNSEQIEegkJCkWd6HQvtqMhWShw9SinECQjbgbFqr1w6aXu1+aXwpvjsW0KVZosSAiVIwPk3xbT8T5QTpE+bZb/sa71//z28A6dkXGV7cOcfWOSiwF1TBR4myqzzBChS95HqopdPI8ru4m26zTbzJ9H7ZW85oXRZD1fuclIblNH1e6coNACEP76noi0JGBCHQxMnjwYLBtGx577DHuax5//HGwLAuam5slakYiQohAJyFJsbgLhbdWBn8rSgeoMA/3Sdgi8H83NcHfNjTC3zY0wrfb0v8NdNX+x4BsfFV/IwobVGywRSFD3J8nyZuvtw5wYqzqSXuMeZ5mfL45N08n/dYbttjx6FMIRPI/3mh0YhzVF5i+FYKx/TjtivbzP9/PzdOfvBX/XuxFFvgRCIWyeS/7AQle7HgnN0/veIf/XhwUR548DHtAQ4a9otsUTeLKijHWNRNG0hzz3BP0gNFHr++K76HsmEj2qbQX+zjhadvvoa+obUW1IWzNFJXA97OH53yMcZMR//zxJlt/95rpq3Y987QJMcIIXr+9+mwtEejIQAS6GCkpKQHbtmHt2rXc16xduxYsy4KysjKJmpGIECLQSUhSLCrfgU4QX3x6LVLy/+9+B/rBbKx23QniUVxkGfcOdBnfitBJPMmErnegp9WfGJHWd6DH+TZQWoHxHehpQZxvp4me33jfgR6X7PcixdJOoKsgjaO0k/Qd6KLIBQwP1KQ19/Lfgc5LAMr0dVgMePIKy0Moqtr36if7d5R3oKvWV3R/cchdUWM76EEgEXOgn577sjGB70DntTFq/ZrG+RArML0DnSAH2t+BfsGF0HjVNQQXai8gAl2ElJaWgm3bsGLFCu5rVqxYAZZlQbdu3SRqRiJCiEAnIUmxEIFuLng34twE+tY19P7kOH7WrUMYdBHocX0T5VsJInU0dZNDNYFumn/SgLQS6LwohJwzhUA3+cEZnXq6CfQqlnxD14ssz/9Mt82mIq7/RBDoQbrwXqfiW34iyVgd8Y17bT6BrlIHzKQ19phHQRwCPcgvuh5O4JnDsDzoonIttnxxTQcC3W++FEWgY/JzoYAI9PSDCHR8IAJdjOy5555g2zbMnj2b+5rZs2eDZVnQ1NQkUTMSEUIEOglJisVdKNw5p3fiYocWD7jQYrXCpVMq4cjDi+HIw4vhw9caKU4pxHFHdoMjDy+G3/6qTLsu2JCGXH/lmVpnDN9ybS/t+mCBCbHl1fG22b2dGK99qla73gTxOP2UMjjy8GI4OuDbyRhhwjgTaWecb7G3WK3w942NcOThxVDJ+sD0cysi+5bHz4USi6R+koUn7qt25unFd/dLpE/+rwhEJWvc18r2OYZ28tsMesAkiR5XXJBbMx3CjpJqhyxg11UkcRkHvziqBCpZH5gwvtR4P4fNjZi+Oa9Kl9eerXPG8E1X9Yr8TfIouoY9FJWknbQjic13zMmtmV5+sr92WwjicfIvS7US6HVTL4SmK68huFA3lQh0EXLqqaeCZVmw5557wrfffht6/rfffuuQ7v/xH/8hX0GSREIEOglJisVdKLSvjv+kPUE/gp7uLsSFmUh/mob8zUURP5Wn0i8m+z5NEJlDInXy+hsjdPlNd5/Y44LNdwQc4N309qu1dH4jWEc7OuJjsv5e9iSxSUa+8eSx1zl+35D3+zwovnFzgVf3OD7RnSs6dTbRfpPs0v0wAWbbRbWJmcT261PWgwhpzidCdGDOh/bV9USgIwMR6GIk+3Pstm1Da2sr7Nixw/fcHTt2wC9+8Qvn/GXLlinUlCSOEIFOQpJi0UWgYy7Y0oCkm3K69ccErw05jD7yIs39kNacMEFPE3Q0wRfkR4Lp+2Lp2QAAIABJREFUKJQcVnHPEeHLoHskD8kRVwfVD6UVSt5FjbtM3/rV5HFrdVUxDCLG45DkYX6LSnT5EekiYpv0AQcd8dLVH1aIjCFW35qwPsUQ/6jnyZqTvXIyCemf1D+6Y0Qg+IEIdHwgAl2c/PKXv3RI8f79+8OMGTNg2bJl8Oabb8Jbb70Fy5YtgxkzZkBtbS3Ytg22bcMJJ5ygW20SDiECnYQkxeIuFB65s2/k4ibNZJxJCFr83X1jH5h6VjlMPascPnmrUXlcKN5yfdlitUIja4Z6NhgGsb2lkOhJN5iT5oLoby+Zhs2r6p0xvDc7WLs+qiB64xMzHr+3nxPjTS/Qr8HohKx8m3N5FUw9qxwuPKdCel/Y/KBikz///pZP9PHMJ2FEZ9D1n77d5IzhO2/wfyWSjphjzjOT9H/pif5OjJ9/zPtnY3nyyxR/+dWcMu7NceaIpA+HeuGem3JrpkPZMUrjJisPRD4kYhL87J5+bgVMPascrpvRE9XDRbr71424D7Dln/fOS7k10+K7+4Xmv8gHZILyKcl8Kjo3wtrDnotP3FftxPjNlXXa9VEB7DERjUvOr9BLoJ8/DZpmXUtwoe78aUSgC5KvvvoKfvzjHzskuh8sywLLsuAnP/kJfPXVV7rVJuEQItBJSFIs7kJhZlslFX+Ggcefx48tcWK8dU2Ddp0JYuPfYrWCzToBYwxKWBk3gU7fWjAHyxbVOGN48mnlQvImyee6gFUvEZhyRrkT46UPVBecX037hl8cjBjaBRhjkMlY2nUxMcZJ24z7jTLeTfDt6xucMXyMYe+5F+V7bA9iBhEWcdqcf31vJ8ZzZ1Ypsx9LfE2yNT/GvDE/4djcmmnLqvrI5F0SsjppXY49Jjp09eqntLsNjDHoxrob57cgO1U9qKa7vbCHHpYvzq2Zzp7QQ0ibPLqGPXgXds/0mrOS+Nz0OTwIbRNz5OqSBf2065M2YMiN4c0ZItCRgQh0sfL999/D9ddfDzU1NQ5Rno/a2lqYM2cOfP/997rVJeEUItBJSFIssgh0bJtoUdvHUDjy6humKxHo6YR7E1gWgS7yWz2E+BBFoOfHXidpmXTTTKQuGCCKQDfdD2mGbgI9jbkRdI/isTdoLgxrN/9zXgLd7z7sd1/Geh82gZyJ0h9P324CfTAboVV3kX4Oyn8ZD0qIIJtl+T2fQNcdq0KE7LHkJtB1jltRc7tKG2Q+tCYK+7IxsQn0qPcEP8I7f60VZ92F9d6PAWkk0E0YWypBBDo+EIEuR77//ntYs2YNzJ8/H2bNmgWzZs2C+fPnw9q1a4k4N1CIQCchSbG4C4UXH/f+OUJsSGvRKPpJ4ez5P2Qt8OT91fDk/dWw452m0GvS6l9VcVKlgxv7sENgHzYaRrExkQh0DE+ny9qEj2IndvzjjUZnDL+xQs1P1SUlpgoVcX3z5so6J8Yfve7/qo00A0teycr75x/rD0/eXw1/XojnFwaw+NwkH/id/+W7TfDk/dWwDxsNP2QtgRvr7r/9SPOgc2T6I2obYURrVOIg7KGCuLqG+ZlHx/fWNjgxbl9dz3UdxjHGQ6DLsiFqTHlJrKD8izKOXnmm1rkXf7EleM2kOk46+lelg8p686kHd43hfdkY5brLeCBFhp/ikL/5+RJnzheBj9/MrZkOYEdEstnP3rD5JcgHXr4M8lvY8aBYycwxTHjr+dya6W8b0r9minrPTgMeubOvfgJ95rUEF4hAJyEJFyLQSUhSLO5CoX013iftC6FQ1OlH8q85iEqQJyHQVdsV9H8R/sFkHwaI0inKBo9K32D0eVqhw9cUX3y+KeSY8NzDgjbk/Tbe/UiJoP5UbaAHkdBRyekotiSNTZK2w8gQk8B7X07iJ9F6+Z0fNFaS6iPiet72sa3TktZ3mKGiBk4bmRk274mYK5LOyyJtjDou49z3eEj2pHHBCBN1lukL3TpgQ/vqeiLQkYEIdBKScCECnYQkxSKTQKdiUKzfyJ/mQXTMRJPncRavqha8STYQVJDnaRiPMjdGk26iBW2EY4Ypeppio477ockx1LUhaZrPZNybeT8LIsCDNtLzj4dtuqu+T8voH0teRaklsOic1NaktqjyQ1R9k9Q0umOL4d6LuR+RJKpIO0StRcKuT/q5aN/yniv6XuHl76SkvNf1YffrpOtYkbmhCqL0SLqGJOBElBgRgY4PRKCrk3Xr1kFbWxv853/+J8yaNQvef/993SqRcAoR6CQkKRZ3oXDlReLegY6pADOlL1kL63/5eQkUdbWgqKsF761tcM6lhYZZCCKHO7MM2KwTlLJy6QS6SntF+ki3PUnwl4drnDF8/pnx34Eu0t8yNtFkA4seXrjwnAonxk8/qPYnvmX5FbO/deCAfbtCUVcLykpt7brohu7cEE32tlitsH19gzOGW48u2e3zfAIi6P7kt/Hv147f9apIdB6dMMQ9iX0tViv8gI1yYjzv6l5G1Rc8ueYXz7j96bY5Dv6ttbsT43dekvvLbGEEnc5cSUs8vdC7qhMUdbVgxNAu2nURERtVcdK998K7plv5p/5Q1NUCm3WCc39Xvtv1PH3z1ghJ79W6/SwiRqr1bbFaYfq5uTXTk/ebtWZSFReMiKLbqL27aCXQ66dMgwFXXEtwoX4KEegiZNWqVTBq1Cg44IAD4JNPPtnt85tuugk6deoEtm07KC0thaVLl2rQliSqEIFOQpJicRcKM9vMJ9CxFo2y9PJb4LmPHz+2xInx1jVEoJuIMALcZp2AMQYlrCw1BLooP+nWSQSWLapxxvDk0+QQ6EE+5TmWpD1d9ujWxY0pZ5Q7MV76AG0GiYgvtn5HDN21GZTJWLtdgykXTfJ7XF1E69titcJodpQzho85optnX6IePOK5x/GSACJ8kd+XqBhgyCu3r5vZvk6MB7MRQvtQ0U4UAkcmOYIhrn444djcmmnLKrm/zJZPoEepW2WuK3URY6pQ2t0GxhgMGZiRFluZ1ybJG2wIu4cF2ex33fLFuTXT2RN6+LbtNR7z8z8qcS7CH3HyQWf8dfTdNrHCifGSBf206lIoPvfTw29MJtVxeHOGCHRkIAJdjFx44YVgWRb87Gc/2+2zLVu2QCaTAcuydkNFRQV89NFHGjQmiSJEoJOQpFjchcJNV/bSXoiZWkBitn/ib3rAsOYMDGvOwPb1DeS7hH6Ou9GRtP8glLJyKGFl0ItVxyLQZZAJKmJRKHjpif7OGL7m4p7a9UkrdObWIDbcifHzj/XX7gsenxTiWEyCcceUwLDmDIwcZt633sIQNxfSlEN/29AIJawMSlgZnHmq96Z9HD+EbfSrfqDJr08e0iFO3xjIgSwe+mNfGNacgRJWBnux/WP7UJaevH6L+wCG7NzC0P7k08qdGGd/tUum/qJJBxF+5D0mOl75ay1ZY//AUV1hWHMGqlg/oQ8LBLUV1RZef2Ej0KP6M1/3sOt42l+ztNYZw1dO6+l7vd/Y49Un6t5AlHNE7DXIyAmR9/YkOsy5vMpZMy1fXCO1P9m26NYhrt6y95OO/Wk3ItCRgQh0MTJ69GiwbRvmzJmz22eTJ08Gy7KguLgYFi1aBJ999hksXLgQiouLwbZtuOSSSzRoTBJFiEAnIUmxyHwHuuoiTrceSfQPOmaybbqRBt/FJcR1k+hYoMsuFf2qeFBB5Oaibn+ZqIsq+0TanOb5REUsCgFRyVaT/BpGWibRm2fzX4Wv/IgGWX43aZxg0jXO/duEmlBFPaKyhsPubxk+DyKZdeSgTPtEEOdh/tKdH3768tzTeEh0Gfe3sM94+4xLdnvletyYilqrJa0HMOYiQWz8Ve0n6X4Hev1502DA5dcSXKg/jwh0EdLY2Ai2bcMzzzyz22cDBgwA27Zh4sSJHY6fc845YFkWHHjggYq0JIkrRKCTkKRYTCXQvcgdbEV71IUXzwJSlW4iFvtpg04iVjaw2o4FhWR/EDFjsh9M1l2GD0QRX1E3ddOQS7JjU4hIk/1++R+W+zzjMKhtUWRA2LVBY97kHEk6B2Ijs7zWSX72ev2NxY4g+7DoyLN2w6IrBoQRpCb7ime8xfWL12ei/CbD5yLbjOobUTrK8kuc+zivLTLnRr/7XVieytKjkBFnjhHRp6i9pTAQgY4PRKCLke7du4Nt2/DKK690OL5t2zawLAts24aVK1d2+GzJkiVgWRZUVlaqVJUkhhCBTkKSYnEXCksX4n/vqteGELZNqzhFb9jxJHj83n4wd2YVzJ1ZBZ9tblJmC0GMb3kwhI2EwWwE7MV+GGlxwzN2dIwtyqmO2LauwRnDon6qzmvjjfzO5zcZ7a38U38nxlvXyPvZWBn+iDuvxO1Ht81xcd8tfWDuzCr4g4GvyyGE4/PNTc4Y/tN/73onJ+8Gcxa8+Z3frqx7uCnjTcXc0GK1wuvP1TkxXr+sdrf+sa1JeNcafuQUBhtUY8mC3JrpfzdFXzMF+TyKT6P4XgcJmLS/IEJUtr63XNsL5s6sgntu6sNtT9TxYOLYwa4zr37vv5JbMz33SI0025LcV73WYHHb9MrNODU277VefSWp98P097r+hcdza6Z3XzbnC0BxYqtbB69YRdlXimvDH2ZVEYGODESgi5EuXbqAbduwYsWKDsfvvfdesCwLSkpK4Lvvvuvw2dq1a8GyLMhkMipVJYkhRKCTkKRY3IXCzLZK1IWf1+Iiv1DDVmgmsUtU+8ePLXFivHVNg9BNXNMgIx9l68sDm3UCxhiUsLJIixvRJJdo35o8rkVi2aIaZwxPPq1cmf9VXUcYCFPOKM89zPZAtTG+FL1hkmaMGNoFGGOQyVjadZGZDzzHo272mpBP29c3OGP4mCO6CfWf+3M/4pyHRE9a/+X3jSEuojdug66Zf31vJ8ZzZ1YF6oDFN165w3suBhuixEcETjg2t2basiqYmIlKXGG9R+rWJSohlxSl3W1gjMGQgRntvscUO9PXXFm9ly/OrZnOntBDeD6FzfW8fXmtdaPqGXTfi9NWlNzQuVZvm1jhxHjJgn7Sckk3sOiR1SXJ/lJUW4Y3Z/QS6L+fBgMvu5bgQv3viUAXITU1NWDbNtx5550djp988slgWRa0tLTsds3zzz8PlmVBVVWVKjVJYgoR6CQkKRbZBDqBrxjlPR4H+QS6bpt1I6lfVS1moixQZBHopsYobZBBoOfH32sDx5SxIhOqbMgn0LHYxnuO1waeqM21NOTRzg+8CfS02CYyZmEbcFh9Fkag89xzeQm2OD4Q4begTXRdkFHT+LXhRaCbVF/56SPyvq8j7iLbjUKge/lLBHGAJS909SNKH792ggh07LEyXd+kdvLcF90Eei1To1uSMZ9kHlMx1/j5nkfvqH7gPSabQC80RF3rxdlfipqbRKDjAxHoYuS4444Dy7Lg0EMPhZ07dwIAwN///nfo0aMH2LYNV1xxxW7X3H333WBZFgwdOlS1uiQRhQh0EpIUi7tQeOYh/D/h7lWImb54jLqpGhVPPVgNt83uDbfN7u35E+6FTJJh1j3KAuUHbD9oZvvCcHZg4gUOdqjQWWb7cdrevr7BGcMvPt5fSo7x6Ov1t6x5SxWSEn2i9Hjpif5OjLeta5DWT1LyLv8cv/yJs9Fmag7x6vo/d/SF22b3htv/q7d2XWXaGfe6fBJP9OasbHyxpckZw39W+EokkfUjr7955gqVkFEXeLX35so6aGb7wm2ze8MB7IgOfauor5Ler6LGF0NsRfshDE+71kyfvs33E+5BREF+LsjSPW77qmOMIafumrsrvg/e1he1ngTvWOTPZfl1wwev5tZMLwhcMyXRWdS5+eeLqrXj6hemS5T2o+j98pO5NdN7a3f/ckh+TujIAVn5olNHlftLt83urZdAP3caDLz0WoIL9ecSgS5CHnroIedd5wcccABMmjQJBg0a5PxE+9atW3e75rTTTgPLsuD444/XoDFJFCECnYQkxeIuFNpXp/cdQiYUtiYUz2mFCN/LWLCqgm7/6/SzKfpiiFUYwRVEpGLQX1WsTOkXmw5x9TZV9zTFwSsmcWLjd74XIaXbzqTxDSLZwnLBy8e850fxO++5psZDRCyj1Fc8fkriy6RxMDGOPDWG7DkjrPaR7eMoc4fp8RYRG95r/OIa1mYh+FV3DL1yPmwciJoHwu6jvPdlVb4S0Z6I2oFgPlTuMbWvricCHRmIQBcn48aNA8uyHCI9+3dbW9tu53733XfQp08fsG0b5s6dq0FbkihCBDoJSYqFCPRoRaPK9r0WLWlfqOi2L8lGS9j1UTeoVUN37DEiaT6kFeQX80D+J8gEz8Y1bxtBxGSU9rDCa9Pfy4dBtvLeu5Nu4ov0s2kx86vB/UgbLPWVLNIIE/zGTZCtOv2gev2IETwxwgAdxGfS+RmzP2XFI6he8DtHhC5RahndvlMdIxltYPcjdv1k2Kuq7iECHR+IQBcnO3fuhDlz5sAhhxwCgwYNgkMPPRRuu+02z3OzP99uWRa89dZbijUliSpEoJOQpFjchcIN//c+P5MhYoM1bhGPdbH9u5PLYGBjZxjY2Bm2r6d3oIv0rUwdoqCElUExK4GerK+RxDkWPbDq/uLj/Z0xPLOt0gid/foshA2/OLjqop5OjFc8WiPc76Yh7D5sol3HHNENBjZ2huZBu793FSui+jnofN62gshyzHH/8LVGZwz/53+UCfN/FJJcha8wx0AmWqxWGMYOgIGNnaGYlcDdN/aRXm8l9bXMNZFq34f9XxRBe+apPZxxvHUN3jWT7LHu1aZqIlIWRgztAgMbO8MRY4oj+8B9XMeYTjvC8s7vczf2Y4c7Y7iJDRW25vUj7IPIexF5IKodlTGT3dZ1M3Jrpr88LG7NpMtu3Yhan8etd6L47KdjivQS6JOnwcBLriW4UD+ZCHQSkjAhAp2EJMXiLhREEDOmQ2cxnJSg9/v8+LElTowxbwYROsYyCmzWCRhjUMLKpGzopmmRKCteMttftqjGGcOTTyuXnney29a9eYoxzlPOKHdivPSB5O9PNtG/KvXX4Z8RQ7sAYwwyGUu7f2X7Vhapizmvt69vcMbwMUd0E+rPsM+CSAVZMeaJvwmIstHbzPZ1Yjx3ZpVU8jzMz3FzRUbMVcUnP9/9PvMjs3hsOOHY3Jppyyqcv8yma4yJ6FOU3knaKe1uA2MMhgyM9zCbSfObW2cT9Q7yuZ89yxfn1kxnT+gROF8k8V8QmR43h0TWSyriIENHnjbbJlY4MV6yoJ+yfgk5X4mud/IxvDlDBDoyEIFOQhIuRKCTkKRY3IXCtdN7ai/IMEM2+SOrcP/3E7pDRbkNFeU2bFtHBLpMiNwYioIurAg6swz0YJVSCHQMvpKhrymL5eWLa5wxPG1ShXZ9RPpfVQywx3r6uRVOjJctqkmkL3ZbC9WmHx1YBBXlNvTp1Um7LjL8nmTT2P152LwgkxRO0vYHrzY4Y/hff9FdWLtx/OlHIIryj4g4YgOPrnff2Acqym3ozDJw63W9hNVYOvJdtO9kE6NRiaW4+px8Yqkzjt99OZhAxxybuLrFffAgSp7wziOyUFezB1SU27D/yK6J/Ys5B0TmhWodk+TdC4/3d+bpejY48v0w7L4aNsfn5wbP/dJLNx49dMdIV25ddn6lM08/9WDyh44J8XNA1t7SQft1JQIdGYhAJyEJFyLQSUhSLCa8Ax3jYs9rMaZbJ4LZ8Nu0kgndNuvwsSrboxJPhRiPOL4yoR/Vfanot9BzlHwozw+ya6mobYrQQca9FkvupJVEDyNU/EiYOHWWCvJNRh9e5I6fb1TEystGncQmphoj7vjLj6tsG2XN+SbVlSrve2HznAqf6fCLrDki6J4Q1HdSe3WuMcL8p2qNnaSfqLpjGxtYIHOPSfc70BsmTYNBM64luNAwiQh0EpIwIQKdhCTFEpdAL8RCEsPGLsXBbPDGSwQ5HndjF1OuySAgorZHYyzdPjJZdwJBNkSTUUGEV9qgg8jTTVjn961bnyC9RPs8Tp0VtRbRWb/lEydx81sVueKlt6x8wgrsZKlMHTDYl0RX1Q8A6CRkVfcj+6EHv/knaC7yOs/vfoqZ5PXyc77OGPTE6j+T4FfviPIjEej4QAQ6CUm4EIFOQpJicRcKKx+t0V6MYYWozTe/hYVM3Vct6Q+P3NUPHrmrH+x4p0mLvzBDNEkrWice7M0Ohr3ZQTCSHSqFPMcOXntMtfuj1xudMfzas3Xa9SF4IwlZsuEvdU6MP3ytUbsthOTxzseyRTXwyF394NG7k7+vURUJlbQfP2JA5QawiHqNB1++2+SM4Rcf74/uXiubpElirw4/hW34eh179+V6J8bZ92OrrLNU+DfIF0E+4+kD03jww0tP5NZMn2/2XjOZYAdWPUWtp5PgsXt2xffpmD/9LOu+KMsfGHwephsPsczry79vzK2ZXl1WKyXGfoRw0L3A697Aew8KItVV5FDSGIvW6fXncmumv75KryfUHdv83BORiwtv7UMEOjIQgU5CEi5EoJOQpFjchcLMtkrthZgpSLqJJeNJTb+2jh9b4sR465rwRQa2hVchIiqBbrNOwBiDElaGjkCP2pdo3YI2OUTbJbJ9N5YtqnHG8OTTyrXkJEEuppxR7sR46QP0Pj/T4TX+RwztAowxyGQsVHqJapN3kzuMQMdQg0QlHFusVti+vsEZw8cc0a3DZ7ptUrGxztt2UOxVxTQuoTT/+t5OjAezEbvFGEu8ZfnPj/xRlSO88UyCE47NrZmyD0mI7kNUPMJilSTGMsaprJhFRWl3GxhjMGRgRor/sQGrrrzjPGo+L1+cWzOdPaFHaNteOsXN/7C1YZyYBO0dxb2XiYgdj++Szhd+17dNrHBivGRBsodSsY4P0yB6b3N4c4YIdGQgAp2EJFyIQCchSbEQgR5eAKoi9ILOSwIi0M2DbAJdpR262+fZXJBBpouE6QS6zDnUBPDoq5pAN82HmBD3vo2BQFfhj7hzrIic1NmGF4EuSqcoOsbtT8RGd9Q6Q/U8lJQUdBPoc2dW+dqv0iadiLJZLoNUkUHy5hPouuMZZqMMH0TVJWm8VPsTC4Guwh8YfM6bH7znhc0lvAS6aP/m/x2FbI9zzwwisVXnUpC9ccd/ULxFEugENTkSFUSg4wMR6CQk4UIEOglJisVdKPzpv/smLoB0PQkrs5jLXxSIIttUbSjcd0sfmPH7Spjx+0r45C39Pw2MISdE5oPMPngxgA2FRvYDGMz2iUSgF+KGb76fdevAg3deqocZv6+ERvYDePJ++nZyGrH0gWpnnt7s+tYbQR7c92AVc8G8q3vBjN9XwmXni3lY0ZT5y8vHSUifKJvSfv3LsO/Tt5ucefreeX20xkjGZnbceIi6RqaveM9ds7TWmadXLemvXXcsiErmJiViw9pIkl8Lb+3rxPhQdoywdmX6VYde+ffPOESoLH+FYdaFPWHG7ys7PAQjo5+47WGaH2XBayxHJZ390L663hnDYeSqqD2dfP155yfTYh1FX5G+zcfTD+bWTJte0LNmUr2fhxWy5q9Z0yqJQEcGItBJSMKFCHQSkhSLu1BoXy2+ANVRTMZ5ilfEMQJBFKIS6FGg2zadPtWtg27o3rQsRBSibwrRZoIYUsxUBNWJOutgEX2HEQFxYphErzAiNS05Jct/MvpR8YCK6D5U561Mn3iR2bp04vVXoZNOBO884Fm3YsodPwI9zvU8n5m0J5X0QQGsdpmmo2ydRTz04oX21fV6CfRzpsGg6dcSXGg4hwh0EpIwIQKdhCTFIopAj1PQm1B0in4qWrXeprWNETo3okwnz7HlSpTxLMsP2HwiIpam2qTLZ2kheEy1wYt0MM1XpvreLwaq+lTpS552k/YdRFjx+jjJ53HJA1HEflj/UfLM9DElyo+q/BOVbI3bv6hc0x0nXr9gIM+x+isNMU8rVN8/ROmcr4+KWi8paa/LNyYhzK+m2mUSiEDHByLQSUjChQh0EpIUi7tQ+OPs3sKKTt1FF48eURZqWGyKY/9FkyvgsIOL4LCDi+DD15L/hLuJvsAQhzjX8aKS9YFyVgX9WH0i8rxQYqt7TEfte+1Ttc4Y/sOVvbTrI/p63TZg0P/ma3o5MV7951o0vkkzVD9g9Ot/K4XDDi6Cn/yoWLvthGjgyY+/b2x0xnDbxArp+oRt2ic55vW5HzmfpOaQERuZfT92Tz8nxv9zR19p/aj0GU/MZMdUd03m1mP6ubk10/b1Ddp14okhRmAm1I/6STc47OAi+NW/lCq1H5sfdOSC3+dR16pB8/76Zbk102A2wrdd0+LhtluF7jL6ENXm/Ot7OzH2ep2KiIfCgvISy4NLaca/tXYnAh0ZiEAnIQkXItBJSFIs7kJhZlv893KaVjhG1ddUgqnFaoXjx5Y4Md66Bu9mUJogKt68BLrNOgFjDEpYWeKNbNPGso54yt5Izj+2bFGNM4Ynn1au3R+mQccYiDr+ppxR7sR46QPi33MfhzjTGQOZeugia0YM7QKMMchkLO1+0Ol/bO2K0mn7+gZnDB9zRDfpffqN6aT3qyjX548n2eMqaB5TMabnX9/biXHc9ydjQRR/yZozk7YrQ6cTjs2tmbas0vNu3Tg+wHKPVWVvEpR2t4ExBkMGZpToViixwRL75Ytza6Zapl9v1faL6ivuQzAq5qS2iRVOjMPecx9mY9DDgTz2mzK+TdEzi+HNGa0EeuPEabDnxdcSXGicSAR6FGlvb5cCEtxCBDoJSYqFl0Dn/YaC7ELNhOJPtI5JNz+JQDcXIgj0uP3qtr3Q4Y6BTAJdR6x1kphR7E+6sR/lYRbZBDph97io7jspgc6rs+oHfKJei5FEFwEeAl3mvVnkgz9+ccuPocixlLQdv01wkf7RTaDrIEt1jys/HWSttbAT6F55Xgg5IBKyCPQ0QXfMk/TvJtDPntADnW1x9NClMxZf5SOIQI9aK4fdV+P4AKvfsOqwsO0RAAAgAElEQVTlBSLQ8YEI9Ghi27ZwdOrUSbdZJCFCBDoJSYrFXShsDtgo4NmE0vHNE0z9YC1Kv3y3CT7fvAv/fH+Adn0I0cBDoI9hx/0ffi6MICrUB2BE25h07myxWuHbbQOcMfxVu74xnHQTOyqpLFLPpNeJIK6C7P2qfVeMx7Dj4HD2C2E2xfUDlgccRMY3/3rVNcsXW3L3Yqy+kamTzrzi6TOpXt9tz83TX767e4wxk+d+c3uQvqLJaWzx9MI37+Vi/PVWtfdiLGNbFnEdpR+ZvjiM/dypqTGvmTDfo7EjW2t9sUXevVhHPmBuT6VeYWsmbA+dhJ1rSixU6pldM32+uQm+3TaA24dx17E6Hl4rdLy1sk4/gX7RtQQXiECPJpZlCYdt27rNIgkRItBJSFIs7kKhfbWcJ+0xFpsYN/uwIKqu2Baipvmb154o0K2vTj9haCNum4UQO5UEuqyHSJLqHZd4wvhQjKqcEX29is0wnQQjJuT7QbcvdG1WJ533/K4Vkcu8RLlsH8mMsakb4Bj0xaCDSlsx5QpPHSL7PiaqfQz+VB0v1Q8/YmwLSyww9Bn33p8G3+jOBb+anGeOM/UhB6zg8Vf76noi0JGBCPRocvvttwdiv/32A8uyIJPJwFFHHQUzZsyAefPmwU033QQzZsyAo48+Grp06QK2bcMPf/hD5zoS3EIEOglJisVdKKx7qlZY0ROlKI1TbGFfkGLacNy8qh7WLK2FNUtrhX1jhhYKeuBHmO/Pfgw/ZC3w+nN1UvqMew2WPJFJiMTtM4pOn77d5Izh99aa/RoGESSSTt3D/h/lYQn3+dvWNTgx/vTt4G9FFQoxK5ps1VE3uP/duLwO1iythbUhtVZaY4qBPJeJr7cOcMbw2y92fCDVtIfdwsg5bPd4L91k4KPXG50Yf/hao/J4YPR32rBlVT38kLXAmqW1Wn/xJz/+hdy/aKx7etcY3vCXOnT2iXo403Qkme8+25xbM/m9uo5njYat1ja1HpaB91/JrZn+d1NT5HjK8IeJPlWtc5Rx/cxD1USgIwMR6OLklFNOAdu24YgjjoBt27b5nrdt2zY48sgjwbZtOPXUUxVqSBJXiEAnIUmx5L8DXQfRpLtAi6u3KYWyzHegBz3NK9tfpvhfBYqLLGCMwV5D6H1+UWBKDsl4B7qObxTJJpAwftuEF1HfgZ5PcBG5EhwbDD5K+g50HjtV+5WQQ9g70L3mPtHzsKi6l6eduH2pvk4ksLwDHYs/TEBUP2F6B7qf7phjz5ujOm1Q+Q50k+/PIh8EjtJn0naD3oEe5SHXfJ0wj7tCQTYGQe9A97smaD5NuodF9+boMQzzlfZ3oJ89Dfacdi3BhcaziUAXIQsXLgTLsmC//faD7777LvT87777DkaNGgW2bcN9992nQEOSJEIEOglJisVdKAxge8UqfpKcI6sgw9AOFsgk0AsZmPIEG4Ge7xvZvkq6yaNa36iQQaDr9H2SePF8KxKzP/wQlUDn8Y+Xr/z8ZrLvgtrTbZu7bz8CHYPvo8Qkqb66YxLFjih6hhHoJsJrDOmKX5yHtUTroJtAj+InDGNMVbxFAhOBnnbIImDDzlFJoJviX9PnCzeCCHReX2C9x0XVS4UdOnzlR6D7refD1pWqbNA9znT3H6RPvm5EoOMDEehipKWlBWzbhgULFnBfs2DBArAsCw4//HCJmpGIECLQSUhSLO5CYeGtfdAUUSbqgUX/fNw4qxdMGF8K1awR/r5R3U9OYkWShRLWGJ9+ShlMGF8K08+t0K5LXF9h8C0GHbzwxoo6mDC+FCaML4WFt/bVro9uBC24k3wLQBaBy9P+g7f1dWIc9VUMXqS51/+DdDMZmO1w63bJeZUwYXwpnHZSmTY7ouQkIRo+eavRGcM3xCRXsXxj002c6yISkj68IWP+X764xonxMw/VKPdLUv9hhOo8C+tn3tW9nBgfwo6Wqhvmhx3C7BbxUI0uu888tQdMGF8K0yapWTPpjq+uBxV0YdML9c4YXnBz9L0trxoJ81g1MUZJsej23JrptWc7rpnyHyBO8tC2DF+mOS4i/XHe6T2IQEcGItDFSK9evcC2bVizZg33NWvWrAHLsqBXr14SNSMRIUSgk5CkWNyFQvtqM5+0x/qUMEaoXiSYAiyb1gQ5sQ3aiJfxDUuCvljrvF5020Hkt99xP+KrEPPctNpAxgMcUc+nGkEteDbnVW/c528+e32m6yGMKL4wJU9NIh5l+gCrTTLHH1ab4+hG6yj1tmP2a9IH1XnneNkPt/DahHkOMxGifFnIMTHRdrfO7avrtRLoTWdNg8EXXktwoeksItBFSFFREdi2DUuWLOG+ZsmSJWBZFhQVFUnUjESEEIFOQpJiSQOBToWoGjsLxf5ChM7Y6s4rns0a3Tqa7G8R/fmRNTq/SStrcyds/o37TYp84quQyAATNrB58yBKe14bujzfyuHtG2u8TQTmjXk/El11HkTNy6g66vIxJgJdhQ+C5iQsOmb7kZ3nOmsYVfFNm32YoGoeiFufiK7/dSNsrhJRx2GyV7eeSR7qDKp/0+ovDH2KjDUR6PhABLoYGTx4MNi2DSeeeCL3NSeeeCJYlgV77rmnRM1IRAgR6CQkKRZ3oXBfjJ+5KjSI3shUUdzOvrQK+rI6GD+uO/2Ee0pxyomlMH5cdzj/zHjvxzaBYNINnXa8/tyu8Tt+XHe45yY983QU+2WStLw6xiWaZejE09debH8nxl4/RxhF/6Dz3cSqbmJOdS7omueyn7VNrIDx47rDSb8sjdWOKH2CPo/af5pzKCo+frPRGcPXzegpPGaYIPJBpjg5F3RcJim5bFGNE+M/L6zWHgeZsRQdO697Tn7MeAiPOLVIFNxwRZUT4w9fK6w1k4gHt7DruPODgTBh/K4103mnx1sz6bAbox9l9pNEvzdX5tZMd83tLcyGKLWkDruxxE50315/L7y1L4wf1x36sjp45ZnaRLboXiOIaM+EuTtqf2dP0PsT7kSgE4EuS8477zywLAts24ZZs2aFnn/VVVc550+ZMkWBhiRJhAh0EpIUi7tQmNlWyb0okElOJN0wIXTE8WNLnBhvXdOQOG4UC3woLrKAMQZ7Dclo1wUrTJ5Xli2qccbw5NPEbPhhi4WItvL/zieNddsdZP+UM8qdGC99oDrQT1geDtDtsyjXYvDJiKFdgDEGmYwlleRL0ibPN6ww+BIjtq9vcMbwMUd00xbDQoLquXD+9b2dGM+N+Z57bJA1VwT1wfuNQR044djcmmnLKjG/zIbpm5Cy8sEklHa3gTEGQwaKWzPpzF8Z5JxpXxZwY/ni3Jrp7Ak9hPlC9sM7WICFOPc71mK1QtvECifGSxb0Czw3P45YbU8aG1Mf2vDrf3hzRi+BfuY0GNx2LcGFpjOJQBchn3zyCfTt2xds2wbbtmHvvfeG6667DpYvXw5vvfUWbNq0CZYvXw7XXXcd7LPPPmDbNliWBf369YNPPvlEt/okIUIEOglJiiWfQBddZOkuyjAWhKoRhUAnmAnsBLqOzcM4fXp9QwoD0kagy4qxyf16EehJ+47zrZmgtrCNiyh6y9I9SttuAl21b0X4wWtONTEnZEEmgY7NzxjIFZ6cFv3NMlMJ9LCHsbDllyr7veBFoOeTMFHmPtn1L6YHsDDH1Y00Eegy+xT1gJLJBLpo/U0ZWzJ1TZI32WMNbIgngW6aj3XHAhPybSQCHR+IQBcnGzZsgJqaGueb5UGwLAv69+8PGzZs0K02CYcQgU5CkmJxFwqvPhv8E0hxirdCKPjC7I/70IEo3723tgEOYEfAxuV18PXWAVx6ytqQkblZl6Zci2rLGyvqYOPyOtgs6NsyMv3J83S5DD15ck/3ZoEfPt/cBBuX74rxX18t3IdgguYomXOKirnlw9canRh/vrkpUb/5G/xefvM7ln/c5HnVS3+R809YW/kx2LKqHjYur4M3VtTF6i+JH5JcE0S+mZofMvT+5r0BzhiO+rCiqX4UEYckeaT6IYOP38zN0/94o7B+3jtpfKLmhC6dt61rcGIctGaK4wPRDzDpjq+KWPKQuFH7eXOlnDWTigfhdMdUlx1RrvliS27N9IGgNZPXQzQUTz250mK1dlgzffZ/a6ag8ykOOVv91nzY/DKKjSECHRlUEujt7e0wadIkGDx4MBQXF0N5eTmMGjUKrrrqKtixY4eUPnfs2AENDbmHoevq6qT0k5VPP/0UzjnnHKioqADLsjxRUVEBkyZNgk8//VSqLiTihAh0EpIUi7tQaF/tv5Ck4tNs8G5AqO5Xh60E9Yiz2Rj0TZ+4m5cEAhYkebgqbn+6bcYEUf4I23zCQHrIeECO8kl8jPx8iyGHRNoX5TMsOmY/x6KrKVB9n5PRjgj7MeiCBTz+MNVfUWOta2xghyiCXbS/aDyL8Z9uPbK68OqkWmcVDwbqtIkXB7OfaSXQB5wxDYZccC3BhQFnqCHQH330USgrK3P6yseee+4JmzdvFt7vpEmTOvQjm0DPyjfffAMrV66EefPm/X/2rjy8iiLbVzdwIZAEEpYAITtRgiyiuIOK8oZRRBQBHQVlUZyHK+My6mB8OKOCCsIoLjMoigsuCA6oICKiIAJKQFY3kKCioOICuLB43h+Z27dz0923urvWvud83++D3NtddZaq7lP1O30bxo8fD3fddRc88sgjsHz5cvjtt9+E6IDCTpBAR0GJsNgThY+Xp34qStSms4qJnK744ZMy2LWxFHZtLIX9X9R9moJHop5O/lUB8fhG4YmoqBRysNTj1+3trRjbK+3TETQ+VCXefmzasyVxnXZ76g3BbozI0Oe7D0utGMu0KYpzSAUc+DJxnf7+43D3Yq8CMkTCR6Lb2/dZ4jq977P0vheLjI1IuK2ZVLBJBR2C6siiEMirbT8E6jeborNmEh1H1WAnQuOf8V4z6eIblvaGtZm1z+xrpl+q3ddMTuNDpN9k+0l2vMKMnfVvFSKBrhhEEOhr166Fxo0bAyEEMjMz4Y477oDly5fDG2+8AZdddpnVf4cOHWDPnj3M+q2qqoJ69epBo0aNICsrSyiBjhItQQIdBSXC4vYOdHzCUz5YPXXk9Q50pz5o+8G4qwO3d6DzjJGK40S1BT4r4DvQw8eI5XjlMU5o34EuUqeoQbaP3N6BjohGvFm8A132GPWjpy66soSu70CnjSnLY3UdH07vQOdtj59fKxHxdGJQG1iNCZZPZjt9x+sd6KL9y8rnUXhwwT6HWL8DPYw9UbhXJtuggj1jx+S6vgOdtR1h7FXBVzrqdugr+e9ARwJdDoF+6qmnAiEE6tevD8uXL6/z/d13323pMG7cOCZ9Hjx4EI4++mgghMDtt98ORUVFSKCjBBYk0FFQIixOBHrQak3VE7Eow8v3fgl0v/GMKmmp06LXjUBH+I+vihtJSKCz97nbtU7W0wphCXSE+tCVQA+SC8q+jsq4d7Mg0J38mMqWsJu7on3Fqz8RtkSZQJcRSxVzbCcCneXTeLLtQ/Ah0IPGnvc1nocdKujjldOzJtBVsFc2WF3rWfmShkCXGTcW9tLmgLzjHUaPMIV50gn0Kyuh4pZJCBvaX8mXQF+1apXV/uWXX+54zKFDh6CiogIIIZCTkwP79+8P3e/EiROtn4b/7bffhBPoW7ZsgaeeegruvfdeuP322+Gbb74R0i8KH0ECHQUlwmJPFGbcnyct0WSZ6EWhb5Zt/uOm5nDG6Y2hOWkNOzeUevYT5UVilG0754wmcMbpjeF/hzWNjN9YbSipHHda3T54sxDOOL0xnHF6Y/j3pFba2ivTh6r767EpeVaM17xRqLUt6YpU/r9yZFM44/TG0I8Buao6ZBICsubBt5tLrTk87oZcJe3gSV7L1kEEXnsu34rxvKfonnpTFbKJMN6b8UFx198Sa6av1tctOvYiE2QV4MmMn+xxRKNDcszOOysTzji9MYwami1cR7d1t2wfqhSvIO3Z/97wVpF1nX74Hu81E+u+VfZrUF39jlERPnni/sSa6f2FBXV8EPRpc5mxk+VLlvp6HeuXiB/xp2wk0BUDbwL9lltusdpfsWKF63F33XWXddzChQtD9blt2zZo0qQJEEJg8eLFAADCCPSqqio4+eSTwTTNWti4cWOt4x544AFo2bIltG/fnknBAApfQQIdBSXCYk8UqlcXc0ueogJRNsuuNlVJLwT/uCIwRlFAFPyowmZ0OvhZhF+i4ieViJIgcdAFrPUO8ssBYftLRzIoKvB7/VJ1ncKrLRZ9J8+PKM4XVYtuebdD+4Q5b/+I9L/M+cizPdp5qfq8ZZ2TqmivijqF9b/T+BOdf9Nez3j2Wb26WC6BfkUlVNw8CWFD+yv4Eug9e/YEQgg0adIEDhw44Hrc8uXLLT0qKytD9XnmmWcCIQSGDh1qfSaCQH/55ZehUaNGYJomGIZhwYlA37NnD2RmZoJpmjB79mxuOqGwESTQUVAiLGEIdF3BenEcRehUtYtApAKO4Wj6TKWnIVjZo8MTSrreH1hsqLJsM+qIElEg03+62Slqo5fHk3ZB+4saWBEvPMYCDyKbVZ9eTz+6+ULXccXrnsjz/CBPTbL0k9e4k10A4NWeDmPUa96J1kGmD6JuYzpA5WJcPwVBYdeKSKCrB94EeosWLYAQAl27dvU8bvfu3ZYegwYNCtzfzJkzrZ+C37lzp/U5bwL9q6++gqysLDAMAzp16gQLFiyAvXv3uhLoAABDhgwB0zThsssu46ITCjtBAh0FJcJiTxTmzmgTOLmTnczx1ksle/3iqQdbwy3X5MAt1+TA9x+Xuh6nKykS5XjT6nHb9blwyzU5MOUfer6Tk9dGuCpxDIstq4qtOfzK0/x/NlZHv9HoTPM0iSzb589sC8WkAxSTDnAi+WOgDVZV7n86jR/aMcFibNx/Z0u45ZocuPUv4X/eWwWfyXhCJUg8Reny46dl1nV6xgP6vhJJZGxE9cuKdH3vtQIoJh3glmty4N1XC0K3GWUkXztZFYS4tcOq/WcerlkzFZMO8N2H3q+9SmV3ELt0gc7FAONuqFkz3Xd7i5T2sVqDeBVQ8LxnqhQTP+RbGFs+ey+xZgryqo0wBUMyfauKLiJ889pz+VaMP1peJDUWLIsdZa3zgupIsw4Ien37+825SKArBjuBvmrVKvj888894Ud++eUXq+2+ffumPD7+s+vHH398oFjv3r0b8vLygBACjzzySK3veBPoN954IxiGAcXFxfD9999bn3sR6NOmTQPDMOCoo47iohMKO0ECHQUlwmJPFMaPbS49KWOV2PldoEV5o2NA30wrxj1IX+3tQdRF4wwDCCHQuSImpX8ec0xUWzpgyZx21hy+fnSOdH0Q7FFMDrdifBQ5mel9TNR8YbmJFCXE/dGtU0MghEAsZiijE4vzeRMAsm2lxY51JdYcPjsN3nOvKniNxd7GQHh0cp4V46njW9b6TrbdrG31+lsn+NV9cP/EmmnrqmLf99UgJKnK108VQOsbWj9mZ5lACIGKcr5rJhXiymp95icGYc5ngWXzEmuma0c1ExY3FeItw98yMHZMglxd8GztIgkZtrPe4wg730TYGrSYjVbnrh1jUgn08tGV0PGmSQgbykcnCHQa+JFdu3ZZ551//vkpj2/VqhUQQqBTp06BYj1y5EgghMAJJ5wAv//+e63veBPoXbt2BdM04f7776/1uReBvnTpUjAMA3Jzc7nohMJOkEBHQYmw6Eygi6z4VDGBpYWdQN9eVaKFzgh/8ZFNoOsCVca8Xz1UIdBlVPTTfi/iGs7T/lQEOo0OvDYudX7SjDXC2K0Sgc7D/lTfRX3M8CDQdfGZLnqGtdGNQNcVOsTNqZAs1ZO9bsVnNAR2MoEuws86xIGl7rLW7fFzaAj0sCSq7vc8Wbqz6NeLQE8VlzBxUyneIsefDLu9CHTRNtH4OtU9S5YfVR4PSKCrB54E+vbt263z7O8jd5OCggIghEBZWZnvOL/11ltgGAbUr18fPvjggzrf8ybQs7OzwTRNWLlyZa3PvQj0tWvXgmEYEIvFuOiEwk6QQEdBibDYE4WV81P/HKGOyV2UNy5osOaNQlj4fD4sfD4fepFzpeuDYI9Fs2riu/wV/EnRKOK7D0utOfzhO3V/qk4n6LIxJbr6/6PlRXAU6QlHkZ5wCjnbd0W/Sr5DOOPdVwtg4fP58PoL+dLjJfsJHRWeUvPawAyyeXoaOde6TlctKlQ2Djx8o5odvAisz9eUWDGuXs2GXJUxTmSRezyIU9o1Hu3c/uDNcGsm1eaCLnENE2Mafexj/o0Xa+K7bF47qXapFIcweyVBv+Nl0+6PEmumzcv8r5loCE7aolsZa5cw6wXRsQqKj98tsmK8a6P76wll2e4WA79kO+9Y8LxmOB3v55y5M9ogga4Y7AQ6659wF/UE+q+//gqHH17z0MJ1113neAxvAj0jIwNM04Sqqqpan3sR6EuWLAHDMCAnJ4eLTijsBAl0FJQIiz1RSLUZpNKmAIvFtKi+ZUM3fREIO/xuWOgG2YQRDz3CxoyHT3j5WSSxwfvJpiDtihpTqkBm7iErxqrYSrPpyJKYd2ovLLEjK+Yqt8fLZpr4pStU9wPNfcX+rxdh6kZgpHtxtYhY6QSvcSGr4ER3eM3RMIVYYa7rIglDN9tpfRZGT9p2cFyzhxd5LsLnIshzHu0ko3p1sVwC/X8roeNfJyFsKP/fSm4xEfUO9FtvvRUIIVBQUAB79uxxPIY3gV5SUgKmacKLL75Y63MvAv2uu+4CwzCgc+fOXHRCYSdIoKOgRFj8EOh+kiXVEnLV9OGts472IhA0cCNnRS8YEXxjGyRu6RRb1mQ3gs5vXhu3US/28fKPCmOR1eZk0A1v1WPPwi+0n8v0QTJ5kK7zkqd/g3zHoo8g5KZK1+gojD9RZCUrXVXRV4QvVPC3zP5p9GFFTPPyiyhylWW+pPo44I1U9x9aH7HwG01ceRVVsi5MQwJdPfAk0AEAWrRoAYQQ6Nq1q+dxu3fvtvQYNGiQrz5isZpXAwwfPhxmzpzpiLgeLVq0sD574403wphWS4YMGQKmacKQIUNqfe5GoO/btw+KiorANE244oormOmBwkeQQEdBibDYE4W7b2tOldzolhh7JXQqLWp44YJzMyGjkQEZjQz4fE2JdH0QqeF3rDXPMSGjkQHHHNlQGZ14taFSP6Lw9n/aWXP45qvZvwNdZ385bRbIJLSC9nXrX3KtGC9+0fsnvqMQNxE+Duof+5NoLMfSCd0bQUYjA5pmm6F0EulDP7rxaj+o/rx0cIvDjnUlYJJ6kNHIgIH9MkPpoDopr7J+PHV5/J951nX6kXtbSbc1SnGT7Ys4hgzMsmL82XvsfqZfB1/zLGwSqUsqEimvZc11ulsnfmsmJ53SgUQPqgvLY5e/UmDN4RuuyAncj1Pswp4v0u8013vRurHCuBsSa6aFz9OtmXj628+6RHRu6nWsyPj77eeYIxsiga4YeBPoPXv2BEIINGnSBA4cOOB63PLlyy09KisrffXh5x3udpxyyikhrUvI66+/DoZhQL169eC1116zPnci0Pfs2QN9+/a1vkv+2XcU9QQJdBSUCIs9URg/trnw5AjB39cD+mZaMd5ehQR6FNE4wwBCCHSuiEnXJRV0f8JDBpbMaWfN4etHsyXQRW9uiqiwD/KUmZ/NMa9jg9p301U5VowXzXLfDKK1Ld3nGYunaljb2a1TzWZQLGYoYSurDWunTVodxghr7FhXYs3hs/s0ka4PL6gcW966PTo5z4rx1PEtpdsb1CdBSSCW7YmwN4heg/sn1kxbV4Un0FkUcAftg0c7smNNe3/xOiY7ywRCCFSUi1szhR2XKviehz5+26A5ftm8xJrp2lHNhPbtdp5qeVGYggAVMHZMrhXjBc+2la5P2DHCqu9U4yz5GBnXfNq50LVjTD6BfuMkhA28CfSbb77Zan/FihWux911113WcXYCmkZUINABAM4991wwDAMaNmwI119/PaxcudIiyZcuXQorVqyA22+/Hdq2bQumaYJpmjBs2DCmOqDwESTQUVAiLPZE4eG79XuagkUSJ1sHFvp6JcJjLm8GXTrGoEvHGOxYR0egsyAfouh/VXFst4bQpWMMBvTNlK4Lj7irPk54P7Xz3msF1hye+H8tlNVZlbjJIpbDtD/57y2tGL/7aoGSvlV9HvK0NQjZnHzOoLMzoUvHGBzdhe6pN139LWKjWEXf7NpYas3hAtI+kB9EPgmUrJ+KPpUFN1/Mnt7GivGz/2otXU+/+oc9VjXQPFHp177rR+dYMWb1q11BSIuox070uLDjxGMaQZeOMej/RzGFTjyfOFWpnaDtse6/alGhNYfvrnRfM4Xp1+9cDjP/WeZUyTroeg25/87EmmnZvHbS9Un2L8v4+2mfdXGcmw08fJSMlqQNEuiKgTeBvnLlSqv9yy+/3PGYQ4cOQUVFBRBCoFmzZrB//37mevB+BzpAzc+y9+rVyyLN3WAYBhiGAb1794Zff/2Vmz4o7AQJdBSUCEvQd6AjxIL3Ewy6LqAQCDdEZUzraoeqeot4GoxGh+QNfpqNCb+kCO/CjnSDnyffolygQqsXi6IDlnOCt79VjQeNvqyvPyz9KssnukHlgg3R8dKpOERUwXLUQFsoqSJRyDNH8EvoBiXe3IpXeMVRZahUMEh7Hw8zBnWJiwoQWazIu3Au1ZhhbZcS70BXgLRWCbwJdIDEz7jXr18fli9fXuf7u+++29Lhtttuq/P9m2++aX1/ySWXBNJBBIEOUFMMcO+990Lbtm0tojwZzZs3h7vuugsOHTrEVRcUdoIEOgpKhIWGQKfdMJadpEYRqRao6Hc1wXoTQSU9VdNLVRvSJVa6gaUfWZHxQTYx0+2+rIMtYTekWfSrgj9pNtiSdU41l0T6M4zfvPRkObd52CTTxyrEVmV90C+CS+gAACAASURBVJ5o+cRvoZAqeqoGtzUybWGFbB+KLgCjhagxwyqHlgVR85gXga6K36LWXxgdeF+jVPAFLWQT6If9uRKOuGESwobD/syfQK+qqoKMjAwghEBmZibceeed8O6778LixYth1KhRifgcdhj89NNPdc7XiUCPy4EDB+Cdd96BKVOmwN/+9je46aab4J577oFFixbhU+caChLoKCgRFnuisOgF9/euIsSBVVV3HPNntoWp41vC1PEt4actZczaRaiDR+5tBVPHt4SZj6j7k6JxpNpMCruJE8UCky/WllhzWIWfqtPFrzoUpcTH+jGkF3Qg3aAD6Qbbq9x/NjaK41sXOG2WOhHCbtew5/7dGqaObwkPpdHrcpz8QJvjsC5EYLXZ7Xbeni1l1nX6lafrvpNThY1rr7iE9Us6YNPSIivG65YUKu0/VYpOVEOqe+iCZxNrph8+KeOmg0rXgzA+5O0fv/GkOe/fk2rWTM88LG7N5JU/iOpbFIkeZgyxIBq//CCxZlo613nNRNMPbcEcq7ksIg682hdxTbD/vWJ+gRXjbe97/4ImLz/S9BFkTSjKp6rjoQktkUBXDCIIdACAuXPnQnZ2tuv7yA877DD45JNPHM/VkUBHiZYggY6CEmGxJwrjxzaXniylK7w2lGkJR7djBvTNtGLsRcwg9EXjDAMIIdC5IkZ9jsinDGjbE7l5oxOWzGlnzeHrR+dwi0FUoANxbj+vtzEQisnhiWK2WfnMyT0/x+K4Cubv5Ht2sh+7dWoIhBCIxQwu/Qc5l1esaa/nNN/z0pu17TvWlVhz+Ow+dd+tS6u3TPIC4Y1HJ+dZMZ46vqV0faIMWWN0cP/EmmnrKr1ebYbzmq44ITvLBEIIVJTTr5l4xUrU9d4vvHSTtX6kPW/ZvMSa6dpRzRzPV4HsdsoZWY2HVHFkoS+PGLr5IPmzsWNyrRgveLZuwSKrOPvRUwRRzxPJ80P2/aRrxxgS6IpBFIEOALBt2zYYM2YMHHbYYdC4cWNo1qwZdO/eHSZMmAD79u1zPQ8JdBTZggQ6CkqEJQyBLjux0h1+N1OD+tsPgY4x1RN+CXQV4xxmI0JFe1jq5Uagy7Bf9dj4JeNkx9mNQBfpM1mxUkVP1mPa7RqWRZoBIQQMYjLpQ1V/+vWLlz5uG5QiNi79oic5KyWBztJPKsRUJf+L0IEngc6SOJEdC52hM4GuE1iThU5tu60pRBDoKs3DIAS6zvcQNwLdbeyF2WcJ4yteRRS0hRBh4ySLhD/0lXwC3a19v/apdJ1QTbdM0lQugX55JRxx/SSEDYddLo5Aj7IMHz4chg8fDuPGjYODBw9SnfPll1/C8OHDYcSIEZy1QwkrSKCjoERY7InCm7Oj+xPuKlRSytL1jRfz4bEpefDYlLw6P+Fu79PrbwT7GLNsb8YDNfGd83gb6bapgKiN3x3rSqw5vHJ+QVrZLhqy/PfeawVWjL9YS/9LIU6bNTgG5MLtHv7SE23gsSl5cAQ5xjeRzOI41uf67SPM5jTrggIedvci58JjU/KgI+kOr4d8JZLuc1gmEcPTtx8tL7Ku05uWFknTVzWfRgmLbWumHz/l8xPuCL5INT+enFoT3xcfk7tmEl28FpZAdytUkGGTF75an1gzrfjvmsnLNlp7aWKpQi6SyiY/92W341jf3/229f7CxJrp8zXq/bqilz3JxQ08Cij8fM5Lj7B4bEoeEuiKAQl0NmIYBpimCaZpwmmnnQa7d+9Oec6GDRus81DUFiTQUVAiLPZEoXp16kr7qGzSq6K734Q1SFKso1+iDPQx+g99F15/FtdNnX3utBnI+/6AEDc2RIxvWhKfxfhhsdnK6ykqvzbw9hXCf9xUJevD2KQydNVZR70R9PEN8l3UEZQ8V4UI5jFGwpLHXn5O/j9tbHjbR1PoQKszi5gn263q+PHjEz9FJ6raq5Jfq1cXSyXQDx9VCZ2um4Sw4fBRSKCzkDgRHv+3vLwcNm/e7HkOEuj6CBLoKCgRFr8EumzITjhF9k9TuYpAIPSCrLmL14xgvkh1rGjS2mnzheaeoEv8WZG1KutH0x7vePkdMyzGl9OYpdmwT1Uswnrsp9rwDLMhqss8jDJ4xCAKcVXdBtX1Q8iD1zWZhjikaVvX8ReWQGdN8Mr2Y6rxECTeXvkBK5+E8V2q/CqM/8K0pSto82evtRqPwokoobcxEAl0BYEEOhuJE+EjR46EevXqgWEY0LRpU5g/f77rOUig6yNIoKOgRFjsicIDjN/nJzLJUrUfVkRNmI3ZK0Y0hfLSBlBe2gB2rCsJpBtCbXTpGIPy0gbQ93/qvnc1ahBFYKlkx8r5BdYcHj+2ufQY6OJjnXDPbS2sGL/zcjvf/mW5CaYidNPXCWf3aQLlpQ2g42F0710Nsymb6hwv0jcISR00pjTkuQhdgvrWrv/JpJ81h/98SVOuflEJuuiZKpY0eGFaGyvGTz3YWqs46eBfFfq/+tJmVoy3V6n308AI5+uv23FO945unRpCeWkD6NOrccpxwupzmb5SgTwXifcXJtZMd9ycWDPR5FNh7PWbp6TSx418DaMXD7uD6OOWe9Lqcd/tiTXT2//xt2ZiqXvQQosg4yXd8MdeGUigKwYk0NlInAjfuHEjzJs3D7Kzs8EwDKhfvz5MnDjR8Rwk0PURJNBRUCIs9kRBR2ImaqDdLPeTaA/om2nFGDeDoonGGQYQQqBzBR0xg6gNmQtXmr6XzGlnzeHrR+dI95cKfonaZsNNV+VYMV40K/j7k1XbKBMxFnSxt1unhkAIgVjMoNaP1Wau03epNiuTvwuzcejVBo0eKm7uJ+u0Y12JNYfP7hO8mE22Xaz9I1uPoLo7fd6RdLdiPFXTomOV/Mn73CDnD+6fWDNtXaX+L7OlI2jzQ6d7xqGvyqEeqQ+EEKgoj3kWkYXVQwWEIdCD2OiXUORh87J5iTXTtaOaBdaFlnAPS6rSfMczDnY7eI5Dmn5pdRg7JteK8YJn23LT249Nqf5G+PNp144xuQT6ZZXQ6S+TEDYcfhkS6CzETqADAKxfvx6Ki4utz0eMGAH79++vdQ4S6PoIEugoKBEWe6IwaVyLQAljuoDl4oJVVTFNGxcPzoLcHBNyc0z4Yi0dgU5L5CP4kR9+0K5tfcjNMaHHsY2k+0OUb9MJy+a1s+Zw5XW5XPyniq9VJM6Dblz5OW/cDblWjJfM8X6awmuzKYoEug6g2QA89cQMyM0xoXWrelL1cCIUVPGdm572v1OR7jxscvJr8r9frS+x5vBF52V52pKqLRXiwjO2uuKpB1tbMe5IuguJmc6FCDoh7uMRF2ZbMd72Pl8CnUVcZeZEoscmzfXfTUf7OUXt6kMDEoOmpG4+zfP+SKs3y37DkOdBfKDCtWrF/AJrDt9yDd+iY7f7eqocRQU/6Yw7bm5uxfiNF4MXHbOMO8vjowbae4b9u5OObYQEumJAAp2NJBPoAADffvst9OzZ0/quR48esGvXLut7JND1ESTQUVAiLDzegR6VJJGWiAhTIezWThAdw/QdVCfe1cpRGUuI4GNAtg5os1pQyT8ir4+0m8Yq+zGK13TVCE8/BLrXmOJFkITZdPTSKeymv+yYJcdCJ/1ZxlsFsM6lEQjdoBo5xLM4xelvJ/JdNZ/7bTsoga6jvSLhtg9ESxIigvtdtg5R1JWnD/zmt9LfgY4EOhLonMSJQAcA2L9/P4wYMcL6vri4GNatWwcASKDrJEigo6BEWHgQ6FEGLalOk0CqDBX0FL2Yp42pCvrwtlFX0NrAomAFgUgFmcRjqvP8tIfjPpw/ZBaiJfdDQxjI9m+yHk66ydKTpZ/c7GFZJKNKPHVFGP+p4HtW13kVbEHwj4vqcQ47H1MVZLkd49SOTgVPQclzv9cE1vdFnaF70QUvHVPlJTrYFIW4BLVHZIGhdAL90kroNGYSwobDL0UCnYW4EehxmThxItSvXx8Mw4CsrCx46aWXkEDXSJBAR0GJsNgTheUve/9sbLrDz8JSln5OOq1aUABzn2wLc59sC/s+KwvVlkjbZVTEqxxfL7zydE1835wtdw6r4LOw41YFG5LxzaZSaw5veKuIKcES9Lgw5/I8TyaC3CPix2x8u8iK8c4NpdJtYemH5O9oNm5VHg9BdVkypx3MfbItvPyUnPc1eunuRQSwKMIIq6cq5LlX3z9vK7Pm8Mr5BVJjrFLRgagxIwLb3i+2Yuz1fmyZuSsrf8vWXRbeey2xZtqzJbFmUtUfovNaVf3gR/9upAfMfbItLLb99LPTnPW696lafOZld9D8Szd8uzmxZlq/pFCav/18TtsWi3iJijvP9jctTayZvl5P93pChLx4BrlPvTCtNRLoigEJdDaSikAHAHj11VehadOmYBgG1KtXDy655BIk0DURJNBRUCIs9kRh/NjmwhMq1UC7oFRpwZlKjwF9M60Yb6/y9w501nH3e05UF/esY944wwBCCHSuiEnXS5eNOp3G1JI57aw5fP1ovu/zU92nMgp7RBRP3XRVjhXjRbOCv8/Pb2GDiOu4/TwaiB5TrO13+75bp4ZACIFYzBBqmxspTkOWi7r/poq9KnmAlw471pVYc/jsPk2U0JUnSaJCPETj0cl5Voynjm+prW9UmU+y/efUz+D+iTWTW5GEyr7jpatIm3n0ZW8zO8sEQghUlMdqfU+z9k/+WxcC3clO1us1VgVbYfVaNi+xZrp2VDMlfG23y0+ezisnFrm/wqOfsWNyrRgveFZeUWoU4Hc8+ollmLh37RhDAl0xIIHORmgIdACATZs2QVlZmXU8Euh6CBLoKCgRFp0IdF0Wp6qBhkCXQUoh2EE1Al3lDTtexSE8IZNA1/kJBZq+VIk1KwJdRvyCbL7QEOi6bUyngp1A510clIog9/KtjMI1P9dlWaRFKr+IJNBT5WxOc0mneaSqrjQEuqq66+pz0aAh0BH8wXM8OhHo9n5p7ou6kOepdFNBd1brsvgxKhLorIsV7O2H8TfvXJRX27oQ6CrML1l2hb0+yibQO1xaCZ3HTELY0AEJdCZCS6ADAHz33Xdw6qmngmEYSKBrIkigo6BEWOyJwitPt1E+GUvnZDXZNjc7kz9/7t+t4fYbm8PtNzaH7z8O9tPAvCqg0zGGPHxz199q4vvQ3a2k66Y6ge6kr+yYpsJn7xVbc3jh8+zIVZZxYUFO89zo87NhFLSfMO0umpVvxXhLik17leeX133JD1jrxcKmsPfBR+5tBbff2BzKSCduMaH1H81YpSHbRYyf5M3isJvHtLH2Ox5//LTMmsMzH2mtxJhjNa5kty8KqeyoWlRoxXjVAv8/0x8VP6kE1j59YVobK8bffaj361QQzphwawu4/cbmjkUwTtd8r3uOijlLVEHr5+rViTWTTHI1VaEbK3uD6OWWV+mCxS8m1kyfrMBCJ9FwK9Rk2ceEyuZIoCsGJNDZyJIlS2DJkiXw888/Ux1/4MABqKyshGHDhsGwYcM4a4cSVpBAR0GJsNgTherVchJQ3ZJ2Gbak2kRl0a9XEhy2whmRHr6TTaDr6jeEv9j6If946IDjLLj/dCTQWdovug83nzqR0bL9w9qnLAplZPjFaw7oMEdU1g0hHryKXHj3g1C7WI9X325FXLrkKKroxqIY0KkdFvf1dAePPSTaOGB8ooPkdbnTOj1MvKtXFyOBrhiQQEdBSS1IoKOgRFhUINCjBBEL61TV8X7aofkeFzvi4fUUHo+2Weup0+a/SrqkG1KR4rJjw/J6qhpkEoN+yHMsopE/TlTzqZ/7CO/7nc6Imj2I9ACOW/3A8z4SJEegPce+DlZx/RLWX7rbggg/BqLUF+otft3K00/SCfSRldD52kkIGzqMRAIdBSWVIIGOghJhsScK06fkKZ1IJfej4mJWJV3iuO36XMghLeG0Hhmwc0NpqCe2EOLHBc25Z5zeGE7rkQEjLsxWSnentljNW1ZPHuow5te8UQin9ciA03pkSP+ZftEIWhwUNK5BzmNxTf3XxFZWjFe/XijUtyLacNuIVvVezgOXDcmG03pkwB9ObSxNB79+Fh0TP+NJNIGeCt9uLrXm8NgxuYHsjvoc0B2vPtPWivFLT8h97VU6QsT8GHdDrhXjHetKuOvD2iZVryEq6BXX4aw/NIHTemTAsAu810xOBX0q2KFL7EQXfsePW7cksWZ6wOFn+hH649HJeVaMg7xOBcEGqda/Ya6ZQwZmIYGuGJBAR0FJLUigo6BEWOyJwvixzbklUbzPSZcFbZBN1gF9M60Yb68qqdOeak82p0ssWdrfOMMAQgh0rohJ1z+VbelClrHEkjntrDl8/egc6frQxFm2DqLs8bux54abrsqxYrxoVr7rubyLT1jGkaaQJZU9URpL3To1BEIIxGKGVD3cfCortwqTB/LWz08/O9aVWHP47D5NpMYYwQePTs6zYuz0/uSwwEIK+RjcP7Fm2roqOr/MFuRJbZZ9i8pbaJCdZQIhBCrKY7770G1u6qavm95+7Fg2L7FmunZUs0B+4OU3FePBu8ifh81jx+RaMQ77nns/910V4ycDInzWtWMMCXTFgAS6Pxk3bpwFt8+DAEVtQQIdBSXCwpJAR4hJVv0imUDn8fStqOIJFdpWURcaAl0Fn6hAoOu4Qa06gc5i/vMkUZ3Gm2q/QuBEoDvNlyCbin4IU9XHjWo2+AELAj3s9ct+firCXKRvg25uiyT9U7XLgkCnKToRFRMV+lUNvAl0jLF8RJVAj0LcWa0dnAh0LOz1HhMy7k1B1wVOBLqfPnUdB370ZlGYK9NPrAj0ID5TNU8TBVHFKNIJ9BGV0OWaSQgbOoxAAt2PGIYBpmmCaZqunwcBitqCBDoKSoTFnihsSYONAl3AMjn/eVsZ7NlSgwNftg/UhkjbdIIqtsTju3drmXRdaHzGigRSFaz12/9FeyvGv1S3Z9p2WHui8JSGCn39Up2I8f4v2lvHehWc6FCE5EXep/qOZlNP9WuBHXu3Ju7FfnVnucGZ3FYq0txv37THsiwGYD0mkgsNaHxwcEdiDv+8jf29WNbGvk5zjDd++zwR41+3878Xo+/Fw23NhAgO1cZx2DWT7sV/PMlSFWJtXzOdRgZoFx+esZW1pmANpzUTL595+ZH28ygiTAE3zXEfLy9CAl0xIIHuTwzDsOD2eRCgqC1IoKOgRFjsiUL16mAEerokiioloX4SUpXjw1I3Fe1UUSe0LVo28PRDFP0jk/D3Q/QlE3einu5h1Rdt0YXq9yhVwHKDz6t9tzHKI05h23PSlXYeOhHkbscl+0Y28aFCwQ/v2Mr0r4xzo+hLBCKOKI1h1vctFcGjYI6lLjL61AW064rkY4PsMUXBv2HWbl7+TGeEnbPxY6tXF8sl0IdXQperJyFs6DAcCXQUlFSCBDoKSoTFniisfaOQWwJKu5mOYJ+8bllVDFWLCqFqUWHgJ2Z4bJyzWqzh+CmHtYtr4rtpaZF0XXhD9yc/guDHT8usOfz5mhJlfCnKj1HrxwlfrC2xYvzjp4knlHlszsh6itWtICBdNp82LyuC40hvWOMz1xKxgaya72XmB04FHjTFL79ub2/N4U9X6v+LTrKuEyrb+82mUivGOzeUCtVdtTmqQjx4YKttzeTnF3/SLT46I75m2vg2nzWTDqSaqKJMFuf59eVPWxJrph6kr7L+4uF/P4SwWzGrqEK9IHuD8c+//CCxZvrhEz6/vkdTWCo75irD73hMxpuz85FAVwxIoKOgpBYk0FFQIiys34EedrMSQecnP4uc5HegO7WZDgSVKuDhA5p3oOsCHCN1oco70EVfJ2SShKLJaqd3oCf7Ih03bVS1NchYCvoOdFV8IGpDldVmJYv5nqqIxf4di3egqwJVxpxq8HoHOqtCj3QvOJZtf7q9A11E3FSD0zvQZftCFGmpasxodaE5Lvkd6EFyB5V8w9rPXveb5DWHqoXWye9ADzPnaAs4nPwjO56ykWo8pTrWy4/S34GOBDoS6Jzkrbfegrfeegs+/vhj2aqgcBAk0FFQIixBCXSvTUQE/yTVj7/dCHSe8aJ5WgvBzi9RItBF+UwnPUUQ6H42EFjZq0ss47qy2OBz+86NQE/uP8imltvTJrrEQmXd/CBOoBvE5OKXqBTCsbaLFbGZ6jsvAj1sjiySVJRRaMQLrPXzItBF26K673VFMoHOs3BHZFu8++Shq1fxVJhrapxAb0KypPiXlnDSBaILTlNdC8MS6PY2vcaeyH0UFue7FQO6FS6GWffxHtfJBDpNn2HXcCrlpjJ8zrJ/t7FohxIE+lWTEDYggc5GDMMA0zRh+vTpslVB4SBIoKOgRFjsicIL01qHToaikACqAlZ+eHBCKxg1NBtGDc2GbzeXCu1btu3pgitHNoVRQ7Nh3A250nVRCVEZRx++U2TN4RemtYmsH1WNV6rNFLenE/z08eJjbawYJ7+KgeUTD6r6OB30//tfm8OoodkwenhTJn4IswkfdJw69S+SMKLpi4VfnHycCt9/XGrN4QcYkKs65t86z08aLJvXzorxm7PbMW07CBkRdX/LwCP3JtZMuzbSrZkQ4hFm7F99aTMYNTQbKq+Tt2ZyIzhl+1VnxP33yYpiaw4/+6+6e1u0cfHKB4Lk47xJd7vOqYj/sGSwH1t42Dzn8cSaacNbRVz7osl1ZftDFfjxVSqf/fXKZkigKwYk0NlIVlYWmKYJ77//vmxVUDgIEugo2siPP/4IM2fOhL/85S9w8sknQ1lZGWRnZ0ODBg2gZcuWcMopp8CECRPg22+/pWpv+fLlMGTIECgqKoKGDRtC69atoU+fPjBz5kyq83/99Ve49dZbobi4GBo2bAhHHHEETJ06FX7//feU57711lswYsQIqKiogKysLGjQoAG0adMGunbtCueeey7cd999UFVVBYcOHaLSxU3siUL1avypOgQ7RO1pGd31R/CLK44NBA3CjJPkDQc/ZItf0lE38NJdFZ94FWrw0DcsGc+ClOcdxyD9iNj8pu1LlbEZRejkW510VRW6+VA3fVnZp5LdYXM5p89Usi+sTaz9Q3OsqEK+IHkOTd4uKj6idQlb7CkTtH7SySZV/ElTLFu9uhgJdMWABDobOeKII8A0TXj77bdlq4LCQZBAR9FGXn/9deui7oUWLVrAggULPNsaN24cmKbp2ka/fv3gl19+cT3/4MGD8Ic//MHx3Msuu8z1vH379sHAgQOp7CCEwPz58wP7CwAJdBbJYJDvWPaDUB/pGj/7Qol2ES3jqbt0jrGopyGigCBEHIsnOr3mkS4x8uu7sGRs1KDiBruKOtHoJ6O4L2xRgig9EWzip1ufOLYQqkCH4uswRWK82pZlf5inbsPEmuc9MmxuE5Rk5x2z5LUEy3Eg07aogmexA6/rrFeBkN8+ZBPoFcMqoeuVkxA2VAxDAp2F3HjjjWCaJlRWVspWBYWDIIGOoo28/vrrUFBQABdffDFMmTIFZs+eDe+++y6888478Nxzz8GgQYOgXr16QAiBWCwGH3zwgWM7//73v62bQ1lZGTz66KOwatUqeOmll6BXr17WdxdddJGrLg8++CAQQiA/Px+mT58OK1asgMmTJ0PTpk09ie8zzzzTar99+/YwYcIEWLx4MaxZswaWLVsG06dPh0svvRRatWrFnEDvTI6Xniwi2GPKP1rC0EFZMHRQlutPuAfd3E3+DBdJcjDywmwYOigLbr6az/uxw8K+eMIx4h+blhZZc/iZh/39HKFXTGTb5aSLSnoF9WEQG579V2toQ2ri7PRzhFGYQ05PwTjZyMKfLPUNS+bHzxs7JheGDsqC4X/KDu0/HjHhca4KJGAQHYKcs/ujUus6fd/tLYTZLdO3yd/rem2ixZI57awYv/5CvhRfI/jicNLNivHODdH5CXfVx5VI/UYNrVkz/fXK1Gsm2jxFtA9UzQW99OJJ0tnx0fKaXLoNKYInp+Yxa59VTujVJss4yB43PPt5YVob6zr9wZuFQuzR3Wcyx0OQ8XjtKLk/4Y4EOhLovOSrr76CFi1aQHZ2Nqxfv162OiiMBQl0FG3k4MGDKY+ZM2eOdeEfMGBAne+///57aNas5oZdWFgI33zzTZ0++vXrZ7Xx1ltvOfZz6qmnAiGkDkkf73/48OF1znn11Vetdvv06QO//vqrp62zZs2CDRs2pLTZS+yJwvixzaUnjqonmqL1Y2HfgL6ZVoy3V5Uw70/1GKQDGmcYNUUwFTHpujghmfxTacyo+PRhMpbMaWfN4SJymPL2ygZLG0URQzddlWPF+Chycp25EqWiJd5PrbAoCAszTtza69ap4X8LOA2q9sI+5SVjI05WDHm04/fcHetKrDl8dp8mQn3Pww86Xlt449HJeVaMpzJ4z72Tr3W9rkcFg/sn1kxbV0X3l9nSeYxlZ9X8wmBFebA1U9g5Kvu+qGqftIVaqb5fNi+xZrp2VDNl9JcNlvcW2UVzY8fkWjFe8Gxb6b7VFTLHbKrx2LVjDAl0xYAEOjtZsWIF5OfnQ3Z2Ntxxxx3w2WefyVYJhZEggY4SOenQoYP1U+7Jcvfdd1s3Brd3nX/++efWk+xnnXWW4zHl5eXQvHnzOp//9NNPQAiBP/zhD3W+GzVqlNV3WGKcVuyJQnvSWXoiFyTxUn3BwiuxpLXbD4EepH3Vnx5VUSfWQAI92mPDTqBfP1rcrwzw9o8u/mehe6rrpJ1AXzQrn/l1VWdf66J/KhLdD4HuZbdKvqB5Iosl0aDCk39uEEGg8y4+4d2WCghjDy8CXaafVcrJVIh1OhDoUY03LcIS6CrEQPcY8ryX8ybQaXTXPT5B/SLKbtUJdNXjr0O+IZ1Av6QSul4xCWFDxSVIoLOQkpISKCkpgZYtW4JhGGCaJpimCdnZ2VBYWGh974TS0lLZ6qOkECTQUSInRx99NBBCIDMzs853J554IhBCIDs7G3777TfXVuLbswAAIABJREFUNvr06QOEEGjYsCHs2bOnzvcnnXSSIxE+d+5cIITAxRdf7NomIcTz6XOWYk8Ujid/UCK5Ep0EqminU4IZVM/P15TA5mVFsHlZEfy6vT1zvVSOtYqx5YEP36mJ7xZFN/tUJdDt+qnc5p4tZdYc/no9fREMSz10mvcykaroye2p8p0bSq0Y79lSRvUEOk3fOvlOlTHC68myrauKYfOyIjiR9PHVlltc3fqSHXPW13ie9wyW7f72eXs4gfSBzcuKYHtVia+2ZccMQYfdHyWu0999yO7nvWUWoqbzfcMJX6xlt2ZCBAPv8ffRcrXXTDoiSME/r1xr79bEmukrn2smVralC2TtwdnXTD9tKZPuBz92qbIul/0rAqmw/OV2SKArBiTQ2YhhGIFhmqZs9VFSCBLoKJGSTZs2WU+Pd+/evdZ3v/32G9SvX9/6CXUvufPOO60byOLFi+t8f8899wAhBAoKCuDxxx+HlStXwv333w85OTVPmc2bN6/OOfafhl+zZk04QynFnihUr667kBRRZRv0fBaJnwpJowo6qK67zj5CJGLIkkBXnfROJ6SL31gRDX6J8XTycRAfsvRVKiJLRhx0J2JZXPtVLLxCIFgh7DoIgRAFHHPR9L/MgjyvvMtLr6A5mp8202m8p7I1SGFvOkKkX3SLgZ+1QPXqYiTQFQMS6Gxk2LBhoYCitiCBjqK97Nu3Dz7++GOYOHEi5OUlfn7vySefrHXchg0brO+uueYazzZnz56d+Bm/qVPrfP/LL7/AcccdZx1jh9PT5wAAlZWJm9JJJ50Eu3btCm40pdgThY+XFwlLxlQl0HRIKP3a/8MnZbBrYyns2lgK+7+gf5rCT/VslGKhI+LxZflEFA+wJEFYzxWVx/Cv29tbMZZZaa+yj1TygdvmktPGU/zfPVsS12m3p95kPqUYZYjy5Xcf1sT3ZNLPV7+qPmkexL9BC050iPeBLxPX6VNJf+X0Y+3DdMwD932WuE7v+4ztvVj3eS4TLH0XdM3kRzeMqVx8s0n8mkm3IjAddHXTMeiayZ6Xp9v9LdX4VM1++5rpl2r+vxTiJ1/XvehVtg/jWP9WoVQCvePFlXDk6EkIGzpejAQ6CkoqQQIdRUuZPn26I3ltvUf2+uvh999/r3XO/Pnzre/vuecez/bfe+8969ibbrrJ8Zg9e/bAddddB/n5+dCgQQM47LDDYNKkSXDo0CHH46urq6Fx48ZWuxkZGTBgwACYPHkyvPvuu1x+1t2eKIwf29w1wQn6tBct2SArgVQpceWVnHu9A93vgkklf0UJYZ/OU/kd6CyuD6zO0xWi34EeJd/JfLKP5r4Z/zf5Heh+dVH9XqsyRPkkyDvQZegZVC9V9RPlAxHvQJcNkQVwKo4nnu9AV9XmdEMU3oGuwjhSQQc3+HkHun19Fnatxtt3Ye7FqhV6hOmb9zvQeemt8pxRyU+Hvkrfd6CrNkZ46iP7HehIoCOBjoISRJBAR9FS3Aj0I488ElasWOF4zvPPP28d99BDD3m2v2nTJuvYK6+8kpne8+bNg8zMTEfdGzZsCD179oRJkybBd999x6Q/JwLdKSFKlSAFrdbFDf3UiWjYJyu8CHQ/erA8HlHXf2E2ZnQl0FkcL1tfERBNoEcFQTcRk+di0Hnp9uSt0yZnMTm8FoHOchzKGNOiNpp18k0QAj1IAVLQnEH3MScbsgl0lX0uopBJhP28CXQdY6QjvO5Nogj0dPK3akgm0L3umV6QbYebzn6PU9EeHQl0mQW7vPR2W8eI0sWtT1kEOj5YIg7SCfShlXDk/05C2NBxKBLoKCipBAl0FC3l+++/h/Xr18P69eth1apVMHPmTDj33HOBEAJlZWWO7yCfMWOGdVN49NFHPdvfsmWLdezIkSOZ6r59+3a44oorIDc3kRwmo1mzZvDEE0+E7sueKMy4P48qWeSdjCJS+8iPz/5xU3M44/TGcMbpjWHnhlLqdjAu4mIbdlPmnDOawBmnN4b/HdZUmg1BvuPdd9BYyB4TyfjgzUJrDv97Uivp+ugMWU/Luo2t+GePTcmzYrzmjULHY7zsQdDFPWicWPj8ypFN4YzTG0M/TZ5O5v0kFY+xG4Q8YIVvN5dac3jcDbnS46fa+BBJLvC6Lr72XD40J63hjNMbw7yn1HvqTYdxoLoOd/0tsWb6ar1z0bEKNusWI5Vw3lmZcMbpjWHU0OzA5Dlrn4ZtT7ViI1H9O7W14a0iaw4/fA/fNRMLQlV2PLx04L0u9loXefX7xP2JNdP7Cwuk+UfFWEelGHbEn7KRQFcMSKDzkV9++QWWLVsGs2bNghkzZsCPP/4oWyWUEIIEOkqkZMaMGWAYBpimCdOnT6/1nQpPoNvlwIEDsHLlSvjnP/8Jw4cPh/Ly8jpE+mOPPRaqD3uiUL3audI+yCaZH8hKzKICv350qyb2WsTQthfWDtm+lBm/dJwPfjYe0s03qsSE1bEi2vFqk2aehbkG0s7f5I2h5PN4+h/nEPoDgfFHPyLicYtK7KJki5eNKrShK/zmfWH3L4LmkwiEKkhep8gsUORpH+9zZNjFW08RfqheXYwEumJAAp2tbN++HS6++GJo2LAhmKZpYePGjbWOmzZtGhxzzDHQu3fvOq8gRlFPkEBHiZwMHjwYCCHQpEkT2L17t/U563eg85D3338fevToYfWdk5MDP/30U+D27InCH09rDDddlfh54JeeaAOtSD4M6JsJS+e2sz6/9KJsGNA3Ey69KNv6bOncdjCgbyYM6JsJLz3Rxvr8pqtyrM/jn21aWmR99ujkxFPv99zWwvp818aaJ6V3bSy1PrvnthbWsY9OzrM+37S0yPo8/lmyHfHPk+1oRfKF2HEy6cfNjnxSAgP6ZkI+KbESWic7ehsD69jR2xjoaEdvY6BrPOJj4p7bWlj9hbEj3kaQcdWK5AeKB+9xFcSO+IKHpx3x2PGyw8/8aEXyPe3obQykikd8/MiyQ+VxJcqOMOOqtzEQupNTa9kRj6mbHfH+/NhRTrpQXa9akXzp8Yjbl2xHK5KP8wPtEGZHK5Jv2dHbGMjEjvjYxnhE047exsBI2OF23dXZjqjEI4gd9vtg1Ne1cTu81oNxO+K+iH92AunjK7+yrwdZ2dHbGCglvxrQN5En9jYGQkfSHVqRfGhF8uEE0sf6PP5ZMTncMb/qTk51HVe9jYGWHa1Ivpbjimc8onj/iIodtPfBoOtBmuuVlx0dSXch8fB7/8B5Tm9H8rp28Yv5Ugn0I4ZUQrc/T0LYcMQQJNBZycqVK6F58+ZgmiYYhmHBiUDftWuXRbIvWLBAksYotIIEOkrk5Omnn7Yu/k8//bT1+fr1663Pr7nmGs82Zs+enXgP3tSpvFWuJXv37oX27dtb/c+ePTtwW/ZEgRACxx/dyEp47r2thfX5s/9qbX2e36Y+EEIgv01967Nn/9XaOvZeW0J3/NGNrM/jn7m9m+q8sxLvnYs/DW+vPjzvrESSdu2oZtbny+Ylkr90tqMhybAWIHY7LjwvC265JgduuSYHjjmyofJ2+I1H3Gbd7Qgbjw7tG8CUf7SsY0d30ktZO3qQM4XHo7cxULt5vmVVMWRl1rznvnmOqcT1iuW46kyOF2pHIUnozGuel5Mu1udNSa6nHYWkHLqRHnDLNTnQoX0DLnaUky517OhtDIzcfTCVHb2NgdLsKC6oD7dckwO3/iVX+v2jtzGwjh3xe6nO90GZ93N7fjXjgTxt7YhKPHjY8d5rBXBst4Zc7BB9H4xCPHjY8czDreGWa3Lg3DObaG1HVOLBy44rRzSF+25vUcsOezGzPb/qTnpZn8c/a0pyrXsmjR1O63N7nqhb3q7yuPrbtTnW53+1EYe62RGVePCw47Xn8uHiwVnWZ4Uk8VS0TnZEJR487LhsqNyfcEcCHQl0XvLDDz9A69atwTAMaNu2LTz00EOwYcMGVwIdAOCcc84B0zThqquukqAxih9BAh0lcrJw4ULr4n/nnXdan//2229Qr149IIRAnz59PNu48847rTYWL17MW+U6cuutt1r933333YHbcSPQexsDXROshiRDqQQrCHGgYqLIK+HtXBGz/p9FmillR2dyfNrFg5cd8Vgf+koMQagKkeNnA0vXcbVkTkKHzCaGlnbE4+QnHqmIZ792sCAI/dpBQ9gWkppqfvtcts+PHuRMYdcrHQtMdJnnjTNqimBiMYNLIVlvY2Co6y6reNAUZogmDkSMq6O7JIjVs//7nnsd7YhKPHgUWj46Oa/WNRrjET07BvdP9M3DDtr7eXzMpns8eNlBCIGK8lgoAt2PHU4Eupcdfu7nXvFQeT3YiuRT2+FnXF05sqn1+Zm9G9exoyHJwPkR0A5VCi3HjkmsDwmpWUdFOR4yHjiQPT/aF9e3/o8EuhpAAp2N/P3vfwfDMKBly5ZQXV1tfe5FoE+dOhUMw4DjjjtOpKooAQQJdJTIyfTp062L/z//+c9a351wwglACIHs7Gz47bffXNvo06dPTRLesGGon1APKg899FAiobn33sDt2BOFm69pBl+vT/wM+A+flMH2qhLYXlUCe7eWWclNT9IXtleVwBdrS6zP9m5NHPvDJ4ljv15fYn0e/+znbYljd39Uan2+a2Op9fn+L9rDoa/KYf8X7a3P4j/7c+irctj9UeLYn7cl+ot/9vX6RH9udnyxtiRydsRjZ7ejX5/EUxRr3igMZcfp5DzmdsR1xnEV3I5GjWriGyfQdbMjeVzFx0RQO3qRc7WZ5z1I35TxsBPof76kKVM7Tib9fNnR47/z1G884jENG4/TyLmWDn7icTLpV2tcxds47b+61RDVfS074seeSvo7Xq9o7ehtDKzlY7sd8c9OJf2hmBye2NB4pDXz61VYO6J03XWKB60dvY2Bta5XJ5N+1HZ06lBTzBaLGdyuu8njyssOWfHoQfpauvU2BsLX60usuRdmXPUgfaWOq/VLCq05HCfQdZwfPOZ5b2Ng6PtgUDt6kL7M7LAT6HfcnKttPKIyrnjYYSfQl7/cTls7VIlHPNdQyY7MJjXFbBXlMcc8sbcxEE4l/aEH6Qs9SN86eWIP0rfWvV+neERhXJ1mW+M52bHwubbWHL5yRFMl7ehB+lrx6G0M1CYeYdfnrOywE+hPPZgnfH7I2Gfwm7frNK6c7OjcoYFwsrYWgX5RJXS7fBLChiMuQgKdhRx77LFgmibcddddtT73ItCXLFkChmFAixYtRKmJElCQQEeJnJx5ZqL6+80336z13YQJE6zvZs6c6Xj+559/bj2pfuaZZzLT6/fff6c+duTIkZaeL774YuA+7YnCyvkFVgKDiA7WvFEIC5/Ph4XP58O+z8pCtRVfOLE8J74pQdt2EB14tKESFs2qie/yV8TOYZF+jPfl1CdvPWSPl+8+LLXm8IfvFEnVJYjvnOa3Vzx5xsftWmP/3M/1iFYvt/bin59I/mjF+JtNpaH7RgQfN7zm+7uvFsDC5/PhKHKysraL7D+I/8PozWpeu+HnbWXWHK5aVBhKZ9nxYRln2Tqw1OXzNSVWjONPUulqC8IZH7yZWDPZyQWMUzR80NsYCG+8WBNf+5Oa9lzVL2TbpKqvWerox9e7P0qsmTYvK/LVrw4+1AG8/fjxu0VwFOkJC5/Pr0XAstI11Wc4Tvhj7ow2SKArBiTQ2UhOTg6YpgnvvPNOrc+9CPS1a9eCYRgQi8VEqYkSUJBAR9FGpk+fDr/88ovnMZMmTbIu/MXFxXDgwIFa33/33XfQtGnNTz8VFRXBt99+W+v7gwcPQr9+/aw2WP58++WXXw533HEHfPfdd57HLVy4EOrXr/lZmyZNmsCPP/4YuE97okC7GeQ3acQkM33gd3HhZwMCxxF9DERs6vDoR8cY66izaP+osMkou/9kf8jWA1E3LrJ1SBc7wswBmfbp4FtZdvktgpTtS9n9IzC2UdNdhu1+C2pTfReGNE/n2Kk4PsLGQ7d40jysoLpdquR3KvsonWD/mXck0NUAEuhspFGjRmCaJqxdu7bW514E+rJly8AwDMjOzhalJkpAQQIdRRspKiqC3NxcuOyyy+CJJ56AZcuWwdq1a2Hp0qXw4IMPwkknnWRd9GOxGLz++uuO7Tz88MPWcWVlZfDYY4/Be++9B//5z3+gV69e1nd/+tOfmOp/3nnnWbqdc845MHnyZHj99dehqqoKVq1aBc888wxccMEFYJqmpcN9990Xqs8gBDpCDaia7Ou4MR41iPAlb2LUzwaVKHtlx1V1+5LbUPUpnSjFlNfTugj0IfpVf51VgQpkhigdsKhQP50R8iB6vDjlqfF/dXviPJ0Q1PeiC8TC9CHbxyLsEhFDP8fLHFcIb0gn0C+shG6jJiFsOOJCJNBZSEFBAZimCfPmzav1uReBPmXKFDAMAw4//HBRaqIEFCTQUbSRoqIi66LuhXbt2sHChQs926qsrATDMFzbOPPMM1M+7e5Xrr76air9CSHQqFEjmDBhQug+7YnC3bc1p04mVU4cVdaNh32p7L3g3EzIaGRARiMDPl9Twk2vMHHQoTJaZTTPMSGjkQHHHNmQ2t9hN4RYbCiIeJpDxNjiPW7f/k87aw7ffHWOcvq7xU+XTUcVdLv1L7lWjBe/mK+U3ir4Jwo4oXsjyGhkQH3SQLouKoDlxraIze1UfexYV2LN4YH9MqX7V4TNKo0NEcT14//Ms2L8yL2ttPAL6ufvOjFkYJYV48/ei15huWoxkkGg57WsByapB906NaxTjM6aRPc6PoztqsVRJSx/pcCawzdcwX7NxCI+LIhlFjqK7DfMHEr+/7gbEmumhc/TrZmCxIvH3EXQ4ZgjGyKBrhiQQGcj5513HpimCaNHj671uRuBfvDgQTjiiCPANE0YOXKkSFVRAggS6CjayKeffgoPP/wwnH/++dClSxfIy8uD+vXrQ2ZmJpSVlcF5550H06dPh3379lG1984778CFF14IBQUFEIvFoFWrVvA///M/8Mwzz3Czobq6Gh555BEYMmQIHHnkkZCTkwP169eHjIwMaNu2LfTu3RvuuOMO2L59O5P+7InC+LHNlSc6ooAgi6ZkEtBPjAb0zbRivL1KHIHuxz5EODTOqCn26VwRo4oHi6cqWBPcrBDF8bZkTjtrDl8/mu1mECsSy+kzHWIhY/PW6Tp+01U5VowXzQq/GYQQF0/aY7t1qtkMMogpXW9VwPs6IfI+tWNdiTWHz+7TRLpvVYGIa6yo6/ijk/OsGE8d31J5fdMVYQonB/dPrJm2rqIn0HV7QlXkdTdoPHjY3NsYCNlZNb/kV1Eeq5OTsVojIfiOKS8sm5dYMxUStfWWdX8UXXwYdD65HTd2TK4V4wXPtq11rOwCPNWgqm2p9OraMYYEumJAAp2NzJo1CwzDgEaNGkFVVZX1uROBfujQIbj00kut7958800JGqP4ESTQUVAiLPZE4eG7W3kmNiIrpb2O130hG2bREMTuMZc3gy4dY9ClYwx6krOk2+5USZxO4GHzsd0aQpeOMRjQN/VTbzw2h6IYR57V6H59/t5rBdYcnvh/Lbjax6qtME8YiLJDxr3Erb/Jf29pxfjdVwuUiGu6g3VxyaCzM6FLxxgc3YXul0KiDN3yOBp9d20stebw1Zc2cx0HukFn3Vlj9vQ2Voyf/VfryPhYdv8q2XP96BwrxiJ/tSvKkD2+kom1E49pBF06xqD/H5s4rkvd1key7VDFn6rbWLWo0JrDd1e2UN5foghf2WQ9yzbvvzOxZlo2rx33GKg+hqKoe/8/NpFKoHf6UyUcddkkhA2d/oQEOis56aSTwDAMyMnJgQceeAB27txpkeSbNm2Cr7/+GmbMmAHdunUD0zTBNE0488wzZauNQiFIoKOgRFhSvQPdqSpbRuJH069uG7J+7JetA9pS1w5dx5tfAl1VglJH37v5X7ZOImxWLa409zbdYkN7n1QpDroC/YO+R8iLF+8CMJG26A5V4ouxUSN2PPoNq6dX8TZtwX7ycSzzrTC+iNq4l309cfJvqjEi22dBfcFrLNHOL14+5B2TdFq/y4Tsd6AjgY4EOk/55ptvoKKiwiLN7WjUqFGtvw3DgC5dusD3338vW20UCkECHQUlwpKKQPeboPJaZMjaLBOFVFXusnUOslBg/fSeSvBLgKpkhx8CnQV5zmuhqZJPVfKLyn7zKtIQTWR7bajqCLd7hyqxRzjHQPZmsS6IQoELxjO9bVQNUcvRVVljIrx9rAppT5P/JRda0rSLiBZkj1te9nj9P2z7TvOGR/tu7fLar9Jxz0cVBPEJEujqAQl0trJv3z648sorISMjAwzDcEQsFoPLL78c9u7dK1tdFEpBAh0FJcJiTxQWvRDsvavJibJIYj1MIqdaguukEwuibf7MtjB1fEuYOr4l/LSlLJR+vOxWZVwEiZcKY+mRe1vB1PEtYeYjdD8pSkugs/SPCB+pEItU/QfxyxdrS6w5HOan6mRuXNKS57yIbT/tyLhfLX+lwIrx9ip/PxuLGzry4Mevz/27NXQg3eChpNflxNuJWox428Sz/SDt7tlSZs3hV55uK93/ou1XGazuKZuWFlkxXrekULpd6R5nHuTWgmcTa6YfPgm+ZlLBLzJjz5KoY63rvyfVrJk6keM89yx4FW7xIvhUhAxbv/wgsWZaOjf1milVzq9K0Qfvtlmsk5zWcE7zP6hf4+etmF8AHUg3mDq+JfQgZwqLBU1RgCrzVRU9gury0ISW8gn0SychbEACnY98++238PTTT8OYMWPgoosuggsuuACuuOIKmDZtGnz55Zey1UPxKUigo6BEWOyJwvixzZVM0lRKAGXYFtb+AX0zrRj7JWZE2e/2r+pQhfRonGEAIQQ6V8R8685rASiCpPfqW2Q7fjcd/PplyZx21hy+fnSO8PHFgnzwS6DLmFesSPYgx990VU6imG0WfTGbChvl6YggPu3WqSEQQiAWMxzbUiFOqtzTVIEfX+xYV2LN4bP7NFFSRxbnpTMenZxnxXjq+JZKx1cnyMgN3a51g/sn1kxbV7m/2kxFpNJNBd155NV+28vOMoEQAhXlMWqiXwXfqaSHDJ1p21k2L7FmunZUM+n2qwxWBSE019bk78PkLmPH5FoxXvAsm4JFP3Neh3momo5+9enaMYYEumJAAh0FJbUggY6CEmFxItCDkAh+NvFFJ3Q01aIqJ5Bhz1ORQOe5MRJluC04gxDoIvwmmxTlvVEX9Lri1x9+CHQRMWXZPwsCPQrzv5gc7kqgB7FPt2KVdEAWaeZIoKMfowFZBDoiAd7zSAaBjhA7HvJIuzoEetSuzzzJYR6+YlHQa/+7HqlvEeg059Lkvar7UCXwto+WQI+6n2niwGrs+im0ZtGfF4Ge7nFlFUfR7Sd/J5tA73zBrXD0yIkIGzpfcCsS6Aykuroaqqur4eDBg9TnHDp0yDoPRW1BAh0FJcJiTxTenJ0feKOeRbIc5YTXaWHhZC+PTY03XsyHx6bkwWNT8kL9hDtCHlKRizMeqInvnMfbMOuPh+4q+FB2LINgx7oSaw6vnF/gWOnvZZ/9mhOE9BexMeKHPKe5dsoYX2HOf++1AuhIusNjU/KgJ+lbxydBfCnTH1FFGL++9EQbeGxKHjz+zzzpdrC2DVEOe7eWWdfp1x1eiYT+1R8fLS+yYrxpaZF0fXSHinNisW3N9OOnZY73UxX15uFv3seLbjcey07kWHhsSh68+FjdNVOqWPMqyKdtN13zOz/rgq/WJ9ZMK+YXcOszCmBFnova04rj/YUFVow/X8Pv4ZB0GAOi4TZWkvcaHpuShwS6YkACnY0YhgH16tWDjRs3Up/z6aefWuehqC1IoKOgRFjsiUL16ro/Vec3GeK1oNQVUfEHbQEAgo/vwzydqwJE6BuU2GX1ZItIG5MJ8eRx4fV9UJI6rJ2p+vRD0tOeq+NcYa276hva6Qhe1yLdwepa7PS5CtcC2f0jEDwQtXHNe70TNX952alisWNYPaJSTMEz5rQ+YVkYIdt2VrrrZkuqa6RuMXZbJ+sWF1XHBI0f48dUry5GAl0xIIHORgzDANM0AxHopmly1AyFhSCBjoISYWFFoNMkRSKSUdUSXNX0CWMHLQkncsNENf/yGtOqEACyfK/yJpxM//Mk0N18zdvvtOR+2PsJ6/nEeozyLlgQ7R8Eu7HBUycV9dIdOvtUZ92jaIdqYEVCqgyddHXSW0X9RYybsEWbNHkoLzt1QxDyNOgahKV+XsenS+xEjgedofL1VMcY0VwzpBPo598KR4+YiLCh8/lIoLOQIAT6J598AoZhQP369TlqhsJCkEBHQYmw2BOFB/77Pj/ZSZWTDqKrmXVOSpNxxYimUF7aABqTTNixzv/PXNGQcbJtVAkyqq27dIxBeWkD6Ps/+N5V2XHjgZXzC6C8tAGUlzaA8WObW/p6zcNU5HnQuctrE8GPPl42qxh7mvbvua2FFeN3Xm7neJ6o+2CQTWoR84fVZqwsnN2nCZSXNoCOh8W00Df53i9bH9Wxc0OpNYf/fEnTWn5U4RqjQpsywNL/L0xrY8X4qQdbS7dNtl9lxYEnCkh7K8Y9/vs6FQQbsCrGDJvrdevUEMpLG0BzoubrVHSAnwKFIOeHif/7CxNrpjtubh6oXR2uVX7jFBWbDn1VDvfdnlgzvf2fdtx8FzW/8fAPL/yxVwYS6IoBCXQ2EoRAf/vtt8EwDMjJyeGoGQoLQQIdBSXCYk8U2pPO0pOxsEmajA0a1RPrAX0zrRhvr/JHoNOQ56rbnw6xb5xh1CT7FTHputD6Kwx5q5r/acZFmLmyZE47aw5fPzqnTpvJi3xa8pxFDHj5y+s4rw0hvxseLK5hLHxy01U5VowXzar7/mRZPmfZTpjNUppzVd/s6tapIRBCIBYzlNbTy+dhrxmqxygMdqwrsebw2X2aSMlFo+hX1j4Kc/77wmgHAAAgAElEQVSjkxPv5Jz636JjHfRG0COPJPKtrav8/TJbkKIC2fYGBUvy021twOI+5HRsdpYJhBCoKHdeM7m1LyterO7FMuItA8vmJebwtaOaKRMzt++c1nAsfB/lnGDsmFwrxguebcs9lsm+TPc9MBbXyFTHdu0YQwJdMSCBzkbiBPqmTZtSHrt//37YvHkz9OnTBwzDgOOPP16AhihhBAl0FJQIiz1ROIx0VTYhS3WOaGJNRuV80H4uHpwFuTkm5OaY8MVa/0+g231MQ8L52SBP58UHy3HSrm19yM0xocexjYT52A+hxaof1caK3w2SoLFYNq+dNYcrr8ul6psHea4K3DYy/IwRlvazaGvcDblWjJfMYfM0hWqbwEF1T3WvcRsfoq5RtDj1xAzIzTGhdat6wvVgTeywJE+igq/Wl1hz+KLzsiJtqw7g4f+nHmxtxXjafa2494cQjxEXZlsx3vZ+uFeb6QDZ45Zn/265YVG7mjXT8Uc7r5lU8g+CLs72v1fML7Dm8C3X5EjRya5bmMLDVGubdB2fd9zc3IrxGy96Fx2H9ZHb+lnnNbWK+ib78aRjG0kl0LsMvhW6D5+IsKHLYCTQg4hpmrVgGIZFovvFvffeK9sclBSCBDoKSoQl+R3oKiZUyUmqbD2ilrDS6EtDxLkRWrzi6vc81cgUlrbx8K8qoCHQ/ZKnrPVSrU+ZBHpQos4PQepmr5++dB8LvMH62uo3LqnmfRR9rmK8vTZx0zUGOtitg46I6APHoRo+0SkOPAjD5BxRRqElgu344BU3r/UECyKc1blO41mn4g+VdaMdI6zX07r4xEvPIOPd7VjZ70BHAh0JdFYSJ8zD4vzzz4eDBw/KNgclhSCBjoISYeFJoLNMKL3IWllJoir9i9DRD3keNra6xMaPbWHOl+VfL5/L8j3PzQEWiz1Rc9FPzEUR6Cw2rPxcV1QqAogagtx3eGwgyZhnUYl9mHuGrr7heU3w4wfV/SQb6J9ogUWOi5AP3rGgzStY5RZO7ah47Q7qFwRbH9MeKyIWqQjz5L91Hhus9wpF6u0Wg7B6yIyn7LFk7x8JdPWABHow+b//+79aiD99Pnr06Drf2TFu3DiYMGECzJgxAz799FPZZqBQChLoKCgRFnuisPxlNj8byzIR40n4hNWZJwHFsu1VCwpg7pNtYe6TbWHfZ2WhdGNBCnvFN0i7PIoM/OrEYyz4afOVp2vi++bsdo7tyNx8cVv0B9kkY7ko1Yl8/WZTKcx9si0cSU6CE8gfqMaOSPKchw9Z66m6zRvfLrKu0zs3lErXxysubv5UadMobEEHD/8tmdMO5j7ZFl5+iu/7GlWxN6r6u/X387Yyaw6vnF+glZ0qjgEVddr2frEVY7f3Y6uoN8aQHu+9llgz7dkSbM2E8A+3nC/o+s2r3VefqYnv0eQULrlMUFt1Bq+iSr9t9jYGwrebS605vH5JIdf4pho/IvJancaTl55+bNi0NLFmOpn0C90eK9tEzIMowcs/L0xrLZdAH3QrdB82EWFDl0FIoLOQOIG+ceNG2aqgcBAk0FFQIiz2RGH82ObSkiRWiarsdnicF1a3AX0zrRhvryoJ3CZPwlE1ci+IPiziH3QsNM4wgBACnStiUm0REZco9JGq/+R4LZnTzprDReQwX+erOL9k+lSFGDvhpqtyrBgvmuX9Pj+ZfhTRtspxCoNunRoCIQRiMUO6LqxjGoTkCNufKkVhcexYV2LN4bP7NJEeWwR7PDo5z4rx1PEtpeuDSIDVfWNw/8Saya1IQmeoeF/lsSb1ukdkZ5lACIEmJMvXeX50450vqRZHmfok971sXmLNdO2oZtxI7FTFGqzXXX72CFQbH2662v/1o/PYMblWjBc8W7coldeeXFg7EfS+6NoxhgS6YkACnY08/vjj8Pjjj8OPP/4oWxUUDoIEOgpKhEUkgS4bQRcWLBYkMhNnJwKdlR9ZnBOW4GO9MA26mOOJVAsw1gQ6b1+nGgui+pMRQ1of2OGHQHdrQ6XxzNJftOeybo81dCDQnXwicnNQdyQT6KrY6xVDVTbFVfGVly6qE+gq+VBXPZFAVwe8cloZBLrKY142ePgmFYEu255Ua2YV4yFbL7seyQR6quNTrZGSP3f6W3aRrqr5Eq3uYQj0bqQnc9/7bc9r3RmmLVVjyXqd7QQk0NUDEugoKKkFCXQUlAiLPVF45ek20hMyXkmd7CSUNensB8/9uzXcfmNzuP3G5vD9x3J+GpimaloU0Rd284KVDiz7uOtvNfF96O5WKf0rwj4/Pk21MSE7VjL9E//ss/eKrTl8FOlJZbeuxLnKYOFHtzYWzcq3Yrwl5Ka9jvEWWeAgyz+P3NsKbr+xOdxxs79iRR4bgk73ArfPVC6+Ummsn0rOsebwzEdaS9cHwR5ViwqtGB9LTpeuTzqCd17zwrQ2Voy/+1DN16kggqO3MRDak85QSo6ADqRbrc9pzw+zbglDyPnti5f/aNYfMnWsXp1YMzk9ncxbd957GLT+j/L6b/GL+VBKjoDbb2wOJ5I/SssxWY+XqMYrCCZUNpdKoHcdeCscc8lEhA1dByKBLkq+/vprmDZtGowfPx6ee+45+Pnnn2WrhEIpSKCjoERY7IlC9epo/VQdLVEqkryl1VsWgSxzwa4Cga66nUH1C+tb1n7xIm14jwFa4pn3OPAbNy/fsdaftQ9U8qnMWKp0PG97wlyrVNA/3eF3zsr0Z7r2jUCkM4LmspiPyI+DKB28PmdBWjkR6Sr4AxEMusbOqyBSZ/jNQcPOP7c1NQ/9ee6rqBSXMKheXYwEumJAAp2NbNq0CQYNGgSDBw+G77//vs73//nPf6BJkyZgmqaFoqIi+OCDDyRoi+JXkEBHQYmw6ECg0yagrBPf5HbScZNWRiU2b1tVWFSmIrR5LKxkj2Fa2+3H8PCHCgQdLSEedHyEibXTRowo36swPnnbKLodlnroOA91jL2IdnXxvy56qgb0GyLqUKEYNN2hmj/95stBCDoWx8j2kwpxkd0u7bk6xktHne1606xDWRSKB2lHlb0UkbF22psQoSsS6OoBCXQ2cuedd4JhGHDKKafU+W7nzp2QlZUFhmHUQWFhIezdu1e8wii+BAl0FJQIiz1RmD4lT2rS5/a338ry5GN4JLuqJM80tt12fS6c1iMDTuuRATs36P1zhKr4XTWccXpjOK1HBoy4MDvU5o2ohZhKhL5KcPPHcaS3NYc7kKNCt8f73FSxl9G3zPjR4F8TW1kxXv16oXRbUtkWtkgjaoUGNPpcNiQbTuuRAX84tbGS+vH2p2qxYo1vN5dac3jsmNyUPoiCP6Jggx9bX32mrRXjl56IxmuvMM61Me6GxJppx7oS9LmCNgbNI+OftSBt4LQeGTDsgmzldA+SH8keK2H2aXhg3ZJCaw4/ML6lVN/wjJ/suPPwA+3470i6WzFetaBAmF+iXHghG8k+GzIwSy6Bft6tcMzFExE2dD0PCXQWcvrpp4NpmnDPPffU+e62224DwzCgQYMGcN9998G6devgnnvugXr16oFpmnDfffdJ0BjFjyCBjoISYbEnCuPH+nsvJ88klMViLKpEnV9bBvTNtGK8vUreZpBu4LlIYr3Z0DjDAEIIdK6IMWvTS/ew8yqK85LVuHEiKpfMaWfN4etH57jGwoucYfFkTpjii6jGO+w4iOOmq3KsGB9FTg7cjir2RKVvlvp269QQCCEQixlK+Ek3v6qu+451JdYcPrtPE4xXhBD3/aOT86wYT1WEmBE5LsIW5bHQ1SnnYemDwf0Ta6atq9T8ZTYVoNL1yE++2tsYCNlZJhBCoKK87pqJtr/ksec2HlkWHyLosGxeYs107ahmoeKbjuBRfM1iT8Uel7Fjcq0Y+33PPUud/I6bsONKRrGFrIKErh1jSKArBiTQ2Uh5eTmYpgkLFy6s813nzp3BNE0YOXJkrc9HjRoFhmFAr169RKmJElCQQEdBibDIJNCDJGhByUoVqlF59Z2qf1oCnUVyrdKiU9RigYe9fjcFnQh0P2RnkI18VUhw0f3LsPdockodAt2JPOcRF6+NQF39qSLsBPqiWflSdUmOOYtimaB9RmF8xG1wItBVsk+ULjxILxV84pdAR+gHFQl0XcCTQLd/F7Z9JNBT+122LkH1j/8/LIHu5I/kdbCufmI1TpJ9LhJhCfSw9suOQZB4yRi3fvpLPjYVgU5LxIuOfRjSXrexFRayCfQjB9wKxw6diLDhyAFIoLOQZs2agWmasGbNmlqff/PNN9Y7z994441a37388stgGAa0atVKpKooAQQJdBSUCIs9UdjCeKOAVZWlrGpNXZDKvp+3lcGeLTU48GV7x/ODLiZ4+1Z2cYIsff22E4/v3q1lXPpye4LCbfMy6nNOdHz3f9HeivEv1e3rxMBp84P1dZNnQQqOl3L4pbo99CLnwJ4tZbD/i7rX6Sgi3eK+d2vNHO5FzkF/cIBs/x3ckbhO/7wt9b1YdqFeusSFJX77PBHjX7dH+zrNOm4s82OeRE+qNVO6gJd/UxFDIoi8MGsmP7bw9KvogjdV9XOC05pJdZ1lgGfxNU2/fnyefHzQNRPPtWyybax9xsOmoHETgY+XFyGBrhiQQGcjsVgMTNOEd999t9bnc+bMAcMwoFGjRvDrr7/W+m716tVgGAbEYjGRqqIEECTQUVAiLPZEoXq12pX2vJNeFfT00weLxU4Y8k0kea5D/GQ/cRBkTNBsZAU9V6Tv/ZwfxjcqwT5XZT5BwMIOnfRVfZxgEYtaEDm+VSW8EGrEWYc8CiEfvAhAHBPi4yaayGHxPU9fsNbNjfh3a8ftO5bFVJgHpJedvPaAZM1T3m3z7lPGmlZ00QMrXVO1V726GAl0xYAEOhtp3bo1mKYJzz33XK3Pr7zySjAMA3r06FHnnJUrV4JhGJCbmytKTZSAggQ6CkqExZ4orH2jUHhilyqR0q1SWxScknS35HbLqmKoWlQIVYsKaz0xE4ZwoyFpgvg8+Rwv/VQjJWSOsbWLC+E40htOIH24LHLCHMfLL7xtVGkB/OOnZdYc/nxNCfeNAd6brn7HqOrXbxak9RdrS6wY//hpuKeiEGohPi42LyuCqkWFsEZCriXCPl3BSv9ft7e35vCnK9UuSEUEwzebSq0Y79xQKkUHP7mZSvmXLteJrbY1k5+nV0X5VxU/siqk4JG3phr7axfXxHfj20VM9KAlz510o11DeZGbMseEimvkn7Yk1kxer67zo6cq845HzGTbFuRe9eUHNWum40hv+OGTumsmLxvDzvUw34dtX4QOotpM1e6bs/PlEujn3grHDpmIsOHIc5FAZyF9+vQB0zShf//+1mc///wz5OXlgWmaUFlZWeec559/HgzDgIqKCpGqogQQJNBRUCIsrN6BHoQQidIiRTQZREN8x793ewd6qorj5O9obWBZgZu8KSGSNNdpHMbfgZ5JmlLpzmPxrJO/eC8EWbe/ZE7ifX7xd6DT2sVyLLuNGx2u56z1YH2NUOkd6Kr4WHY/rOH0DnTVoauvZcDvO9DRt/oB34EeDDrl1Cq/A10XH4qyO6g/7O9AZ0EAO+XGTutpp7Usy5im6/hIhsx3oKeKj07kpgpw24tK9Q50Xv7iFb+wRVOyxwALG5Ih/R3oSKAjgc5Jpk+fDoZhgGmacP7558P9998PPXr0AMMwoF69erB58+Y651x33XVgGAb07dtXgsYofgQJdBSUCIsfAp028ZdNpPDuRzRZnioeqfpwI9Bp2/fTF60f3Ih6t+/D+DMq484LyQR6mFiEjads/9EWlsiKVRDYCfQichiTDb+wMXK7JqhyfeQN1rqrRqDrHBtVoSOB7gYcH3Xhl0BH6IeoE+i8cgud8i4VCXSVcmxe9ojUz06gs7bFzx6ISjHhGVvRUJlAV6kdHeBmaxgCnbfvWV6v/d6Tg9ybWenMGkigqwck0NnIoUOHoGfPnhaJHodhGHDppZc6nlNSUgKmacLEiRMFa4viV5BAR0GJsNgThRemtRaSWKYreBNLbk+DPjihFYwamg2jhmbDt5vpfnIyLEHqhxR3O8/t/yx8pQtobbtyZFMYNTQbxt2QS91eMgFKWzns9qSFKvHh9WSHyPgm23Ai6QP5pBTySSl0ISdQtelnsy5IcRTvCn6ZsXPzB4/CkThefKyNdZ3etLTI9/lBfZpsq8qbKSqOFT/4+1+bw6ih2TB6eFPpuiDY4/uPS605/EAEyVVEDTETj/Gbs9tJ14c3dLm2ssQj9ybWTLs2yvmZfrv/ZcdAdv+0uvjR8+pLm8GoodlQeZ37milI4biseNHkpulQTB7HJyuKrTn87L/C723x8BHLGLGaFyqODzdfzXm8Zs2UT0phw1v+10xB9RTpTxFxVXnP5K9XNpNOoB930USEDUigs5O9e/fCddddB4WFhRCLxaCoqAgqKyvhwIEDdY6dO3euRbavW7dOgrYofgQJdBSUCIs9Uahe7V5pn04LL1Y6+klKeZNROsSHJzmlOoJs1ARp361PnXwddoOBpa1hiGA/pLWfOLHcmNFpXIiAqv7wMw5TjQ1d7kVRjGM6QpdY6KKnKkB/IRBqglfez2sNF6ZAN2huFMQ/bjmWCkQcD8gk6cPqybMPP2PSPmZkFw3LjpOTHrL9orKv0gHVq4uRQFcMSKDLkd27d8O2bdtg27ZtslVBoRAk0FFQIiy0BDpCXYgktWXo4vaEpGyw9I0MIjsVMUvjcx4V0Kq0R0NchyHQk79PRbQHeRImrE5e+siOsQyoakNYvXgUhSG8/Yj+Q/ACji0EK+BYQh/x8E2YNQ/LtQkvwi45bxdBNrMsEva7tpExB1jsDfA8R5frgg56it6LEjVnRfsk7F6TU5GRF/zqn3weEujqAQl0FJTUggQ6CkqExZ4oPKfAz1yplJzqglQ+m/KPljB0UBYMHZRF/RPuQeLBa9HOmmxwSu55k4Kp2g+7qBl5YTYMHZQFN1+dE8gPTptIrPzNG7zGBs2CUJSfNi0tsubwMw+nvk6z3ARM/r/oa4Iq4E16Pvuv1laM/fwcIYsijqhBVXvHjsmFoYOyYPifsqXqqKp/dMfuj0qtOXzf7S2k6xNFyBq78X6XzGlnxfj1F/LTygeq6cALD9yVWDPt3CD3J9x1gAyy1Y08pc3TRg2tWTP99Ur6NVMY/YL6TTZ4FRj47dcvPlqeWDM9OTVPit9ULJTUea2fjBemtbFi/MGbhdL1ER27MG3oEvdrR0n+CfdzxsJxF96LsOHIc8YigY6CkkKQQEdBibDYE4XxY5tLT5Z4JZ26JItxfd1s8Fr8uP1/QN9MK8bbq0oC+YwVaRak3eSEX1R1vd82aOzitaHSOMMAQgh0roiFtks0go4tlhtUNMQ5rw0RmmKOJXPaWXP4+tF0G35hdY3SRosq1wwv3HRVjhXjRbPYETNB5leUYq8SunVqCIQQiMUM9KlCYJVb7FhXYs3hs/s0kW5XEB+oDNYkXBA8OjnPivHUCL3nXof4i8Lg/ok109ZV+MtsKsFtfey3newsEwghUFEeC91W/Lww58r2q1/7VNd52bzEmunaUc2k+Uy2H6Jio1M/Y8fkWjFe8GxbKXqoTEiHXf/7LUrioUvXjjEk0BUDEugoKKkFCXQUlAhLOhDobsmbigkvjQ00CXsQAp2Fj/yQmkEW42EXK37JJD8LB14LKRryVmcCnQfcfJaqOEU0ee41juywE+hF5LDAbQYZo7pdJ0XFhDVoCXTa675IG2SPEdn90+piJ9Bl64lgD10JdJXmD62eSKCz9SvmBAkggR4OtONJZk7iRKCzIIlY2uRn3cGb5OK9DmLdphuBrlIerNN1VNbawqsPO4HejfTk7mu3NvzuEfEaHzLGE+8+kUBXD0igs5fFixfD1VdfDaeccgocccQRUFpaCiUlJa4oLS2VrTJKCkECHQUlwmJPFNa/ld4/gaTKYibVAtUvMfj5mhLYvKwINi8rgl+3t6eyVWRVcdBNguTzRC3qZS1SvHz14Ts18d0SYrOPhx/9ENl+9aCZJ056pPIrCwKdhX129CLnWHP46/XORTC0fapynVMJYXzCyp87N5RaMd6zpUw7PyBSY+uqYti8rAg+fKdImr8xxvzw2+ftrTlM+2s/GLNgfpDlk90fJa7T333I75VIIn1J83c64Yu1dddMqkOF3C6MDjzJXyd8tLwmvieRM5jrwsKPXv51W8eIjKkK480Le7eWWXP4K9uaiaefeByrOljZ4meNGv/+ZNLPivFPW8qU2t/jRao7ncOzsEU2lr/cTiqB3q3/WDj+T/cibOjWHwl0VrJz507o1asXmKYJpmmCYRiOSP7ONE3ZqqOkECTQUVAiLPZEoXo1v0r7sJWbKkL0QswPkReEWJZZ7eqHNHWyMaxefsh70RsYbv2nGgusNqSCjp8wBDQv//nxKS/d/RD/QcYWjZ1efYnyfZSgkn1+rwcq6R5ViLg3qKYTAnHoK75PfqnSnux+WOqbrkSQilDdv37WazzsFUXW+yH13D7nGUtd2043m3SArOu/G4FOs8fDu4AkzPGy9QpzT2ddHBEE1auLkUBXDEigs5H9+/fDUUcdZZHjRx11FJx11lkWQX7xxRdDv379ID8/3/qse/fuMGzYMBg2bJhs9VFSCBLoKCgRFnui8PHyIi6JngpJII8NOJmJsZ++f/ikDHZtLIVdG0th/xd1n6ZgRbSKOJdmk8JtAeCHtPRqm1Xsw2z+JOsRj2/8iSjaTRu341iMCZkkdFgdWersNX5o2/51e3srxr3IOb7HEs0mhJNvVSAudLp2h8GeLYnrtJ+n3lS0RTR08cF3H5b+P3tnHh5VkfX/6gANCUnIQgiQPSFoMiwyoCKLgqCRRXAQHWdeeZ1RB38CKozoAIMy6KgBHIVR3AF3UUAURBQBUWNQlqCsgoAGFEYUN3BEEc/vj7ypvnT69t2qbi33nOf5POOE7ntPnVN1u6q+VbdojkX7olrsVOD455Hn9De75Mkxwo4fPok8p3/4JP6bQvwQz9wSq69s97dRxvKwxGrMhMiL3br55fZiOJtcaPkWCdZjFh59YDfX9trOZX0G1PtlHDN9/39vdBLts+j7y+qTnXmbWOPnvuQimuNzyTDmcwyi42LXLyfje9XKvuWtfBTQJQMFdDb2yCOPUGH88ccfBwCArVu3xtxh/tJLL0FOTg4kJSXBwoULRbiL5tBQQEdD09hEnYFuJYTq0PHjGS8n5bR7BroX35ysWvVjUtHJQMrpJAHrSQoW5TOegW63bVnlgZXAz1o89xq3WOV362/0NezeN5aQHu/7Xck5tA2PH5VuO092yuGk7fLMh4qw9N/sDHQRMVI9L7Li9xnoLH4D/UIGH7yi6hnoKiG6nrg5A120z7ziLku/jjV4BjpbZKwjjUjjk85At7OgNN6/m32OxXiI5ffcCude5iBEYHYGutNys0L2eMmA2bjYbKxcRMpojl+b37bBvwcdWeLgxQ/RZ6B3GTIZul92N2KgyxAU0FlYRUUFhEIhGDhwIP2bmYAOALB7925IS0uD5ORk2LVrl5+uorkwFNDR0DQ23gI66w6ckwlh7EjXYRTQe5FBXPLhZYDPo57YuWasCYFY/ntdyWtHoPZafqOAzjJGXsrMS0DnkQ8/nxOx4mFVT8wEdBZ11c946PZM9kNA99sPlWKmGn4L6E7zEuTcsEAlAR1z7Q43ArrsuBHVdK4/fgjoOsdPZurjnpqS0EBAd9sXNhvHxhsLufm9dSOeR3/PSxlVqrNOBHSVyiUrTuqQ3bGvFZPHZTQQ0Hnkl+VcDUu/ggAK6PKBAjoba926NSQkJMCzzz5L/2YU0H/99dcG35kyZQqEQiEYPXq0n66iuTAU0NHQNDZjR+HJ+7KZd35YCTqIe/45IRMG9EuCAf2S4IutbF8ramfiwOx7fuU53oSF1WQCCx+dLPpwe4+LBjSHTNIarv1TC+Z+Of0ebwGddT54LuIwi4vx/5vd2/jv3cl5kElaw4B+SfDoPa3i5sLNAhavdYJV3Qkyc2dl0+f0plX5QnzA/PCNyZirWsCAfklwoeTiKuKOr3YU0zY89aYM4f7ohN1+Ge9n2OvP59AcL33afNI+KOj4m3HX3yNjpoNb2L+1C4kP6zoV69lx8eBkGNAvCXIIv6M27AjoPNtPPKHS6f2jxy1uFt34yda3CmgbfmhGK2F+eI2LnzEUlS+3933ivsiYacOKvAbXZNG+osfo8fohrMV1FgtfVOfKP6QKFdB/O3gynHXp3YiB3w5GAZ2FhcNhSEhIgLVr19K/7dq1iwroR48ebfCdt99+G0KhELRv395PV9FcGAroaGgam7GjULtRjlfVWYlKov2L9ofXIFi2sjrxM5ZI6EfMWObTjp+sxVc/FxXIEkNZ8s0zdmYD4Viiuqx1QWQO4y3EEeWTrqhQH2SKgyzI/JxFzHMm2ged8LOvpgte4oGxFBMn1eMuiyjoti8fT1SL/v88RHQnzzIz4dxNmWUfz4msS4he8bQzd8Vz7s+qrbF+rslK7cZCFNAlAwV0NpacnAwJCQmwceNG+rf//Oc/VEDfuXNng++sW7cOQqEQNG/e3E9X0VwYCuhoaBobbwFdp46clxi4GejqHG+3fvq1cttqwoGX0OlH/vy6h8oLS3gvMIiOUay/efVX1meB0zbsdfJP9njIFG8EYYnudQ9FWURH/OpnI87iqHOs442xeMbUzTXMFrzG6r/bFdC9iNpm8WMt9PkhnseKn5/1EPEHmfPqpv6xngeK92xQud9p9gwxKwsK6PKBAjobKy8vh4SEBHj11VdP+ntqaiokJCTAk08+2eA78+bNg1AoBMnJyX65iebSUEBHQ9PYjB2FJU+24doR9bMDyttXs8/LuCr06Qdaw6Qb0mHSDenwza7Yr6vzWwTmPUAWXZf89n3K+AwoJKfCrPi8NzUAACAASURBVH/GP5OTxQINWWIrix9O/XQzodaTDKBteNkzwXltrIgci5qcWP5cW5rjj9+Lv5iN1eIgxF/uuzMLJt2QDrf8teHrvVXPi+r+syj7d7tLaBt+8v7swMdFRA54s/71PJrjta/m+XJPxF+efSgyZjr8Eb9XfMfC7vhJZRHFjt9e+zhWY5WpN2XApBvS4d7bWnIrn1ucxI9X/q2u78ZXnvUlmk/WF9I2HNSjNmReiMBiLuH153NojndWF9iKhWxxiBcbNwK6jHOQXu59+8QMsQL6oMlw1iV3IwZ+OwgFdBZ2+eWXQ0JCAtxxxx0n/X3w4MEQCoWga9eucOzYMfr3b7/9FsrKyiAhIQHOOOMMv91Fc2gooKOhaWzGjkLl5ExXnR+ZRDW/O3cqMGxQMs3xvhpx5/nJPJhTnaTEEBBCoGNZmGv+vOyY4OmXavewil90jNcszqVtePyodOXjLUvdMfNLhH8TrkunOV65MEd4/mTNkcq+d+nQFAghEA6HhPuCsKc3GUzb8BBJzrmXtS2w9tmvcs6ZmU1zPLsy/oJF0b668UUm30Rx6dDImGnvOndvZpMtjrL5I9q31JQEIIRAWam/YyaWInqs2LEYm8lcV+xStTQyZho7Mk24P7rE1W25WY+t+oeGw+RxEXH1tfn2FknIkgM7C4hiPQ9UWQgQT/h3QufyMArokoECOhur303eo0ePk/7+yiuv0Ne4l5aWwvjx42HUqFGQl5dH/37//fcL8hrNrqGAjoamsbEQ0GXsfHq9nt1dALL4Hw9ZBHQ/48BykCY6RnbwQ0Cvj4eMIjrrMvpRF5xMopkJ6GY54J0XnUV0UfAU0DHWcoACOhtkrc8HNhedJKD77Sfv3y4VF6uxhoWALhuyx9xvWAjossRZldz67ScPAd0obsXr0/MS0HnE0K/xEGu8COiyl40nKpXdjYDOIwaiYyb6/jz9RAFdPlBAZ2PffPMNFBQUQH5+Puzevfukf7vqqqsgFApRwTwhIYH+/wsuuABOnDghyGs0u4YCOhqaxmbsKLy/PPbrCK12SorulIno3Mlc7mjfNq3KhxUv5MCKF3Lgh09KuJfN7fd5L1pgWR4Z8m/0YeXCuvxWL2vYhnks9JBdQJdpop/FivHDHxXTNvzRu/FfVScylrK2Yd7lZsHO6gKa4y+3+/vaWLvlViV3srL21TxY8UIOvLGA3xsGZMHp85HF/UTXz/9+WkLbcM3KfKbl0wFRsWB53/2bimiOazeyE1dZlVO1yX8Z+fDNyJjp6F7rMRPvnAYxl7zLsmpRXX6rluYy9TmeaG71OS/t12oTgGx1w40/TmL09c7ImGlHlb9jJpZl5nEN1amPwa61kTHToW3exkyyLHZ064tq7d8uS55sI1RA7zpwMvQYfjdioOtAFND9sMceewy6d+8OKSkpkJiYCJ06dYK7774bjh8/Lto1NBuGAjoamsZm7CjINhmkE7J3Xp1O0jjp/LMYDAQhF06Feh7CeNDxY7JS1AIVv+9h9pwQLXSZTWSqEm8/Y4fPCfkRnSOnbUe0vzqDsVUvBih6I25yHk+gRcTlx6sgbvde0dc2+2+eZeV1Td3qNC78FzdeFo2fedCt3Zw4WAq1GwtRQJcMFNDR0KwNBXQ0NI1NtICuU0cPcZfXeLucRZcjlj9+DvSjJ2VEx0B33Cz+cDqRxTqPTtoPr1Xpdq8rYx226yuLhQ88J1T9jA0iD35OnCMIwgbeIhsSzOdhEMssGrOxIY++fvS9cIyIqIpM9dUvX+zeR6bYiIwFCujygQI6Gpq1oYCOhqaxGTsK06eYn4Fu1vlRUQxQYQcoSy77XTIkNgtBYrMQ7N/E5gx0lfLu5tq8dqXyqnuZ6QmQ2CwEp5/WlFsMdYeXmOz2+sbPv/1yLm3DE69Pd+2bXzERsftBtgkQp9zy1wya49WL1H/Ft2q/k35wVrdmkNgsBC1SE5SOud2FRaLj7TcHNhfRNjz8wmTh/qiSBysfZSrD4//Opjl++O5Wnsstg/Al+v6ycfnwFJrjT9bjm9l0JDurESQ2C0GXDmzGTH63ZavxKUtfVNzZWr0sj7bhm0b7N2ZCnG+gcFuvpt4UGTOteEHMmAkXL/Pl9NOaihXQB/wdelw8AzHQdcDfUUAXbAsXLhTtApqFoYCOhqaxGTsKlZOdCejYOVSDYYOSaY731bAR0OPlMCi59bOcVjsckhJDQAiBjmVh4XFRDb92hHthzeJc2obHj/J3MsiNWMZr941O9SSaCdel0xyvXKiOgC46LyrRpUPdZFA4HFI6FyotrPGTA5uLaBseUtHc93zxesMIEmHOzGya49mVWdxzaifPXq+hcz1xU7ZLh0bGTHvXoYCuI6kpCUAIgbJSd2MmO2+QsPo3FuVwcg8vi3hVo2ppZMw0dmSacH8Qa5yOGyePy6A5fm1+W0/3ZfEZ1rGI/m/V2qOd549VmTqXh1FAlwwU0MXYr7/+Ck8//TSUl5dDo0aNRLuDZmEooKOhaWzGjsJD073tpojuFInq7KnSyfRr5eq4a9KgU3kYOpWH4cBmdgK6DGVVCa+iQ7w2dUaXptCpPAytiLXwhrlgFxcWgpCdz69/PY+24X/9o6XwWBl9l+VtFDzEIz8XCc28PYvmeO2recJz6wcy7L50mnsv17pkSDJ0Kg9D1056vCnE7U43WXPulUPbimkbvv5qnLTnhcj68+K8NjTH8x9pLb2/Kvknix/jR6XTHLN6axfCHi/1pcfpzaBTeRiGXhB/oVP071v0eMxLH8Zun9VrfzjaTyufVVkEFI+alfm0DU+/1XzMJMszR6XYsrg/C1H4vjsjY6aqpbnC4sdzLk/mMZIf8R56QXMU0CUDBXR/7fjx4/DYY49Bu3btICEhAUKhECQkJIh2C83CUEBHQ9PYeJyBHpROX1Axm1CQCZ7iGetrOp3IsPqb17YnQz5l8MGpb1YTAro9E0WXx2qCUHR8dIa1uKxT7lT3H+EL1g/ET2TtCyOITMjQn5VlMSqC+I1M9dSPt0MEARZlF30GercL/g49h81ADHS7AAV0t3b06FG45557YMCAAdChQwc47bTT4KKLLoJnnnkGfvnll5M+++uvv8LcuXOhoKAAEhISqHjetGlTuOaaawSVAM2uoYCOhqax8RbQ/dzB58eObpk6xDL5IbugLgusVv3baV9udy2Izp/o+zv1LVr447FzVZbY+/1Mt3MffP6wya0MqNQvQBCRYL3GWLMqk1nfRZdy61IO2eOjWpxZLi7x0nfmXcbonecyjPMQxAjP+ijbONrN9YLaXlFAlw8U0N3Zhx9+CDk5OVQMj6ZXr15w5MgRAADYtWsXdOvW7SThPDExEcaMGYMxV8RQQEdD09iMHYWVC5ydu2olBura4ZO9XNH+LX+uLcyuzILZlVnw/Z4SbvczW2gge7ycxpTF7m47QrqdCZn6/3747lYwuzILnnu4dczr2BE9WYn7MsDbX7OYOr2v3c/3JoPgVNIFTiVdmL6qzotPstQJ3jvs/Cpn9bI8+pzeV1MkTXz9yqHOfYZ6nn+0NcyuzIIHXRyXI2qBCmKfI3tKaBte9oz7MzkReYhuD9vfKaA53rwmX7h/PMsaVF6bHxkzffsx+zGTDJj1X3WpA1blePSeujFTB3Imt3vIQrRwzjvPMsTl8w+LaBt+ZwnfMZPM2JkHEJ13t987nZxLc/zphoYbgPyu9zzLqhpON4SY/duD07JQQJcMFNCd29GjR6GwsBBCoZApCQkJcMUVV8DWrVshMzOTCufJyclw4403wn/+8x/RxUBzYCigo6FpbMaOQuXkTG4dJzudKZk7ljL7ZsWwQck0x/tq/D3Pz+9JfxbittPvyLDjOCkxBIQQ6FgWtn09s0GlTHVdNTHXro9OB/NrFufSNlxA2p90DR7lZ7HAg2fOnMbP7+eCGyZcl05z/Ftyti/3RPgSXXe6dGgKhBAIh0PCfZMlJjpxYHMRbcNDKuKfrat7LHRlzsxsmuPZlVnC/UHYc+nQyJhp7zo2b2bzC1bChW5ElzU1JQEIIVBWGvb1vrJcS3eqlkbGTGNHpgn3R2Q+ZRGPWfs0eVwGzfFr8xsuWDQT0GWKAxKfzuVh8QL672YgBlBAd24PPPAAFcn79esH77zzDvzwww9w7NgxqKmpgT/84Q8QCoUgHA5Dhw4dIBQKQaNGjWD06NFw6NAh0e6juTAU0NHQNDYzAR07mPFRKT4iBXRViCUgqyTexhLQdZ1IU8lXL34bPx8toKsaAx3zygqjgL5yobO3wSBqgAK63jgV0O0Q9OeibPgtoLN4040u+FVuVQV0PxdSur1erPFVrMWlvGPFQkDnsYAaBT42qCCg+43M9cqNb1YCev11UUSXI19uQAFdPlBAd24DBgyAUCgEp556Khw/fjzuZ+rPOV+2bJnPXqKxNBTQ0dA0NmNH4c0XxU7aq9ShVaETXu/bqkU5MHdWNsydlc38Fe5uRVoWcWMVexE5jL6n1129T95fl9/Fj7fhljM/4yEjrHZcO50s7B8aDr3JYNqG31+eJ3Xc7JRHprzIcO/+oeGw/vU8muPPPvDvFe4yvHlDhhz4wUtPtIG5s7Lh8X9nY8wE+sHrvkf3ltA2/IbDI5EQNdhZXUBzvP2dAuH+BAm/nherDWOm73ar9wp3Gfv4fpfP6jNPzc6GctINFs21HjPZvYeKsdSVg1uKaBt+zzBmChoy10mvvm1YERkz7d9kvjkknoCOb4hgX1aWcZg7K1uogH56xd+h10UzEAOnV6CA7tRyc3MhISEBHnnkEdPPVFVV0V3q1157rY/eofEwFNDR0DQ2Y0ehFxmofOfRTx94iOgyCcuy31Nnv50M7rzsbEbE5Van/LFeHKNyLESXQcRvoGjfdKgHiD/1QLW6opq/WD41UDXuqvrNOwY84sJzBzqvuMi0uM+PmMp6T9a+y55XWVApRtG55e17LPGc531VyoVTv/0qW+3GQhTQJQMFdOeWmJgICQkJ8NZbb5l+5vDhw1RAX758uY/eofEwFNDR0DQ2Y0ehdmPsV9XxEIjNrul2N5zITqYsq9BFDTDd3leFXPMWh1hMhOHEgv+4jbeX7/FePc8yFjL4hfibc9bXj1XfZfEPQXjiR/2VqY342YdE5ImdDD7ojO7xFT32R4KZfx0Ieuy8Lsyw+k7Q48sqNiigywcK6M6tXhjftm2brc99+OGHPnmGxstQQEdD09iMHYVTyWnMO0lmnVNWnUvenVir1xTJtvs8FqOvbAGlxU2gtLgJHNgsxxno0bGTeTDCQiy10wa8lLFTeRhKi5vAoPPYnLsqQ/yQCO8vz6NtuB3pKNwflqhWP3j5O2NKS5rjd1/JZe6DCjvUdGdIRXMoLW4C5e3dn7vKA8wjG77YWkzb8P+7ogXmwmG5VdhBuuCxNjTHTz/QWtl8yuqXDD5ff3UazfG+GjnGTCxj51cc/Vho5/a7XTo0hdLiJlDRN0l4bnRCluf3hhWRMdMdEzOF+yMTXvIjQ27rufe2yJjp7ZdzpfMPaYjTTSkX9E0UK6CfPwl6DZ2OGDj9/EkooDs0pwK61efQ5DcU0NHQNDZjR6FyMvtBhh8TYiJ2JfOajODxurJhg5JpjuNNBomYVOG9w9sqxn7WGbtlcbOYICkxBIQQ6FgmVpjxM5+8Fq/wel55uWZXcg5tw+NHpQvNMet4yL4Qya/nxITr0mmOVy5kf35y0Ha1ykiXDk2BEALhcEi4Lwh7Dmwuom14SIXzxWxBbz+yiC/xmDMzcibn7Mos4f54ibVoH2Tl0qGRMdPedbHfzGYnvirGWKZ+Oc+ypaYkACEEykrlWsyGsKFqaS5tw2NHpgn3x0/M2qDMbdMNk8dl0By/Nr+t8Pgi7OlcHkYBXTJQQHduKKAHz1BAR0PT2IwdhXumtlS2k6lah9bP1x7/76UpkJGeABnpCfDZB+IFdBa5tOsrzwUcssTrxMFSyG3bGDLSE6DXGc2kzpsq8ZTN56qluZCRngBNSBhuvTFD2XJatUUV6wArpt6UQZ/TaxbH34GOqEmfHomQkZ4ArVs1Eu4Lwp6DW4poG/6fi1McfTfIz7768qsQg6cfaE1/i8tJN8c+q1LOoNI/NByu/GMqbcefbnAnoPvpr2gfVCA6TgW5dWOm7l3tj5lELL5G3PHe8jzahifdoMeiYzuY1VEd6+wdEzNpjlctYr/oOF58ReU1aPQ8oxkK6JKBArpzqxfGR48eDVOnTjXF7uemTp0qukhoFoYCOhqaxmbnDHRVkKmDKfOOSq9+sJxEcHotp5OP8QaTssQV4YeMOZbRJ1liYfftC7EWxvgxYSRz7lg+j5HgIVPuZfJFJlSNi6p+xytPNKJ9QuzlTbQPKpRDlzipngcEcYIK4rlMvqjgl8hyyRAT0Wegn3HeJOg9ZDpi4IzzUEB3avXCOEvQ5DYU0NHQNLZ4AroMnSdRHT4Vyy461m524shwXycToVgv5EDlSWtV/WZZbjMh3En7i/XafdY7hFQVSET8DqoWI53KpIqfCKIDOonn8Rah6Ybq5VPdfxnQcXE7gpw4KH99lLntyR473f03AwV0+UAB3bmFQiGmoIAuv6GAjoamsRk7CtWvsH1trK4dOr/KHU8odiIir3stD5Y81RaWPNUWfvikRHh8vMSD12raWOKbH/WX1T2WPVOX3zdf5PfqZx4CpdW9vAijXn3kVUY31/1yezFtw1vfKuAae55ljpVXs3YtgzhhR1xg5eO2twtojr/YWsz02m7L7DU2yMmsWZwLS55qC688Hfu8Rr8WoSF8+O+nJbQNv788z9O1sH3JyacbCmHJU23hNNLT9fnYyMnIVr/Xvx4ZMx3Zo+6YSbf8sVh0Xf/frz5bl9/VPr36GfGXr3ZExkxb1uQL9wdhS//QcNj+TmTM9J8t8h9PiDhnwWOtUUCXDBTQnduaNWuYgya3oYCOhqaxGTsKlZMzuXQ+g9R55VnWWDsu7dx32KBkmuN9NUWm1+RZNhZxiSWiOhF74glyvMQ6vwTnpMQQEEKgY1mYSxnsCpxuymm1sIF1PTK7nlmuZHgrwZrFubQNjx8l9jw/mRYWuPm+nbbupF6wiseE69Jpjlcu9G9Sl3WbRczp0qEpEEIgHA65jjMKq/JyYHMRbcNDKpoL9wdhz5yZ2TTHsyuzhPujC6LHF0YuHRoZM6m2SMLNAjje95fxbQ2pKQlACIGyUvZjJtmQKe5+UbU0MmYaOzJNuD9Bhlf9mzwug+b4tfmxF6X66a9fmy5ibfbQtY13Lg+LFdD7T4LeF05HDJzRHwV0NDQrQwEdDU1jsyOge+3kqQpLQYZ1TJ2IfPEEdDexcCIcySi22RVsWQl6ftQNPwR0mXfDOv2e2/rstp54jZ1MArrX8jhZMMHSXy91mPfu8xMHxQnoiDec1IF4AjrvxUKyo0OfEQV0/ZFRQFe93ciGSgI65t4dQRLQgwgK6LGR9XnhZu6Fl4CuAm7nA1UDBXT5QAEdDc3aUEBHQ9PYjB2FZc+0YbZTWIfJUDvlFH2PWDvRo+P//KOt4babM+G2mzOhDxnqyn+nZeUZG7t1y6vo5VVw87MN3PX3uvw+OL2VL/cLIqzzGWsVudlnP1lfSNvwihfkEFdZLjAR9VvB8vfO63VWLsyhOd7jcNLez/jp/rvOk4fvbgW33ZwJd0xkt1gRkYfvdpfQNvzcw62F+6MSqjxXalbm0xyve83da/pVKWtQ89+JnEVzfPijYuXiIFMsZWXaLS3htpszpVkEg7CldmNkzBQ0cVUkfj57Vi+KjJk+fi94C52s3lClA9NuzUQBXTJQQEdDszYU0NHQNDZjR6F2Y6QDymqHIU+RVhQi/YwnCpsJcmYCj18depWuLyp/CLuYOlkgITp/QawPfuzmtuODl3ri59slZMqRzmVGEARB/MfL76kKi7W99jcQBPFOkNuWH2MWGcbUfuQ5eqOK1fOd5/ybSnXaTR2s3VgoVEA/s98kOHvwdMTAmf1QQEdDszIU0NHQNDYeAnqQEBEns864zjljtRBD5xjpDsu8il4EE6u9Yt0Ulwuv1whKDoNUVsQ+QagLQSijimBe1I6pH2MXv8oj69vXZPMHQRD54fW2PtWfR04FdD/8EB0Tq9y69REFdPlAAR0NzdpQQEdD09iMHYV5s7JddXZYftaPjqBMnU0e/kf/+5TxGXBur0Q4t1cifLGV/+sIZVlUwOp6olYWO2FAvyQ4t1ciXPnHVN/vzTOXdmLpdPW3yFXybge7m1bl0zas8mv64008iJjkdlK/eE9UPPKvVjTHG9/IF54jO58TXZ9U4y+Xp8K5vRLh/D5Jwn3xk6DUla92FNM2PHlchu8xCEqc/SQ6pq8+25bm+KUn2mDOFCiz0zHT1JsiY6YDm4uEx0t2nMRXhjmAEwdLYfD5zeHcXonwp8ucj5lUWrAbVDaviYyZ7lf0Nf1+7Rb3cp9Y17EjorIo25yZ2TTHbo9TcVtmN+NCXvmU7fnCckx/+fAUFNAlAwV0NDRrQwEdDU1jM3YUKic7P5fT7mCYZQdPts6imY+sVu963Xk7bFAyzfG+Gn8mg7wMlGSoK3bqtSzi+YmDpZCUGAJCCHQsCwu5vwh45dbJ5/zK95rFubQNjx+VLjz2rHLnRED3e6e4mdgfq+2zqAcTrkunOV65UI5z7hG2dOnQFAghEA6HLD/r9jfIL9w+R0X7zbOsBzYX0TY8pKK5cL95lFFHnJR9zsxsmmM8P1ltzPKeTSL9rb3rnJ+tG9S25LVf5GfcUlMSgBACZaXux0w8+oEIG6qWRtrw2JFpwv2RGZ4bEHgyeVwGzbHf59w77ceqGmPRPnQuD4sV0PtOhLMHTkMMnNl3IgroaGgWhgI6GprGZkdA93uHoAydNlWwIwqJFtC9+q8KIoUCWQV0J6vTvcTaj3x6+Uws4dVJGXQT0GXB7QIwHiK6XQFd9edkkLEroNtdnCVTXbC7+0gF0d8tKgvoiD2CJKDzbi8yPb+MXDo02ZOAzrL8ssZIdVgI6KxzjbBDlICuWp5lGUu7QaSALguq1TenoIAuHyigo6FZGwroaGgam7GjsMdiokDHFZSq4SZm//20BI7sqeP45+189ZHlrtH6/x9r9yqLe7Eqe7R/fvhVn9+je0ukiAHPfNh5IwPPmLO6tpPr/PxZO5rjH2vttWEZ2oMdH1Xw0w9+rI3k+OfP+D+n3eZLtA8qc3Rv5LdYp9iyasd+xoDHs+eXA5E2/N9Pxf8WI+z5aX8kx8f2xX9O86jPKj8neME6JueS33EdM8VbZGTnuYR1wDsyjZkQ9rgZM3lB5rcRmC2+VH38pcKYiXddUDl/dthVXSBWQO8zEc4eMA0xcGYfFNDR0KwMBXQ0NI3N2FGo3RhbQOcphMmwKwmRCxUm451OcKle11UcaKvmr0wEMXasnzk6xlDHMiFs6gDWDbVwky8U9hC/ie43m/VFWdY9Feqx7D7is0KPPCKIW7BuY0y8UruxEAV0yUABHQ3N2lBAR0PT2IwdhQ9W5QvvLKn8OilZ2bOuEGpW5kPNynw4tq+db+X3MkFrtjrarpDLU/C1e12zFek8/PpgdV1+t79T4EtuWeRaVZ+81ms39/xudwltw/s3+XMMQ9Bg+cxwc53PPiiiOf5uN+6K0pEdVQVQszIfNknQ13KDjM95mTi2rx1tw7vf5/fqZ0QcX24vpjn+YmuxcH9UheWCNdbPpZ5kAM2xH7tXecYGiU39mGnb22LGTKLRvX58vycyZvLr6DrEX3qTwTTH335sPmYSuQFA93bGmzdfzEEBXTJQQEdDszYU0NHQNDY7Z6D73YnEDidbRJyB7hUvdcDOK769Xlu2OiryDHTdd916LReLtw/gGehy55jFdeyegY6oi90z0FVF1+e/XVQ6Az3ouXJLkM5A54HTBaix+pe8BJH6a/I4A92v1/nb2fntdhGwTuAZ6Hoj6gx0mdC9ztk5A924GUP3eOiI6DPQu/eZCOdcMA0x0B0FdDQ0S0MBHQ1NY/NLQBdJ0DvNqgjorPPEeuDESjznUR9FCehBa1uico8COr+cyAIvAV2X+OiAmYCOk3vekCV2KgnoPOIsSx54ggK6f3mOJxDzFNPtCOhO7ylatHb72nte5RQNawFdlXLLAu94oYCuJ8Z6Y0dAr/+O2RsNRfiN2AcFdPlAAR0NzdpQQEdD09iMHYUFj7XGjqCEeI33A9NawcgRqTByRCqcQ4ZI46ObiRnRdU/WHehjrmoBI0ekwtSbMoT7IjIvZrkRtbuY1X0/ereAtuEFj7URHm/RuWaxq182Fs1tQ3Ns5yiGWAuEcKeF3Nz+t0wYOSIVRv25RYNcWuVatO92CXId/GZXMW3D9wdUXNWdqqW5NMdvvpgr3B8dMXt2OP27Wx6+OzJmOrRN39f02+1D8X6mi/ituP7qNBg5IhVuvdHdmCmIv28q8fF7hbQNz3/E3tyWrvDuj/nRFmLdY/HjkTHT1rfkPIpBh+eEyDL8bUwaCuiSgQI6Gpq1oYCOhqaxGTsKtRv1PrPRzqu9Ra+2100U4pU3q4m0WLtTRL+iWfS1ZcuhrPfmsSvH+D2Rq+BVJ8jPxyCWWXeCKjTrBK8+oAq+IghrYi2GdLrAKCj13Gu5nfz+WL3RS/TYOUhg7OTB6e5mnXLnt3Cu6vgvqL9PLKjdWChWQD9nIpxTUYkY6H6OfwJ6bW0t3HjjjXDqqadCUlISpKenw+mnnw4zZsyAH374wdO1f/zxR3jppZdgzJgxcMYZZ0B6ejo0btwY0tPToXv37jBlyhQ4cOAAo5KgBc1QQEdD09iCJKDHQ5UOrSp+8iy3ShPWbu8T1DzziLnXWHoRy0WXXzeCMCmlc5mCSqwFXQiiEizrrQxtQAYfEO854vnGIdbX8jM+MvuNIDKjatuRcS5Dt7Ij/oICunz4JaC/8sor0KJFC3qv0XaftAAAIABJREFUaE455RTYs2ePq2t/+OGHkJKSYnrtelJSUuD5559nXDK0IBgK6GhoGpuxo/B8wF9zFY2Tlfki72312Vn/zIIRl6TAiEtS4Ksd6r6OMKiDQzuTZFf9MRVGXJICE68P1vnYZqvTdXhlnZHt7xTQNvzsQ/ic1o3+oeHQkXSnOTa+jlC25xHiLK9GikgZtCEF8Oc/pAr3DWHP1zuLaRu+97aWwv0JCtH9AJ7PzDWLc2mO31iQ41u5kIax4RWf+++KjJm+2Fp80j1FlzvaD5Xe7iQTI0fUjZn+NqbhmEnlciF17KyOjJmemp0t3B8/kKne+uHLgsfa0Bx/+Ga+J9/M/iZ63kmGnHrxwWsMx44U/Ap3FNCFCOgffPABJCUlASEEkpOT4Y477oDq6mpYtWoV/OUvf6H3P/XUU+HIkSOOr//OO+/Qa/Ts2RPuuusueOONN6CmpgZef/11uOaaa6BRo0ZACIFGjRrBq6++yqGUaDobCuhoaBqbsaNQOTlTeEdNpQ6i36+vcsuwQck0x/tqipj75PT1ijLEROb7uSEpMQSEEOhYFhbui5/50KUuWA0y1yzOpW14/KhgLZKQDV5vNZhwXTrN8cqFfIUZRAxdOjQFQgiEwyHhvqiKzG8EObC5iLbhIRXNfb2/Cv0UnmXyawJ6zsxsmuPZeM69sHrB8+1Clw6NjJl6kgFCyufH93V8Ztgta2pKAhBCoKw0/pgpSDHSiaqlkTHT2JFpvt9fRL1Rua668X3yuAya49fmtxXuD4v7qZxDHnQuD4sV0M+eCH3Or0QMdD+bv4Dep08fIIRA48aNobq6usG/T58+nfowdepUx9d/99134dJLL4Vt27aZfuall16CUKhubrWkpAR+/fVXx/dBC66hgI6GprGhgK4/rAV0u/g9YSzyTQCi8VNAlyUmsuzCYV2mWGUJooDOIqduJtl5vRbV6rt2BXRd6noQQQGdDbF++2WYgIwnoCPiYdFnRAHdn9z4mdNojAL63nX2jjZjtYDDq/ht91nopG+kY5/DroCOqIloAT0eOrYnEfAS0P3cea4brOOGArp88BbQ161bR69/zTXXxPzMiRMnoKysDAghkJ6eDj///DNzPwAALr74YupLTU0Nl3ug6WkooKOhaWzGjsKWt+y/AklHZDpPjqU4uH9TEeyoKoAdVQVwbF87pnGRIVZe/eElvPs5CPvo3br87rE52eelTKLzyRNZyhftx5E9JbQN/2eLf4tgRJefZT6c7maMbsOxfGLp3xdbi2mOj+wpEZ4D1uUTWQY3AivrZ3j/0HDYu64QdlQVwEfvFph+RnS8WJVVtA8i+Gl/O9qG/VysKAusds7KXH++3hl5Th/+SN0jkXTEiwhv/O5nH5w8ZvJjbMjyOk78VaHN8WBnNf8xEyKOo3sjY6aDkoyZ/J4X0B3jmOl7xmOmeOM+xF7sWFD9Si4K6JLBW0CfNGkSvf57771n+rm77rqLfm7FihXM/QAAuP/+++k9FixYwOUeaHoaCuhoaBqbsaNQu9HfgaRqAwlZfPXLD1nKy8t/XuUzDrhUq+OIWLDONIyHnf/m1dZj5cPpvRFxdcftogmzf/fDD7f3EB1vM19k8o2H/6qVD0FkgddiNJ7XlME3O8+kWJ+x+zezz8gcTwRhCdZ1fWOlmr9BpnZjoVgBvfdE6HNeJWKge2++Anrv3r2BEALNmzeH48ePm36uurqa+nHrrbcy9wMA4F//+he9x6JFi7jcA01PQwEdDU1jM3YUdlXH3hXFE94TKDz8lUE0cXL/bz8ugUPbiuHQtmL4+TPnO9BZ+SHLvUTnzolfdieu6vN7+KNiacuHmOfd6plybF87mmPWK+1Vx8mOYrv/Fr0D3Y8J5CN7Is9pN28KQdjUJZ45PvxRMc2x6LKyjpVZG/LTH9ExOf555Dn9zS71cxx0YtWpHz6JPKd/+AR/i73EVJaxVLQPdsdMon23G2cvn9VFPI/2/8vtkTGTaN9kqAO64WbMFOR4OUHkM8F4T+OY6cdaHDPJAst6seWtfBTQJYO3gN6yZUsghEDnzp3jfu7rr7+mflxyySXM/QAAGDJkCL1HvPPS0dCiDQV0NDSNTbYz0FUZwLDepcYzRqLOQPczBnYGdKrULTe5Z3UGug4x4h1rP+4bPcns5gx0zGXsODgR3P2cKLJ7BjriX11hjcpnoLsVu1R+Djn1Hc9AZ7OgSWbwDHTv9cHJs4THG0GsPsPqDHS/6riTXeRuvyfDYgeWscEz0PXGzhnoKtZnrzgts8wx4nUGOiIPws9ARwE9roC+bt062L9/f1yc2I8//kivPWjQIMvPN2/evC5P3bu7TbepffDBB9CoUSMghMBvfvMb5tdH09tQQEdD09hkE9BF4HZSWKTA5sTveAI6q10KMqOq305gJaDHip3f8VOlXfEsc3Tc3QjoKudCVJli7Y7za8ccCuhq4aYeqCygO42NLG/rcZsrN99BAZ1vfGW4h0oCugxtT1TZvAjs2STXtoAue4y9xsntAkRZy1sPCuh84irLte0I6EHCS4xlbfMqCOhO59hkjbUoRAvoZ/WaAH3734UYOKvXBBofOzixQ4cO0e/9/ve/t/x8q1atgBACHTp0cJvumHbs2DHo1q0b9eXll19men00/Q0FdDQ0jc3YUXjyvmzhnaUg4Vdn+Z8TMmFAvyQY0C8Jvtiq7+vqYsXX+L86c9GA5jCgXxJc+6cWwn1hkTPkZD58M5+24UfvaYU54eifmYgeS0xnef+5s7JpjjetyhcSR9lzrTpjrmoBA/olwYUBE1dF7s70k692FNM2PPWmDOH+sMibH88FlerC68/n0BwvfVr9SXsZsbtozcnfnSycu+vvkTHTwS3mb+3yY3e2Wb+Dd31hvfPfzzpjh4sHJ8OAfkkwckSqcN9lR9acx2PrWwW0DT80w98xE4t4i5i/UG0M8MR9kTHThhV5lmUT7S/inCv/kIoCumTwFND37dtHvzdixAjLz+fl5QEhBEpKStymO6ZdffXV1I8rrriC6bXRgmEooKOhaWzGjkLtRnuvqkP0RpeBhi7lCCqq7XxB/EF0PRB9f8S/PGOuG8aE1XedPN957TZ1c72g1Am7bxEISjxUhMUzjKcw7He5RIlSXr8bT+A2+7egtMuglBOxh871wa+y6RZDkeXRLZZ+U7uxUKyA3mMC9D33LsTAWT0iAjrrV7jLsAP9zjvvpD507doVjh49yuzaaMExFNDR0DQ2FNDZY6fD7HenWvZOvJMJH5ZlUSEuMlwjaKgesyC8fQHFHYQn0buAglCXYpXZi1CFqEm8N28gcqLSgkMnu8rdloP39d3ez2mMzPz1ayc6giDO4dmWeC2KwvaPyAYK6PJhFNBZ50T0GegPPfQQvf8pp5wChw4dYnJdtOAZCuhoaBqbsaOw5Mk2wjtLCHuefqA1TLohHSbdkA7f7BL7CncnAzSnE7eqDP6c+mnn81PGZ8CkG9Jh1j+zPN1LJmTyXbQve9YV0ja87Bl7r40V7TPijOXPtaU5/vg9PovZZN2NKAt2hEMvMbjvziyYdEM63PJXf17vbXcxX/QrgnXPM4tcxuK73SW0DT95Px6JxDveIlj/eh7N8dpX4782lncsVXyeO30miVjE8exDkTHT4Y9ij5mcLvh10+/3sqjYzdhJh/Zpl6k31Y2Z7r2tpXBfEPZ8sj4yZmJx1IYO/SKn7Vz28r7+fA7N8c7qAq4xU+3aunD7xAwU0CWDp4AOANCyZUsghEDnzp3jfu7rr7+mflxyySWe7/vss89CQkICEEKgoKDAt/qGpqehgI6GprEZOwqVkzOFd5aChF+d52GDkmmO99WYn+enMioI7Sxe5WhGUmIICCHQsSzc4DuxJiJ13F1mVY5okUhWP2OxZnEubcPjR6U7vp9uOVdpt51dJlyXTnO8cmGOcH9URWZRqUuHpkAIgXA4JK2PQYNlLA9sLqJteEjAzrn3O9Y87mHnu3NmZtMcz67Mcn0v1mVmvVNbZP2I9+YPP/y9dGhkzLR3XcPFbDzHG1b9VJE7z2WqK15JTambKC8rDQv3BWFP1dLImGnsyDRP15J1zCSjT34yeVxEXH1t/smLJHi/WQRz4w+dy8NCBfQeZ/0Nzu17J2Kgx1l/45qT3r17AyEEmjdvDsePHzf9XHV1NfXj1ltv9XTPl19+GRo3bgyEEGjTpg3s3r3b0/XQ0FBAR0PT2FBA54NMExJGAb0XGSRN2RF2MTMT0IO4s0TWHHnBTEC3yq/uiyZkyQ8LUEDXO78nDrIT0HWKiZ0yqVJOFQR0VWIpKzIK6CrhZGzEcjFELHHe7DtmAjrLxVnx+mx2/bTrk5fP6Pq8QAFdb7wK6E7HSqzHVbIuBJXpeRAtoMtc5li/R7qOxVmCArp88BbQJ06cSK//3nvvmX7urrvuop97/fXXXd9v5cqV0LRp3dg8MzMTtm7d6vpaaGj1hgI6GprGZuwovL9c3OsIVSPergiv4jnrDvWmVfmw4oUcWPFCDvzwSYnw2PHKAavP+uEn6wHZyoV1+a1elhf3PjhYc19XeAs78a51+KNi2oY/erfA1sKIeOI51gP52FldQHP85XYxR23IVi+cvFVC1nIbr7321TxY8UIOvLHA+QKJ6HYrW66QUvjvpyW0DdeszPd0LcyvnOzfVERzXLuRz1EbuuJHn51Fu/nwzciY6eje2GMmO30vJ36ZPd/t9tes/JEltrKwalFdfquW5nK/l05xU6WcX++MjJl2VLl7vbedNsWzTyZLPGXxI9qfXWsjY6ZD28QeT+g2jvgsjs+SJ9uggC4ZvAX0999/n17/mmuuifmZEydOQFlZGRBCIC0tDX7++WdX93r33XfpOeqpqamwYcMGL66joVFDAR0NTWMzdhRwMsg5VoKUyFX9Qelgy4pMQqUsfsjqjxufRU2WmL1ZwEowj/esUjEfCJv6JCNOxABZUcVPLBeiC1g3g4VffRm7fT8v97azI12H30UE0QE7i5gRPjHXEZ3L5oXajYViBfTuf4Nz+9yJGOjRna+ADhB5jXvjxo2hurq6wb9Pnz6d+jBlypQG//7mm2/Sf7/iiiti3mPTpk2QlpZGXxdfVVXFuBRoQTYU0NHQNDYU0N0jY4fXL2FeVNnd3FfGPMkAxkW9eJkJ5mafdbLzPNYOKJZtXYb4IeKxW6/i1dvoRSQyLVYKEqrGPag7+XUuq85l0x3efQyWdcPrPcyePXYXYzsV7rw+o7FdIcjJqNomnI4JRfsa5PsjdaCALh9+COg1NTWQmJgIhBBITk6GO++8E9auXQurV6+GkSNH0vu3b98evv/++wbftxLQd+/eDa1ataKfuffee2HLli1x+eKLL7iUFU1PQwEdDU1jM3YUpk9xfwY6djbl5bLfJUNisxAkNgvB/k1Fwv2REdVFwsz0BEhsFoLTT2uqhL+6YHd3kFe6kT60DReSUx3tLLe7synWdbB++Mctf82gOV69KBhnoDuZxHOyUER0ucw4q1szSGwWghapCcJ98TN3QeHA5iLahodfmCzcn6DgpA56ra+P/zub5vjhu1sJLzvr8gWFeHG6fHgKzfEn6+0vLLcSt+38TjndZW5nIVr0/b3eUweysxpBYrMQdOngbMyEqEH1sjzahm8anS7cHzvw/B0zGzOq3I+belNkzLTihWCMmbygYo5PP60pCuiS4YeADgCwZMkSSE1NpfeKpn379vDxxx/H/K6VgD5v3jzT65oRa6c7GpqZoYCOhqaxGTsKlZPdC+h2Om4qdt50YNigZJrjfTURAd2OUCZDzvzwQfX6mZQYAkIIdCwLKxNzxD5dyTm0DY8fld4gRywmRWJ9T/V2oRITrkunOV650HwyyG0+ZMyjE/HcjXjA23en3+nSoW4yKBwOCY+96FjIlEtWHNhcRNvwkIrmjsvvNQY6xFB25szMpjmeXZklfa6CVidYiFCXDo2MmfauK7T8vJ22G2vBopUvrAQ1L37rSmpKAhBCoKyUzZiJRZ4QdlQtzaVteOzINOH+sISHeB497hNdRjtMHpdBc/za/LbC/RGRW1XvaZfO5WHBAvrNcO45dyAGenS/2becfPrppzBu3Dho3749JCUlQVpaGnTr1g2mTZsGP/zwg+n3UEBHE20ooKMpa19++SVMmzYNevToAdnZ2RAOh6FNmzZwxhlnwPjx42OeqxFt1dXVcPnll0NBQQE0bdoUWrduDRUVFfDcc8/Z8uHYsWNwyy23QGFhITRt2hR+85vfwOzZs+HXX3+1/O5bb70FV155JZSVlUFKSgo0adIE2rRpA507d4bf/e53cO+990JNTQ2cOHHCli+xzNhReGi6fLspkJNx09Edd00adCoPQ6fyMBzYbL0D3c7Ejm54mUiSYdB5Rpem0Kk8DMMGme968yJUIeLoHxoO61/Po234X/9oaSp0s9hZIJtQGRRm3p5Fc7z21TxudUl0Od36LXq3DIt7XjIkGTqVh6FrJ/l3vbH6vVC1zrnh0LZi2oavv9rZpL3MixhVhnX8XpzXhuZ4/iOthZdPN5yKPTxyPn5UOs1xrLd22Vl8HKtMZv/fqc+xFjjyjIeZzyrT4/Rm0Kk8DEMvcLbQCeOoBjUr82kbnn5rS0f5Ee17LH+89H2dPFNZlp/F2DMe990ZGTNVLc0VnivV6pYKDL2gOQrokuGngI6GpqqhgI6mpL3wwguQmZkZdzXR0KFD415j6tSpkJCQYPr9Cy+8EH788UfT7//yyy9w/vnnx/zuX/7yF9Pv/fDDDzB8+HDbq6KWL1/uOk6qnIFut+OJHVS+8UX0jpnTiUFETI7Mdg3E+m+z/CLu4y/ah6CBzyX/4+2kz4U54ZcDM7ENYy4HmAd2cXSDyHxZidd2/h6vHF5EdjuxZh0PBAkSbtuO0+eXlzbq13MV4VN3WI7jVcyr+DPQUUBHAR0NzbmhgI6mnD3xxBNU+G7VqhVMmTIF3njjDdi4cSMsW7YM/v3vf8N5550Hw4cPN73Go48+Sn8gSkpKYM6cObBu3Tp46aWXoG/fvvTf/ud//sf0Gg888AAQQiAnJwfmzZsH7733HsycORNatGgRV/geOHAgvX67du1g2rRpsHr1ati0aRNUVVXBvHnz4Oqrr4ZWrVoJFdBV7Iwh/HPnV72Qpf7J4ofXMshQDtETorLe084uhHgCuhMRRpa6IDO84yM6/l4nBqOvIbo8CL/8Wy3aQSJxcjJBjZPZ5nER7YPOiKh3bkUeLyKU0zI6/T1ze227n2XVV/aaZ2yP9mOCixbkRrbfW5bPEBTP5UOV+Q6RiBbQe555M/Q7+w7EQM8zUUBHQ7MyFNDRlLLt27dD06Z150z27t0bvv32W9PP/vTTTzH//s0330BaWhoQQiA/Px++/PLLk/79l19+gQsvvJD+gLz11lsxr9OnTx8ghMCHH3540t8XL14MhBD485//3OA7r776Kr1uRUUFHDt2zNT/X375BRYuXAhbt241/YyVGTsKKxeYn7tq1aELWqdOJZY/1xZOJV1gdmUWfL+nhPv9ZBgUBE3Ef/juVjC7Mguee9j8laLxBFNZyyUzfsbosw+KYHZlFpxKukA30rdBTq0m5nDijl3Oef3eVS/Lo8/pfTXWR23IhOr1yq/frOcfbQ2zK7PgQcmPy3FaNtXzz4oje0pgdmUWzK7MgmXPnHwmJ05S68H2dwpojjevyRfujx/wXnDLAjflMfvea/Pb0hx/+3FJA19Vi3GQfLTLo/fUjZmefcj7MQz4TJePzz8som34nSXmr/e2GjM5/Tcnn/Eb3cTz95bn0Rx/usH7GzTdlt+PuLHIEQs//a4jD07LQgFdMlBAR0OzNhTQ0ZSyfv36ASEEWrZs2UD4tmvTp0+nPw5mZ53v378fGjVqBIQQGDx4cMzPlJaWQmZmZoO/f//990AIgfPPP7/Bv40cOZLe24swbteMHYXKyZnSd6YQ5wwblExzzFOYcbpDw+s9RCOTL0mJISCEQMey8En+RU8Uih58BREWcVuzOJe24fGj0l1dG/MnX16N15hwXXpkMdtCd4vZZALrW0O6dKhb3BkOhxzHjEc8WdVhzHUdBzYX0TY8pMLfs3URf5gzM5vmeHZllnB//EB2Ad1JGex8/tKhkTFTTzLA9b1FCG3xxmHGGDiNm26kptS9pbCsNOz4u7rGRCeqlkbGTGNHpjnOr6451kU8P3GwFCaPy6A5fm1+W8/X4/ksZnk9NwvGVM1x5/IwCuiSgQI6Gpq1oYCOpozt2LGDPtT/8Y9/uL5Ojx49gBACqampprvUAQAqKiqAEAJNmzaFI0eONPj3nj17xhTClyxZAoQQ+N///V/TaxJC4u4+Z2VuBXS/O2IqdvxkwS8BHXMqjlgCOqu46zDQ5oGfcTAT0BF90E1AZ4kKzxw7PsYS0N0+j2WIqwp58RMU0PWHp4AexPbkh4Ae/TkrkTmbRPpbVgJ6vOvG8o3nLkA7AnkQ61gsvAjoKhHUfEcL6G7joMKYV3b/ePnMWkDXFdnnb+L5JFxAP+Mm6Nf7n4iBnmfchAI6GpqFoYCOpozddttt9KG+bds2+vevv/4adu3aBV999ZXlNX766Sdo3LgxfYV6PLvzzjvp/VavXt3g32fMmAGEEMjLy4PHH38c3n//fbjvvvsgPb1uonzp0qUNvmN8NfymTZtslNqbGTsKb75ob9Jexg6YzIiO16pFOTB3VjbMnZXtyyvcVcLpjj/RuTTjyfvr8rv48Tau/ZR1cCUbIuJ0YHMRbcPvL88THgOEPetfz6M5/uwDeRY6Ic4xez689EQbmDsrG35DTudyfT/K5fV3UeffmKN7S6CcdIO5s7LhDZdHIiFys7O6gD6nt79TwOSavNqEm8U5vH0yuy8v8dyNH13JOVBOukE56QZ9yEWOfTH7/7wWLMUTzt3ES6Wxj1u/nppd14YXzW0jvAwIew5uqRszlZNu8J5hzORmwQ3iHD/it2FFZMy0fxOOmXTM9dxZ2SigSwYK6Gho1oYCOpoyNnDgQCCEQIsWLeDXX3+Fp59+Gjp16kQf9IQQKCoqgn/84x8xd4wDAGzdupV+9oYbboh7vxdffDGyE2H27Ab//uOPP8KZZ5550v3ribX7HADg1ltvjfxw9+wJhw4dch4IB2bsKNRu9H6GkC6dNiyHeHSNC+/BeawJNNFl5lknnMaT9yRmkAhimREkqNidfBbtQ1AxE89E+4XoCS8B265YzVIM8yLixxOozURtGeKNICrgdkG48b+tFgd5vQeiLn7lEftjzqndWChUQO/V7Sbo3/OfiIFe3VBAR0OzMhTQ0ZSxwsK6H9rOnTvD6NGjYwrX9XTo0AE+//zzBtdYvnw5/cyMGTPi3m/9+vX0sxMmTIj5mSNHjsCNN94IOTk50KRJE2jfvj3cc889cOLEiZifr62thaSkJHrdxMREGDZsGMycORPWrl3L/LXuKKAjshFvN4Wu8NpREy++vMog0t94O39YxtjOhEwQCGq5ESQa3duC7uVD+IF1B+MhMzyE83j59rLgE+sOEkRkqPcy+CATGA8xsdIt7vHKgwK6fKCAjoZmbSigoyljqamp9ExyQgikpaXBQw89BIcOHYJjx47B+vXrYcCAAfTB36NHjwZC9gsvvED//cEHH4x7v+3bt9PPjhkzhlk5li5dCsnJyTGF/6ZNm0Lv3r3hnnvugcOHD3u+l7GjcD/j8/wQORh9ZQsoLW4CpcVNoDcZ7Ou9devoOym31cSamdjr5n6dysNQWtwEBp0X/9zVoAziWO4y57FzwSnvL8+jbbhycqbw+CLsmTGlJc3xu6/kCvcnyPBq00MqmkNpcRMob6/Puasy/w74zRdbiyGJJENpcRP4f1e0EO6PaHSsGwsea0Of008/0Fq4P5hLNmUzkkfaQRJJhiSSDL3IIFfiefROebu74K3+Hr373u5OW53z54YuHZpCaXETqOibJNwXxBqnY+UNKyJjpjsmeh8zYfuRLw733hYZM739Mo6ZZM692+9e0DcRBXTJQAEdDc3aUEBHU8YaNWpEH+qNGjWCtWvXNvjMiRMnThLRFyxYcNK/P/nkk/Tf5syZE/d+e/bsoZ+96qqrmJZl3759MHr0aMjIyDDdRZ+WlgZPPPGEp/sYOwq8hRmZOt5BYtigyGKMfTX+nBMleieyiOvamUjjRVJiCAgh0LEstjDj5w53EfhZrngTmLxYsziXtuHxo9KFxxthz4Tr0mmOVy48+fxkXdtt0OjSoW5xZzgcEu4La4JaR42/qwc2F9E2PKQi/mI2RE3mzIycyTkbFx1rQbQgnk0i/a2eZIAj8dysX2j3+RgtvJtd3+rvdhbw2r2O6PzwIDUlAQghUFaqz2I2XXEzdq1aGmnDY0emeb6/6Bj4FWdW1/AjZpPHReZHX5vfVnj8EDYY607n8rBYAb3reOjf43bEQK+u41FAR0OzMBTQ0ZSx5s2b04f6ZZddZvo54znnw4YNO+nfZNiBbrTjx4/D+++/D//+97/hz3/+M5SWljYQ0ufOnev6+saOwj1TWwrvOHnpaCGx+d9LUyAjPQEy0hPgsw/8EdAx7/6WK7dtY8hIT4BeZzSzfV0Rq4l1w684VC3NpW341hszhJcbYc/UmzJojtcsdrabQmR7xGeBffr0SISM9ARo3aqRcF945VdUffBrkVi8+xzcUkTb8P9cnCI8dwh7nn6gNc3xY/e2Eu4PD4L2TI8WxduSQmhCwtCEhKEXGeho57noMljlMSgCuRUFuXVjpu5dY4+ZELF4bWPvLc+jz+lJN3hfdBzUdsKz/F6vecfETJrjVYtymPgkIq4y/674Uf54/9bzjGYooEsGCuhoaNaGAjqaMta6dWv6ULfamZ2TkwOEEMjLyzvp76zPQOdhGzZsgF69etF7p6enw/fff+/qWsaOQrNmBPr0SKSdl5m3Z0FSYggumAXFAAAgAElEQVSSEkOw4LE29O+JJBmSEkPQrqgJ/duCx9rQz868PbIro0+PRPr3+r9VL8ujf7t5TGRg88dhKfTv9Tul99UU0b/9cVhkQvLmMen079XL8ujf6/9mpxztippgORiVo4CcokU5dMmH6HL0Dw23XY7+oeHQiwyCBNIIEkgjaE3ypSmHVT7qfa7PRy8yqEE++oeGS18OVeoVlgPLIapfUt/O+4eGn1QOlZ5XfuSjfhKwvhyJJFnJcrDMR/3vRAE5hcZHxXLokg+75Yj1e65COerrW/3rx439K5XK4Xe9SiCNIJEk0zbaiZxF49aedKaT/U7K0ZrkMy1HvQ9Wv4OxnrsJpJFS+ZCxXvUPDbcsRydylvTlkD0fCaRRg3JEzzPUtwWZy8ErH4kkGRJII9vlqH+O8ShHAmkUsxzpJMuyHHbz0T80HNJJlrT50KVeyVaOl55ogwK6ZKCAjoZmbSigoyljp59+On2or1q1Ku5nu3fvTs8UN9qWLVvoNW644Ya413jxxRcjr/KbPduz/07s6NGj0K5dO3r/F1980dV1jB0FQshJq7HvntKS/n3+I5Gz/nLaNAZCCOS0aUz/Nv+RyOKFu6dEdrJ37xpZPVj/N7NXa108OPKq8dqNhXDiYCnUbiykf7t4cGRCYOzINPr3qqWR3Xp2ylE/6FK9HDLkoz6WqpdDl3zEKkc30jdmOepz57Uc/UPDoQXJaFCObqRvoPJRN1E9sEE5+oeGQz4pVaYcOuSjFxmoRTl0yYeK5agXUVqRHKHl6B8ajvnQpBz5pJR7OUpJJ8wHo3LE+j33Wg4e4w8/6pUM+VCpfdTnWYZ8dCTdmeejf2g41issB/dytCI53OYZ6q+L+cByYDnkLMeL8yL3FiKg/3Y89D/rdsRAr9+igI6GZmUooKMpY3/605/oQ33FihVxP1svtjdv3vykv//000/0LPWKioq417jzzjvp/VavXu3Zf6d2yy230PtPnz7d1TWMHYXiwsYnrQKcNysbOpaFoWNZGJY/FzlfqF/vROhYFoZ+vSOrGZc/15Z+dt6sbPr3Pw5LoX+v/1vNynz6t2m3RDpj465Jo38/sLluheKBzUX0b+OuiXTGpt3Skv69ZmVkB1j934JUjgzSCjqWhSGDtKIDwi6kFySTFtCxLAxTxmfAkqfawpKn2sLvhyYzKUcyaeG5HMmkBXQhvbTLh4hyFOY1hqEDmsObL+Z6Lke9cGRWjvp65aQc7UhH7fPRPzQcDmwuovGpL0f/0HBoRzp6KseX24uh82/CUJDX+KRBMLYPfcqx7e0CWPJUWxg6oDmUlapTjjNJfy3zUd9280kpJJMWkExaQG8yGE4cLIXeZLCrcvQ/OwmWPNUWXnm6rVbto/6Zp3o5nOYjmbQ4qRyXXZQMBXmNoSCvMby/PE/qcvQPDdcuH36U49MNhfCny1KhIK8xnNKuibLl0CUfPMqx/vU8WPJUW5h6cwb85hS+5TAufuDVb+9CenHJh9vfQRnqVWFeY3ji/mxYvSgH24dk5YhXr+r7GlblmH1XFv0tfnhGFpdyyDKurZ/34Vmvose1MtSr7e8UwKx/1uW5rLRJYNqHLOVoTfK5l2PGlEwU0CUDBXQ0NGtDAR1NGZs7dy59qFudX56ZWfej3L59+wb/dtZZZwEhBFJTU+Gnn34yvUZFRQUQUreL3e0r1L3Ygw8+GFkVePfdrq5h7ChUTs6kHZhognYuj0pYnZs0bFBk5Wf9q5Nkwei3TnWM51lWsa6blBgCQshJAxnZ0Cm/XuuB01isWRxZ1T1+VLqna+mCbufFTbguneZ45UJ5zvOTKcYy+eKGLh2aAiEEwuGQcF8Q9hzYXETb8JCK5sL9sUKV9uTET95lmjMzm+Z4dmUW13upkh+Z/XXj06VDI2OmvesKlfBZVG5kzLkdUlMSgBACZaXyjpkQ95jthFUNq/blZRzE89p+MHlc5M13r81vK9wf3YlVH7zUDzvf7VweRgFdMlBAR0OzNhTQ0ZSxr776Cpo0aQKEEDjvvPNMP7dmzRr68L/qqqsa/Pu0adPovz/33HMxr7F//366U33gwIHMyvDrr7/a/uxVV11F/Vy0aJGr+9kV0FUkXudf5kEBa2QW0O3mC4mPCgJ6kKivx6zqczwBPejUPzdYLFQQiawCOuId+mYYBgJ6vPouQxmDjGoCugyoVm94COiqxUB2/736I1pAVzFmstUBK1BA1wOzeqeLgO60/PHaoYxt1ItPKKDrQbzxjGgBvXeXG+G87rchBnp3uREFdDQ0C0MBHU0pu/baa+OK399//z2cdtpp9DPr1q1r8JnDhw9DixYtgBACBQUF8NVXX53077/88gtceOGFXF7ffs0118Add9wBhw8fjvu5FStWQOPGjelr6L/77jtX9zN2FJY908aykyO6o8W60ybaBz/K+PyjreG2mzPhtpsz4ZtdxVLFMbrj7KcwoFP+7/p7XX4fnN7K97LpFEdZ+WR9IW3DK14ItrjKa7eFaFYuzKE53sNp0l6mxQYy54OXb2WkK9x2cybcMVGfxYpOYyWj+M+K73aX0Db83MOthfvjNpcsxDRd81yzMp/meN1rea5jLCq3qlxXJAsea0NzfPgjvmMmN/Hz6zsq1RGn95h2S0u47eZM00UwOtZr3THmrHZjZMykg7gqy++pTG/HWL0oMmb6+D19FzoZ+1PRqJp/u2WadqvYV7ijgI4COhqaG0MBHU0pO3ToEOTn5wMhBBo3bgxjxoyB1atXw4YNG2DevHlw6qmn0gf/tddea3qdhx56iH6upKQE5s6dC+vXr4eXX34Z+vbtS//tD3/4A1P/L7744v/boRSGiy66CGbOnAlvvPEG1NTUwLp16+DZZ5+Fyy67DBISEqgP9957r+v7GTsKtRvjd0Bl6Lwj/mE3324nc1itlNZ5spZn3ljfU+X4q+x7kDATeFSvfyzjIzoOLO4vshxeFmjgb5E6YI74xlaX+OpSDtHEmzCXRRwQDevFgar9hiIIC7D+qRUHVfwUFRvdfhed/O7XbixEAV0yUEBHQ7M2FNDRlLPt27dDu3bt6AM+FldeeSX8/PPPca9z6623QigUMr3GwIED4ccff2Tq+/XXXx/XbyPNmjWDadOmebqfEwFddXgKwrx80YkgltnveGGMkaCBdV5szGTYzS4anSa3dESmvKBYqF5Ore4Va0GXzvFw45tXRJfBz/zIUl6nfsjit+4+q4ToRRyq51c2/3n5o3o5/YiLDDHy6oPT33rhAvppf4XzzpyKGOh92l9RQEdDszAU0NGUtKNHj8KMGTPgzDPPhIyMDAiHw5Cbmwu///3vHb1y/d1334U//vGPkJeXB+FwGFq1agXnnXcePPvss9x8r62thYcffhguv/xyOO200yA9PR0aN24MiYmJ0LZtW+jfvz/ccccdsG/fPs/3MnYU5s3KdtxpkqFDp1LnUQRTxmfAub0S4dxeifDFVvavI3QaP10mxGRiQL8kOLdXIlz5x1Th+RUdCx3ZtCqftuH61/QjzpC9bj7yr1Y0xxvfyBfuj1UsZRCNZMFu2f9yeSqc2ysRzu+TJNxnhD1f7SimbXjyuIyYbURXgdAJKpf31Wfbwrm9EiGdZMFLT8Q/9opnDGSrN/HGiCzxoyxTb4qMmQ5sLhISN9b1BTk5loPPbw7n9kqEP13mbsyE+ZCbzWsiY6b7K7Oke16yQrcyOSnPnJnZNMdujlORNeYy9gujF6R48c3Jb/vlw1NQQJcMFNDR0KwNBXQ0NI3N2FGonGx+LqdfHUbRnUQdGTYomeZ4Xw3fySBEDEmJdW/K6FgWFu6LV/A50JA1i3NpGx4/Kl24P37njuV1Za1fE65LpzleudD6nHtRuxxljZ9o7MSlS4em/3dET4j7vYKGDDE5sLmItuEhFc1N/TJbgCLjxKnd2Dv12+sErKiyzpmZTXNsdn4y67jKej2rnLAWz/1qH5cOjYyZ9q7z/81sqrV/mctkVl9SU+qOwSsrVX/MhDSkamlkzDR2ZJpwf3hgrNs6PjOsmDwug+ZYh3PujTkVnU/R96+nc3lYrIDe+a9w3ulTEQO9O6OAjoZmZSigo6FpbHYF9KB23nTwEwV0tvmWMed2BHQz30UJcaJjphKqCOiIe5wK6H4h6zPPymfRPsSClYAeXU5Zy+ulPLEE5uj/L1u5YwnoTsouY5n88FulMvspoPPIFY/Px+tb8oZHLEQL6F5ypiJmZXS6IMdJnUABXW+CIKAHHVUEdFa/u0H4LYgGBXT5QAEdDc3aUEBHQ9PYjB2FPYInClh3QnlfV5XO7Lnkd3BkTwkc2VMCxz9vJ9wfhD31+T26t6TBv8Wrp6rUYb/xIy5OJvt+/qwdzfGPtdiGVc67GT/WRnL882eYYx05ureE5jje52QSUs2EiSCJpnb55UCkDf/30/g5RuIja/34aX8kx8f2nfyc9nMXvgr4IaDziOF/Py2Rbsyke13xm3hjJkR9+pGLoS+5CMdMGsN6zOTXM5bVfXT8TYgu067qAhTQJQMFdDQ0a0MBHQ1NYzN2FGo3yi2g8+qgydBxlf16PHxjMSkvczkRBEHi4efzy3gvOzuX7fiGz1/9wJwiCOIFv4Rz3kK6bAShjAjCCtXbS1Cea0GDpYCuex2p3VgoVEA/u9M4OL/bPxADZ3cahwI6GpqFoYCOhqaxGTsKH6zKF95ZUg0VVpLuWVcINSvzoWZlfoMdMzIQhEEAbz5YXZff7e8UCPcFYc93u0toG96/CY9hUA07z7bPPiiiOf5uN7tdUbK9uSXI7KgqgJqV+bBJkr4W5pAtx/a1o2149/uFGOP/Q6TYyfpeX24vpjn+YmuxNH7JiooC+l7DmEmn3atBqHOxyhirftSPmba9jWMmHfl+T2TMZPfoOj93IFvdKwht1W0567/z+YeRMdO3HzsfM6keY9X9t8ObL+aggC4ZKKCjoVkbCuhoaBqbrGegI+yQ+Qz0IAwA/MDOGeiIuuAZ6GLw8/kkwxno0WKE2WS06LyoCusz0BG5cHsGuq6LCGXZNczyPiqfgS5rHZBNRBd5BjrrNqHjc4VFDPEMdPWJl2dRZ6AHsb2JwukZ6H7kxek9sK7ER/QZ6Cigo4COhubGUEBHQ9PYZBfQ43UuseNpD5kFdIQNKKA7g9ckPq9nEgro+uO3gG6sq/hb6g9BEtB51CnZ6ykK6OblEimgs4SlgK5i+XnVAxTQET/RVUBn2RZUfj7ZEdBV/h1CnAvosqJS/fPbV+ECesdxcH7XKYiBszuigI6GZmUooKOhaWzGjsKCx1oL75wh7HlgWisYOSIVRo5Iha92uH/lJGtUGjTIzpirWsDIEakw9aYM4b6ohgpCz0fvFtA2vOCxNsJjphOyPIcWzW1Dc+znUQyylD8I3P63TBg5IhVG/bmFcF8Q9nyzq5i24ftxdzJFF/H8xME6YaY+x2++mMssPqLLJaoOyCiiP3x3ZMx0aJs8YyaEHddfnQYjR6TCrTfimKkelZ/L0Xz8XiFtw/MfUXtuy++8eL2XX74ufjwyZtr6lrpHMejS5njwtzFpKKBLBgroaGjWhgI6GprGZuwo1G7ElfaIfaI7/fEGeapPmiIIoh+8n0myPO/Mnr+y+Icg9Yiokyr3T3QQpf2MlWgfgowqAjrif70Q7QMSPz/YtvjHV7QfSOzcqHx9WXBbx2s3FqKALhkooKOhWRsK6GhoGhsK6IhbUIxBeID1CJEVP+om63tge0KQ+Pg5gc3rjScqvElFB4Kw4Ip3/HQR0HneMwh1AZEbUXUQBXt5chFE3MxtuckP1nFrhAvoHcbC+b+9FTFwdoexKKCjoVkYCuhoaBqbsaPwvCKvucIOpzNm/TMLRlySAiMuSWnwCnenA1Xj52L9t9V1MHd8uOqPqTDikhSYeD2ej60j298poG342YfUeE4jzpj/SGuaY9avI8SJGj7Y/d2rZ/K4DBhxSQr8+Q+pwn1H2PP1zmLahu+9raVwf4yIFhtlwWuZu5JzaI7fWJAjnX+q3N8vAd1NPb//rsiY6Yut7l7hbretORl7ia4bOjFyRN2Y6W9jcMwUC5HiOYvr7KyOjJmemp3ti9+sf1ud9i9VyC9LFjzWhub4wzfzmZRV9cWUrPyS5fdm7EjBr3BHAR0FdDQ0F4YCOhqaxmbsKFROzhTeWULYM2xQMs3xvpoiYX4EfeKWJ0mJISCEQMeysHBfEPasWZxL2/D4UTjhpyMTrkunOV65kL0wEwRk/43p0qEpEEIgHA4J98XPnBj/V2cObC6ibXhIRXPfYuvk8zK3D79xE4M5M7NpjmcLPudehxz6tQPdSawuHRoZM+1dh29m05HUlAQghEBZaXDHTNHtRYfnST1VSyNjprEj04T7g7Bn8rgMmuPX5rd13K8x+93wo3+kU1vjSefyMArokoECOhqataGAjoamsakmoLvtHIv2WyRuBXTjxLebidroPIiOg86ggK43KKDrDwro7lFlZ20KSQucgB4k7ArostZPxBq/BXSZn2deyxWrnCx3nse7fjzfjAJ6TzJAeKxYxxrRT0BnvetZdYwCej5hH2vR5fMbr2Xm0TePFtDd+hPLpyDmWMayCxfQy8fC+afdihg4uxwFdDQ0K0MBHQ1NYzN2FLa8Zf4KJBkwdnStOniyT6T7yf5NRbCjqgB2VBXAsX3tLOMW67/NPmMnFwh/Pnq3Lr97cLeMlhzZU0Lb8H+2iHuLBMKPL7YW0xwf2VMi3B+ELf1Dw2HvukLYUVUAH73L9hX9iBz8tL8dbcMi3/YjA7r2C7/eGXlOH/6I3eu93e6sVg075WARG6eLrY3//7MPzMdMuuRBVG5lYWe1mmMm3Z4FvMpzdG8JnEUqYEdVARxkNGayO/+E+INxzPQ9jpm0pPqVXBTQJQMFdDQ0a0MBHQ1NYzN2FGo3qjWQRNjCYoVx9HVwoMk/7oh5XDG2COIvsgs+svqFILqgUxuLVxY3b2bigegY+RVzO+X1Kx4yxV0mXxBveZQtl278cbLBQbbympVBVj9F5Rixjie+EcJ72Wo3FqKALhkooKOhWRsK6GhoGpuxo7Crmt+uKLudQJ07i6L49uMSOLStGA5tK4afP4u/A92vPAcd1hOh9fl1uyMKkZtj+9rRHONKezHwfrYd2RN5Tlu9KURmZJ4UFZ33wx8V0xyLLhfCnuOfR57T3+wKbo51av/R/PBJ5Dn9wycltsrLSziXVUyXxQ+3fPtxCZxNLrQ1ZpKxrDL6JFs8vtyu95hJtmeC33lmNWbSTUhX3X8jxjHTj7VqjZlkaJsy+GDFlrfyhQro55TdABWdb0EMnFN2AwroaGgWhgI6GprGptoZ6Ihz3J6B7hV83Vn82LCcAMUz0PUGz0Bnj93dbH49v3Q5Ax2f9+Z06dAUz0DXGLtnoMdCRiEUaYibM9D9FNBF1h9ddtwZz0Dfq9grvuPVP9F+yIRuZ6CLIFadElHPYt3TeAb62JFpXO+lAqr6Hasc9WWJdQa6DL+DTsrhxkfZy8YS0Wego4COAjoamhtDAR0NTWNDAV1/RAvoCH9QQNcbFNC9I/vzSBcBHTEHBXT1cDIh60VAj76f6HIjsXEqoIsQz/1cvGrnHrz9YH19VgI6tmV5UU1AV0EUFBETs3/jJaCrhs71JZaAjuiFcAH91OuhotNkxMA5p16PAjoamoWhgI6GprEZOwpP3pctvLPkJzoPLIz8c0ImDOiXBAP6JcEXW/V8XV3QuWhAcxjQLwmu/VML4b7wIOiTRx++mU/b8KP3tBLuD8KeubOyaY43rcoX7g/CnjFXtYAB/ZLgQpfiqkro8Kx2upvpqx3FtA1PvSlDuP8Ie15/PofmeOnT1pP2ogT06PqqQ3v0qzx3/T0yZjq4xb9FxyLKGlQuHpwMA/olwcgRqb7mkXUugzwuisfWtwpoG35oBo6ZdOSJ+yJjpg0r8oT7Y4egz2U45co/pKKALhkooKOhWRsK6GhoGpuxo9CLDFTm9UdBIjoXmBdEBCrUOyc+qlAehH89QBAEQRAjLH9DZBHRET3BXCNBAp9v9mLkx/WMbzvBfCCsqd1YiAK6ZKCAjoZmbSigo6FpbMaOQu3GQhyYBADMLeKUINUZrzu3ghQrGfKDsUcQdmAbQhC2iBTQsT0jCBILfEbEjoloH0SWWZXfEtn88TNHMuCXP+IF9OugouPfEQPnnHodCuhoaBaGAjoamsZm7CgsebKN8E4Zwp6nH2gNk25Ih0k3pMM3u/AV7joyZXwGTLohHWb90/pMzmhkHSCrDstY7llXSNvwsmfwrDcdWf5cW5rjj99zf+4qIi/33ZkFk25Ih1v+iq/31pHvdpfQNvzk/cE6EikorH89j+Z47av2XxuLAro6PPtQZMx0+CMcM+lEfXuYelPdmOne21oK90lUHHR+NnyyPjJmsnPURhCw+/ugyu/I68/n0BzvrC4Q7o9V7EX7oCK3T8xAAV0yUEBHQ7M2FNDR0DQ2Y0ehcnImdhY1ZNigZJrjfTXiz/ND2JOUGAJCCHQsC9v+Dk68qsOaxbm0DY8flS7cH4Q9E65LpzleuTBHuD8Ie7p0aAqEEAiHQ8J9QdhzYHMRbcNDAnDOfRCZMzOb5nh2pbMFiyig24+TyPtfOjQyZtq7LpiL2epzIDoXvEhNSQBCCJSVWo+ZVG1HQaZqaWTMNHZkmnB/VIRVnefVdiaPi4irr83HRRI60rk8jAK6ZKCAjoZmbSigo6FpbLwEdFWRZZDsxA+rz6KArj9uBPRYyFL/kZNBAV1/UEDXHxTQ9QYFdP3xIqCfOChGRHfqnx3fReeBJyigW9cF1XEioCPqgQK6e1Rp9zoK6CJ+Y2XOt3AB/ZQxUNFhEmLgnFPGoICOhmZhKKCjoWlsxo7C+8vtv45QdMdSl50WfrBpVT6seCEHVryQAz98UiLcH4Q9KxfW5bd6mdxtGHHH4Y+KaRv+6F25X1WHuGNndQHN8Zfbg/naWN1/w9e+mgcrXsiBNxbgAgkd+e+nJbQN16zMF+4Pwo76Z9P+TUU0x7UbY4urdp5jsgroSCl8+GZkzHR0L46ZdGTVorr8Vi3NFe6LzKj6/Ph6Z2TMtKNKnTFTUJ/dbsq6a21kzHRoW7Hr6wQFFWOz5Mk2KKBLBgroaGjWhgI6GprGZuwomE0GyUK8iSGegw0VO50IgiAIgiAygP0odzHzI24ovIrPMYrnCILISvSzRJbniww+BI1YdUG0TzJit43g77Y5tRsLUUCXDBTQ0dCsDQV0NDSNTSUBXSQyd2hl9k10XHAwgiAIgsTDT5FSZh8RefBjUhUFWLlA8RxBEJGw6KcE6dnj5hmsYnx49T9El0sW8Hc7NsIF9NIxUFE+CTFwTikK6GhoVoYCOhqaxmbsKEyfgmeg64KxM37Z75IhsVkIEpuFYP+mYJyBHj0Y0X1QkpmeAInNQnD6aU2F+4Kw5+2Xc2kbnng9noGuI7f8NYPmePUifMW3jpzVrRkkNgtBi9QE4b4g7DmwuYi24eEXJjO5ph+iKAqv9nn839k0xw/f3YrrvVA4F8Plw1Nojj9ZjwvLdSQ7qxEkNgtBlw7BGjOxej7I+pypfwaeTvrSNnzTaPZjJjfPYlljFss3nn0NVteaelNkzLTiBfZjJpnzFRROP60pCuiSgQI6Gpq1oYCOhqaxGTsKlZP5Ceg4sSOOYYOSaY731bAX0HnmVdZ6I5tPSYkhIIRAx7KwcF8Q9qxZnEvb8PhRKKDryITr0mmOVy7UW0CX7fnpF1061E0GhcMh4b4g7DmwuYi24SEVzYX7g7BnzsxsmuPZlVlMr63zczHWolZZ+/eXDo2Mmfau019AlzEHvElNSQBCCJSV4phJRrwuCqpaGhkzjR2ZxtU3vxYzqdhOefo8eVwGzfFr89sKL6sKsMyHH/Wxc3kYBXTJQAEdDc3aUEBHQ9PYjB2Fh6az3U2hYmdfRrzGcdw1adCpPAydysNwYHMwdqDrhtVg/IwuTaFTeRiGDWKz6w2Ri/Wv59E2/K9/tBTuD8Kembdn0RyvfTVPuD8Iey4ZkgydysPQtVNTLftHQd8Ne2hbMW3D11/NdtIekYMX57WhOZ7/SGvTzwWt7vNAVAzHj0qnOQ7KW7tkiLuf9Di9GXQqD8PQC/gvdApCPGWjZmU+bcPTb2U/ZhL5FhCn1zd7E58Ku8zjcd+dkTFT1dJcX+4pqvxB7VcPvaC5UAG9T7vRcEHZRMRAn3ajUUBHQ7MwFNDR0DQ2PAPdvLMbpE6q2xipfi8EUYEgDpwRBEEQRCdUeq2vbGAfSGzsveQMc6dW3mRD1frjpd2I9kFHeC52YHGtaJ/izU8GIa+iz0BHAR0FdDQ0N4YCOhqaxiZaQA9CB1BlMD8YX0QsQRkoIwiCIEhQwN91fnHF2CI6YrdeYxuQGze5wXyyibvIthFPvHci7rtdBOBHuVneAwV0+UABHQ3N2lBAR0PT2IwdhZUL9D53Nagsf64tzK7MgtmVWfD9nhLh/iDsefjuVjC7Mguee9j8laKxwAG5Gnz2QRFtwzK9qg5hR/WyPJrjfTXBe21sEHj+0dYwuzILHmR8XI6sBG0S/8ieEtqGlz2DZ3LqyPZ3CmiON6/Jt/29ILUDP3EiKNq95mvzI2Ombz92N2bCfMuT+1jfefSeujHTsw/FHzNhHtWMw+cfRsZM7yyRY8wk26vdVY/Fe8sjY6ZPN+j5Bs2gH4v04LQssQJ6ySi44NQJiIE+JaNQQEdDszAU0NHQNDZjR6FycqavHUHRHbOgMGxQMs2xXWHGKj+YP7lISgwBIQQ6loWF+4KwZ83iXNqGx49KF+4Pwp4J16VHFrMtxMVsOtKlQ1MghEA4HBLui58Epb9wYHMRbcNDKvifrSsDVmfB6tbfnzMzm+Z4dmWWcH+Q2HjZlXfp0MiYqScZoFX9RepITUkAQgiUlbobM8yq9pAAACAASURBVOn0XNOlHEaqlkbGTGNHpgn3B3PCnsnjMmiOX5svfsEii/5OrNe3O9mVLjoGXmMX/ffO5WEU0CUDBXQ0NGtDAR0NTWPzU0BHxOBUQFe5E84CFSd/UUDXG90FdBXaGG9QQNcf1QR0u79/qvxO1vvK63tBEdDtiuYq9aHs4lVA1ykWqmG3LhoF9L3r9NzZGHS8CuhWqPrcU9HnWGXoRvoKF9C99DVkyoOXNz3wLIdMArro/o5M9cVL7KL/TbiAXnQtXND+b4iBPkXXooCOhmZhKKCjoWlsxo7Cmy/ipL2OrFqUA3NnZcPcWdmmr3D3umJWpwlTFcvy5P11+V38eBtf4yO63EHhwOYi2obfX54n3B+resFTpJIRFn6vfz2P5vizD/R6hbuqeWXNS0+0gbmzsuHxf2cL98UqX6r9Bhp9F3Xvo3tLaBv+LTlbeCz8qhtBEc9PHCyFndUFNMfb3ylwHUPR5UDM87DaMGb6bjceeyUzbndkPjW7Lr+L5vIfM/lRVuRkDm6JjJne83nMxGM+RfbfUhG+bVgRGTPt36TXmMlOXHnGXJb6NndWNgrokoECOhqataGAjoamsRk7Cr3IQCk6TIic2N2JJtpPluXVqTwIwhoVJnYQBHGGKpO2MqJzvIIsnPsdW9H+IAjiP16epfjcEJ87np9H5Mfr77fd7wel7tRuLEQBXTJQQEdDszYU0NHQNDZjR6F2I76qDjFHxg67jD4hiM5YTeqhAIAg6oJCqPu48fisbKBojgQBrMuIquACJ//jLfL7sqJruTCm/iFcQC+8Fi4ovRkx0KcQBXQ0NCtDAR0NTWMzdhTud3GeHyIXsTrXo69sAaXFTSCJJENvMjhwr1dWHTuTHZ3Kw1Ba3AQGnafvuatB5v3leVBa3ARKi5tA5eRM4f4g7JkxpSXN8buv5Ar3B2HPkIrmUFrcBMrbNzx3VZbfV1ET7NH3VXFS+outxbQN/78rWgjPJcKeBY+1oTl++oHWwv1B2HP91Wk0x/tqIq8GluUZHQ2Kos7p0qEplBY3gYq+Sb7kxK8cxbuPavXEi+i/YUVkzHTHRPXGTKzyxCvXTt9Gw6Pe3XtbZMz09ss4ZpKpfrDigr6JKKBLBgroaGjWhgI6GprGZuwooDCjHnY6v8MGJf9/9s47PIpq/eMnIdmQSgqQkE5CB0F+oKiIUoRQpWhAFFQEgmJBLngVpYjUAAIKKFwEBJQiVUKRjpQEAoQOSg8gXkDgUkMg4f39kWfPzmb7ZnZn5uz38zyfR9k5mT0z787uOeedOYfHWDoY5Iq6qL0xLqoB/l7EGKMnqpsmZqD23bYill/DA/uGKV4fKL+ffRjGY7xpaYzi9YHyW7eWHzHGSKfzUrwuIlg8OeHs3xf/f2e9fLgiv4ZfTsHNbCI6a7JhTc5puOlYSDu3N/SZzmZbnpkN/R3nVMMT0SHB3sQYo+qVxeszueNcuiqGciVld2YY+kwfp4Vq8hxrWXdc44P7h/MY/7YoWvFjhvJbp4YOCXSViQQ6ALZBAh0AgZE2FKqwOg43dNGJUL9vdg6m8DBvCg/zpksHnU+gW7qjXunjg5UpNtqHwsO86fmnSyteFyi/OzNi+TU8dEC44vWB8jv8k3Ae420r8DSFiDZ+zp/Cw7wpqnwpxesimsXbI/a0TeR+wuvvIxX5NfzGK8EW6wa160/fRfEY/zCpvOL1gfL7zushPMbn9zm/tJm5/jS+C9yvufOdEFvUZ3qmHvpMatDZJ5otjVntXhfHr+HP+6nrpuOSJJTN/Z2nfp+MGhTBY7x5mX03HWNsU72au6ZDWYTCCfR3qWWlT6DExonvIoEOgA2QQAdAYKQNhedZa0XvCIfqFJ8HCCGEnip+/yCEcou2NSz+WbC2DZ8VKKpyJ9CVPpaSngdnzpvSx60m1frZgLZjJfV51hoJdJWJBDoAtkECHQCBKZ5AL96oUbphBZVpzBb/Nz4LYosYQ2fEZwaWRK08DaL2AVtoiJPc+0C8IYQQQteqlcS5nO+LdgXOF7R87SOBrj6RQAfANkigAyAw0oZC5mrXTBuLwUfHGo5y7z/7tzhaNT+aVs2PpnvnkhU/Xii/a34uiu/W5Zj6WUSvHU/i1/DR3xMUrw+U32PbE3iMrxxNUrw+0LLO/lZvWxFLq+ZH0+qfsF6j2pSj7XX/fDK/hvesi1P8mKD8nt+XyGNsbX1sqF33rjf0me6c0UafSa39bEf6ttbKyN1HXrugKL5b7Jz6GSqjs0nzf04Y+kxHtsUrfhzQsZjbU+74DkOf6b9HnF+eEKrH4tf3kh+ilE2gJ/ShlskDocTGCX2QQAfABkigAyAw0obC2MERijeeoPx2ahPEY3whR9xOhtJ3pStpgL8XMcboieo6xetiLi5K10HrblsRy6/hgX3VtZ4flMfPPgzjMd60FIO61tTad4q+vnVr+RFjjHQ6L8Xr5KrjdCY27oqnq9sGlw9X5NfwyymBiscDyu+syZE8xtPGllO8PlB+O7c39JnkvklCjf0TZ+qkxHHI+X4hwd7EGKPqlc33mdQWo+LnXa31U4s7Mwx9pnim7ph6us7GZXD/cB7j3xbhplQRrVNDhwS6ykQCHQDbIIEOgMCUNIGODon69dQEuuifTekxqjmBDksuEujiW5IEuujfdaIcq+gJdEfjKHcslf5sIIEuvkigi68rE+iepDv7ZI4+6V6K+VhNoDtbB6XPuVp157l5yetVowT6x2mhNsuLMm6g9fo7IhLo2tKZzyYS6OoTCXQAbIMEOgACI20orPm5QokbPp7UeNeKi2dG0Vf/jqCv/h1BN086NzWwrbiKGHctdarHfFEU3+/HlTepv9J1gyX33N5Efg1v+AVPJ4vopqUxPMZnZBi0x/WvPmdMKE9f/TuCRg2y/2bFksYQnwH3eet0Mr+GF86IUrw+UH5zNsXzGGf/hmn6RXTJDxV4jK//geVUnFGuNatdtfZ1+pCy9NW/I3ATjAtiLte+SvL3ufsNfSYRk6to11WmLcsMfaZTu9V3oxNiVPJzkz40QtkEelwataw4AEpsHJeGBDoANkACHQCBkTYUcverrwEKoVLKmTxX69PxaqoLhBBC1+rs7xB+JyCEENqjtcQ3fku0LWKo3HlXug7Qc1TD5y13fyIS6CoTCXQAbIMEOgACgwR6yRuY6EwazoXSdYCIKYRQGfF9ASGEEHq2SKBrS8QEKq2cn0F8nsU4d0igq08k0AGwDRLoAAiMtKEw55tIxRtLrmoMuqLjrpVBgWEDw6np8/7U9Hl/unJUuekI1XJ+1FIPOW3VLICaPu9P77weonhdoPwe2BzPr2HpNP1QHP/zdXke4/0b4xWvD5Tf3t1CqOnz/tSicYDNsiL+TimpO87nPyeS+DU8uH+44scM5Xftgmge45VzLS97BbXr8E8MfabLhysqXh8t6mzy3F2/e21bBFLT5/3p7dfQZxLRw9sMfaapmKZfSGdNjuQxxnIqzqnmscvCvytTt1eDlU2gx/ailon9ocTGsb2QQAfABkigAyAw0obC2MH2r8tZ0saaOxps7r77Xa0N0U5tgniML+SoZzBIrqnRlT4ONRjg70WMMXqiuk7xukD53bYill/DA/uGKV4fKL+ffRjGY7xpqfvXucd3qeutW8uPGGOk03mVKBaIlTq9fLgiv4ZfTglUvD5QfmdNjuQxxvrJYtq5vaHPdDYbM7OVRLXeZB4S7E2MMape2TP7TLZmCFBTrJw5nvqsCb+GP04LVbx+UL446/9/cP9wHmMR17l31XnT0rVdp4YOCXSViQQ6ALZBAh0AgXFlAl1LjTS5jleNU1CpNYEO5RMJdLFFAl18lU6gQ9drbwJdqpbaUVqqqytEAl18kUAvmVr4jkACXXw9MYEuQqLc3uPcmRHrdAJd1PMimkigO6YWP9OKJ9BjelLLhI+hxMYxPZFAB8AGSKADIDDShsIZDBQI2Ti9fz6Z7pxJpiasAz36q5Li9YHye+dMUYzvnk1WvC5Qfh9eqsRjnJeLa1hE83INMX54SX0xVuvvm5a8ezaZx1jpuoikWj6bBZcN1/D984ixiOZfNMT4wQX1fU/DkqvvM905k6z5PpPIidKS6Cl9JnuS5SJ+PuztM2nhuLVQRyVUe5/JHVr7bIjwuTmZmYAEuspEAh0A2yCBDoDASBsKufuVS6C7uwPnivdy19PnSjeKRb97XcsiHhBCd4nvG1hcV34m8HmDEEII5dUT+vRafPpeC3XUgjiP2jR3fyIS6CoTCXQAbIMEOgACI20oHNwcr3hjSe26suPlqgb+mexEytkUTzmb4qkp66T6+kLHPbilKL7HdyQoXpeSis+VqbdOJ/Nr+OIBLMMgopcOVuQxvnVau09FueP61dIAqNQTOxMoZ1M8HUBby2xMS/p5UPoYHlyoxK/h03swo5OIXjuexGN85WiS4vWB8ntW0mfCjD9iqu8zHduu/T6TaMrxW377jKHPpF+6TotT2CtZP0ff29J5ddV5/uuQoc/0v1Pa7TNpUVcsWWluf1uXxyibQK/wDrWM6wclNq7wDhLoANgACXQABAZroLuuYan08evfX2troCt93rRo8TXQcQ7FEmugi6+r1kBXw3eBPXWQo4wajtWazqyBrnTcrKl0/dQm1kAXX6yBLr5aWgNdS9/DaqqrJ66B7im+5PUq1WdN+DUcz7Q9c55S9VXTeTJXF6yBrp5YuErF10BHAh0JdACcAAl0AATGlQl0qA4tJdAxIC6OxRPoSirH5wifRWORQBdfVyXQPVU1fodoLYEOHRMJdPFFAt1xtda/0FICHTonEuhiqv+uMZdAV7puch+j1r5X5RYJdPFFAl19IoEOgG2QQAdAYKQNhSU/RMna8BGtYa/V4/kuvTyldQ+htO4h9M+JJH4szh6PFjptWqijnH7QswyldQ+h4Z+EK16XksZN6Tqo0T92JfBreMkPFRSvD+Itv8tmV+AxFmEpBjmU62YcuX4PSrqPEZ9GUFr3EOrbo4zi5xbK782TSfwanorkqpDuzIjlMd66PFbx+qhFa9+NWvudnzHB0Ge6egzT9KtFOT9HH/UKpbTuITR0gLb7TNC8p3Yn8mt40X/kHdtSo3J/x2rhO3vFj4Y+09HfPa/PpIUYldRPPwhVNoEe1YNaxn4EJTaO6oEEOgA2QAIdAIGRNhRy92vjTntbg+Ge0Kh09JxorV5qPBZRVNu5VVt9IITq0xUDhPjugVD92lpKAE/jKS/6ZVAuRbnOLdVTjhvYrZ0XrZ0nqLz4rEA1mrs/EQl0lYkEOgC2QQIdAIHRYgLdE7XWEdf/t6SdZjk7UOiMQUfE5wXn11NELNSrlgfrIfQkRUmyQQghhLYs6e8afhOh1kQCXX0igQ6AbZBAB0BgpA2FxR4wzZUWLWmn55uR5ah7ajB1Tw3mU7hDbWhv7Hu+HkLdU4Np0EfaXB8bHXvrHt+RwK/hBdPxPS3i52XRf6J4jD1xOkJ3qGRy7SWvV6kiq04VWAJFs0QhP8Oe7o0/k/g1POmrsorXx1N0Z+J824pYHuONS2IUP3Yov1PHGPpMV46izySiad2L+kyffiBPnwm/5+o6N39mGvpM86dFKn4OnDlnuBHMukt+qMBjfGhrvOzn3lI8cMOe+/w4TQVTuMd8CCUigQ6AbZBAB0BgpA2FsYMjFG8suVprDV21NIJtPW3uqJ3aBPEYX8ip6PQ5M/f+0ifglT5vnqK5cx3g70WMMXqiuk7x+kH53bYill/DA/tq8yaJkugJ3y+ffRjGY7xpKRIz7vxMOLovZ9+7bi0/YoyRTuflluPyBNU0gHn5cEV+Db+cEqh4fURVyQHsWZMjeYynYZ17Ie3c3tBnOpuNmdlENCTYmxhjVL2y+/tMah+DcMfx27Pkgz3nQlpG+jc7Mwx9po/TQhU/ZneeW6Xr4K7jGdw/nMf4t0XRsrxXSVT6XIlonRo6JNBVJhLoANgGCXQABMbTEuhq1lUNcDkS6M7W05WdCnRYDCKBLraelkD3xAEJJNCd0xWfE1cthWJPAt2R+nnaNeKKeMkpEujiiwS6+CKBLr5KJtCh663PmvBrOJ4p00ZAgrXk50367+LlbCXQS5L0RvJcHSKBrj6RQAfANkigAyAw0obCM6yFKhuDaqyTK47HVcd58UBFOrEzgU7sTKAHFyrZfApf6fMjgu7uWP2xqyi+ZzQy2IfPmWPeOZPMr+H/HnH8Jhiofq8cTeIxvnMmWfH6QHl9yetVasha0bMshZ5jKR41EOfogKXS9XXW/IuV+DXszM2KUP3e+NPwPX39D0zvLaKXDhr3mZSuj4gq/dv3Z6a2+kxqUSu/z3fPGvpMf6PP5HYdSTY7m6CW9pluF+szlfRpciTL1WHm6lhlE+iRb1PL6A+gxMaRbyOBDoANkEAHQGCkDYXc/cp1JNEwVe68K10HEUVnC0IIobt0dqDPlb9T+B2EEEKxlD4Zamk7vvMhdK9que4cTT47W84V5w1tVvtj6473y92fiAS6ykQCHQDbIIEOgMBIGwonMxMUb5yJrisbn8X3qf/3/04l09VjSXT1WBI9vFTypymU7FygU2NefXzxRJSYPrhQice4+J32UAzvnDF8T+OpN3Xr7O/Q9T+SeIyVPga5zgMGHA0++svwPX3zpBgxhsbeO2f4nr53Dr/FIip3n8kTdeb3wJ2/I9eOo88ksp7aZ1JDO0zOJ7it3awj7TPl5Tr2Pa2G8+Tu8690vZzxyO/xSKCrTCTQAbANEugACExJ10DXaqNMVM3Fo6RroCPWysTPkU6P2tdAx2enZHraGuieKNZA156Ofq/JtQY6VKdYA118sQa6+GINdPHFGuhiuzPD0Gf6OC1U8fq4U3f3t+1N0lrb7kydba2BrqZzBJ1T8TXQy71JLaP6QomNy72JBDoANkACHQCBKWkCHSqjI41/uRLoIir3OldK3emr9gQ6LJlaSaBjUMJ5kUAXXyTQxRYJdPFFAl18kUAXXyTQxdadCXS1rJvtyvdR45PMJUmgi6iaYiOXSKCrTyTQAbANEugACIy0oTBvSqTijSURtffO3OLl5OqsjPwsglo1C6BWzQLoylH3TVenhca82jqEztqhVSC1ahZA771dRvG6QPk9tDWeX8MzJ5ZXvD5Qfmd/E8ljfGBzvOL1gfL7Qc8y1KpZALVDclVI/zmRxK/h4Z+EK14fKL/rF8fwGGf8hEF7ER3zhaHP9PcR3HQsoq+0DaJWzQIorXuI4nWB8nv09wR+DU8fr2yfSa1PhGv5GAv/rkxzpxj6TPs2xFk9F0rGX5TzrYTvdA1RNoFetju1jHwPSmxctjsS6ADYAAl0AARG2lDI3Y877R3RVQlvCLUsrgHoieL7H0IIIYQQQmhN9BkgtG7u/kQk0FUmEugA2AYJdAAExtMS6OisQLl1dIYBfAbtO6dKx9NSHRBHaI/4nEAIIYQQQlfryvamGvqwaqgDhErpiZ95JNDVJxLoANgGCXQABEbaUFg1r4LijSU0NuW3FnuaElk1SmTVqDFrb/a82HOu7FnjC51by+fOlfsfNjCcPu8XRt+M1N6anK44N6J9/s5kJ9Ln/cLo835htOZnTBsrousWRvMYn9ot/s1snuiU0eXo835hNORfmN5bRG+dTubX8LypWBJJRPeuj+MxzlprftpYqG0XTI/iMb7+h/uWvYLuc/gnRX2mSV+VVbwujqj0zcVaqeu5vYY+E5baENP1i2N4jP/MTFC8Pq5QtLEMRx0xKFzZBHpEN2pZ/l0osXFENyTQAbABEugACIy0oTB2cITijSU0NuW3U5sgHuMLORVxjgQ0wN+LGGP0RHWd4nWxJm6ucM5tK2L5NTywb5ji9YHy+9mHYTzGm5bGKF4fKL91a/kRY4x0Oi/F6+Ko+O627eXDFfk1/DLWuRfSWZMjeYynjdXeDYuuVJTvh87tDX2ms9m4mU1EQ4K9iTFG1Su7t8+E31HTG+1dcT52Zhj6TB+nhSp+zFB+B/c3JFd/W6StmyQszabg6d8Nxa1TQ4cEuspEAh0A2yCBDoDAWEugq72jp+a6qcWXvF41SaArXScov1pJoMupJ13/SKCLLxLo4qvlBDq0LRLo4osEuvgigS6+SiXQPVV7ZqeTcwY7JNDFVwsJdEtJcrWPr6pFJNDVJxLoANgGCXQABEbaUNizzjAdIdaaUk5b06Rb+htL2w5sjqcNv8TQhl9i6N65ZMWPD8rvpqVF8c1cI/aUop76fXT9jyR+Df+xS8yp6jzdPzMTeIyvHce0sSKatTaONvwSQxuX4AYJEb1/Pplfwzmb4hWvD5Tfiwcq8hjn7kdyVU3K1T48tNXQZ7p7Fn0mEd28rCi+OzNi3fJ+JflsekK/R+4E440/DX2mEzvRZxLRk1mGPtPVY473mVw9zokx1JK7al4FZRPoYW9Qy7J9oMTGYW8ggQ6ADZBAB0BgpA0FeweD3JFcR4MTQvfp6A0brqqD0ucBQgghhBCqW7QZoVLis+fac4vEI3RUpccwlDpGe1S63s6auz8RCXSViQQ6ALZBAh0AgbGVQLenEab1BppWxTmHWhefYQghhNAzRRsA2iM+J1Ct4rOJcw3FF58994sEuvpEAh0A2yCBDoDASBsK44ZFKN5YgvL7Wscg8i/tRf6lvejiAayBLqIRYd7kX9qLnnrST/G6mBM32ZTM7b/G8mt40EdYA11Eh/wrnMd4yzJM8S2iz9YvTf6lvahMiLfidYHye/lwRX4Nv9ouSPH6QPn98dtIHuMZE8orXh9LarW9pYa2YrdXg3mMz+3FNP0iGlmuFPmX9qK6tVzXZ1L6c+zJZq6J49fwJ++jzySiwz8x9Jk2/KJMn0kNv1ci+9STfoom0F8M7UopEb2hxBdDuyKBDoANkEAHQGCkDYWxg5FAF9FObYJ4jC/kIIEuogH+XsQYoyeq69z+3ug8ut5tK2L5NTywLwaDRPSzD8N4jDctRQJdROvWKhoM0um8FK8LlN/Lhyvya/jllEDF6wPld9bkSB7jaWPLKV4fKL+d2xv6TGezkUAX0ZBgb2KMUfXK7u8zFf6NfpOr3Zlh6DN9nBaqeH1EVonl3l7yepUG9w/nMf5tUbTi58HeeitdDy1Zp4YOCXSViQQ6ALZBAh0AgZE2FKaPU+/TFNB5+/cJpdo1dFS7ho4uH0YCXUSfrutHtWvoqFMbPPWmVkvScd67Po5fw19/WVbxY4HyO3lEOR7jrLVxitcHym/qy0FUu4aO6tVW50whsGRePZbEr+GPemHQXkSXz6nAY7zoP1GK1wfK78C+YTzGmLVLTJ97qjTVrqGj9i3VdaMTEmzymLMpnl/D44aiz+Qqlfy8Thlt6DPtzIhVbT3tPY9qr6MStm8ZiAS6ykQCHQDbIIEOgMDYWgMdQgihbfUdYHSCIYQQQgghhBBCdavGvrsa6+ROlV4D/cUyXSklrBeU+GIZJNABsAUS6AAIjKgJdE9vdEIIIYQQQgghhFDbYmwDakGRPqeiHIsWjwMJdPWJBDoAtkECHQCBkTYUNi3Buqsium5hNE0bW46mjS1Ht88kK14fKL8zJpSnaWPL0cIZJZ9SVPoktRwdLhGeyla6/pcOVuTXsK2p6qA2zVwTx2N8IQfTxoro4plRNG1sOfoey+UI6Z0zyfwaXvOz+tfkhI57fEcCj/HhbfGK1wfK72+LDH2m/51Cn0lEZ04s6jMtmK7dZRiU7peo2b8OGfpMO1ahz6SkrhoD2L3O0Gc6v8+9DwC56tpTarxErd8l36eXQwJdZSKBDoBtkEAHQGCkDYWxgyMUbyxB+e3UJojHGIkZMQ3w9yLGGD1RXSf7VOJyJ9TVqNqPa9uKWH4ND+wbpnh9oPx+9mGY4Wa2pbiZzZpa/S6qW8uPGGOk03kpXhcov5cPV+TX8Msp6lpbF8rjrMmRPMbTxpZTvD5Qfju3N/SZzmaLMzObCMr12x8S7E2MMapeWaf4MclxTpSug9rcmWHoM32cFqp4fRyJpT3x1HqfXI56D+4fzmP82yL13LCo5bjIGR85rFNDp2wCPeQ1SgntCSW+GPIaEugA2AAJdAAEBgl08UUCXX7l7iCVdF/SBLrS50Ztan2gofBvJNA9QbUm0EW4ftQiEuhiiwS6+CKBLr5IoCuv3P2r4vsrnkBH+0YstZpAl1OtfqbtrbdaE+iOHCf6VtZFAl19IoEOgG2QQAdAYKQNha3L1TNoD+Vz87IYmv1NJM3+JhJTuP8tZqdl3tSi+K74sQLOi4BePlyRX8N71sUpXh8ov3vXx/EYXzrovhudcL27z5VzK9DsbyLpx28jFa8LlN+7Z5P5NbwRSyIJ6Z+ZCTzGx3ckKF4fKL9bJH2mW6fRZ3KnJWmPONJ/mT+tKL7LZjvfZ4Lq9e8jhj7TbvSZqPBv7bf1i9d/3wZDn+niAc97OMQTxmtmfxOpbAI9qDOlhPSAEl8M6owEOgA2QAIdAIGRNhRy9+NOe6hOkdyV91wqETuljxvC4uJzCSGEEEIIIfRktdhf11p9of3m7k9EAl1lIoEOgG2QQAdAYJBAh1A9arHzKq23Gutuq25qrTeEEEIIIYQQQqi0Wuszq3l8AloXCXT1iQQ6ALZBAh0AgZE2FKZiPT8hff+dMlQ5yZcqJ/nS5cOeN82VUrqz01a7ho4qJ/lSm+aet+6qJ3SM96yL49fw2MERitdHjWr9czB+WFke412rYxWvD5Tfl1MCqXKSL9WoolO8LlB+rxxN4tfwu2+VUbw+UH6X/FCBx/in76IUrw+U3496hfIYX8hBn0lE69byo8pJvpTSJEDxukD53bfB0GcaNQh9Jnfpzj7YpK8Mfabtv2q/z4REv6ktm/grm0APTKWU4LehxBcDU5FAB8AGSKADIDDShgISM2LaqU0Qj7ESg0GidQbU2MkJ8Pcixhg9Ud31iRl3Hb8az7NSblsRMDXuXwAAIABJREFUy6/hgX3DFK+PEko/DyJ+Jj77MIzHeNNSrJ8sonVr+RFjjHQ6L8XrAuX38uGK/Bp+OcXzbmbzBGdNNqzJOQ03HQtp5/aGPtPZbMzMJqIhwd7EGKPqlXEzm4juzDD0mT5OC1W8Pp6uK/ptg/uH8xj/tiha8WN05blTug5KWaeGDgl0lYkEOgC2QQIdAIGRNhQmDi+reGMJyu+bnYMpPMybwsO86dJBPE0horHRPhQe5k3PP11a8bpA+d2ZEcuv4aEDwt363sUT16ImsJV2+CfhPMbbVmj/aQpoauPn/Ck8zJuiypdSvC5Qfv8+UpFfw2+8Eqx4faD8/vRdFI/xD5PKK14fKL/vvB7CY3x+HxLoIpoQW9RneqYe+kwiuntdHL+GP+/nmTcda0ln+pSjBkXwGG9eJtZNx+hjF9nw6dJIoKtMJNABsA0S6AAIDNZAh1BZkZCE7hafOQghhBBCCCGEWlDrN3Jrue7uVuk10F/wf4VaBL4JJb7g/woS6ADYAAl0AAQGCXQI3Ss6T9CV4vMFIYQQQgghhBDap6VZ1xxV6eMQQSTQ1ScS6ADYBgl0AARG2lB4ijVBA1FAs3+Lo1Xzo2nV/Gi6dy5Z8fp4gu6+Ntb8XBTfrcsx9bOIXjuexK/ho78nKF4fKL/HtifwGF85mqR4faD8blsRS6vmR9Pqn8Rdr9GTvX8+mV/De9bFKV4fKL/n9yXyGGN9bDHdu97QZ7pzBn0mEV27oCi+WwSb+hkW+c8JQ5/pyLZ4xesD5ff4DkOf6b9HsDyhiC75IQoJdJWJBDoAtkECHQCBkTYUxg6OULyxZE0k7Z2zU5sgHuMLOeJ0MkT5PMhxDAH+XsQYoyeq6xQ/Hii/21bE8mt4YF+s5yein30YxmO8aSkGdUW0bi0/YoyRTueleF2g/F4+XJFfwy+nBCpeHyi/syZH8hhPG1tO8fpA+e3c3tBnwk0SYhoS7E2MMapeuajPhAcDxHJnhqHP9HFaqOL1gfI7uH84j/Fvi3BTqrOW9GEpV35n1qmhUzaBXroTtQjoDiW+ULoTEugA2AAJdAAERksJdOicakqge9oMBu46ViTQxRYJdPFFAl18kUAXWyTQxRcJdPFFAl1c9f2xUsyHGGMUyIJVNbueWuqhdZFAF18k0B1Ti98nSKCrTyTQAbANEugACIy0obDm5wqKN5ag/C6eGUVf/TuCvvp3BN08ad/UwJ4wZb9Ixzbmi6L4fj+uvOJ1gfJ7bm8iv4Y3/ILkqohuWhrDY3wGg/ZCOmNCefrq3xE0ahBuVhTRW6eT+TW8cEaU4vWB8puzKZ7HOPs3TNMvokt+qMBjfP0PLKciopXYE5TEalI1Vlfz/T9oau5+Q58JyVUx3bLM0Gc6tRt9JmdU+3df+tAIJNBVJhLoANgGCXQABEbaUMjdjwao1hU96Q0hhBBCCCGEEEq1Z0pie1X6WCCE0FPN3Z+obALdryO1KN0NSnzBryMS6ADYAAl0AAQGCXTzuqLzjE47hBBCCCGEEEIIIYRQDappDBIJdPWJBDoAtkECHWiOvLw8mjZtGjVt2pTKli1Lvr6+FB0dTa1bt6ZFixbZvZ/MzEzq1q0bJSQkkJ+fH0VFRVFKSgotXLjQrr9/8OABDRkyhBITE8nPz49q1qxJ06ZNo8ePH9v8299//53eeecdql69OgUHB5Ovry9VqFCB6tSpQx07dqRJkyZRTk4OFRYW2n085pA2FOZ8E6l4YwnK77CB4dT0eX9q+rw/XTmK6QhFtFWzAGr6vD+983qI4nWB8ntgczy/hjFNv5j+5+vyPMb7N8YrXh8ov727hVDT5/2pReMAxesC5fefE0n8Gh7cP1zx+kD5Xbsgmsd45VwseyWiwz8x9JkuH66oeH2g/LZtEUhNn/ent19Dn0lED28z9Jmmji2neH2g/M6aHMljjOVUXKtSSfVurwYjga4ykUAHwDZIoANN8ccff1DVqlX5l7s5W7ZsSXfv3rW6n+HDh5O3t7fFfbRr147y8vIs/n1BQQG1aNHC7N/27t3b4t/du3ePXn31Vav1l7pu3TqnzxWRcUNh7GCsyymindoE8RhfyMFgkIgG+HsRY4yeqK5TvC5QfretiOXX8MC+YYrXB8rvZx+G8RhvWop17kW0bi0/YoyRTueleF2g/F4+XJFfwy+nBCpeHyi/syZH8hhPQ2JGSDu3N/SZzmZjZjYRDQkuGt+pXhl9JhHdmWHoM32cFqp4faD8Du4fzmOMde7VodwzatapoVM2ga7rQC38XocSX9B1QAIdABsggQ40w9WrVykuLo5/saemptLq1aspJyeHVq9eTampqUYJcEvMnDmTl0tOTqZZs2ZRdnY2rVy5kpo0acK3vfHGGxb38d133xFjjGJiYmjOnDm0e/dumjx5MpUpU8Zq4rt169Z8/5UqVaL09HTasmULHThwgHbu3Elz5syhXr16Ufny5ZFAh3aJBLr4IoEutkigiy8S6OKLBLrYIoEuvkigiy8S6OKLBLrYIoEuvkigiy8S6OoTCXQAbIMEOtAM77//Pv9SHzZsmNkyQ4cO5WWWLVtmsv3mzZsUGhpKjDGKj4+na9euGW0vKCigdu3a8X38/vvvZt+ncePGxBijQ4cOGb2+YsUKYoxRjx49TP5m7dq1fL8pKSn04MEDi8daUFBAS5cupaNHj1osYw/ShsIZDBQI6f3zyXTnTJGP/qqkeH2g/Orje/dssuJ1gfL78FIlHuO8XFzDIpqXa4jxw0uIsYjePWv4LVa6LlB+Cy4bruH75xFjEc2/aIjxgwv4nhZR9JnEF30msUWfSXzRZxLfk5kJiibQG/m0p+a+XaHERj7tkUAHwAZIoANNUFBQwBPfCQkJVFBQYLFcfHw8Mcaofv36JtvHjRvHfxgsrXV+8eJFKlWqFDHGqG3btmbLVK5cmSIiIkxev337NjHGqEWLFibb0tLS+HuXNDFuL9KGQu5+JNAhhBBCCCGEEEIIIYQQus/c/YlIoKtMdybQc3NzacCAAVStWjUKCAigsLAweuqpp2j8+PF079492d5n3bp11LFjR4qJiSGdTkcxMTHUsWPHEs/yCzwXJNCBJjhx4gT/Qu/Vq5fVsj179uRlz507Z7TtueeeI8YYhYSEUH5+vsV9pKSkEGOM/Pz86M6dOybbGzZsaDYRvmrVKmKM0Ztvvmlxn4wxq0+fy4m0oXBwc7zijSUov2eyEylnUzzlbIrHEzOCenBLUXyP70hQvC5Qfm+dTubX8MUDWIZBRC8drMhjfOs0nooS0RM7EyhnUzwdQFtLSB9cqMSv4dN7cEOqiF47nsRjfOVokuL1gfJ7VtJnwtOrYqrvMx3bjj6TiN4+Y+gzYek6Mf3rkKHP9L9T6DOJ6NblMUigq0x3JdBXr17Nl701Z9WqVenMmTMleo/Hjx8bPbxozrS0NHr8+LFMRwU8BSTQgSbYtWsX/7L74osvrJb9/PPPedm5c+fy1/Pz88nHx4dPoW6N0aNH831s2bLFZPv48eOJMUZxcXH0448/0p49e2jKlCkUFla0zmlGRobJ30inhj9w4ICdR14ysAa6+GINdPHFGuhiizXQxRdroIsv1kAXW6yBLr5YA118sQa6+GINdLHFGujiizXQxVfpNdAblWpHzX26QImNSrVzeUwOHjxIAQEBxBijoKAgGjVqFGVmZtLmzZupd+/e/P2rVatm9iFGe5Hmg+rWrUsLFy6k7OxsWrhwIdWtW9fuvBIAxUECHWiCgwcP8i+6Dz74wGpZ6Vrpn376KX/96NGj/PV+/fpZ3cfy5csNgyjTpplsz8vLowYNGpi9m8nc0+dExuuzN2zYkK5evWrHkZcMJNDFFwl08UUCXWyRQBdfJNDFFwl0sUUCXXyRQBdfJNDFFwl0sUUCXXyRQBdfJNDVpzsS6I0bNybGGPn4+FBmZqbJdulyu8OHD3fqPU6dOsUfmqxfvz7dv3/faPu9e/eofv36vB6nT5926n2AZ4IEOtAEd+/eJV9fX2KMUe3ata2WfeKJJ/gXb9euXfnr69at46+PHz/e6j727t3Ly3722Wdmy9y5c4cGDBhAMTEx5OvrS1WqVKGJEydSYWGh2fK5ubn8jivGGPn7+1OnTp1o8uTJlJWV5ZJp3aUNhSU/RCneWILy+116eUrrHkJp3UPonxOYclJEP+hZhtK6h9DwT8IVrwuU3z92JfBreMkPFRSvD5TfZbMr8BhjKQYxHfFpBKV1D6G+PcooXhcovzdPJvFreCqSq0K6MyOWx3jr8ljF6wPld8YEQ5/p6jH0mUT0o16hlNY9hIYOQJ9JRE/tTuTX8KL/YGxLRFf8aOgzHf0dfSYR/fSDUCTQVaarE+jZ2dl8/3369DFbprCwkKpXr06MMQoLC6OHDx86/D59+/bl75OVlWW2TFZWlt0PZwIgBQl0oBlatmzJv+gWLFhgtsyCBQuMngZv27Yt3/bLL7/w17///nur73X8+HGXfKlmZGRQUFCQUR31+vn5UaNGjWjixIl0/fp1Wd5P2lDI3Y877SGEEEIIIYQQQgghhBC6z9z9iYom0J/3aksveXeGEp/3auvSmEinVd+9e7fFcmPGjOHlNmzY4NB7PH78mGJiYvg08NaoWrUqMcYoNjYWa6EDu0ECHWiGPXv28Ok4fH19acSIEZSbm0sPHz6k3NxcGjFiBPn6+pJOZ5gSplmzZvzv582bx1+fNWuW1fc6c+YML9uzZ09Zj+PChQv0/vvvU3h4uNlEOmOMQkNDjdZvdxYk0CGEEEIIIYQQQgghhBAqJRLo6tPVCfRGjRoRY4wCAwPp0aNHFstlZmbyegwdOtSh95DmcCw95a4nLS3NsKTP2bMOvQ/wXJBAB5pi7ty5Rgny4pYqVYqmTJnC/92hQwf+t2p4Al3Ko0ePaM+ePfTtt99Sjx49qHLlyibHM3v27BK9h7ShsBjTXAnpNyPLUffUYOqeGowp3AW15+sh1D01mAZ9hPWxRfT4jgR+DS+Yju9pEV30nygeY0xHKKaD+4dT99Rg6tE1RPG6QPm98WcSv4YnfVVW8fpA+d22IpbHeOOSGMXrA+V36hhDn+nKUfSZRDSte1Gf6dMP0GcS0T8zDX2m+dMiFa8PlN8lP1TgMT60NV7x+kD5/ThN2SnckUB3fwK9bNmyxBijOnXqWC1348YNXo/U1FSH3mP16tX8bydNmmS17MSJE3nZNWvWOPQ+wHNBAh1ojoMHD1JqaioFBwfzLz1vb29q1qwZ7d69m44cOcJf79GjB/87uddAdwX79u2j559/nr93WFgY3b592+n9nTt3ju/rjVeCaO2CaMrdn0i5+xNp99pY+mVmFP0yM4pyNsbx11fOrUC/zIyilXMr8NdyNsbxsrvXxvLX1y6I5q/rXzu6PZ6/tn2VoeymJTH89ZNZCZS7P5FOZiXw1zYtieFlt68y1O3o9nj+uv41HIfhOBo/V5rHeN7USM0ehyjxcMVx6HyL4lutkq+mj0OUeMh9HL/MjOLXcMdWgZo9DlHi4Yrj6NujDI/xsAFhmj0OUeLhiuNIStDPkMQ0fRyixEPu4/j5+0h+DTd/0V+zxyFKPFxxHOO/LMtj3OuNYM0ehyjxcMVxtG0RwGM8bWw5zR6HKPFwxXGULl0U30qJvpo+DlHiIfdx/Ofrcvwafr1TkGaPQ5R4uOI4PuplSK4O7h+q2eMQJR6uOI6qyT48xufOnZNvMN0K0gT6U6wpPc9aQ4lPsab8/GRnZ9PFixet6gh5eXl8323atLFZPjAwkBhj9Mwzzzj0Pt9//z1/nyVLllgtu2TJEl52+vTpDr0P8FyQQAeapaCggC5evEinTp2ie/fu8dd//vlns4lyaWK9X79+Vve9fPlyQwd72jSXHYM57t69S5UqVeLvv3z5cqf3lZ2dbfFpfQghhBBCCCGEEEIIIYTQXWZnZ8s4km4ZaQIdllxHuHr1Kv+7Ll262Cxfvnx5YoxRrVq1HHqfcePG8fdZt26d1bJr167lZSdMmODQ+wDPBQl0IBzvvfce/zLcvn07fz0/P59KlSpFjDFKSUmxuo/Ro0fzfWzZssXVVTZhyJAh/P3HjRvn9H6QQIcQQgghhBBCCCGEEEKoBpFA16aOcOHCBf533bt3t1k+Li6OGGOUnJzs0Pt89dVX/H02b95stezmzZt52REjRjj0PsBzQQIdCEV+fj6VK1c0tVNMTAwVFBQYbX/22WeJMUYhISGUn59vcT8pKSnEGCM/P78STaHuLNLpR0pyR1ReXh5lZ2dTdnY2nTt3zuZULBBCCCGEEEIIIYQQQgihXJ47d46PUefl5ck4im6ZR48eKX7cWtDevIEj4Al0IApIoAOhkH5pmruTKD09nW9fuHCh2X1cvHiRP6neunVr2er2+PFju8v27NmT13PZsmWy1QEAAAAAAAAAAAAAAAAAAMAVYA10IApIoANNkZuba3HbqlWryNfXlxhjVLlyZbN3s12/fp3KlClDjDFKSEigf/75x2h7QUEBtWvXjn+Zyjl9e58+fWjUqFF0/fp1q+U2bNhAPj4+xBijwMBAunXrlmx1AAAAAAAAAAAAAAAAAAAAcBVly5YlxhjVqVPHarkbN27wXExqaqpD75GRkcH/dtKkSVbLTpw4kZdds2aNQ+8DPBck0IGmCA4OphYtWtDMmTMpMzOT9u3bR0uXLqUuXbrwL8CwsDDKycmxuI/p06fzssnJyTR79mzau3cv/frrr9SkSRO+rWvXrrLW/ZVXXiHGGOl0OurQoQNNnjyZNm7cSDk5OZSdnU0LFiyg1157jby9ve3+4gcAAAAAAAAAAAAAAAAAAFALjRo14g8IPnr0yGK5zMxMngsZOnSoQ+9x5swZ/rd9+vSxWjYtLY2XPXv2rEPvAzwXJNCBptBP52HJGjVqWE2e6xk6dCh5eXlZ3E/r1q1lX4/lo48+slp3qaVLl6b09HRZ3x8AAAAAAAAAAAAAAAAAAMCVDBo0iOc6du/ebbHcmDFjeLn169c79B6PHz+m6OhoYoxRtWrVrJatVq0aMcYoJibGoaV2gWeDBDrQFAsXLqQePXpQzZo1KTw8nHQ6HcXExFCrVq1o1qxZ9PDhQ7v3tWvXLnr99dcpLi6OdDodlS9fnpo3b04LFixwWf1zc3NpxowZ1K1bN3ryyScpLCyMfHx8yN/fn6Kjo+mll16iUaNG0YULF1xWBwAAAAAAAAAAAAAAAAAAAFewZ88em0+HFxYWUvXq1YkxRqGhoQ7ldvS89957/H2ysrLMlsnKyuJl+vbt6/B7AM8FCXQAAAAAAAAAAAAAAAAAAAAAgCzop3H38fGhzMxMk+3jxo3jie1hw4aZbN+6dSvf/tZbb5l9jz///JN8fHyIMUb169en+/fvG22/f/8+1a9fn9fj5MmTchwa8BCQQAcAAAAAAAAAAAAAAAAAAAAAyEJOTg75+/sTY4yCgoJo9OjRlJWVRVu2bDFak7xKlSp0+/Ztk7+3J4FORPTZZ5/xcnXr1qVFixbR3r17adGiRVS3bl2+bdCgQS48WiAiSKADAAAAAAAAAAAAAAAAAAAAAGRj1apVFBISwpPYxa1SpQqdOnXK7N/am0AvLCykd955x+J7MMaoZ8+eVFhY6KKjBKKCBDoAAAAAAAAAAAAAAAAAAAAAQFbOnz9P/fv3pypVqlBAQACFhoZS/fr1KT09ne7du2fx7+xNoOtZs2YNtW/fnqKjo0mn01F0dDS1b9+e1q5dK+PRAE8CCXQAAAAAAAAAAAAAAAAAAAAAAACAkEAHAAAAAAAAAAAAAAAAAAAAAAAAiAgJdAAAAAAAAAAAAAAAAAAAAAAAAICIkEAHAAAAAAAAAAAAAAAAAAAAAAAAiAgJdAAAAAAAAAAAAAAAAAAAAAAAAICIkEAHwO0cPXqUhgwZQo0aNaKyZcuSl5cXMcaIMUbJyckO7Wvnzp3UoEED8vf35/vw8vKioKAgatq0KR0/ftyu/Vy7do1at25NgYGBvD46nY7q1atHmZmZdu1j9uzZFB4ezusQFxdHmzZtcuh41MSVK1coIyODhgwZQi1btqSIiAh+jt966y279jFnzhz+N7acM2eOzf3du3ePxo0bR0899RSFhYVRYGAgVatWjQYMGEC5ubl21WnPnj3UvHlzCgwMpNDQUOrSpQudOnXK7PHr69axY0er+7x586bR53jz5s1Wy48dO5aXXbFihV31dgVyxDgvL49WrlxJH3zwAT399NMUFhZGPj4+FBYWRs888wwNGzaMLl++bHedEGPlyMvLo2nTplHTpk2pbNmy5OvrS9HR0dS6dWtatGiR3fvJzMykbt26UUJCAvn5+VFUVBSlpKTQwoUL7fr7Bw8e0JAhQygxMZH8/PyoZs2aNG3aNHr8+LFJ2ffee4+f50OHDlnd78cff8zLNmrUyGrZgoICCgoKIsYY1alTx656a4Fr165Reno6PffccxQZGUk6nY4qVKhATz/9NA0cONCu3zvEV13cunWLFi5cSP/617/ohRdeoOTkZAoJCSFfX18qV64cvfjii5Senk7//POPXftDfD2b3NxcGjBgAFWrVo0CAgIoLCyMnnrqKRo/fjzdu3fP5t/Pnz+f6tSpQ35+fhQbG0sDBw6k27dvu6Hm4qHla1tPQkKC3f0AxhiVKVPGrrqIiNZ+n/UgxvahxTa2Hk+Osaf3lfU4Mqajd9KkSXYfk1J4+niXM8egpfjaAuPSAABgP0igA+BmrDXEHGmo9O3b12bDzsvLiyZMmGB1P5s3byadTmd1P19++aXVfaSnp1t8/5UrV9p9TGrC2vlQokNx+vRpqlq1qtXO+po1a6zuY+PGjWZjHRYWRkePHjUpr3+/cuXKWd1vRkaG0f6GDRtmtXybNm3458PegU9XUNIYHzp0iIKDg23GNjg4mBYvXmxzf4ixcvzxxx9Wzz1jjFq2bEl37961up/hw4eTt7e3xX20a9eO8vLyLP59QUEBtWjRwuzf9u7d26T8woUL+fYpU6ZYrVu9evV4WT8/P3rw4IHFsnv37uVlP/zwQ6v71Qq//PKL0cCQOdu3b291H4iv+ti4caNdv7Fly5al3377zeq+EF/PZvXq1VSmTBmL8a9atSqdOXPG4t8PHz7c7N/VrVvX5m8HMEXL17YeT068OYIWf5/1IMa20WobW48nx9jacXpKX5lI3ARrSeNLpP3xLkePQUvxtYW148O4NAAAGIMEOgBuRvpDXqpUKaMBA3sbKjNmzDDaT+XKlWnQoEH0448/0sCBAykyMtJo+44dO8zu5++//zZqpFSrVo0mTJhAM2bMoObNmxvtY8mSJWb3cefOHSpVqhQxxqhSpUo0efJkGjNmDJUrV44YYxQYGOj0uVIS6bHHxcUZdbid6VCsX7+ejhw5YtGbN29a3M+dO3eoWrVqfF+9e/emzZs3U2ZmJo0aNYo/aRYQEGDxKbb8/HyKi4sjxhi9/fbbtG3bNtqwYQO1atWKGGPUoEEDk7/p3bs3f09rd43++9//5p9nxhg1bdrUYtnCwkIKDQ0lxhjVrFnTytlzPSWN8Y4dO3j5hg0b0pgxY2jjxo2Uk5ND69evpz59+vBzUqpUKVq7dq3FfSHGynH16lV+3hhjlJqaSqtXr6acnBxavXo1paam8m3t2rWzuJ+ZM2cafZfPmjWLsrOzaeXKldSkSRO+7Y033rC4j++++44YYxQTE0Nz5syh3bt30+TJk3lSZ926dUblL1++zPfbuXNni/uVfk/r/7t9+3aL5SdOnGjzu19LzJ07lw+6li9fnoYNG0YbN26k/fv305o1a+jbb7+l5s2b06uvvmpxH4ivOtm4cSPFxcXRm2++Sd988w0tX76csrKyaNeuXbR48WJKTU3l50Sn01n8/kR8PZuDBw9SQEAAMcYoKCiIRo0aRZmZmbR582aj38lq1arRnTt3TP7+2LFj5O3tTaVLl6YRI0ZQVlYWLV68mA8Ef/rppwoclbbR8rWtR594i46OttoH0GvvE1oiodXfZz2IsXW03MbW48kxRl+5COmYzsiRI+36HGjhBnKMd5keg0jxtYU0/hiXBgAA6yCBDoCbeeGFF2jIkCF05MgRIjLuWNjbUClfvjz/my5dupgtI31aqXbt2mbLvPjii7xM69atTbZLG0ShoaFm9zF58mRijFGFChWMXs/Pz+eDkfZOt6Mmhg4dShkZGfTf//6XiIjOnTtXog7FuXPnnK7LsGHD+H7GjRtnsj0zM5N8fHyIMUZNmjQxu49t27YRY6ZTdRcUFPDPSvFpsebPn8/fd/r06Rbr9+yzzxJjjF577TXesXn48KHZsgcPHuT7fO+992wdukspaYx37dpFnTt3pmPHjlkss3LlSj79VHJyssUpAhFj5Xj//fd5fS09WT906FBeZtmyZSbbb968yW8aiI+Pp2vXrhltLygooHbt2vF9/P7772bfp3HjxsSY6XTOK1asIMYY9ejRw+RvkpOTzX4HS1m/fj0xVnTnvn4QYeTIkRbLd+jQgdf1ypUrFstpgePHj5Ofnx8xVjT19f/+9z+LZfPz882+jviql4KCAptl9OeXMUadOnUy2Y74An3sfHx8zLZZx40bx8/p8OHDTbZ/+eWXxBijb775xuj1S5cuUUBAAFWsWNFldRcVrV/bRIbEW0JCgs1j8US0/vtMhBjbQuttbCLPjjH6ykVIx3TsmYZcK2C8y/QYRIqvLTAuDQAA9oMEOgAK40xDRd/J8PLyslgmNzeX7zcgIMBk+71794zWlXn06JHZ/VSvXp3vZ/78+Sbb9VP2mHsyQN9YmjFjhl3HpWaU6lA8fPiQDxpUr16dCgsLzZbr06cPf699+/aZbP/555+JMfPTxP7rX/8y26C8cOEC36elO/rv37/P7xbdtWsXvzs4KyvLbPkpU6bwfdq7Xp27cCbG9vBsUFmdAAAcMElEQVTKK6/w/ebk5JhsR4yVo6CggJ/7hIQEiwP2BQUFFB8fT4wxql+/vsl2aXLF0jFfvHiR3xXdtm1bs2UqV65MERERJq/fvn2bGGPUokULk209evTg721pfbfBgwcTY4xatWpFY8aMIcYYpaSkmC1LRFS2bFlirGjKYq3TrFkzYqxomt/ig672gvhqH/1TLWXLljXZhvh6NtnZ2TwGffr0MVumsLCQt4fDwsJMbiDTP6WuH4SU8n//93+k0+lcUneg3mubyLMTb/ag9d9nIsTYGiK0sYkQYyme2Fcm8pwEqyeOdxU/BpHjawuMSwMAgGWQQAdAYZxpqFhrgEjRN0T8/PxMtukHYRkrWnfMEtIp05577jmT7fp1ZmJiYoxef/ToEQUGBhJjlu8E1xJKdSg2bNjA9zF27FiL5bKysni5zz//3GS7fi3J4g3KwsJCevrpp4kxRmfPnjX5O/2gQXx8vNn33bp1K/8sPnr0iA+Gpaenmy3fuXNnXs+//vrL2qG7HVcNCkydOpXv19yUU4ixcpw4cYLXtVevXlbL9uzZ0+L1/NxzzxFjjEJCQiw+JUVElJKSwr+TzU0D3LBhQ2KMmazRtmrVKmKM0ZtvvmnyN9LvmVmzZpl9X/1d3aNGjeK/OcHBwWYHM48fP873Z21NSC0gja+tNdOsgfhqH/3ASVBQkMk2xNez+fzzz/k52717t8Vy0nbzhg0bjLZ98cUXxBijqVOnGr3+999/U2BgoMXfV1By1HptEyHxZg0Rfp+JEGNriNDGJkKMpXhqX9lTEqyeOt7lKfG1BcalAQDAMkigA6AwzjRU/P39iTHrd/pdvHiR7zc6Otpke6NGjfj2mTNnWtxPXl4eL1emTBmT7devX+cNoipVqtC3335L6enpfDofW40praBUh2LIkCF8H5ae+CUybhi+8MILJtvv37/Pn0rr2bMn/f7777Rx40Zq27YtMcaoXr16ZvfbvXt3/v7nz5832f7VV18RY4Y1sfXTb1m6+79ChQoOfdbdiasGBb7++mu+X3NTEyLGyrFr1y5+7F988YXVstIky9y5c/nr+fn5fEo5a0+FEhGNHj2a72PLli0m28ePH0+MFa1D9+OPP9KePXtoypQpFBYWRowxysjIMPmbM2fO8H2+/fbbJtvz8/P5b8b27dvpwYMHfMpUc3fvT58+ne/P3N3dWkL/2WWMGU0feePGDTp58qRd69chvtrn+PHj/Mm04k+3Ib5A3x4ODAy0+NQLUdH0ofpzO3ToUKNte/fuJcYY+fv70+jRoykrK4uWLFlCNWrUIMYYDRgwwNWH4ZGo+domQuLNGiL8PhMhxtYQoY1NhBhL8dS+sqckWD11vMtT4msLjEsDAIBlkEAHQGGcaai8/vrr/G+6du1qtkz9+vV5mdGjR5tsj4mJsZo0k1K6dGmrDaOBAwfyfRV30aJFdh2T2ilph+LFF1+k8uXLk6+vL0VERFCDBg3oiy++oEuXLlndx6uvvsr3cfPmTatla9euTYwxKleunNntS5cu5QONUkNCQujAgQNm/0Z6p+e8efNMtjdv3txoMFl/529oaKjJ9FunTp3i+7K0zpySuGpQ4OWXXzY7SKgHMVYO6XrtH3zwgdWy0nUcP/30U/760aNH+ev9+vWzuo/ly5fzstOmTTPZnpeXRw0aNDD7XWrpyRgiotjYWGKMUVJSksk2/QCmTqejvLw8IjI8hTNx4kST8m+88QZ/T3PrxGmJ1q1b807248eP6aeffuLXkN6KFSvSl19+afZpJSLEV6vcu3ePTp48SV9//TVFRkbyYy6eVEZ8gX6wtU6dOlbL3bhxg5/b1NRUk+39+vUzG/tatWrRrVu3XFV9j0NL1zYSb5YR5fcZMbaMKG1sxNiAp/aVPSXB6qnjXZ4SX1tgXBoAACyDBDoACuNMQyU/P58SExP531WtWpUGDx5Mc+fOpU8++YQ/AcoYowYNGpjdh/7uTcZsfw3o79pjjFkcBPz666+pTJkyvFyFChVozZo1dh2PFihph8KSpUuXpunTp1vch76jHxgYaPP92rRpw/f74MEDs2W2bNlCL7zwAvn7+1NISAh17NiRTpw4YXGff/75J99n8elgCwoK+HrYGzduJCKiu3fv8icFDh06ZFR+9uzZqu6cuGJQ4ODBg7wTV7NmTbNlEGPluHv3Lvn6+hJjjGrXrm217BNPPGG2g7hu3Tr++vjx463uQ/+UImOMPvvsM7Nl7ty5QwMGDKCYmBjy9fWlKlWq0MSJEy2uB0dE1LVrV77f4tPmjx07lhhj1LBhQ/7ap59+Sowx6tixo8m+9OtQijBQqP+drFOnjtHgrDlr1apldskBxFc72PrNHThwID1+/NjobxBfz0b6NEubNm1slte3nZ955hmz27/77juqUaMG+fr6UlRUFH344Yc2B4OBbbR6besTb9HR0XTkyBGbXrlyxfGTo1FE+X1GjC0jShsbMTbgqX1l6W/QyJEj7focaBFPHe/ylPjaAuPSAABgGSTQAVAYZxoqej7++GM+bU5xQ0NDzd7hp0c/Bai3t7fN94mLi+P7PXnypEN1FAVnOxRJSUk0cOBAWrZsGWVnZ1N2djYtWrSIUlNT+RRDjDGaMWOG2X3op/+MjIy0+X7StaftmfrQXqKioniDWIp+oMLHx8fo6RD9epRTpkwxKt+jRw9evzNnzshWP7mQe1DgwYMHRnfc/vrrr2bLIcbK0rJlS17nBQsWmC2zYMECo+9X6fT1v/zyC3/9+++/t/pe0vWJbT2N4wjff/893+/ChQuNtukHGqSDiRkZGcQYo7JlyxqVzc3N5fvp3r27bPVTipCQEGKM8d+70NBQmj59Ol29epUePHhAe/fupVatWvFjfu6550wGURFf7WBpEO/JJ5+0uLY14uvZXL16lZ+zLl262CyvH7irVauWG2oH9Gj12tYn3ux12LBhsr232hHl9xkxto4IbWzE2ICn9pXtSRIXV4t46niXp8TXFhiXBgAAy4j5zQ+AhnC2obJmzRqe9LJkYmKixamK9E+QlipVyuZ7JSUl8X1mZ2fbXUeRcKZD8b///c/kiRgpGRkZ/M78gIAA+vvvv03K6M99XFyczfeTrmV98eJFu+poD6mpqXy/0rvqJ06cSIyZrjupn8a0c+fORq8nJycTY4xiY2Nlq5ucyD0o0KtXL7v2hxgry549e/j3oa+vL40YMYJyc3Pp4cOHlJubSyNGjCBfX1/S6XT8HDVr1oz//bx58/jrs2bNsvpe0vWOe/bsKdsxHDt2jO+3b9++/PXCwkIKDQ0lxhitXr2av37jxg0+oHH8+HH++vz58/l+fvjhB9nqpxTSKfxKlSpldl29wsJCo0H6JUuWGG1HfLXDzZs3+ZMh2dnZtHDhQurYsSNvX5lb3xTx9WwuXLjAz5k9Nx3oB+4cHVgEJUOr1zYSb5YR5fcZMbaOCG1sxNiAp/aVPSXB6qnjXZ4SX1tgXBoAACwj5jc/ABrCmYbKlClT+OBpqVKl6N1336UjR47QvXv3KDs7m7p06WK03dzAEu70cwxXrfk1cuRIvt+RI0eabFf6jlwiom+//Zbvd+nSpfx1/eBl//79jcovXbqUGCuaLknP5cuX+T5ef/112eomJ3LGePTo0Xxf9erVo7t371osixgrz9y5c40G74pbqlQpmjJlCv93hw4d+N+q4emYx48f83V8pU9GHjp0iBgrWies+DTCtWrVIsaY0ZR6aWlpQn3XS6eEe+211yyWk66x2alTJ6NtiK/2mTdvHnl5eZG3t7fJ0hKIr2eDJ9C1jdqvbaydbBlRfp8RY9tovY2NGBvw1L6yp6yR7anjXZ4SX1tgXBoAACyDBDoACuNoQ+XWrVvk7e3NGxnF1yDWs3LlSr7fgIAAk+1yrzUjOq7qUFy5coU3Kps3b26yXe41oZzh4MGDfL/9+vXjr5crV44YY7Rs2TKj8v/97395+VOnThER0eLFi/lr1tbAUhK5Yjx9+nS+n6pVq9LVq1etlkeM1cHBgwcpNTWVgoOD+XF4e3tTs2bNaPfu3XTkyBH+eo8ePfjfyb0+o7N06NCBJ9uuX79ORERTp04lxhg98cQTJuXfffddYozRG2+8wV+rXr06McYoKipK1rophfRu+Llz51otGxMTQ4yZPv2A+IqBfsAtMDCQbty4wV9HfD0buddAB+5Hzdc2Em+WEeX3GTG2Dy23sRFjA57aV/aUBKunjnd5SnxtgXFpAACwDBLoACiMow2VQYMG8fLmGqBSqlatyssuXrzYaJt+MIIxRufPn7e6n9KlS/OBXU/FVR0KIkOSskaNGibbXnnlFf6+xZ9AK07t2rWJMUblypWTtX6FhYUUFhZGjDGqW7cuERGdOHGC10s65beeSpUqEWOG6fbef/99Xl465ayakCPGCxYs4B2JhIQEu6YWQ4zVRUFBAV28eJFOnTpF9+7d46///PPPZgfxpIN+0psPzLF8+XJedtq0abLWWz/dPmOGNQS7dOlCjBlPC63np59+MhqQvnbtGh/cKD41v1Z56qmn+DnZvHmz1bLPPPMMMVa0HqsUxFcMpNfvzz//zF9HfIH+6f86depYLXfjxg0eo9TUVDfVDthCzdc2Em+WEeX3GTF2DC22sRFjA57aV/aUBKunjnd5SnxtgXFpAACwDBLoACiMow2VlJQUXn7EiBFWy3bt2pWX/eijj4y2NWrUiG+bOXOmxX1In84pU6aMfQclIK7sUOgHb811KIYMGcLf19z6gHoePXrE79584YUXZK0fEVHbtm2JsaK7S2/dukUzZswgxhhVqVLFbPm3336bGGP09ttvE5HrEr9yUtIY//rrr3wNpwoVKtDp06ft+jvEWBu89957PE7bt2/nr+fn5/O1PFNSUqzuQzpd4ZYtW2St3759+/i+Bw4cSERE0dHRxBijBQsWmJQ/f/68UWdVOvA4depUWeumFPrPKGOMNmzYYLWsfjC/+NMPiK8YbNiwgR//6NGj+euIL9C3hwMDA+nRo0cWy2VmZvJzPHToUDfWEFhDzdc2Em+WEeX3GTGWBzW3sRFjA57aV/aUBKunjnd5SnxtgXFpAACwDBLoACiMow0V6bRFQ4YMsVpWejenfkBWj7ST2bJlS4v7mDlzJi/37LPP2ndQAuKOKa1eeuklk+3r16/n7zt27FiL+8nKyuLlBg0aJFv99IwbN47vf+3atdStWzdijFHPnj3Nlv/hhx+IMUZJSUl08+ZNfqd58fUL1URJYrxp0ya+flNERAQdPXrU7r9FjNVPfn4+v3M+JiaGCgoKjLY/++yzxBijkJAQys/Pt7gffUfTz8+Pbt++LWsdCwoKKCQkhBhj9PTTT9Pp06d5PC093aFfR2zevHnUv39/Xv7w4cOy1k0pZs+ezY/J1tqZERERxJj5G0YQX+0jHRz79ttvjbYhvp6N9Ama3bt3Wyw3ZswYXm79+vVurCGwhpqvbSTeLCPK7zNiXHLU3sZGjA14al/ZUxKsnjre5SnxtQXGpQEAwDJIoAOgMI42VAYOHMjLP/3001bLSqfD+emnn4y23blzh2/T6XRUWFhodh/6NTUZY/Tjjz/af2CC4aoOxYgRI/h+zd25mZ+fT2XKlCHGGFWvXp0eP35sdj99+vTh+8nOzpatfnp2795t1GHRDyZY6mT88ccfvLz+SWbGGE2ePFn2usmFszHetWsXvxs6JCSE9u3b59D7IsbqR3pzgbnrND09nW9fuHCh2X1cvHiRP0XTunVrl9SzZcuWxBgjHx8fvn6ytQG/1157jRhj1Lt3b6pXrx4xxig8PNziZ1Br/PPPP+Tr60uMWZ9abtu2bTx+5m4YQXy1T+vWrXkMt27darQN8fVs9uzZw+Pfp08fs2UKCwt5ezg0NJQePnzo5loCS6j52kbizTKi/D4jxiVH7W1sxNiAp/aVPSXB6qnjXZ4SX1tgXBoAACyDBDoACuNoQ0U6bSdjjJYuXWq23PDhw3kZb29vs9NSSqfLMdfZlCbFPH2aHEc7FOfOnaOcnByrZTIyMkin0xFjjEqXLk2XLl0yW046rdW4ceNMtmdmZvLp0F588UV7DsdhpFNmJSUl8fpYm3pN/zSBtLytc6IkznQaDxw4QKGhocRY0dSSO3fudOq9EWNlyc3Ntbht1apVfJC3cuXKlJeXZ1Lm+vXrvOOfkJBA//zzj9H2goICateuHT9Hck//rEd6B7c+Jt26dbNYXp+ki4+P5wOPL7/8skvqphTSaUHNDbzevn2bnnzySasDMoivepkzZ47Za1KKdH3xxMREk/YQ4gv07WEfHx/KzMw02S5N8AwbNsz9FfRARLi2kXizjgi/z4ixbbTexkaMDXhqX9lTEqyeOt7lKfG1BcalAQDAMkigA+Bmpk2bRj179uRKp74JDg422mZp6uSmTZsaNVaeffZZ+vrrr2nRokU0cuRIqlmzptH2d9991+x+/vrrL95pZYxRtWrV6Ouvv6aZM2dSixYtjPaxaNEiV54W1bFjxw6aM2cOd/z48fxcNGzY0GibuYb21q1beWxGjx5Na9eupX379tHevXtp8eLFlJqayqeyYsz6mqW3b9+mKlWq8LJpaWm0ZcsWysrKotGjR1NQUBAxxsjf358OHDjgsnPy0ksvGX0moqKirJbv0KGDUfkyZcpYvKNUCUoa49OnT1P58uX530yaNImOHDli1StXrpitC2KsLMHBwdSiRQuaOXMmZWZm0r59+2jp0qXUpUsXfmxhYWFWBwmmT59u1OmcPXs27d27l3799Vdq0qQJ39a1a1eXHcfOnTuN4sEYo+nTp1ssf/DgQZPyEyZMcFn9lODq1asUHx/Pk2MffPABbdmyhfbt20dz5syhatWq8WN/7733LO4H8VUnCQkJFB4eTr1796a5c+fSzp076eDBg7Rjxw767rvvqGHDhvzYdTodbdy40ex+EF/PJicnh/z9/YkxRkFBQTR69GjKysqiLVu2UFpaGj+/VapUkX36fmAeEa5tfeItOjraZvtQr62bBkRChN9nxNg2Wm9je3KM0VcuQppgHTlypF2fAWs3jqgFjHcVIWp8bYFxaQAAsB8k0AFwM8nJySYDntY0R2FhIdWtW9euv2/Tpo3V+mzatMmosWJOW2vaiMhbb71VojjpOxS2DAgIoBkzZtisz6lTp6hy5coW9xMSEkIZGRmuOBWcr776yug9U1NTrZafMGGCUXlXTXvrLCWNsbSzZa/WnlxDjJVD/+S9JWvUqGHXk/VDhw41GigobuvWrV06qJafn8+TQHqPHTtmsXxhYSF/qkevK5YHUJrjx49TpUqVrMb4nXfesTktM+KrPvQD27aMjY2lDRs2WN0X4uvZrFq1iq9Db84qVarQqVOnlK6mxyDCtW3vMUh15U2SakTrv8+IsW203sb25Bijr+z8cbRv3172esgNxruKEDW+tsC4NAAA2A8S6AC4GTkaKnrmz59PNWrUID8/P5NGar169ei3336zq05XrlyhVq1aUUBAAO+Y6nQ6+r//+z+np9nSOiXtUNy+fZt++uknev/996lBgwYUHx9PAQEBpNPpKDIykpo2bUqjRo2yeJe1Oe7evUvp6elUv359Cg0NpYCAAKpatSr179+fzp8/L+fhm0W6DiFjjL755hur5aXrijLGaOzYsS6voyOobVCACDFWioULF1KPHj2oZs2aFB4eTjqdjmJiYqhVq1Y0a9Ysh9a73bVrF73++usUFxdHOp2OypcvT82bN6cFCxa48AgMNG7cmMfDnvWQW7VqxcsHBQVRQUGBW+rpbu7evUvjx4+nBg0a8BjHxsZSly5dHJruE/FVF6dPn6bp06dTly5dqHbt2hQZGUk+Pj4UFBREycnJ9Morr9CcOXPo3r17du0P8fVszp8/T/3796cqVapQQEAAhYaGUv369Sk9Pd3uzxCQBxGubU9OvDmCln+fEWPbaL2N7ckxRl/Z+ePQQoIV411FiBpfW2BcGgAA7AcJdAAAAAAAAAAAAAAAAAAAAAAAAICQQAcAAAAAAAAAAAAAAAAAAAAAAACICAl0AAAAAAAAAAAAAAAAAAAAAAAAgIiQQAcAAAAAAAAAAAAAAAAAAAAAAACICAl0AAAAAAAAAAAAAAAAAAAAAAAAgIiQQAcAAAAAAAAAAAAAAAAAAAAAAACICAl0AAAAAAAAAAAAAAAAAAAAAAAAgIiQQAcAAAAAAAAAAAAAAAAAAAAAAACICAl0AAAAAAAAAAAAAAAAAAAAAAAAgIiQQAcAAAAAAAAAAAAAAAAAAAAAAACICAl0AAAAAAAAAAAAAAAAAAAAAAAAgIiQQAcAAAAAAAAAAAAAAAAAAAAAAACICAl0AAAAAAAAAAAAAAAAAAAAAAAAgIiQQAcAAAAAAAAAAAAAAAAAAAAAAACICAl0AAAAAAAAAAAAAAAAAAAAAAAAgIiQQAcAAAAAAAAAAAAAAAAAAAAAAACICAl0AAAAAAAAAAAAAAAAAAAAAAAAgIiQQAcAAAAAAAAAAAAAAAAAAAAAAACICAl0AAAAAAAAAAAAAAAAAAAAAAAAgIiQQAcAAAAAAAAAAAAAAAAAAAAAAACICAl0AAD4//bsQAAAAABAkD/1i5RGAAAAAAAAUAl0AAAAAAAAAKgEOgAAAAAAAABUAh0AAAAAAAAAKoEOAAAAAAAAAJVABwAAAAAAAIBKoAMAAAAAAABAJdABAAAAAAAAoBLoAAAAAAAAAFAJdAAAAAAAAACoBDoAAAAAAAAAVAIdAAAAAAAAACqBDgAAAAAAAACVQAcAAAAAAACASqADAAAAAAAAQCXQAQAAAAAAAKAS6AAAAAAAAABQCXQAAAAAAAAAqAQ6AAAAAAAAAFQCHQAAAAAAAAAqgQ4AAAAAAAAAlUAHAAAAAAAAgEqgAwAAAAAAAEAl0AEAAAAAAACgEugAAAAAAAAAUAl0AAAAAAAAAKgEOgAAAAAAAABUAh0AAAAAAAAAKoEOAAAAAAAAAJVABwAAAAAAAIBKoAMAAAAAAABAJdABAAAAAAAAoBLoAAAAAAAAAFAJdAAAAAAAAACoBDoAAAAAAAAAVAIdAAAAAAAAACqBDgAAAAAAAACVQAcAAAAAAACASqADAAAAAAAAQCXQAQAAAAAAAKAS6AAAAAAAAABQCXQAAAAAAAAAqAQ6AAAAAAAAAFQCHQAAAAAAAAAqgQ4AAAAAAAAAlUAHAAAAAAAAgEqgAwAAAAAAAEAl0AEAAAAAAACgEugAAAAAAAAAUAl0AAAAAAAAAKgEOgAAAAAAAABUAh0AAAAAAAAAKoEOAAAAAAAAAJVABwAAAAAAAIBKoAMAAAAAAABAJdABAAAAAAAAoBLoAAAAAAAAAFAJdAAAAAAAAACoBDoAAAAAAAAAVAIdAAAAAAAAACqBDgAAAAAAAACVQAcAAAAAAACASqADAAAAAAAAQCXQAQAAAAAAAKAS6AAAAAAAAABQCXQAAAAAAAAAqAQ6AAAAAAAAAFQCHQAAAAAAAAAqgQ4AAAAAAAAAlUAHAAAAAAAAgEqgAwAAAAAAAEAl0AEAAAAAAACgEugAAAAAAAAAUAl0AAAAAAAAAKgEOgAAAAAAAABUAh0AAAAAAAAAqhq4MgwjT5sE6gAAAABJRU5ErkJggg==\" width=\"1000\">"
      ],
      "text/plain": [
       "<IPython.core.display.HTML object>"
      ]
     },
     "metadata": {},
     "output_type": "display_data"
    }
   ],
   "source": [
    "figure1 = plt.figure(figsize = (10, 5))\n",
    "subfigure1 = figure1.add_subplot(111)\n",
    "basemap1 = Basemap(projection='cyl', resolution = None, lon_0 = 0, lat_0 = 0)\n",
    "add_raster_to_map(basemap1, scientific_targets_array, 'Rasterized scientific targets')\n",
    "basemap1.drawmeridians(np.arange(0, 360, 30),labels=[False,False,False,True])\n",
    "basemap1.drawparallels(np.arange(-90, 91, 30),labels=[True,False,False,False])\n",
    "plt.show()"
   ]
  },
  {
   "cell_type": "markdown",
   "metadata": {},
   "source": [
    "We load the geological units from the geological map of Mars only once."
   ]
  },
  {
   "cell_type": "code",
   "execution_count": 221,
   "metadata": {},
   "outputs": [
    {
     "name": "stdout",
     "output_type": "stream",
     "text": [
      " _______________________________________________________________________________\n",
      "/ Shapefile field names:\n",
      "| \n",
      "| OBJECTID | Shape_Leng | Shape_Area | Unit | UnitDesc | SphArea_km \n",
      "\\_______________________________________________________________________________\n"
     ]
    }
   ],
   "source": [
    "shapefile_geology = open_shapefile(base_folder + 'Original_Data/Interpreted_Data/SIM3292_MarsGlobalGeologicGIS_20M/SIM3292_Shapefiles/SIM3292_Global_Geology.shp')\n",
    "print_shapefile_field_names(shapefile_geology)"
   ]
  },
  {
   "cell_type": "code",
   "execution_count": 222,
   "metadata": {},
   "outputs": [
    {
     "name": "stdout",
     "output_type": "stream",
     "text": [
      " _______________________________________________________________________________\n",
      "/ Unit:\n",
      "| \n",
      "| AHi | AHtu | AHv | ANa | Aa | Ap | Apu | Av | Ave | HNb | HNhu | HNt | Hp | Hpe | Hpu | Ht | Hto | Htu | Hve | Nhe | Nhu | Nve | eAb | eHb | eHh | eHt | eHv | eNh | eNhm | lAa | lApc | lApd | lAv | lAvf | lHb | lHl | lHt | lHv | lHvf | lNh | lNv | mAl | mNh | mNhm \n",
      "\\_______________________________________________________________________________\n"
     ]
    }
   ],
   "source": [
    "print_shapefile_unique_field_values(shapefile_geology, 'Unit')"
   ]
  },
  {
   "cell_type": "markdown",
   "metadata": {},
   "source": [
    "**Noachian-Hesperian contacts**\n",
    "\n",
    "ftp://pdsimage2.wr.usgs.gov/pub/pigpen/mars/geology\n",
    "\n",
    "Hesperian: lHl, AHi, Hp, Hpu, Hpe, eHb, lHb, eHv, lHv, lHvf, AHv, Hve, AHtu, Htu, lHt, eHt, Ht, Hto, eHh  \n",
    "Noachian: lNv, Nve, Nhu, eNh, mNh, lNh, Nhe, eNhm, mNhm  \n",
    "Noachian and Hesperian units: HNb, ANa, HNt, HNhu  "
   ]
  },
  {
   "cell_type": "markdown",
   "metadata": {},
   "source": [
    "We have to extract the contact between Hesperian and Noachian units."
   ]
  },
  {
   "cell_type": "code",
   "execution_count": 223,
   "metadata": {},
   "outputs": [],
   "source": [
    "shapefile_hesperian_units = filter_shapefile(shapefile_geology,\n",
    "                                             'Unit', \n",
    "                                             ['lHl', 'AHi', 'Hp', 'Hpu', 'Hpe', 'eHb', 'lHb', 'eHv', 'lHv', 'lHvf',\n",
    "                                              'AHv', 'Hve', 'AHtu', 'Htu', 'lHt', 'eHt', 'Ht', 'Hto', 'eHh'])\n",
    "shapefile_noachian_units = filter_shapefile(shapefile_geology,\n",
    "                                            'Unit', \n",
    "                                            ['lNv', 'Nve', 'Nhu', 'eNh', 'mNh', 'lNh', 'Nhe', 'eNhm', 'mNhm'])"
   ]
  },
  {
   "cell_type": "code",
   "execution_count": 224,
   "metadata": {},
   "outputs": [],
   "source": [
    "shapefile_hesperian_borders = get_shapefile_borders(shapefile_hesperian_units)\n",
    "shapefile_hesperian_borders = buffer_shapefile(shapefile_hesperian_borders, 1e-8)\n",
    "shapefile_noachian_borders = get_shapefile_borders(shapefile_noachian_units)"
   ]
  },
  {
   "cell_type": "code",
   "execution_count": 225,
   "metadata": {},
   "outputs": [
    {
     "name": "stdout",
     "output_type": "stream",
     "text": [
      " _______________________________________________________________________________\n",
      "/ Shapefile field names:\n",
      "| \n",
      "\n",
      "\\_______________________________________________________________________________\n",
      " _______________________________________________________________________________\n",
      "/ Shapefile field names:\n",
      "| \n",
      "\n",
      "\\_______________________________________________________________________________\n"
     ]
    }
   ],
   "source": [
    "shapefile_hesperian_noachian_contacts = intersect_shapefiles(shapefile_hesperian_borders, \n",
    "                                                             shapefile_noachian_borders,\n",
    "                                                             geom_type = ogr.wkbLineString)\n",
    "shapefile_hesperian_noachian_units = filter_shapefile(shapefile_geology,\n",
    "                                                      'Unit', \n",
    "                                                      ['HNb', 'ANa', 'HNt', 'HNhu'])\n",
    "\n",
    "print_shapefile_field_names(shapefile_hesperian_noachian_contacts)\n",
    "print_shapefile_field_names(shapefile_hesperian_noachian_units)"
   ]
  },
  {
   "cell_type": "markdown",
   "metadata": {},
   "source": [
    "Rasterize the initial vector data at 20 ppd and perform the fast marching."
   ]
  },
  {
   "cell_type": "code",
   "execution_count": 226,
   "metadata": {},
   "outputs": [],
   "source": [
    "projection = shapefile_hesperian_noachian_contacts.GetLayer().GetSpatialRef().ExportToWkt()\n",
    "data_type = gdal.GDT_Int32\n",
    "\n",
    "raster_rasterization = rasterize_shapefile(shapefile_hesperian_noachian_contacts, \n",
    "                                           None,\n",
    "                                           data_type,\n",
    "                                           master_width, \n",
    "                                           master_height,                    \n",
    "                                           master_geotransform, \n",
    "                                           projection)\n",
    "raster_rasterization_array = get_raster_array(raster_rasterization)\n",
    "\n",
    "projection = shapefile_hesperian_noachian_units.GetLayer().GetSpatialRef().ExportToWkt()\n",
    "\n",
    "raster_rasterization_part2 = rasterize_shapefile(shapefile_hesperian_noachian_units, \n",
    "                                                 None,\n",
    "                                                 data_type,\n",
    "                                                 master_width, \n",
    "                                                 master_height,                    \n",
    "                                                 master_geotransform, \n",
    "                                                 projection)\n",
    "raster_rasterization_part2_array = get_raster_array(raster_rasterization_part2)\n",
    "\n",
    "raster_rasterization_array[(raster_rasterization_part2_array == 0) & (scientific_targets_array == 0)] = 0"
   ]
  },
  {
   "cell_type": "code",
   "execution_count": 227,
   "metadata": {},
   "outputs": [
    {
     "name": "stdout",
     "output_type": "stream",
     "text": [
      "CPU times: user 11min 19s, sys: 13.4 s, total: 11min 33s\n",
      "Wall time: 11min 20s\n"
     ]
    }
   ],
   "source": [
    "%%time\n",
    "\n",
    "traverse_array = run_fast_marching(raster_rasterization_array,\n",
    "                                   raster_rover_speed_array,\n",
    "                                   longitude_array,\n",
    "                                   latitude_array,\n",
    "                                   mars_radius)"
   ]
  },
  {
   "cell_type": "markdown",
   "metadata": {},
   "source": [
    "Export the map to a .tif file."
   ]
  },
  {
   "cell_type": "code",
   "execution_count": 228,
   "metadata": {},
   "outputs": [],
   "source": [
    "data_name = 'Hesperian_Noachian_Contacts_Targets_Units'\n",
    "\n",
    "file_path = base_folder + output_folder + 'Interpreted_Data_Traverse_to_' + data_name + speed_affix + '.tif'\n",
    "raster_traverse = create_raster_from_array(traverse_array,           \n",
    "                                           master_geotransform, \n",
    "                                           master_projection,\n",
    "                                           file_type = 'GTiff',\n",
    "                                           file_path = file_path,\n",
    "                                           options = ['COMPRESS=DEFLATE', 'PREDICTOR=3', 'TILED=YES'])\n",
    "raster_traverse = None"
   ]
  },
  {
   "cell_type": "markdown",
   "metadata": {},
   "source": [
    "**Early to Middle Noachian units**\n",
    "\n",
    "ftp://pdsimage2.wr.usgs.gov/pub/pigpen/mars/geology\n",
    "\n",
    "eNh, mNh, eNhm, mNhm"
   ]
  },
  {
   "cell_type": "markdown",
   "metadata": {},
   "source": [
    "Rasterize the initial vector data at 20 ppd and perform the fast marching."
   ]
  },
  {
   "cell_type": "code",
   "execution_count": 229,
   "metadata": {},
   "outputs": [
    {
     "name": "stdout",
     "output_type": "stream",
     "text": [
      " _______________________________________________________________________________\n",
      "/ Shapefile field names:\n",
      "| \n",
      "\n",
      "\\_______________________________________________________________________________\n"
     ]
    }
   ],
   "source": [
    "shapefile_early_middle_noachian_units = filter_shapefile(shapefile_geology,\n",
    "                                                         'Unit', \n",
    "                                                         ['eNh', 'mNh', 'eNhm', 'mNhm'])\n",
    "print_shapefile_field_names(shapefile_early_middle_noachian_units)"
   ]
  },
  {
   "cell_type": "code",
   "execution_count": 230,
   "metadata": {},
   "outputs": [],
   "source": [
    "projection = shapefile_early_middle_noachian_units.GetLayer().GetSpatialRef().ExportToWkt()\n",
    "data_type = gdal.GDT_Int32\n",
    "\n",
    "raster_rasterization = rasterize_shapefile(shapefile_early_middle_noachian_units, \n",
    "                                           None,\n",
    "                                           data_type,\n",
    "                                           master_width, \n",
    "                                           master_height,                    \n",
    "                                           master_geotransform, \n",
    "                                           projection)\n",
    "raster_rasterization_array = get_raster_array(raster_rasterization)\n",
    "\n",
    "raster_rasterization_array[scientific_targets_array == 1] = 1"
   ]
  },
  {
   "cell_type": "code",
   "execution_count": 231,
   "metadata": {},
   "outputs": [
    {
     "name": "stdout",
     "output_type": "stream",
     "text": [
      "CPU times: user 11min 25s, sys: 11 s, total: 11min 36s\n",
      "Wall time: 11min 23s\n"
     ]
    }
   ],
   "source": [
    "%%time\n",
    "\n",
    "traverse_array = run_fast_marching(raster_rasterization_array,\n",
    "                                   raster_rover_speed_array,\n",
    "                                   longitude_array,\n",
    "                                   latitude_array,\n",
    "                                   mars_radius)"
   ]
  },
  {
   "cell_type": "markdown",
   "metadata": {},
   "source": [
    "Export the map to a .tif file."
   ]
  },
  {
   "cell_type": "code",
   "execution_count": 232,
   "metadata": {},
   "outputs": [],
   "source": [
    "data_name = 'Early_Middle_Noachian_Targets_Units'\n",
    "\n",
    "file_path = base_folder + output_folder + 'Interpreted_Data_Traverse_to_' + data_name + speed_affix + '.tif'\n",
    "raster_traverse = create_raster_from_array(traverse_array,           \n",
    "                                           master_geotransform, \n",
    "                                           master_projection,\n",
    "                                           file_type = 'GTiff',\n",
    "                                           file_path = file_path,\n",
    "                                           options = ['COMPRESS=DEFLATE', 'PREDICTOR=3', 'TILED=YES'])\n",
    "raster_traverse = None"
   ]
  },
  {
   "cell_type": "markdown",
   "metadata": {},
   "source": [
    "## Volcanic units"
   ]
  },
  {
   "cell_type": "markdown",
   "metadata": {},
   "source": [
    "We use the volcanic units to counterbalance the absence of large-scale outcrop study of magmatic rocks. But similarly to the time constraints, the units can have a large extent without necessary implying an outcrop of interest. Thus, we do the same intersection with all the other targets."
   ]
  },
  {
   "cell_type": "markdown",
   "metadata": {},
   "source": [
    "**Amazonian to Hesperian volcanic units**\n",
    "\n",
    "ftp://pdsimage2.wr.usgs.gov/pub/pigpen/mars/geology\n",
    "\n",
    "lAv, lHv, eHv, lAvf, Av, lHvf, AHv, Hve, Ave"
   ]
  },
  {
   "cell_type": "markdown",
   "metadata": {},
   "source": [
    "Rasterize the initial vector data at 20 ppd and perform the fast marching."
   ]
  },
  {
   "cell_type": "code",
   "execution_count": 233,
   "metadata": {},
   "outputs": [
    {
     "name": "stdout",
     "output_type": "stream",
     "text": [
      " _______________________________________________________________________________\n",
      "/ Shapefile field names:\n",
      "| \n",
      "\n",
      "\\_______________________________________________________________________________\n"
     ]
    }
   ],
   "source": [
    "shapefile_amazonian_hesperian_volcanic_units = filter_shapefile(shapefile_geology,\n",
    "                                                                'Unit', \n",
    "                                                                ['lAv', 'lHv', 'eHv', 'lAvf', 'Av', 'lHvf', 'AHv', 'Hve', 'Ave'])\n",
    "print_shapefile_field_names(shapefile_amazonian_hesperian_volcanic_units)"
   ]
  },
  {
   "cell_type": "code",
   "execution_count": 234,
   "metadata": {},
   "outputs": [],
   "source": [
    "projection = shapefile_amazonian_hesperian_volcanic_units.GetLayer().GetSpatialRef().ExportToWkt()\n",
    "data_type = gdal.GDT_Int32\n",
    "\n",
    "raster_rasterization = rasterize_shapefile(shapefile_amazonian_hesperian_volcanic_units, \n",
    "                                           None,\n",
    "                                           data_type,\n",
    "                                           master_width, \n",
    "                                           master_height,                    \n",
    "                                           master_geotransform, \n",
    "                                           projection)\n",
    "raster_rasterization_array = get_raster_array(raster_rasterization)\n",
    "\n",
    "raster_rasterization_array[scientific_targets_array == 1] = 1"
   ]
  },
  {
   "cell_type": "code",
   "execution_count": 235,
   "metadata": {},
   "outputs": [
    {
     "name": "stdout",
     "output_type": "stream",
     "text": [
      "CPU times: user 8min 56s, sys: 10.8 s, total: 9min 7s\n",
      "Wall time: 8min 53s\n"
     ]
    }
   ],
   "source": [
    "%%time\n",
    "\n",
    "traverse_array = run_fast_marching(raster_rasterization_array,\n",
    "                                   raster_rover_speed_array,\n",
    "                                   longitude_array,\n",
    "                                   latitude_array,\n",
    "                                   mars_radius)"
   ]
  },
  {
   "cell_type": "markdown",
   "metadata": {},
   "source": [
    "Export the map to a .tif file."
   ]
  },
  {
   "cell_type": "code",
   "execution_count": 236,
   "metadata": {},
   "outputs": [],
   "source": [
    "data_name = 'Amazonian_Hesperian_Volcanic_Targets_Units'\n",
    "\n",
    "file_path = base_folder + output_folder + 'Interpreted_Data_Traverse_to_' + data_name + speed_affix + '.tif'\n",
    "raster_traverse = create_raster_from_array(traverse_array,           \n",
    "                                           master_geotransform, \n",
    "                                           master_projection,\n",
    "                                           file_type = 'GTiff',\n",
    "                                           file_path = file_path,\n",
    "                                           options = ['COMPRESS=DEFLATE', 'PREDICTOR=3', 'TILED=YES'])\n",
    "raster_traverse = None"
   ]
  },
  {
   "cell_type": "markdown",
   "metadata": {},
   "source": [
    "**Noachian volcanic units**\n",
    "\n",
    "ftp://pdsimage2.wr.usgs.gov/pub/pigpen/mars/geology\n",
    "\n",
    "lNv, Nve, Nhe"
   ]
  },
  {
   "cell_type": "markdown",
   "metadata": {},
   "source": [
    "Rasterize the initial vector data at 20 ppd and perform the fast marching."
   ]
  },
  {
   "cell_type": "code",
   "execution_count": 237,
   "metadata": {},
   "outputs": [
    {
     "name": "stdout",
     "output_type": "stream",
     "text": [
      " _______________________________________________________________________________\n",
      "/ Shapefile field names:\n",
      "| \n",
      "\n",
      "\\_______________________________________________________________________________\n"
     ]
    }
   ],
   "source": [
    "shapefile_noachian_volcanic_units = filter_shapefile(shapefile_geology,\n",
    "                                                     'Unit', \n",
    "                                                     ['lNv', 'Nve', 'Nhe'])\n",
    "print_shapefile_field_names(shapefile_noachian_volcanic_units)"
   ]
  },
  {
   "cell_type": "code",
   "execution_count": 238,
   "metadata": {},
   "outputs": [],
   "source": [
    "projection = shapefile_noachian_volcanic_units.GetLayer().GetSpatialRef().ExportToWkt()\n",
    "data_type = gdal.GDT_Int32\n",
    "\n",
    "raster_rasterization = rasterize_shapefile(shapefile_noachian_volcanic_units, \n",
    "                                           None,\n",
    "                                           data_type,\n",
    "                                           master_width, \n",
    "                                           master_height,                    \n",
    "                                           master_geotransform, \n",
    "                                           projection)\n",
    "raster_rasterization_array = get_raster_array(raster_rasterization)\n",
    "\n",
    "raster_rasterization_array[scientific_targets_array == 1] = 1"
   ]
  },
  {
   "cell_type": "code",
   "execution_count": 239,
   "metadata": {},
   "outputs": [
    {
     "name": "stdout",
     "output_type": "stream",
     "text": [
      "CPU times: user 8min 27s, sys: 13.9 s, total: 8min 41s\n",
      "Wall time: 8min 22s\n"
     ]
    }
   ],
   "source": [
    "%%time\n",
    "\n",
    "traverse_array = run_fast_marching(raster_rasterization_array,\n",
    "                                   raster_rover_speed_array,\n",
    "                                   longitude_array,\n",
    "                                   latitude_array,\n",
    "                                   mars_radius)"
   ]
  },
  {
   "cell_type": "markdown",
   "metadata": {},
   "source": [
    "Export the map to a .tif file."
   ]
  },
  {
   "cell_type": "code",
   "execution_count": 240,
   "metadata": {},
   "outputs": [],
   "source": [
    "data_name = 'Noachian_Volcanic_Targets_Units'\n",
    "\n",
    "file_path = base_folder + output_folder + 'Interpreted_Data_Traverse_to_' + data_name + speed_affix + '.tif'\n",
    "raster_traverse = create_raster_from_array(traverse_array,           \n",
    "                                           master_geotransform, \n",
    "                                           master_projection,\n",
    "                                           file_type = 'GTiff',\n",
    "                                           file_path = file_path,\n",
    "                                           options = ['COMPRESS=DEFLATE', 'PREDICTOR=3', 'TILED=YES'])\n",
    "raster_traverse = None"
   ]
  }
 ],
 "metadata": {
  "anaconda-cloud": {},
  "kernelspec": {
   "display_name": "Python 3",
   "language": "python",
   "name": "python3"
  },
  "language_info": {
   "codemirror_mode": {
    "name": "ipython",
    "version": 3
   },
   "file_extension": ".py",
   "mimetype": "text/x-python",
   "name": "python",
   "nbconvert_exporter": "python",
   "pygments_lexer": "ipython3",
   "version": "3.6.5"
  }
 },
 "nbformat": 4,
 "nbformat_minor": 1
}
