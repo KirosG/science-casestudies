{
 "cells": [
  {
   "cell_type": "markdown",
   "metadata": {},
   "source": [
    "<div style=\"font-size:37px; font-weight:bold; line-height:1.1\">\n",
    "    Computer-aided exploration of the Martian geology\n",
    "</div>"
   ]
  },
  {
   "cell_type": "markdown",
   "metadata": {},
   "source": [
    "<p style=\"color:rgb(90,90,90);\">\n",
    "The MIT License (MIT)\n",
    "<br>\n",
    "Copyright (c) 2018 Massachusetts Institute of Technology\n",
    "</p>\n",
    "<p style=\"color:rgb(90,90,90);\">\n",
    "Author: Guillaume Rongier\n",
    "<br>\n",
    "We acknowledge support from NSF ACI1442997 (PI: V. Pankratius) and NASA AISTNNX15AG84G (PI: V. Pankratius).\n",
    "</p>\n",
    "<p style=\"color:rgb(90,90,90);\">\n",
    "Permission is hereby granted, free of charge, to any person obtaining a copy of this software and associated documentation files (the \"Software\"), to deal in the Software without restriction, including without limitation the rights to use, copy, modify, merge, publish, distribute, sublicense, and/or sell copies of the Software, and to permit persons to whom the Software is furnished to do so, subject to the following conditions:\n",
    "</p>\n",
    "<ul style=\"color:rgb(90,90,90);\">\n",
    "<li>The above copyright notice and this permission notice shall be included in all copies or substantial portions of the Software.</li>\n",
    "<li>THE SOFTWARE IS PROVIDED \"AS IS\", WITHOUT WARRANTY OF ANY KIND, EXPRESS OR IMPLIED, INCLUDING BUT NOT LIMITED TO THE WARRANTIES OF MERCHANTABILITY, FITNESS FOR A PARTICULAR PURPOSE AND NONINFRINGEMENT. IN NO EVENT SHALL THE AUTHORS OR COPYRIGHT HOLDERS BE LIABLE FOR ANY CLAIM, DAMAGES OR OTHER LIABILITY, WHETHER IN AN ACTION OF CONTRACT, TORT OR OTHERWISE, ARISING FROM, OUT OF OR IN CONNECTION WITH THE SOFTWARE OR THE USE OR OTHER DEALINGS IN THE SOFTWARE.</li>\n",
    "</ul>"
   ]
  },
  {
   "cell_type": "markdown",
   "metadata": {},
   "source": [
    "This notebook is part of a set of notebooks to compute a favorability map for the selection of landing sites on Mars. A favorable site depends on two main constraints:\n",
    "* Landing constraints which ensure that the system can land on a given area.\n",
    "* Scientific targets which must be visited by a rover after landing, if the rover can drive to them.\n",
    "\n",
    "The notebooks determine this favorability for a rover similar to NASA's Mars 2020 rover at 20 pixels per degree (3 km per pixel at the equator), and investigate our ability to explore Mars with enhanced landing and roving capabilities."
   ]
  },
  {
   "cell_type": "markdown",
   "metadata": {},
   "source": [
    "# Gathering the scientific targets"
   ]
  },
  {
   "cell_type": "markdown",
   "metadata": {
    "collapsed": true
   },
   "source": [
    "Our goal here is to gather all the data locating potential scientific targets. These data are in a vector format, which we need to convert into a raster format to compute the site selection favorability. This is the opportunity to take into account the influence of the terrains on the rover's ability to reach a target.\n",
    "\n",
    "To do so, we use a front propagation method called fast marching [[Sethian, 1996](http://doi.org/10.1073/pnas.93.4.1591)]. It uses a speed map to compute the time required to go from one or several initial cells to any cell inside the map. We already have a speed map which take into account the terrain variability from the previous notebook. Now, we can end up with the time required to drive from the scientific targets to any cell, and inversely."
   ]
  },
  {
   "cell_type": "markdown",
   "metadata": {
    "collapsed": true
   },
   "source": [
    "## Package imports"
   ]
  },
  {
   "cell_type": "markdown",
   "metadata": {},
   "source": [
    "Load some functions for data import, data visualization, and favorability computation."
   ]
  },
  {
   "cell_type": "code",
   "execution_count": 1,
   "metadata": {
    "collapsed": true
   },
   "outputs": [],
   "source": [
    "%matplotlib notebook\n",
    "\n",
    "from skdiscovery.utilities.planetary.raster_management import *\n",
    "from skdiscovery.utilities.planetary.vector_management import *\n",
    "from skdiscovery.utilities.planetary.geographical_computation import compute_longitude_and_latitude_maps\n",
    "from skdiscovery.utilities.planetary.fast_marching import *\n",
    "\n",
    "import matplotlib.pyplot as plt\n",
    "\n",
    "from shapely.geometry import Point\n",
    "\n",
    "from skimage.transform import resize\n",
    "import struct\n",
    "import pandas as pd"
   ]
  },
  {
   "cell_type": "markdown",
   "metadata": {},
   "source": [
    "## Setting"
   ]
  },
  {
   "cell_type": "markdown",
   "metadata": {},
   "source": [
    "Geographical setting for the rasters."
   ]
  },
  {
   "cell_type": "code",
   "execution_count": 2,
   "metadata": {
    "collapsed": true
   },
   "outputs": [],
   "source": [
    "mars_radius = 3389500. # meters\n",
    "\n",
    "master_lon_min = -180.\n",
    "master_lon_max = 180.\n",
    "master_lat_min = -90.\n",
    "master_lat_max = 90.\n",
    "master_extent = (master_lon_min, master_lon_max, master_lat_min, master_lat_max)\n",
    "\n",
    "master_width = 7200\n",
    "master_height = 3600\n",
    "master_geotransform = define_geotransform(master_lon_min, master_lon_max, \n",
    "                                          master_lat_min, master_lat_max, \n",
    "                                          master_width, master_height)\n",
    "master_projection = '''PROJCS[\"SimpleCylindrical Mars\",GEOGCS[\"GCS_Mars\",DATUM[\"D_Mars\",SPHEROID[\"Mars\",3396000,0]],PRIMEM[\"Reference_Meridian\",0],UNIT[\"degree\",0.0174532925199433]],PROJECTION[\"Equirectangular\"],PARAMETER[\"latitude_of_origin\",0],PARAMETER[\"central_meridian\",0],PARAMETER[\"standard_parallel_1\",0],PARAMETER[\"false_easting\",0],PARAMETER[\"false_northing\",0]]'''\n",
    "\n",
    "master_spatial_reference_system = osr.SpatialReference(wkt = master_projection)\n",
    "master_central_meridian = 0."
   ]
  },
  {
   "cell_type": "markdown",
   "metadata": {},
   "source": [
    "Folder structure from the base folder *CaseStudyMars_Data*:\n",
    "<pre>\n",
    "Base folder:   CaseStudyMars_Data/\n",
    "               ├── Original_Data/\n",
    "               │   ├── Interpreted_Data/\n",
    "               │   ├── MEX/\n",
    "               │   │   ├── HRSC/\n",
    "               │   │   └── OMEGA/\n",
    "               │   ├── MGS/\n",
    "               │   │   ├── MOLA/\n",
    "               │   │   └── TES/\n",
    "               │   ├── MRO/\n",
    "               │   │   ├── CRISM/\n",
    "               │   │   └── HiRISE/\n",
    "Output folder: └── Raster_Data_20ppd/\n",
    "</pre>"
   ]
  },
  {
   "cell_type": "code",
   "execution_count": 3,
   "metadata": {
    "collapsed": true
   },
   "outputs": [],
   "source": [
    "base_folder = '/data/Mars/CaseStudyMars_Data/'\n",
    "output_folder = 'Raster_Data_20ppd/'"
   ]
  },
  {
   "cell_type": "markdown",
   "metadata": {},
   "source": [
    "We first choose the speed map for the fast marching. The first one is for a rover similar to NASA's Mars 2020 rover, the other ones for rovers with improving capabilities. The notebook must be run independently for each speed map."
   ]
  },
  {
   "cell_type": "code",
   "execution_count": 4,
   "metadata": {
    "collapsed": true
   },
   "outputs": [],
   "source": [
    "speed_affix = ''\n",
    "# speed_affix = '_DustTraversable'\n",
    "# speed_affix = '_Speed100'\n",
    "# speed_affix = '_Speed1000'\n",
    "# speed_affix = '_Speed10000'"
   ]
  },
  {
   "cell_type": "markdown",
   "metadata": {},
   "source": [
    "## Data to download before running the notebook"
   ]
  },
  {
   "cell_type": "markdown",
   "metadata": {},
   "source": [
    "You can find below all the links to the scientific targets. The notebook does all the processing on these data to get the travel time maps, and can be run directly after downloading the data.\n",
    "\n",
    "**Integrated Database of Planetary Features [from NASA Ames Center/ICA Commission on Planetary Cartography]**  \n",
    "* **Point data (csv files)**  \n",
    "*Save in CaseStudyMars_Data/Original_Data/Interpreted_Data/*   \n",
    "https://planetarydatabase.files.wordpress.com/2016/09/idpf-9-23-2016-excel97.xls  \n",
    "* **Vector data (shapefiles)**  \n",
    "*Save in CaseStudyMars_Data/Original_Data/Interpreted_Data/*  \n",
    "    - Glacial features  \n",
    "    https://www.dropbox.com/s/59ncn9el0c0p4j7/glacial%20features.zip?dl=0  \n",
    "    - Dune fields  \n",
    "    https://www.dropbox.com/s/vcxayzsehooz1ns/dune-polygon.zip?dl=0  \n",
    "    - Volcanoes  \n",
    "    https://www.dropbox.com/s/vcs45d6lmrlb3q9/volcano.zip?dl=0  \n",
    "    - Calderas  \n",
    "    https://www.dropbox.com/s/vqrupcviapl7stg/caldera3.zip?dl=0  \n",
    "    - Polygonal-ridge networks  \n",
    "    https://www.dropbox.com/s/xremqowcqa35xco/polygonal_ridge.zip?dl=0  \n",
    "\n",
    "**Mars Crater Database [from [Robbins and Hynek (2012)](http://doi.org/10.1029/2011JE003966)]**  \n",
    "*Save in CaseStudyMars_Data/Original_Data/Interpreted_Data/*   \n",
    "http://craters.sjrdesign.net/  (use the default search options) \n",
    "\n",
    "**Geologic map of Mars (3292) and of the northern plains of Mars (2888) [from USGS]**  \n",
    "*Save in CaseStudyMars_Data/Original_Data/Interpreted_Data/*  \n",
    "ftp://pdsimage2.wr.usgs.gov/pub/pigpen/mars/geology/NPlains_geology_SIM2888_2005.zip  \n",
    "ftp://pdsimage2.wr.usgs.gov/pub/pigpen/mars/geology/SIM3292_newGlobalGeology2014/SIM3292_MarsGlobalGeologicGIS_20M.zip  \n",
    "\n",
    "**JMARS [from ASU's Mars Space Flight Facility]**  \n",
    "*In* Human Exploration, Science Survey Maps  \n",
    "*Once loaded, right-click on the data,* Open *,* Adjustments *,* Feature *,* Save all Features As  \n",
    "*Save in CaseStudyMars_Data/Original_Data/Interpreted_Data/*  \n",
    "* Chloride exposures  \n",
    "Called *2010 Chloride Survey* in JMARS  \n",
    "*Save as Chloride-bearing-materials_Osterloo-2010.shp*  \n",
    "* Carbonate exposures  \n",
    "Called *2014 Aqueous Mineral Distribution* in JMARS (save only the points)  \n",
    "*Save as Aqueous-Mineral-Distribution_Ehlmann-Edwards-2014.csv*  \n",
    "\n",
    "**Hydrous mineral exposures [from Mars Express OMEGA]**  \n",
    "*Save in CaseStudyMars_Data/MEX/OMEGA/*  \n",
    "ftp://psa.esac.esa.int/pub/mirror/MARS-EXPRESS/OMEGA/MEX-M-OMEGA-5-DDR-GLOBAL-MAPS-V1.0/DATA/HYDROUS/HYDROUS_SITES_GEO_MAP.CSV \n",
    "\n",
    "**Sedimentary rock exposures [from Edwin Kite, based on [Malin et al. (2010)](http://doi.org/10.1555/mars.2010.0001)]**  \n",
    "*Save in CaseStudyMars_Data/Original_Data/Interpreted_Data/*  \n",
    "http://geosci.uchicago.edu/~kite/stereo/sedrocks_latlong.csv  \n",
    "\n",
    "**Valley networks [from [Hynek et al. (2010)](http://doi.org/10.1029/2009JE003548)]**  \n",
    "*Save in CaseStudyMars_Data/Original_Data/Interpreted_Data/*  \n",
    "ftp://pdsimage2.wr.usgs.gov/pub/pigpen/mars/channels/Hynek/Hynek_Valley_Networks.zip  \n",
    "\n",
    "**Small vents in the Tharsis province**  \n",
    "*Save in CaseStudyMars_Data/Original_Data/Interpreted_Data/*  \n",
    "http://astropedia.astrogeology.usgs.gov/download/Mars/Research/Volcanic/TharsisVents.zip  \n",
    "\n",
    "**Alluvial fans (part 2)**  \n",
    "*Provided with the notebooks as Alluvial-Fans_Metz-et-al-2009.csv in CaseStudyMars_Data/Original_Data/Interpreted_Data/*  \n",
    "Metz et al. (2009)  \n",
    "http://doi.org/doi:10.1029/2009JE003365   \n",
    "\n",
    "**Young deltas**  \n",
    "*Provided with the notebooks as Alluvial-Fans_Metz-et-al-2009.csv in CaseStudyMars_Data/Original_Data/Interpreted_Data/*  \n",
    "Hauber et al. (2013)  \n",
    "http://doi.org/doi:10.1002/jgre.20107  \n",
    "\n",
    "**Subaqueous fans**  \n",
    "*Provided with the notebooks as Alluvial-Fans_Metz-et-al-2009.csv in CaseStudyMars_Data/Original_Data/Interpreted_Data/*  \n",
    "Metz et al. (2009)  \n",
    "http://doi.org/doi:10.1029/2009JE003365  \n",
    "\n",
    "**Outflow channels and large valleys**  \n",
    "*Provided with the notebooks as Alluvial-Fans_Metz-et-al-2009.csv in CaseStudyMars_Data/Original_Data/Interpreted_Data/*  \n",
    "Irwin and Grant (2009)  \n",
    "ISBN: 978-0-511-63563-2  \n",
    "\n",
    "**Potential hydrothermal systems**  \n",
    "*Provided with the notebooks as Alluvial-Fans_Metz-et-al-2009.csv in CaseStudyMars_Data/Original_Data/Interpreted_Data/*  \n",
    "* Farmer (1996)  \n",
    "http://doi.org/10.1002/9780470514986.ch15  \n",
    "* Dohm et al. (2000)  \n",
    "http://adsabs.harvard.edu/abs/2000LPI....31.1613D  \n",
    "* Marzo et al. (2010)  \n",
    "http://doi.org/10.1016/j.icarus.2010.03.013  "
   ]
  },
  {
   "cell_type": "markdown",
   "metadata": {},
   "source": [
    "## Inputs for the fast marching method"
   ]
  },
  {
   "cell_type": "markdown",
   "metadata": {},
   "source": [
    "Import the longitude, latitude and rover speed maps."
   ]
  },
  {
   "cell_type": "code",
   "execution_count": 5,
   "metadata": {
    "collapsed": true
   },
   "outputs": [],
   "source": [
    "longitude_array, latitude_array = compute_longitude_and_latitude_maps(master_lon_min, master_lon_max, \n",
    "                                                                      master_lat_min, master_lat_max, \n",
    "                                                                      master_width, master_height)"
   ]
  },
  {
   "cell_type": "code",
   "execution_count": 6,
   "metadata": {
    "collapsed": false
   },
   "outputs": [
    {
     "name": "stdout",
     "output_type": "stream",
     "text": [
      "Driver:  GTiff / GeoTIFF\n",
      "Size of the cube is  7200 x 3600 x 1\n",
      "Projection is  PROJCS[\"SimpleCylindrical Mars\",GEOGCS[\"GCS_Mars\",DATUM[\"D_Mars\",SPHEROID[\"Mars\",3396000,0]],PRIMEM[\"Reference_Meridian\",0],UNIT[\"degree\",0.0174532925199433]],PROJECTION[\"Equirectangular\"],PARAMETER[\"latitude_of_origin\",0],PARAMETER[\"central_meridian\",0],PARAMETER[\"standard_parallel_1\",0],PARAMETER[\"false_easting\",0],PARAMETER[\"false_northing\",0],UNIT[\"metre\",1,AUTHORITY[\"EPSG\",\"9001\"]]]\n",
      "Origin = ( -180.0 , 90.0 )\n",
      "Pixel Size = ( 0.05 , -0.05 )\n"
     ]
    }
   ],
   "source": [
    "raster_rover_speed = open_raster(base_folder + output_folder + 'Interpreted_Data_Rover_Speed' + speed_affix + '.tif')\n",
    "print_raster_info(raster_rover_speed)\n",
    "raster_rover_speed_array = get_raster_array(raster_rover_speed)"
   ]
  },
  {
   "cell_type": "code",
   "execution_count": 7,
   "metadata": {
    "collapsed": false,
    "scrolled": true
   },
   "outputs": [
    {
     "data": {
      "application/javascript": [
       "/* Put everything inside the global mpl namespace */\n",
       "window.mpl = {};\n",
       "\n",
       "\n",
       "mpl.get_websocket_type = function() {\n",
       "    if (typeof(WebSocket) !== 'undefined') {\n",
       "        return WebSocket;\n",
       "    } else if (typeof(MozWebSocket) !== 'undefined') {\n",
       "        return MozWebSocket;\n",
       "    } else {\n",
       "        alert('Your browser does not have WebSocket support.' +\n",
       "              'Please try Chrome, Safari or Firefox ≥ 6. ' +\n",
       "              'Firefox 4 and 5 are also supported but you ' +\n",
       "              'have to enable WebSockets in about:config.');\n",
       "    };\n",
       "}\n",
       "\n",
       "mpl.figure = function(figure_id, websocket, ondownload, parent_element) {\n",
       "    this.id = figure_id;\n",
       "\n",
       "    this.ws = websocket;\n",
       "\n",
       "    this.supports_binary = (this.ws.binaryType != undefined);\n",
       "\n",
       "    if (!this.supports_binary) {\n",
       "        var warnings = document.getElementById(\"mpl-warnings\");\n",
       "        if (warnings) {\n",
       "            warnings.style.display = 'block';\n",
       "            warnings.textContent = (\n",
       "                \"This browser does not support binary websocket messages. \" +\n",
       "                    \"Performance may be slow.\");\n",
       "        }\n",
       "    }\n",
       "\n",
       "    this.imageObj = new Image();\n",
       "\n",
       "    this.context = undefined;\n",
       "    this.message = undefined;\n",
       "    this.canvas = undefined;\n",
       "    this.rubberband_canvas = undefined;\n",
       "    this.rubberband_context = undefined;\n",
       "    this.format_dropdown = undefined;\n",
       "\n",
       "    this.image_mode = 'full';\n",
       "\n",
       "    this.root = $('<div/>');\n",
       "    this._root_extra_style(this.root)\n",
       "    this.root.attr('style', 'display: inline-block');\n",
       "\n",
       "    $(parent_element).append(this.root);\n",
       "\n",
       "    this._init_header(this);\n",
       "    this._init_canvas(this);\n",
       "    this._init_toolbar(this);\n",
       "\n",
       "    var fig = this;\n",
       "\n",
       "    this.waiting = false;\n",
       "\n",
       "    this.ws.onopen =  function () {\n",
       "            fig.send_message(\"supports_binary\", {value: fig.supports_binary});\n",
       "            fig.send_message(\"send_image_mode\", {});\n",
       "            if (mpl.ratio != 1) {\n",
       "                fig.send_message(\"set_dpi_ratio\", {'dpi_ratio': mpl.ratio});\n",
       "            }\n",
       "            fig.send_message(\"refresh\", {});\n",
       "        }\n",
       "\n",
       "    this.imageObj.onload = function() {\n",
       "            if (fig.image_mode == 'full') {\n",
       "                // Full images could contain transparency (where diff images\n",
       "                // almost always do), so we need to clear the canvas so that\n",
       "                // there is no ghosting.\n",
       "                fig.context.clearRect(0, 0, fig.canvas.width, fig.canvas.height);\n",
       "            }\n",
       "            fig.context.drawImage(fig.imageObj, 0, 0);\n",
       "        };\n",
       "\n",
       "    this.imageObj.onunload = function() {\n",
       "        this.ws.close();\n",
       "    }\n",
       "\n",
       "    this.ws.onmessage = this._make_on_message_function(this);\n",
       "\n",
       "    this.ondownload = ondownload;\n",
       "}\n",
       "\n",
       "mpl.figure.prototype._init_header = function() {\n",
       "    var titlebar = $(\n",
       "        '<div class=\"ui-dialog-titlebar ui-widget-header ui-corner-all ' +\n",
       "        'ui-helper-clearfix\"/>');\n",
       "    var titletext = $(\n",
       "        '<div class=\"ui-dialog-title\" style=\"width: 100%; ' +\n",
       "        'text-align: center; padding: 3px;\"/>');\n",
       "    titlebar.append(titletext)\n",
       "    this.root.append(titlebar);\n",
       "    this.header = titletext[0];\n",
       "}\n",
       "\n",
       "\n",
       "\n",
       "mpl.figure.prototype._canvas_extra_style = function(canvas_div) {\n",
       "\n",
       "}\n",
       "\n",
       "\n",
       "mpl.figure.prototype._root_extra_style = function(canvas_div) {\n",
       "\n",
       "}\n",
       "\n",
       "mpl.figure.prototype._init_canvas = function() {\n",
       "    var fig = this;\n",
       "\n",
       "    var canvas_div = $('<div/>');\n",
       "\n",
       "    canvas_div.attr('style', 'position: relative; clear: both; outline: 0');\n",
       "\n",
       "    function canvas_keyboard_event(event) {\n",
       "        return fig.key_event(event, event['data']);\n",
       "    }\n",
       "\n",
       "    canvas_div.keydown('key_press', canvas_keyboard_event);\n",
       "    canvas_div.keyup('key_release', canvas_keyboard_event);\n",
       "    this.canvas_div = canvas_div\n",
       "    this._canvas_extra_style(canvas_div)\n",
       "    this.root.append(canvas_div);\n",
       "\n",
       "    var canvas = $('<canvas/>');\n",
       "    canvas.addClass('mpl-canvas');\n",
       "    canvas.attr('style', \"left: 0; top: 0; z-index: 0; outline: 0\")\n",
       "\n",
       "    this.canvas = canvas[0];\n",
       "    this.context = canvas[0].getContext(\"2d\");\n",
       "\n",
       "    var backingStore = this.context.backingStorePixelRatio ||\n",
       "\tthis.context.webkitBackingStorePixelRatio ||\n",
       "\tthis.context.mozBackingStorePixelRatio ||\n",
       "\tthis.context.msBackingStorePixelRatio ||\n",
       "\tthis.context.oBackingStorePixelRatio ||\n",
       "\tthis.context.backingStorePixelRatio || 1;\n",
       "\n",
       "    mpl.ratio = (window.devicePixelRatio || 1) / backingStore;\n",
       "\n",
       "    var rubberband = $('<canvas/>');\n",
       "    rubberband.attr('style', \"position: absolute; left: 0; top: 0; z-index: 1;\")\n",
       "\n",
       "    var pass_mouse_events = true;\n",
       "\n",
       "    canvas_div.resizable({\n",
       "        start: function(event, ui) {\n",
       "            pass_mouse_events = false;\n",
       "        },\n",
       "        resize: function(event, ui) {\n",
       "            fig.request_resize(ui.size.width, ui.size.height);\n",
       "        },\n",
       "        stop: function(event, ui) {\n",
       "            pass_mouse_events = true;\n",
       "            fig.request_resize(ui.size.width, ui.size.height);\n",
       "        },\n",
       "    });\n",
       "\n",
       "    function mouse_event_fn(event) {\n",
       "        if (pass_mouse_events)\n",
       "            return fig.mouse_event(event, event['data']);\n",
       "    }\n",
       "\n",
       "    rubberband.mousedown('button_press', mouse_event_fn);\n",
       "    rubberband.mouseup('button_release', mouse_event_fn);\n",
       "    // Throttle sequential mouse events to 1 every 20ms.\n",
       "    rubberband.mousemove('motion_notify', mouse_event_fn);\n",
       "\n",
       "    rubberband.mouseenter('figure_enter', mouse_event_fn);\n",
       "    rubberband.mouseleave('figure_leave', mouse_event_fn);\n",
       "\n",
       "    canvas_div.on(\"wheel\", function (event) {\n",
       "        event = event.originalEvent;\n",
       "        event['data'] = 'scroll'\n",
       "        if (event.deltaY < 0) {\n",
       "            event.step = 1;\n",
       "        } else {\n",
       "            event.step = -1;\n",
       "        }\n",
       "        mouse_event_fn(event);\n",
       "    });\n",
       "\n",
       "    canvas_div.append(canvas);\n",
       "    canvas_div.append(rubberband);\n",
       "\n",
       "    this.rubberband = rubberband;\n",
       "    this.rubberband_canvas = rubberband[0];\n",
       "    this.rubberband_context = rubberband[0].getContext(\"2d\");\n",
       "    this.rubberband_context.strokeStyle = \"#000000\";\n",
       "\n",
       "    this._resize_canvas = function(width, height) {\n",
       "        // Keep the size of the canvas, canvas container, and rubber band\n",
       "        // canvas in synch.\n",
       "        canvas_div.css('width', width)\n",
       "        canvas_div.css('height', height)\n",
       "\n",
       "        canvas.attr('width', width * mpl.ratio);\n",
       "        canvas.attr('height', height * mpl.ratio);\n",
       "        canvas.attr('style', 'width: ' + width + 'px; height: ' + height + 'px;');\n",
       "\n",
       "        rubberband.attr('width', width);\n",
       "        rubberband.attr('height', height);\n",
       "    }\n",
       "\n",
       "    // Set the figure to an initial 600x600px, this will subsequently be updated\n",
       "    // upon first draw.\n",
       "    this._resize_canvas(600, 600);\n",
       "\n",
       "    // Disable right mouse context menu.\n",
       "    $(this.rubberband_canvas).bind(\"contextmenu\",function(e){\n",
       "        return false;\n",
       "    });\n",
       "\n",
       "    function set_focus () {\n",
       "        canvas.focus();\n",
       "        canvas_div.focus();\n",
       "    }\n",
       "\n",
       "    window.setTimeout(set_focus, 100);\n",
       "}\n",
       "\n",
       "mpl.figure.prototype._init_toolbar = function() {\n",
       "    var fig = this;\n",
       "\n",
       "    var nav_element = $('<div/>')\n",
       "    nav_element.attr('style', 'width: 100%');\n",
       "    this.root.append(nav_element);\n",
       "\n",
       "    // Define a callback function for later on.\n",
       "    function toolbar_event(event) {\n",
       "        return fig.toolbar_button_onclick(event['data']);\n",
       "    }\n",
       "    function toolbar_mouse_event(event) {\n",
       "        return fig.toolbar_button_onmouseover(event['data']);\n",
       "    }\n",
       "\n",
       "    for(var toolbar_ind in mpl.toolbar_items) {\n",
       "        var name = mpl.toolbar_items[toolbar_ind][0];\n",
       "        var tooltip = mpl.toolbar_items[toolbar_ind][1];\n",
       "        var image = mpl.toolbar_items[toolbar_ind][2];\n",
       "        var method_name = mpl.toolbar_items[toolbar_ind][3];\n",
       "\n",
       "        if (!name) {\n",
       "            // put a spacer in here.\n",
       "            continue;\n",
       "        }\n",
       "        var button = $('<button/>');\n",
       "        button.addClass('ui-button ui-widget ui-state-default ui-corner-all ' +\n",
       "                        'ui-button-icon-only');\n",
       "        button.attr('role', 'button');\n",
       "        button.attr('aria-disabled', 'false');\n",
       "        button.click(method_name, toolbar_event);\n",
       "        button.mouseover(tooltip, toolbar_mouse_event);\n",
       "\n",
       "        var icon_img = $('<span/>');\n",
       "        icon_img.addClass('ui-button-icon-primary ui-icon');\n",
       "        icon_img.addClass(image);\n",
       "        icon_img.addClass('ui-corner-all');\n",
       "\n",
       "        var tooltip_span = $('<span/>');\n",
       "        tooltip_span.addClass('ui-button-text');\n",
       "        tooltip_span.html(tooltip);\n",
       "\n",
       "        button.append(icon_img);\n",
       "        button.append(tooltip_span);\n",
       "\n",
       "        nav_element.append(button);\n",
       "    }\n",
       "\n",
       "    var fmt_picker_span = $('<span/>');\n",
       "\n",
       "    var fmt_picker = $('<select/>');\n",
       "    fmt_picker.addClass('mpl-toolbar-option ui-widget ui-widget-content');\n",
       "    fmt_picker_span.append(fmt_picker);\n",
       "    nav_element.append(fmt_picker_span);\n",
       "    this.format_dropdown = fmt_picker[0];\n",
       "\n",
       "    for (var ind in mpl.extensions) {\n",
       "        var fmt = mpl.extensions[ind];\n",
       "        var option = $(\n",
       "            '<option/>', {selected: fmt === mpl.default_extension}).html(fmt);\n",
       "        fmt_picker.append(option)\n",
       "    }\n",
       "\n",
       "    // Add hover states to the ui-buttons\n",
       "    $( \".ui-button\" ).hover(\n",
       "        function() { $(this).addClass(\"ui-state-hover\");},\n",
       "        function() { $(this).removeClass(\"ui-state-hover\");}\n",
       "    );\n",
       "\n",
       "    var status_bar = $('<span class=\"mpl-message\"/>');\n",
       "    nav_element.append(status_bar);\n",
       "    this.message = status_bar[0];\n",
       "}\n",
       "\n",
       "mpl.figure.prototype.request_resize = function(x_pixels, y_pixels) {\n",
       "    // Request matplotlib to resize the figure. Matplotlib will then trigger a resize in the client,\n",
       "    // which will in turn request a refresh of the image.\n",
       "    this.send_message('resize', {'width': x_pixels, 'height': y_pixels});\n",
       "}\n",
       "\n",
       "mpl.figure.prototype.send_message = function(type, properties) {\n",
       "    properties['type'] = type;\n",
       "    properties['figure_id'] = this.id;\n",
       "    this.ws.send(JSON.stringify(properties));\n",
       "}\n",
       "\n",
       "mpl.figure.prototype.send_draw_message = function() {\n",
       "    if (!this.waiting) {\n",
       "        this.waiting = true;\n",
       "        this.ws.send(JSON.stringify({type: \"draw\", figure_id: this.id}));\n",
       "    }\n",
       "}\n",
       "\n",
       "\n",
       "mpl.figure.prototype.handle_save = function(fig, msg) {\n",
       "    var format_dropdown = fig.format_dropdown;\n",
       "    var format = format_dropdown.options[format_dropdown.selectedIndex].value;\n",
       "    fig.ondownload(fig, format);\n",
       "}\n",
       "\n",
       "\n",
       "mpl.figure.prototype.handle_resize = function(fig, msg) {\n",
       "    var size = msg['size'];\n",
       "    if (size[0] != fig.canvas.width || size[1] != fig.canvas.height) {\n",
       "        fig._resize_canvas(size[0], size[1]);\n",
       "        fig.send_message(\"refresh\", {});\n",
       "    };\n",
       "}\n",
       "\n",
       "mpl.figure.prototype.handle_rubberband = function(fig, msg) {\n",
       "    var x0 = msg['x0'] / mpl.ratio;\n",
       "    var y0 = (fig.canvas.height - msg['y0']) / mpl.ratio;\n",
       "    var x1 = msg['x1'] / mpl.ratio;\n",
       "    var y1 = (fig.canvas.height - msg['y1']) / mpl.ratio;\n",
       "    x0 = Math.floor(x0) + 0.5;\n",
       "    y0 = Math.floor(y0) + 0.5;\n",
       "    x1 = Math.floor(x1) + 0.5;\n",
       "    y1 = Math.floor(y1) + 0.5;\n",
       "    var min_x = Math.min(x0, x1);\n",
       "    var min_y = Math.min(y0, y1);\n",
       "    var width = Math.abs(x1 - x0);\n",
       "    var height = Math.abs(y1 - y0);\n",
       "\n",
       "    fig.rubberband_context.clearRect(\n",
       "        0, 0, fig.canvas.width, fig.canvas.height);\n",
       "\n",
       "    fig.rubberband_context.strokeRect(min_x, min_y, width, height);\n",
       "}\n",
       "\n",
       "mpl.figure.prototype.handle_figure_label = function(fig, msg) {\n",
       "    // Updates the figure title.\n",
       "    fig.header.textContent = msg['label'];\n",
       "}\n",
       "\n",
       "mpl.figure.prototype.handle_cursor = function(fig, msg) {\n",
       "    var cursor = msg['cursor'];\n",
       "    switch(cursor)\n",
       "    {\n",
       "    case 0:\n",
       "        cursor = 'pointer';\n",
       "        break;\n",
       "    case 1:\n",
       "        cursor = 'default';\n",
       "        break;\n",
       "    case 2:\n",
       "        cursor = 'crosshair';\n",
       "        break;\n",
       "    case 3:\n",
       "        cursor = 'move';\n",
       "        break;\n",
       "    }\n",
       "    fig.rubberband_canvas.style.cursor = cursor;\n",
       "}\n",
       "\n",
       "mpl.figure.prototype.handle_message = function(fig, msg) {\n",
       "    fig.message.textContent = msg['message'];\n",
       "}\n",
       "\n",
       "mpl.figure.prototype.handle_draw = function(fig, msg) {\n",
       "    // Request the server to send over a new figure.\n",
       "    fig.send_draw_message();\n",
       "}\n",
       "\n",
       "mpl.figure.prototype.handle_image_mode = function(fig, msg) {\n",
       "    fig.image_mode = msg['mode'];\n",
       "}\n",
       "\n",
       "mpl.figure.prototype.updated_canvas_event = function() {\n",
       "    // Called whenever the canvas gets updated.\n",
       "    this.send_message(\"ack\", {});\n",
       "}\n",
       "\n",
       "// A function to construct a web socket function for onmessage handling.\n",
       "// Called in the figure constructor.\n",
       "mpl.figure.prototype._make_on_message_function = function(fig) {\n",
       "    return function socket_on_message(evt) {\n",
       "        if (evt.data instanceof Blob) {\n",
       "            /* FIXME: We get \"Resource interpreted as Image but\n",
       "             * transferred with MIME type text/plain:\" errors on\n",
       "             * Chrome.  But how to set the MIME type?  It doesn't seem\n",
       "             * to be part of the websocket stream */\n",
       "            evt.data.type = \"image/png\";\n",
       "\n",
       "            /* Free the memory for the previous frames */\n",
       "            if (fig.imageObj.src) {\n",
       "                (window.URL || window.webkitURL).revokeObjectURL(\n",
       "                    fig.imageObj.src);\n",
       "            }\n",
       "\n",
       "            fig.imageObj.src = (window.URL || window.webkitURL).createObjectURL(\n",
       "                evt.data);\n",
       "            fig.updated_canvas_event();\n",
       "            fig.waiting = false;\n",
       "            return;\n",
       "        }\n",
       "        else if (typeof evt.data === 'string' && evt.data.slice(0, 21) == \"data:image/png;base64\") {\n",
       "            fig.imageObj.src = evt.data;\n",
       "            fig.updated_canvas_event();\n",
       "            fig.waiting = false;\n",
       "            return;\n",
       "        }\n",
       "\n",
       "        var msg = JSON.parse(evt.data);\n",
       "        var msg_type = msg['type'];\n",
       "\n",
       "        // Call the  \"handle_{type}\" callback, which takes\n",
       "        // the figure and JSON message as its only arguments.\n",
       "        try {\n",
       "            var callback = fig[\"handle_\" + msg_type];\n",
       "        } catch (e) {\n",
       "            console.log(\"No handler for the '\" + msg_type + \"' message type: \", msg);\n",
       "            return;\n",
       "        }\n",
       "\n",
       "        if (callback) {\n",
       "            try {\n",
       "                // console.log(\"Handling '\" + msg_type + \"' message: \", msg);\n",
       "                callback(fig, msg);\n",
       "            } catch (e) {\n",
       "                console.log(\"Exception inside the 'handler_\" + msg_type + \"' callback:\", e, e.stack, msg);\n",
       "            }\n",
       "        }\n",
       "    };\n",
       "}\n",
       "\n",
       "// from http://stackoverflow.com/questions/1114465/getting-mouse-location-in-canvas\n",
       "mpl.findpos = function(e) {\n",
       "    //this section is from http://www.quirksmode.org/js/events_properties.html\n",
       "    var targ;\n",
       "    if (!e)\n",
       "        e = window.event;\n",
       "    if (e.target)\n",
       "        targ = e.target;\n",
       "    else if (e.srcElement)\n",
       "        targ = e.srcElement;\n",
       "    if (targ.nodeType == 3) // defeat Safari bug\n",
       "        targ = targ.parentNode;\n",
       "\n",
       "    // jQuery normalizes the pageX and pageY\n",
       "    // pageX,Y are the mouse positions relative to the document\n",
       "    // offset() returns the position of the element relative to the document\n",
       "    var x = e.pageX - $(targ).offset().left;\n",
       "    var y = e.pageY - $(targ).offset().top;\n",
       "\n",
       "    return {\"x\": x, \"y\": y};\n",
       "};\n",
       "\n",
       "/*\n",
       " * return a copy of an object with only non-object keys\n",
       " * we need this to avoid circular references\n",
       " * http://stackoverflow.com/a/24161582/3208463\n",
       " */\n",
       "function simpleKeys (original) {\n",
       "  return Object.keys(original).reduce(function (obj, key) {\n",
       "    if (typeof original[key] !== 'object')\n",
       "        obj[key] = original[key]\n",
       "    return obj;\n",
       "  }, {});\n",
       "}\n",
       "\n",
       "mpl.figure.prototype.mouse_event = function(event, name) {\n",
       "    var canvas_pos = mpl.findpos(event)\n",
       "\n",
       "    if (name === 'button_press')\n",
       "    {\n",
       "        this.canvas.focus();\n",
       "        this.canvas_div.focus();\n",
       "    }\n",
       "\n",
       "    var x = canvas_pos.x * mpl.ratio;\n",
       "    var y = canvas_pos.y * mpl.ratio;\n",
       "\n",
       "    this.send_message(name, {x: x, y: y, button: event.button,\n",
       "                             step: event.step,\n",
       "                             guiEvent: simpleKeys(event)});\n",
       "\n",
       "    /* This prevents the web browser from automatically changing to\n",
       "     * the text insertion cursor when the button is pressed.  We want\n",
       "     * to control all of the cursor setting manually through the\n",
       "     * 'cursor' event from matplotlib */\n",
       "    event.preventDefault();\n",
       "    return false;\n",
       "}\n",
       "\n",
       "mpl.figure.prototype._key_event_extra = function(event, name) {\n",
       "    // Handle any extra behaviour associated with a key event\n",
       "}\n",
       "\n",
       "mpl.figure.prototype.key_event = function(event, name) {\n",
       "\n",
       "    // Prevent repeat events\n",
       "    if (name == 'key_press')\n",
       "    {\n",
       "        if (event.which === this._key)\n",
       "            return;\n",
       "        else\n",
       "            this._key = event.which;\n",
       "    }\n",
       "    if (name == 'key_release')\n",
       "        this._key = null;\n",
       "\n",
       "    var value = '';\n",
       "    if (event.ctrlKey && event.which != 17)\n",
       "        value += \"ctrl+\";\n",
       "    if (event.altKey && event.which != 18)\n",
       "        value += \"alt+\";\n",
       "    if (event.shiftKey && event.which != 16)\n",
       "        value += \"shift+\";\n",
       "\n",
       "    value += 'k';\n",
       "    value += event.which.toString();\n",
       "\n",
       "    this._key_event_extra(event, name);\n",
       "\n",
       "    this.send_message(name, {key: value,\n",
       "                             guiEvent: simpleKeys(event)});\n",
       "    return false;\n",
       "}\n",
       "\n",
       "mpl.figure.prototype.toolbar_button_onclick = function(name) {\n",
       "    if (name == 'download') {\n",
       "        this.handle_save(this, null);\n",
       "    } else {\n",
       "        this.send_message(\"toolbar_button\", {name: name});\n",
       "    }\n",
       "};\n",
       "\n",
       "mpl.figure.prototype.toolbar_button_onmouseover = function(tooltip) {\n",
       "    this.message.textContent = tooltip;\n",
       "};\n",
       "mpl.toolbar_items = [[\"Home\", \"Reset original view\", \"fa fa-home icon-home\", \"home\"], [\"Back\", \"Back to  previous view\", \"fa fa-arrow-left icon-arrow-left\", \"back\"], [\"Forward\", \"Forward to next view\", \"fa fa-arrow-right icon-arrow-right\", \"forward\"], [\"\", \"\", \"\", \"\"], [\"Pan\", \"Pan axes with left mouse, zoom with right\", \"fa fa-arrows icon-move\", \"pan\"], [\"Zoom\", \"Zoom to rectangle\", \"fa fa-square-o icon-check-empty\", \"zoom\"], [\"\", \"\", \"\", \"\"], [\"Download\", \"Download plot\", \"fa fa-floppy-o icon-save\", \"download\"]];\n",
       "\n",
       "mpl.extensions = [\"eps\", \"jpeg\", \"pdf\", \"png\", \"ps\", \"raw\", \"svg\", \"tif\"];\n",
       "\n",
       "mpl.default_extension = \"png\";var comm_websocket_adapter = function(comm) {\n",
       "    // Create a \"websocket\"-like object which calls the given IPython comm\n",
       "    // object with the appropriate methods. Currently this is a non binary\n",
       "    // socket, so there is still some room for performance tuning.\n",
       "    var ws = {};\n",
       "\n",
       "    ws.close = function() {\n",
       "        comm.close()\n",
       "    };\n",
       "    ws.send = function(m) {\n",
       "        //console.log('sending', m);\n",
       "        comm.send(m);\n",
       "    };\n",
       "    // Register the callback with on_msg.\n",
       "    comm.on_msg(function(msg) {\n",
       "        //console.log('receiving', msg['content']['data'], msg);\n",
       "        // Pass the mpl event to the overriden (by mpl) onmessage function.\n",
       "        ws.onmessage(msg['content']['data'])\n",
       "    });\n",
       "    return ws;\n",
       "}\n",
       "\n",
       "mpl.mpl_figure_comm = function(comm, msg) {\n",
       "    // This is the function which gets called when the mpl process\n",
       "    // starts-up an IPython Comm through the \"matplotlib\" channel.\n",
       "\n",
       "    var id = msg.content.data.id;\n",
       "    // Get hold of the div created by the display call when the Comm\n",
       "    // socket was opened in Python.\n",
       "    var element = $(\"#\" + id);\n",
       "    var ws_proxy = comm_websocket_adapter(comm)\n",
       "\n",
       "    function ondownload(figure, format) {\n",
       "        window.open(figure.imageObj.src);\n",
       "    }\n",
       "\n",
       "    var fig = new mpl.figure(id, ws_proxy,\n",
       "                           ondownload,\n",
       "                           element.get(0));\n",
       "\n",
       "    // Call onopen now - mpl needs it, as it is assuming we've passed it a real\n",
       "    // web socket which is closed, not our websocket->open comm proxy.\n",
       "    ws_proxy.onopen();\n",
       "\n",
       "    fig.parent_element = element.get(0);\n",
       "    fig.cell_info = mpl.find_output_cell(\"<div id='\" + id + \"'></div>\");\n",
       "    if (!fig.cell_info) {\n",
       "        console.error(\"Failed to find cell for figure\", id, fig);\n",
       "        return;\n",
       "    }\n",
       "\n",
       "    var output_index = fig.cell_info[2]\n",
       "    var cell = fig.cell_info[0];\n",
       "\n",
       "};\n",
       "\n",
       "mpl.figure.prototype.handle_close = function(fig, msg) {\n",
       "    var width = fig.canvas.width/mpl.ratio\n",
       "    fig.root.unbind('remove')\n",
       "\n",
       "    // Update the output cell to use the data from the current canvas.\n",
       "    fig.push_to_output();\n",
       "    var dataURL = fig.canvas.toDataURL();\n",
       "    // Re-enable the keyboard manager in IPython - without this line, in FF,\n",
       "    // the notebook keyboard shortcuts fail.\n",
       "    IPython.keyboard_manager.enable()\n",
       "    $(fig.parent_element).html('<img src=\"' + dataURL + '\" width=\"' + width + '\">');\n",
       "    fig.close_ws(fig, msg);\n",
       "}\n",
       "\n",
       "mpl.figure.prototype.close_ws = function(fig, msg){\n",
       "    fig.send_message('closing', msg);\n",
       "    // fig.ws.close()\n",
       "}\n",
       "\n",
       "mpl.figure.prototype.push_to_output = function(remove_interactive) {\n",
       "    // Turn the data on the canvas into data in the output cell.\n",
       "    var width = this.canvas.width/mpl.ratio\n",
       "    var dataURL = this.canvas.toDataURL();\n",
       "    this.cell_info[1]['text/html'] = '<img src=\"' + dataURL + '\" width=\"' + width + '\">';\n",
       "}\n",
       "\n",
       "mpl.figure.prototype.updated_canvas_event = function() {\n",
       "    // Tell IPython that the notebook contents must change.\n",
       "    IPython.notebook.set_dirty(true);\n",
       "    this.send_message(\"ack\", {});\n",
       "    var fig = this;\n",
       "    // Wait a second, then push the new image to the DOM so\n",
       "    // that it is saved nicely (might be nice to debounce this).\n",
       "    setTimeout(function () { fig.push_to_output() }, 1000);\n",
       "}\n",
       "\n",
       "mpl.figure.prototype._init_toolbar = function() {\n",
       "    var fig = this;\n",
       "\n",
       "    var nav_element = $('<div/>')\n",
       "    nav_element.attr('style', 'width: 100%');\n",
       "    this.root.append(nav_element);\n",
       "\n",
       "    // Define a callback function for later on.\n",
       "    function toolbar_event(event) {\n",
       "        return fig.toolbar_button_onclick(event['data']);\n",
       "    }\n",
       "    function toolbar_mouse_event(event) {\n",
       "        return fig.toolbar_button_onmouseover(event['data']);\n",
       "    }\n",
       "\n",
       "    for(var toolbar_ind in mpl.toolbar_items){\n",
       "        var name = mpl.toolbar_items[toolbar_ind][0];\n",
       "        var tooltip = mpl.toolbar_items[toolbar_ind][1];\n",
       "        var image = mpl.toolbar_items[toolbar_ind][2];\n",
       "        var method_name = mpl.toolbar_items[toolbar_ind][3];\n",
       "\n",
       "        if (!name) { continue; };\n",
       "\n",
       "        var button = $('<button class=\"btn btn-default\" href=\"#\" title=\"' + name + '\"><i class=\"fa ' + image + ' fa-lg\"></i></button>');\n",
       "        button.click(method_name, toolbar_event);\n",
       "        button.mouseover(tooltip, toolbar_mouse_event);\n",
       "        nav_element.append(button);\n",
       "    }\n",
       "\n",
       "    // Add the status bar.\n",
       "    var status_bar = $('<span class=\"mpl-message\" style=\"text-align:right; float: right;\"/>');\n",
       "    nav_element.append(status_bar);\n",
       "    this.message = status_bar[0];\n",
       "\n",
       "    // Add the close button to the window.\n",
       "    var buttongrp = $('<div class=\"btn-group inline pull-right\"></div>');\n",
       "    var button = $('<button class=\"btn btn-mini btn-primary\" href=\"#\" title=\"Stop Interaction\"><i class=\"fa fa-power-off icon-remove icon-large\"></i></button>');\n",
       "    button.click(function (evt) { fig.handle_close(fig, {}); } );\n",
       "    button.mouseover('Stop Interaction', toolbar_mouse_event);\n",
       "    buttongrp.append(button);\n",
       "    var titlebar = this.root.find($('.ui-dialog-titlebar'));\n",
       "    titlebar.prepend(buttongrp);\n",
       "}\n",
       "\n",
       "mpl.figure.prototype._root_extra_style = function(el){\n",
       "    var fig = this\n",
       "    el.on(\"remove\", function(){\n",
       "\tfig.close_ws(fig, {});\n",
       "    });\n",
       "}\n",
       "\n",
       "mpl.figure.prototype._canvas_extra_style = function(el){\n",
       "    // this is important to make the div 'focusable\n",
       "    el.attr('tabindex', 0)\n",
       "    // reach out to IPython and tell the keyboard manager to turn it's self\n",
       "    // off when our div gets focus\n",
       "\n",
       "    // location in version 3\n",
       "    if (IPython.notebook.keyboard_manager) {\n",
       "        IPython.notebook.keyboard_manager.register_events(el);\n",
       "    }\n",
       "    else {\n",
       "        // location in version 2\n",
       "        IPython.keyboard_manager.register_events(el);\n",
       "    }\n",
       "\n",
       "}\n",
       "\n",
       "mpl.figure.prototype._key_event_extra = function(event, name) {\n",
       "    var manager = IPython.notebook.keyboard_manager;\n",
       "    if (!manager)\n",
       "        manager = IPython.keyboard_manager;\n",
       "\n",
       "    // Check for shift+enter\n",
       "    if (event.shiftKey && event.which == 13) {\n",
       "        this.canvas_div.blur();\n",
       "        // select the cell after this one\n",
       "        var index = IPython.notebook.find_cell_index(this.cell_info[0]);\n",
       "        IPython.notebook.select(index + 1);\n",
       "    }\n",
       "}\n",
       "\n",
       "mpl.figure.prototype.handle_save = function(fig, msg) {\n",
       "    fig.ondownload(fig, null);\n",
       "}\n",
       "\n",
       "\n",
       "mpl.find_output_cell = function(html_output) {\n",
       "    // Return the cell and output element which can be found *uniquely* in the notebook.\n",
       "    // Note - this is a bit hacky, but it is done because the \"notebook_saving.Notebook\"\n",
       "    // IPython event is triggered only after the cells have been serialised, which for\n",
       "    // our purposes (turning an active figure into a static one), is too late.\n",
       "    var cells = IPython.notebook.get_cells();\n",
       "    var ncells = cells.length;\n",
       "    for (var i=0; i<ncells; i++) {\n",
       "        var cell = cells[i];\n",
       "        if (cell.cell_type === 'code'){\n",
       "            for (var j=0; j<cell.output_area.outputs.length; j++) {\n",
       "                var data = cell.output_area.outputs[j];\n",
       "                if (data.data) {\n",
       "                    // IPython >= 3 moved mimebundle to data attribute of output\n",
       "                    data = data.data;\n",
       "                }\n",
       "                if (data['text/html'] == html_output) {\n",
       "                    return [cell, data, j];\n",
       "                }\n",
       "            }\n",
       "        }\n",
       "    }\n",
       "}\n",
       "\n",
       "// Register the function which deals with the matplotlib target/channel.\n",
       "// The kernel may be null if the page has been refreshed.\n",
       "if (IPython.notebook.kernel != null) {\n",
       "    IPython.notebook.kernel.comm_manager.register_target('matplotlib', mpl.mpl_figure_comm);\n",
       "}\n"
      ],
      "text/plain": [
       "<IPython.core.display.Javascript object>"
      ]
     },
     "metadata": {},
     "output_type": "display_data"
    },
    {
     "data": {
      "text/html": [
       "<img src=\"data:image/png;base64,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\" width=\"1000\">"
      ],
      "text/plain": [
       "<IPython.core.display.HTML object>"
      ]
     },
     "metadata": {},
     "output_type": "display_data"
    }
   ],
   "source": [
    "figure1 = plt.figure(figsize = (10, 5))\n",
    "subfigure1 = figure1.add_subplot(111)\n",
    "basemap1 = Basemap(projection='cyl', resolution = None, lon_0 = 0, lat_0 = 0)\n",
    "add_raster_to_map(basemap1, raster_rover_speed_array, 'Rover speed ($m.sol^{-1}$)')\n",
    "basemap1.drawmeridians(np.arange(0, 360, 30),labels=[False,False,False,True])\n",
    "basemap1.drawparallels(np.arange(-90, 91, 30),labels=[True,False,False,False])\n",
    "plt.show()"
   ]
  },
  {
   "cell_type": "markdown",
   "metadata": {
    "collapsed": true
   },
   "source": [
    "## Scientific targets"
   ]
  },
  {
   "cell_type": "markdown",
   "metadata": {},
   "source": [
    "We initialize an array in which we will rasterize all the targets. It will be used to determine the locations of the time constraints at the end of the notebook."
   ]
  },
  {
   "cell_type": "code",
   "execution_count": 8,
   "metadata": {
    "collapsed": true
   },
   "outputs": [],
   "source": [
    "scientific_targets_array = np.ones((master_height, master_width), dtype = np.int)"
   ]
  },
  {
   "cell_type": "markdown",
   "metadata": {},
   "source": [
    "We load the geological structures from the geological map of Mars only once."
   ]
  },
  {
   "cell_type": "code",
   "execution_count": 9,
   "metadata": {
    "collapsed": false
   },
   "outputs": [
    {
     "name": "stdout",
     "output_type": "stream",
     "text": [
      " _______________________________________________________________________________\n",
      "/ Shapefile field names:\n",
      "| \n",
      "| OBJECTID | Morphology | Origin | Interpreta | Preservati | Dimension | Shape_Leng | SphLen_km \n",
      "\\_______________________________________________________________________________\n"
     ]
    }
   ],
   "source": [
    "shapefile_structures = open_shapefile(base_folder + 'Original_Data/Interpreted_Data/SIM3292_MarsGlobalGeologicGIS_20M/SIM3292_Shapefiles/SIM3292_Global_Structure.shp')\n",
    "print_shapefile_field_names(shapefile_structures)"
   ]
  },
  {
   "cell_type": "code",
   "execution_count": 10,
   "metadata": {
    "collapsed": false
   },
   "outputs": [
    {
     "name": "stdout",
     "output_type": "stream",
     "text": [
      " _______________________________________________________________________________\n",
      "/ Interpreta:\n",
      "| \n",
      "| Caldera rim | Channel axis | Crater rim | Graben axis | Lobate flow | Outflow Channel | Pit crater chain | Ridge | Rille | Scarp | Spiral trough | Wrinkle ridge | Yardangs \n",
      "\\_______________________________________________________________________________\n"
     ]
    }
   ],
   "source": [
    "print_shapefile_unique_field_values(shapefile_structures, 'Interpreta')"
   ]
  },
  {
   "cell_type": "markdown",
   "metadata": {},
   "source": [
    "We do the same with the crater database."
   ]
  },
  {
   "cell_type": "code",
   "execution_count": 11,
   "metadata": {
    "collapsed": true
   },
   "outputs": [],
   "source": [
    "mars_craters = get_latitude_longitude_from_csv_file(base_folder + 'Original_Data/Interpreted_Data/marscraters.csv',\n",
    "                                                    longitude_column_index = 2,\n",
    "                                                    latitude_column_index = 1,\n",
    "                                                    other_data_column_indexes = [5, 22, 36, 37, 42])"
   ]
  },
  {
   "cell_type": "markdown",
   "metadata": {},
   "source": [
    "### Hydrous minerals"
   ]
  },
  {
   "cell_type": "markdown",
   "metadata": {},
   "source": [
    "**Hydrous-mineral exposures**\n",
    "\n",
    "www.cosmos.esa.int/web/psa/mars-maps"
   ]
  },
  {
   "cell_type": "markdown",
   "metadata": {},
   "source": [
    "For each target type, we need two steps: Rasterize the initial vector data at 20 ppd and perform the fast marching.\n",
    "\n",
    "&#9888; Each fast marching takes about ten minutes."
   ]
  },
  {
   "cell_type": "code",
   "execution_count": 12,
   "metadata": {
    "collapsed": true
   },
   "outputs": [],
   "source": [
    "hydrous_mineral_exposures = get_latitude_longitude_from_csv_file(base_folder + 'Original_Data/MEX/OMEGA/HYDROUS_SITES_GEO_MAP.CSV')"
   ]
  },
  {
   "cell_type": "code",
   "execution_count": 13,
   "metadata": {
    "collapsed": true
   },
   "outputs": [],
   "source": [
    "data_type = gdal.GDT_Int32\n",
    "\n",
    "shapes = []\n",
    "for i in range(len(hydrous_mineral_exposures[0])):\n",
    "    feature_geometry = Point(hydrous_mineral_exposures[0][i], hydrous_mineral_exposures[1][i])\n",
    "    shapes.append(feature_geometry)\n",
    "\n",
    "raster_rasterization = rasterize_geometries(shapes, \n",
    "                                            data_type,\n",
    "                                            master_width, \n",
    "                                            master_height,\n",
    "                                            master_geotransform,\n",
    "                                            master_spatial_reference_system)\n",
    "raster_rasterization_array = get_raster_array(raster_rasterization)\n",
    "\n",
    "scientific_targets_array[raster_rasterization_array == 0] = 0"
   ]
  },
  {
   "cell_type": "code",
   "execution_count": 14,
   "metadata": {
    "collapsed": false
   },
   "outputs": [
    {
     "name": "stdout",
     "output_type": "stream",
     "text": [
      "CPU times: user 9min 50s, sys: 15.3 s, total: 10min 5s\n",
      "Wall time: 9min 48s\n"
     ]
    }
   ],
   "source": [
    "%%time\n",
    "\n",
    "traverse_array = run_fast_marching(raster_rasterization_array,\n",
    "                                   raster_rover_speed_array,\n",
    "                                   longitude_array,\n",
    "                                   latitude_array,\n",
    "                                   mars_radius)"
   ]
  },
  {
   "cell_type": "markdown",
   "metadata": {},
   "source": [
    "Then, export the map to a .tif file."
   ]
  },
  {
   "cell_type": "code",
   "execution_count": 15,
   "metadata": {
    "collapsed": true
   },
   "outputs": [],
   "source": [
    "data_name = 'Hydrous_Mineral_Exposures'\n",
    "\n",
    "file_path = base_folder + output_folder + 'Interpreted_Data_Traverse_to_' + data_name + speed_affix + '.tif'\n",
    "raster_traverse = create_raster_from_array(traverse_array,           \n",
    "                                           master_geotransform, \n",
    "                                           master_projection,\n",
    "                                           file_type = 'GTiff',\n",
    "                                           file_path = file_path)\n",
    "raster_traverse = None"
   ]
  },
  {
   "cell_type": "markdown",
   "metadata": {},
   "source": [
    "**Chloride exposures**\n",
    "\n",
    "JMARS"
   ]
  },
  {
   "cell_type": "markdown",
   "metadata": {},
   "source": [
    "The shapefile is defined between 0 and 360 degree E in longitude, we need to convert it to -180 to 180 degree first."
   ]
  },
  {
   "cell_type": "code",
   "execution_count": 16,
   "metadata": {
    "collapsed": false
   },
   "outputs": [
    {
     "name": "stdout",
     "output_type": "stream",
     "text": [
      " _______________________________________________________________________________\n",
      "/ Shapefile field names:\n",
      "| \n",
      "| Label | DCS_spectr | Lat2 | Lon2 | showlbl | jC_fillclr \n",
      "\\_______________________________________________________________________________\n"
     ]
    }
   ],
   "source": [
    "shapefile_chloride_materials = open_shapefile(base_folder + 'Original_Data/Interpreted_Data/Chloride-bearing-materials_Osterloo-2010.shp')\n",
    "\n",
    "print_shapefile_field_names(shapefile_chloride_materials)"
   ]
  },
  {
   "cell_type": "code",
   "execution_count": 17,
   "metadata": {
    "collapsed": false
   },
   "outputs": [
    {
     "data": {
      "text/plain": [
       "(0.4769999744270308, 359.7988281305187, -56.08007755780634, 22.97070311277097)"
      ]
     },
     "execution_count": 17,
     "metadata": {},
     "output_type": "execute_result"
    }
   ],
   "source": [
    "shapefile_chloride_materials.GetLayer().GetExtent()"
   ]
  },
  {
   "cell_type": "code",
   "execution_count": 18,
   "metadata": {
    "collapsed": true
   },
   "outputs": [],
   "source": [
    "clip_polygon_0 = Polygon([(0., -90.), (0., 90.), (180., 90.), (180., -90.)])\n",
    "clip_polygon_180 = Polygon([(180., -90.), (180., 90.), (360., 90.), (360., -90.)])\n",
    "\n",
    "shapefile_chloride_materials_cliped_0 = clip_shapefile(shapefile_chloride_materials, clip_polygon_0)\n",
    "shapefile_chloride_materials_cliped_180 = clip_shapefile(shapefile_chloride_materials, clip_polygon_180)\n",
    "\n",
    "shapefile_chloride_materials_cliped_180 = modify_shapefile_extent(shapefile_chloride_materials_cliped_180, \n",
    "                                                                  180., 360., -90., 90., \n",
    "                                                                  -180., 0., -90., 90.)\n",
    "shapefile_chloride_materials = union_shapefiles(shapefile_chloride_materials_cliped_0,\n",
    "                                                shapefile_chloride_materials_cliped_180)"
   ]
  },
  {
   "cell_type": "markdown",
   "metadata": {},
   "source": [
    "Rasterize the initial vector data at 20 ppd and perform the fast marching."
   ]
  },
  {
   "cell_type": "code",
   "execution_count": 19,
   "metadata": {
    "collapsed": true
   },
   "outputs": [],
   "source": [
    "projection = shapefile_chloride_materials.GetLayer().GetSpatialRef().ExportToWkt()\n",
    "data_type = gdal.GDT_Int32\n",
    "\n",
    "raster_rasterization = rasterize_shapefile(shapefile_chloride_materials, \n",
    "                                           None,\n",
    "                                           data_type,\n",
    "                                           master_width, \n",
    "                                           master_height,                    \n",
    "                                           master_geotransform, \n",
    "                                           projection)\n",
    "raster_rasterization_array = get_raster_array(raster_rasterization)\n",
    "\n",
    "scientific_targets_array[raster_rasterization_array == 0] = 0"
   ]
  },
  {
   "cell_type": "code",
   "execution_count": 20,
   "metadata": {
    "collapsed": false
   },
   "outputs": [
    {
     "name": "stdout",
     "output_type": "stream",
     "text": [
      "CPU times: user 8min 42s, sys: 14.8 s, total: 8min 56s\n",
      "Wall time: 8min 40s\n"
     ]
    }
   ],
   "source": [
    "%%time\n",
    "\n",
    "traverse_array = run_fast_marching(raster_rasterization_array,\n",
    "                                   raster_rover_speed_array,\n",
    "                                   longitude_array,\n",
    "                                   latitude_array,\n",
    "                                   mars_radius)"
   ]
  },
  {
   "cell_type": "markdown",
   "metadata": {},
   "source": [
    "Export the map to a .tif file."
   ]
  },
  {
   "cell_type": "code",
   "execution_count": 21,
   "metadata": {
    "collapsed": true
   },
   "outputs": [],
   "source": [
    "data_name = 'Chloride_Materials'\n",
    "\n",
    "file_path = base_folder + output_folder + 'Interpreted_Data_Traverse_to_' + data_name + speed_affix + '.tif'\n",
    "raster_traverse = create_raster_from_array(traverse_array,           \n",
    "                                           master_geotransform, \n",
    "                                           master_projection,\n",
    "                                           file_type = 'GTiff',\n",
    "                                           file_path = file_path)\n",
    "raster_traverse = None"
   ]
  },
  {
   "cell_type": "markdown",
   "metadata": {},
   "source": [
    "**Carbonate exposures**\n",
    "\n",
    "JMARS"
   ]
  },
  {
   "cell_type": "markdown",
   "metadata": {},
   "source": [
    "We need to extract the carbonate exposure locations from the shapefile, and convert it from 0 to 360 degree E in longitude, to -180 to 180 degree."
   ]
  },
  {
   "cell_type": "code",
   "execution_count": 22,
   "metadata": {
    "collapsed": false
   },
   "outputs": [
    {
     "name": "stdout",
     "output_type": "stream",
     "text": [
      " _______________________________________________________________________________\n",
      "/ Shapefile field names:\n",
      "| \n",
      "| Feature | jC_lineclr | filled | Name | jC_fillclr | ShowPoints | Show Outli | Point size | lwidth | Class \n",
      "\\_______________________________________________________________________________\n"
     ]
    }
   ],
   "source": [
    "shapefile_carbonate_rocks = open_shapefile(base_folder + 'Original_Data/Interpreted_Data/Aqueous-Mineral-Distribution_Ehlmann-Edwards-2014.csv.point.shp')\n",
    "print_shapefile_field_names(shapefile_carbonate_rocks)"
   ]
  },
  {
   "cell_type": "code",
   "execution_count": 23,
   "metadata": {
    "collapsed": false
   },
   "outputs": [
    {
     "name": "stdout",
     "output_type": "stream",
     "text": [
      " _______________________________________________________________________________\n",
      "/ Class:\n",
      "| \n",
      "| carbonate | chloride | phyllosilicate | silica | sulfate \n",
      "\\_______________________________________________________________________________\n"
     ]
    }
   ],
   "source": [
    "print_shapefile_unique_field_values(shapefile_carbonate_rocks, 'Class')"
   ]
  },
  {
   "cell_type": "code",
   "execution_count": 24,
   "metadata": {
    "collapsed": true
   },
   "outputs": [],
   "source": [
    "shapefile_carbonate_rocks = filter_shapefile(shapefile_carbonate_rocks,\n",
    "                                             'Class', \n",
    "                                             ['carbonate'])"
   ]
  },
  {
   "cell_type": "code",
   "execution_count": 25,
   "metadata": {
    "collapsed": false
   },
   "outputs": [
    {
     "data": {
      "text/plain": [
       "(45.38999938964844, 336.45001220703125, -20.40999984741211, 64.83999633789062)"
      ]
     },
     "execution_count": 25,
     "metadata": {},
     "output_type": "execute_result"
    }
   ],
   "source": [
    "shapefile_carbonate_rocks.GetLayer().GetExtent()"
   ]
  },
  {
   "cell_type": "code",
   "execution_count": 26,
   "metadata": {
    "collapsed": true
   },
   "outputs": [],
   "source": [
    "clip_polygon_0 = Polygon([(0., -90.), (0., 90.), (180., 90.), (180., -90.)])\n",
    "clip_polygon_180 = Polygon([(180., -90.), (180., 90.), (360., 90.), (360., -90.)])\n",
    "\n",
    "shapefile_carbonate_rocks_cliped_0 = clip_shapefile(shapefile_carbonate_rocks, clip_polygon_0)\n",
    "shapefile_carbonate_rocks_cliped_180 = clip_shapefile(shapefile_carbonate_rocks, clip_polygon_180)\n",
    "\n",
    "shapefile_carbonate_rocks_cliped_180 = modify_shapefile_extent(shapefile_carbonate_rocks_cliped_180, \n",
    "                                                                180., 360., -90., 90., \n",
    "                                                                -180., 0., -90., 90.)\n",
    "shapefile_carbonate_rocks = union_shapefiles(shapefile_carbonate_rocks_cliped_0,\n",
    "                                             shapefile_carbonate_rocks_cliped_180)"
   ]
  },
  {
   "cell_type": "markdown",
   "metadata": {},
   "source": [
    "Rasterize the initial vector data at 20 ppd and perform the fast marching."
   ]
  },
  {
   "cell_type": "code",
   "execution_count": 27,
   "metadata": {
    "collapsed": true
   },
   "outputs": [],
   "source": [
    "projection = shapefile_carbonate_rocks.GetLayer().GetSpatialRef().ExportToWkt()\n",
    "data_type = gdal.GDT_Int32\n",
    "\n",
    "raster_rasterization = rasterize_shapefile(shapefile_carbonate_rocks, \n",
    "                                           None,\n",
    "                                           data_type,\n",
    "                                           master_width, \n",
    "                                           master_height,                    \n",
    "                                           master_geotransform, \n",
    "                                           projection)\n",
    "raster_rasterization_array = get_raster_array(raster_rasterization)\n",
    "\n",
    "scientific_targets_array[raster_rasterization_array == 0] = 0"
   ]
  },
  {
   "cell_type": "code",
   "execution_count": 28,
   "metadata": {
    "collapsed": false
   },
   "outputs": [
    {
     "name": "stdout",
     "output_type": "stream",
     "text": [
      "CPU times: user 8min 32s, sys: 14.4 s, total: 8min 47s\n",
      "Wall time: 8min 30s\n"
     ]
    }
   ],
   "source": [
    "%%time\n",
    "\n",
    "traverse_array = run_fast_marching(raster_rasterization_array,\n",
    "                                   raster_rover_speed_array,\n",
    "                                   longitude_array,\n",
    "                                   latitude_array,\n",
    "                                   mars_radius)"
   ]
  },
  {
   "cell_type": "markdown",
   "metadata": {},
   "source": [
    "Export the map to a .tif file."
   ]
  },
  {
   "cell_type": "code",
   "execution_count": 29,
   "metadata": {
    "collapsed": true
   },
   "outputs": [],
   "source": [
    "data_name = 'Carbonate_Rocks'\n",
    "\n",
    "file_path = base_folder + output_folder + 'Interpreted_Data_Traverse_to_' + data_name + speed_affix + '.tif'\n",
    "raster_traverse = create_raster_from_array(traverse_array,           \n",
    "                                           master_geotransform, \n",
    "                                           master_projection,\n",
    "                                           file_type = 'GTiff',\n",
    "                                           file_path = file_path)\n",
    "raster_traverse = None"
   ]
  },
  {
   "cell_type": "markdown",
   "metadata": {},
   "source": [
    "### Sedimentary structures"
   ]
  },
  {
   "cell_type": "markdown",
   "metadata": {
    "collapsed": true
   },
   "source": [
    "**Sedimentary-rock exposures**\n",
    "\n",
    "https://isis.astrogeology.usgs.gov/IsisSupport/index.php?topic=2570.0"
   ]
  },
  {
   "cell_type": "markdown",
   "metadata": {},
   "source": [
    "First, we convert the longitudes to -180 - 180 degree East."
   ]
  },
  {
   "cell_type": "code",
   "execution_count": 30,
   "metadata": {
    "collapsed": true
   },
   "outputs": [],
   "source": [
    "sedimentary_rock_exposures = get_latitude_longitude_from_csv_file(base_folder + 'Original_Data/Interpreted_Data/sedrocks_latlong.csv')"
   ]
  },
  {
   "cell_type": "code",
   "execution_count": 31,
   "metadata": {
    "collapsed": true
   },
   "outputs": [],
   "source": [
    "for i in range(len(sedimentary_rock_exposures[0])):\n",
    "    if sedimentary_rock_exposures[0][i] > 180.:\n",
    "        sedimentary_rock_exposures[0][i] = 360. - sedimentary_rock_exposures[0][i]\n",
    "    else:\n",
    "        sedimentary_rock_exposures[0][i] *= -1."
   ]
  },
  {
   "cell_type": "markdown",
   "metadata": {},
   "source": [
    "Rasterize the initial vector data at 20 ppd and perform the fast marching."
   ]
  },
  {
   "cell_type": "code",
   "execution_count": 32,
   "metadata": {
    "collapsed": true
   },
   "outputs": [],
   "source": [
    "data_type = gdal.GDT_Int32\n",
    "\n",
    "shapes = []\n",
    "for i in range(len(sedimentary_rock_exposures[0])):\n",
    "    feature_geometry = Point(sedimentary_rock_exposures[0][i], sedimentary_rock_exposures[1][i])\n",
    "    shapes.append(feature_geometry)\n",
    "\n",
    "raster_rasterization = rasterize_geometries(shapes, \n",
    "                                            data_type,\n",
    "                                            master_width, \n",
    "                                            master_height,\n",
    "                                            master_geotransform,\n",
    "                                            master_spatial_reference_system)\n",
    "raster_rasterization_array = get_raster_array(raster_rasterization)\n",
    "\n",
    "scientific_targets_array[raster_rasterization_array == 0] = 0"
   ]
  },
  {
   "cell_type": "code",
   "execution_count": 33,
   "metadata": {
    "collapsed": false
   },
   "outputs": [
    {
     "name": "stdout",
     "output_type": "stream",
     "text": [
      "CPU times: user 8min 54s, sys: 13.9 s, total: 9min 8s\n",
      "Wall time: 8min 53s\n"
     ]
    }
   ],
   "source": [
    "%%time\n",
    "\n",
    "traverse_array = run_fast_marching(raster_rasterization_array,\n",
    "                                   raster_rover_speed_array,\n",
    "                                   longitude_array,\n",
    "                                   latitude_array,\n",
    "                                   mars_radius)"
   ]
  },
  {
   "cell_type": "markdown",
   "metadata": {},
   "source": [
    "Export the map to a .tif file."
   ]
  },
  {
   "cell_type": "code",
   "execution_count": 34,
   "metadata": {
    "collapsed": true
   },
   "outputs": [],
   "source": [
    "data_name = 'Sedimentary_Rock_Exposures'\n",
    "\n",
    "file_path = base_folder + output_folder + 'Interpreted_Data_Traverse_to_' + data_name + speed_affix + '.tif'\n",
    "raster_traverse = create_raster_from_array(traverse_array,           \n",
    "                                           master_geotransform, \n",
    "                                           master_projection,\n",
    "                                           file_type = 'GTiff',\n",
    "                                           file_path = file_path)\n",
    "raster_traverse = None"
   ]
  },
  {
   "cell_type": "markdown",
   "metadata": {},
   "source": [
    "**Valley networks**\n",
    "\n",
    "ftp://pdsimage2.wr.usgs.gov/pub/pigpen/mars/channels/Hynek"
   ]
  },
  {
   "cell_type": "markdown",
   "metadata": {},
   "source": [
    "Rasterize the initial vector data at 20 ppd and perform the fast marching."
   ]
  },
  {
   "cell_type": "code",
   "execution_count": 35,
   "metadata": {
    "collapsed": false
   },
   "outputs": [
    {
     "name": "stdout",
     "output_type": "stream",
     "text": [
      " _______________________________________________________________________________\n",
      "/ Shapefile field names:\n",
      "| \n",
      "| tot_length \n",
      "\\_______________________________________________________________________________\n"
     ]
    }
   ],
   "source": [
    "shapefile_valley_networks = open_shapefile(base_folder + 'Original_Data/Interpreted_Data/Hynek_VNs/Hynek_Valley_Networks.shp')\n",
    "\n",
    "print_shapefile_field_names(shapefile_valley_networks)"
   ]
  },
  {
   "cell_type": "code",
   "execution_count": 36,
   "metadata": {
    "collapsed": false
   },
   "outputs": [
    {
     "name": "stdout",
     "output_type": "stream",
     "text": [
      "(-10669444.875, 10667322.4531, -4248817.0123, 3187641.742799999)\n",
      "(-10669675.197320545, 10669675.197320545, -5334837.598660273, 5334837.598660273)\n"
     ]
    }
   ],
   "source": [
    "print(shapefile_valley_networks.GetLayer().GetExtent())\n",
    "\n",
    "raster_topo = open_raster(base_folder + 'Original_Data/MGS/MOLA/Mars_MGS_MOLA_DEM_mosaic_global_463m.tif')\n",
    "print(get_raster_extent(raster_topo))"
   ]
  },
  {
   "cell_type": "code",
   "execution_count": 37,
   "metadata": {
    "collapsed": true
   },
   "outputs": [],
   "source": [
    "x_min, x_max, y_min, y_max = get_raster_extent(raster_topo)\n",
    "\n",
    "shapefile_valley_networks = modify_shapefile_extent(shapefile_valley_networks, \n",
    "                                                    x_min, x_max, y_min, y_max, \n",
    "                                                    master_lon_min, master_lon_max, master_lat_min, master_lat_max,\n",
    "                                                    geom_type = ogr.wkbLineString)\n",
    "\n",
    "projection = shapefile_valley_networks.GetLayer().GetSpatialRef().ExportToWkt()\n",
    "data_type = gdal.GDT_Int32\n",
    "\n",
    "raster_rasterization = rasterize_shapefile(shapefile_valley_networks, \n",
    "                                           None,\n",
    "                                           data_type,\n",
    "                                           master_width, \n",
    "                                           master_height,                    \n",
    "                                           master_geotransform, \n",
    "                                           projection)\n",
    "raster_rasterization_array = get_raster_array(raster_rasterization)\n",
    "\n",
    "scientific_targets_array[raster_rasterization_array == 0] = 0"
   ]
  },
  {
   "cell_type": "code",
   "execution_count": 38,
   "metadata": {
    "collapsed": false
   },
   "outputs": [
    {
     "name": "stdout",
     "output_type": "stream",
     "text": [
      "CPU times: user 9min 48s, sys: 16.3 s, total: 10min 5s\n",
      "Wall time: 9min 46s\n"
     ]
    }
   ],
   "source": [
    "%%time\n",
    "\n",
    "traverse_array = run_fast_marching(raster_rasterization_array,\n",
    "                                   raster_rover_speed_array,\n",
    "                                   longitude_array,\n",
    "                                   latitude_array,\n",
    "                                   mars_radius)"
   ]
  },
  {
   "cell_type": "markdown",
   "metadata": {},
   "source": [
    "Export the map to a .tif file."
   ]
  },
  {
   "cell_type": "code",
   "execution_count": 39,
   "metadata": {
    "collapsed": true
   },
   "outputs": [],
   "source": [
    "data_name = 'Valley_Networks'\n",
    "\n",
    "file_path = base_folder + output_folder + 'Interpreted_Data_Traverse_to_' + data_name + speed_affix + '.tif'\n",
    "raster_traverse = create_raster_from_array(traverse_array,           \n",
    "                                           master_geotransform, \n",
    "                                           master_projection,\n",
    "                                           file_type = 'GTiff',\n",
    "                                           file_path = file_path)\n",
    "raster_traverse = None"
   ]
  },
  {
   "cell_type": "markdown",
   "metadata": {},
   "source": [
    "**Glaciofluvial valleys**\n",
    "\n",
    "https://planetarydatabase.wordpress.com/2016/04/21/potential-glaciofluvial-valleys-on-mars"
   ]
  },
  {
   "cell_type": "markdown",
   "metadata": {},
   "source": [
    "Rasterize the initial vector data at 20 ppd and perform the fast marching."
   ]
  },
  {
   "cell_type": "code",
   "execution_count": 40,
   "metadata": {
    "collapsed": true
   },
   "outputs": [],
   "source": [
    "glaciofluvial_valleys = pd.read_excel(base_folder + 'Original_Data/Interpreted_Data/idpf-9-23-2016-excel97.xls',\n",
    "                                      sheetname = 'Glaciofl... (Fassett et al. 201')"
   ]
  },
  {
   "cell_type": "code",
   "execution_count": 41,
   "metadata": {
    "collapsed": true
   },
   "outputs": [],
   "source": [
    "data_type = gdal.GDT_Int32\n",
    "\n",
    "shapes = []\n",
    "for index, row in glaciofluvial_valleys.iterrows():\n",
    "    feature_geometry = Point(row['Lon 180'], row['Lat'])\n",
    "    shapes.append(feature_geometry)\n",
    "\n",
    "raster_rasterization = rasterize_geometries(shapes, \n",
    "                                            data_type,\n",
    "                                            master_width, \n",
    "                                            master_height,\n",
    "                                            master_geotransform,\n",
    "                                            master_spatial_reference_system)\n",
    "raster_rasterization_array = get_raster_array(raster_rasterization)\n",
    "\n",
    "scientific_targets_array[raster_rasterization_array == 0] = 0"
   ]
  },
  {
   "cell_type": "code",
   "execution_count": 42,
   "metadata": {
    "collapsed": false
   },
   "outputs": [
    {
     "name": "stdout",
     "output_type": "stream",
     "text": [
      "CPU times: user 8min 47s, sys: 15.1 s, total: 9min 2s\n",
      "Wall time: 8min 44s\n"
     ]
    }
   ],
   "source": [
    "%%time\n",
    "\n",
    "traverse_array = run_fast_marching(raster_rasterization_array,\n",
    "                                   raster_rover_speed_array,\n",
    "                                   longitude_array,\n",
    "                                   latitude_array,\n",
    "                                   mars_radius)"
   ]
  },
  {
   "cell_type": "markdown",
   "metadata": {},
   "source": [
    "Export the map to a .tif file."
   ]
  },
  {
   "cell_type": "code",
   "execution_count": 43,
   "metadata": {
    "collapsed": true
   },
   "outputs": [],
   "source": [
    "data_name = 'Glaciofluvial_Valleys'\n",
    "\n",
    "file_path = base_folder + output_folder + 'Interpreted_Data_Traverse_to_' + data_name + speed_affix + '.tif'\n",
    "raster_traverse = create_raster_from_array(traverse_array,           \n",
    "                                           master_geotransform, \n",
    "                                           master_projection,\n",
    "                                           file_type = 'GTiff',\n",
    "                                           file_path = file_path)\n",
    "raster_traverse = None"
   ]
  },
  {
   "cell_type": "markdown",
   "metadata": {},
   "source": [
    "**Crater-wall channels**\n",
    "\n",
    "http://craters.sjrdesign.net/"
   ]
  },
  {
   "cell_type": "markdown",
   "metadata": {},
   "source": [
    "Rasterize the initial vector data at 20 ppd and perform the fast marching."
   ]
  },
  {
   "cell_type": "code",
   "execution_count": 44,
   "metadata": {
    "collapsed": true
   },
   "outputs": [],
   "source": [
    "data_type = gdal.GDT_Int32\n",
    "\n",
    "shapes = []\n",
    "for crater in zip(*mars_craters):\n",
    "    if 'Channels' in crater[4] or 'Channel' in crater[4] or 'Channsl' in crater[4]:\n",
    "        feature_geometry = Point(crater[0], crater[1])\n",
    "        shapes.append(feature_geometry)\n",
    "\n",
    "raster_rasterization = rasterize_geometries(shapes, \n",
    "                                            data_type,\n",
    "                                            master_width, \n",
    "                                            master_height,\n",
    "                                            master_geotransform,\n",
    "                                            master_spatial_reference_system)\n",
    "raster_rasterization_array = get_raster_array(raster_rasterization)\n",
    "\n",
    "scientific_targets_array[raster_rasterization_array == 0] = 0"
   ]
  },
  {
   "cell_type": "code",
   "execution_count": 45,
   "metadata": {
    "collapsed": false
   },
   "outputs": [
    {
     "name": "stdout",
     "output_type": "stream",
     "text": [
      "CPU times: user 11min 11s, sys: 15.8 s, total: 11min 27s\n",
      "Wall time: 11min 10s\n"
     ]
    }
   ],
   "source": [
    "%%time\n",
    "\n",
    "traverse_array = run_fast_marching(raster_rasterization_array,\n",
    "                                   raster_rover_speed_array,\n",
    "                                   longitude_array,\n",
    "                                   latitude_array,\n",
    "                                   mars_radius)"
   ]
  },
  {
   "cell_type": "markdown",
   "metadata": {},
   "source": [
    "Export the map to a .tif file."
   ]
  },
  {
   "cell_type": "code",
   "execution_count": 46,
   "metadata": {
    "collapsed": true
   },
   "outputs": [],
   "source": [
    "data_name = 'Crater_Wall_Channels'\n",
    "\n",
    "file_path = base_folder + output_folder + 'Interpreted_Data_Traverse_to_' + data_name + speed_affix + '.tif'\n",
    "raster_traverse = create_raster_from_array(traverse_array,           \n",
    "                                           master_geotransform, \n",
    "                                           master_projection,\n",
    "                                           file_type = 'GTiff',\n",
    "                                           file_path = file_path)\n",
    "raster_traverse = None"
   ]
  },
  {
   "cell_type": "markdown",
   "metadata": {},
   "source": [
    "**Crater-floor channels**\n",
    "\n",
    "http://craters.sjrdesign.net/"
   ]
  },
  {
   "cell_type": "markdown",
   "metadata": {},
   "source": [
    "Rasterize the initial vector data at 20 ppd and perform the fast marching."
   ]
  },
  {
   "cell_type": "code",
   "execution_count": 47,
   "metadata": {
    "collapsed": true
   },
   "outputs": [],
   "source": [
    "data_type = gdal.GDT_Int32\n",
    "\n",
    "shapes = []\n",
    "for crater in zip(*mars_craters):\n",
    "    if 'Channels' in crater[5] or 'Channel' in crater[5]:\n",
    "        feature_geometry = Point(crater[0], crater[1])\n",
    "        shapes.append(feature_geometry)\n",
    "\n",
    "raster_rasterization = rasterize_geometries(shapes, \n",
    "                                            data_type,\n",
    "                                            master_width, \n",
    "                                            master_height,\n",
    "                                            master_geotransform,\n",
    "                                            master_spatial_reference_system)\n",
    "raster_rasterization_array = get_raster_array(raster_rasterization)\n",
    "\n",
    "scientific_targets_array[raster_rasterization_array == 0] = 0"
   ]
  },
  {
   "cell_type": "code",
   "execution_count": 48,
   "metadata": {
    "collapsed": false
   },
   "outputs": [
    {
     "name": "stdout",
     "output_type": "stream",
     "text": [
      "CPU times: user 9min 13s, sys: 15.4 s, total: 9min 29s\n",
      "Wall time: 9min 11s\n"
     ]
    }
   ],
   "source": [
    "%%time\n",
    "\n",
    "traverse_array = run_fast_marching(raster_rasterization_array,\n",
    "                                   raster_rover_speed_array,\n",
    "                                   longitude_array,\n",
    "                                   latitude_array,\n",
    "                                   mars_radius)"
   ]
  },
  {
   "cell_type": "markdown",
   "metadata": {},
   "source": [
    "Export the map to a .tif file."
   ]
  },
  {
   "cell_type": "code",
   "execution_count": 49,
   "metadata": {
    "collapsed": true
   },
   "outputs": [],
   "source": [
    "data_name = 'Crater_Floor_Channels'\n",
    "\n",
    "file_path = base_folder + output_folder + 'Interpreted_Data_Traverse_to_' + data_name + speed_affix + '.tif'\n",
    "raster_traverse = create_raster_from_array(traverse_array,           \n",
    "                                           master_geotransform, \n",
    "                                           master_projection,\n",
    "                                           file_type = 'GTiff',\n",
    "                                           file_path = file_path)\n",
    "raster_traverse = None"
   ]
  },
  {
   "cell_type": "markdown",
   "metadata": {},
   "source": [
    "**Alluvial fans**\n",
    "\n",
    "https://planetarydatabase.wordpress.com/2016/04/21/alluvial-fans-on-mars and Metz et al. (2009)"
   ]
  },
  {
   "cell_type": "markdown",
   "metadata": {},
   "source": [
    "Rasterize the initial vector data at 20 ppd and perform the fast marching."
   ]
  },
  {
   "cell_type": "code",
   "execution_count": 50,
   "metadata": {
    "collapsed": true
   },
   "outputs": [],
   "source": [
    "alluvial_fans = pd.read_excel(base_folder + 'Original_Data/Interpreted_Data/idpf-9-23-2016-excel97.xls',\n",
    "                              sheetname = 'Fan (Moore + Kraal)')\n",
    "alluvial_fans_part2 = get_latitude_longitude_from_csv_file(base_folder + 'Original_Data/Interpreted_Data/Alluvial-Fans_Metz-et-al-2009.csv',\n",
    "                                                           longitude_column_index = 0, latitude_column_index = 1)"
   ]
  },
  {
   "cell_type": "code",
   "execution_count": 51,
   "metadata": {
    "collapsed": true
   },
   "outputs": [],
   "source": [
    "data_type = gdal.GDT_Int32\n",
    "\n",
    "shapes = []\n",
    "for index, row in alluvial_fans.iterrows():\n",
    "    feature_geometry = Point(row['Apex longitude, E 180'], row['Apex latitude'])\n",
    "    shapes.append(feature_geometry)\n",
    "for i in range(len(alluvial_fans_part2[0])):\n",
    "    feature_geometry = Point(alluvial_fans_part2[0][i], alluvial_fans_part2[1][i])\n",
    "    shapes.append(feature_geometry)\n",
    "\n",
    "raster_rasterization = rasterize_geometries(shapes, \n",
    "                                            data_type,\n",
    "                                            master_width, \n",
    "                                            master_height,\n",
    "                                            master_geotransform,\n",
    "                                            master_spatial_reference_system)\n",
    "raster_rasterization_array = get_raster_array(raster_rasterization)\n",
    "\n",
    "scientific_targets_array[raster_rasterization_array == 0] = 0"
   ]
  },
  {
   "cell_type": "code",
   "execution_count": 52,
   "metadata": {
    "collapsed": false
   },
   "outputs": [
    {
     "name": "stdout",
     "output_type": "stream",
     "text": [
      "CPU times: user 9min 39s, sys: 11.3 s, total: 9min 50s\n",
      "Wall time: 9min 38s\n"
     ]
    }
   ],
   "source": [
    "%%time\n",
    "\n",
    "traverse_array = run_fast_marching(raster_rasterization_array,\n",
    "                                   raster_rover_speed_array,\n",
    "                                   longitude_array,\n",
    "                                   latitude_array,\n",
    "                                   mars_radius)"
   ]
  },
  {
   "cell_type": "markdown",
   "metadata": {},
   "source": [
    "Export the map to a .tif file."
   ]
  },
  {
   "cell_type": "code",
   "execution_count": 53,
   "metadata": {
    "collapsed": true
   },
   "outputs": [],
   "source": [
    "data_name = 'Alluvial_Fans'\n",
    "\n",
    "file_path = base_folder + output_folder + 'Interpreted_Data_Traverse_to_' + data_name + speed_affix + '.tif'\n",
    "raster_traverse = create_raster_from_array(traverse_array,           \n",
    "                                           master_geotransform, \n",
    "                                           master_projection,\n",
    "                                           file_type = 'GTiff',\n",
    "                                           file_path = file_path)\n",
    "raster_traverse = None"
   ]
  },
  {
   "cell_type": "markdown",
   "metadata": {},
   "source": [
    "**Deltaic deposits**\n",
    "\n",
    "https://planetarydatabase.wordpress.com/2016/04/21/deltaic-deposits-on-mars"
   ]
  },
  {
   "cell_type": "markdown",
   "metadata": {},
   "source": [
    "Rasterize the initial vector data at 20 ppd and perform the fast marching."
   ]
  },
  {
   "cell_type": "code",
   "execution_count": 54,
   "metadata": {
    "collapsed": true
   },
   "outputs": [],
   "source": [
    "deltaic_deposits = pd.read_excel(base_folder + 'Original_Data/Interpreted_Data/idpf-9-23-2016-excel97.xls',\n",
    "                                 sheetname = 'Delta (di Achille.. 2010)')"
   ]
  },
  {
   "cell_type": "code",
   "execution_count": 55,
   "metadata": {
    "collapsed": true
   },
   "outputs": [],
   "source": [
    "data_type = gdal.GDT_Int32\n",
    "\n",
    "shapes = []\n",
    "for index, row in deltaic_deposits.iterrows():\n",
    "    feature_geometry = Point(row['Lon E 180'], row['Lat'])\n",
    "    shapes.append(feature_geometry)\n",
    "\n",
    "raster_rasterization = rasterize_geometries(shapes, \n",
    "                                            data_type,\n",
    "                                            master_width, \n",
    "                                            master_height,\n",
    "                                            master_geotransform,\n",
    "                                            master_spatial_reference_system)\n",
    "raster_rasterization_array = get_raster_array(raster_rasterization)\n",
    "\n",
    "scientific_targets_array[raster_rasterization_array == 0] = 0"
   ]
  },
  {
   "cell_type": "code",
   "execution_count": 56,
   "metadata": {
    "collapsed": false
   },
   "outputs": [
    {
     "name": "stdout",
     "output_type": "stream",
     "text": [
      "CPU times: user 10min 19s, sys: 15.4 s, total: 10min 35s\n",
      "Wall time: 10min 18s\n"
     ]
    }
   ],
   "source": [
    "%%time\n",
    "\n",
    "traverse_array = run_fast_marching(raster_rasterization_array,\n",
    "                                   raster_rover_speed_array,\n",
    "                                   longitude_array,\n",
    "                                   latitude_array,\n",
    "                                   mars_radius)"
   ]
  },
  {
   "cell_type": "markdown",
   "metadata": {},
   "source": [
    "Export the map to a .tif file."
   ]
  },
  {
   "cell_type": "code",
   "execution_count": 57,
   "metadata": {
    "collapsed": true
   },
   "outputs": [],
   "source": [
    "data_name = 'Deltaic_Deposits'\n",
    "\n",
    "file_path = base_folder + output_folder + 'Interpreted_Data_Traverse_to_' + data_name + speed_affix + '.tif'\n",
    "raster_traverse = create_raster_from_array(traverse_array,           \n",
    "                                           master_geotransform, \n",
    "                                           master_projection,\n",
    "                                           file_type = 'GTiff',\n",
    "                                           file_path = file_path)\n",
    "raster_traverse = None"
   ]
  },
  {
   "cell_type": "markdown",
   "metadata": {},
   "source": [
    "**Young deltas**\n",
    "\n",
    "Hauber et al. (2013)"
   ]
  },
  {
   "cell_type": "markdown",
   "metadata": {},
   "source": [
    "Rasterize the initial vector data at 20 ppd and perform the fast marching."
   ]
  },
  {
   "cell_type": "code",
   "execution_count": 58,
   "metadata": {
    "collapsed": true
   },
   "outputs": [],
   "source": [
    "young_deltas = get_latitude_longitude_from_csv_file(base_folder + 'Original_Data/Interpreted_Data/Young-Deltas_Hauber-et-al-2013.csv',\n",
    "                                                    longitude_column_index = 4, latitude_column_index = 2)"
   ]
  },
  {
   "cell_type": "code",
   "execution_count": 59,
   "metadata": {
    "collapsed": true
   },
   "outputs": [],
   "source": [
    "data_type = gdal.GDT_Int32\n",
    "\n",
    "shapes = []\n",
    "for i in range(len(young_deltas[0])):\n",
    "    feature_geometry = Point(young_deltas[0][i], young_deltas[1][i])\n",
    "    shapes.append(feature_geometry)\n",
    "\n",
    "raster_rasterization = rasterize_geometries(shapes, \n",
    "                                            data_type,\n",
    "                                            master_width, \n",
    "                                            master_height,\n",
    "                                            master_geotransform,\n",
    "                                            master_spatial_reference_system)\n",
    "raster_rasterization_array = get_raster_array(raster_rasterization)\n",
    "\n",
    "scientific_targets_array[raster_rasterization_array == 0] = 0"
   ]
  },
  {
   "cell_type": "code",
   "execution_count": 60,
   "metadata": {
    "collapsed": false
   },
   "outputs": [
    {
     "name": "stdout",
     "output_type": "stream",
     "text": [
      "CPU times: user 8min 44s, sys: 16.1 s, total: 9min\n",
      "Wall time: 8min 41s\n"
     ]
    }
   ],
   "source": [
    "%%time\n",
    "\n",
    "traverse_array = run_fast_marching(raster_rasterization_array,\n",
    "                                   raster_rover_speed_array,\n",
    "                                   longitude_array,\n",
    "                                   latitude_array,\n",
    "                                   mars_radius)"
   ]
  },
  {
   "cell_type": "markdown",
   "metadata": {},
   "source": [
    "Export the map to a .tif file."
   ]
  },
  {
   "cell_type": "code",
   "execution_count": 61,
   "metadata": {
    "collapsed": true
   },
   "outputs": [],
   "source": [
    "data_name = 'Young_Deltas'\n",
    "\n",
    "file_path = base_folder + output_folder + 'Interpreted_Data_Traverse_to_' + data_name + speed_affix + '.tif'\n",
    "raster_traverse = create_raster_from_array(traverse_array,           \n",
    "                                           master_geotransform, \n",
    "                                           master_projection,\n",
    "                                           file_type = 'GTiff',\n",
    "                                           file_path = file_path)\n",
    "raster_traverse = None"
   ]
  },
  {
   "cell_type": "markdown",
   "metadata": {},
   "source": [
    "**Subaqueous fans**\n",
    "\n",
    "Metz et al. (2009)"
   ]
  },
  {
   "cell_type": "markdown",
   "metadata": {},
   "source": [
    "Rasterize the initial vector data at 20 ppd and perform the fast marching."
   ]
  },
  {
   "cell_type": "code",
   "execution_count": 62,
   "metadata": {
    "collapsed": true
   },
   "outputs": [],
   "source": [
    "subaqueous_fans = get_latitude_longitude_from_csv_file(base_folder + 'Original_Data/Interpreted_Data/Sublacustrine-Fans_Metz-et-al-2009.csv',\n",
    "                                                       longitude_column_index = 0, latitude_column_index = 1)"
   ]
  },
  {
   "cell_type": "code",
   "execution_count": 63,
   "metadata": {
    "collapsed": true
   },
   "outputs": [],
   "source": [
    "data_type = gdal.GDT_Int32\n",
    "\n",
    "shapes = []\n",
    "for i in range(len(subaqueous_fans[0])):\n",
    "    feature_geometry = Point(subaqueous_fans[0][i], subaqueous_fans[1][i])\n",
    "    shapes.append(feature_geometry)\n",
    "\n",
    "raster_rasterization = rasterize_geometries(shapes, \n",
    "                                            data_type,\n",
    "                                            master_width, \n",
    "                                            master_height,\n",
    "                                            master_geotransform,\n",
    "                                            master_spatial_reference_system)\n",
    "raster_rasterization_array = get_raster_array(raster_rasterization)\n",
    "\n",
    "scientific_targets_array[raster_rasterization_array == 0] = 0"
   ]
  },
  {
   "cell_type": "code",
   "execution_count": 64,
   "metadata": {
    "collapsed": false
   },
   "outputs": [
    {
     "name": "stdout",
     "output_type": "stream",
     "text": [
      "CPU times: user 8min 27s, sys: 13.6 s, total: 8min 40s\n",
      "Wall time: 8min 24s\n"
     ]
    }
   ],
   "source": [
    "%%time\n",
    "\n",
    "traverse_array = run_fast_marching(raster_rasterization_array,\n",
    "                                   raster_rover_speed_array,\n",
    "                                   longitude_array,\n",
    "                                   latitude_array,\n",
    "                                   mars_radius)"
   ]
  },
  {
   "cell_type": "markdown",
   "metadata": {},
   "source": [
    "Export the map to a .tif file."
   ]
  },
  {
   "cell_type": "code",
   "execution_count": 65,
   "metadata": {
    "collapsed": true
   },
   "outputs": [],
   "source": [
    "data_name = 'Subaqueous_Fans'\n",
    "\n",
    "file_path = base_folder + output_folder + 'Interpreted_Data_Traverse_to_' + data_name + speed_affix + '.tif'\n",
    "raster_traverse = create_raster_from_array(traverse_array,           \n",
    "                                           master_geotransform, \n",
    "                                           master_projection,\n",
    "                                           file_type = 'GTiff',\n",
    "                                           file_path = file_path)\n",
    "raster_traverse = None"
   ]
  },
  {
   "cell_type": "markdown",
   "metadata": {},
   "source": [
    "**Crater-floor valley deposits**\n",
    "\n",
    "http://craters.sjrdesign.net/"
   ]
  },
  {
   "cell_type": "markdown",
   "metadata": {},
   "source": [
    "Rasterize the initial vector data at 20 ppd and perform the fast marching."
   ]
  },
  {
   "cell_type": "code",
   "execution_count": 66,
   "metadata": {
    "collapsed": true
   },
   "outputs": [],
   "source": [
    "data_type = gdal.GDT_Int32\n",
    "\n",
    "shapes = []\n",
    "for crater in zip(*mars_craters):\n",
    "    if 'Valley Deposits' in crater[5]:\n",
    "        feature_geometry = Point(crater[0], crater[1])\n",
    "        shapes.append(feature_geometry)\n",
    "\n",
    "raster_rasterization = rasterize_geometries(shapes, \n",
    "                                            data_type,\n",
    "                                            master_width, \n",
    "                                            master_height,\n",
    "                                            master_geotransform,\n",
    "                                            master_spatial_reference_system)\n",
    "raster_rasterization_array = get_raster_array(raster_rasterization)\n",
    "\n",
    "scientific_targets_array[raster_rasterization_array == 0] = 0"
   ]
  },
  {
   "cell_type": "code",
   "execution_count": 67,
   "metadata": {
    "collapsed": false
   },
   "outputs": [
    {
     "name": "stdout",
     "output_type": "stream",
     "text": [
      "CPU times: user 9min 8s, sys: 15.5 s, total: 9min 24s\n",
      "Wall time: 9min 6s\n"
     ]
    }
   ],
   "source": [
    "%%time\n",
    "\n",
    "traverse_array = run_fast_marching(raster_rasterization_array,\n",
    "                                   raster_rover_speed_array,\n",
    "                                   longitude_array,\n",
    "                                   latitude_array,\n",
    "                                   mars_radius)"
   ]
  },
  {
   "cell_type": "markdown",
   "metadata": {},
   "source": [
    "Export the map to a .tif file."
   ]
  },
  {
   "cell_type": "code",
   "execution_count": 68,
   "metadata": {
    "collapsed": true
   },
   "outputs": [],
   "source": [
    "data_name = 'Crater_Floor_Valley_Deposits'\n",
    "\n",
    "file_path = base_folder + output_folder + 'Interpreted_Data_Traverse_to_' + data_name + speed_affix + '.tif'\n",
    "raster_traverse = create_raster_from_array(traverse_array,           \n",
    "                                           master_geotransform, \n",
    "                                           master_projection,\n",
    "                                           file_type = 'GTiff',\n",
    "                                           file_path = file_path)\n",
    "raster_traverse = None"
   ]
  },
  {
   "cell_type": "markdown",
   "metadata": {},
   "source": [
    "**Open-basin lakes**\n",
    "\n",
    "https://planetarydatabase.wordpress.com/2016/04/21/open-basin-lakes-on-mars"
   ]
  },
  {
   "cell_type": "markdown",
   "metadata": {},
   "source": [
    "Rasterize the initial vector data at 20 ppd and perform the fast marching."
   ]
  },
  {
   "cell_type": "code",
   "execution_count": 69,
   "metadata": {
    "collapsed": true
   },
   "outputs": [],
   "source": [
    "open_basin_lakes = pd.read_excel(base_folder + 'Original_Data/Interpreted_Data/idpf-9-23-2016-excel97.xls',\n",
    "                                 sheetname = 'Open basin (Goudge et al. 2012)')"
   ]
  },
  {
   "cell_type": "code",
   "execution_count": 70,
   "metadata": {
    "collapsed": true
   },
   "outputs": [],
   "source": [
    "data_type = gdal.GDT_Int32\n",
    "\n",
    "shapes = []\n",
    "for index, row in open_basin_lakes.iterrows():\n",
    "    feature_geometry = Point(row['Lon_E 180'], row['Lat_N'])\n",
    "    shapes.append(feature_geometry)\n",
    "\n",
    "raster_rasterization = rasterize_geometries(shapes, \n",
    "                                            data_type,\n",
    "                                            master_width, \n",
    "                                            master_height,\n",
    "                                            master_geotransform,\n",
    "                                            master_spatial_reference_system)\n",
    "raster_rasterization_array = get_raster_array(raster_rasterization)\n",
    "\n",
    "scientific_targets_array[raster_rasterization_array == 0] = 0"
   ]
  },
  {
   "cell_type": "code",
   "execution_count": 71,
   "metadata": {
    "collapsed": false
   },
   "outputs": [
    {
     "name": "stdout",
     "output_type": "stream",
     "text": [
      "CPU times: user 9min 40s, sys: 9.94 s, total: 9min 50s\n",
      "Wall time: 9min 40s\n"
     ]
    }
   ],
   "source": [
    "%%time\n",
    "\n",
    "traverse_array = run_fast_marching(raster_rasterization_array,\n",
    "                                   raster_rover_speed_array,\n",
    "                                   longitude_array,\n",
    "                                   latitude_array,\n",
    "                                   mars_radius)"
   ]
  },
  {
   "cell_type": "markdown",
   "metadata": {},
   "source": [
    "Export the map to a .tif file."
   ]
  },
  {
   "cell_type": "code",
   "execution_count": 72,
   "metadata": {
    "collapsed": true
   },
   "outputs": [],
   "source": [
    "data_name = 'Open_Basin_Lakes'\n",
    "\n",
    "file_path = base_folder + output_folder + 'Interpreted_Data_Traverse_to_' + data_name + speed_affix + '.tif'\n",
    "raster_traverse = create_raster_from_array(traverse_array,           \n",
    "                                           master_geotransform, \n",
    "                                           master_projection,\n",
    "                                           file_type = 'GTiff',\n",
    "                                           file_path = file_path)\n",
    "raster_traverse = None"
   ]
  },
  {
   "cell_type": "markdown",
   "metadata": {},
   "source": [
    "**Impact crater-hosted closed-basin lakes**\n",
    "\n",
    "https://planetarydatabase.wordpress.com/2016/04/21/candidate-impact-crater-hosted-closed-basin-lakes-on-mars"
   ]
  },
  {
   "cell_type": "markdown",
   "metadata": {},
   "source": [
    "Rasterize the initial vector data at 20 ppd and perform the fast marching."
   ]
  },
  {
   "cell_type": "code",
   "execution_count": 73,
   "metadata": {
    "collapsed": true
   },
   "outputs": [],
   "source": [
    "closed_basin_lakes = pd.read_excel(base_folder + 'Original_Data/Interpreted_Data/idpf-9-23-2016-excel97.xls',\n",
    "                                   sheetname = 'Closed basin (Goudge et al2015)')"
   ]
  },
  {
   "cell_type": "code",
   "execution_count": 74,
   "metadata": {
    "collapsed": true
   },
   "outputs": [],
   "source": [
    "data_type = gdal.GDT_Int32\n",
    "\n",
    "shapes = []\n",
    "for index, row in closed_basin_lakes.iterrows():\n",
    "    feature_geometry = Point(row['Lon E 180'], row['Lat (N)'])\n",
    "    shapes.append(feature_geometry)\n",
    "\n",
    "raster_rasterization = rasterize_geometries(shapes, \n",
    "                                            data_type,\n",
    "                                            master_width, \n",
    "                                            master_height,\n",
    "                                            master_geotransform,\n",
    "                                            master_spatial_reference_system)\n",
    "raster_rasterization_array = get_raster_array(raster_rasterization)\n",
    "\n",
    "scientific_targets_array[raster_rasterization_array == 0] = 0"
   ]
  },
  {
   "cell_type": "code",
   "execution_count": 75,
   "metadata": {
    "collapsed": false
   },
   "outputs": [
    {
     "name": "stdout",
     "output_type": "stream",
     "text": [
      "CPU times: user 9min 17s, sys: 14.6 s, total: 9min 32s\n",
      "Wall time: 9min 15s\n"
     ]
    }
   ],
   "source": [
    "%%time\n",
    "\n",
    "traverse_array = run_fast_marching(raster_rasterization_array,\n",
    "                                   raster_rover_speed_array,\n",
    "                                   longitude_array,\n",
    "                                   latitude_array,\n",
    "                                   mars_radius)"
   ]
  },
  {
   "cell_type": "markdown",
   "metadata": {},
   "source": [
    "Export the map to a .tif file."
   ]
  },
  {
   "cell_type": "code",
   "execution_count": 76,
   "metadata": {
    "collapsed": true
   },
   "outputs": [],
   "source": [
    "data_name = 'Closed_Basin_Lakes'\n",
    "\n",
    "file_path = base_folder + output_folder + 'Interpreted_Data_Traverse_to_' + data_name + speed_affix + '.tif'\n",
    "raster_traverse = create_raster_from_array(traverse_array,           \n",
    "                                           master_geotransform, \n",
    "                                           master_projection,\n",
    "                                           file_type = 'GTiff',\n",
    "                                           file_path = file_path)\n",
    "raster_traverse = None"
   ]
  },
  {
   "cell_type": "markdown",
   "metadata": {},
   "source": [
    "**Channels not interpreted as valley networks**\n",
    "\n",
    "ftp://pdsimage2.wr.usgs.gov/pub/pigpen/mars/geology"
   ]
  },
  {
   "cell_type": "markdown",
   "metadata": {},
   "source": [
    "We first intersect the channels from the geological maps of Mars with the valley networks, to avoid redundancy, and because the valley networks were interpreted from higher-resolution data."
   ]
  },
  {
   "cell_type": "code",
   "execution_count": 77,
   "metadata": {
    "collapsed": false
   },
   "outputs": [
    {
     "name": "stdout",
     "output_type": "stream",
     "text": [
      " _______________________________________________________________________________\n",
      "/ Shapefile field names:\n",
      "| \n",
      "| tot_length \n",
      "\\_______________________________________________________________________________\n"
     ]
    }
   ],
   "source": [
    "shapefile_valley_networks = open_shapefile(base_folder + 'Original_Data/Interpreted_Data/Hynek_VNs/Hynek_Valley_Networks.shp')\n",
    "\n",
    "print_shapefile_field_names(shapefile_valley_networks)"
   ]
  },
  {
   "cell_type": "code",
   "execution_count": 78,
   "metadata": {
    "collapsed": true
   },
   "outputs": [],
   "source": [
    "raster_topo = open_raster(base_folder + 'Original_Data/MGS/MOLA/Mars_MGS_MOLA_DEM_mosaic_global_463m.tif')\n",
    "x_min, x_max, y_min, y_max = get_raster_extent(raster_topo)\n",
    "\n",
    "shapefile_valley_networks = modify_shapefile_extent(shapefile_valley_networks, \n",
    "                                                    x_min, x_max, y_min, y_max, \n",
    "                                                    master_lon_min, master_lon_max, master_lat_min, master_lat_max,\n",
    "                                                    geom_type = ogr.wkbLineString)"
   ]
  },
  {
   "cell_type": "code",
   "execution_count": 79,
   "metadata": {
    "collapsed": true
   },
   "outputs": [],
   "source": [
    "shapefile_valley_networks = buffer_shapefile(shapefile_valley_networks, 0.001)"
   ]
  },
  {
   "cell_type": "code",
   "execution_count": 80,
   "metadata": {
    "collapsed": false
   },
   "outputs": [
    {
     "name": "stdout",
     "output_type": "stream",
     "text": [
      " _______________________________________________________________________________\n",
      "/ Shapefile field names:\n",
      "| \n",
      "\n",
      "\\_______________________________________________________________________________\n",
      " _______________________________________________________________________________\n",
      "/ Shapefile field names:\n",
      "| \n",
      "| Shape_Leng \n",
      "\\_______________________________________________________________________________\n"
     ]
    }
   ],
   "source": [
    "shapefile_channels = filter_shapefile(shapefile_structures,\n",
    "                                      'Interpreta', \n",
    "                                      ['Channel axis'])\n",
    "print_shapefile_field_names(shapefile_channels)\n",
    "\n",
    "shapefile_channels_part2 = open_shapefile(base_folder + 'Original_Data/Interpreted_Data/NPlains_geology_SIM2888_2005/SIM2888_mar06_preliminary/shapefiles/SIM2888_Mars2000_Sphere/SIM2888_channels_ocentric.shp')\n",
    "print_shapefile_field_names(shapefile_channels_part2)"
   ]
  },
  {
   "cell_type": "code",
   "execution_count": 81,
   "metadata": {
    "collapsed": false
   },
   "outputs": [
    {
     "name": "stdout",
     "output_type": "stream",
     "text": [
      "CPU times: user 2min 52s, sys: 68.3 ms, total: 2min 52s\n",
      "Wall time: 2min 52s\n"
     ]
    }
   ],
   "source": [
    "%%time\n",
    "\n",
    "shapefile_channels = get_intersected_features_from_shapefile(shapefile_channels,\n",
    "                                                             shapefile_valley_networks,\n",
    "                                                             look_for_intersection = False)\n",
    "\n",
    "shapefile_channels_part2 = get_intersected_features_from_shapefile(shapefile_channels_part2,\n",
    "                                                                   shapefile_valley_networks,\n",
    "                                                                   look_for_intersection = False)"
   ]
  },
  {
   "cell_type": "markdown",
   "metadata": {},
   "source": [
    "Rasterize the initial vector data at 20 ppd and perform the fast marching."
   ]
  },
  {
   "cell_type": "code",
   "execution_count": 82,
   "metadata": {
    "collapsed": true
   },
   "outputs": [],
   "source": [
    "projection = shapefile_channels.GetLayer().GetSpatialRef().ExportToWkt()\n",
    "data_type = gdal.GDT_Int32\n",
    "\n",
    "raster_rasterization = rasterize_shapefile(shapefile_channels, \n",
    "                                           None,\n",
    "                                           data_type,\n",
    "                                           master_width, \n",
    "                                           master_height,                    \n",
    "                                           master_geotransform, \n",
    "                                           projection)\n",
    "raster_rasterization_array = get_raster_array(raster_rasterization)\n",
    "\n",
    "projection = shapefile_channels_part2.GetLayer().GetSpatialRef().ExportToWkt()\n",
    "\n",
    "raster_rasterization_part2 = rasterize_shapefile(shapefile_channels_part2, \n",
    "                                                 None,\n",
    "                                                 data_type,\n",
    "                                                 master_width, \n",
    "                                                 master_height,                    \n",
    "                                                 master_geotransform, \n",
    "                                                 projection)\n",
    "raster_rasterization_part2_array = get_raster_array(raster_rasterization_part2)\n",
    "\n",
    "raster_rasterization_array[raster_rasterization_part2_array == 0] = 0\n",
    "\n",
    "scientific_targets_array[raster_rasterization_array == 0] = 0"
   ]
  },
  {
   "cell_type": "code",
   "execution_count": 83,
   "metadata": {
    "collapsed": false
   },
   "outputs": [
    {
     "name": "stdout",
     "output_type": "stream",
     "text": [
      "CPU times: user 9min 5s, sys: 13.9 s, total: 9min 19s\n",
      "Wall time: 9min 3s\n"
     ]
    }
   ],
   "source": [
    "%%time\n",
    "\n",
    "traverse_array = run_fast_marching(raster_rasterization_array,\n",
    "                                   raster_rover_speed_array,\n",
    "                                   longitude_array,\n",
    "                                   latitude_array,\n",
    "                                   mars_radius)"
   ]
  },
  {
   "cell_type": "markdown",
   "metadata": {},
   "source": [
    "Export the map to a .tif file."
   ]
  },
  {
   "cell_type": "code",
   "execution_count": 84,
   "metadata": {
    "collapsed": true
   },
   "outputs": [],
   "source": [
    "data_name = 'Channels_Not_Valleys'\n",
    "\n",
    "file_path = base_folder + output_folder + 'Interpreted_Data_Traverse_to_' + data_name + speed_affix + '.tif'\n",
    "raster_traverse = create_raster_from_array(traverse_array,           \n",
    "                                           master_geotransform, \n",
    "                                           master_projection,\n",
    "                                           file_type = 'GTiff',\n",
    "                                           file_path = file_path)\n",
    "raster_traverse = None"
   ]
  },
  {
   "cell_type": "markdown",
   "metadata": {},
   "source": [
    "**Outflow channels**\n",
    "\n",
    "ftp://pdsimage2.wr.usgs.gov/pub/pigpen/mars/geology"
   ]
  },
  {
   "cell_type": "markdown",
   "metadata": {},
   "source": [
    "Rasterize the initial vector data at 20 ppd and perform the fast marching."
   ]
  },
  {
   "cell_type": "code",
   "execution_count": 85,
   "metadata": {
    "collapsed": false
   },
   "outputs": [
    {
     "name": "stdout",
     "output_type": "stream",
     "text": [
      " _______________________________________________________________________________\n",
      "/ Shapefile field names:\n",
      "| \n",
      "\n",
      "\\_______________________________________________________________________________\n"
     ]
    }
   ],
   "source": [
    "shapefile_outflow_channels = filter_shapefile(shapefile_structures,\n",
    "                                              'Interpreta', \n",
    "                                              ['Outflow Channel'])\n",
    "print_shapefile_field_names(shapefile_outflow_channels)"
   ]
  },
  {
   "cell_type": "code",
   "execution_count": 86,
   "metadata": {
    "collapsed": true
   },
   "outputs": [],
   "source": [
    "projection = shapefile_outflow_channels.GetLayer().GetSpatialRef().ExportToWkt()\n",
    "data_type = gdal.GDT_Int32\n",
    "\n",
    "raster_rasterization = rasterize_shapefile(shapefile_outflow_channels, \n",
    "                                           None,\n",
    "                                           data_type,\n",
    "                                           master_width, \n",
    "                                           master_height,                    \n",
    "                                           master_geotransform, \n",
    "                                           projection)\n",
    "raster_rasterization_array = get_raster_array(raster_rasterization)\n",
    "\n",
    "scientific_targets_array[raster_rasterization_array == 0] = 0"
   ]
  },
  {
   "cell_type": "code",
   "execution_count": 87,
   "metadata": {
    "collapsed": false
   },
   "outputs": [
    {
     "name": "stdout",
     "output_type": "stream",
     "text": [
      "CPU times: user 8min 30s, sys: 13.9 s, total: 8min 44s\n",
      "Wall time: 8min 28s\n"
     ]
    }
   ],
   "source": [
    "%%time\n",
    "\n",
    "traverse_array = run_fast_marching(raster_rasterization_array,\n",
    "                                   raster_rover_speed_array,\n",
    "                                   longitude_array,\n",
    "                                   latitude_array,\n",
    "                                   mars_radius)"
   ]
  },
  {
   "cell_type": "markdown",
   "metadata": {},
   "source": [
    "Export the map to a .tif file."
   ]
  },
  {
   "cell_type": "code",
   "execution_count": 88,
   "metadata": {
    "collapsed": true
   },
   "outputs": [],
   "source": [
    "data_name = 'Outflow_Channels'\n",
    "\n",
    "file_path = base_folder + output_folder + 'Interpreted_Data_Traverse_to_' + data_name + speed_affix + '.tif'\n",
    "raster_traverse = create_raster_from_array(traverse_array,           \n",
    "                                           master_geotransform, \n",
    "                                           master_projection,\n",
    "                                           file_type = 'GTiff',\n",
    "                                           file_path = file_path)\n",
    "raster_traverse = None"
   ]
  },
  {
   "cell_type": "markdown",
   "metadata": {},
   "source": [
    "**Outflow channels and large valleys**\n",
    "\n",
    "Irwin and Grant (2009)"
   ]
  },
  {
   "cell_type": "markdown",
   "metadata": {},
   "source": [
    "Rasterize the initial vector data at 20 ppd and perform the fast marching."
   ]
  },
  {
   "cell_type": "code",
   "execution_count": 89,
   "metadata": {
    "collapsed": true
   },
   "outputs": [],
   "source": [
    "outflow_channels_large_valleys = get_latitude_longitude_from_csv_file(base_folder + 'Original_Data/Interpreted_Data/Outflow-Channels-Large-Valleys_Irwin-Grant-2009.csv',\n",
    "                                                                      longitude_column_index = 0, latitude_column_index = 1)"
   ]
  },
  {
   "cell_type": "code",
   "execution_count": 90,
   "metadata": {
    "collapsed": true
   },
   "outputs": [],
   "source": [
    "data_type = gdal.GDT_Int32\n",
    "\n",
    "shapes = []\n",
    "for i in range(len(outflow_channels_large_valleys[0])):\n",
    "    feature_geometry = Point(outflow_channels_large_valleys[0][i], outflow_channels_large_valleys[1][i])\n",
    "    shapes.append(feature_geometry)\n",
    "\n",
    "raster_rasterization = rasterize_geometries(shapes, \n",
    "                                            data_type,\n",
    "                                            master_width, \n",
    "                                            master_height,\n",
    "                                            master_geotransform,\n",
    "                                            master_spatial_reference_system)\n",
    "raster_rasterization_array = get_raster_array(raster_rasterization)\n",
    "\n",
    "scientific_targets_array[raster_rasterization_array == 0] = 0"
   ]
  },
  {
   "cell_type": "code",
   "execution_count": 91,
   "metadata": {
    "collapsed": false
   },
   "outputs": [
    {
     "name": "stdout",
     "output_type": "stream",
     "text": [
      "CPU times: user 8min 44s, sys: 15.2 s, total: 8min 59s\n",
      "Wall time: 8min 41s\n"
     ]
    }
   ],
   "source": [
    "%%time\n",
    "\n",
    "traverse_array = run_fast_marching(raster_rasterization_array,\n",
    "                                   raster_rover_speed_array,\n",
    "                                   longitude_array,\n",
    "                                   latitude_array,\n",
    "                                   mars_radius)"
   ]
  },
  {
   "cell_type": "markdown",
   "metadata": {},
   "source": [
    "Export the map to a .tif file."
   ]
  },
  {
   "cell_type": "code",
   "execution_count": 92,
   "metadata": {
    "collapsed": true
   },
   "outputs": [],
   "source": [
    "data_name = 'Outflow_Channels_Large_Valleys'\n",
    "\n",
    "file_path = base_folder + output_folder + 'Interpreted_Data_Traverse_to_' + data_name + speed_affix + '.tif'\n",
    "raster_traverse = create_raster_from_array(traverse_array,           \n",
    "                                           master_geotransform, \n",
    "                                           master_projection,\n",
    "                                           file_type = 'GTiff',\n",
    "                                           file_path = file_path)\n",
    "raster_traverse = None"
   ]
  },
  {
   "cell_type": "markdown",
   "metadata": {},
   "source": [
    "**Groundwater-controlled valley networks**\n",
    "\n",
    "https://planetarydatabase.wordpress.com/2016/04/21/groundwater-controlled-valley-networks-large-sparsely-dissecting-valley-networks-on-mars"
   ]
  },
  {
   "cell_type": "markdown",
   "metadata": {},
   "source": [
    "Rasterize the initial vector data at 20 ppd and perform the fast marching."
   ]
  },
  {
   "cell_type": "code",
   "execution_count": 93,
   "metadata": {
    "collapsed": true
   },
   "outputs": [],
   "source": [
    "groundwater_valley_networks = pd.read_excel(base_folder + 'Original_Data/Interpreted_Data/idpf-9-23-2016-excel97.xls',\n",
    "                                            sheetname = 'Sparse valley Harrison Grimm 20')"
   ]
  },
  {
   "cell_type": "code",
   "execution_count": 94,
   "metadata": {
    "collapsed": true
   },
   "outputs": [],
   "source": [
    "data_type = gdal.GDT_Int32\n",
    "\n",
    "shapes = []\n",
    "for index, row in groundwater_valley_networks.iterrows():\n",
    "    feature_geometry = Point(row['Lon E 180'], row['Lat'])\n",
    "    shapes.append(feature_geometry)\n",
    "\n",
    "raster_rasterization = rasterize_geometries(shapes, \n",
    "                                            data_type,\n",
    "                                            master_width, \n",
    "                                            master_height,\n",
    "                                            master_geotransform,\n",
    "                                            master_spatial_reference_system)\n",
    "raster_rasterization_array = get_raster_array(raster_rasterization)\n",
    "\n",
    "scientific_targets_array[raster_rasterization_array == 0] = 0"
   ]
  },
  {
   "cell_type": "code",
   "execution_count": 95,
   "metadata": {
    "collapsed": false
   },
   "outputs": [
    {
     "name": "stdout",
     "output_type": "stream",
     "text": [
      "CPU times: user 9min 53s, sys: 15.2 s, total: 10min 8s\n",
      "Wall time: 9min 51s\n"
     ]
    }
   ],
   "source": [
    "%%time\n",
    "\n",
    "traverse_array = run_fast_marching(raster_rasterization_array,\n",
    "                                   raster_rover_speed_array,\n",
    "                                   longitude_array,\n",
    "                                   latitude_array,\n",
    "                                   mars_radius)"
   ]
  },
  {
   "cell_type": "markdown",
   "metadata": {},
   "source": [
    "Export the map to a .tif file."
   ]
  },
  {
   "cell_type": "code",
   "execution_count": 96,
   "metadata": {
    "collapsed": true
   },
   "outputs": [],
   "source": [
    "data_name = 'Groundwater_Valley_Networks'\n",
    "\n",
    "file_path = base_folder + output_folder + 'Interpreted_Data_Traverse_to_' + data_name + speed_affix + '.tif'\n",
    "raster_traverse = create_raster_from_array(traverse_array,           \n",
    "                                           master_geotransform, \n",
    "                                           master_projection,\n",
    "                                           file_type = 'GTiff',\n",
    "                                           file_path = file_path)\n",
    "raster_traverse = None"
   ]
  },
  {
   "cell_type": "markdown",
   "metadata": {},
   "source": [
    "**Craters with sandbars**\n",
    "\n",
    "https://planetarydatabase.wordpress.com/2016/04/21/craters-with-sandbars/"
   ]
  },
  {
   "cell_type": "markdown",
   "metadata": {},
   "source": [
    "Rasterize the initial vector data at 20 ppd and perform the fast marching."
   ]
  },
  {
   "cell_type": "code",
   "execution_count": 97,
   "metadata": {
    "collapsed": true
   },
   "outputs": [],
   "source": [
    "craters_sandbars = pd.read_excel(base_folder + 'Original_Data/Interpreted_Data/idpf-9-23-2016-excel97.xls',\n",
    "                                 sheetname = 'CratersSandbars (Robbins..2012)')"
   ]
  },
  {
   "cell_type": "code",
   "execution_count": 98,
   "metadata": {
    "collapsed": true
   },
   "outputs": [],
   "source": [
    "data_type = gdal.GDT_Int32\n",
    "\n",
    "shapes = []\n",
    "for index, row in craters_sandbars.iterrows():\n",
    "    feature_geometry = Point(row['LONGITUDE_ 180'], row['LATITUDE_C'])\n",
    "    shapes.append(feature_geometry)\n",
    "\n",
    "raster_rasterization = rasterize_geometries(shapes, \n",
    "                                            data_type,\n",
    "                                            master_width, \n",
    "                                            master_height,\n",
    "                                            master_geotransform,\n",
    "                                            master_spatial_reference_system)\n",
    "raster_rasterization_array = get_raster_array(raster_rasterization)\n",
    "\n",
    "scientific_targets_array[raster_rasterization_array == 0] = 0"
   ]
  },
  {
   "cell_type": "code",
   "execution_count": 99,
   "metadata": {
    "collapsed": false
   },
   "outputs": [
    {
     "name": "stdout",
     "output_type": "stream",
     "text": [
      "CPU times: user 8min 31s, sys: 16.4 s, total: 8min 48s\n",
      "Wall time: 8min 29s\n"
     ]
    }
   ],
   "source": [
    "%%time\n",
    "\n",
    "traverse_array = run_fast_marching(raster_rasterization_array,\n",
    "                                   raster_rover_speed_array,\n",
    "                                   longitude_array,\n",
    "                                   latitude_array,\n",
    "                                   mars_radius)"
   ]
  },
  {
   "cell_type": "markdown",
   "metadata": {},
   "source": [
    "Export the map to a .tif file."
   ]
  },
  {
   "cell_type": "code",
   "execution_count": 100,
   "metadata": {
    "collapsed": true
   },
   "outputs": [],
   "source": [
    "data_name = 'Craters_Sandbars'\n",
    "\n",
    "file_path = base_folder + output_folder + 'Interpreted_Data_Traverse_to_' + data_name + speed_affix + '.tif'\n",
    "raster_traverse = create_raster_from_array(traverse_array,           \n",
    "                                           master_geotransform, \n",
    "                                           master_projection,\n",
    "                                           file_type = 'GTiff',\n",
    "                                           file_path = file_path)\n",
    "raster_traverse = None"
   ]
  },
  {
   "cell_type": "markdown",
   "metadata": {},
   "source": [
    "**Crater-floor landslide deposits**\n",
    "\n",
    "http://craters.sjrdesign.net/"
   ]
  },
  {
   "cell_type": "markdown",
   "metadata": {},
   "source": [
    "Rasterize the initial vector data at 20 ppd and perform the fast marching."
   ]
  },
  {
   "cell_type": "code",
   "execution_count": 101,
   "metadata": {
    "collapsed": true
   },
   "outputs": [],
   "source": [
    "data_type = gdal.GDT_Int32\n",
    "\n",
    "shapes = []\n",
    "for crater in zip(*mars_craters):\n",
    "    if 'Landslide Deposits' in crater[5]:\n",
    "        feature_geometry = Point(crater[0], crater[1])\n",
    "        shapes.append(feature_geometry)\n",
    "\n",
    "raster_rasterization = rasterize_geometries(shapes, \n",
    "                                            data_type,\n",
    "                                            master_width, \n",
    "                                            master_height,\n",
    "                                            master_geotransform,\n",
    "                                            master_spatial_reference_system)\n",
    "raster_rasterization_array = get_raster_array(raster_rasterization)\n",
    "\n",
    "scientific_targets_array[raster_rasterization_array == 0] = 0"
   ]
  },
  {
   "cell_type": "code",
   "execution_count": 102,
   "metadata": {
    "collapsed": false
   },
   "outputs": [
    {
     "name": "stdout",
     "output_type": "stream",
     "text": [
      "CPU times: user 9min 5s, sys: 15.2 s, total: 9min 21s\n",
      "Wall time: 9min 3s\n"
     ]
    }
   ],
   "source": [
    "%%time\n",
    "\n",
    "traverse_array = run_fast_marching(raster_rasterization_array,\n",
    "                                   raster_rover_speed_array,\n",
    "                                   longitude_array,\n",
    "                                   latitude_array,\n",
    "                                   mars_radius)"
   ]
  },
  {
   "cell_type": "markdown",
   "metadata": {},
   "source": [
    "Export the map to a .tif file."
   ]
  },
  {
   "cell_type": "code",
   "execution_count": 103,
   "metadata": {
    "collapsed": true
   },
   "outputs": [],
   "source": [
    "data_name = 'Crater_Floor_Landslide_Deposits'\n",
    "\n",
    "file_path = base_folder + output_folder + 'Interpreted_Data_Traverse_to_' + data_name + speed_affix + '.tif'\n",
    "raster_traverse = create_raster_from_array(traverse_array,           \n",
    "                                           master_geotransform, \n",
    "                                           master_projection,\n",
    "                                           file_type = 'GTiff',\n",
    "                                           file_path = file_path)\n",
    "raster_traverse = None"
   ]
  },
  {
   "cell_type": "markdown",
   "metadata": {},
   "source": [
    "**Gullies**\n",
    "\n",
    "https://planetarydatabase.wordpress.com/2016/04/21/gullied-landforms-on-mars"
   ]
  },
  {
   "cell_type": "markdown",
   "metadata": {},
   "source": [
    "Rasterize the initial vector data at 20 ppd and perform the fast marching."
   ]
  },
  {
   "cell_type": "code",
   "execution_count": 104,
   "metadata": {
    "collapsed": true
   },
   "outputs": [],
   "source": [
    "gullies = pd.read_excel(base_folder + 'Original_Data/Interpreted_Data/idpf-9-23-2016-excel97.xls',\n",
    "                        sheetname = 'Gully (Harrison et al. 2015)')"
   ]
  },
  {
   "cell_type": "code",
   "execution_count": 105,
   "metadata": {
    "collapsed": true
   },
   "outputs": [],
   "source": [
    "data_type = gdal.GDT_Int32\n",
    "\n",
    "shapes = []\n",
    "for index, row in gullies.iterrows():\n",
    "    feature_geometry = Point(row['longitude 180'], row['latitude'])\n",
    "    shapes.append(feature_geometry)\n",
    "\n",
    "raster_rasterization = rasterize_geometries(shapes, \n",
    "                                            data_type,\n",
    "                                            master_width, \n",
    "                                            master_height,\n",
    "                                            master_geotransform,\n",
    "                                            master_spatial_reference_system)\n",
    "raster_rasterization_array = get_raster_array(raster_rasterization)\n",
    "\n",
    "scientific_targets_array[raster_rasterization_array == 0] = 0"
   ]
  },
  {
   "cell_type": "code",
   "execution_count": 106,
   "metadata": {
    "collapsed": false
   },
   "outputs": [
    {
     "name": "stdout",
     "output_type": "stream",
     "text": [
      "CPU times: user 9min 50s, sys: 13.3 s, total: 10min 3s\n",
      "Wall time: 9min 49s\n"
     ]
    }
   ],
   "source": [
    "%%time\n",
    "\n",
    "traverse_array = run_fast_marching(raster_rasterization_array,\n",
    "                                   raster_rover_speed_array,\n",
    "                                   longitude_array,\n",
    "                                   latitude_array,\n",
    "                                   mars_radius)"
   ]
  },
  {
   "cell_type": "markdown",
   "metadata": {},
   "source": [
    "Export the map to a .tif file."
   ]
  },
  {
   "cell_type": "code",
   "execution_count": 107,
   "metadata": {
    "collapsed": true
   },
   "outputs": [],
   "source": [
    "data_name = 'Gullies'\n",
    "\n",
    "file_path = base_folder + output_folder + 'Interpreted_Data_Traverse_to_' + data_name + speed_affix + '.tif'\n",
    "raster_traverse = create_raster_from_array(traverse_array,           \n",
    "                                           master_geotransform, \n",
    "                                           master_projection,\n",
    "                                           file_type = 'GTiff',\n",
    "                                           file_path = file_path)\n",
    "raster_traverse = None"
   ]
  },
  {
   "cell_type": "markdown",
   "metadata": {},
   "source": [
    "**Recurring Slope Lineae**\n",
    "\n",
    "https://planetarydatabase.wordpress.com/2016/04/21/recurring-slope-lineae-on-mars"
   ]
  },
  {
   "cell_type": "markdown",
   "metadata": {},
   "source": [
    "Rasterize the initial vector data at 20 ppd and perform the fast marching."
   ]
  },
  {
   "cell_type": "code",
   "execution_count": 108,
   "metadata": {
    "collapsed": true
   },
   "outputs": [],
   "source": [
    "rsl = pd.read_excel(base_folder + 'Original_Data/Interpreted_Data/idpf-9-23-2016-excel97.xls',\n",
    "                    sheetname = 'RSL (OjhaMcEwenStillman)')"
   ]
  },
  {
   "cell_type": "code",
   "execution_count": 109,
   "metadata": {
    "collapsed": true
   },
   "outputs": [],
   "source": [
    "data_type = gdal.GDT_Int32\n",
    "\n",
    "shapes = []\n",
    "for index, row in rsl.iterrows():\n",
    "    feature_geometry = Point(row['Lon E 180'], row['Lat'])\n",
    "    shapes.append(feature_geometry)\n",
    "\n",
    "raster_rasterization = rasterize_geometries(shapes, \n",
    "                                            data_type,\n",
    "                                            master_width, \n",
    "                                            master_height,\n",
    "                                            master_geotransform,\n",
    "                                            master_spatial_reference_system)\n",
    "raster_rasterization_array = get_raster_array(raster_rasterization)\n",
    "\n",
    "scientific_targets_array[raster_rasterization_array == 0] = 0"
   ]
  },
  {
   "cell_type": "code",
   "execution_count": 110,
   "metadata": {
    "collapsed": false
   },
   "outputs": [
    {
     "name": "stdout",
     "output_type": "stream",
     "text": [
      "CPU times: user 8min 50s, sys: 9.97 s, total: 9min\n",
      "Wall time: 8min 48s\n"
     ]
    }
   ],
   "source": [
    "%%time\n",
    "\n",
    "traverse_array = run_fast_marching(raster_rasterization_array,\n",
    "                                   raster_rover_speed_array,\n",
    "                                   longitude_array,\n",
    "                                   latitude_array,\n",
    "                                   mars_radius)"
   ]
  },
  {
   "cell_type": "markdown",
   "metadata": {},
   "source": [
    "Export the map to a .tif file."
   ]
  },
  {
   "cell_type": "code",
   "execution_count": 111,
   "metadata": {
    "collapsed": true
   },
   "outputs": [],
   "source": [
    "data_name = 'RSL'\n",
    "\n",
    "file_path = base_folder + output_folder + 'Interpreted_Data_Traverse_to_' + data_name + speed_affix + '.tif'\n",
    "raster_traverse = create_raster_from_array(traverse_array,           \n",
    "                                           master_geotransform, \n",
    "                                           master_projection,\n",
    "                                           file_type = 'GTiff',\n",
    "                                           file_path = file_path)\n",
    "raster_traverse = None"
   ]
  },
  {
   "cell_type": "markdown",
   "metadata": {},
   "source": [
    "**Slope streaks**\n",
    "\n",
    "https://planetarydatabase.wordpress.com/2016/04/21/slope-streaks-bright-and-dark-on-mars"
   ]
  },
  {
   "cell_type": "markdown",
   "metadata": {},
   "source": [
    "Rasterize the initial vector data at 20 ppd and perform the fast marching."
   ]
  },
  {
   "cell_type": "code",
   "execution_count": 112,
   "metadata": {
    "collapsed": true
   },
   "outputs": [],
   "source": [
    "slope_streaks = pd.read_excel(base_folder + 'Original_Data/Interpreted_Data/idpf-9-23-2016-excel97.xls',\n",
    "                              sheetname = 'SlopeStreak (Schorghofer..2007)')"
   ]
  },
  {
   "cell_type": "code",
   "execution_count": 113,
   "metadata": {
    "collapsed": true
   },
   "outputs": [],
   "source": [
    "data_type = gdal.GDT_Int32\n",
    "\n",
    "shapes = []\n",
    "for index, row in slope_streaks.iterrows():\n",
    "    if pd.isnull(row['MOC NA image ID']) == False:\n",
    "        feature_geometry = Point(row['Lon E 180'], row['Lat planetographic !'])\n",
    "        shapes.append(feature_geometry)\n",
    "\n",
    "raster_rasterization = rasterize_geometries(shapes, \n",
    "                                            data_type,\n",
    "                                            master_width, \n",
    "                                            master_height,\n",
    "                                            master_geotransform,\n",
    "                                            master_spatial_reference_system)\n",
    "raster_rasterization_array = get_raster_array(raster_rasterization)\n",
    "\n",
    "scientific_targets_array[raster_rasterization_array == 0] = 0"
   ]
  },
  {
   "cell_type": "code",
   "execution_count": 114,
   "metadata": {
    "collapsed": false
   },
   "outputs": [
    {
     "name": "stdout",
     "output_type": "stream",
     "text": [
      "CPU times: user 8min 37s, sys: 11.4 s, total: 8min 49s\n",
      "Wall time: 8min 35s\n"
     ]
    }
   ],
   "source": [
    "%%time\n",
    "\n",
    "traverse_array = run_fast_marching(raster_rasterization_array,\n",
    "                                   raster_rover_speed_array,\n",
    "                                   longitude_array,\n",
    "                                   latitude_array,\n",
    "                                   mars_radius)"
   ]
  },
  {
   "cell_type": "markdown",
   "metadata": {},
   "source": [
    "Export the map to a .tif file."
   ]
  },
  {
   "cell_type": "code",
   "execution_count": 115,
   "metadata": {
    "collapsed": true
   },
   "outputs": [],
   "source": [
    "data_name = 'Slope_Streaks'\n",
    "\n",
    "file_path = base_folder + output_folder + 'Interpreted_Data_Traverse_to_' + data_name + speed_affix + '.tif'\n",
    "raster_traverse = create_raster_from_array(traverse_array,           \n",
    "                                           master_geotransform, \n",
    "                                           master_projection,\n",
    "                                           file_type = 'GTiff',\n",
    "                                           file_path = file_path)\n",
    "raster_traverse = None"
   ]
  },
  {
   "cell_type": "markdown",
   "metadata": {},
   "source": [
    "**Glacial features**\n",
    "\n",
    "https://planetarydatabase.wordpress.com/2016/04/21/first-blog-post"
   ]
  },
  {
   "cell_type": "markdown",
   "metadata": {},
   "source": [
    "Rasterize the initial vector data at 20 ppd and perform the fast marching."
   ]
  },
  {
   "cell_type": "code",
   "execution_count": 116,
   "metadata": {
    "collapsed": false
   },
   "outputs": [
    {
     "name": "stdout",
     "output_type": "stream",
     "text": [
      " _______________________________________________________________________________\n",
      "/ Shapefile field names:\n",
      "| \n",
      "| code \n",
      "\\_______________________________________________________________________________\n"
     ]
    }
   ],
   "source": [
    "shapefile_glacial_features = open_shapefile(base_folder + 'Original_Data/Interpreted_Data/glacial features/AreaIceUnits.shp')\n",
    "\n",
    "print_shapefile_field_names(shapefile_glacial_features)"
   ]
  },
  {
   "cell_type": "code",
   "execution_count": 117,
   "metadata": {
    "collapsed": false
   },
   "outputs": [
    {
     "name": "stdout",
     "output_type": "stream",
     "text": [
      "(-10668777.765116848, 10666342.399609, -3390990.841498883, 3889734.7697941484)\n",
      "(-10669675.197320545, 10669675.197320545, -5334837.598660273, 5334837.598660273)\n"
     ]
    }
   ],
   "source": [
    "print(shapefile_glacial_features.GetLayer().GetExtent())\n",
    "\n",
    "raster_topo = open_raster(base_folder + 'Original_Data/MGS/MOLA/Mars_MGS_MOLA_DEM_mosaic_global_463m.tif')\n",
    "print(get_raster_extent(raster_topo))"
   ]
  },
  {
   "cell_type": "code",
   "execution_count": 118,
   "metadata": {
    "collapsed": false
   },
   "outputs": [
    {
     "name": "stdout",
     "output_type": "stream",
     "text": [
      "(-10337000.766550215, 10320277.366507426, -2614890.368206277, 2918187.2967245)\n"
     ]
    }
   ],
   "source": [
    "x_min, x_max, y_min, y_max = get_raster_extent(raster_topo)\n",
    "\n",
    "shapefile_glacial_features = modify_shapefile_extent(shapefile_glacial_features, \n",
    "                                                     x_min, x_max, y_min, y_max, \n",
    "                                                     master_lon_min, master_lon_max, master_lat_min, master_lat_max)\n",
    "print(shapefile_glacial_features.GetLayer().GetExtent())\n",
    "\n",
    "projection = shapefile_glacial_features.GetLayer().GetSpatialRef().ExportToWkt()\n",
    "data_type = gdal.GDT_Int32\n",
    "\n",
    "raster_rasterization = rasterize_shapefile(shapefile_glacial_features, \n",
    "                                           None,\n",
    "                                           data_type,\n",
    "                                           master_width, \n",
    "                                           master_height,                    \n",
    "                                           master_geotransform, \n",
    "                                           projection)\n",
    "raster_rasterization_array = get_raster_array(raster_rasterization)\n",
    "\n",
    "scientific_targets_array[raster_rasterization_array == 0] = 0"
   ]
  },
  {
   "cell_type": "code",
   "execution_count": 119,
   "metadata": {
    "collapsed": false
   },
   "outputs": [
    {
     "name": "stdout",
     "output_type": "stream",
     "text": [
      "CPU times: user 9min 34s, sys: 11.9 s, total: 9min 46s\n",
      "Wall time: 9min 32s\n"
     ]
    }
   ],
   "source": [
    "%%time\n",
    "\n",
    "traverse_array = run_fast_marching(raster_rasterization_array,\n",
    "                                   raster_rover_speed_array,\n",
    "                                   longitude_array,\n",
    "                                   latitude_array,\n",
    "                                   mars_radius)"
   ]
  },
  {
   "cell_type": "markdown",
   "metadata": {},
   "source": [
    "Export the map to a .tif file."
   ]
  },
  {
   "cell_type": "code",
   "execution_count": 120,
   "metadata": {
    "collapsed": true
   },
   "outputs": [],
   "source": [
    "data_name = 'Glacial_Features'\n",
    "\n",
    "file_path = base_folder + output_folder + 'Interpreted_Data_Traverse_to_' + data_name + speed_affix + '.tif'\n",
    "raster_traverse = create_raster_from_array(traverse_array,           \n",
    "                                           master_geotransform, \n",
    "                                           master_projection,\n",
    "                                           file_type = 'GTiff',\n",
    "                                           file_path = file_path)\n",
    "raster_traverse = None"
   ]
  },
  {
   "cell_type": "markdown",
   "metadata": {},
   "source": [
    "**Glacier-like forms**\n",
    "\n",
    "https://planetarydatabase.wordpress.com/2016/04/21/glacier-like-forms"
   ]
  },
  {
   "cell_type": "markdown",
   "metadata": {},
   "source": [
    "Rasterize the initial vector data at 20 ppd and perform the fast marching."
   ]
  },
  {
   "cell_type": "code",
   "execution_count": 121,
   "metadata": {
    "collapsed": true
   },
   "outputs": [],
   "source": [
    "glacier_like_forms = pd.read_excel(base_folder + 'Original_Data/Interpreted_Data/idpf-9-23-2016-excel97.xls',\n",
    "                                   sheetname = 'GLF Souness et al. 2012')"
   ]
  },
  {
   "cell_type": "code",
   "execution_count": 122,
   "metadata": {
    "collapsed": true
   },
   "outputs": [],
   "source": [
    "data_type = gdal.GDT_Int32\n",
    "\n",
    "shapes = []\n",
    "for index, row in glacier_like_forms.iterrows():\n",
    "    if pd.isnull(row['Centre lon. (deg. East)']) == False:\n",
    "        longitude = float(row['Centre lon. (deg. East)'])\n",
    "        if longitude > 180.:\n",
    "            longitude -= 360.\n",
    "        feature_geometry = Point(longitude, float(row['Centre .Lat']))\n",
    "        shapes.append(feature_geometry)\n",
    "\n",
    "raster_rasterization = rasterize_geometries(shapes, \n",
    "                                            data_type,\n",
    "                                            master_width, \n",
    "                                            master_height,\n",
    "                                            master_geotransform,\n",
    "                                            master_spatial_reference_system)\n",
    "raster_rasterization_array = get_raster_array(raster_rasterization)\n",
    "\n",
    "scientific_targets_array[raster_rasterization_array == 0] = 0"
   ]
  },
  {
   "cell_type": "code",
   "execution_count": 123,
   "metadata": {
    "collapsed": false
   },
   "outputs": [
    {
     "name": "stdout",
     "output_type": "stream",
     "text": [
      "CPU times: user 9min 1s, sys: 11.4 s, total: 9min 12s\n",
      "Wall time: 8min 59s\n"
     ]
    }
   ],
   "source": [
    "%%time\n",
    "\n",
    "traverse_array = run_fast_marching(raster_rasterization_array,\n",
    "                                   raster_rover_speed_array,\n",
    "                                   longitude_array,\n",
    "                                   latitude_array,\n",
    "                                   mars_radius)"
   ]
  },
  {
   "cell_type": "markdown",
   "metadata": {},
   "source": [
    "Export the map to a .tif file."
   ]
  },
  {
   "cell_type": "code",
   "execution_count": 124,
   "metadata": {
    "collapsed": true
   },
   "outputs": [],
   "source": [
    "data_name = 'Glacier_like_Forms'\n",
    "\n",
    "file_path = base_folder + output_folder + 'Interpreted_Data_Traverse_to_' + data_name + speed_affix + '.tif'\n",
    "raster_traverse = create_raster_from_array(traverse_array,           \n",
    "                                           master_geotransform, \n",
    "                                           master_projection,\n",
    "                                           file_type = 'GTiff',\n",
    "                                           file_path = file_path)\n",
    "raster_traverse = None"
   ]
  },
  {
   "cell_type": "markdown",
   "metadata": {},
   "source": [
    "**Crevassed glacier-like forms**\n",
    "\n",
    "https://planetarydatabase.wordpress.com/2016/04/21/crevassed-glacier-like-forms-on-mars"
   ]
  },
  {
   "cell_type": "markdown",
   "metadata": {},
   "source": [
    "Rasterize the initial vector data at 20 ppd and perform the fast marching."
   ]
  },
  {
   "cell_type": "code",
   "execution_count": 125,
   "metadata": {
    "collapsed": true
   },
   "outputs": [],
   "source": [
    "crevassed_glacier_like_forms = pd.read_excel(base_folder + 'Original_Data/Interpreted_Data/idpf-9-23-2016-excel97.xls',\n",
    "                                             sheetname = 'CrevassedGLF (Hubbard et al. 20')"
   ]
  },
  {
   "cell_type": "code",
   "execution_count": 126,
   "metadata": {
    "collapsed": true
   },
   "outputs": [],
   "source": [
    "data_type = gdal.GDT_Int32\n",
    "\n",
    "shapes = []\n",
    "for index, row in crevassed_glacier_like_forms.iterrows():\n",
    "    feature_geometry = Point(float(row['Lon 180 E centre']), float(row['Centre .Lat']))\n",
    "    shapes.append(feature_geometry)\n",
    "\n",
    "raster_rasterization = rasterize_geometries(shapes, \n",
    "                                            data_type,\n",
    "                                            master_width, \n",
    "                                            master_height,\n",
    "                                            master_geotransform,\n",
    "                                            master_spatial_reference_system)\n",
    "raster_rasterization_array = get_raster_array(raster_rasterization)\n",
    "\n",
    "scientific_targets_array[raster_rasterization_array == 0] = 0"
   ]
  },
  {
   "cell_type": "code",
   "execution_count": 127,
   "metadata": {
    "collapsed": false
   },
   "outputs": [
    {
     "name": "stdout",
     "output_type": "stream",
     "text": [
      "CPU times: user 8min 53s, sys: 11.1 s, total: 9min 4s\n",
      "Wall time: 8min 51s\n"
     ]
    }
   ],
   "source": [
    "%%time\n",
    "\n",
    "traverse_array = run_fast_marching(raster_rasterization_array,\n",
    "                                   raster_rover_speed_array,\n",
    "                                   longitude_array,\n",
    "                                   latitude_array,\n",
    "                                   mars_radius)"
   ]
  },
  {
   "cell_type": "markdown",
   "metadata": {},
   "source": [
    "Export the map to a .tif file."
   ]
  },
  {
   "cell_type": "code",
   "execution_count": 128,
   "metadata": {
    "collapsed": true
   },
   "outputs": [],
   "source": [
    "data_name = 'Crevassed_Glacier_like_Forms'\n",
    "\n",
    "file_path = base_folder + output_folder + 'Interpreted_Data_Traverse_to_' + data_name + speed_affix + '.tif'\n",
    "raster_traverse = create_raster_from_array(traverse_array,           \n",
    "                                           master_geotransform, \n",
    "                                           master_projection,\n",
    "                                           file_type = 'GTiff',\n",
    "                                           file_path = file_path)\n",
    "raster_traverse = None"
   ]
  },
  {
   "cell_type": "markdown",
   "metadata": {},
   "source": [
    "**Recessional glacier-like forms**\n",
    "\n",
    "https://planetarydatabase.wordpress.com/2016/04/26/recessional-glacier-like-forms"
   ]
  },
  {
   "cell_type": "markdown",
   "metadata": {},
   "source": [
    "Rasterize the initial vector data at 20 ppd and perform the fast marching."
   ]
  },
  {
   "cell_type": "code",
   "execution_count": 129,
   "metadata": {
    "collapsed": true
   },
   "outputs": [],
   "source": [
    "recessional_glacier_like_forms = pd.read_excel(base_folder + 'Original_Data/Interpreted_Data/idpf-9-23-2016-excel97.xls',\n",
    "                                               sheetname = 'Recessional GLF')"
   ]
  },
  {
   "cell_type": "code",
   "execution_count": 130,
   "metadata": {
    "collapsed": true
   },
   "outputs": [],
   "source": [
    "data_type = gdal.GDT_Int32\n",
    "\n",
    "shapes = []\n",
    "for index, row in recessional_glacier_like_forms.iterrows():\n",
    "    feature_geometry = Point(float(row['Centre lon. (deg. east) 180']), float(row['Centre lat.']))\n",
    "    shapes.append(feature_geometry)\n",
    "\n",
    "raster_rasterization = rasterize_geometries(shapes, \n",
    "                                            data_type,\n",
    "                                            master_width, \n",
    "                                            master_height,\n",
    "                                            master_geotransform,\n",
    "                                            master_spatial_reference_system)\n",
    "raster_rasterization_array = get_raster_array(raster_rasterization)\n",
    "\n",
    "scientific_targets_array[raster_rasterization_array == 0] = 0"
   ]
  },
  {
   "cell_type": "code",
   "execution_count": 131,
   "metadata": {
    "collapsed": false
   },
   "outputs": [
    {
     "name": "stdout",
     "output_type": "stream",
     "text": [
      "CPU times: user 8min 53s, sys: 10.7 s, total: 9min 3s\n",
      "Wall time: 8min 51s\n"
     ]
    }
   ],
   "source": [
    "%%time\n",
    "\n",
    "traverse_array = run_fast_marching(raster_rasterization_array,\n",
    "                                   raster_rover_speed_array,\n",
    "                                   longitude_array,\n",
    "                                   latitude_array,\n",
    "                                   mars_radius)"
   ]
  },
  {
   "cell_type": "markdown",
   "metadata": {},
   "source": [
    "Export the map to a .tif file."
   ]
  },
  {
   "cell_type": "code",
   "execution_count": 132,
   "metadata": {
    "collapsed": true
   },
   "outputs": [],
   "source": [
    "data_name = 'Recessional_Glacier_like_Forms'\n",
    "\n",
    "file_path = base_folder + output_folder + 'Interpreted_Data_Traverse_to_' + data_name + speed_affix + '.tif'\n",
    "raster_traverse = create_raster_from_array(traverse_array,           \n",
    "                                           master_geotransform, \n",
    "                                           master_projection,\n",
    "                                           file_type = 'GTiff',\n",
    "                                           file_path = file_path)\n",
    "raster_traverse = None"
   ]
  },
  {
   "cell_type": "markdown",
   "metadata": {},
   "source": [
    "**Tropical mountain glaciers**\n",
    "\n",
    "https://planetarydatabase.wordpress.com/2016/04/21/fan-shaped-deposits-interpeted-as-tropical-mountain-glaciers-on-mars"
   ]
  },
  {
   "cell_type": "markdown",
   "metadata": {},
   "source": [
    "Rasterize the initial vector data at 20 ppd and perform the fast marching."
   ]
  },
  {
   "cell_type": "code",
   "execution_count": 133,
   "metadata": {
    "collapsed": true
   },
   "outputs": [],
   "source": [
    "tropical_mountain_glaciers = pd.read_excel(base_folder + 'Original_Data/Interpreted_Data/idpf-9-23-2016-excel97.xls',\n",
    "                                           sheetname = 'TropGlac (Kadish et al. 2014)')"
   ]
  },
  {
   "cell_type": "code",
   "execution_count": 134,
   "metadata": {
    "collapsed": true
   },
   "outputs": [],
   "source": [
    "data_type = gdal.GDT_Int32\n",
    "\n",
    "shapes = []\n",
    "for index, row in tropical_mountain_glaciers.iterrows():\n",
    "    feature_geometry = Point(row['Lon E 180'], row['Lat'])\n",
    "    shapes.append(feature_geometry)\n",
    "\n",
    "raster_rasterization = rasterize_geometries(shapes, \n",
    "                                            data_type,\n",
    "                                            master_width, \n",
    "                                            master_height,\n",
    "                                            master_geotransform,\n",
    "                                            master_spatial_reference_system)\n",
    "raster_rasterization_array = get_raster_array(raster_rasterization)\n",
    "\n",
    "scientific_targets_array[raster_rasterization_array == 0] = 0"
   ]
  },
  {
   "cell_type": "code",
   "execution_count": 135,
   "metadata": {
    "collapsed": false
   },
   "outputs": [
    {
     "name": "stdout",
     "output_type": "stream",
     "text": [
      "CPU times: user 626 ms, sys: 145 ms, total: 771 ms\n",
      "Wall time: 769 ms\n"
     ]
    }
   ],
   "source": [
    "%%time\n",
    "\n",
    "traverse_array = run_fast_marching(raster_rasterization_array,\n",
    "                                   raster_rover_speed_array,\n",
    "                                   longitude_array,\n",
    "                                   latitude_array,\n",
    "                                   mars_radius)"
   ]
  },
  {
   "cell_type": "markdown",
   "metadata": {},
   "source": [
    "Export the map to a .tif file."
   ]
  },
  {
   "cell_type": "code",
   "execution_count": 136,
   "metadata": {
    "collapsed": true
   },
   "outputs": [],
   "source": [
    "data_name = 'Tropical_Mountain_Glaciers'\n",
    "\n",
    "file_path = base_folder + output_folder + 'Interpreted_Data_Traverse_to_' + data_name + speed_affix + '.tif'\n",
    "raster_traverse = create_raster_from_array(traverse_array,           \n",
    "                                           master_geotransform, \n",
    "                                           master_projection,\n",
    "                                           file_type = 'GTiff',\n",
    "                                           file_path = file_path)\n",
    "raster_traverse = None"
   ]
  },
  {
   "cell_type": "markdown",
   "metadata": {},
   "source": [
    "**Dissected mantle**\n",
    "\n",
    "https://planetarydatabase.wordpress.com/2016/07/05/dissected-mantle-ldm"
   ]
  },
  {
   "cell_type": "markdown",
   "metadata": {},
   "source": [
    "Rasterize the initial vector data at 20 ppd and perform the fast marching."
   ]
  },
  {
   "cell_type": "code",
   "execution_count": 137,
   "metadata": {
    "collapsed": true
   },
   "outputs": [],
   "source": [
    "dissected_mantle = pd.read_excel(base_folder + 'Original_Data/Interpreted_Data/idpf-9-23-2016-excel97.xls',\n",
    "                                 sheetname = 'Dissected mantle Milliken')"
   ]
  },
  {
   "cell_type": "code",
   "execution_count": 138,
   "metadata": {
    "collapsed": true
   },
   "outputs": [],
   "source": [
    "data_type = gdal.GDT_Int32\n",
    "\n",
    "shapes = []\n",
    "for index, row in dissected_mantle.iterrows():\n",
    "    feature_geometry = Point(row['center lon (east)'], row['center lat.'])\n",
    "    shapes.append(feature_geometry)\n",
    "\n",
    "raster_rasterization = rasterize_geometries(shapes, \n",
    "                                            data_type,\n",
    "                                            master_width, \n",
    "                                            master_height,\n",
    "                                            master_geotransform,\n",
    "                                            master_spatial_reference_system)\n",
    "raster_rasterization_array = get_raster_array(raster_rasterization)\n",
    "\n",
    "scientific_targets_array[raster_rasterization_array == 0] = 0"
   ]
  },
  {
   "cell_type": "code",
   "execution_count": 139,
   "metadata": {
    "collapsed": false
   },
   "outputs": [
    {
     "name": "stdout",
     "output_type": "stream",
     "text": [
      "CPU times: user 9min 27s, sys: 12.6 s, total: 9min 40s\n",
      "Wall time: 9min 25s\n"
     ]
    }
   ],
   "source": [
    "%%time\n",
    "\n",
    "traverse_array = run_fast_marching(raster_rasterization_array,\n",
    "                                   raster_rover_speed_array,\n",
    "                                   longitude_array,\n",
    "                                   latitude_array,\n",
    "                                   mars_radius)"
   ]
  },
  {
   "cell_type": "markdown",
   "metadata": {},
   "source": [
    "Export the map to a .tif file."
   ]
  },
  {
   "cell_type": "code",
   "execution_count": 140,
   "metadata": {
    "collapsed": true
   },
   "outputs": [],
   "source": [
    "data_name = 'Dissected_Mantle'\n",
    "\n",
    "file_path = base_folder + output_folder + 'Interpreted_Data_Traverse_to_' + data_name + speed_affix + '.tif'\n",
    "raster_traverse = create_raster_from_array(traverse_array,           \n",
    "                                           master_geotransform, \n",
    "                                           master_projection,\n",
    "                                           file_type = 'GTiff',\n",
    "                                           file_path = file_path)\n",
    "raster_traverse = None"
   ]
  },
  {
   "cell_type": "markdown",
   "metadata": {},
   "source": [
    "**Dune fields**\n",
    "\n",
    "https://planetarydatabase.wordpress.com/2016/04/21/mars-global-digital-dune-database"
   ]
  },
  {
   "cell_type": "markdown",
   "metadata": {},
   "source": [
    "Rasterize the initial vector data at 20 ppd and perform the fast marching."
   ]
  },
  {
   "cell_type": "code",
   "execution_count": 141,
   "metadata": {
    "collapsed": false,
    "scrolled": true
   },
   "outputs": [
    {
     "name": "stdout",
     "output_type": "stream",
     "text": [
      " _______________________________________________________________________________\n",
      "/ Shapefile field names:\n",
      "| \n",
      "| OBJECTID | Dune_Lon | Dune_Lat | Dune_ID | In_origina | Dune_Type | B_1 | Bd_1 | D_1 | L_1 | S_1 | SS_1 | T_1 | U_1 | BullsEye | Confidence | Type_Image | Area_sinu_ | SF | MDH1 | Volume_1 | MDH2 | Volume_2 | Avg_El | CcDcAz_Geo | CcDcAz_Mer | CcDcAz_Ste | SF_1_Az | SF_1_Count | SF_2_Az | SF_2_Count | SF_3_Az | SF_3_Count | SF_4_Az | SF_4_Count | Environ | Cr_Lon | Cr_Lat | Crater_BID | Cr_Area_si | Cr_Diam | MC | THEMIS_IR | THEMIS_VIS | MOC_NA | CTX | HiRISE | HRSC | WEB_LINK_1 | WEB_LINK_2 | Comments | SF1_Merc | SF2_Merc | SF3_Merc | SF4_Merc | Shape_Leng | MDHeight | CcDcAzimut | SF_2_Azimu | SF_3_Azimu | SF_4_Azimu | Cr_Lon_Eas | Cr_Diam_1 | Mars_5M_Ch | VIS | MOC | Comments_1 | Density | IR | Shape_Le_1 | Shape_Area \n",
      "\\_______________________________________________________________________________\n"
     ]
    }
   ],
   "source": [
    "shapefile_dune_fields = open_shapefile(base_folder + 'Original_Data/Interpreted_Data/dune-polygon/dune-polygon.shp')\n",
    "\n",
    "print_shapefile_field_names(shapefile_dune_fields)"
   ]
  },
  {
   "cell_type": "code",
   "execution_count": 142,
   "metadata": {
    "collapsed": true
   },
   "outputs": [],
   "source": [
    "projection = shapefile_dune_fields.GetLayer().GetSpatialRef().ExportToWkt()\n",
    "data_type = gdal.GDT_Int32\n",
    "\n",
    "raster_rasterization = rasterize_shapefile(shapefile_dune_fields, \n",
    "                                           None,\n",
    "                                           data_type,\n",
    "                                           master_width, \n",
    "                                           master_height,                    \n",
    "                                           master_geotransform, \n",
    "                                           projection)\n",
    "raster_rasterization_array = get_raster_array(raster_rasterization)\n",
    "\n",
    "scientific_targets_array[raster_rasterization_array == 0] = 0"
   ]
  },
  {
   "cell_type": "code",
   "execution_count": 143,
   "metadata": {
    "collapsed": false
   },
   "outputs": [
    {
     "name": "stdout",
     "output_type": "stream",
     "text": [
      "CPU times: user 9min 23s, sys: 10.6 s, total: 9min 33s\n",
      "Wall time: 9min 21s\n"
     ]
    }
   ],
   "source": [
    "%%time\n",
    "\n",
    "traverse_array = run_fast_marching(raster_rasterization_array,\n",
    "                                   raster_rover_speed_array,\n",
    "                                   longitude_array,\n",
    "                                   latitude_array,\n",
    "                                   mars_radius)"
   ]
  },
  {
   "cell_type": "markdown",
   "metadata": {},
   "source": [
    "Export the map to a .tif file."
   ]
  },
  {
   "cell_type": "code",
   "execution_count": 144,
   "metadata": {
    "collapsed": true
   },
   "outputs": [],
   "source": [
    "data_name = 'Dune_Fields'\n",
    "\n",
    "file_path = base_folder + output_folder + 'Interpreted_Data_Traverse_to_' + data_name + speed_affix + '.tif'\n",
    "raster_traverse = create_raster_from_array(traverse_array,           \n",
    "                                           master_geotransform, \n",
    "                                           master_projection,\n",
    "                                           file_type = 'GTiff',\n",
    "                                           file_path = file_path)\n",
    "raster_traverse = None"
   ]
  },
  {
   "cell_type": "markdown",
   "metadata": {},
   "source": [
    "**Crater-floor dunes**\n",
    "\n",
    "http://craters.sjrdesign.net/"
   ]
  },
  {
   "cell_type": "markdown",
   "metadata": {},
   "source": [
    "Rasterize the initial vector data at 20 ppd and perform the fast marching."
   ]
  },
  {
   "cell_type": "code",
   "execution_count": 145,
   "metadata": {
    "collapsed": true
   },
   "outputs": [],
   "source": [
    "data_type = gdal.GDT_Int32\n",
    "\n",
    "shapes = []\n",
    "for crater in zip(*mars_craters):\n",
    "    if 'Dunes' in crater[5]:\n",
    "        feature_geometry = Point(crater[0], crater[1])\n",
    "        shapes.append(feature_geometry)\n",
    "\n",
    "raster_rasterization = rasterize_geometries(shapes, \n",
    "                                            data_type,\n",
    "                                            master_width, \n",
    "                                            master_height,\n",
    "                                            master_geotransform,\n",
    "                                            master_spatial_reference_system)\n",
    "raster_rasterization_array = get_raster_array(raster_rasterization)\n",
    "\n",
    "scientific_targets_array[raster_rasterization_array == 0] = 0"
   ]
  },
  {
   "cell_type": "code",
   "execution_count": 146,
   "metadata": {
    "collapsed": false
   },
   "outputs": [
    {
     "name": "stdout",
     "output_type": "stream",
     "text": [
      "CPU times: user 9min 40s, sys: 12 s, total: 9min 52s\n",
      "Wall time: 9min 38s\n"
     ]
    }
   ],
   "source": [
    "%%time\n",
    "\n",
    "traverse_array = run_fast_marching(raster_rasterization_array,\n",
    "                                   raster_rover_speed_array,\n",
    "                                   longitude_array,\n",
    "                                   latitude_array,\n",
    "                                   mars_radius)"
   ]
  },
  {
   "cell_type": "markdown",
   "metadata": {},
   "source": [
    "Export the map to a .tif file."
   ]
  },
  {
   "cell_type": "code",
   "execution_count": 147,
   "metadata": {
    "collapsed": true
   },
   "outputs": [],
   "source": [
    "data_name = 'Crater_Floor_Dunes'\n",
    "\n",
    "file_path = base_folder + output_folder + 'Interpreted_Data_Traverse_to_' + data_name + speed_affix + '.tif'\n",
    "raster_traverse = create_raster_from_array(traverse_array,           \n",
    "                                           master_geotransform, \n",
    "                                           master_projection,\n",
    "                                           file_type = 'GTiff',\n",
    "                                           file_path = file_path)\n",
    "raster_traverse = None"
   ]
  },
  {
   "cell_type": "markdown",
   "metadata": {},
   "source": [
    "**Yardangs**\n",
    "\n",
    "ftp://pdsimage2.wr.usgs.gov/pub/pigpen/mars/geology"
   ]
  },
  {
   "cell_type": "markdown",
   "metadata": {},
   "source": [
    "Rasterize the initial vector data at 20 ppd and perform the fast marching."
   ]
  },
  {
   "cell_type": "code",
   "execution_count": 148,
   "metadata": {
    "collapsed": false
   },
   "outputs": [
    {
     "name": "stdout",
     "output_type": "stream",
     "text": [
      " _______________________________________________________________________________\n",
      "/ Shapefile field names:\n",
      "| \n",
      "\n",
      "\\_______________________________________________________________________________\n"
     ]
    }
   ],
   "source": [
    "shapefile_yardangs = filter_shapefile(shapefile_structures,\n",
    "                                      'Interpreta', \n",
    "                                      ['Yardangs'])\n",
    "print_shapefile_field_names(shapefile_yardangs)"
   ]
  },
  {
   "cell_type": "code",
   "execution_count": 149,
   "metadata": {
    "collapsed": true
   },
   "outputs": [],
   "source": [
    "projection = shapefile_yardangs.GetLayer().GetSpatialRef().ExportToWkt()\n",
    "data_type = gdal.GDT_Int32\n",
    "\n",
    "raster_rasterization = rasterize_shapefile(shapefile_yardangs, \n",
    "                                           None,\n",
    "                                           data_type,\n",
    "                                           master_width, \n",
    "                                           master_height,                    \n",
    "                                           master_geotransform, \n",
    "                                           projection)\n",
    "raster_rasterization_array = get_raster_array(raster_rasterization)\n",
    "\n",
    "scientific_targets_array[raster_rasterization_array == 0] = 0"
   ]
  },
  {
   "cell_type": "code",
   "execution_count": 150,
   "metadata": {
    "collapsed": false
   },
   "outputs": [
    {
     "name": "stdout",
     "output_type": "stream",
     "text": [
      "CPU times: user 8min 27s, sys: 10.3 s, total: 8min 38s\n",
      "Wall time: 8min 25s\n"
     ]
    }
   ],
   "source": [
    "%%time\n",
    "\n",
    "traverse_array = run_fast_marching(raster_rasterization_array,\n",
    "                                   raster_rover_speed_array,\n",
    "                                   longitude_array,\n",
    "                                   latitude_array,\n",
    "                                   mars_radius)"
   ]
  },
  {
   "cell_type": "markdown",
   "metadata": {},
   "source": [
    "Export the map to a .tif file."
   ]
  },
  {
   "cell_type": "code",
   "execution_count": 151,
   "metadata": {
    "collapsed": true
   },
   "outputs": [],
   "source": [
    "data_name = 'Yardangs'\n",
    "\n",
    "file_path = base_folder + output_folder + 'Interpreted_Data_Traverse_to_' + data_name + speed_affix + '.tif'\n",
    "raster_traverse = create_raster_from_array(traverse_array,           \n",
    "                                           master_geotransform, \n",
    "                                           master_projection,\n",
    "                                           file_type = 'GTiff',\n",
    "                                           file_path = file_path)\n",
    "raster_traverse = None"
   ]
  },
  {
   "cell_type": "markdown",
   "metadata": {},
   "source": [
    "### Volcanic, tectonic, and impact structures"
   ]
  },
  {
   "cell_type": "markdown",
   "metadata": {},
   "source": [
    "**Volcanoes**\n",
    "\n",
    "https://planetarydatabase.wordpress.com/category/mars/volcanoes"
   ]
  },
  {
   "cell_type": "markdown",
   "metadata": {},
   "source": [
    "Rasterize the initial vector data at 20 ppd and perform the fast marching."
   ]
  },
  {
   "cell_type": "code",
   "execution_count": 152,
   "metadata": {
    "collapsed": false
   },
   "outputs": [
    {
     "name": "stdout",
     "output_type": "stream",
     "text": [
      " _______________________________________________________________________________\n",
      "/ Shapefile field names:\n",
      "| \n",
      "| Name | Peri | Dia | Area | Reference | Name2 | Type | Group | EdificeA | EdificeB | Source | TypeHodges | Lat | Lon180E | Img | MAX_1 | RANGE_1 | MEAN \n",
      "\\_______________________________________________________________________________\n"
     ]
    }
   ],
   "source": [
    "shapefile_volcanoes = open_shapefile(base_folder + 'Original_Data/Interpreted_Data/volcano/volcano0610.shp')\n",
    "\n",
    "print_shapefile_field_names(shapefile_volcanoes)"
   ]
  },
  {
   "cell_type": "code",
   "execution_count": 153,
   "metadata": {
    "collapsed": false
   },
   "outputs": [
    {
     "name": "stdout",
     "output_type": "stream",
     "text": [
      "(-10384158.801737586, 10665646.435884062, -4497441.616826917, 4820504.397432575)\n",
      "(-10669675.197320545, 10669675.197320545, -5334837.598660273, 5334837.598660273)\n"
     ]
    }
   ],
   "source": [
    "print(shapefile_volcanoes.GetLayer().GetExtent())\n",
    "\n",
    "raster_topo = open_raster(base_folder + 'Original_Data/MGS/MOLA/Mars_MGS_MOLA_DEM_mosaic_global_463m.tif')\n",
    "print(get_raster_extent(raster_topo))"
   ]
  },
  {
   "cell_type": "code",
   "execution_count": 154,
   "metadata": {
    "collapsed": true
   },
   "outputs": [],
   "source": [
    "x_min, x_max, y_min, y_max = get_raster_extent(raster_topo)\n",
    "\n",
    "shapefile_volcanoes = modify_shapefile_extent(shapefile_volcanoes, \n",
    "                                              x_min, x_max, y_min, y_max, \n",
    "                                              master_lon_min, master_lon_max, master_lat_min, master_lat_max)\n",
    "\n",
    "projection = shapefile_volcanoes.GetLayer().GetSpatialRef().ExportToWkt()\n",
    "data_type = gdal.GDT_Int32\n",
    "\n",
    "raster_rasterization = rasterize_shapefile(shapefile_volcanoes, \n",
    "                                           None,\n",
    "                                           data_type,\n",
    "                                           master_width, \n",
    "                                           master_height,                    \n",
    "                                           master_geotransform, \n",
    "                                           projection)\n",
    "raster_rasterization_array = get_raster_array(raster_rasterization)\n",
    "\n",
    "scientific_targets_array[raster_rasterization_array == 0] = 0"
   ]
  },
  {
   "cell_type": "code",
   "execution_count": 155,
   "metadata": {
    "collapsed": false
   },
   "outputs": [
    {
     "name": "stdout",
     "output_type": "stream",
     "text": [
      "CPU times: user 9min 17s, sys: 11.3 s, total: 9min 28s\n",
      "Wall time: 9min 15s\n"
     ]
    }
   ],
   "source": [
    "%%time\n",
    "\n",
    "traverse_array = run_fast_marching(raster_rasterization_array,\n",
    "                                   raster_rover_speed_array,\n",
    "                                   longitude_array,\n",
    "                                   latitude_array,\n",
    "                                   mars_radius)"
   ]
  },
  {
   "cell_type": "markdown",
   "metadata": {},
   "source": [
    "Export the map to a .tif file."
   ]
  },
  {
   "cell_type": "code",
   "execution_count": 156,
   "metadata": {
    "collapsed": true
   },
   "outputs": [],
   "source": [
    "data_name = 'Volcanoes'\n",
    "\n",
    "file_path = base_folder + output_folder + 'Interpreted_Data_Traverse_to_' + data_name + speed_affix + '.tif'\n",
    "raster_traverse = create_raster_from_array(traverse_array,           \n",
    "                                           master_geotransform, \n",
    "                                           master_projection,\n",
    "                                           file_type = 'GTiff',\n",
    "                                           file_path = file_path)\n",
    "raster_traverse = None"
   ]
  },
  {
   "cell_type": "markdown",
   "metadata": {},
   "source": [
    "**Calderas**\n",
    "\n",
    "https://planetarydatabase.wordpress.com/2016/04/21/calderas/"
   ]
  },
  {
   "cell_type": "markdown",
   "metadata": {},
   "source": [
    "Rasterize the initial vector data at 20 ppd and perform the fast marching."
   ]
  },
  {
   "cell_type": "code",
   "execution_count": 157,
   "metadata": {
    "collapsed": false
   },
   "outputs": [
    {
     "name": "stdout",
     "output_type": "stream",
     "text": [
      " _______________________________________________________________________________\n",
      "/ Shapefile field names:\n",
      "| \n",
      "| OBJECTID | LON | LAT_1 | Area | Name | Source | Caledra_No \n",
      "\\_______________________________________________________________________________\n"
     ]
    }
   ],
   "source": [
    "shapefile_calderas = open_shapefile(base_folder + 'Original_Data/Interpreted_Data/caldera3/calderas_3.shp')\n",
    "\n",
    "print_shapefile_field_names(shapefile_calderas)"
   ]
  },
  {
   "cell_type": "code",
   "execution_count": 158,
   "metadata": {
    "collapsed": true
   },
   "outputs": [],
   "source": [
    "projection = shapefile_calderas.GetLayer().GetSpatialRef().ExportToWkt()\n",
    "data_type = gdal.GDT_Int32\n",
    "\n",
    "raster_rasterization = rasterize_shapefile(shapefile_calderas, \n",
    "                                           None,\n",
    "                                           data_type,\n",
    "                                           master_width, \n",
    "                                           master_height,                    \n",
    "                                           master_geotransform, \n",
    "                                           projection)\n",
    "raster_rasterization_array = get_raster_array(raster_rasterization)\n",
    "\n",
    "scientific_targets_array[raster_rasterization_array == 0] = 0"
   ]
  },
  {
   "cell_type": "code",
   "execution_count": 159,
   "metadata": {
    "collapsed": false
   },
   "outputs": [
    {
     "name": "stdout",
     "output_type": "stream",
     "text": [
      "CPU times: user 8min 37s, sys: 11.1 s, total: 8min 48s\n",
      "Wall time: 8min 35s\n"
     ]
    }
   ],
   "source": [
    "%%time\n",
    "\n",
    "traverse_array = run_fast_marching(raster_rasterization_array,\n",
    "                                   raster_rover_speed_array,\n",
    "                                   longitude_array,\n",
    "                                   latitude_array,\n",
    "                                   mars_radius)"
   ]
  },
  {
   "cell_type": "markdown",
   "metadata": {},
   "source": [
    "Export the map to a .tif file."
   ]
  },
  {
   "cell_type": "code",
   "execution_count": 160,
   "metadata": {
    "collapsed": true
   },
   "outputs": [],
   "source": [
    "data_name = 'Calderas'\n",
    "\n",
    "file_path = base_folder + output_folder + 'Interpreted_Data_Traverse_to_' + data_name + speed_affix + '.tif'\n",
    "raster_traverse = create_raster_from_array(traverse_array,           \n",
    "                                           master_geotransform, \n",
    "                                           master_projection,\n",
    "                                           file_type = 'GTiff',\n",
    "                                           file_path = file_path)\n",
    "raster_traverse = None"
   ]
  },
  {
   "cell_type": "markdown",
   "metadata": {},
   "source": [
    "**Tharsis vents**\n",
    "\n",
    "astrogeology.usgs.gov/search/map/Mars/Research/Volcanic/TharsisVents"
   ]
  },
  {
   "cell_type": "markdown",
   "metadata": {},
   "source": [
    "Rasterize the initial vector data at 20 ppd and perform the fast marching."
   ]
  },
  {
   "cell_type": "code",
   "execution_count": 161,
   "metadata": {
    "collapsed": false
   },
   "outputs": [
    {
     "name": "stdout",
     "output_type": "stream",
     "text": [
      " _______________________________________________________________________________\n",
      "/ Shapefile field names:\n",
      "| \n",
      "| Longitude | Latitude \n",
      "\\_______________________________________________________________________________\n"
     ]
    }
   ],
   "source": [
    "shapefile_tharsis_vents = open_shapefile(base_folder + 'Original_Data/Interpreted_Data/TharsisVents140408/TharsisVents140408_dd0.shp')\n",
    "\n",
    "print_shapefile_field_names(shapefile_tharsis_vents)"
   ]
  },
  {
   "cell_type": "code",
   "execution_count": 162,
   "metadata": {
    "collapsed": true
   },
   "outputs": [],
   "source": [
    "projection = shapefile_tharsis_vents.GetLayer().GetSpatialRef().ExportToWkt()\n",
    "data_type = gdal.GDT_Int32\n",
    "\n",
    "raster_rasterization = rasterize_shapefile(shapefile_tharsis_vents, \n",
    "                                           None,\n",
    "                                           data_type,\n",
    "                                           master_width, \n",
    "                                           master_height,                    \n",
    "                                           master_geotransform, \n",
    "                                           projection)\n",
    "raster_rasterization_array = get_raster_array(raster_rasterization)\n",
    "\n",
    "scientific_targets_array[raster_rasterization_array == 0] = 0"
   ]
  },
  {
   "cell_type": "code",
   "execution_count": 163,
   "metadata": {
    "collapsed": false
   },
   "outputs": [
    {
     "name": "stdout",
     "output_type": "stream",
     "text": [
      "CPU times: user 8min 23s, sys: 10.2 s, total: 8min 33s\n",
      "Wall time: 8min 21s\n"
     ]
    }
   ],
   "source": [
    "%%time\n",
    "\n",
    "traverse_array = run_fast_marching(raster_rasterization_array,\n",
    "                                   raster_rover_speed_array,\n",
    "                                   longitude_array,\n",
    "                                   latitude_array,\n",
    "                                   mars_radius)"
   ]
  },
  {
   "cell_type": "markdown",
   "metadata": {},
   "source": [
    "Export the map to a .tif file."
   ]
  },
  {
   "cell_type": "code",
   "execution_count": 164,
   "metadata": {
    "collapsed": true
   },
   "outputs": [],
   "source": [
    "data_name = 'Tharsis_Vents'\n",
    "\n",
    "file_path = base_folder + output_folder + 'Interpreted_Data_Traverse_to_' + data_name + speed_affix + '.tif'\n",
    "raster_traverse = create_raster_from_array(traverse_array,           \n",
    "                                           master_geotransform, \n",
    "                                           master_projection,\n",
    "                                           file_type = 'GTiff',\n",
    "                                           file_path = file_path)\n",
    "raster_traverse = None"
   ]
  },
  {
   "cell_type": "markdown",
   "metadata": {},
   "source": [
    "**Rilles**\n",
    "\n",
    "ftp://pdsimage2.wr.usgs.gov/pub/pigpen/mars/geology"
   ]
  },
  {
   "cell_type": "markdown",
   "metadata": {},
   "source": [
    "Rasterize the initial vector data at 20 ppd and perform the fast marching."
   ]
  },
  {
   "cell_type": "code",
   "execution_count": 165,
   "metadata": {
    "collapsed": false
   },
   "outputs": [
    {
     "name": "stdout",
     "output_type": "stream",
     "text": [
      " _______________________________________________________________________________\n",
      "/ Shapefile field names:\n",
      "| \n",
      "\n",
      "\\_______________________________________________________________________________\n"
     ]
    }
   ],
   "source": [
    "shapefile_rilles = filter_shapefile(shapefile_structures,\n",
    "                                    'Interpreta', \n",
    "                                    ['Rille'])\n",
    "print_shapefile_field_names(shapefile_rilles)"
   ]
  },
  {
   "cell_type": "code",
   "execution_count": 166,
   "metadata": {
    "collapsed": true
   },
   "outputs": [],
   "source": [
    "projection = shapefile_rilles.GetLayer().GetSpatialRef().ExportToWkt()\n",
    "data_type = gdal.GDT_Int32\n",
    "\n",
    "raster_rasterization = rasterize_shapefile(shapefile_rilles, \n",
    "                                           None,\n",
    "                                           data_type,\n",
    "                                           master_width, \n",
    "                                           master_height,                    \n",
    "                                           master_geotransform, \n",
    "                                           projection)\n",
    "raster_rasterization_array = get_raster_array(raster_rasterization)\n",
    "\n",
    "scientific_targets_array[raster_rasterization_array == 0] = 0"
   ]
  },
  {
   "cell_type": "code",
   "execution_count": 167,
   "metadata": {
    "collapsed": false
   },
   "outputs": [
    {
     "name": "stdout",
     "output_type": "stream",
     "text": [
      "CPU times: user 8min 34s, sys: 11.4 s, total: 8min 46s\n",
      "Wall time: 8min 33s\n"
     ]
    }
   ],
   "source": [
    "%%time\n",
    "\n",
    "traverse_array = run_fast_marching(raster_rasterization_array,\n",
    "                                   raster_rover_speed_array,\n",
    "                                   longitude_array,\n",
    "                                   latitude_array,\n",
    "                                   mars_radius)"
   ]
  },
  {
   "cell_type": "markdown",
   "metadata": {},
   "source": [
    "Export the map to a .tif file."
   ]
  },
  {
   "cell_type": "code",
   "execution_count": 168,
   "metadata": {
    "collapsed": true
   },
   "outputs": [],
   "source": [
    "data_name = 'Rilles'\n",
    "\n",
    "file_path = base_folder + output_folder + 'Interpreted_Data_Traverse_to_' + data_name + speed_affix + '.tif'\n",
    "raster_traverse = create_raster_from_array(traverse_array,           \n",
    "                                           master_geotransform, \n",
    "                                           master_projection,\n",
    "                                           file_type = 'GTiff',\n",
    "                                           file_path = file_path)\n",
    "raster_traverse = None"
   ]
  },
  {
   "cell_type": "markdown",
   "metadata": {},
   "source": [
    "**Lobate flows**\n",
    "\n",
    "ftp://pdsimage2.wr.usgs.gov/pub/pigpen/mars/geology"
   ]
  },
  {
   "cell_type": "markdown",
   "metadata": {},
   "source": [
    "Rasterize the initial vector data at 20 ppd and perform the fast marching."
   ]
  },
  {
   "cell_type": "code",
   "execution_count": 169,
   "metadata": {
    "collapsed": false
   },
   "outputs": [
    {
     "name": "stdout",
     "output_type": "stream",
     "text": [
      " _______________________________________________________________________________\n",
      "/ Shapefile field names:\n",
      "| \n",
      "\n",
      "\\_______________________________________________________________________________\n"
     ]
    }
   ],
   "source": [
    "shapefile_lobate_flows = filter_shapefile(shapefile_structures,\n",
    "                                          'Interpreta', \n",
    "                                          ['Lobate flow'])\n",
    "print_shapefile_field_names(shapefile_lobate_flows)"
   ]
  },
  {
   "cell_type": "code",
   "execution_count": 170,
   "metadata": {
    "collapsed": true
   },
   "outputs": [],
   "source": [
    "projection = shapefile_lobate_flows.GetLayer().GetSpatialRef().ExportToWkt()\n",
    "data_type = gdal.GDT_Int32\n",
    "\n",
    "raster_rasterization = rasterize_shapefile(shapefile_lobate_flows, \n",
    "                                           None,\n",
    "                                           data_type,\n",
    "                                           master_width, \n",
    "                                           master_height,                    \n",
    "                                           master_geotransform, \n",
    "                                           projection)\n",
    "raster_rasterization_array = get_raster_array(raster_rasterization)\n",
    "\n",
    "scientific_targets_array[raster_rasterization_array == 0] = 0"
   ]
  },
  {
   "cell_type": "code",
   "execution_count": 171,
   "metadata": {
    "collapsed": false
   },
   "outputs": [
    {
     "name": "stdout",
     "output_type": "stream",
     "text": [
      "CPU times: user 8min 41s, sys: 12.4 s, total: 8min 53s\n",
      "Wall time: 8min 39s\n"
     ]
    }
   ],
   "source": [
    "%%time\n",
    "\n",
    "traverse_array = run_fast_marching(raster_rasterization_array,\n",
    "                                   raster_rover_speed_array,\n",
    "                                   longitude_array,\n",
    "                                   latitude_array,\n",
    "                                   mars_radius)"
   ]
  },
  {
   "cell_type": "markdown",
   "metadata": {},
   "source": [
    "Export the map to a .tif file."
   ]
  },
  {
   "cell_type": "code",
   "execution_count": 172,
   "metadata": {
    "collapsed": true
   },
   "outputs": [],
   "source": [
    "data_name = 'Lobate_Flows'\n",
    "\n",
    "file_path = base_folder + output_folder + 'Interpreted_Data_Traverse_to_' + data_name + speed_affix + '.tif'\n",
    "raster_traverse = create_raster_from_array(traverse_array,           \n",
    "                                           master_geotransform, \n",
    "                                           master_projection,\n",
    "                                           file_type = 'GTiff',\n",
    "                                           file_path = file_path)\n",
    "raster_traverse = None"
   ]
  },
  {
   "cell_type": "markdown",
   "metadata": {},
   "source": [
    "**Graben axes**\n",
    "\n",
    "ftp://pdsimage2.wr.usgs.gov/pub/pigpen/mars/geology"
   ]
  },
  {
   "cell_type": "markdown",
   "metadata": {},
   "source": [
    "Rasterize the initial vector data at 20 ppd and perform the fast marching."
   ]
  },
  {
   "cell_type": "code",
   "execution_count": 173,
   "metadata": {
    "collapsed": false
   },
   "outputs": [
    {
     "name": "stdout",
     "output_type": "stream",
     "text": [
      " _______________________________________________________________________________\n",
      "/ Shapefile field names:\n",
      "| \n",
      "\n",
      "\\_______________________________________________________________________________\n",
      " _______________________________________________________________________________\n",
      "/ Shapefile field names:\n",
      "| \n",
      "| TYPE | Shape_Leng \n",
      "\\_______________________________________________________________________________\n"
     ]
    }
   ],
   "source": [
    "shapefile_graben_axes = filter_shapefile(shapefile_structures,\n",
    "                                         'Interpreta', \n",
    "                                         ['Graben axis'])\n",
    "print_shapefile_field_names(shapefile_graben_axes)\n",
    "\n",
    "shapefile_graben_axes_part2 = open_shapefile(base_folder + 'Original_Data/Interpreted_Data/NPlains_geology_SIM2888_2005/SIM2888_mar06_preliminary/shapefiles/SIM2888_Mars2000_Sphere/SIM2888_grabens_ocentric.shp')\n",
    "print_shapefile_field_names(shapefile_graben_axes_part2)"
   ]
  },
  {
   "cell_type": "code",
   "execution_count": 174,
   "metadata": {
    "collapsed": true
   },
   "outputs": [],
   "source": [
    "projection = shapefile_graben_axes.GetLayer().GetSpatialRef().ExportToWkt()\n",
    "data_type = gdal.GDT_Int32\n",
    "\n",
    "raster_rasterization = rasterize_shapefile(shapefile_graben_axes, \n",
    "                                           None,\n",
    "                                           data_type,\n",
    "                                           master_width, \n",
    "                                           master_height,                    \n",
    "                                           master_geotransform, \n",
    "                                           projection)\n",
    "raster_rasterization_array = get_raster_array(raster_rasterization)\n",
    "\n",
    "projection = shapefile_graben_axes_part2.GetLayer().GetSpatialRef().ExportToWkt()\n",
    "\n",
    "raster_rasterization_part2 = rasterize_shapefile(shapefile_graben_axes_part2, \n",
    "                                                 None,\n",
    "                                                 data_type,\n",
    "                                                 master_width, \n",
    "                                                 master_height,                    \n",
    "                                                 master_geotransform, \n",
    "                                                 projection)\n",
    "raster_rasterization_part2_array = get_raster_array(raster_rasterization_part2)\n",
    "\n",
    "raster_rasterization_array[raster_rasterization_part2_array == 0] = 0\n",
    "\n",
    "scientific_targets_array[raster_rasterization_array == 0] = 0"
   ]
  },
  {
   "cell_type": "code",
   "execution_count": 175,
   "metadata": {
    "collapsed": false
   },
   "outputs": [
    {
     "name": "stdout",
     "output_type": "stream",
     "text": [
      "CPU times: user 9min 38s, sys: 11.4 s, total: 9min 49s\n",
      "Wall time: 9min 36s\n"
     ]
    }
   ],
   "source": [
    "%%time\n",
    "\n",
    "traverse_array = run_fast_marching(raster_rasterization_array,\n",
    "                                   raster_rover_speed_array,\n",
    "                                   longitude_array,\n",
    "                                   latitude_array,\n",
    "                                   mars_radius)"
   ]
  },
  {
   "cell_type": "markdown",
   "metadata": {},
   "source": [
    "Export the map to a .tif file."
   ]
  },
  {
   "cell_type": "code",
   "execution_count": 176,
   "metadata": {
    "collapsed": true
   },
   "outputs": [],
   "source": [
    "data_name = 'Graben_Axes'\n",
    "\n",
    "file_path = base_folder + output_folder + 'Interpreted_Data_Traverse_to_' + data_name + speed_affix + '.tif'\n",
    "raster_traverse = create_raster_from_array(traverse_array,           \n",
    "                                           master_geotransform, \n",
    "                                           master_projection,\n",
    "                                           file_type = 'GTiff',\n",
    "                                           file_path = file_path)\n",
    "raster_traverse = None"
   ]
  },
  {
   "cell_type": "markdown",
   "metadata": {},
   "source": [
    "**Pit-crater chain**\n",
    "\n",
    "ftp://pdsimage2.wr.usgs.gov/pub/pigpen/mars/geology"
   ]
  },
  {
   "cell_type": "markdown",
   "metadata": {},
   "source": [
    "Rasterize the initial vector data at 20 ppd and perform the fast marching."
   ]
  },
  {
   "cell_type": "code",
   "execution_count": 177,
   "metadata": {
    "collapsed": false
   },
   "outputs": [
    {
     "name": "stdout",
     "output_type": "stream",
     "text": [
      " _______________________________________________________________________________\n",
      "/ Shapefile field names:\n",
      "| \n",
      "\n",
      "\\_______________________________________________________________________________\n"
     ]
    }
   ],
   "source": [
    "shapefile_pit_crater_chains = filter_shapefile(shapefile_structures,\n",
    "                                               'Interpreta', \n",
    "                                               ['Pit crater chain'])\n",
    "print_shapefile_field_names(shapefile_pit_crater_chains)"
   ]
  },
  {
   "cell_type": "code",
   "execution_count": 178,
   "metadata": {
    "collapsed": true
   },
   "outputs": [],
   "source": [
    "projection = shapefile_pit_crater_chains.GetLayer().GetSpatialRef().ExportToWkt()\n",
    "data_type = gdal.GDT_Int32\n",
    "\n",
    "raster_rasterization = rasterize_shapefile(shapefile_pit_crater_chains, \n",
    "                                           None,\n",
    "                                           data_type,\n",
    "                                           master_width, \n",
    "                                           master_height,                    \n",
    "                                           master_geotransform, \n",
    "                                           projection)\n",
    "raster_rasterization_array = get_raster_array(raster_rasterization)\n",
    "\n",
    "scientific_targets_array[raster_rasterization_array == 0] = 0"
   ]
  },
  {
   "cell_type": "code",
   "execution_count": 179,
   "metadata": {
    "collapsed": false
   },
   "outputs": [
    {
     "name": "stdout",
     "output_type": "stream",
     "text": [
      "CPU times: user 8min 32s, sys: 11 s, total: 8min 43s\n",
      "Wall time: 8min 30s\n"
     ]
    }
   ],
   "source": [
    "%%time\n",
    "\n",
    "traverse_array = run_fast_marching(raster_rasterization_array,\n",
    "                                   raster_rover_speed_array,\n",
    "                                   longitude_array,\n",
    "                                   latitude_array,\n",
    "                                   mars_radius)"
   ]
  },
  {
   "cell_type": "markdown",
   "metadata": {},
   "source": [
    "Export the map to a .tif file."
   ]
  },
  {
   "cell_type": "code",
   "execution_count": 180,
   "metadata": {
    "collapsed": true
   },
   "outputs": [],
   "source": [
    "data_name = 'Pit_crater_Chains'\n",
    "\n",
    "file_path = base_folder + output_folder + 'Interpreted_Data_Traverse_to_' + data_name + speed_affix + '.tif'\n",
    "raster_traverse = create_raster_from_array(traverse_array,           \n",
    "                                           master_geotransform, \n",
    "                                           master_projection,\n",
    "                                           file_type = 'GTiff',\n",
    "                                           file_path = file_path)\n",
    "raster_traverse = None"
   ]
  },
  {
   "cell_type": "markdown",
   "metadata": {},
   "source": [
    "**Wrinkle ridges**\n",
    "\n",
    "ftp://pdsimage2.wr.usgs.gov/pub/pigpen/mars/geology"
   ]
  },
  {
   "cell_type": "markdown",
   "metadata": {},
   "source": [
    "Rasterize the initial vector data at 20 ppd and perform the fast marching."
   ]
  },
  {
   "cell_type": "code",
   "execution_count": 181,
   "metadata": {
    "collapsed": false
   },
   "outputs": [
    {
     "name": "stdout",
     "output_type": "stream",
     "text": [
      " _______________________________________________________________________________\n",
      "/ Shapefile field names:\n",
      "| \n",
      "\n",
      "\\_______________________________________________________________________________\n"
     ]
    }
   ],
   "source": [
    "shapefile_wrinkle_ridges = filter_shapefile(shapefile_structures,\n",
    "                                            'Interpreta', \n",
    "                                            ['Wrinkle ridge'])\n",
    "print_shapefile_field_names(shapefile_wrinkle_ridges)"
   ]
  },
  {
   "cell_type": "code",
   "execution_count": 182,
   "metadata": {
    "collapsed": true
   },
   "outputs": [],
   "source": [
    "projection = shapefile_wrinkle_ridges.GetLayer().GetSpatialRef().ExportToWkt()\n",
    "data_type = gdal.GDT_Int32\n",
    "\n",
    "raster_rasterization = rasterize_shapefile(shapefile_wrinkle_ridges, \n",
    "                                           None,\n",
    "                                           data_type,\n",
    "                                           master_width, \n",
    "                                           master_height,                    \n",
    "                                           master_geotransform, \n",
    "                                           projection)\n",
    "raster_rasterization_array = get_raster_array(raster_rasterization)\n",
    "\n",
    "scientific_targets_array[raster_rasterization_array == 0] = 0"
   ]
  },
  {
   "cell_type": "code",
   "execution_count": 183,
   "metadata": {
    "collapsed": false
   },
   "outputs": [
    {
     "name": "stdout",
     "output_type": "stream",
     "text": [
      "CPU times: user 10min 4s, sys: 12 s, total: 10min 16s\n",
      "Wall time: 10min 3s\n"
     ]
    }
   ],
   "source": [
    "%%time\n",
    "\n",
    "traverse_array = run_fast_marching(raster_rasterization_array,\n",
    "                                   raster_rover_speed_array,\n",
    "                                   longitude_array,\n",
    "                                   latitude_array,\n",
    "                                   mars_radius)"
   ]
  },
  {
   "cell_type": "markdown",
   "metadata": {},
   "source": [
    "Export the map to a .tif file."
   ]
  },
  {
   "cell_type": "code",
   "execution_count": 184,
   "metadata": {
    "collapsed": true
   },
   "outputs": [],
   "source": [
    "data_name = 'Wrinkle_Ridges'\n",
    "\n",
    "file_path = base_folder + output_folder + 'Interpreted_Data_Traverse_to_' + data_name + speed_affix + '.tif'\n",
    "raster_traverse = create_raster_from_array(traverse_array,           \n",
    "                                           master_geotransform, \n",
    "                                           master_projection,\n",
    "                                           file_type = 'GTiff',\n",
    "                                           file_path = file_path)\n",
    "raster_traverse = None"
   ]
  },
  {
   "cell_type": "markdown",
   "metadata": {},
   "source": [
    "**Crater-floor tectonics**\n",
    "\n",
    "http://craters.sjrdesign.net/"
   ]
  },
  {
   "cell_type": "markdown",
   "metadata": {},
   "source": [
    "Rasterize the initial vector data at 20 ppd and perform the fast marching."
   ]
  },
  {
   "cell_type": "code",
   "execution_count": 185,
   "metadata": {
    "collapsed": true
   },
   "outputs": [],
   "source": [
    "data_type = gdal.GDT_Int32\n",
    "\n",
    "shapes = []\n",
    "for crater in zip(*mars_craters):\n",
    "    if 'Tectonics' in crater[5] or 'tectonics' in crater[5]:\n",
    "        feature_geometry = Point(crater[0], crater[1])\n",
    "        shapes.append(feature_geometry)\n",
    "\n",
    "raster_rasterization = rasterize_geometries(shapes, \n",
    "                                            data_type,\n",
    "                                            master_width, \n",
    "                                            master_height,\n",
    "                                            master_geotransform,\n",
    "                                            master_spatial_reference_system)\n",
    "raster_rasterization_array = get_raster_array(raster_rasterization)\n",
    "\n",
    "scientific_targets_array[raster_rasterization_array == 0] = 0"
   ]
  },
  {
   "cell_type": "code",
   "execution_count": 186,
   "metadata": {
    "collapsed": false
   },
   "outputs": [
    {
     "name": "stdout",
     "output_type": "stream",
     "text": [
      "CPU times: user 9min 48s, sys: 12.4 s, total: 10min\n",
      "Wall time: 9min 46s\n"
     ]
    }
   ],
   "source": [
    "%%time\n",
    "\n",
    "traverse_array = run_fast_marching(raster_rasterization_array,\n",
    "                                   raster_rover_speed_array,\n",
    "                                   longitude_array,\n",
    "                                   latitude_array,\n",
    "                                   mars_radius)"
   ]
  },
  {
   "cell_type": "markdown",
   "metadata": {},
   "source": [
    "Export the map to a .tif file."
   ]
  },
  {
   "cell_type": "code",
   "execution_count": 187,
   "metadata": {
    "collapsed": true
   },
   "outputs": [],
   "source": [
    "data_name = 'Crater_Floor_Tectonics'\n",
    "\n",
    "file_path = base_folder + output_folder + 'Interpreted_Data_Traverse_to_' + data_name + speed_affix + '.tif'\n",
    "raster_traverse = create_raster_from_array(traverse_array,           \n",
    "                                           master_geotransform, \n",
    "                                           master_projection,\n",
    "                                           file_type = 'GTiff',\n",
    "                                           file_path = file_path)\n",
    "raster_traverse = None"
   ]
  },
  {
   "cell_type": "markdown",
   "metadata": {},
   "source": [
    "**Fractured crater floors**\n",
    "\n",
    "http://craters.sjrdesign.net/"
   ]
  },
  {
   "cell_type": "markdown",
   "metadata": {},
   "source": [
    "Rasterize the initial vector data at 20 ppd and perform the fast marching."
   ]
  },
  {
   "cell_type": "code",
   "execution_count": 188,
   "metadata": {
    "collapsed": true
   },
   "outputs": [],
   "source": [
    "data_type = gdal.GDT_Int32\n",
    "\n",
    "shapes = []\n",
    "for crater in zip(*mars_craters):\n",
    "    if 'Fractured' in crater[5]:\n",
    "        feature_geometry = Point(crater[0], crater[1])\n",
    "        shapes.append(feature_geometry)\n",
    "\n",
    "raster_rasterization = rasterize_geometries(shapes, \n",
    "                                            data_type,\n",
    "                                            master_width, \n",
    "                                            master_height,\n",
    "                                            master_geotransform,\n",
    "                                            master_spatial_reference_system)\n",
    "raster_rasterization_array = get_raster_array(raster_rasterization)\n",
    "\n",
    "scientific_targets_array[raster_rasterization_array == 0] = 0"
   ]
  },
  {
   "cell_type": "code",
   "execution_count": 189,
   "metadata": {
    "collapsed": false
   },
   "outputs": [
    {
     "name": "stdout",
     "output_type": "stream",
     "text": [
      "CPU times: user 9min 18s, sys: 11.2 s, total: 9min 30s\n",
      "Wall time: 9min 17s\n"
     ]
    }
   ],
   "source": [
    "%%time\n",
    "\n",
    "traverse_array = run_fast_marching(raster_rasterization_array,\n",
    "                                   raster_rover_speed_array,\n",
    "                                   longitude_array,\n",
    "                                   latitude_array,\n",
    "                                   mars_radius)"
   ]
  },
  {
   "cell_type": "markdown",
   "metadata": {},
   "source": [
    "Export the map to a .tif file."
   ]
  },
  {
   "cell_type": "code",
   "execution_count": 190,
   "metadata": {
    "collapsed": true
   },
   "outputs": [],
   "source": [
    "data_name = 'Crater_Floor_Fractured'\n",
    "\n",
    "file_path = base_folder + output_folder + 'Interpreted_Data_Traverse_to_' + data_name + speed_affix + '.tif'\n",
    "raster_traverse = create_raster_from_array(traverse_array,           \n",
    "                                           master_geotransform, \n",
    "                                           master_projection,\n",
    "                                           file_type = 'GTiff',\n",
    "                                           file_path = file_path)\n",
    "raster_traverse = None"
   ]
  },
  {
   "cell_type": "markdown",
   "metadata": {},
   "source": [
    "**Recent craters**\n",
    "\n",
    "https://planetarydatabase.wordpress.com/2016/04/21/fresh-craters-on-mars"
   ]
  },
  {
   "cell_type": "markdown",
   "metadata": {},
   "source": [
    "Rasterize the initial vector data at 20 ppd and perform the fast marching."
   ]
  },
  {
   "cell_type": "code",
   "execution_count": 191,
   "metadata": {
    "collapsed": true
   },
   "outputs": [],
   "source": [
    "recent_craters = pd.read_excel(base_folder + 'Original_Data/Interpreted_Data/idpf-9-23-2016-excel97.xls',\n",
    "                               sheetname = 'Fresh craters (Daubar 2014-16)')"
   ]
  },
  {
   "cell_type": "code",
   "execution_count": 192,
   "metadata": {
    "collapsed": true
   },
   "outputs": [],
   "source": [
    "data_type = gdal.GDT_Int32\n",
    "\n",
    "shapes = []\n",
    "for index, row in recent_craters.iterrows():\n",
    "    feature_geometry = Point(row['Longtude E 180'], row['Latitude (planetocentric)'])\n",
    "    shapes.append(feature_geometry)\n",
    "\n",
    "raster_rasterization = rasterize_geometries(shapes, \n",
    "                                            data_type,\n",
    "                                            master_width, \n",
    "                                            master_height,\n",
    "                                            master_geotransform,\n",
    "                                            master_spatial_reference_system)\n",
    "raster_rasterization_array = get_raster_array(raster_rasterization)\n",
    "\n",
    "scientific_targets_array[raster_rasterization_array == 0] = 0"
   ]
  },
  {
   "cell_type": "code",
   "execution_count": 193,
   "metadata": {
    "collapsed": false
   },
   "outputs": [
    {
     "name": "stdout",
     "output_type": "stream",
     "text": [
      "CPU times: user 8min 41s, sys: 11.3 s, total: 8min 53s\n",
      "Wall time: 8min 40s\n"
     ]
    }
   ],
   "source": [
    "%%time\n",
    "\n",
    "traverse_array = run_fast_marching(raster_rasterization_array,\n",
    "                                   raster_rover_speed_array,\n",
    "                                   longitude_array,\n",
    "                                   latitude_array,\n",
    "                                   mars_radius)"
   ]
  },
  {
   "cell_type": "markdown",
   "metadata": {},
   "source": [
    "Export the map to a .tif file."
   ]
  },
  {
   "cell_type": "code",
   "execution_count": 194,
   "metadata": {
    "collapsed": true
   },
   "outputs": [],
   "source": [
    "data_name = 'Recent_Craters'\n",
    "\n",
    "file_path = base_folder + output_folder + 'Interpreted_Data_Traverse_to_' + data_name + speed_affix + '.tif'\n",
    "raster_traverse = create_raster_from_array(traverse_array,           \n",
    "                                           master_geotransform, \n",
    "                                           master_projection,\n",
    "                                           file_type = 'GTiff',\n",
    "                                           file_path = file_path)\n",
    "raster_traverse = None"
   ]
  },
  {
   "cell_type": "markdown",
   "metadata": {},
   "source": [
    "**Fresh craters**\n",
    "\n",
    "http://craters.sjrdesign.net/\n",
    "\n",
    "Degradation state = 4"
   ]
  },
  {
   "cell_type": "markdown",
   "metadata": {},
   "source": [
    "Rasterize the initial vector data at 20 ppd and perform the fast marching."
   ]
  },
  {
   "cell_type": "code",
   "execution_count": 195,
   "metadata": {
    "collapsed": true
   },
   "outputs": [],
   "source": [
    "data_type = gdal.GDT_Int32\n",
    "\n",
    "shapes = []\n",
    "for crater in zip(*mars_craters):\n",
    "    if float(crater[6]) == 4:\n",
    "        feature_geometry = Point(crater[0], crater[1])\n",
    "        shapes.append(feature_geometry)\n",
    "\n",
    "raster_rasterization = rasterize_geometries(shapes, \n",
    "                                            data_type,\n",
    "                                            master_width, \n",
    "                                            master_height,\n",
    "                                            master_geotransform,\n",
    "                                            master_spatial_reference_system)\n",
    "raster_rasterization_array = get_raster_array(raster_rasterization)\n",
    "\n",
    "scientific_targets_array[raster_rasterization_array == 0] = 0"
   ]
  },
  {
   "cell_type": "code",
   "execution_count": 196,
   "metadata": {
    "collapsed": false
   },
   "outputs": [
    {
     "name": "stdout",
     "output_type": "stream",
     "text": [
      "CPU times: user 10min 46s, sys: 11.5 s, total: 10min 57s\n",
      "Wall time: 10min 44s\n"
     ]
    }
   ],
   "source": [
    "%%time\n",
    "\n",
    "traverse_array = run_fast_marching(raster_rasterization_array,\n",
    "                                   raster_rover_speed_array,\n",
    "                                   longitude_array,\n",
    "                                   latitude_array,\n",
    "                                   mars_radius)"
   ]
  },
  {
   "cell_type": "markdown",
   "metadata": {},
   "source": [
    "Export the map to a .tif file."
   ]
  },
  {
   "cell_type": "code",
   "execution_count": 197,
   "metadata": {
    "collapsed": true
   },
   "outputs": [],
   "source": [
    "data_name = 'Fresh_Craters'\n",
    "\n",
    "file_path = base_folder + output_folder + 'Interpreted_Data_Traverse_to_' + data_name + speed_affix + '.tif'\n",
    "raster_traverse = create_raster_from_array(traverse_array,           \n",
    "                                           master_geotransform, \n",
    "                                           master_projection,\n",
    "                                           file_type = 'GTiff',\n",
    "                                           file_path = file_path)\n",
    "raster_traverse = None"
   ]
  },
  {
   "cell_type": "markdown",
   "metadata": {},
   "source": [
    "**Deep craters**\n",
    "\n",
    "http://craters.sjrdesign.net/\n",
    "\n",
    "Depth > 2 km"
   ]
  },
  {
   "cell_type": "markdown",
   "metadata": {},
   "source": [
    "Rasterize the initial vector data at 20 ppd and perform the fast marching."
   ]
  },
  {
   "cell_type": "code",
   "execution_count": 198,
   "metadata": {
    "collapsed": true
   },
   "outputs": [],
   "source": [
    "data_type = gdal.GDT_Int32\n",
    "\n",
    "shapes = []\n",
    "for crater in zip(*mars_craters):\n",
    "    if float(crater[3]) > 2.: # kilometers\n",
    "        feature_geometry = Point(crater[0], crater[1])\n",
    "        shapes.append(feature_geometry)\n",
    "\n",
    "raster_rasterization = rasterize_geometries(shapes, \n",
    "                                            data_type,\n",
    "                                            master_width, \n",
    "                                            master_height,\n",
    "                                            master_geotransform,\n",
    "                                            master_spatial_reference_system)\n",
    "raster_rasterization_array = get_raster_array(raster_rasterization)\n",
    "\n",
    "scientific_targets_array[raster_rasterization_array == 0] = 0"
   ]
  },
  {
   "cell_type": "code",
   "execution_count": 199,
   "metadata": {
    "collapsed": false
   },
   "outputs": [
    {
     "name": "stdout",
     "output_type": "stream",
     "text": [
      "CPU times: user 9min 40s, sys: 11.7 s, total: 9min 52s\n",
      "Wall time: 9min 38s\n"
     ]
    }
   ],
   "source": [
    "%%time\n",
    "\n",
    "traverse_array = run_fast_marching(raster_rasterization_array,\n",
    "                                   raster_rover_speed_array,\n",
    "                                   longitude_array,\n",
    "                                   latitude_array,\n",
    "                                   mars_radius)"
   ]
  },
  {
   "cell_type": "markdown",
   "metadata": {},
   "source": [
    "Export the map to a .tif file."
   ]
  },
  {
   "cell_type": "code",
   "execution_count": 200,
   "metadata": {
    "collapsed": true
   },
   "outputs": [],
   "source": [
    "data_name = 'Deep_Craters'\n",
    "\n",
    "file_path = base_folder + output_folder + 'Interpreted_Data_Traverse_to_' + data_name + speed_affix + '.tif'\n",
    "raster_traverse = create_raster_from_array(traverse_array,           \n",
    "                                           master_geotransform, \n",
    "                                           master_projection,\n",
    "                                           file_type = 'GTiff',\n",
    "                                           file_path = file_path)\n",
    "raster_traverse = None"
   ]
  },
  {
   "cell_type": "markdown",
   "metadata": {},
   "source": [
    "**Large degraded craters**\n",
    "\n",
    "http://craters.sjrdesign.net/\n",
    "\n",
    "Diameter &ge; 10 km & degradation state = 1 or 2"
   ]
  },
  {
   "cell_type": "markdown",
   "metadata": {},
   "source": [
    "Rasterize the initial vector data at 20 ppd and perform the fast marching."
   ]
  },
  {
   "cell_type": "code",
   "execution_count": 201,
   "metadata": {
    "collapsed": true
   },
   "outputs": [],
   "source": [
    "data_type = gdal.GDT_Int32\n",
    "\n",
    "shapes = []\n",
    "for crater in zip(*mars_craters):\n",
    "    if float(crater[2]) >= 10. and (float(crater[6]) == 1 or float(crater[6]) == 2): # kilometers\n",
    "        feature_geometry = Point(crater[0], crater[1])\n",
    "        shapes.append(feature_geometry)\n",
    "\n",
    "raster_rasterization = rasterize_geometries(shapes, \n",
    "                                            data_type,\n",
    "                                            master_width, \n",
    "                                            master_height,\n",
    "                                            master_geotransform,\n",
    "                                            master_spatial_reference_system)\n",
    "raster_rasterization_array = get_raster_array(raster_rasterization)\n",
    "\n",
    "scientific_targets_array[raster_rasterization_array == 0] = 0"
   ]
  },
  {
   "cell_type": "code",
   "execution_count": 202,
   "metadata": {
    "collapsed": false
   },
   "outputs": [
    {
     "name": "stdout",
     "output_type": "stream",
     "text": [
      "CPU times: user 11min 28s, sys: 12.7 s, total: 11min 41s\n",
      "Wall time: 11min 27s\n"
     ]
    }
   ],
   "source": [
    "%%time\n",
    "\n",
    "traverse_array = run_fast_marching(raster_rasterization_array,\n",
    "                                   raster_rover_speed_array,\n",
    "                                   longitude_array,\n",
    "                                   latitude_array,\n",
    "                                   mars_radius)"
   ]
  },
  {
   "cell_type": "markdown",
   "metadata": {},
   "source": [
    "Export the map to a .tif file."
   ]
  },
  {
   "cell_type": "code",
   "execution_count": 203,
   "metadata": {
    "collapsed": true
   },
   "outputs": [],
   "source": [
    "data_name = 'Large_Degraded_Craters'\n",
    "\n",
    "file_path = base_folder + output_folder + 'Interpreted_Data_Traverse_to_' + data_name + speed_affix + '.tif'\n",
    "raster_traverse = create_raster_from_array(traverse_array,           \n",
    "                                           master_geotransform, \n",
    "                                           master_projection,\n",
    "                                           file_type = 'GTiff',\n",
    "                                           file_path = file_path)\n",
    "raster_traverse = None"
   ]
  },
  {
   "cell_type": "markdown",
   "metadata": {},
   "source": [
    "**Potential hydrothermal systems**\n",
    "\n",
    "Farmer (1996); Dohm et al., (2000); Marzo et al. (2010)"
   ]
  },
  {
   "cell_type": "markdown",
   "metadata": {},
   "source": [
    "Rasterize the initial vector data at 20 ppd and perform the fast marching."
   ]
  },
  {
   "cell_type": "code",
   "execution_count": 204,
   "metadata": {
    "collapsed": true
   },
   "outputs": [],
   "source": [
    "potential_hydrothermal_systems = get_latitude_longitude_from_csv_file(base_folder + 'Original_Data/Interpreted_Data/Potential-Hydrothermal-Systems_Farmer-1996-And-Others.csv')"
   ]
  },
  {
   "cell_type": "code",
   "execution_count": 205,
   "metadata": {
    "collapsed": true
   },
   "outputs": [],
   "source": [
    "data_type = gdal.GDT_Int32\n",
    "\n",
    "shapes = []\n",
    "for i in range(len(potential_hydrothermal_systems[0])):\n",
    "    feature_geometry = Point(potential_hydrothermal_systems[0][i], potential_hydrothermal_systems[1][i])\n",
    "    shapes.append(feature_geometry)\n",
    "\n",
    "raster_rasterization = rasterize_geometries(shapes, \n",
    "                                            data_type,\n",
    "                                            master_width, \n",
    "                                            master_height,\n",
    "                                            master_geotransform,\n",
    "                                            master_spatial_reference_system)\n",
    "raster_rasterization_array = get_raster_array(raster_rasterization)\n",
    "\n",
    "scientific_targets_array[raster_rasterization_array == 0] = 0"
   ]
  },
  {
   "cell_type": "code",
   "execution_count": 206,
   "metadata": {
    "collapsed": false
   },
   "outputs": [
    {
     "name": "stdout",
     "output_type": "stream",
     "text": [
      "CPU times: user 8min 28s, sys: 10.7 s, total: 8min 39s\n",
      "Wall time: 8min 26s\n"
     ]
    }
   ],
   "source": [
    "%%time\n",
    "\n",
    "traverse_array = run_fast_marching(raster_rasterization_array,\n",
    "                                   raster_rover_speed_array,\n",
    "                                   longitude_array,\n",
    "                                   latitude_array,\n",
    "                                   mars_radius)"
   ]
  },
  {
   "cell_type": "markdown",
   "metadata": {},
   "source": [
    "Export the map to a .tif file."
   ]
  },
  {
   "cell_type": "code",
   "execution_count": 207,
   "metadata": {
    "collapsed": true
   },
   "outputs": [],
   "source": [
    "data_name = 'Potential_Hydrothermal_Systems'\n",
    "\n",
    "file_path = base_folder + output_folder + 'Interpreted_Data_Traverse_to_' + data_name + speed_affix + '.tif'\n",
    "raster_traverse = create_raster_from_array(traverse_array,           \n",
    "                                           master_geotransform, \n",
    "                                           master_projection,\n",
    "                                           file_type = 'GTiff',\n",
    "                                           file_path = file_path)\n",
    "raster_traverse = None"
   ]
  },
  {
   "cell_type": "markdown",
   "metadata": {},
   "source": [
    "### Structures with multiple potential origins"
   ]
  },
  {
   "cell_type": "markdown",
   "metadata": {},
   "source": [
    "**Scarps**\n",
    "\n",
    "ftp://pdsimage2.wr.usgs.gov/pub/pigpen/mars/geology"
   ]
  },
  {
   "cell_type": "markdown",
   "metadata": {},
   "source": [
    "Rasterize the initial vector data at 20 ppd and perform the fast marching."
   ]
  },
  {
   "cell_type": "code",
   "execution_count": 208,
   "metadata": {
    "collapsed": false
   },
   "outputs": [
    {
     "name": "stdout",
     "output_type": "stream",
     "text": [
      " _______________________________________________________________________________\n",
      "/ Shapefile field names:\n",
      "| \n",
      "\n",
      "\\_______________________________________________________________________________\n",
      " _______________________________________________________________________________\n",
      "/ Shapefile field names:\n",
      "| \n",
      "| TYPE | Shape_Leng \n",
      "\\_______________________________________________________________________________\n"
     ]
    }
   ],
   "source": [
    "shapefile_scarps = filter_shapefile(shapefile_structures,\n",
    "                                               'Interpreta', \n",
    "                                               ['Scarp'])\n",
    "print_shapefile_field_names(shapefile_scarps)\n",
    "\n",
    "shapefile_scarps_part2 = open_shapefile(base_folder + 'Original_Data/Interpreted_Data/NPlains_geology_SIM2888_2005/SIM2888_mar06_preliminary/shapefiles/SIM2888_Mars2000_Sphere/SIM2888_scarps_ocentric.shp')\n",
    "print_shapefile_field_names(shapefile_scarps_part2)"
   ]
  },
  {
   "cell_type": "code",
   "execution_count": 209,
   "metadata": {
    "collapsed": true
   },
   "outputs": [],
   "source": [
    "projection = shapefile_scarps.GetLayer().GetSpatialRef().ExportToWkt()\n",
    "data_type = gdal.GDT_Int32\n",
    "\n",
    "raster_rasterization = rasterize_shapefile(shapefile_scarps, \n",
    "                                           None,\n",
    "                                           data_type,\n",
    "                                           master_width, \n",
    "                                           master_height,                    \n",
    "                                           master_geotransform, \n",
    "                                           projection)\n",
    "raster_rasterization_array = get_raster_array(raster_rasterization)\n",
    "\n",
    "projection = shapefile_scarps_part2.GetLayer().GetSpatialRef().ExportToWkt()\n",
    "\n",
    "raster_rasterization_part2 = rasterize_shapefile(shapefile_scarps_part2, \n",
    "                                                 None,\n",
    "                                                 data_type,\n",
    "                                                 master_width, \n",
    "                                                 master_height,                    \n",
    "                                                 master_geotransform, \n",
    "                                                 projection)\n",
    "raster_rasterization_part2_array = get_raster_array(raster_rasterization_part2)\n",
    "\n",
    "raster_rasterization_array[raster_rasterization_part2_array == 0] = 0\n",
    "\n",
    "scientific_targets_array[raster_rasterization_array == 0] = 0"
   ]
  },
  {
   "cell_type": "code",
   "execution_count": 210,
   "metadata": {
    "collapsed": false
   },
   "outputs": [
    {
     "name": "stdout",
     "output_type": "stream",
     "text": [
      "CPU times: user 10min 24s, sys: 12.2 s, total: 10min 36s\n",
      "Wall time: 10min 22s\n"
     ]
    }
   ],
   "source": [
    "%%time\n",
    "\n",
    "traverse_array = run_fast_marching(raster_rasterization_array,\n",
    "                                   raster_rover_speed_array,\n",
    "                                   longitude_array,\n",
    "                                   latitude_array,\n",
    "                                   mars_radius)"
   ]
  },
  {
   "cell_type": "markdown",
   "metadata": {},
   "source": [
    "Export the map to a .tif file."
   ]
  },
  {
   "cell_type": "code",
   "execution_count": 211,
   "metadata": {
    "collapsed": true
   },
   "outputs": [],
   "source": [
    "data_name = 'Scarps'\n",
    "\n",
    "file_path = base_folder + output_folder + 'Interpreted_Data_Traverse_to_' + data_name + speed_affix + '.tif'\n",
    "raster_traverse = create_raster_from_array(traverse_array,           \n",
    "                                           master_geotransform, \n",
    "                                           master_projection,\n",
    "                                           file_type = 'GTiff',\n",
    "                                           file_path = file_path)\n",
    "raster_traverse = None"
   ]
  },
  {
   "cell_type": "markdown",
   "metadata": {},
   "source": [
    "**Ridges**\n",
    "\n",
    "ftp://pdsimage2.wr.usgs.gov/pub/pigpen/mars/geology"
   ]
  },
  {
   "cell_type": "markdown",
   "metadata": {},
   "source": [
    "Rasterize the initial vector data at 20 ppd and perform the fast marching."
   ]
  },
  {
   "cell_type": "code",
   "execution_count": 212,
   "metadata": {
    "collapsed": false
   },
   "outputs": [
    {
     "name": "stdout",
     "output_type": "stream",
     "text": [
      " _______________________________________________________________________________\n",
      "/ Shapefile field names:\n",
      "| \n",
      "\n",
      "\\_______________________________________________________________________________\n",
      " _______________________________________________________________________________\n",
      "/ Shapefile field names:\n",
      "| \n",
      "| TYPE | Shape_Leng \n",
      "\\_______________________________________________________________________________\n"
     ]
    }
   ],
   "source": [
    "shapefile_ridges = filter_shapefile(shapefile_structures,\n",
    "                                               'Interpreta', \n",
    "                                               ['Ridge'])\n",
    "print_shapefile_field_names(shapefile_ridges)\n",
    "\n",
    "shapefile_ridges_part2 = open_shapefile(base_folder + 'Original_Data/Interpreted_Data/NPlains_geology_SIM2888_2005/SIM2888_mar06_preliminary/shapefiles/SIM2888_Mars2000_Sphere/SIM2888_ridges_ocentric.shp')\n",
    "print_shapefile_field_names(shapefile_ridges_part2)"
   ]
  },
  {
   "cell_type": "code",
   "execution_count": 213,
   "metadata": {
    "collapsed": true
   },
   "outputs": [],
   "source": [
    "projection = shapefile_ridges.GetLayer().GetSpatialRef().ExportToWkt()\n",
    "data_type = gdal.GDT_Int32\n",
    "\n",
    "raster_rasterization = rasterize_shapefile(shapefile_ridges, \n",
    "                                           None,\n",
    "                                           data_type,\n",
    "                                           master_width, \n",
    "                                           master_height,                    \n",
    "                                           master_geotransform, \n",
    "                                           projection)\n",
    "raster_rasterization_array = get_raster_array(raster_rasterization)\n",
    "\n",
    "projection = shapefile_ridges_part2.GetLayer().GetSpatialRef().ExportToWkt()\n",
    "\n",
    "raster_rasterization_part2 = rasterize_shapefile(shapefile_ridges_part2, \n",
    "                                                 None,\n",
    "                                                 data_type,\n",
    "                                                 master_width, \n",
    "                                                 master_height,                    \n",
    "                                                 master_geotransform, \n",
    "                                                 projection)\n",
    "raster_rasterization_part2_array = get_raster_array(raster_rasterization_part2)\n",
    "\n",
    "raster_rasterization_array[raster_rasterization_part2_array == 0] = 0\n",
    "\n",
    "scientific_targets_array[raster_rasterization_array == 0] = 0"
   ]
  },
  {
   "cell_type": "code",
   "execution_count": 214,
   "metadata": {
    "collapsed": false
   },
   "outputs": [
    {
     "name": "stdout",
     "output_type": "stream",
     "text": [
      "CPU times: user 9min 55s, sys: 11.4 s, total: 10min 6s\n",
      "Wall time: 9min 53s\n"
     ]
    }
   ],
   "source": [
    "%%time\n",
    "\n",
    "traverse_array = run_fast_marching(raster_rasterization_array,\n",
    "                                   raster_rover_speed_array,\n",
    "                                   longitude_array,\n",
    "                                   latitude_array,\n",
    "                                   mars_radius)"
   ]
  },
  {
   "cell_type": "markdown",
   "metadata": {},
   "source": [
    "Export the map to a .tif file."
   ]
  },
  {
   "cell_type": "code",
   "execution_count": 215,
   "metadata": {
    "collapsed": true
   },
   "outputs": [],
   "source": [
    "data_name = 'Ridges'\n",
    "\n",
    "file_path = base_folder + output_folder + 'Interpreted_Data_Traverse_to_' + data_name + speed_affix + '.tif'\n",
    "raster_traverse = create_raster_from_array(traverse_array,           \n",
    "                                           master_geotransform, \n",
    "                                           master_projection,\n",
    "                                           file_type = 'GTiff',\n",
    "                                           file_path = file_path)\n",
    "raster_traverse = None"
   ]
  },
  {
   "cell_type": "markdown",
   "metadata": {},
   "source": [
    "**Polygonal ridge networks**\n",
    "\n",
    "https://planetarydatabase.wordpress.com/2016/09/23/polygonal-ridges-boxwork-or-reticulate-ridges"
   ]
  },
  {
   "cell_type": "markdown",
   "metadata": {},
   "source": [
    "Rasterize the initial vector data at 20 ppd and perform the fast marching."
   ]
  },
  {
   "cell_type": "code",
   "execution_count": 216,
   "metadata": {
    "collapsed": false
   },
   "outputs": [
    {
     "name": "stdout",
     "output_type": "stream",
     "text": [
      " _______________________________________________________________________________\n",
      "/ Shapefile field names:\n",
      "| \n",
      "| Longitude | Latitude | Type | Area \n",
      "\\_______________________________________________________________________________\n"
     ]
    }
   ],
   "source": [
    "shapefile_poly_ridge_networks = open_shapefile(base_folder + 'Original_Data/Interpreted_Data/polygonal_ridge/kerber_ridges.shp')\n",
    "\n",
    "print_shapefile_field_names(shapefile_poly_ridge_networks)"
   ]
  },
  {
   "cell_type": "code",
   "execution_count": 217,
   "metadata": {
    "collapsed": true
   },
   "outputs": [],
   "source": [
    "projection = shapefile_poly_ridge_networks.GetLayer().GetSpatialRef().ExportToWkt()\n",
    "data_type = gdal.GDT_Int32\n",
    "\n",
    "raster_rasterization = rasterize_shapefile(shapefile_poly_ridge_networks, \n",
    "                                           None,\n",
    "                                           data_type,\n",
    "                                           master_width, \n",
    "                                           master_height,                    \n",
    "                                           master_geotransform, \n",
    "                                           projection)\n",
    "raster_rasterization_array = get_raster_array(raster_rasterization)\n",
    "\n",
    "scientific_targets_array[raster_rasterization_array == 0] = 0"
   ]
  },
  {
   "cell_type": "code",
   "execution_count": 218,
   "metadata": {
    "collapsed": false
   },
   "outputs": [
    {
     "name": "stdout",
     "output_type": "stream",
     "text": [
      "CPU times: user 8min 35s, sys: 10.7 s, total: 8min 45s\n",
      "Wall time: 8min 33s\n"
     ]
    }
   ],
   "source": [
    "%%time\n",
    "\n",
    "traverse_array = run_fast_marching(raster_rasterization_array,\n",
    "                                   raster_rover_speed_array,\n",
    "                                   longitude_array,\n",
    "                                   latitude_array,\n",
    "                                   mars_radius)"
   ]
  },
  {
   "cell_type": "markdown",
   "metadata": {},
   "source": [
    "Export the map to a .tif file."
   ]
  },
  {
   "cell_type": "code",
   "execution_count": 219,
   "metadata": {
    "collapsed": true
   },
   "outputs": [],
   "source": [
    "data_name = 'Polygonal_Ridge_Networks'\n",
    "\n",
    "file_path = base_folder + output_folder + 'Interpreted_Data_Traverse_to_' + data_name + speed_affix + '.tif'\n",
    "raster_traverse = create_raster_from_array(traverse_array,           \n",
    "                                           master_geotransform, \n",
    "                                           master_projection,\n",
    "                                           file_type = 'GTiff',\n",
    "                                           file_path = file_path)\n",
    "raster_traverse = None"
   ]
  },
  {
   "cell_type": "markdown",
   "metadata": {},
   "source": [
    "### Time constraints"
   ]
  },
  {
   "cell_type": "markdown",
   "metadata": {},
   "source": [
    "We use crater-dated geological units of Mars as time constraints. Due to their extent, they contain many cells, and rasterizing them directly increases a lot the computation time of the next steps. So, we only use as time constraints the cells where other targets are present."
   ]
  },
  {
   "cell_type": "code",
   "execution_count": 220,
   "metadata": {
    "collapsed": false
   },
   "outputs": [
    {
     "data": {
      "application/javascript": [
       "/* Put everything inside the global mpl namespace */\n",
       "window.mpl = {};\n",
       "\n",
       "\n",
       "mpl.get_websocket_type = function() {\n",
       "    if (typeof(WebSocket) !== 'undefined') {\n",
       "        return WebSocket;\n",
       "    } else if (typeof(MozWebSocket) !== 'undefined') {\n",
       "        return MozWebSocket;\n",
       "    } else {\n",
       "        alert('Your browser does not have WebSocket support.' +\n",
       "              'Please try Chrome, Safari or Firefox ≥ 6. ' +\n",
       "              'Firefox 4 and 5 are also supported but you ' +\n",
       "              'have to enable WebSockets in about:config.');\n",
       "    };\n",
       "}\n",
       "\n",
       "mpl.figure = function(figure_id, websocket, ondownload, parent_element) {\n",
       "    this.id = figure_id;\n",
       "\n",
       "    this.ws = websocket;\n",
       "\n",
       "    this.supports_binary = (this.ws.binaryType != undefined);\n",
       "\n",
       "    if (!this.supports_binary) {\n",
       "        var warnings = document.getElementById(\"mpl-warnings\");\n",
       "        if (warnings) {\n",
       "            warnings.style.display = 'block';\n",
       "            warnings.textContent = (\n",
       "                \"This browser does not support binary websocket messages. \" +\n",
       "                    \"Performance may be slow.\");\n",
       "        }\n",
       "    }\n",
       "\n",
       "    this.imageObj = new Image();\n",
       "\n",
       "    this.context = undefined;\n",
       "    this.message = undefined;\n",
       "    this.canvas = undefined;\n",
       "    this.rubberband_canvas = undefined;\n",
       "    this.rubberband_context = undefined;\n",
       "    this.format_dropdown = undefined;\n",
       "\n",
       "    this.image_mode = 'full';\n",
       "\n",
       "    this.root = $('<div/>');\n",
       "    this._root_extra_style(this.root)\n",
       "    this.root.attr('style', 'display: inline-block');\n",
       "\n",
       "    $(parent_element).append(this.root);\n",
       "\n",
       "    this._init_header(this);\n",
       "    this._init_canvas(this);\n",
       "    this._init_toolbar(this);\n",
       "\n",
       "    var fig = this;\n",
       "\n",
       "    this.waiting = false;\n",
       "\n",
       "    this.ws.onopen =  function () {\n",
       "            fig.send_message(\"supports_binary\", {value: fig.supports_binary});\n",
       "            fig.send_message(\"send_image_mode\", {});\n",
       "            if (mpl.ratio != 1) {\n",
       "                fig.send_message(\"set_dpi_ratio\", {'dpi_ratio': mpl.ratio});\n",
       "            }\n",
       "            fig.send_message(\"refresh\", {});\n",
       "        }\n",
       "\n",
       "    this.imageObj.onload = function() {\n",
       "            if (fig.image_mode == 'full') {\n",
       "                // Full images could contain transparency (where diff images\n",
       "                // almost always do), so we need to clear the canvas so that\n",
       "                // there is no ghosting.\n",
       "                fig.context.clearRect(0, 0, fig.canvas.width, fig.canvas.height);\n",
       "            }\n",
       "            fig.context.drawImage(fig.imageObj, 0, 0);\n",
       "        };\n",
       "\n",
       "    this.imageObj.onunload = function() {\n",
       "        this.ws.close();\n",
       "    }\n",
       "\n",
       "    this.ws.onmessage = this._make_on_message_function(this);\n",
       "\n",
       "    this.ondownload = ondownload;\n",
       "}\n",
       "\n",
       "mpl.figure.prototype._init_header = function() {\n",
       "    var titlebar = $(\n",
       "        '<div class=\"ui-dialog-titlebar ui-widget-header ui-corner-all ' +\n",
       "        'ui-helper-clearfix\"/>');\n",
       "    var titletext = $(\n",
       "        '<div class=\"ui-dialog-title\" style=\"width: 100%; ' +\n",
       "        'text-align: center; padding: 3px;\"/>');\n",
       "    titlebar.append(titletext)\n",
       "    this.root.append(titlebar);\n",
       "    this.header = titletext[0];\n",
       "}\n",
       "\n",
       "\n",
       "\n",
       "mpl.figure.prototype._canvas_extra_style = function(canvas_div) {\n",
       "\n",
       "}\n",
       "\n",
       "\n",
       "mpl.figure.prototype._root_extra_style = function(canvas_div) {\n",
       "\n",
       "}\n",
       "\n",
       "mpl.figure.prototype._init_canvas = function() {\n",
       "    var fig = this;\n",
       "\n",
       "    var canvas_div = $('<div/>');\n",
       "\n",
       "    canvas_div.attr('style', 'position: relative; clear: both; outline: 0');\n",
       "\n",
       "    function canvas_keyboard_event(event) {\n",
       "        return fig.key_event(event, event['data']);\n",
       "    }\n",
       "\n",
       "    canvas_div.keydown('key_press', canvas_keyboard_event);\n",
       "    canvas_div.keyup('key_release', canvas_keyboard_event);\n",
       "    this.canvas_div = canvas_div\n",
       "    this._canvas_extra_style(canvas_div)\n",
       "    this.root.append(canvas_div);\n",
       "\n",
       "    var canvas = $('<canvas/>');\n",
       "    canvas.addClass('mpl-canvas');\n",
       "    canvas.attr('style', \"left: 0; top: 0; z-index: 0; outline: 0\")\n",
       "\n",
       "    this.canvas = canvas[0];\n",
       "    this.context = canvas[0].getContext(\"2d\");\n",
       "\n",
       "    var backingStore = this.context.backingStorePixelRatio ||\n",
       "\tthis.context.webkitBackingStorePixelRatio ||\n",
       "\tthis.context.mozBackingStorePixelRatio ||\n",
       "\tthis.context.msBackingStorePixelRatio ||\n",
       "\tthis.context.oBackingStorePixelRatio ||\n",
       "\tthis.context.backingStorePixelRatio || 1;\n",
       "\n",
       "    mpl.ratio = (window.devicePixelRatio || 1) / backingStore;\n",
       "\n",
       "    var rubberband = $('<canvas/>');\n",
       "    rubberband.attr('style', \"position: absolute; left: 0; top: 0; z-index: 1;\")\n",
       "\n",
       "    var pass_mouse_events = true;\n",
       "\n",
       "    canvas_div.resizable({\n",
       "        start: function(event, ui) {\n",
       "            pass_mouse_events = false;\n",
       "        },\n",
       "        resize: function(event, ui) {\n",
       "            fig.request_resize(ui.size.width, ui.size.height);\n",
       "        },\n",
       "        stop: function(event, ui) {\n",
       "            pass_mouse_events = true;\n",
       "            fig.request_resize(ui.size.width, ui.size.height);\n",
       "        },\n",
       "    });\n",
       "\n",
       "    function mouse_event_fn(event) {\n",
       "        if (pass_mouse_events)\n",
       "            return fig.mouse_event(event, event['data']);\n",
       "    }\n",
       "\n",
       "    rubberband.mousedown('button_press', mouse_event_fn);\n",
       "    rubberband.mouseup('button_release', mouse_event_fn);\n",
       "    // Throttle sequential mouse events to 1 every 20ms.\n",
       "    rubberband.mousemove('motion_notify', mouse_event_fn);\n",
       "\n",
       "    rubberband.mouseenter('figure_enter', mouse_event_fn);\n",
       "    rubberband.mouseleave('figure_leave', mouse_event_fn);\n",
       "\n",
       "    canvas_div.on(\"wheel\", function (event) {\n",
       "        event = event.originalEvent;\n",
       "        event['data'] = 'scroll'\n",
       "        if (event.deltaY < 0) {\n",
       "            event.step = 1;\n",
       "        } else {\n",
       "            event.step = -1;\n",
       "        }\n",
       "        mouse_event_fn(event);\n",
       "    });\n",
       "\n",
       "    canvas_div.append(canvas);\n",
       "    canvas_div.append(rubberband);\n",
       "\n",
       "    this.rubberband = rubberband;\n",
       "    this.rubberband_canvas = rubberband[0];\n",
       "    this.rubberband_context = rubberband[0].getContext(\"2d\");\n",
       "    this.rubberband_context.strokeStyle = \"#000000\";\n",
       "\n",
       "    this._resize_canvas = function(width, height) {\n",
       "        // Keep the size of the canvas, canvas container, and rubber band\n",
       "        // canvas in synch.\n",
       "        canvas_div.css('width', width)\n",
       "        canvas_div.css('height', height)\n",
       "\n",
       "        canvas.attr('width', width * mpl.ratio);\n",
       "        canvas.attr('height', height * mpl.ratio);\n",
       "        canvas.attr('style', 'width: ' + width + 'px; height: ' + height + 'px;');\n",
       "\n",
       "        rubberband.attr('width', width);\n",
       "        rubberband.attr('height', height);\n",
       "    }\n",
       "\n",
       "    // Set the figure to an initial 600x600px, this will subsequently be updated\n",
       "    // upon first draw.\n",
       "    this._resize_canvas(600, 600);\n",
       "\n",
       "    // Disable right mouse context menu.\n",
       "    $(this.rubberband_canvas).bind(\"contextmenu\",function(e){\n",
       "        return false;\n",
       "    });\n",
       "\n",
       "    function set_focus () {\n",
       "        canvas.focus();\n",
       "        canvas_div.focus();\n",
       "    }\n",
       "\n",
       "    window.setTimeout(set_focus, 100);\n",
       "}\n",
       "\n",
       "mpl.figure.prototype._init_toolbar = function() {\n",
       "    var fig = this;\n",
       "\n",
       "    var nav_element = $('<div/>')\n",
       "    nav_element.attr('style', 'width: 100%');\n",
       "    this.root.append(nav_element);\n",
       "\n",
       "    // Define a callback function for later on.\n",
       "    function toolbar_event(event) {\n",
       "        return fig.toolbar_button_onclick(event['data']);\n",
       "    }\n",
       "    function toolbar_mouse_event(event) {\n",
       "        return fig.toolbar_button_onmouseover(event['data']);\n",
       "    }\n",
       "\n",
       "    for(var toolbar_ind in mpl.toolbar_items) {\n",
       "        var name = mpl.toolbar_items[toolbar_ind][0];\n",
       "        var tooltip = mpl.toolbar_items[toolbar_ind][1];\n",
       "        var image = mpl.toolbar_items[toolbar_ind][2];\n",
       "        var method_name = mpl.toolbar_items[toolbar_ind][3];\n",
       "\n",
       "        if (!name) {\n",
       "            // put a spacer in here.\n",
       "            continue;\n",
       "        }\n",
       "        var button = $('<button/>');\n",
       "        button.addClass('ui-button ui-widget ui-state-default ui-corner-all ' +\n",
       "                        'ui-button-icon-only');\n",
       "        button.attr('role', 'button');\n",
       "        button.attr('aria-disabled', 'false');\n",
       "        button.click(method_name, toolbar_event);\n",
       "        button.mouseover(tooltip, toolbar_mouse_event);\n",
       "\n",
       "        var icon_img = $('<span/>');\n",
       "        icon_img.addClass('ui-button-icon-primary ui-icon');\n",
       "        icon_img.addClass(image);\n",
       "        icon_img.addClass('ui-corner-all');\n",
       "\n",
       "        var tooltip_span = $('<span/>');\n",
       "        tooltip_span.addClass('ui-button-text');\n",
       "        tooltip_span.html(tooltip);\n",
       "\n",
       "        button.append(icon_img);\n",
       "        button.append(tooltip_span);\n",
       "\n",
       "        nav_element.append(button);\n",
       "    }\n",
       "\n",
       "    var fmt_picker_span = $('<span/>');\n",
       "\n",
       "    var fmt_picker = $('<select/>');\n",
       "    fmt_picker.addClass('mpl-toolbar-option ui-widget ui-widget-content');\n",
       "    fmt_picker_span.append(fmt_picker);\n",
       "    nav_element.append(fmt_picker_span);\n",
       "    this.format_dropdown = fmt_picker[0];\n",
       "\n",
       "    for (var ind in mpl.extensions) {\n",
       "        var fmt = mpl.extensions[ind];\n",
       "        var option = $(\n",
       "            '<option/>', {selected: fmt === mpl.default_extension}).html(fmt);\n",
       "        fmt_picker.append(option)\n",
       "    }\n",
       "\n",
       "    // Add hover states to the ui-buttons\n",
       "    $( \".ui-button\" ).hover(\n",
       "        function() { $(this).addClass(\"ui-state-hover\");},\n",
       "        function() { $(this).removeClass(\"ui-state-hover\");}\n",
       "    );\n",
       "\n",
       "    var status_bar = $('<span class=\"mpl-message\"/>');\n",
       "    nav_element.append(status_bar);\n",
       "    this.message = status_bar[0];\n",
       "}\n",
       "\n",
       "mpl.figure.prototype.request_resize = function(x_pixels, y_pixels) {\n",
       "    // Request matplotlib to resize the figure. Matplotlib will then trigger a resize in the client,\n",
       "    // which will in turn request a refresh of the image.\n",
       "    this.send_message('resize', {'width': x_pixels, 'height': y_pixels});\n",
       "}\n",
       "\n",
       "mpl.figure.prototype.send_message = function(type, properties) {\n",
       "    properties['type'] = type;\n",
       "    properties['figure_id'] = this.id;\n",
       "    this.ws.send(JSON.stringify(properties));\n",
       "}\n",
       "\n",
       "mpl.figure.prototype.send_draw_message = function() {\n",
       "    if (!this.waiting) {\n",
       "        this.waiting = true;\n",
       "        this.ws.send(JSON.stringify({type: \"draw\", figure_id: this.id}));\n",
       "    }\n",
       "}\n",
       "\n",
       "\n",
       "mpl.figure.prototype.handle_save = function(fig, msg) {\n",
       "    var format_dropdown = fig.format_dropdown;\n",
       "    var format = format_dropdown.options[format_dropdown.selectedIndex].value;\n",
       "    fig.ondownload(fig, format);\n",
       "}\n",
       "\n",
       "\n",
       "mpl.figure.prototype.handle_resize = function(fig, msg) {\n",
       "    var size = msg['size'];\n",
       "    if (size[0] != fig.canvas.width || size[1] != fig.canvas.height) {\n",
       "        fig._resize_canvas(size[0], size[1]);\n",
       "        fig.send_message(\"refresh\", {});\n",
       "    };\n",
       "}\n",
       "\n",
       "mpl.figure.prototype.handle_rubberband = function(fig, msg) {\n",
       "    var x0 = msg['x0'] / mpl.ratio;\n",
       "    var y0 = (fig.canvas.height - msg['y0']) / mpl.ratio;\n",
       "    var x1 = msg['x1'] / mpl.ratio;\n",
       "    var y1 = (fig.canvas.height - msg['y1']) / mpl.ratio;\n",
       "    x0 = Math.floor(x0) + 0.5;\n",
       "    y0 = Math.floor(y0) + 0.5;\n",
       "    x1 = Math.floor(x1) + 0.5;\n",
       "    y1 = Math.floor(y1) + 0.5;\n",
       "    var min_x = Math.min(x0, x1);\n",
       "    var min_y = Math.min(y0, y1);\n",
       "    var width = Math.abs(x1 - x0);\n",
       "    var height = Math.abs(y1 - y0);\n",
       "\n",
       "    fig.rubberband_context.clearRect(\n",
       "        0, 0, fig.canvas.width, fig.canvas.height);\n",
       "\n",
       "    fig.rubberband_context.strokeRect(min_x, min_y, width, height);\n",
       "}\n",
       "\n",
       "mpl.figure.prototype.handle_figure_label = function(fig, msg) {\n",
       "    // Updates the figure title.\n",
       "    fig.header.textContent = msg['label'];\n",
       "}\n",
       "\n",
       "mpl.figure.prototype.handle_cursor = function(fig, msg) {\n",
       "    var cursor = msg['cursor'];\n",
       "    switch(cursor)\n",
       "    {\n",
       "    case 0:\n",
       "        cursor = 'pointer';\n",
       "        break;\n",
       "    case 1:\n",
       "        cursor = 'default';\n",
       "        break;\n",
       "    case 2:\n",
       "        cursor = 'crosshair';\n",
       "        break;\n",
       "    case 3:\n",
       "        cursor = 'move';\n",
       "        break;\n",
       "    }\n",
       "    fig.rubberband_canvas.style.cursor = cursor;\n",
       "}\n",
       "\n",
       "mpl.figure.prototype.handle_message = function(fig, msg) {\n",
       "    fig.message.textContent = msg['message'];\n",
       "}\n",
       "\n",
       "mpl.figure.prototype.handle_draw = function(fig, msg) {\n",
       "    // Request the server to send over a new figure.\n",
       "    fig.send_draw_message();\n",
       "}\n",
       "\n",
       "mpl.figure.prototype.handle_image_mode = function(fig, msg) {\n",
       "    fig.image_mode = msg['mode'];\n",
       "}\n",
       "\n",
       "mpl.figure.prototype.updated_canvas_event = function() {\n",
       "    // Called whenever the canvas gets updated.\n",
       "    this.send_message(\"ack\", {});\n",
       "}\n",
       "\n",
       "// A function to construct a web socket function for onmessage handling.\n",
       "// Called in the figure constructor.\n",
       "mpl.figure.prototype._make_on_message_function = function(fig) {\n",
       "    return function socket_on_message(evt) {\n",
       "        if (evt.data instanceof Blob) {\n",
       "            /* FIXME: We get \"Resource interpreted as Image but\n",
       "             * transferred with MIME type text/plain:\" errors on\n",
       "             * Chrome.  But how to set the MIME type?  It doesn't seem\n",
       "             * to be part of the websocket stream */\n",
       "            evt.data.type = \"image/png\";\n",
       "\n",
       "            /* Free the memory for the previous frames */\n",
       "            if (fig.imageObj.src) {\n",
       "                (window.URL || window.webkitURL).revokeObjectURL(\n",
       "                    fig.imageObj.src);\n",
       "            }\n",
       "\n",
       "            fig.imageObj.src = (window.URL || window.webkitURL).createObjectURL(\n",
       "                evt.data);\n",
       "            fig.updated_canvas_event();\n",
       "            fig.waiting = false;\n",
       "            return;\n",
       "        }\n",
       "        else if (typeof evt.data === 'string' && evt.data.slice(0, 21) == \"data:image/png;base64\") {\n",
       "            fig.imageObj.src = evt.data;\n",
       "            fig.updated_canvas_event();\n",
       "            fig.waiting = false;\n",
       "            return;\n",
       "        }\n",
       "\n",
       "        var msg = JSON.parse(evt.data);\n",
       "        var msg_type = msg['type'];\n",
       "\n",
       "        // Call the  \"handle_{type}\" callback, which takes\n",
       "        // the figure and JSON message as its only arguments.\n",
       "        try {\n",
       "            var callback = fig[\"handle_\" + msg_type];\n",
       "        } catch (e) {\n",
       "            console.log(\"No handler for the '\" + msg_type + \"' message type: \", msg);\n",
       "            return;\n",
       "        }\n",
       "\n",
       "        if (callback) {\n",
       "            try {\n",
       "                // console.log(\"Handling '\" + msg_type + \"' message: \", msg);\n",
       "                callback(fig, msg);\n",
       "            } catch (e) {\n",
       "                console.log(\"Exception inside the 'handler_\" + msg_type + \"' callback:\", e, e.stack, msg);\n",
       "            }\n",
       "        }\n",
       "    };\n",
       "}\n",
       "\n",
       "// from http://stackoverflow.com/questions/1114465/getting-mouse-location-in-canvas\n",
       "mpl.findpos = function(e) {\n",
       "    //this section is from http://www.quirksmode.org/js/events_properties.html\n",
       "    var targ;\n",
       "    if (!e)\n",
       "        e = window.event;\n",
       "    if (e.target)\n",
       "        targ = e.target;\n",
       "    else if (e.srcElement)\n",
       "        targ = e.srcElement;\n",
       "    if (targ.nodeType == 3) // defeat Safari bug\n",
       "        targ = targ.parentNode;\n",
       "\n",
       "    // jQuery normalizes the pageX and pageY\n",
       "    // pageX,Y are the mouse positions relative to the document\n",
       "    // offset() returns the position of the element relative to the document\n",
       "    var x = e.pageX - $(targ).offset().left;\n",
       "    var y = e.pageY - $(targ).offset().top;\n",
       "\n",
       "    return {\"x\": x, \"y\": y};\n",
       "};\n",
       "\n",
       "/*\n",
       " * return a copy of an object with only non-object keys\n",
       " * we need this to avoid circular references\n",
       " * http://stackoverflow.com/a/24161582/3208463\n",
       " */\n",
       "function simpleKeys (original) {\n",
       "  return Object.keys(original).reduce(function (obj, key) {\n",
       "    if (typeof original[key] !== 'object')\n",
       "        obj[key] = original[key]\n",
       "    return obj;\n",
       "  }, {});\n",
       "}\n",
       "\n",
       "mpl.figure.prototype.mouse_event = function(event, name) {\n",
       "    var canvas_pos = mpl.findpos(event)\n",
       "\n",
       "    if (name === 'button_press')\n",
       "    {\n",
       "        this.canvas.focus();\n",
       "        this.canvas_div.focus();\n",
       "    }\n",
       "\n",
       "    var x = canvas_pos.x * mpl.ratio;\n",
       "    var y = canvas_pos.y * mpl.ratio;\n",
       "\n",
       "    this.send_message(name, {x: x, y: y, button: event.button,\n",
       "                             step: event.step,\n",
       "                             guiEvent: simpleKeys(event)});\n",
       "\n",
       "    /* This prevents the web browser from automatically changing to\n",
       "     * the text insertion cursor when the button is pressed.  We want\n",
       "     * to control all of the cursor setting manually through the\n",
       "     * 'cursor' event from matplotlib */\n",
       "    event.preventDefault();\n",
       "    return false;\n",
       "}\n",
       "\n",
       "mpl.figure.prototype._key_event_extra = function(event, name) {\n",
       "    // Handle any extra behaviour associated with a key event\n",
       "}\n",
       "\n",
       "mpl.figure.prototype.key_event = function(event, name) {\n",
       "\n",
       "    // Prevent repeat events\n",
       "    if (name == 'key_press')\n",
       "    {\n",
       "        if (event.which === this._key)\n",
       "            return;\n",
       "        else\n",
       "            this._key = event.which;\n",
       "    }\n",
       "    if (name == 'key_release')\n",
       "        this._key = null;\n",
       "\n",
       "    var value = '';\n",
       "    if (event.ctrlKey && event.which != 17)\n",
       "        value += \"ctrl+\";\n",
       "    if (event.altKey && event.which != 18)\n",
       "        value += \"alt+\";\n",
       "    if (event.shiftKey && event.which != 16)\n",
       "        value += \"shift+\";\n",
       "\n",
       "    value += 'k';\n",
       "    value += event.which.toString();\n",
       "\n",
       "    this._key_event_extra(event, name);\n",
       "\n",
       "    this.send_message(name, {key: value,\n",
       "                             guiEvent: simpleKeys(event)});\n",
       "    return false;\n",
       "}\n",
       "\n",
       "mpl.figure.prototype.toolbar_button_onclick = function(name) {\n",
       "    if (name == 'download') {\n",
       "        this.handle_save(this, null);\n",
       "    } else {\n",
       "        this.send_message(\"toolbar_button\", {name: name});\n",
       "    }\n",
       "};\n",
       "\n",
       "mpl.figure.prototype.toolbar_button_onmouseover = function(tooltip) {\n",
       "    this.message.textContent = tooltip;\n",
       "};\n",
       "mpl.toolbar_items = [[\"Home\", \"Reset original view\", \"fa fa-home icon-home\", \"home\"], [\"Back\", \"Back to  previous view\", \"fa fa-arrow-left icon-arrow-left\", \"back\"], [\"Forward\", \"Forward to next view\", \"fa fa-arrow-right icon-arrow-right\", \"forward\"], [\"\", \"\", \"\", \"\"], [\"Pan\", \"Pan axes with left mouse, zoom with right\", \"fa fa-arrows icon-move\", \"pan\"], [\"Zoom\", \"Zoom to rectangle\", \"fa fa-square-o icon-check-empty\", \"zoom\"], [\"\", \"\", \"\", \"\"], [\"Download\", \"Download plot\", \"fa fa-floppy-o icon-save\", \"download\"]];\n",
       "\n",
       "mpl.extensions = [\"eps\", \"jpeg\", \"pdf\", \"png\", \"ps\", \"raw\", \"svg\", \"tif\"];\n",
       "\n",
       "mpl.default_extension = \"png\";var comm_websocket_adapter = function(comm) {\n",
       "    // Create a \"websocket\"-like object which calls the given IPython comm\n",
       "    // object with the appropriate methods. Currently this is a non binary\n",
       "    // socket, so there is still some room for performance tuning.\n",
       "    var ws = {};\n",
       "\n",
       "    ws.close = function() {\n",
       "        comm.close()\n",
       "    };\n",
       "    ws.send = function(m) {\n",
       "        //console.log('sending', m);\n",
       "        comm.send(m);\n",
       "    };\n",
       "    // Register the callback with on_msg.\n",
       "    comm.on_msg(function(msg) {\n",
       "        //console.log('receiving', msg['content']['data'], msg);\n",
       "        // Pass the mpl event to the overriden (by mpl) onmessage function.\n",
       "        ws.onmessage(msg['content']['data'])\n",
       "    });\n",
       "    return ws;\n",
       "}\n",
       "\n",
       "mpl.mpl_figure_comm = function(comm, msg) {\n",
       "    // This is the function which gets called when the mpl process\n",
       "    // starts-up an IPython Comm through the \"matplotlib\" channel.\n",
       "\n",
       "    var id = msg.content.data.id;\n",
       "    // Get hold of the div created by the display call when the Comm\n",
       "    // socket was opened in Python.\n",
       "    var element = $(\"#\" + id);\n",
       "    var ws_proxy = comm_websocket_adapter(comm)\n",
       "\n",
       "    function ondownload(figure, format) {\n",
       "        window.open(figure.imageObj.src);\n",
       "    }\n",
       "\n",
       "    var fig = new mpl.figure(id, ws_proxy,\n",
       "                           ondownload,\n",
       "                           element.get(0));\n",
       "\n",
       "    // Call onopen now - mpl needs it, as it is assuming we've passed it a real\n",
       "    // web socket which is closed, not our websocket->open comm proxy.\n",
       "    ws_proxy.onopen();\n",
       "\n",
       "    fig.parent_element = element.get(0);\n",
       "    fig.cell_info = mpl.find_output_cell(\"<div id='\" + id + \"'></div>\");\n",
       "    if (!fig.cell_info) {\n",
       "        console.error(\"Failed to find cell for figure\", id, fig);\n",
       "        return;\n",
       "    }\n",
       "\n",
       "    var output_index = fig.cell_info[2]\n",
       "    var cell = fig.cell_info[0];\n",
       "\n",
       "};\n",
       "\n",
       "mpl.figure.prototype.handle_close = function(fig, msg) {\n",
       "    var width = fig.canvas.width/mpl.ratio\n",
       "    fig.root.unbind('remove')\n",
       "\n",
       "    // Update the output cell to use the data from the current canvas.\n",
       "    fig.push_to_output();\n",
       "    var dataURL = fig.canvas.toDataURL();\n",
       "    // Re-enable the keyboard manager in IPython - without this line, in FF,\n",
       "    // the notebook keyboard shortcuts fail.\n",
       "    IPython.keyboard_manager.enable()\n",
       "    $(fig.parent_element).html('<img src=\"' + dataURL + '\" width=\"' + width + '\">');\n",
       "    fig.close_ws(fig, msg);\n",
       "}\n",
       "\n",
       "mpl.figure.prototype.close_ws = function(fig, msg){\n",
       "    fig.send_message('closing', msg);\n",
       "    // fig.ws.close()\n",
       "}\n",
       "\n",
       "mpl.figure.prototype.push_to_output = function(remove_interactive) {\n",
       "    // Turn the data on the canvas into data in the output cell.\n",
       "    var width = this.canvas.width/mpl.ratio\n",
       "    var dataURL = this.canvas.toDataURL();\n",
       "    this.cell_info[1]['text/html'] = '<img src=\"' + dataURL + '\" width=\"' + width + '\">';\n",
       "}\n",
       "\n",
       "mpl.figure.prototype.updated_canvas_event = function() {\n",
       "    // Tell IPython that the notebook contents must change.\n",
       "    IPython.notebook.set_dirty(true);\n",
       "    this.send_message(\"ack\", {});\n",
       "    var fig = this;\n",
       "    // Wait a second, then push the new image to the DOM so\n",
       "    // that it is saved nicely (might be nice to debounce this).\n",
       "    setTimeout(function () { fig.push_to_output() }, 1000);\n",
       "}\n",
       "\n",
       "mpl.figure.prototype._init_toolbar = function() {\n",
       "    var fig = this;\n",
       "\n",
       "    var nav_element = $('<div/>')\n",
       "    nav_element.attr('style', 'width: 100%');\n",
       "    this.root.append(nav_element);\n",
       "\n",
       "    // Define a callback function for later on.\n",
       "    function toolbar_event(event) {\n",
       "        return fig.toolbar_button_onclick(event['data']);\n",
       "    }\n",
       "    function toolbar_mouse_event(event) {\n",
       "        return fig.toolbar_button_onmouseover(event['data']);\n",
       "    }\n",
       "\n",
       "    for(var toolbar_ind in mpl.toolbar_items){\n",
       "        var name = mpl.toolbar_items[toolbar_ind][0];\n",
       "        var tooltip = mpl.toolbar_items[toolbar_ind][1];\n",
       "        var image = mpl.toolbar_items[toolbar_ind][2];\n",
       "        var method_name = mpl.toolbar_items[toolbar_ind][3];\n",
       "\n",
       "        if (!name) { continue; };\n",
       "\n",
       "        var button = $('<button class=\"btn btn-default\" href=\"#\" title=\"' + name + '\"><i class=\"fa ' + image + ' fa-lg\"></i></button>');\n",
       "        button.click(method_name, toolbar_event);\n",
       "        button.mouseover(tooltip, toolbar_mouse_event);\n",
       "        nav_element.append(button);\n",
       "    }\n",
       "\n",
       "    // Add the status bar.\n",
       "    var status_bar = $('<span class=\"mpl-message\" style=\"text-align:right; float: right;\"/>');\n",
       "    nav_element.append(status_bar);\n",
       "    this.message = status_bar[0];\n",
       "\n",
       "    // Add the close button to the window.\n",
       "    var buttongrp = $('<div class=\"btn-group inline pull-right\"></div>');\n",
       "    var button = $('<button class=\"btn btn-mini btn-primary\" href=\"#\" title=\"Stop Interaction\"><i class=\"fa fa-power-off icon-remove icon-large\"></i></button>');\n",
       "    button.click(function (evt) { fig.handle_close(fig, {}); } );\n",
       "    button.mouseover('Stop Interaction', toolbar_mouse_event);\n",
       "    buttongrp.append(button);\n",
       "    var titlebar = this.root.find($('.ui-dialog-titlebar'));\n",
       "    titlebar.prepend(buttongrp);\n",
       "}\n",
       "\n",
       "mpl.figure.prototype._root_extra_style = function(el){\n",
       "    var fig = this\n",
       "    el.on(\"remove\", function(){\n",
       "\tfig.close_ws(fig, {});\n",
       "    });\n",
       "}\n",
       "\n",
       "mpl.figure.prototype._canvas_extra_style = function(el){\n",
       "    // this is important to make the div 'focusable\n",
       "    el.attr('tabindex', 0)\n",
       "    // reach out to IPython and tell the keyboard manager to turn it's self\n",
       "    // off when our div gets focus\n",
       "\n",
       "    // location in version 3\n",
       "    if (IPython.notebook.keyboard_manager) {\n",
       "        IPython.notebook.keyboard_manager.register_events(el);\n",
       "    }\n",
       "    else {\n",
       "        // location in version 2\n",
       "        IPython.keyboard_manager.register_events(el);\n",
       "    }\n",
       "\n",
       "}\n",
       "\n",
       "mpl.figure.prototype._key_event_extra = function(event, name) {\n",
       "    var manager = IPython.notebook.keyboard_manager;\n",
       "    if (!manager)\n",
       "        manager = IPython.keyboard_manager;\n",
       "\n",
       "    // Check for shift+enter\n",
       "    if (event.shiftKey && event.which == 13) {\n",
       "        this.canvas_div.blur();\n",
       "        // select the cell after this one\n",
       "        var index = IPython.notebook.find_cell_index(this.cell_info[0]);\n",
       "        IPython.notebook.select(index + 1);\n",
       "    }\n",
       "}\n",
       "\n",
       "mpl.figure.prototype.handle_save = function(fig, msg) {\n",
       "    fig.ondownload(fig, null);\n",
       "}\n",
       "\n",
       "\n",
       "mpl.find_output_cell = function(html_output) {\n",
       "    // Return the cell and output element which can be found *uniquely* in the notebook.\n",
       "    // Note - this is a bit hacky, but it is done because the \"notebook_saving.Notebook\"\n",
       "    // IPython event is triggered only after the cells have been serialised, which for\n",
       "    // our purposes (turning an active figure into a static one), is too late.\n",
       "    var cells = IPython.notebook.get_cells();\n",
       "    var ncells = cells.length;\n",
       "    for (var i=0; i<ncells; i++) {\n",
       "        var cell = cells[i];\n",
       "        if (cell.cell_type === 'code'){\n",
       "            for (var j=0; j<cell.output_area.outputs.length; j++) {\n",
       "                var data = cell.output_area.outputs[j];\n",
       "                if (data.data) {\n",
       "                    // IPython >= 3 moved mimebundle to data attribute of output\n",
       "                    data = data.data;\n",
       "                }\n",
       "                if (data['text/html'] == html_output) {\n",
       "                    return [cell, data, j];\n",
       "                }\n",
       "            }\n",
       "        }\n",
       "    }\n",
       "}\n",
       "\n",
       "// Register the function which deals with the matplotlib target/channel.\n",
       "// The kernel may be null if the page has been refreshed.\n",
       "if (IPython.notebook.kernel != null) {\n",
       "    IPython.notebook.kernel.comm_manager.register_target('matplotlib', mpl.mpl_figure_comm);\n",
       "}\n"
      ],
      "text/plain": [
       "<IPython.core.display.Javascript object>"
      ]
     },
     "metadata": {},
     "output_type": "display_data"
    },
    {
     "data": {
      "text/html": [
       "<img src=\"data:image/png;base64,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\" width=\"1000\">"
      ],
      "text/plain": [
       "<IPython.core.display.HTML object>"
      ]
     },
     "metadata": {},
     "output_type": "display_data"
    }
   ],
   "source": [
    "figure1 = plt.figure(figsize = (10, 5))\n",
    "subfigure1 = figure1.add_subplot(111)\n",
    "basemap1 = Basemap(projection='cyl', resolution = None, lon_0 = 0, lat_0 = 0)\n",
    "add_raster_to_map(basemap1, scientific_targets_array, 'Rasterized scientific targets')\n",
    "basemap1.drawmeridians(np.arange(0, 360, 30),labels=[False,False,False,True])\n",
    "basemap1.drawparallels(np.arange(-90, 91, 30),labels=[True,False,False,False])\n",
    "plt.show()"
   ]
  },
  {
   "cell_type": "markdown",
   "metadata": {},
   "source": [
    "We load the geological units from the geological map of Mars only once."
   ]
  },
  {
   "cell_type": "code",
   "execution_count": 221,
   "metadata": {
    "collapsed": false
   },
   "outputs": [
    {
     "name": "stdout",
     "output_type": "stream",
     "text": [
      " _______________________________________________________________________________\n",
      "/ Shapefile field names:\n",
      "| \n",
      "| OBJECTID | Shape_Leng | Shape_Area | Unit | UnitDesc | SphArea_km \n",
      "\\_______________________________________________________________________________\n"
     ]
    }
   ],
   "source": [
    "shapefile_geology = open_shapefile(base_folder + 'Original_Data/Interpreted_Data/SIM3292_MarsGlobalGeologicGIS_20M/SIM3292_Shapefiles/SIM3292_Global_Geology.shp')\n",
    "print_shapefile_field_names(shapefile_geology)"
   ]
  },
  {
   "cell_type": "code",
   "execution_count": 222,
   "metadata": {
    "collapsed": false
   },
   "outputs": [
    {
     "name": "stdout",
     "output_type": "stream",
     "text": [
      " _______________________________________________________________________________\n",
      "/ Unit:\n",
      "| \n",
      "| AHi | AHtu | AHv | ANa | Aa | Ap | Apu | Av | Ave | HNb | HNhu | HNt | Hp | Hpe | Hpu | Ht | Hto | Htu | Hve | Nhe | Nhu | Nve | eAb | eHb | eHh | eHt | eHv | eNh | eNhm | lAa | lApc | lApd | lAv | lAvf | lHb | lHl | lHt | lHv | lHvf | lNh | lNv | mAl | mNh | mNhm \n",
      "\\_______________________________________________________________________________\n"
     ]
    }
   ],
   "source": [
    "print_shapefile_unique_field_values(shapefile_geology, 'Unit')"
   ]
  },
  {
   "cell_type": "markdown",
   "metadata": {},
   "source": [
    "**Noachian-Hesperian contacts**\n",
    "\n",
    "ftp://pdsimage2.wr.usgs.gov/pub/pigpen/mars/geology\n",
    "\n",
    "Hesperian: lHl, AHi, Hp, Hpu, Hpe, eHb, lHb, eHv, lHv, lHvf, AHv, Hve, AHtu, Htu, lHt, eHt, Ht, Hto, eHh  \n",
    "Noachian: lNv, Nve, Nhu, eNh, mNh, lNh, Nhe, eNhm, mNhm  \n",
    "Noachian and Hesperian units: HNb, ANa, HNt, HNhu  "
   ]
  },
  {
   "cell_type": "markdown",
   "metadata": {},
   "source": [
    "We have to extract the contact between Hesperian and Noachian units."
   ]
  },
  {
   "cell_type": "code",
   "execution_count": 223,
   "metadata": {
    "collapsed": true
   },
   "outputs": [],
   "source": [
    "shapefile_hesperian_units = filter_shapefile(shapefile_geology,\n",
    "                                             'Unit', \n",
    "                                             ['lHl', 'AHi', 'Hp', 'Hpu', 'Hpe', 'eHb', 'lHb', 'eHv', 'lHv', 'lHvf',\n",
    "                                              'AHv', 'Hve', 'AHtu', 'Htu', 'lHt', 'eHt', 'Ht', 'Hto', 'eHh'])\n",
    "shapefile_noachian_units = filter_shapefile(shapefile_geology,\n",
    "                                            'Unit', \n",
    "                                            ['lNv', 'Nve', 'Nhu', 'eNh', 'mNh', 'lNh', 'Nhe', 'eNhm', 'mNhm'])"
   ]
  },
  {
   "cell_type": "code",
   "execution_count": 224,
   "metadata": {
    "collapsed": true
   },
   "outputs": [],
   "source": [
    "shapefile_hesperian_borders = get_shapefile_borders(shapefile_hesperian_units)\n",
    "shapefile_hesperian_borders = buffer_shapefile(shapefile_hesperian_borders, 1e-8)\n",
    "shapefile_noachian_borders = get_shapefile_borders(shapefile_noachian_units)"
   ]
  },
  {
   "cell_type": "code",
   "execution_count": 225,
   "metadata": {
    "collapsed": false
   },
   "outputs": [
    {
     "name": "stdout",
     "output_type": "stream",
     "text": [
      " _______________________________________________________________________________\n",
      "/ Shapefile field names:\n",
      "| \n",
      "\n",
      "\\_______________________________________________________________________________\n",
      " _______________________________________________________________________________\n",
      "/ Shapefile field names:\n",
      "| \n",
      "\n",
      "\\_______________________________________________________________________________\n"
     ]
    }
   ],
   "source": [
    "shapefile_hesperian_noachian_contacts = intersect_shapefiles(shapefile_hesperian_borders, \n",
    "                                                             shapefile_noachian_borders,\n",
    "                                                             geom_type = ogr.wkbLineString)\n",
    "shapefile_hesperian_noachian_units = filter_shapefile(shapefile_geology,\n",
    "                                                      'Unit', \n",
    "                                                      ['HNb', 'ANa', 'HNt', 'HNhu'])\n",
    "\n",
    "print_shapefile_field_names(shapefile_hesperian_noachian_contacts)\n",
    "print_shapefile_field_names(shapefile_hesperian_noachian_units)"
   ]
  },
  {
   "cell_type": "markdown",
   "metadata": {},
   "source": [
    "Rasterize the initial vector data at 20 ppd and perform the fast marching."
   ]
  },
  {
   "cell_type": "code",
   "execution_count": 226,
   "metadata": {
    "collapsed": true
   },
   "outputs": [],
   "source": [
    "projection = shapefile_hesperian_noachian_contacts.GetLayer().GetSpatialRef().ExportToWkt()\n",
    "data_type = gdal.GDT_Int32\n",
    "\n",
    "raster_rasterization = rasterize_shapefile(shapefile_hesperian_noachian_contacts, \n",
    "                                           None,\n",
    "                                           data_type,\n",
    "                                           master_width, \n",
    "                                           master_height,                    \n",
    "                                           master_geotransform, \n",
    "                                           projection)\n",
    "raster_rasterization_array = get_raster_array(raster_rasterization)\n",
    "\n",
    "projection = shapefile_hesperian_noachian_units.GetLayer().GetSpatialRef().ExportToWkt()\n",
    "\n",
    "raster_rasterization_part2 = rasterize_shapefile(shapefile_hesperian_noachian_units, \n",
    "                                                 None,\n",
    "                                                 data_type,\n",
    "                                                 master_width, \n",
    "                                                 master_height,                    \n",
    "                                                 master_geotransform, \n",
    "                                                 projection)\n",
    "raster_rasterization_part2_array = get_raster_array(raster_rasterization_part2)\n",
    "\n",
    "raster_rasterization_array[(raster_rasterization_part2_array == 0) & (scientific_targets_array == 0)] = 0"
   ]
  },
  {
   "cell_type": "code",
   "execution_count": 227,
   "metadata": {
    "collapsed": false
   },
   "outputs": [
    {
     "name": "stdout",
     "output_type": "stream",
     "text": [
      "CPU times: user 9min 53s, sys: 12.3 s, total: 10min 6s\n",
      "Wall time: 9min 51s\n"
     ]
    }
   ],
   "source": [
    "%%time\n",
    "\n",
    "traverse_array = run_fast_marching(raster_rasterization_array,\n",
    "                                   raster_rover_speed_array,\n",
    "                                   longitude_array,\n",
    "                                   latitude_array,\n",
    "                                   mars_radius)"
   ]
  },
  {
   "cell_type": "markdown",
   "metadata": {},
   "source": [
    "Export the map to a .tif file."
   ]
  },
  {
   "cell_type": "code",
   "execution_count": 228,
   "metadata": {
    "collapsed": true
   },
   "outputs": [],
   "source": [
    "data_name = 'Hesperian_Noachian_Contacts_Targets_Units'\n",
    "\n",
    "file_path = base_folder + output_folder + 'Interpreted_Data_Traverse_to_' + data_name + speed_affix + '.tif'\n",
    "raster_traverse = create_raster_from_array(traverse_array,           \n",
    "                                           master_geotransform, \n",
    "                                           master_projection,\n",
    "                                           file_type = 'GTiff',\n",
    "                                           file_path = file_path)\n",
    "raster_traverse = None"
   ]
  },
  {
   "cell_type": "markdown",
   "metadata": {},
   "source": [
    "**Early to Middle Noachian units**\n",
    "\n",
    "ftp://pdsimage2.wr.usgs.gov/pub/pigpen/mars/geology\n",
    "\n",
    "eNh, mNh, eNhm, mNhm"
   ]
  },
  {
   "cell_type": "markdown",
   "metadata": {},
   "source": [
    "Rasterize the initial vector data at 20 ppd and perform the fast marching."
   ]
  },
  {
   "cell_type": "code",
   "execution_count": 229,
   "metadata": {
    "collapsed": false
   },
   "outputs": [
    {
     "name": "stdout",
     "output_type": "stream",
     "text": [
      " _______________________________________________________________________________\n",
      "/ Shapefile field names:\n",
      "| \n",
      "\n",
      "\\_______________________________________________________________________________\n"
     ]
    }
   ],
   "source": [
    "shapefile_early_middle_noachian_units = filter_shapefile(shapefile_geology,\n",
    "                                                         'Unit', \n",
    "                                                         ['eNh', 'mNh', 'eNhm', 'mNhm'])\n",
    "print_shapefile_field_names(shapefile_early_middle_noachian_units)"
   ]
  },
  {
   "cell_type": "code",
   "execution_count": 230,
   "metadata": {
    "collapsed": true
   },
   "outputs": [],
   "source": [
    "projection = shapefile_early_middle_noachian_units.GetLayer().GetSpatialRef().ExportToWkt()\n",
    "data_type = gdal.GDT_Int32\n",
    "\n",
    "raster_rasterization = rasterize_shapefile(shapefile_early_middle_noachian_units, \n",
    "                                           None,\n",
    "                                           data_type,\n",
    "                                           master_width, \n",
    "                                           master_height,                    \n",
    "                                           master_geotransform, \n",
    "                                           projection)\n",
    "raster_rasterization_array = get_raster_array(raster_rasterization)\n",
    "\n",
    "raster_rasterization_array[scientific_targets_array == 1] = 1"
   ]
  },
  {
   "cell_type": "code",
   "execution_count": 231,
   "metadata": {
    "collapsed": false
   },
   "outputs": [
    {
     "name": "stdout",
     "output_type": "stream",
     "text": [
      "CPU times: user 10min 8s, sys: 11.7 s, total: 10min 20s\n",
      "Wall time: 10min 7s\n"
     ]
    }
   ],
   "source": [
    "%%time\n",
    "\n",
    "traverse_array = run_fast_marching(raster_rasterization_array,\n",
    "                                   raster_rover_speed_array,\n",
    "                                   longitude_array,\n",
    "                                   latitude_array,\n",
    "                                   mars_radius)"
   ]
  },
  {
   "cell_type": "markdown",
   "metadata": {},
   "source": [
    "Export the map to a .tif file."
   ]
  },
  {
   "cell_type": "code",
   "execution_count": 232,
   "metadata": {
    "collapsed": true
   },
   "outputs": [],
   "source": [
    "data_name = 'Early_Middle_Noachian_Targets_Units'\n",
    "\n",
    "file_path = base_folder + output_folder + 'Interpreted_Data_Traverse_to_' + data_name + speed_affix + '.tif'\n",
    "raster_traverse = create_raster_from_array(traverse_array,           \n",
    "                                           master_geotransform, \n",
    "                                           master_projection,\n",
    "                                           file_type = 'GTiff',\n",
    "                                           file_path = file_path)\n",
    "raster_traverse = None"
   ]
  },
  {
   "cell_type": "markdown",
   "metadata": {},
   "source": [
    "## Volcanic units"
   ]
  },
  {
   "cell_type": "markdown",
   "metadata": {},
   "source": [
    "We use the volcanic units to counterbalance the absence of large-scale outcrop study of magmatic rocks. But similarly to the time constraints, the units can have a large extent without necessary implying an outcrop of interest. Thus, we do the same intersection with all the other targets."
   ]
  },
  {
   "cell_type": "markdown",
   "metadata": {},
   "source": [
    "**Amazonian to Hesperian volcanic units**\n",
    "\n",
    "ftp://pdsimage2.wr.usgs.gov/pub/pigpen/mars/geology\n",
    "\n",
    "lAv, lHv, eHv, lAvf, Av, lHvf, AHv, Hve, Ave"
   ]
  },
  {
   "cell_type": "markdown",
   "metadata": {},
   "source": [
    "Rasterize the initial vector data at 20 ppd and perform the fast marching."
   ]
  },
  {
   "cell_type": "code",
   "execution_count": 233,
   "metadata": {
    "collapsed": false
   },
   "outputs": [
    {
     "name": "stdout",
     "output_type": "stream",
     "text": [
      " _______________________________________________________________________________\n",
      "/ Shapefile field names:\n",
      "| \n",
      "\n",
      "\\_______________________________________________________________________________\n"
     ]
    }
   ],
   "source": [
    "shapefile_amazonian_hesperian_volcanic_units = filter_shapefile(shapefile_geology,\n",
    "                                                                'Unit', \n",
    "                                                                ['lAv', 'lHv', 'eHv', 'lAvf', 'Av', 'lHvf', 'AHv', 'Hve', 'Ave'])\n",
    "print_shapefile_field_names(shapefile_amazonian_hesperian_volcanic_units)"
   ]
  },
  {
   "cell_type": "code",
   "execution_count": 234,
   "metadata": {
    "collapsed": true
   },
   "outputs": [],
   "source": [
    "projection = shapefile_amazonian_hesperian_volcanic_units.GetLayer().GetSpatialRef().ExportToWkt()\n",
    "data_type = gdal.GDT_Int32\n",
    "\n",
    "raster_rasterization = rasterize_shapefile(shapefile_amazonian_hesperian_volcanic_units, \n",
    "                                           None,\n",
    "                                           data_type,\n",
    "                                           master_width, \n",
    "                                           master_height,                    \n",
    "                                           master_geotransform, \n",
    "                                           projection)\n",
    "raster_rasterization_array = get_raster_array(raster_rasterization)\n",
    "\n",
    "raster_rasterization_array[scientific_targets_array == 1] = 1"
   ]
  },
  {
   "cell_type": "code",
   "execution_count": 235,
   "metadata": {
    "collapsed": false
   },
   "outputs": [
    {
     "name": "stdout",
     "output_type": "stream",
     "text": [
      "CPU times: user 9min 5s, sys: 12.2 s, total: 9min 17s\n",
      "Wall time: 9min 3s\n"
     ]
    }
   ],
   "source": [
    "%%time\n",
    "\n",
    "traverse_array = run_fast_marching(raster_rasterization_array,\n",
    "                                   raster_rover_speed_array,\n",
    "                                   longitude_array,\n",
    "                                   latitude_array,\n",
    "                                   mars_radius)"
   ]
  },
  {
   "cell_type": "markdown",
   "metadata": {},
   "source": [
    "Export the map to a .tif file."
   ]
  },
  {
   "cell_type": "code",
   "execution_count": 236,
   "metadata": {
    "collapsed": true
   },
   "outputs": [],
   "source": [
    "data_name = 'Amazonian_Hesperian_Volcanic_Targets_Units'\n",
    "\n",
    "file_path = base_folder + output_folder + 'Interpreted_Data_Traverse_to_' + data_name + speed_affix + '.tif'\n",
    "raster_traverse = create_raster_from_array(traverse_array,           \n",
    "                                           master_geotransform, \n",
    "                                           master_projection,\n",
    "                                           file_type = 'GTiff',\n",
    "                                           file_path = file_path)\n",
    "raster_traverse = None"
   ]
  },
  {
   "cell_type": "markdown",
   "metadata": {},
   "source": [
    "**Noachian volcanic units**\n",
    "\n",
    "ftp://pdsimage2.wr.usgs.gov/pub/pigpen/mars/geology\n",
    "\n",
    "lNv, Nve, Nhe"
   ]
  },
  {
   "cell_type": "markdown",
   "metadata": {},
   "source": [
    "Rasterize the initial vector data at 20 ppd and perform the fast marching."
   ]
  },
  {
   "cell_type": "code",
   "execution_count": 237,
   "metadata": {
    "collapsed": false
   },
   "outputs": [
    {
     "name": "stdout",
     "output_type": "stream",
     "text": [
      " _______________________________________________________________________________\n",
      "/ Shapefile field names:\n",
      "| \n",
      "\n",
      "\\_______________________________________________________________________________\n"
     ]
    }
   ],
   "source": [
    "shapefile_noachian_volcanic_units = filter_shapefile(shapefile_geology,\n",
    "                                                     'Unit', \n",
    "                                                     ['lNv', 'Nve', 'Nhe'])\n",
    "print_shapefile_field_names(shapefile_noachian_volcanic_units)"
   ]
  },
  {
   "cell_type": "code",
   "execution_count": 238,
   "metadata": {
    "collapsed": true
   },
   "outputs": [],
   "source": [
    "projection = shapefile_noachian_volcanic_units.GetLayer().GetSpatialRef().ExportToWkt()\n",
    "data_type = gdal.GDT_Int32\n",
    "\n",
    "raster_rasterization = rasterize_shapefile(shapefile_noachian_volcanic_units, \n",
    "                                           None,\n",
    "                                           data_type,\n",
    "                                           master_width, \n",
    "                                           master_height,                    \n",
    "                                           master_geotransform, \n",
    "                                           projection)\n",
    "raster_rasterization_array = get_raster_array(raster_rasterization)\n",
    "\n",
    "raster_rasterization_array[scientific_targets_array == 1] = 1"
   ]
  },
  {
   "cell_type": "code",
   "execution_count": 239,
   "metadata": {
    "collapsed": false
   },
   "outputs": [
    {
     "name": "stdout",
     "output_type": "stream",
     "text": [
      "CPU times: user 8min 29s, sys: 13.7 s, total: 8min 43s\n",
      "Wall time: 8min 27s\n"
     ]
    }
   ],
   "source": [
    "%%time\n",
    "\n",
    "traverse_array = run_fast_marching(raster_rasterization_array,\n",
    "                                   raster_rover_speed_array,\n",
    "                                   longitude_array,\n",
    "                                   latitude_array,\n",
    "                                   mars_radius)"
   ]
  },
  {
   "cell_type": "markdown",
   "metadata": {},
   "source": [
    "Export the map to a .tif file."
   ]
  },
  {
   "cell_type": "code",
   "execution_count": 240,
   "metadata": {
    "collapsed": true
   },
   "outputs": [],
   "source": [
    "data_name = 'Noachian_Volcanic_Targets_Units'\n",
    "\n",
    "file_path = base_folder + output_folder + 'Interpreted_Data_Traverse_to_' + data_name + speed_affix + '.tif'\n",
    "raster_traverse = create_raster_from_array(traverse_array,           \n",
    "                                           master_geotransform, \n",
    "                                           master_projection,\n",
    "                                           file_type = 'GTiff',\n",
    "                                           file_path = file_path)\n",
    "raster_traverse = None"
   ]
  }
 ],
 "metadata": {
  "anaconda-cloud": {},
  "kernelspec": {
   "display_name": "Python [default]",
   "language": "python",
   "name": "python3"
  },
  "language_info": {
   "codemirror_mode": {
    "name": "ipython",
    "version": 3
   },
   "file_extension": ".py",
   "mimetype": "text/x-python",
   "name": "python",
   "nbconvert_exporter": "python",
   "pygments_lexer": "ipython3",
   "version": "3.5.4"
  }
 },
 "nbformat": 4,
 "nbformat_minor": 1
}
